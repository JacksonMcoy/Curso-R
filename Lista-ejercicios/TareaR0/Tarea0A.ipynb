{
 "cells": [
  {
   "cell_type": "markdown",
   "metadata": {},
   "source": [
    "# Curso de Laboratorio R"
   ]
  },
  {
   "cell_type": "markdown",
   "metadata": {},
   "source": [
    "## Envío de la tarea\n",
    "\n",
    "* Crea un archivo de Markdown que incluya y tus respuestas y el código que utilizó para llegar a esas respuestas.\n",
    "* Agrega este archivo Markdown  al repositorio  junto con el código a GitHub que usaras para todas sus tareas."
   ]
  },
  {
   "cell_type": "markdown",
   "metadata": {},
   "source": [
    "## Lista de ejercicios "
   ]
  },
  {
   "cell_type": "markdown",
   "metadata": {},
   "source": [
    "1 .Experimenta con los siguientes comandos e interpreta los resultados:\n",
    "\n",
    "```\n",
    "echo hello world\n",
    "passwd\n",
    "date\n",
    "hostname\n",
    "arch\n",
    "uname -a\n",
    "dmesg | more\n",
    "uptime\n",
    "who am i\n",
    "who\n",
    "id\n",
    "last\n",
    "finger\n",
    "w\n",
    "top \n",
    "```"
   ]
  },
  {
   "cell_type": "markdown",
   "metadata": {
    "collapsed": true
   },
   "source": [
    "2 . Realiza las siguientes actividades:\n",
    "\n",
    "* Crea dos  directorios llamados **a1** y **a2** en el directorio `/home`.\n",
    "* Copia el archivo `/etc/passwd` al directorio **a1** y escribe las primeras 30 lineas del archivo [http://lifehacker.com/5633909/who-needs-a-mouse-learn-to-use-the-command-line-for-almost-anything](http://lifehacker.com/5633909/who-needs-a-mouse-learn-to-use-the-command-line-for-almost-anything) al directorio **a2**.\n",
    "* Usa `find` para mostrar los nombres  de todos los archivos en árbol de directorios de `/home`. \n",
    "* Usa `locate`para encontrar todos los nombres de archivos que contengan la palabra **commands** en el árbol de directorios de `/home`.\n",
    "* Utilice `find` y  `grep ` y `sort` para mostrar una lista ordenada de todos los archivos en  todos los subdirectorios  de `/ home` que contienen la palabra `commands , R, Pythom` en algún lugar dentro de ellos.\n"
   ]
  },
  {
   "cell_type": "markdown",
   "metadata": {},
   "source": [
    "3 .Ejecuta el siguiente script y explica que es lo que hace.\n",
    "\n",
    "```bash\n",
    "#!/bin/sh\n",
    "for f in $*\n",
    "do\n",
    "  if [ -f  $f -a  ! -x  $f ]\n",
    "  then\n",
    "    case $f in\n",
    "    core)\n",
    "      echo \"$f: archivo de memoria\"\n",
    "      ;;\n",
    "    *.c)\n",
    "     echo \"$f: un programa en C\"\n",
    "      ;;\n",
    "    *.cpp|*.cc|*.cxx)\n",
    "      echo \"$f: un programa en C+\"\n",
    "      ;;\n",
    "    *.txt)\n",
    "      echo \"$f: un archivo de texto\"\n",
    "      ;;\n",
    "    *.pl)\n",
    "      echo \"$f: un script de Perl\"\n",
    "      ;;\n",
    "    *.html|*.htm)\n",
    "      echo \"$f: un documento web\"\n",
    "      ;;\n",
    "    *)\n",
    "      echo \"$f: aparece ser  \"`file -b $f`\n",
    "      ;;\n",
    "    esac\n",
    "  fi\n",
    "done\n",
    "```"
   ]
  },
  {
   "cell_type": "markdown",
   "metadata": {},
   "source": [
    "4 . Sigue los siguientes pasos para ejecutar el siguiente script llamado **bash_script**:\n",
    "\n",
    "```bash\n",
    "#!/bin/sh\n",
    "# este es un comentario\n",
    "echo \"El numero de argumentos es  $#\"\n",
    "echo \"Los argumentos son $*\"\n",
    "echo \"El primero es $1\"\n",
    "echo \"Mi numero de proceso es  $$\"\n",
    "echo \"Ingresa un numero desde el teclado: \"\n",
    "read numero\n",
    "echo \"El numero que has ingresado es $numero\" \n",
    "```\n",
    "Para ejecutar el script se realiza lo siguiente:\n",
    "\n",
    "```bash\n",
    "ls -l bash_script\n",
    "chmod +x bash_script\n",
    "ls -l bash_script\n",
    "./bash_script hola a todos\n",
    "\n",
    "```"
   ]
  },
  {
   "cell_type": "markdown",
   "metadata": {},
   "source": [
    "5 . Prueba en secuencia los siguientes comandos y explica tus pasos\n",
    "\n",
    "```bash\n",
    "    cd\n",
    "    pwd\n",
    "    ls -al\n",
    "    cd .\n",
    "    pwd     (donde te encuentras?)\n",
    "    cd ..\n",
    "    pwd\n",
    "    ls -al\n",
    "    cd ..\n",
    "    pwd\n",
    "    ls -al\n",
    "    cd ..\n",
    "    pwd     (que ocurre ahora)\n",
    "    cd /etc\n",
    "    ls -al | more\n",
    "    cat passwd\n",
    "    cd -\n",
    "    pwd\n",
    "```"
   ]
  },
  {
   "cell_type": "markdown",
   "metadata": {},
   "source": [
    "6 . Revisa el archivo **chipotle.tsv** dentro del repositorio del curso, en la carpeta donde se aloja esta tarea. Piensa un minuto en cómo se estructuran los datos. ¿Qué crees que significa cada columna? ¿Qué crees que significa cada fila?. Responde las siguientes preguntas.\n",
    "\n",
    "\n",
    "* ¿Cuántas órdenes aparecen en el archivo?\n",
    "\n",
    "\n",
    "* ¿Cuántas líneas hay en este archivo?\n",
    "\n",
    "\n",
    "* ¿Qué burrito es más popular, el de carne o pollo?\n",
    "\n",
    "\n",
    "* ¿Los burritos de pollo tienen más frecuentemente frijoles negros o frijoles pintos?\n",
    "\n",
    "\n",
    "* Haga una lista de todos los archivos CSV o TSV en el repositorio del curso (usando un solo comando). Piense en cómo los caracteres comodín pueden ayudarte con esta tarea. Cuente el número aproximado de apariciones de la palabra \"dictionary\" (independientemente del caso) en todos los archivos del repositorio del curso."
   ]
  },
  {
   "cell_type": "code",
   "execution_count": null,
   "metadata": {
    "collapsed": true
   },
   "outputs": [],
   "source": []
  }
 ],
 "metadata": {
  "kernelspec": {
   "display_name": "Bash",
   "language": "bash",
   "name": "bash"
  },
  "language_info": {
   "codemirror_mode": "shell",
   "file_extension": ".sh",
   "mimetype": "text/x-sh",
   "name": "bash"
  }
 },
 "nbformat": 4,
 "nbformat_minor": 2
}
