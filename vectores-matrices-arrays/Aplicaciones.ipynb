{
 "cells": [
  {
   "cell_type": "markdown",
   "metadata": {},
   "source": [
    "###  Aplicaciones y ejemplos de vectores y matrices\n",
    "\n",
    "\n",
    "Ejemplo de la matriz de covarianza, dado por [Norman Matloff](http://heather.cs.ucdavis.edu/matloff.html) y del fantástico [Art of R Programming: A Tour of Statistical Software Design](https://www.nostarch.com/artofr.htm)."
   ]
  },
  {
   "cell_type": "code",
   "execution_count": 2,
   "metadata": {
    "collapsed": false
   },
   "outputs": [
    {
     "data": {
      "text/html": [
       "<table>\n",
       "<tbody>\n",
       "\t<tr><td>1.0</td><td>0.2</td><td>0.2</td></tr>\n",
       "\t<tr><td>0.2</td><td>1.0</td><td>0.2</td></tr>\n",
       "\t<tr><td>0.2</td><td>0.2</td><td>1.0</td></tr>\n",
       "</tbody>\n",
       "</table>\n"
      ],
      "text/latex": [
       "\\begin{tabular}{lll}\n",
       "\t 1.0 & 0.2 & 0.2\\\\\n",
       "\t 0.2 & 1.0 & 0.2\\\\\n",
       "\t 0.2 & 0.2 & 1.0\\\\\n",
       "\\end{tabular}\n"
      ],
      "text/markdown": [
       "\n",
       "| 1.0 | 0.2 | 0.2 | \n",
       "| 0.2 | 1.0 | 0.2 | \n",
       "| 0.2 | 0.2 | 1.0 | \n",
       "\n",
       "\n"
      ],
      "text/plain": [
       "     [,1] [,2] [,3]\n",
       "[1,] 1.0  0.2  0.2 \n",
       "[2,] 0.2  1.0  0.2 \n",
       "[3,] 0.2  0.2  1.0 "
      ]
     },
     "metadata": {},
     "output_type": "display_data"
    }
   ],
   "source": [
    "# Usando las funciones row() y col() cuyos argumentos son matrices\n",
    "\n",
    "matrizcoV <- function(rho,n) {\n",
    "    m <- matrix(nrow=n,ncol=n)\n",
    "    m <- ifelse(row(m) == col(m),1,rho) \n",
    "    return(m)\n",
    "}\n",
    "matrizcoV(0.2,3)"
   ]
  },
  {
   "cell_type": "markdown",
   "metadata": {},
   "source": [
    "Una práctica común en R es el de  visualizar la dimensionalidad de los datos. Los datos siguientes representan las cifras iniciales en la verificación de una oficial de reembolso de seguro, cuando un auditor financiero, le pidió investigar por fraude.\n",
    "\n"
   ]
  },
  {
   "cell_type": "code",
   "execution_count": 3,
   "metadata": {
    "collapsed": false
   },
   "outputs": [
    {
     "data": {
      "text/html": [
       "<ol class=list-inline>\n",
       "\t<li>1</li>\n",
       "\t<li>132</li>\n",
       "\t<li>86.7</li>\n",
       "\t<li>2</li>\n",
       "\t<li>50</li>\n",
       "\t<li>50.7</li>\n",
       "\t<li>3</li>\n",
       "\t<li>32</li>\n",
       "\t<li>36</li>\n",
       "\t<li>4</li>\n",
       "\t<li>20</li>\n",
       "\t<li>27.9</li>\n",
       "\t<li>5</li>\n",
       "\t<li>19</li>\n",
       "\t<li>22.8</li>\n",
       "\t<li>6</li>\n",
       "\t<li>11</li>\n",
       "\t<li>19.3</li>\n",
       "\t<li>7</li>\n",
       "\t<li>10</li>\n",
       "\t<li>16.7</li>\n",
       "\t<li>8</li>\n",
       "\t<li>9</li>\n",
       "\t<li>14.7</li>\n",
       "\t<li>9</li>\n",
       "\t<li>5</li>\n",
       "\t<li>13.2</li>\n",
       "</ol>\n"
      ],
      "text/latex": [
       "\\begin{enumerate*}\n",
       "\\item 1\n",
       "\\item 132\n",
       "\\item 86.7\n",
       "\\item 2\n",
       "\\item 50\n",
       "\\item 50.7\n",
       "\\item 3\n",
       "\\item 32\n",
       "\\item 36\n",
       "\\item 4\n",
       "\\item 20\n",
       "\\item 27.9\n",
       "\\item 5\n",
       "\\item 19\n",
       "\\item 22.8\n",
       "\\item 6\n",
       "\\item 11\n",
       "\\item 19.3\n",
       "\\item 7\n",
       "\\item 10\n",
       "\\item 16.7\n",
       "\\item 8\n",
       "\\item 9\n",
       "\\item 14.7\n",
       "\\item 9\n",
       "\\item 5\n",
       "\\item 13.2\n",
       "\\end{enumerate*}\n"
      ],
      "text/markdown": [
       "1. 1\n",
       "2. 132\n",
       "3. 86.7\n",
       "4. 2\n",
       "5. 50\n",
       "6. 50.7\n",
       "7. 3\n",
       "8. 32\n",
       "9. 36\n",
       "10. 4\n",
       "11. 20\n",
       "12. 27.9\n",
       "13. 5\n",
       "14. 19\n",
       "15. 22.8\n",
       "16. 6\n",
       "17. 11\n",
       "18. 19.3\n",
       "19. 7\n",
       "20. 10\n",
       "21. 16.7\n",
       "22. 8\n",
       "23. 9\n",
       "24. 14.7\n",
       "25. 9\n",
       "26. 5\n",
       "27. 13.2\n",
       "\n",
       "\n"
      ],
      "text/plain": [
       " [1]   1.0 132.0  86.7   2.0  50.0  50.7   3.0  32.0  36.0   4.0  20.0  27.9\n",
       "[13]   5.0  19.0  22.8   6.0  11.0  19.3   7.0  10.0  16.7   8.0   9.0  14.7\n",
       "[25]   9.0   5.0  13.2"
      ]
     },
     "metadata": {},
     "output_type": "display_data"
    }
   ],
   "source": [
    "accdato <- c(1, 132, 86.7,\n",
    "            2, 50, 50.7,\n",
    "            3, 32, 36.0,\n",
    "            4, 20, 27.9,\n",
    "            5, 19, 22.8,\n",
    "            6, 11, 19.3,\n",
    "            7, 10, 16.7,\n",
    "            8, 9, 14.7,\n",
    "            9, 5, 13.2)\n",
    "accdato"
   ]
  },
  {
   "cell_type": "markdown",
   "metadata": {},
   "source": [
    "Acomodamos mejor el vector, como una matriz `9x3`  cuyas columnas se llaman `numero`, `actual`, `v_esperado`:"
   ]
  },
  {
   "cell_type": "code",
   "execution_count": 4,
   "metadata": {
    "collapsed": false
   },
   "outputs": [
    {
     "data": {
      "text/html": [
       "<table>\n",
       "<thead><tr><th scope=col>numero</th><th scope=col>actual</th><th scope=col>v_esperado</th></tr></thead>\n",
       "<tbody>\n",
       "\t<tr><td>1   </td><td>132 </td><td>86.7</td></tr>\n",
       "\t<tr><td>2   </td><td> 50 </td><td>50.7</td></tr>\n",
       "\t<tr><td>3   </td><td> 32 </td><td>36.0</td></tr>\n",
       "\t<tr><td>4   </td><td> 20 </td><td>27.9</td></tr>\n",
       "\t<tr><td>5   </td><td> 19 </td><td>22.8</td></tr>\n",
       "\t<tr><td>6   </td><td> 11 </td><td>19.3</td></tr>\n",
       "\t<tr><td>7   </td><td> 10 </td><td>16.7</td></tr>\n",
       "\t<tr><td>8   </td><td>  9 </td><td>14.7</td></tr>\n",
       "\t<tr><td>9   </td><td>  5 </td><td>13.2</td></tr>\n",
       "</tbody>\n",
       "</table>\n"
      ],
      "text/latex": [
       "\\begin{tabular}{lll}\n",
       " numero & actual & v\\_esperado\\\\\n",
       "\\hline\n",
       "\t 1    & 132  & 86.7\\\\\n",
       "\t 2    &  50  & 50.7\\\\\n",
       "\t 3    &  32  & 36.0\\\\\n",
       "\t 4    &  20  & 27.9\\\\\n",
       "\t 5    &  19  & 22.8\\\\\n",
       "\t 6    &  11  & 19.3\\\\\n",
       "\t 7    &  10  & 16.7\\\\\n",
       "\t 8    &   9  & 14.7\\\\\n",
       "\t 9    &   5  & 13.2\\\\\n",
       "\\end{tabular}\n"
      ],
      "text/markdown": [
       "\n",
       "numero | actual | v_esperado | \n",
       "|---|---|---|---|---|---|---|---|---|\n",
       "| 1    | 132  | 86.7 | \n",
       "| 2    |  50  | 50.7 | \n",
       "| 3    |  32  | 36.0 | \n",
       "| 4    |  20  | 27.9 | \n",
       "| 5    |  19  | 22.8 | \n",
       "| 6    |  11  | 19.3 | \n",
       "| 7    |  10  | 16.7 | \n",
       "| 8    |   9  | 14.7 | \n",
       "| 9    |   5  | 13.2 | \n",
       "\n",
       "\n"
      ],
      "text/plain": [
       "      numero actual v_esperado\n",
       " [1,] 1      132    86.7      \n",
       " [2,] 2       50    50.7      \n",
       " [3,] 3       32    36.0      \n",
       " [4,] 4       20    27.9      \n",
       " [5,] 5       19    22.8      \n",
       " [6,] 6       11    19.3      \n",
       " [7,] 7       10    16.7      \n",
       " [8,] 8        9    14.7      \n",
       " [9,] 9        5    13.2      "
      ]
     },
     "metadata": {},
     "output_type": "display_data"
    }
   ],
   "source": [
    "accdato <- matrix(accdato, 9, 3, byrow = TRUE)\n",
    "colnames(accdato) <- c(\"numero\", \"actual\", \"v_esperado\")\n",
    "accdato"
   ]
  },
  {
   "cell_type": "markdown",
   "metadata": {},
   "source": [
    "Podemos ahora usar el test de *chi-cuadrado* para averiguar si es que ha habido un fraude, a través de la desviación significativa o no de los datos reales y de los esperados. Escribamos el test para estos datos:"
   ]
  },
  {
   "cell_type": "code",
   "execution_count": 5,
   "metadata": {
    "collapsed": false
   },
   "outputs": [
    {
     "data": {
      "text/html": [
       "40.5548156457511"
      ],
      "text/latex": [
       "40.5548156457511"
      ],
      "text/markdown": [
       "40.5548156457511"
      ],
      "text/plain": [
       "[1] 40.55482"
      ]
     },
     "metadata": {},
     "output_type": "display_data"
    }
   ],
   "source": [
    "chi2 <-sum((accdato[,2] -accdato[,3])^2/accdato[,3])\n",
    "chi2"
   ]
  },
  {
   "cell_type": "markdown",
   "metadata": {},
   "source": [
    "¿ Habrá habido fraude...?"
   ]
  },
  {
   "cell_type": "markdown",
   "metadata": {},
   "source": [
    "El poder de las matrices en R, ocurre cuando realizamos operaciones (multiplicación, inversión, transposición, etc) comunes de  matrices y sus respectivas restricciones:\n"
   ]
  },
  {
   "cell_type": "code",
   "execution_count": 6,
   "metadata": {
    "collapsed": false
   },
   "outputs": [
    {
     "data": {
      "text/html": [
       "<table>\n",
       "<tbody>\n",
       "\t<tr><td>-1</td><td>14</td><td> 6</td><td>13</td></tr>\n",
       "\t<tr><td> 6</td><td>-6</td><td> 2</td><td> 0</td></tr>\n",
       "\t<tr><td>19</td><td> 2</td><td>-5</td><td> 3</td></tr>\n",
       "</tbody>\n",
       "</table>\n"
      ],
      "text/latex": [
       "\\begin{tabular}{llll}\n",
       "\t -1 & 14 &  6 & 13\\\\\n",
       "\t  6 & -6 &  2 &  0\\\\\n",
       "\t 19 &  2 & -5 &  3\\\\\n",
       "\\end{tabular}\n"
      ],
      "text/markdown": [
       "\n",
       "| -1 | 14 |  6 | 13 | \n",
       "|  6 | -6 |  2 |  0 | \n",
       "| 19 |  2 | -5 |  3 | \n",
       "\n",
       "\n"
      ],
      "text/plain": [
       "     [,1] [,2] [,3] [,4]\n",
       "[1,] -1   14    6   13  \n",
       "[2,]  6   -6    2    0  \n",
       "[3,] 19    2   -5    3  "
      ]
     },
     "metadata": {},
     "output_type": "display_data"
    },
    {
     "data": {
      "text/html": [
       "<table>\n",
       "<tbody>\n",
       "\t<tr><td>13 </td><td>-10</td><td> 0 </td><td> -5</td></tr>\n",
       "\t<tr><td>-6 </td><td>-10</td><td> 2 </td><td>  2</td></tr>\n",
       "\t<tr><td>-3 </td><td> -8</td><td>19 </td><td>-13</td></tr>\n",
       "</tbody>\n",
       "</table>\n"
      ],
      "text/latex": [
       "\\begin{tabular}{llll}\n",
       "\t 13  & -10 &  0  &  -5\\\\\n",
       "\t -6  & -10 &  2  &   2\\\\\n",
       "\t -3  &  -8 & 19  & -13\\\\\n",
       "\\end{tabular}\n"
      ],
      "text/markdown": [
       "\n",
       "| 13  | -10 |  0  |  -5 | \n",
       "| -6  | -10 |  2  |   2 | \n",
       "| -3  |  -8 | 19  | -13 | \n",
       "\n",
       "\n"
      ],
      "text/plain": [
       "     [,1] [,2] [,3] [,4]\n",
       "[1,] 13   -10   0    -5 \n",
       "[2,] -6   -10   2     2 \n",
       "[3,] -3    -8  19   -13 "
      ]
     },
     "metadata": {},
     "output_type": "display_data"
    }
   ],
   "source": [
    "A <- matrix(c(6,2,3, 4,\n",
    "             0, -8,2, 1,\n",
    "             8, -3, 7, -5),3, 4, byrow = TRUE)\n",
    "B <- matrix(c(-7,12,3, 9,\n",
    "             6, 2, 0, -1,\n",
    "             11, 5, -12, 8),3, 4, byrow = TRUE)\n",
    "A+B\n",
    "A-B"
   ]
  },
  {
   "cell_type": "code",
   "execution_count": 7,
   "metadata": {
    "collapsed": false
   },
   "outputs": [
    {
     "data": {
      "text/html": [
       "<table>\n",
       "<tbody>\n",
       "\t<tr><td>-42</td><td> 24</td><td>  9</td><td> 36</td></tr>\n",
       "\t<tr><td>  0</td><td>-16</td><td>  0</td><td> -1</td></tr>\n",
       "\t<tr><td> 88</td><td>-15</td><td>-84</td><td>-40</td></tr>\n",
       "</tbody>\n",
       "</table>\n"
      ],
      "text/latex": [
       "\\begin{tabular}{llll}\n",
       "\t -42 &  24 &   9 &  36\\\\\n",
       "\t   0 & -16 &   0 &  -1\\\\\n",
       "\t  88 & -15 & -84 & -40\\\\\n",
       "\\end{tabular}\n"
      ],
      "text/markdown": [
       "\n",
       "| -42 |  24 |   9 |  36 | \n",
       "|   0 | -16 |   0 |  -1 | \n",
       "|  88 | -15 | -84 | -40 | \n",
       "\n",
       "\n"
      ],
      "text/plain": [
       "     [,1] [,2] [,3] [,4]\n",
       "[1,] -42   24    9   36 \n",
       "[2,]   0  -16    0   -1 \n",
       "[3,]  88  -15  -84  -40 "
      ]
     },
     "metadata": {},
     "output_type": "display_data"
    }
   ],
   "source": [
    "A * B   # Multiplicacion componente a componente"
   ]
  },
  {
   "cell_type": "code",
   "execution_count": 8,
   "metadata": {
    "collapsed": false
   },
   "outputs": [
    {
     "ename": "ERROR",
     "evalue": "Error in A %*% B: argumentos no compatibles\n",
     "output_type": "error",
     "traceback": [
      "Error in A %*% B: argumentos no compatibles\nTraceback:\n"
     ]
    }
   ],
   "source": [
    "A %*% B  # Multiplicacion usual de matrices"
   ]
  },
  {
   "cell_type": "markdown",
   "metadata": {},
   "source": [
    "El cálculo de la inversa de una matriz se realiza de la siguiente manera:"
   ]
  },
  {
   "cell_type": "code",
   "execution_count": 10,
   "metadata": {
    "collapsed": false
   },
   "outputs": [
    {
     "data": {
      "text/html": [
       "<table>\n",
       "<tbody>\n",
       "\t<tr><td>-0.025081101 </td><td> 0.06307221  </td><td>-0.1373002523</td><td>-0.10063679  </td><td> 0.088207377 </td><td> 0.07324883  </td></tr>\n",
       "\t<tr><td>-0.116454403 </td><td> 0.15776162  </td><td> 0.0044154752</td><td>-0.08475309  </td><td> 0.035185630 </td><td> 0.16692899  </td></tr>\n",
       "\t<tr><td> 0.114051424 </td><td>-0.18525171  </td><td>-0.0355340622</td><td> 0.01403340  </td><td> 0.007995915 </td><td>-0.01140815  </td></tr>\n",
       "\t<tr><td>-0.182416196 </td><td> 0.12315872  </td><td> 0.0002102607</td><td> 0.06399135  </td><td> 0.110519044 </td><td> 0.07597621  </td></tr>\n",
       "\t<tr><td> 0.132193920 </td><td>-0.05770155  </td><td> 0.0494112700</td><td> 0.03796708  </td><td>-0.028024751 </td><td>-0.14559053  </td></tr>\n",
       "\t<tr><td> 0.008891025 </td><td>-0.01828668  </td><td> 0.0151387721</td><td> 0.12166286  </td><td>-0.099771717 </td><td>-0.01542713  </td></tr>\n",
       "</tbody>\n",
       "</table>\n"
      ],
      "text/latex": [
       "\\begin{tabular}{llllll}\n",
       "\t -0.025081101  &  0.06307221   & -0.1373002523 & -0.10063679   &  0.088207377  &  0.07324883  \\\\\n",
       "\t -0.116454403  &  0.15776162   &  0.0044154752 & -0.08475309   &  0.035185630  &  0.16692899  \\\\\n",
       "\t  0.114051424  & -0.18525171   & -0.0355340622 &  0.01403340   &  0.007995915  & -0.01140815  \\\\\n",
       "\t -0.182416196  &  0.12315872   &  0.0002102607 &  0.06399135   &  0.110519044  &  0.07597621  \\\\\n",
       "\t  0.132193920  & -0.05770155   &  0.0494112700 &  0.03796708   & -0.028024751  & -0.14559053  \\\\\n",
       "\t  0.008891025  & -0.01828668   &  0.0151387721 &  0.12166286   & -0.099771717  & -0.01542713  \\\\\n",
       "\\end{tabular}\n"
      ],
      "text/markdown": [
       "\n",
       "| -0.025081101  |  0.06307221   | -0.1373002523 | -0.10063679   |  0.088207377  |  0.07324883   | \n",
       "| -0.116454403  |  0.15776162   |  0.0044154752 | -0.08475309   |  0.035185630  |  0.16692899   | \n",
       "|  0.114051424  | -0.18525171   | -0.0355340622 |  0.01403340   |  0.007995915  | -0.01140815   | \n",
       "| -0.182416196  |  0.12315872   |  0.0002102607 |  0.06399135   |  0.110519044  |  0.07597621   | \n",
       "|  0.132193920  | -0.05770155   |  0.0494112700 |  0.03796708   | -0.028024751  | -0.14559053   | \n",
       "|  0.008891025  | -0.01828668   |  0.0151387721 |  0.12166286   | -0.099771717  | -0.01542713   | \n",
       "\n",
       "\n"
      ],
      "text/plain": [
       "     [,1]         [,2]        [,3]          [,4]        [,5]        \n",
       "[1,] -0.025081101  0.06307221 -0.1373002523 -0.10063679  0.088207377\n",
       "[2,] -0.116454403  0.15776162  0.0044154752 -0.08475309  0.035185630\n",
       "[3,]  0.114051424 -0.18525171 -0.0355340622  0.01403340  0.007995915\n",
       "[4,] -0.182416196  0.12315872  0.0002102607  0.06399135  0.110519044\n",
       "[5,]  0.132193920 -0.05770155  0.0494112700  0.03796708 -0.028024751\n",
       "[6,]  0.008891025 -0.01828668  0.0151387721  0.12166286 -0.099771717\n",
       "     [,6]       \n",
       "[1,]  0.07324883\n",
       "[2,]  0.16692899\n",
       "[3,] -0.01140815\n",
       "[4,]  0.07597621\n",
       "[5,] -0.14559053\n",
       "[6,] -0.01542713"
      ]
     },
     "metadata": {},
     "output_type": "display_data"
    }
   ],
   "source": [
    "A <- matrix(c(4, 10, 6, 1 , 13, 5,\n",
    "           4,5, -2, 1, 8, 4,\n",
    "             -7, 5, 2, 1, 3, -4,\n",
    "             2,3, 4 ,5 , 6, 7,\n",
    "             1,3, 5,6, 7,-3,\n",
    "             0, 9, 7, 1,3, 4), 6, 6, byrow=TRUE)\n",
    "B <- solve(A)   ## Calculamos  la inversa de A\n",
    "B"
   ]
  },
  {
   "cell_type": "code",
   "execution_count": 11,
   "metadata": {
    "collapsed": false
   },
   "outputs": [
    {
     "data": {
      "text/html": [
       "<table>\n",
       "<tbody>\n",
       "\t<tr><td> 1.000000e+00</td><td>-6.938894e-16</td><td>-1.249001e-16</td><td> 1.110223e-16</td><td>0.000000e+00 </td><td>-8.326673e-17</td></tr>\n",
       "\t<tr><td>-1.734723e-16</td><td> 1.000000e+00</td><td>-5.551115e-17</td><td> 0.000000e+00</td><td>1.110223e-16 </td><td> 2.428613e-16</td></tr>\n",
       "\t<tr><td>-4.857226e-17</td><td>-1.387779e-17</td><td> 1.000000e+00</td><td> 0.000000e+00</td><td>0.000000e+00 </td><td>-7.632783e-17</td></tr>\n",
       "\t<tr><td>-1.387779e-16</td><td>-1.110223e-16</td><td> 1.387779e-17</td><td> 1.000000e+00</td><td>0.000000e+00 </td><td>-1.804112e-16</td></tr>\n",
       "\t<tr><td> 2.983724e-16</td><td>-2.220446e-16</td><td>-1.387779e-17</td><td>-5.551115e-17</td><td>1.000000e+00 </td><td>-1.249001e-16</td></tr>\n",
       "\t<tr><td>-6.938894e-18</td><td>-2.081668e-16</td><td> 5.551115e-17</td><td> 0.000000e+00</td><td>0.000000e+00 </td><td> 1.000000e+00</td></tr>\n",
       "</tbody>\n",
       "</table>\n"
      ],
      "text/latex": [
       "\\begin{tabular}{llllll}\n",
       "\t  1.000000e+00 & -6.938894e-16 & -1.249001e-16 &  1.110223e-16 & 0.000000e+00  & -8.326673e-17\\\\\n",
       "\t -1.734723e-16 &  1.000000e+00 & -5.551115e-17 &  0.000000e+00 & 1.110223e-16  &  2.428613e-16\\\\\n",
       "\t -4.857226e-17 & -1.387779e-17 &  1.000000e+00 &  0.000000e+00 & 0.000000e+00  & -7.632783e-17\\\\\n",
       "\t -1.387779e-16 & -1.110223e-16 &  1.387779e-17 &  1.000000e+00 & 0.000000e+00  & -1.804112e-16\\\\\n",
       "\t  2.983724e-16 & -2.220446e-16 & -1.387779e-17 & -5.551115e-17 & 1.000000e+00  & -1.249001e-16\\\\\n",
       "\t -6.938894e-18 & -2.081668e-16 &  5.551115e-17 &  0.000000e+00 & 0.000000e+00  &  1.000000e+00\\\\\n",
       "\\end{tabular}\n"
      ],
      "text/markdown": [
       "\n",
       "|  1.000000e+00 | -6.938894e-16 | -1.249001e-16 |  1.110223e-16 | 0.000000e+00  | -8.326673e-17 | \n",
       "| -1.734723e-16 |  1.000000e+00 | -5.551115e-17 |  0.000000e+00 | 1.110223e-16  |  2.428613e-16 | \n",
       "| -4.857226e-17 | -1.387779e-17 |  1.000000e+00 |  0.000000e+00 | 0.000000e+00  | -7.632783e-17 | \n",
       "| -1.387779e-16 | -1.110223e-16 |  1.387779e-17 |  1.000000e+00 | 0.000000e+00  | -1.804112e-16 | \n",
       "|  2.983724e-16 | -2.220446e-16 | -1.387779e-17 | -5.551115e-17 | 1.000000e+00  | -1.249001e-16 | \n",
       "| -6.938894e-18 | -2.081668e-16 |  5.551115e-17 |  0.000000e+00 | 0.000000e+00  |  1.000000e+00 | \n",
       "\n",
       "\n"
      ],
      "text/plain": [
       "     [,1]          [,2]          [,3]          [,4]          [,5]        \n",
       "[1,]  1.000000e+00 -6.938894e-16 -1.249001e-16  1.110223e-16 0.000000e+00\n",
       "[2,] -1.734723e-16  1.000000e+00 -5.551115e-17  0.000000e+00 1.110223e-16\n",
       "[3,] -4.857226e-17 -1.387779e-17  1.000000e+00  0.000000e+00 0.000000e+00\n",
       "[4,] -1.387779e-16 -1.110223e-16  1.387779e-17  1.000000e+00 0.000000e+00\n",
       "[5,]  2.983724e-16 -2.220446e-16 -1.387779e-17 -5.551115e-17 1.000000e+00\n",
       "[6,] -6.938894e-18 -2.081668e-16  5.551115e-17  0.000000e+00 0.000000e+00\n",
       "     [,6]         \n",
       "[1,] -8.326673e-17\n",
       "[2,]  2.428613e-16\n",
       "[3,] -7.632783e-17\n",
       "[4,] -1.804112e-16\n",
       "[5,] -1.249001e-16\n",
       "[6,]  1.000000e+00"
      ]
     },
     "metadata": {},
     "output_type": "display_data"
    }
   ],
   "source": [
    "A %*% B"
   ]
  },
  {
   "cell_type": "code",
   "execution_count": 12,
   "metadata": {
    "collapsed": false
   },
   "outputs": [
    {
     "data": {
      "text/html": [
       "<table>\n",
       "<tbody>\n",
       "\t<tr><td> 1.000000e+00</td><td> 0.000000e+00</td><td> 4.440892e-16</td><td>-9.714451e-17</td><td>-1.665335e-16</td><td> 5.551115e-17</td></tr>\n",
       "\t<tr><td>-2.567391e-16</td><td> 1.000000e+00</td><td> 2.220446e-16</td><td> 2.775558e-17</td><td>-3.330669e-16</td><td>-1.110223e-16</td></tr>\n",
       "\t<tr><td> 1.908196e-16</td><td> 0.000000e+00</td><td> 1.000000e+00</td><td>-3.469447e-18</td><td> 2.706169e-16</td><td> 1.595946e-16</td></tr>\n",
       "\t<tr><td>-1.110223e-16</td><td>-2.220446e-16</td><td>-2.220446e-16</td><td> 1.000000e+00</td><td>-3.330669e-16</td><td>-2.220446e-16</td></tr>\n",
       "\t<tr><td> 2.428613e-17</td><td>-2.220446e-16</td><td> 0.000000e+00</td><td> 0.000000e+00</td><td> 1.000000e+00</td><td> 0.000000e+00</td></tr>\n",
       "\t<tr><td> 0.000000e+00</td><td>-1.110223e-16</td><td>-1.249001e-16</td><td> 5.204170e-18</td><td> 1.387779e-17</td><td> 1.000000e+00</td></tr>\n",
       "</tbody>\n",
       "</table>\n"
      ],
      "text/latex": [
       "\\begin{tabular}{llllll}\n",
       "\t  1.000000e+00 &  0.000000e+00 &  4.440892e-16 & -9.714451e-17 & -1.665335e-16 &  5.551115e-17\\\\\n",
       "\t -2.567391e-16 &  1.000000e+00 &  2.220446e-16 &  2.775558e-17 & -3.330669e-16 & -1.110223e-16\\\\\n",
       "\t  1.908196e-16 &  0.000000e+00 &  1.000000e+00 & -3.469447e-18 &  2.706169e-16 &  1.595946e-16\\\\\n",
       "\t -1.110223e-16 & -2.220446e-16 & -2.220446e-16 &  1.000000e+00 & -3.330669e-16 & -2.220446e-16\\\\\n",
       "\t  2.428613e-17 & -2.220446e-16 &  0.000000e+00 &  0.000000e+00 &  1.000000e+00 &  0.000000e+00\\\\\n",
       "\t  0.000000e+00 & -1.110223e-16 & -1.249001e-16 &  5.204170e-18 &  1.387779e-17 &  1.000000e+00\\\\\n",
       "\\end{tabular}\n"
      ],
      "text/markdown": [
       "\n",
       "|  1.000000e+00 |  0.000000e+00 |  4.440892e-16 | -9.714451e-17 | -1.665335e-16 |  5.551115e-17 | \n",
       "| -2.567391e-16 |  1.000000e+00 |  2.220446e-16 |  2.775558e-17 | -3.330669e-16 | -1.110223e-16 | \n",
       "|  1.908196e-16 |  0.000000e+00 |  1.000000e+00 | -3.469447e-18 |  2.706169e-16 |  1.595946e-16 | \n",
       "| -1.110223e-16 | -2.220446e-16 | -2.220446e-16 |  1.000000e+00 | -3.330669e-16 | -2.220446e-16 | \n",
       "|  2.428613e-17 | -2.220446e-16 |  0.000000e+00 |  0.000000e+00 |  1.000000e+00 |  0.000000e+00 | \n",
       "|  0.000000e+00 | -1.110223e-16 | -1.249001e-16 |  5.204170e-18 |  1.387779e-17 |  1.000000e+00 | \n",
       "\n",
       "\n"
      ],
      "text/plain": [
       "     [,1]          [,2]          [,3]          [,4]          [,5]         \n",
       "[1,]  1.000000e+00  0.000000e+00  4.440892e-16 -9.714451e-17 -1.665335e-16\n",
       "[2,] -2.567391e-16  1.000000e+00  2.220446e-16  2.775558e-17 -3.330669e-16\n",
       "[3,]  1.908196e-16  0.000000e+00  1.000000e+00 -3.469447e-18  2.706169e-16\n",
       "[4,] -1.110223e-16 -2.220446e-16 -2.220446e-16  1.000000e+00 -3.330669e-16\n",
       "[5,]  2.428613e-17 -2.220446e-16  0.000000e+00  0.000000e+00  1.000000e+00\n",
       "[6,]  0.000000e+00 -1.110223e-16 -1.249001e-16  5.204170e-18  1.387779e-17\n",
       "     [,6]         \n",
       "[1,]  5.551115e-17\n",
       "[2,] -1.110223e-16\n",
       "[3,]  1.595946e-16\n",
       "[4,] -2.220446e-16\n",
       "[5,]  0.000000e+00\n",
       "[6,]  1.000000e+00"
      ]
     },
     "metadata": {},
     "output_type": "display_data"
    }
   ],
   "source": [
    "B %*% A"
   ]
  },
  {
   "cell_type": "markdown",
   "metadata": {},
   "source": [
    "Para ejemplos de orden menor, se cumple que *AB= I = BA*"
   ]
  },
  {
   "cell_type": "code",
   "execution_count": 13,
   "metadata": {
    "collapsed": false
   },
   "outputs": [
    {
     "data": {
      "text/html": [
       "<table>\n",
       "<tbody>\n",
       "\t<tr><td>  4</td><td>0  </td><td>-5 </td></tr>\n",
       "\t<tr><td>-18</td><td>1  </td><td>24 </td></tr>\n",
       "\t<tr><td> -3</td><td>0  </td><td> 4 </td></tr>\n",
       "</tbody>\n",
       "</table>\n"
      ],
      "text/latex": [
       "\\begin{tabular}{lll}\n",
       "\t   4 & 0   & -5 \\\\\n",
       "\t -18 & 1   & 24 \\\\\n",
       "\t  -3 & 0   &  4 \\\\\n",
       "\\end{tabular}\n"
      ],
      "text/markdown": [
       "\n",
       "|   4 | 0   | -5  | \n",
       "| -18 | 1   | 24  | \n",
       "|  -3 | 0   |  4  | \n",
       "\n",
       "\n"
      ],
      "text/plain": [
       "     [,1] [,2] [,3]\n",
       "[1,]   4  0    -5  \n",
       "[2,] -18  1    24  \n",
       "[3,]  -3  0     4  "
      ]
     },
     "metadata": {},
     "output_type": "display_data"
    }
   ],
   "source": [
    "M <- matrix(c(4,0,5,\n",
    "             0,1, -6,\n",
    "             3,0,4),3,3, byrow=TRUE)\n",
    "N <- solve(M)\n",
    "N"
   ]
  },
  {
   "cell_type": "code",
   "execution_count": 14,
   "metadata": {
    "collapsed": false
   },
   "outputs": [
    {
     "data": {
      "text/html": [
       "<table>\n",
       "<tbody>\n",
       "\t<tr><td>1</td><td>0</td><td>0</td></tr>\n",
       "\t<tr><td>0</td><td>1</td><td>0</td></tr>\n",
       "\t<tr><td>0</td><td>0</td><td>1</td></tr>\n",
       "</tbody>\n",
       "</table>\n"
      ],
      "text/latex": [
       "\\begin{tabular}{lll}\n",
       "\t 1 & 0 & 0\\\\\n",
       "\t 0 & 1 & 0\\\\\n",
       "\t 0 & 0 & 1\\\\\n",
       "\\end{tabular}\n"
      ],
      "text/markdown": [
       "\n",
       "| 1 | 0 | 0 | \n",
       "| 0 | 1 | 0 | \n",
       "| 0 | 0 | 1 | \n",
       "\n",
       "\n"
      ],
      "text/plain": [
       "     [,1] [,2] [,3]\n",
       "[1,] 1    0    0   \n",
       "[2,] 0    1    0   \n",
       "[3,] 0    0    1   "
      ]
     },
     "metadata": {},
     "output_type": "display_data"
    }
   ],
   "source": [
    "N%*%M"
   ]
  },
  {
   "cell_type": "code",
   "execution_count": 15,
   "metadata": {
    "collapsed": false
   },
   "outputs": [
    {
     "data": {
      "text/html": [
       "<table>\n",
       "<tbody>\n",
       "\t<tr><td>1</td><td>0</td><td>0</td></tr>\n",
       "\t<tr><td>0</td><td>1</td><td>0</td></tr>\n",
       "\t<tr><td>0</td><td>0</td><td>1</td></tr>\n",
       "</tbody>\n",
       "</table>\n"
      ],
      "text/latex": [
       "\\begin{tabular}{lll}\n",
       "\t 1 & 0 & 0\\\\\n",
       "\t 0 & 1 & 0\\\\\n",
       "\t 0 & 0 & 1\\\\\n",
       "\\end{tabular}\n"
      ],
      "text/markdown": [
       "\n",
       "| 1 | 0 | 0 | \n",
       "| 0 | 1 | 0 | \n",
       "| 0 | 0 | 1 | \n",
       "\n",
       "\n"
      ],
      "text/plain": [
       "     [,1] [,2] [,3]\n",
       "[1,] 1    0    0   \n",
       "[2,] 0    1    0   \n",
       "[3,] 0    0    1   "
      ]
     },
     "metadata": {},
     "output_type": "display_data"
    }
   ],
   "source": [
    "M %*%N"
   ]
  },
  {
   "cell_type": "markdown",
   "metadata": {},
   "source": [
    "Uno de los aspectos más importantes de **R** es la familia de funciones `apply()` tales como `apply()`, `tapply()` y `lapply()`. La funci?n `apply()` instruye a R a llamar una función  sobre cada fila o columna de una matriz. Esta es la forma general de `apply()` para matrices \n",
    "\n",
    "```\n",
    "apply(m, dimcode, f, fargs)\n",
    "```\n",
    "\n",
    "donde los  argumentos son como sigue:\n",
    "\n",
    "* ` m` es una matriz.\n",
    "*  `dimcode` es la dimensión, igual a 1, si la función aplica a filas o 2 si la función aplica a columnas.\n",
    "*  `f` es la función a ser aplicada.\n",
    "*  `fargs` es un conjunto opcional de argumentos dados a `f`."
   ]
  },
  {
   "cell_type": "code",
   "execution_count": 16,
   "metadata": {
    "collapsed": false
   },
   "outputs": [
    {
     "data": {
      "text/html": [
       "<table>\n",
       "<tbody>\n",
       "\t<tr><td>1</td><td>4</td></tr>\n",
       "\t<tr><td>2</td><td>5</td></tr>\n",
       "\t<tr><td>3</td><td>6</td></tr>\n",
       "</tbody>\n",
       "</table>\n"
      ],
      "text/latex": [
       "\\begin{tabular}{ll}\n",
       "\t 1 & 4\\\\\n",
       "\t 2 & 5\\\\\n",
       "\t 3 & 6\\\\\n",
       "\\end{tabular}\n"
      ],
      "text/markdown": [
       "\n",
       "| 1 | 4 | \n",
       "| 2 | 5 | \n",
       "| 3 | 6 | \n",
       "\n",
       "\n"
      ],
      "text/plain": [
       "     [,1] [,2]\n",
       "[1,] 1    4   \n",
       "[2,] 2    5   \n",
       "[3,] 3    6   "
      ]
     },
     "metadata": {},
     "output_type": "display_data"
    },
    {
     "data": {
      "text/html": [
       "<ol class=list-inline>\n",
       "\t<li>2.5</li>\n",
       "\t<li>3.5</li>\n",
       "\t<li>4.5</li>\n",
       "</ol>\n"
      ],
      "text/latex": [
       "\\begin{enumerate*}\n",
       "\\item 2.5\n",
       "\\item 3.5\n",
       "\\item 4.5\n",
       "\\end{enumerate*}\n"
      ],
      "text/markdown": [
       "1. 2.5\n",
       "2. 3.5\n",
       "3. 4.5\n",
       "\n",
       "\n"
      ],
      "text/plain": [
       "[1] 2.5 3.5 4.5"
      ]
     },
     "metadata": {},
     "output_type": "display_data"
    }
   ],
   "source": [
    "# help(apply): Fuertemente leer las notas\n",
    "# example(apply)\n",
    "\n",
    "dw<- matrix(c(1,2,3,4,5,6), nrow=3)\n",
    "dw\n",
    "apply(dw, 1, mean)"
   ]
  },
  {
   "cell_type": "markdown",
   "metadata": {},
   "source": [
    "Un ejemplo utilizando una función escrita por el usuario:"
   ]
  },
  {
   "cell_type": "code",
   "execution_count": 17,
   "metadata": {
    "collapsed": false
   },
   "outputs": [
    {
     "data": {
      "text/html": [
       "<table>\n",
       "<tbody>\n",
       "\t<tr><td>1</td><td>4</td></tr>\n",
       "\t<tr><td>2</td><td>5</td></tr>\n",
       "\t<tr><td>3</td><td>6</td></tr>\n",
       "</tbody>\n",
       "</table>\n"
      ],
      "text/latex": [
       "\\begin{tabular}{ll}\n",
       "\t 1 & 4\\\\\n",
       "\t 2 & 5\\\\\n",
       "\t 3 & 6\\\\\n",
       "\\end{tabular}\n"
      ],
      "text/markdown": [
       "\n",
       "| 1 | 4 | \n",
       "| 2 | 5 | \n",
       "| 3 | 6 | \n",
       "\n",
       "\n"
      ],
      "text/plain": [
       "     [,1] [,2]\n",
       "[1,] 1    4   \n",
       "[2,] 2    5   \n",
       "[3,] 3    6   "
      ]
     },
     "metadata": {},
     "output_type": "display_data"
    },
    {
     "data": {
      "text/html": [
       "<table>\n",
       "<tbody>\n",
       "\t<tr><td>0.5</td><td>1  </td><td>1.5</td></tr>\n",
       "\t<tr><td>0.8</td><td>1  </td><td>1.2</td></tr>\n",
       "</tbody>\n",
       "</table>\n"
      ],
      "text/latex": [
       "\\begin{tabular}{lll}\n",
       "\t 0.5 & 1   & 1.5\\\\\n",
       "\t 0.8 & 1   & 1.2\\\\\n",
       "\\end{tabular}\n"
      ],
      "text/markdown": [
       "\n",
       "| 0.5 | 1   | 1.5 | \n",
       "| 0.8 | 1   | 1.2 | \n",
       "\n",
       "\n"
      ],
      "text/plain": [
       "     [,1] [,2] [,3]\n",
       "[1,] 0.5  1    1.5 \n",
       "[2,] 0.8  1    1.2 "
      ]
     },
     "metadata": {},
     "output_type": "display_data"
    }
   ],
   "source": [
    "dw\n",
    "f <-function(x)x/c(2,5)\n",
    "dw1<- apply(dw, 1, f)\n",
    "dw1"
   ]
  },
  {
   "cell_type": "code",
   "execution_count": 18,
   "metadata": {
    "collapsed": false
   },
   "outputs": [
    {
     "data": {
      "text/html": [
       "<table>\n",
       "<tbody>\n",
       "\t<tr><td>0.5</td><td>0.8</td></tr>\n",
       "\t<tr><td>1.0</td><td>1.0</td></tr>\n",
       "\t<tr><td>1.5</td><td>1.2</td></tr>\n",
       "</tbody>\n",
       "</table>\n"
      ],
      "text/latex": [
       "\\begin{tabular}{ll}\n",
       "\t 0.5 & 0.8\\\\\n",
       "\t 1.0 & 1.0\\\\\n",
       "\t 1.5 & 1.2\\\\\n",
       "\\end{tabular}\n"
      ],
      "text/markdown": [
       "\n",
       "| 0.5 | 0.8 | \n",
       "| 1.0 | 1.0 | \n",
       "| 1.5 | 1.2 | \n",
       "\n",
       "\n"
      ],
      "text/plain": [
       "     [,1] [,2]\n",
       "[1,] 0.5  0.8 \n",
       "[2,] 1.0  1.0 \n",
       "[3,] 1.5  1.2 "
      ]
     },
     "metadata": {},
     "output_type": "display_data"
    }
   ],
   "source": [
    "t(apply(dw,1,f))"
   ]
  },
  {
   "cell_type": "markdown",
   "metadata": {},
   "source": [
    "Un ejemplo más avanzado desde Norman Matloff, (The Art of R Programming):"
   ]
  },
  {
   "cell_type": "code",
   "execution_count": 19,
   "metadata": {
    "collapsed": false
   },
   "outputs": [
    {
     "data": {
      "text/html": [
       "<table>\n",
       "<tbody>\n",
       "\t<tr><td>1</td><td>0</td><td>1</td><td>1</td><td>0</td></tr>\n",
       "\t<tr><td>1</td><td>1</td><td>1</td><td>1</td><td>0</td></tr>\n",
       "\t<tr><td>1</td><td>0</td><td>0</td><td>1</td><td>0</td></tr>\n",
       "\t<tr><td>0</td><td>1</td><td>1</td><td>1</td><td>0</td></tr>\n",
       "</tbody>\n",
       "</table>\n"
      ],
      "text/latex": [
       "\\begin{tabular}{lllll}\n",
       "\t 1 & 0 & 1 & 1 & 0\\\\\n",
       "\t 1 & 1 & 1 & 1 & 0\\\\\n",
       "\t 1 & 0 & 0 & 1 & 0\\\\\n",
       "\t 0 & 1 & 1 & 1 & 0\\\\\n",
       "\\end{tabular}\n"
      ],
      "text/markdown": [
       "\n",
       "| 1 | 0 | 1 | 1 | 0 | \n",
       "| 1 | 1 | 1 | 1 | 0 | \n",
       "| 1 | 0 | 0 | 1 | 0 | \n",
       "| 0 | 1 | 1 | 1 | 0 | \n",
       "\n",
       "\n"
      ],
      "text/plain": [
       "     [,1] [,2] [,3] [,4] [,5]\n",
       "[1,] 1    0    1    1    0   \n",
       "[2,] 1    1    1    1    0   \n",
       "[3,] 1    0    0    1    0   \n",
       "[4,] 0    1    1    1    0   "
      ]
     },
     "metadata": {},
     "output_type": "display_data"
    },
    {
     "data": {
      "text/html": [
       "<ol class=list-inline>\n",
       "\t<li>1</li>\n",
       "\t<li>1</li>\n",
       "\t<li>0</li>\n",
       "\t<li>1</li>\n",
       "</ol>\n"
      ],
      "text/latex": [
       "\\begin{enumerate*}\n",
       "\\item 1\n",
       "\\item 1\n",
       "\\item 0\n",
       "\\item 1\n",
       "\\end{enumerate*}\n"
      ],
      "text/markdown": [
       "1. 1\n",
       "2. 1\n",
       "3. 0\n",
       "4. 1\n",
       "\n",
       "\n"
      ],
      "text/plain": [
       "[1] 1 1 0 1"
      ]
     },
     "metadata": {},
     "output_type": "display_data"
    },
    {
     "data": {
      "text/html": [
       "<ol class=list-inline>\n",
       "\t<li>0</li>\n",
       "\t<li>1</li>\n",
       "\t<li>0</li>\n",
       "\t<li>0</li>\n",
       "</ol>\n"
      ],
      "text/latex": [
       "\\begin{enumerate*}\n",
       "\\item 0\n",
       "\\item 1\n",
       "\\item 0\n",
       "\\item 0\n",
       "\\end{enumerate*}\n"
      ],
      "text/markdown": [
       "1. 0\n",
       "2. 1\n",
       "3. 0\n",
       "4. 0\n",
       "\n",
       "\n"
      ],
      "text/plain": [
       "[1] 0 1 0 0"
      ]
     },
     "metadata": {},
     "output_type": "display_data"
    }
   ],
   "source": [
    "matriz0 <-function(fila,d) {\n",
    "    maj <- sum(fila[1:d]) / d\n",
    "    return(if(maj > 0.5) 1 else 0)\n",
    "}\n",
    "ax <-matrix(c(1,1,1,0, 0,1,0,1, 1, 1, 0,1, 1,1,1,1, 0,0,0,0), nrow=4)\n",
    "ax\n",
    "apply(ax,1,matriz0,3)\n",
    "apply(ax,1,matriz0,2)"
   ]
  },
  {
   "cell_type": "markdown",
   "metadata": {},
   "source": [
    "El uso de `apply()` no acelera el código. El beneficio de utilizar esta función es que hace el código mucho más  compacto y por tanto más fácil de leer y modificar  evitando  posibles errores en la escritura de código cuando se trabaja con bucles.\n",
    "\n",
    "Por otra parte, cuando R  desarrolla el procesamiento en paralelo, funciones como `apply()` serán muy útiles e importantes. Por ejemplo, la función `clusterApply()` en el paquete `snow` de R da cierta capacidad de procesado en paralelo mediante la distribución de los datos de una submatriz a varios nodos de una red.\n"
   ]
  },
  {
   "cell_type": "markdown",
   "metadata": {},
   "source": [
    "La función `outer` aplica una función a dos arrays, en realidad esta función devuelve el producto exterior de dos vectores o puedes pasar una función como tercer paramétro. "
   ]
  },
  {
   "cell_type": "code",
   "execution_count": 20,
   "metadata": {
    "collapsed": false
   },
   "outputs": [
    {
     "data": {
      "text/html": [
       "<table>\n",
       "<tbody>\n",
       "\t<tr><td>1 1</td><td>1 2</td><td>1 3</td><td>1 4</td><td>1 5</td><td>1 6</td></tr>\n",
       "\t<tr><td>2 1</td><td>2 2</td><td>2 3</td><td>2 4</td><td>2 5</td><td>2 6</td></tr>\n",
       "\t<tr><td>3 1</td><td>3 2</td><td>3 3</td><td>3 4</td><td>3 5</td><td>3 6</td></tr>\n",
       "\t<tr><td>4 1</td><td>4 2</td><td>4 3</td><td>4 4</td><td>4 5</td><td>4 6</td></tr>\n",
       "\t<tr><td>5 1</td><td>5 2</td><td>5 3</td><td>5 4</td><td>5 5</td><td>5 6</td></tr>\n",
       "\t<tr><td>6 1</td><td>6 2</td><td>6 3</td><td>6 4</td><td>6 5</td><td>6 6</td></tr>\n",
       "</tbody>\n",
       "</table>\n"
      ],
      "text/latex": [
       "\\begin{tabular}{llllll}\n",
       "\t 1 1 & 1 2 & 1 3 & 1 4 & 1 5 & 1 6\\\\\n",
       "\t 2 1 & 2 2 & 2 3 & 2 4 & 2 5 & 2 6\\\\\n",
       "\t 3 1 & 3 2 & 3 3 & 3 4 & 3 5 & 3 6\\\\\n",
       "\t 4 1 & 4 2 & 4 3 & 4 4 & 4 5 & 4 6\\\\\n",
       "\t 5 1 & 5 2 & 5 3 & 5 4 & 5 5 & 5 6\\\\\n",
       "\t 6 1 & 6 2 & 6 3 & 6 4 & 6 5 & 6 6\\\\\n",
       "\\end{tabular}\n"
      ],
      "text/markdown": [
       "\n",
       "| 1 1 | 1 2 | 1 3 | 1 4 | 1 5 | 1 6 | \n",
       "| 2 1 | 2 2 | 2 3 | 2 4 | 2 5 | 2 6 | \n",
       "| 3 1 | 3 2 | 3 3 | 3 4 | 3 5 | 3 6 | \n",
       "| 4 1 | 4 2 | 4 3 | 4 4 | 4 5 | 4 6 | \n",
       "| 5 1 | 5 2 | 5 3 | 5 4 | 5 5 | 5 6 | \n",
       "| 6 1 | 6 2 | 6 3 | 6 4 | 6 5 | 6 6 | \n",
       "\n",
       "\n"
      ],
      "text/plain": [
       "     [,1] [,2] [,3] [,4] [,5] [,6]\n",
       "[1,] 1 1  1 2  1 3  1 4  1 5  1 6 \n",
       "[2,] 2 1  2 2  2 3  2 4  2 5  2 6 \n",
       "[3,] 3 1  3 2  3 3  3 4  3 5  3 6 \n",
       "[4,] 4 1  4 2  4 3  4 4  4 5  4 6 \n",
       "[5,] 5 1  5 2  5 3  5 4  5 5  5 6 \n",
       "[6,] 6 1  6 2  6 3  6 4  6 5  6 6 "
      ]
     },
     "metadata": {},
     "output_type": "display_data"
    }
   ],
   "source": [
    "outer(1:6, 1:6, paste)"
   ]
  },
  {
   "cell_type": "code",
   "execution_count": 21,
   "metadata": {
    "collapsed": false
   },
   "outputs": [
    {
     "data": {
      "text/html": [
       "<table>\n",
       "<tbody>\n",
       "\t<tr><td>0.000000 </td><td>0.0000000</td></tr>\n",
       "\t<tr><td>1.201634 </td><td>0.6008169</td></tr>\n",
       "\t<tr><td>1.000000 </td><td>0.5000000</td></tr>\n",
       "\t<tr><td>1.584963 </td><td>0.7924813</td></tr>\n",
       "\t<tr><td>2.000000 </td><td>1.0000000</td></tr>\n",
       "\t<tr><td>3.000000 </td><td>1.5000000</td></tr>\n",
       "\t<tr><td>3.584963 </td><td>1.7924813</td></tr>\n",
       "\t<tr><td>5.426265 </td><td>2.7131324</td></tr>\n",
       "</tbody>\n",
       "</table>\n"
      ],
      "text/latex": [
       "\\begin{tabular}{ll}\n",
       "\t 0.000000  & 0.0000000\\\\\n",
       "\t 1.201634  & 0.6008169\\\\\n",
       "\t 1.000000  & 0.5000000\\\\\n",
       "\t 1.584963  & 0.7924813\\\\\n",
       "\t 2.000000  & 1.0000000\\\\\n",
       "\t 3.000000  & 1.5000000\\\\\n",
       "\t 3.584963  & 1.7924813\\\\\n",
       "\t 5.426265  & 2.7131324\\\\\n",
       "\\end{tabular}\n"
      ],
      "text/markdown": [
       "\n",
       "| 0.000000  | 0.0000000 | \n",
       "| 1.201634  | 0.6008169 | \n",
       "| 1.000000  | 0.5000000 | \n",
       "| 1.584963  | 0.7924813 | \n",
       "| 2.000000  | 1.0000000 | \n",
       "| 3.000000  | 1.5000000 | \n",
       "| 3.584963  | 1.7924813 | \n",
       "| 5.426265  | 2.7131324 | \n",
       "\n",
       "\n"
      ],
      "text/plain": [
       "     [,1]     [,2]     \n",
       "[1,] 0.000000 0.0000000\n",
       "[2,] 1.201634 0.6008169\n",
       "[3,] 1.000000 0.5000000\n",
       "[4,] 1.584963 0.7924813\n",
       "[5,] 2.000000 1.0000000\n",
       "[6,] 3.000000 1.5000000\n",
       "[7,] 3.584963 1.7924813\n",
       "[8,] 5.426265 2.7131324"
      ]
     },
     "metadata": {},
     "output_type": "display_data"
    }
   ],
   "source": [
    "x<- c(1,2.3,2,3,4,8,12,43)\n",
    "y<- c(2,4)\n",
    "outer(x,y,\"log\")"
   ]
  },
  {
   "cell_type": "code",
   "execution_count": 22,
   "metadata": {
    "collapsed": false
   },
   "outputs": [
    {
     "data": {
      "text/html": [
       "<table>\n",
       "<tbody>\n",
       "\t<tr><td>1,1</td><td>1,2</td><td>1,3</td><td>1,4</td><td>1,5</td></tr>\n",
       "\t<tr><td>2,1</td><td>2,2</td><td>2,3</td><td>2,4</td><td>2,5</td></tr>\n",
       "\t<tr><td>3,1</td><td>3,2</td><td>3,3</td><td>3,4</td><td>3,5</td></tr>\n",
       "\t<tr><td>4,1</td><td>4,2</td><td>4,3</td><td>4,4</td><td>4,5</td></tr>\n",
       "\t<tr><td>5,1</td><td>5,2</td><td>5,3</td><td>5,4</td><td>5,5</td></tr>\n",
       "</tbody>\n",
       "</table>\n"
      ],
      "text/latex": [
       "\\begin{tabular}{lllll}\n",
       "\t 1,1 & 1,2 & 1,3 & 1,4 & 1,5\\\\\n",
       "\t 2,1 & 2,2 & 2,3 & 2,4 & 2,5\\\\\n",
       "\t 3,1 & 3,2 & 3,3 & 3,4 & 3,5\\\\\n",
       "\t 4,1 & 4,2 & 4,3 & 4,4 & 4,5\\\\\n",
       "\t 5,1 & 5,2 & 5,3 & 5,4 & 5,5\\\\\n",
       "\\end{tabular}\n"
      ],
      "text/markdown": [
       "\n",
       "| 1,1 | 1,2 | 1,3 | 1,4 | 1,5 | \n",
       "| 2,1 | 2,2 | 2,3 | 2,4 | 2,5 | \n",
       "| 3,1 | 3,2 | 3,3 | 3,4 | 3,5 | \n",
       "| 4,1 | 4,2 | 4,3 | 4,4 | 4,5 | \n",
       "| 5,1 | 5,2 | 5,3 | 5,4 | 5,5 | \n",
       "\n",
       "\n"
      ],
      "text/plain": [
       "     [,1] [,2] [,3] [,4] [,5]\n",
       "[1,] 1,1  1,2  1,3  1,4  1,5 \n",
       "[2,] 2,1  2,2  2,3  2,4  2,5 \n",
       "[3,] 3,1  3,2  3,3  3,4  3,5 \n",
       "[4,] 4,1  4,2  4,3  4,4  4,5 \n",
       "[5,] 5,1  5,2  5,3  5,4  5,5 "
      ]
     },
     "metadata": {},
     "output_type": "display_data"
    },
    {
     "data": {
      "text/html": [
       "<ol class=list-inline>\n",
       "\t<li>'4,1'</li>\n",
       "\t<li>'5,3'</li>\n",
       "</ol>\n"
      ],
      "text/latex": [
       "\\begin{enumerate*}\n",
       "\\item '4,1'\n",
       "\\item '5,3'\n",
       "\\end{enumerate*}\n"
      ],
      "text/markdown": [
       "1. '4,1'\n",
       "2. '5,3'\n",
       "\n",
       "\n"
      ],
      "text/plain": [
       "[1] \"4,1\" \"5,3\""
      ]
     },
     "metadata": {},
     "output_type": "display_data"
    }
   ],
   "source": [
    "(valores <- outer(1:5, 1:5, FUN = \"paste\", sep = \",\"))\n",
    "valores[c(4, 15)]"
   ]
  },
  {
   "cell_type": "markdown",
   "metadata": {},
   "source": [
    "####  El método del Simplex \n",
    " \n",
    "Sea el problema de programación lineal, que será resuelto por el [simplex algorithm](https://jeremykun.com/2014/12/01/linear-programming-and-the-simplex-algorithm/)\n",
    "\n",
    "\n",
    "min C = 5x<sub>1</sub> + 8x<sub>2</sub>\n",
    "\n",
    "sujeto a los restricciones\n",
    "\n",
    "x<sub>1</sub> + x<sub>2</sub> >=2\n",
    "\n",
    "x<sub>1</sub> + 2x<sub>2</sub> >=3 \n",
    "\n",
    "y\n",
    "\n",
    "x<sub>1</sub>, x<sub>2</sub> >= 0\n",
    "\n",
    "Para resolver este problema usamos los paquetes  [lpSolve-lpSolveApi](http://lpsolve.r-forge.r-project.org/) de la siguiente manera :\n",
    "\n",
    "```\n",
    "install.packages(\"lpSolve\")\n",
    "install.packages(\"lpSolveAPI\")\n",
    "```\n"
   ]
  },
  {
   "cell_type": "code",
   "execution_count": 25,
   "metadata": {
    "collapsed": false
   },
   "outputs": [
    {
     "data": {
      "text/plain": [
       "Success: the objective function is 13 "
      ]
     },
     "metadata": {},
     "output_type": "display_data"
    },
    {
     "data": {
      "text/html": [
       "<ol class=list-inline>\n",
       "\t<li>1</li>\n",
       "\t<li>1</li>\n",
       "</ol>\n"
      ],
      "text/latex": [
       "\\begin{enumerate*}\n",
       "\\item 1\n",
       "\\item 1\n",
       "\\end{enumerate*}\n"
      ],
      "text/markdown": [
       "1. 1\n",
       "2. 1\n",
       "\n",
       "\n"
      ],
      "text/plain": [
       "[1] 1 1"
      ]
     },
     "metadata": {},
     "output_type": "display_data"
    }
   ],
   "source": [
    "library(lpSolve)\n",
    "ejemplo.pl <- lp(objective.in=c(5, 8), const.mat=matrix(c(1, 1, 1, 2),nrow=2), const.rhs=c(2, 3), const.dir=c(\">=\", \">=\"))\n",
    "ejemplo.pl\n",
    "ejemplo.pl$solution"
   ]
  },
  {
   "cell_type": "markdown",
   "metadata": {},
   "source": [
    "La salida nos dice que el valor que minimiza el problema, está en x<sub>1</sub> = 1, x<sub>2</sub> = 1\n",
    "y el mínimo valor de la función objetivo es 13.\n"
   ]
  },
  {
   "cell_type": "markdown",
   "metadata": {},
   "source": [
    "#### Descomposición de Cholesly\n",
    "\n",
    "La factorización de Cholesly es un método de descomposición de una matriz definida positiva. Algunas [aplicaciones de la descomposicion de Cholesky](https://en.wikipedia.org/wiki/Cholesky_decomposition#Applications) incluye las soluciones de ecuaciones lineales, simulación de Montecarlo y los filtros de Kalman.\n",
    "\n",
    "La función `chol()` lleva a cabo la descomposición de una matriz definida positiva. \n"
   ]
  },
  {
   "cell_type": "code",
   "execution_count": 26,
   "metadata": {
    "collapsed": false
   },
   "outputs": [
    {
     "data": {
      "text/html": [
       "<table>\n",
       "<tbody>\n",
       "\t<tr><td>3</td><td>4</td><td>3</td></tr>\n",
       "\t<tr><td>4</td><td>8</td><td>6</td></tr>\n",
       "\t<tr><td>3</td><td>6</td><td>9</td></tr>\n",
       "</tbody>\n",
       "</table>\n"
      ],
      "text/latex": [
       "\\begin{tabular}{lll}\n",
       "\t 3 & 4 & 3\\\\\n",
       "\t 4 & 8 & 6\\\\\n",
       "\t 3 & 6 & 9\\\\\n",
       "\\end{tabular}\n"
      ],
      "text/markdown": [
       "\n",
       "| 3 | 4 | 3 | \n",
       "| 4 | 8 | 6 | \n",
       "| 3 | 6 | 9 | \n",
       "\n",
       "\n"
      ],
      "text/plain": [
       "     [,1] [,2] [,3]\n",
       "[1,] 3    4    3   \n",
       "[2,] 4    8    6   \n",
       "[3,] 3    6    9   "
      ]
     },
     "metadata": {},
     "output_type": "display_data"
    }
   ],
   "source": [
    "A = as.matrix(data.frame(c(3,4,3),c(4,8,6),c(3,6,9)))\n",
    "colnames(A) <- NULL\n",
    "A"
   ]
  },
  {
   "cell_type": "markdown",
   "metadata": {},
   "source": [
    "Factorizamos la matriz con la función `chol()`:\n"
   ]
  },
  {
   "cell_type": "code",
   "execution_count": 29,
   "metadata": {
    "collapsed": false
   },
   "outputs": [
    {
     "data": {
      "text/html": [
       "<table>\n",
       "<tbody>\n",
       "\t<tr><td>1.732051</td><td>2.309401</td><td>1.732051</td></tr>\n",
       "\t<tr><td>0.000000</td><td>1.632993</td><td>1.224745</td></tr>\n",
       "\t<tr><td>0.000000</td><td>0.000000</td><td>2.121320</td></tr>\n",
       "</tbody>\n",
       "</table>\n"
      ],
      "text/latex": [
       "\\begin{tabular}{lll}\n",
       "\t 1.732051 & 2.309401 & 1.732051\\\\\n",
       "\t 0.000000 & 1.632993 & 1.224745\\\\\n",
       "\t 0.000000 & 0.000000 & 2.121320\\\\\n",
       "\\end{tabular}\n"
      ],
      "text/markdown": [
       "\n",
       "| 1.732051 | 2.309401 | 1.732051 | \n",
       "| 0.000000 | 1.632993 | 1.224745 | \n",
       "| 0.000000 | 0.000000 | 2.121320 | \n",
       "\n",
       "\n"
      ],
      "text/plain": [
       "     [,1]     [,2]     [,3]    \n",
       "[1,] 1.732051 2.309401 1.732051\n",
       "[2,] 0.000000 1.632993 1.224745\n",
       "[3,] 0.000000 0.000000 2.121320"
      ]
     },
     "metadata": {},
     "output_type": "display_data"
    }
   ],
   "source": [
    "A.chol <- chol(A)\n",
    "A.chol"
   ]
  },
  {
   "cell_type": "markdown",
   "metadata": {},
   "source": [
    "La función `chol()` devuelve una matriz triangular superior. La transposición de la matriz  produce una matriz triangular inferior:"
   ]
  },
  {
   "cell_type": "code",
   "execution_count": 30,
   "metadata": {
    "collapsed": false
   },
   "outputs": [
    {
     "data": {
      "text/html": [
       "<table>\n",
       "<tbody>\n",
       "\t<tr><td>1.732051</td><td>0.000000</td><td>0.00000 </td></tr>\n",
       "\t<tr><td>2.309401</td><td>1.632993</td><td>0.00000 </td></tr>\n",
       "\t<tr><td>1.732051</td><td>1.224745</td><td>2.12132 </td></tr>\n",
       "</tbody>\n",
       "</table>\n"
      ],
      "text/latex": [
       "\\begin{tabular}{lll}\n",
       "\t 1.732051 & 0.000000 & 0.00000 \\\\\n",
       "\t 2.309401 & 1.632993 & 0.00000 \\\\\n",
       "\t 1.732051 & 1.224745 & 2.12132 \\\\\n",
       "\\end{tabular}\n"
      ],
      "text/markdown": [
       "\n",
       "| 1.732051 | 0.000000 | 0.00000  | \n",
       "| 2.309401 | 1.632993 | 0.00000  | \n",
       "| 1.732051 | 1.224745 | 2.12132  | \n",
       "\n",
       "\n"
      ],
      "text/plain": [
       "     [,1]     [,2]     [,3]   \n",
       "[1,] 1.732051 0.000000 0.00000\n",
       "[2,] 2.309401 1.632993 0.00000\n",
       "[3,] 1.732051 1.224745 2.12132"
      ]
     },
     "metadata": {},
     "output_type": "display_data"
    }
   ],
   "source": [
    "t(A.chol)"
   ]
  },
  {
   "cell_type": "markdown",
   "metadata": {},
   "source": [
    "y esto coincide con el resultado de la salida de la funci?n `chol()`.  Podemos verificar el resultado:"
   ]
  },
  {
   "cell_type": "code",
   "execution_count": 31,
   "metadata": {
    "collapsed": false
   },
   "outputs": [
    {
     "data": {
      "text/html": [
       "<table>\n",
       "<tbody>\n",
       "\t<tr><td>3</td><td>4</td><td>3</td></tr>\n",
       "\t<tr><td>4</td><td>8</td><td>6</td></tr>\n",
       "\t<tr><td>3</td><td>6</td><td>9</td></tr>\n",
       "</tbody>\n",
       "</table>\n"
      ],
      "text/latex": [
       "\\begin{tabular}{lll}\n",
       "\t 3 & 4 & 3\\\\\n",
       "\t 4 & 8 & 6\\\\\n",
       "\t 3 & 6 & 9\\\\\n",
       "\\end{tabular}\n"
      ],
      "text/markdown": [
       "\n",
       "| 3 | 4 | 3 | \n",
       "| 4 | 8 | 6 | \n",
       "| 3 | 6 | 9 | \n",
       "\n",
       "\n"
      ],
      "text/plain": [
       "     [,1] [,2] [,3]\n",
       "[1,] 3    4    3   \n",
       "[2,] 4    8    6   \n",
       "[3,] 3    6    9   "
      ]
     },
     "metadata": {},
     "output_type": "display_data"
    }
   ],
   "source": [
    "t(A.chol) %*% A.chol"
   ]
  },
  {
   "cell_type": "markdown",
   "metadata": {},
   "source": [
    "Lectura : [Algorithm for Cholesky decomposition](http://www.math.sjsu.edu/~foster/m143m/cholesky.pdf)."
   ]
  },
  {
   "cell_type": "code",
   "execution_count": null,
   "metadata": {
    "collapsed": true
   },
   "outputs": [],
   "source": []
  }
 ],
 "metadata": {
  "kernelspec": {
   "display_name": "R",
   "language": "R",
   "name": "ir"
  },
  "language_info": {
   "codemirror_mode": "r",
   "file_extension": ".r",
   "mimetype": "text/x-r-source",
   "name": "R",
   "pygments_lexer": "r",
   "version": "3.3.2"
  }
 },
 "nbformat": 4,
 "nbformat_minor": 1
}
