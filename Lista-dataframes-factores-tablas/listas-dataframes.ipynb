{
 "cells": [
  {
   "cell_type": "markdown",
   "metadata": {
    "deletable": true,
    "editable": true
   },
   "source": [
    "## Listas\n",
    "\n",
    "A diferencia de un vector, en el que todos los elementos deben ser del mismo tipo, la estructura de  una lista en R puede combinar objetos de diferentes tipos. Una lista  en R es similar a un diccionario de Python o, a un hash de Perl o puede resultar similar a una estructura de  C. Las listas son muy importantes en R, formando la base para los data frames,la  programación orientada a objetos,etc.\n",
    "\n",
    "Se puede construir listas usando ` list()`."
   ]
  },
  {
   "cell_type": "code",
   "execution_count": 1,
   "metadata": {
    "collapsed": false,
    "deletable": true,
    "editable": true
   },
   "outputs": [
    {
     "name": "stdout",
     "output_type": "stream",
     "text": [
      "List of 4\n",
      " $ : int [1:3] 1 2 3\n",
      " $ : chr \"a\"\n",
      " $ : logi [1:3] TRUE FALSE TRUE\n",
      " $ : num [1:2] 2.3 5.9\n"
     ]
    }
   ],
   "source": [
    "x <- list(1:3, \"a\", c(TRUE, FALSE, TRUE), c(2.3, 5.9))\n",
    "str(x)"
   ]
  },
  {
   "cell_type": "code",
   "execution_count": 2,
   "metadata": {
    "collapsed": false,
    "deletable": true,
    "editable": true
   },
   "outputs": [
    {
     "data": {
      "text/html": [
       "<ol>\n",
       "\t<li><ol class=list-inline>\n",
       "\t<li>1</li>\n",
       "\t<li>1</li>\n",
       "\t<li>2</li>\n",
       "\t<li>5</li>\n",
       "\t<li>14</li>\n",
       "\t<li>42</li>\n",
       "</ol>\n",
       "</li>\n",
       "\t<li><ol class=list-inline>\n",
       "\t<li>'Jan'</li>\n",
       "\t<li>'Feb'</li>\n",
       "\t<li>'Mar'</li>\n",
       "\t<li>'Apr'</li>\n",
       "\t<li>'May'</li>\n",
       "\t<li>'Jun'</li>\n",
       "\t<li>'Jul'</li>\n",
       "\t<li>'Aug'</li>\n",
       "\t<li>'Sep'</li>\n",
       "\t<li>'Oct'</li>\n",
       "\t<li>'Nov'</li>\n",
       "\t<li>'Dec'</li>\n",
       "</ol>\n",
       "</li>\n",
       "\t<li><table>\n",
       "<tbody>\n",
       "\t<tr><td> 3</td><td> 1</td></tr>\n",
       "\t<tr><td>-8</td><td>-3</td></tr>\n",
       "</tbody>\n",
       "</table>\n",
       "</li>\n",
       "\t<li><pre class=language-r><code>.Primitive(\"asin\")</code></pre></li>\n",
       "</ol>\n"
      ],
      "text/latex": [
       "\\begin{enumerate}\n",
       "\\item \\begin{enumerate*}\n",
       "\\item 1\n",
       "\\item 1\n",
       "\\item 2\n",
       "\\item 5\n",
       "\\item 14\n",
       "\\item 42\n",
       "\\end{enumerate*}\n",
       "\n",
       "\\item \\begin{enumerate*}\n",
       "\\item 'Jan'\n",
       "\\item 'Feb'\n",
       "\\item 'Mar'\n",
       "\\item 'Apr'\n",
       "\\item 'May'\n",
       "\\item 'Jun'\n",
       "\\item 'Jul'\n",
       "\\item 'Aug'\n",
       "\\item 'Sep'\n",
       "\\item 'Oct'\n",
       "\\item 'Nov'\n",
       "\\item 'Dec'\n",
       "\\end{enumerate*}\n",
       "\n",
       "\\item \\begin{tabular}{ll}\n",
       "\t  3 &  1\\\\\n",
       "\t -8 & -3\\\\\n",
       "\\end{tabular}\n",
       "\n",
       "\\item \\begin{minted}{r}\n",
       ".Primitive(\"asin\")\n",
       "\\end{minted}\n",
       "\\end{enumerate}\n"
      ],
      "text/markdown": [
       "1. 1. 1\n",
       "2. 1\n",
       "3. 2\n",
       "4. 5\n",
       "5. 14\n",
       "6. 42\n",
       "\n",
       "\n",
       "\n",
       "2. 1. 'Jan'\n",
       "2. 'Feb'\n",
       "3. 'Mar'\n",
       "4. 'Apr'\n",
       "5. 'May'\n",
       "6. 'Jun'\n",
       "7. 'Jul'\n",
       "8. 'Aug'\n",
       "9. 'Sep'\n",
       "10. 'Oct'\n",
       "11. 'Nov'\n",
       "12. 'Dec'\n",
       "\n",
       "\n",
       "\n",
       "3. \n",
       "|  3 |  1 | \n",
       "| -8 | -3 | \n",
       "\n",
       "\n",
       "\n",
       "4. ```r\n",
       ".Primitive(\"asin\")\n",
       "```\n",
       "\n",
       "\n"
      ],
      "text/plain": [
       "[[1]]\n",
       "[1]  1  1  2  5 14 42\n",
       "\n",
       "[[2]]\n",
       " [1] \"Jan\" \"Feb\" \"Mar\" \"Apr\" \"May\" \"Jun\" \"Jul\" \"Aug\" \"Sep\" \"Oct\" \"Nov\" \"Dec\"\n",
       "\n",
       "[[3]]\n",
       "     [,1] [,2]\n",
       "[1,]    3    1\n",
       "[2,]   -8   -3\n",
       "\n",
       "[[4]]\n",
       "function (x)  .Primitive(\"asin\")\n"
      ]
     },
     "metadata": {},
     "output_type": "display_data"
    }
   ],
   "source": [
    "(a_lista <- list(\n",
    "c(1, 1, 2, 5, 14, 42), #See http://oeis.org/A000108\n",
    "month.abb,\n",
    "matrix(c(3, -8, 1, -3), nrow = 2),\n",
    "asin\n",
    "))"
   ]
  },
  {
   "cell_type": "markdown",
   "metadata": {
    "deletable": true,
    "editable": true
   },
   "source": [
    "Al igual que con los vectores, podemos  nombrar elementos durante la construcción, o después usar la función `names()`:"
   ]
  },
  {
   "cell_type": "code",
   "execution_count": 3,
   "metadata": {
    "collapsed": false,
    "deletable": true,
    "editable": true
   },
   "outputs": [
    {
     "data": {
      "text/html": [
       "<dl>\n",
       "\t<dt>$catalan</dt>\n",
       "\t\t<dd><ol class=list-inline>\n",
       "\t<li>1</li>\n",
       "\t<li>1</li>\n",
       "\t<li>2</li>\n",
       "\t<li>5</li>\n",
       "\t<li>14</li>\n",
       "\t<li>42</li>\n",
       "</ol>\n",
       "</dd>\n",
       "\t<dt>$months</dt>\n",
       "\t\t<dd><ol class=list-inline>\n",
       "\t<li>'Jan'</li>\n",
       "\t<li>'Feb'</li>\n",
       "\t<li>'Mar'</li>\n",
       "\t<li>'Apr'</li>\n",
       "\t<li>'May'</li>\n",
       "\t<li>'Jun'</li>\n",
       "\t<li>'Jul'</li>\n",
       "\t<li>'Aug'</li>\n",
       "\t<li>'Sep'</li>\n",
       "\t<li>'Oct'</li>\n",
       "\t<li>'Nov'</li>\n",
       "\t<li>'Dec'</li>\n",
       "</ol>\n",
       "</dd>\n",
       "\t<dt>$involutary</dt>\n",
       "\t\t<dd><table>\n",
       "<tbody>\n",
       "\t<tr><td> 3</td><td> 1</td></tr>\n",
       "\t<tr><td>-8</td><td>-3</td></tr>\n",
       "</tbody>\n",
       "</table>\n",
       "</dd>\n",
       "\t<dt>$arcsin</dt>\n",
       "\t\t<dd><pre class=language-r><code>.Primitive(\"asin\")</code></pre></dd>\n",
       "</dl>\n"
      ],
      "text/latex": [
       "\\begin{description}\n",
       "\\item[\\$catalan] \\begin{enumerate*}\n",
       "\\item 1\n",
       "\\item 1\n",
       "\\item 2\n",
       "\\item 5\n",
       "\\item 14\n",
       "\\item 42\n",
       "\\end{enumerate*}\n",
       "\n",
       "\\item[\\$months] \\begin{enumerate*}\n",
       "\\item 'Jan'\n",
       "\\item 'Feb'\n",
       "\\item 'Mar'\n",
       "\\item 'Apr'\n",
       "\\item 'May'\n",
       "\\item 'Jun'\n",
       "\\item 'Jul'\n",
       "\\item 'Aug'\n",
       "\\item 'Sep'\n",
       "\\item 'Oct'\n",
       "\\item 'Nov'\n",
       "\\item 'Dec'\n",
       "\\end{enumerate*}\n",
       "\n",
       "\\item[\\$involutary] \\begin{tabular}{ll}\n",
       "\t  3 &  1\\\\\n",
       "\t -8 & -3\\\\\n",
       "\\end{tabular}\n",
       "\n",
       "\\item[\\$arcsin] \\begin{minted}{r}\n",
       ".Primitive(\"asin\")\n",
       "\\end{minted}\n",
       "\\end{description}\n"
      ],
      "text/markdown": [
       "$catalan\n",
       ":   1. 1\n",
       "2. 1\n",
       "3. 2\n",
       "4. 5\n",
       "5. 14\n",
       "6. 42\n",
       "\n",
       "\n",
       "\n",
       "$months\n",
       ":   1. 'Jan'\n",
       "2. 'Feb'\n",
       "3. 'Mar'\n",
       "4. 'Apr'\n",
       "5. 'May'\n",
       "6. 'Jun'\n",
       "7. 'Jul'\n",
       "8. 'Aug'\n",
       "9. 'Sep'\n",
       "10. 'Oct'\n",
       "11. 'Nov'\n",
       "12. 'Dec'\n",
       "\n",
       "\n",
       "\n",
       "$involutary\n",
       ":   \n",
       "|  3 |  1 | \n",
       "| -8 | -3 | \n",
       "\n",
       "\n",
       "\n",
       "$arcsin\n",
       ":   ```r\n",
       ".Primitive(\"asin\")\n",
       "```\n",
       "\n",
       "\n"
      ],
      "text/plain": [
       "$catalan\n",
       "[1]  1  1  2  5 14 42\n",
       "\n",
       "$months\n",
       " [1] \"Jan\" \"Feb\" \"Mar\" \"Apr\" \"May\" \"Jun\" \"Jul\" \"Aug\" \"Sep\" \"Oct\" \"Nov\" \"Dec\"\n",
       "\n",
       "$involutary\n",
       "     [,1] [,2]\n",
       "[1,]    3    1\n",
       "[2,]   -8   -3\n",
       "\n",
       "$arcsin\n",
       "function (x)  .Primitive(\"asin\")\n"
      ]
     },
     "metadata": {},
     "output_type": "display_data"
    }
   ],
   "source": [
    "names(a_lista) <- c(\"catalan\", \"months\", \"involutary\", \"arcsin\")\n",
    "a_lista"
   ]
  },
  {
   "cell_type": "code",
   "execution_count": 4,
   "metadata": {
    "collapsed": false,
    "deletable": true,
    "editable": true
   },
   "outputs": [
    {
     "data": {
      "text/html": [
       "<dl>\n",
       "\t<dt>$catalan</dt>\n",
       "\t\t<dd><ol class=list-inline>\n",
       "\t<li>1</li>\n",
       "\t<li>1</li>\n",
       "\t<li>2</li>\n",
       "\t<li>5</li>\n",
       "\t<li>14</li>\n",
       "\t<li>42</li>\n",
       "</ol>\n",
       "</dd>\n",
       "\t<dt>$months</dt>\n",
       "\t\t<dd><ol class=list-inline>\n",
       "\t<li>'Jan'</li>\n",
       "\t<li>'Feb'</li>\n",
       "\t<li>'Mar'</li>\n",
       "\t<li>'Apr'</li>\n",
       "\t<li>'May'</li>\n",
       "\t<li>'Jun'</li>\n",
       "\t<li>'Jul'</li>\n",
       "\t<li>'Aug'</li>\n",
       "\t<li>'Sep'</li>\n",
       "\t<li>'Oct'</li>\n",
       "\t<li>'Nov'</li>\n",
       "\t<li>'Dec'</li>\n",
       "</ol>\n",
       "</dd>\n",
       "\t<dt>$involutary</dt>\n",
       "\t\t<dd><table>\n",
       "<tbody>\n",
       "\t<tr><td> 3</td><td> 1</td></tr>\n",
       "\t<tr><td>-8</td><td>-3</td></tr>\n",
       "</tbody>\n",
       "</table>\n",
       "</dd>\n",
       "\t<dt>$arcsin</dt>\n",
       "\t\t<dd><pre class=language-r><code>.Primitive(\"asin\")</code></pre></dd>\n",
       "</dl>\n"
      ],
      "text/latex": [
       "\\begin{description}\n",
       "\\item[\\$catalan] \\begin{enumerate*}\n",
       "\\item 1\n",
       "\\item 1\n",
       "\\item 2\n",
       "\\item 5\n",
       "\\item 14\n",
       "\\item 42\n",
       "\\end{enumerate*}\n",
       "\n",
       "\\item[\\$months] \\begin{enumerate*}\n",
       "\\item 'Jan'\n",
       "\\item 'Feb'\n",
       "\\item 'Mar'\n",
       "\\item 'Apr'\n",
       "\\item 'May'\n",
       "\\item 'Jun'\n",
       "\\item 'Jul'\n",
       "\\item 'Aug'\n",
       "\\item 'Sep'\n",
       "\\item 'Oct'\n",
       "\\item 'Nov'\n",
       "\\item 'Dec'\n",
       "\\end{enumerate*}\n",
       "\n",
       "\\item[\\$involutary] \\begin{tabular}{ll}\n",
       "\t  3 &  1\\\\\n",
       "\t -8 & -3\\\\\n",
       "\\end{tabular}\n",
       "\n",
       "\\item[\\$arcsin] \\begin{minted}{r}\n",
       ".Primitive(\"asin\")\n",
       "\\end{minted}\n",
       "\\end{description}\n"
      ],
      "text/markdown": [
       "$catalan\n",
       ":   1. 1\n",
       "2. 1\n",
       "3. 2\n",
       "4. 5\n",
       "5. 14\n",
       "6. 42\n",
       "\n",
       "\n",
       "\n",
       "$months\n",
       ":   1. 'Jan'\n",
       "2. 'Feb'\n",
       "3. 'Mar'\n",
       "4. 'Apr'\n",
       "5. 'May'\n",
       "6. 'Jun'\n",
       "7. 'Jul'\n",
       "8. 'Aug'\n",
       "9. 'Sep'\n",
       "10. 'Oct'\n",
       "11. 'Nov'\n",
       "12. 'Dec'\n",
       "\n",
       "\n",
       "\n",
       "$involutary\n",
       ":   \n",
       "|  3 |  1 | \n",
       "| -8 | -3 | \n",
       "\n",
       "\n",
       "\n",
       "$arcsin\n",
       ":   ```r\n",
       ".Primitive(\"asin\")\n",
       "```\n",
       "\n",
       "\n"
      ],
      "text/plain": [
       "$catalan\n",
       "[1]  1  1  2  5 14 42\n",
       "\n",
       "$months\n",
       " [1] \"Jan\" \"Feb\" \"Mar\" \"Apr\" \"May\" \"Jun\" \"Jul\" \"Aug\" \"Sep\" \"Oct\" \"Nov\" \"Dec\"\n",
       "\n",
       "$involutary\n",
       "     [,1] [,2]\n",
       "[1,]    3    1\n",
       "[2,]   -8   -3\n",
       "\n",
       "$arcsin\n",
       "function (x)  .Primitive(\"asin\")\n"
      ]
     },
     "metadata": {},
     "output_type": "display_data"
    }
   ],
   "source": [
    "(otra_lista <- list(\n",
    "  catalan = c(1, 1, 2, 5, 14, 42),\n",
    "  months = month.abb,\n",
    "  involutary = matrix(c(3, -8, 1, -3), nrow = 2),\n",
    "  arcsin = asin\n",
    "))"
   ]
  },
  {
   "cell_type": "markdown",
   "metadata": {
    "deletable": true,
    "editable": true
   },
   "source": [
    "No es obligatorio, pero ayuda si los nombres que le damos a los  elementos son variables válidas. Incluso es posible que los elementos de las listas sean listas:"
   ]
  },
  {
   "cell_type": "code",
   "execution_count": 5,
   "metadata": {
    "collapsed": false,
    "deletable": true,
    "editable": true
   },
   "outputs": [
    {
     "data": {
      "text/html": [
       "<dl>\n",
       "\t<dt>$lista_media</dt>\n",
       "\t\t<dd><dl>\n",
       "\t<dt>$elemento_en_media_lista</dt>\n",
       "\t\t<dd><table>\n",
       "<tbody>\n",
       "\t<tr><td>1</td><td>0</td><td>0</td></tr>\n",
       "\t<tr><td>0</td><td>1</td><td>0</td></tr>\n",
       "\t<tr><td>0</td><td>0</td><td>1</td></tr>\n",
       "</tbody>\n",
       "</table>\n",
       "</dd>\n",
       "\t<dt>$interior_lista</dt>\n",
       "\t\t<dd><dl>\n",
       "\t<dt>$elemento_en_interior_lista</dt>\n",
       "\t\t<dd>3.14159265358979</dd>\n",
       "\t<dt>$otro_elemento_en_interior_lista</dt>\n",
       "\t\t<dd>'a'</dd>\n",
       "</dl>\n",
       "</dd>\n",
       "</dl>\n",
       "</dd>\n",
       "\t<dt>$elemento_en_lista_inicial</dt>\n",
       "\t\t<dd><ol class=list-inline>\n",
       "\t<li>0</li>\n",
       "\t<li>0.301029995663981</li>\n",
       "\t<li>0.477121254719662</li>\n",
       "\t<li>0.602059991327962</li>\n",
       "\t<li>0.698970004336019</li>\n",
       "\t<li>0.778151250383644</li>\n",
       "\t<li>0.845098040014257</li>\n",
       "\t<li>0.903089986991944</li>\n",
       "\t<li>0.954242509439325</li>\n",
       "\t<li>1</li>\n",
       "</ol>\n",
       "</dd>\n",
       "</dl>\n"
      ],
      "text/latex": [
       "\\begin{description}\n",
       "\\item[\\$lista\\_media] \\begin{description}\n",
       "\\item[\\$elemento\\_en\\_media\\_lista] \\begin{tabular}{lll}\n",
       "\t 1 & 0 & 0\\\\\n",
       "\t 0 & 1 & 0\\\\\n",
       "\t 0 & 0 & 1\\\\\n",
       "\\end{tabular}\n",
       "\n",
       "\\item[\\$interior\\_lista] \\begin{description}\n",
       "\\item[\\$elemento\\_en\\_interior\\_lista] 3.14159265358979\n",
       "\\item[\\$otro\\_elemento\\_en\\_interior\\_lista] 'a'\n",
       "\\end{description}\n",
       "\n",
       "\\end{description}\n",
       "\n",
       "\\item[\\$elemento\\_en\\_lista\\_inicial] \\begin{enumerate*}\n",
       "\\item 0\n",
       "\\item 0.301029995663981\n",
       "\\item 0.477121254719662\n",
       "\\item 0.602059991327962\n",
       "\\item 0.698970004336019\n",
       "\\item 0.778151250383644\n",
       "\\item 0.845098040014257\n",
       "\\item 0.903089986991944\n",
       "\\item 0.954242509439325\n",
       "\\item 1\n",
       "\\end{enumerate*}\n",
       "\n",
       "\\end{description}\n"
      ],
      "text/markdown": [
       "$lista_media\n",
       ":   $elemento_en_media_lista\n",
       ":   \n",
       "| 1 | 0 | 0 | \n",
       "| 0 | 1 | 0 | \n",
       "| 0 | 0 | 1 | \n",
       "\n",
       "\n",
       "\n",
       "$interior_lista\n",
       ":   $elemento_en_interior_lista\n",
       ":   3.14159265358979\n",
       "$otro_elemento_en_interior_lista\n",
       ":   'a'\n",
       "\n",
       "\n",
       "\n",
       "\n",
       "\n",
       "\n",
       "$elemento_en_lista_inicial\n",
       ":   1. 0\n",
       "2. 0.301029995663981\n",
       "3. 0.477121254719662\n",
       "4. 0.602059991327962\n",
       "5. 0.698970004336019\n",
       "6. 0.778151250383644\n",
       "7. 0.845098040014257\n",
       "8. 0.903089986991944\n",
       "9. 0.954242509439325\n",
       "10. 1\n",
       "\n",
       "\n",
       "\n",
       "\n",
       "\n"
      ],
      "text/plain": [
       "$lista_media\n",
       "$lista_media$elemento_en_media_lista\n",
       "     [,1] [,2] [,3]\n",
       "[1,]    1    0    0\n",
       "[2,]    0    1    0\n",
       "[3,]    0    0    1\n",
       "\n",
       "$lista_media$interior_lista\n",
       "$lista_media$interior_lista$elemento_en_interior_lista\n",
       "[1] 3.141593\n",
       "\n",
       "$lista_media$interior_lista$otro_elemento_en_interior_lista\n",
       "[1] \"a\"\n",
       "\n",
       "\n",
       "\n",
       "$elemento_en_lista_inicial\n",
       " [1] 0.0000000 0.3010300 0.4771213 0.6020600 0.6989700 0.7781513 0.8450980\n",
       " [8] 0.9030900 0.9542425 1.0000000\n"
      ]
     },
     "metadata": {},
     "output_type": "display_data"
    }
   ],
   "source": [
    "(lista_inicial <- list(\n",
    "  lista_media = list(\n",
    "    elemento_en_media_lista = diag(3),\n",
    "    interior_lista = list(\n",
    "      elemento_en_interior_lista = pi ^ 1:4,\n",
    "      otro_elemento_en_interior_lista = \"a\"\n",
    "      )\n",
    "    ),\n",
    "elemento_en_lista_inicial = log10(1:10)\n",
    "))"
   ]
  },
  {
   "cell_type": "markdown",
   "metadata": {
    "deletable": true,
    "editable": true
   },
   "source": [
    "Debido a esta capacidad de contener otras listas dentro de sí, las listas se consideran variables recursivas. Los vectores, matrices y array, por el contrario, son atómicos. (Las variables pueden ser recursivas o atómicas, nunca las dos) Las funciones `is.recursive` y `is.atomic`  permiten probar variables para ver de qué tipo son:"
   ]
  },
  {
   "cell_type": "code",
   "execution_count": 6,
   "metadata": {
    "collapsed": false,
    "deletable": true,
    "editable": true
   },
   "outputs": [
    {
     "data": {
      "text/html": [
       "FALSE"
      ],
      "text/latex": [
       "FALSE"
      ],
      "text/markdown": [
       "FALSE"
      ],
      "text/plain": [
       "[1] FALSE"
      ]
     },
     "metadata": {},
     "output_type": "display_data"
    },
    {
     "data": {
      "text/html": [
       "TRUE"
      ],
      "text/latex": [
       "TRUE"
      ],
      "text/markdown": [
       "TRUE"
      ],
      "text/plain": [
       "[1] TRUE"
      ]
     },
     "metadata": {},
     "output_type": "display_data"
    },
    {
     "data": {
      "text/html": [
       "TRUE"
      ],
      "text/latex": [
       "TRUE"
      ],
      "text/markdown": [
       "TRUE"
      ],
      "text/plain": [
       "[1] TRUE"
      ]
     },
     "metadata": {},
     "output_type": "display_data"
    },
    {
     "data": {
      "text/html": [
       "FALSE"
      ],
      "text/latex": [
       "FALSE"
      ],
      "text/markdown": [
       "FALSE"
      ],
      "text/plain": [
       "[1] FALSE"
      ]
     },
     "metadata": {},
     "output_type": "display_data"
    }
   ],
   "source": [
    "is.atomic(list())\n",
    "is.recursive(list())\n",
    "is.atomic(numeric())\n",
    "is.recursive(numeric())"
   ]
  },
  {
   "cell_type": "markdown",
   "metadata": {
    "deletable": true,
    "editable": true
   },
   "source": [
    "Como vectores, las listas tienen una longitud. La longitud de una lista es el número de elementos  que contiene:"
   ]
  },
  {
   "cell_type": "code",
   "execution_count": 7,
   "metadata": {
    "collapsed": false,
    "deletable": true,
    "editable": true
   },
   "outputs": [
    {
     "data": {
      "text/html": [
       "4"
      ],
      "text/latex": [
       "4"
      ],
      "text/markdown": [
       "4"
      ],
      "text/plain": [
       "[1] 4"
      ]
     },
     "metadata": {},
     "output_type": "display_data"
    }
   ],
   "source": [
    "length(a_lista)"
   ]
  },
  {
   "cell_type": "code",
   "execution_count": 8,
   "metadata": {
    "collapsed": false,
    "deletable": true,
    "editable": true
   },
   "outputs": [
    {
     "data": {
      "text/html": [
       "2"
      ],
      "text/latex": [
       "2"
      ],
      "text/markdown": [
       "2"
      ],
      "text/plain": [
       "[1] 2"
      ]
     },
     "metadata": {},
     "output_type": "display_data"
    }
   ],
   "source": [
    "length(lista_inicial)"
   ]
  },
  {
   "cell_type": "markdown",
   "metadata": {
    "deletable": true,
    "editable": true
   },
   "source": [
    "De nuevo, como los vectores, pero a diferencia de las matrices, las listas no tienen dimensiones. La función `dim` devuelve correspondientemente `NULL`. `nrow`, `NROW`  y las funciones de columna correspondientes funcionan en listas de la misma manera que en vectores:"
   ]
  },
  {
   "cell_type": "code",
   "execution_count": 9,
   "metadata": {
    "collapsed": false,
    "deletable": true,
    "editable": true
   },
   "outputs": [
    {
     "data": {
      "text/plain": [
       "NULL"
      ]
     },
     "metadata": {},
     "output_type": "display_data"
    }
   ],
   "source": [
    "dim(a_lista)"
   ]
  },
  {
   "cell_type": "code",
   "execution_count": 10,
   "metadata": {
    "collapsed": false,
    "deletable": true,
    "editable": true
   },
   "outputs": [
    {
     "data": {
      "text/plain": [
       "NULL"
      ]
     },
     "metadata": {},
     "output_type": "display_data"
    }
   ],
   "source": [
    "nrow(a_lista)"
   ]
  },
  {
   "cell_type": "code",
   "execution_count": 11,
   "metadata": {
    "collapsed": false,
    "deletable": true,
    "editable": true
   },
   "outputs": [
    {
     "data": {
      "text/plain": [
       "NULL"
      ]
     },
     "metadata": {},
     "output_type": "display_data"
    }
   ],
   "source": [
    "ncol(a_lista)"
   ]
  },
  {
   "cell_type": "code",
   "execution_count": 12,
   "metadata": {
    "collapsed": false,
    "deletable": true,
    "editable": true
   },
   "outputs": [
    {
     "data": {
      "text/html": [
       "4"
      ],
      "text/latex": [
       "4"
      ],
      "text/markdown": [
       "4"
      ],
      "text/plain": [
       "[1] 4"
      ]
     },
     "metadata": {},
     "output_type": "display_data"
    }
   ],
   "source": [
    "NROW(a_lista)"
   ]
  },
  {
   "cell_type": "code",
   "execution_count": 13,
   "metadata": {
    "collapsed": false,
    "deletable": true,
    "editable": true
   },
   "outputs": [
    {
     "data": {
      "text/html": [
       "1"
      ],
      "text/latex": [
       "1"
      ],
      "text/markdown": [
       "1"
      ],
      "text/plain": [
       "[1] 1"
      ]
     },
     "metadata": {},
     "output_type": "display_data"
    }
   ],
   "source": [
    "NCOL(a_lista)"
   ]
  },
  {
   "cell_type": "markdown",
   "metadata": {
    "deletable": true,
    "editable": true
   },
   "source": [
    "A diferencia de los vectores, la aritmética no funciona en las listas, ya que  cada elemento puede ser de un tipo diferente, por lo que no tiene sentido poder agregar o multiplicar dos listas. Es posible hacer aritmética en elementos de lista, sin embargo, suponiendo que son de un tipo apropiado. En ese caso, se aplican las reglas habituales para los elementos:"
   ]
  },
  {
   "cell_type": "code",
   "execution_count": 14,
   "metadata": {
    "collapsed": false,
    "deletable": true,
    "editable": true
   },
   "outputs": [
    {
     "data": {
      "text/html": [
       "<ol class=list-inline>\n",
       "\t<li>7</li>\n",
       "\t<li>9</li>\n",
       "\t<li>11</li>\n",
       "\t<li>13</li>\n",
       "\t<li>15</li>\n",
       "</ol>\n"
      ],
      "text/latex": [
       "\\begin{enumerate*}\n",
       "\\item 7\n",
       "\\item 9\n",
       "\\item 11\n",
       "\\item 13\n",
       "\\item 15\n",
       "\\end{enumerate*}\n"
      ],
      "text/markdown": [
       "1. 7\n",
       "2. 9\n",
       "3. 11\n",
       "4. 13\n",
       "5. 15\n",
       "\n",
       "\n"
      ],
      "text/plain": [
       "[1]  7  9 11 13 15"
      ]
     },
     "metadata": {},
     "output_type": "display_data"
    }
   ],
   "source": [
    "l1 <- list(1:5)\n",
    "l2 <- list(6:10)\n",
    "l1[[1]] + l2[[1]]"
   ]
  },
  {
   "cell_type": "markdown",
   "metadata": {
    "deletable": true,
    "editable": true
   },
   "source": [
    "Se puede acceder a una lista de diversas maneras, por ejemplo si se quiere acceder a un elemento `c` de una lista  llamada `lista`.\n",
    "```\n",
    " lista$c\n",
    " lista[[\"c\"]]\n",
    " lista[[i]], donde i es el índice de c dentro de lista.\n",
    "```\n",
    "Una alternativa de listar elementos de una lista es usar un solo corchete en lugar de dos\n",
    "\n",
    "```\n",
    "lista[\"c\"]\n",
    "lista[i],  donde i es el índice de c dentro de lista.\n",
    "```\n",
    "\n",
    "Si un único corchete es usado `[]` el resultado es otra lista, una sublista de la original:"
   ]
  },
  {
   "cell_type": "code",
   "execution_count": 15,
   "metadata": {
    "collapsed": false,
    "deletable": true,
    "editable": true
   },
   "outputs": [
    {
     "data": {
      "text/html": [
       "<dl>\n",
       "\t<dt>$name1</dt>\n",
       "\t\t<dd>'Python'</dd>\n",
       "\t<dt>$name2</dt>\n",
       "\t\t<dd>5</dd>\n",
       "\t<dt>$name3</dt>\n",
       "\t\t<dd>'Interpretado'</dd>\n",
       "</dl>\n"
      ],
      "text/latex": [
       "\\begin{description}\n",
       "\\item[\\$name1] 'Python'\n",
       "\\item[\\$name2] 5\n",
       "\\item[\\$name3] 'Interpretado'\n",
       "\\end{description}\n"
      ],
      "text/markdown": [
       "$name1\n",
       ":   'Python'\n",
       "$name2\n",
       ":   5\n",
       "$name3\n",
       ":   'Interpretado'\n",
       "\n",
       "\n"
      ],
      "text/plain": [
       "$name1\n",
       "[1] \"Python\"\n",
       "\n",
       "$name2\n",
       "[1] 5\n",
       "\n",
       "$name3\n",
       "[1] \"Interpretado\"\n"
      ]
     },
     "metadata": {},
     "output_type": "display_data"
    },
    {
     "data": {
      "text/html": [
       "'Python'"
      ],
      "text/latex": [
       "'Python'"
      ],
      "text/markdown": [
       "'Python'"
      ],
      "text/plain": [
       "[1] \"Python\""
      ]
     },
     "metadata": {},
     "output_type": "display_data"
    },
    {
     "data": {
      "text/html": [
       "5"
      ],
      "text/latex": [
       "5"
      ],
      "text/markdown": [
       "5"
      ],
      "text/plain": [
       "[1] 5"
      ]
     },
     "metadata": {},
     "output_type": "display_data"
    },
    {
     "data": {
      "text/html": [
       "'Interpretado'"
      ],
      "text/latex": [
       "'Interpretado'"
      ],
      "text/markdown": [
       "'Interpretado'"
      ],
      "text/plain": [
       "[1] \"Interpretado\""
      ]
     },
     "metadata": {},
     "output_type": "display_data"
    }
   ],
   "source": [
    "lenguaje <- list(name1=\"Python\", name2=5, name3=\"Interpretado\")\n",
    "lenguaje\n",
    "lenguaje$name1\n",
    "lenguaje[[\"name2\"]]\n",
    "lenguaje[[3]]"
   ]
  },
  {
   "cell_type": "code",
   "execution_count": 16,
   "metadata": {
    "collapsed": false,
    "deletable": true,
    "editable": true
   },
   "outputs": [
    {
     "data": {
      "text/html": [
       "<dl>\n",
       "\t<dt>$name1</dt>\n",
       "\t\t<dd>'Python'</dd>\n",
       "\t<dt>$name2</dt>\n",
       "\t\t<dd>5</dd>\n",
       "</dl>\n"
      ],
      "text/latex": [
       "\\begin{description}\n",
       "\\item[\\$name1] 'Python'\n",
       "\\item[\\$name2] 5\n",
       "\\end{description}\n"
      ],
      "text/markdown": [
       "$name1\n",
       ":   'Python'\n",
       "$name2\n",
       ":   5\n",
       "\n",
       "\n"
      ],
      "text/plain": [
       "$name1\n",
       "[1] \"Python\"\n",
       "\n",
       "$name2\n",
       "[1] 5\n"
      ]
     },
     "metadata": {},
     "output_type": "display_data"
    },
    {
     "data": {
      "text/html": [
       "<strong>$name3</strong> = 'Interpretado'"
      ],
      "text/latex": [
       "\\textbf{\\$name3} = 'Interpretado'"
      ],
      "text/markdown": [
       "**$name3** = 'Interpretado'"
      ],
      "text/plain": [
       "$name3\n",
       "[1] \"Interpretado\"\n"
      ]
     },
     "metadata": {},
     "output_type": "display_data"
    },
    {
     "data": {
      "text/html": [
       "'list'"
      ],
      "text/latex": [
       "'list'"
      ],
      "text/markdown": [
       "'list'"
      ],
      "text/plain": [
       "[1] \"list\""
      ]
     },
     "metadata": {},
     "output_type": "display_data"
    },
    {
     "name": "stdout",
     "output_type": "stream",
     "text": [
      "List of 1\n",
      " $ name3: chr \"Interpretado\"\n"
     ]
    }
   ],
   "source": [
    "# Usando un solo corchete\n",
    "\n",
    "lenguaje[1:2]\n",
    "lenguajes1<-lenguaje[3]\n",
    "lenguajes1\n",
    "class(lenguajes1)\n",
    "str(lenguajes1)"
   ]
  },
  {
   "cell_type": "markdown",
   "metadata": {
    "deletable": true,
    "editable": true
   },
   "source": [
    "Usando doble corchetes `[[ ]]` se refieres a una sola componente, con el resultado de tener el tipo de esa componente:"
   ]
  },
  {
   "cell_type": "code",
   "execution_count": 17,
   "metadata": {
    "collapsed": false,
    "deletable": true,
    "editable": true
   },
   "outputs": [
    {
     "data": {
      "text/html": [
       "'Python'"
      ],
      "text/latex": [
       "'Python'"
      ],
      "text/markdown": [
       "'Python'"
      ],
      "text/plain": [
       "[1] \"Python\""
      ]
     },
     "metadata": {},
     "output_type": "display_data"
    },
    {
     "data": {
      "text/html": [
       "'Interpretado'"
      ],
      "text/latex": [
       "'Interpretado'"
      ],
      "text/markdown": [
       "'Interpretado'"
      ],
      "text/plain": [
       "[1] \"Interpretado\""
      ]
     },
     "metadata": {},
     "output_type": "display_data"
    },
    {
     "data": {
      "text/html": [
       "'character'"
      ],
      "text/latex": [
       "'character'"
      ],
      "text/markdown": [
       "'character'"
      ],
      "text/plain": [
       "[1] \"character\""
      ]
     },
     "metadata": {},
     "output_type": "display_data"
    }
   ],
   "source": [
    "lenguaje[[1:1]]\n",
    "lenguajes2 <-  lenguaje[[3]]\n",
    "lenguajes2\n",
    "class(lenguajes2)"
   ]
  },
  {
   "cell_type": "markdown",
   "metadata": {
    "deletable": true,
    "editable": true
   },
   "source": [
    "Hay otros dos operadores para extraer elementos de una lista: `[[` y `$`. `[[` es similar a `[`, excepto que sólo puede devolver un solo valor. `$` es un atajo útil para `[[` combinado con  de carácteres.\n",
    "\n",
    "Es necesario el uso de `[[` cuando se trabaja con listas. Esto es porque cuando `[` se aplica a una lista  siempre devuelve una lista: nunca devuelve el  contenido de la lista. Para obtener el contenido, es necesario `[[` :"
   ]
  },
  {
   "cell_type": "code",
   "execution_count": 18,
   "metadata": {
    "collapsed": false,
    "deletable": true,
    "editable": true
   },
   "outputs": [
    {
     "data": {
      "text/html": [
       "1"
      ],
      "text/latex": [
       "1"
      ],
      "text/markdown": [
       "1"
      ],
      "text/plain": [
       "[1] 1"
      ]
     },
     "metadata": {},
     "output_type": "display_data"
    },
    {
     "data": {
      "text/html": [
       "1"
      ],
      "text/latex": [
       "1"
      ],
      "text/markdown": [
       "1"
      ],
      "text/plain": [
       "[1] 1"
      ]
     },
     "metadata": {},
     "output_type": "display_data"
    }
   ],
   "source": [
    "ar <- list(a = 1, b = 2)\n",
    "ar[[1]]\n",
    "ar[[\"a\"]]"
   ]
  },
  {
   "cell_type": "code",
   "execution_count": 19,
   "metadata": {
    "collapsed": false,
    "deletable": true,
    "editable": true
   },
   "outputs": [
    {
     "data": {
      "text/html": [
       "1"
      ],
      "text/latex": [
       "1"
      ],
      "text/markdown": [
       "1"
      ],
      "text/plain": [
       "[1] 1"
      ]
     },
     "metadata": {},
     "output_type": "display_data"
    },
    {
     "data": {
      "text/html": [
       "1"
      ],
      "text/latex": [
       "1"
      ],
      "text/markdown": [
       "1"
      ],
      "text/plain": [
       "[1] 1"
      ]
     },
     "metadata": {},
     "output_type": "display_data"
    }
   ],
   "source": [
    "b2 <- list(a = list(b = list(c = list(d = 1))))\n",
    "b2[[c(\"a\", \"b\", \"c\", \"d\")]]\n",
    "\n",
    "# O lo que es lo mismo\n",
    "\n",
    "b2[[\"a\"]][[\"b\"]][[\"c\"]][[\"d\"]]"
   ]
  },
  {
   "cell_type": "code",
   "execution_count": 20,
   "metadata": {
    "collapsed": false,
    "deletable": true,
    "editable": true
   },
   "outputs": [
    {
     "data": {
      "text/html": [
       "<dl>\n",
       "\t<dt>$first</dt>\n",
       "\t\t<dd>1</dd>\n",
       "\t<dt>$second</dt>\n",
       "\t\t<dd>2</dd>\n",
       "</dl>\n"
      ],
      "text/latex": [
       "\\begin{description}\n",
       "\\item[\\$first] 1\n",
       "\\item[\\$second] 2\n",
       "\\end{description}\n"
      ],
      "text/markdown": [
       "$first\n",
       ":   1\n",
       "$second\n",
       ":   2\n",
       "\n",
       "\n"
      ],
      "text/plain": [
       "$first\n",
       "[1] 1\n",
       "\n",
       "$second\n",
       "[1] 2\n"
      ]
     },
     "metadata": {},
     "output_type": "display_data"
    },
    {
     "data": {
      "text/html": [
       "<dl>\n",
       "\t<dt>$first</dt>\n",
       "\t\t<dd>1</dd>\n",
       "\t<dt>$second</dt>\n",
       "\t\t<dd>2</dd>\n",
       "</dl>\n"
      ],
      "text/latex": [
       "\\begin{description}\n",
       "\\item[\\$first] 1\n",
       "\\item[\\$second] 2\n",
       "\\end{description}\n"
      ],
      "text/markdown": [
       "$first\n",
       ":   1\n",
       "$second\n",
       ":   2\n",
       "\n",
       "\n"
      ],
      "text/plain": [
       "$first\n",
       "[1] 1\n",
       "\n",
       "$second\n",
       "[1] 2\n"
      ]
     },
     "metadata": {},
     "output_type": "display_data"
    },
    {
     "data": {
      "text/html": [
       "<dl>\n",
       "\t<dt>$first</dt>\n",
       "\t\t<dd>1</dd>\n",
       "\t<dt>$second</dt>\n",
       "\t\t<dd>2</dd>\n",
       "</dl>\n"
      ],
      "text/latex": [
       "\\begin{description}\n",
       "\\item[\\$first] 1\n",
       "\\item[\\$second] 2\n",
       "\\end{description}\n"
      ],
      "text/markdown": [
       "$first\n",
       ":   1\n",
       "$second\n",
       ":   2\n",
       "\n",
       "\n"
      ],
      "text/plain": [
       "$first\n",
       "[1] 1\n",
       "\n",
       "$second\n",
       "[1] 2\n"
      ]
     },
     "metadata": {},
     "output_type": "display_data"
    },
    {
     "data": {
      "text/html": [
       "<dl>\n",
       "\t<dt>$first</dt>\n",
       "\t\t<dd>1</dd>\n",
       "\t<dt>$second</dt>\n",
       "\t\t<dd>2</dd>\n",
       "</dl>\n"
      ],
      "text/latex": [
       "\\begin{description}\n",
       "\\item[\\$first] 1\n",
       "\\item[\\$second] 2\n",
       "\\end{description}\n"
      ],
      "text/markdown": [
       "$first\n",
       ":   1\n",
       "$second\n",
       ":   2\n",
       "\n",
       "\n"
      ],
      "text/plain": [
       "$first\n",
       "[1] 1\n",
       "\n",
       "$second\n",
       "[1] 2\n"
      ]
     },
     "metadata": {},
     "output_type": "display_data"
    }
   ],
   "source": [
    "# uso de [] en lista, produce otras sublistas\n",
    "\n",
    "l <- list(\n",
    "  first = 1,\n",
    "  second = 2,\n",
    "  third = list(\n",
    "    alpha = 3.1,\n",
    "    beta = 3.2\n",
    "    )\n",
    "  )\n",
    "\n",
    "l[1:2]\n",
    "l[-3]\n",
    "l[c(\"first\", \"second\")]\n",
    "l[c(TRUE, TRUE, FALSE)]"
   ]
  },
  {
   "cell_type": "code",
   "execution_count": 21,
   "metadata": {
    "collapsed": false,
    "deletable": true,
    "editable": true
   },
   "outputs": [
    {
     "data": {
      "text/html": [
       "1"
      ],
      "text/latex": [
       "1"
      ],
      "text/markdown": [
       "1"
      ],
      "text/plain": [
       "[1] 1"
      ]
     },
     "metadata": {},
     "output_type": "display_data"
    },
    {
     "data": {
      "text/html": [
       "2"
      ],
      "text/latex": [
       "2"
      ],
      "text/markdown": [
       "2"
      ],
      "text/plain": [
       "[1] 2"
      ]
     },
     "metadata": {},
     "output_type": "display_data"
    }
   ],
   "source": [
    "# uso de [[]] para acceder al contenido de un solo elemento\n",
    "\n",
    "l[[1]]\n",
    "l[[\"second\"]]"
   ]
  },
  {
   "cell_type": "markdown",
   "metadata": {
    "deletable": true,
    "editable": true
   },
   "source": [
    "La función `is.list` devuelve `TRUE` si la entrada es una lista, y `FALSE` en caso contrario. Para una comparación, eche un vistazo a los dos operadores de indexación:"
   ]
  },
  {
   "cell_type": "code",
   "execution_count": 22,
   "metadata": {
    "collapsed": false,
    "deletable": true,
    "editable": true
   },
   "outputs": [
    {
     "data": {
      "text/html": [
       "TRUE"
      ],
      "text/latex": [
       "TRUE"
      ],
      "text/markdown": [
       "TRUE"
      ],
      "text/plain": [
       "[1] TRUE"
      ]
     },
     "metadata": {},
     "output_type": "display_data"
    }
   ],
   "source": [
    "is.list(l[1])"
   ]
  },
  {
   "cell_type": "code",
   "execution_count": 23,
   "metadata": {
    "collapsed": false,
    "deletable": true,
    "editable": true
   },
   "outputs": [
    {
     "data": {
      "text/html": [
       "FALSE"
      ],
      "text/latex": [
       "FALSE"
      ],
      "text/markdown": [
       "FALSE"
      ],
      "text/plain": [
       "[1] FALSE"
      ]
     },
     "metadata": {},
     "output_type": "display_data"
    }
   ],
   "source": [
    "is.list(l[[1]])"
   ]
  },
  {
   "cell_type": "markdown",
   "metadata": {
    "deletable": true,
    "editable": true
   },
   "source": [
    "Para los elementos con nombre de las listas, también podemos utilizar el operador  `$`. Esto funciona casi de la misma manera que pasar una cadena con nombre a los corchetes dobles:"
   ]
  },
  {
   "cell_type": "code",
   "execution_count": 24,
   "metadata": {
    "collapsed": false,
    "deletable": true,
    "editable": true
   },
   "outputs": [
    {
     "data": {
      "text/html": [
       "2"
      ],
      "text/latex": [
       "2"
      ],
      "text/markdown": [
       "2"
      ],
      "text/plain": [
       "[1] 2"
      ]
     },
     "metadata": {},
     "output_type": "display_data"
    }
   ],
   "source": [
    "l$second"
   ]
  },
  {
   "cell_type": "code",
   "execution_count": 25,
   "metadata": {
    "collapsed": false,
    "deletable": true,
    "editable": true
   },
   "outputs": [
    {
     "data": {
      "text/html": [
       "1"
      ],
      "text/latex": [
       "1"
      ],
      "text/markdown": [
       "1"
      ],
      "text/plain": [
       "[1] 1"
      ]
     },
     "metadata": {},
     "output_type": "display_data"
    }
   ],
   "source": [
    "l$f"
   ]
  },
  {
   "cell_type": "markdown",
   "metadata": {
    "deletable": true,
    "editable": true
   },
   "source": [
    "\n",
    "Para acceder a los elementos anidados, podemos apilar los corchetes o pasar en un vector, aunque el último método es menos común y por lo general más difícil de leer:"
   ]
  },
  {
   "cell_type": "code",
   "execution_count": 26,
   "metadata": {
    "collapsed": false,
    "deletable": true,
    "editable": true
   },
   "outputs": [
    {
     "data": {
      "text/html": [
       "<strong>$beta</strong> = 3.2"
      ],
      "text/latex": [
       "\\textbf{\\$beta} = 3.2"
      ],
      "text/markdown": [
       "**$beta** = 3.2"
      ],
      "text/plain": [
       "$beta\n",
       "[1] 3.2\n"
      ]
     },
     "metadata": {},
     "output_type": "display_data"
    }
   ],
   "source": [
    "l[[\"third\"]][\"beta\"]"
   ]
  },
  {
   "cell_type": "code",
   "execution_count": 27,
   "metadata": {
    "collapsed": false,
    "deletable": true,
    "editable": true
   },
   "outputs": [
    {
     "data": {
      "text/html": [
       "3.2"
      ],
      "text/latex": [
       "3.2"
      ],
      "text/markdown": [
       "3.2"
      ],
      "text/plain": [
       "[1] 3.2"
      ]
     },
     "metadata": {},
     "output_type": "display_data"
    }
   ],
   "source": [
    "l[[\"third\"]][[\"beta\"]]"
   ]
  },
  {
   "cell_type": "code",
   "execution_count": 28,
   "metadata": {
    "collapsed": false,
    "deletable": true,
    "editable": true
   },
   "outputs": [
    {
     "data": {
      "text/html": [
       "3.2"
      ],
      "text/latex": [
       "3.2"
      ],
      "text/markdown": [
       "3.2"
      ],
      "text/plain": [
       "[1] 3.2"
      ]
     },
     "metadata": {},
     "output_type": "display_data"
    }
   ],
   "source": [
    "l[[c(\"third\", \"beta\")]]"
   ]
  },
  {
   "cell_type": "markdown",
   "metadata": {
    "deletable": true,
    "editable": true
   },
   "source": [
    "El comportamiento cuando se intenta  acceder  a un elemento inexistente de una lista varía dependiendo del tipo de indexado. Para el siguiente ejemplo, las lista  `l`  tiene sólo tres elementos.\n",
    "\n",
    "Si utilizamos la indexación con `[ ]`, la lista resultante tiene un elemento con el valor `NULL` (y `NA` si la lista original tiene nombres). Comparamos esto con la mala indexación de un vector donde el valor de retorno es `NA`:"
   ]
  },
  {
   "cell_type": "code",
   "execution_count": 29,
   "metadata": {
    "collapsed": false,
    "deletable": true,
    "editable": true
   },
   "outputs": [
    {
     "data": {
      "text/plain": [
       "$<NA>\n",
       "NULL\n",
       "\n",
       "$second\n",
       "[1] 2\n",
       "\n",
       "$<NA>\n",
       "NULL\n"
      ]
     },
     "metadata": {},
     "output_type": "display_data"
    }
   ],
   "source": [
    "l[c(4, 2, 5)]"
   ]
  },
  {
   "cell_type": "code",
   "execution_count": 30,
   "metadata": {
    "collapsed": false,
    "deletable": true,
    "editable": true
   },
   "outputs": [
    {
     "data": {
      "text/plain": [
       "$<NA>\n",
       "NULL\n",
       "\n",
       "$second\n",
       "[1] 2\n",
       "\n",
       "$<NA>\n",
       "NULL\n"
      ]
     },
     "metadata": {},
     "output_type": "display_data"
    }
   ],
   "source": [
    "l[c(\"fourth\", \"second\", \"fifth\")]"
   ]
  },
  {
   "cell_type": "markdown",
   "metadata": {
    "deletable": true,
    "editable": true
   },
   "source": [
    "Intentar acceder al contenido de un elemento con un nombre incorrecto, ya sea con doble corchetes o un signo de dólar, devuelve `NULL`:"
   ]
  },
  {
   "cell_type": "code",
   "execution_count": 31,
   "metadata": {
    "collapsed": false,
    "deletable": true,
    "editable": true
   },
   "outputs": [
    {
     "data": {
      "text/plain": [
       "NULL"
      ]
     },
     "metadata": {},
     "output_type": "display_data"
    },
    {
     "data": {
      "text/plain": [
       "NULL"
      ]
     },
     "metadata": {},
     "output_type": "display_data"
    }
   ],
   "source": [
    "l[[\"fourth\"]]\n",
    "l$fourth"
   ]
  },
  {
   "cell_type": "markdown",
   "metadata": {
    "deletable": true,
    "editable": true
   },
   "source": [
    "Finalmente, intentar acceder al contenido de un elemento con un índice numérico incorrecto arroja un error, indicando que el subíndice está fuera de límites. Esta inconsistencia en el comportamiento es algo que sólo necesita aceptar, aunque la mejor defensa es asegurarse de que compruebe sus índices antes de usarlos:"
   ]
  },
  {
   "cell_type": "code",
   "execution_count": 32,
   "metadata": {
    "collapsed": false,
    "deletable": true,
    "editable": true
   },
   "outputs": [
    {
     "ename": "ERROR",
     "evalue": "Error in l[[4]]: subíndice fuera de  los límites\n",
     "output_type": "error",
     "traceback": [
      "Error in l[[4]]: subíndice fuera de  los límites\nTraceback:\n"
     ]
    }
   ],
   "source": [
    "l[[4]]"
   ]
  },
  {
   "cell_type": "markdown",
   "metadata": {
    "deletable": true,
    "editable": true
   },
   "source": [
    "Una aplicación natural de todo esto es la de agregar  y eliminar  elementos de una lista:"
   ]
  },
  {
   "cell_type": "code",
   "execution_count": 33,
   "metadata": {
    "collapsed": false,
    "deletable": true,
    "editable": true
   },
   "outputs": [
    {
     "data": {
      "text/html": [
       "<dl>\n",
       "\t<dt>$a</dt>\n",
       "\t\t<dd>'python'</dd>\n",
       "\t<dt>$b</dt>\n",
       "\t\t<dd><ol class=list-inline>\n",
       "\t<li>1</li>\n",
       "\t<li>2</li>\n",
       "\t<li>4</li>\n",
       "</ol>\n",
       "</dd>\n",
       "\t<dt>$c</dt>\n",
       "\t\t<dd>13</dd>\n",
       "</dl>\n"
      ],
      "text/latex": [
       "\\begin{description}\n",
       "\\item[\\$a] 'python'\n",
       "\\item[\\$b] \\begin{enumerate*}\n",
       "\\item 1\n",
       "\\item 2\n",
       "\\item 4\n",
       "\\end{enumerate*}\n",
       "\n",
       "\\item[\\$c] 13\n",
       "\\end{description}\n"
      ],
      "text/markdown": [
       "$a\n",
       ":   'python'\n",
       "$b\n",
       ":   1. 1\n",
       "2. 2\n",
       "3. 4\n",
       "\n",
       "\n",
       "\n",
       "$c\n",
       ":   13\n",
       "\n",
       "\n"
      ],
      "text/plain": [
       "$a\n",
       "[1] \"python\"\n",
       "\n",
       "$b\n",
       "[1] 1 2 4\n",
       "\n",
       "$c\n",
       "[1] 13\n"
      ]
     },
     "metadata": {},
     "output_type": "display_data"
    },
    {
     "data": {
      "text/html": [
       "<dl>\n",
       "\t<dt>$a</dt>\n",
       "\t\t<dd>'python'</dd>\n",
       "\t<dt>$b</dt>\n",
       "\t\t<dd><ol class=list-inline>\n",
       "\t<li>1</li>\n",
       "\t<li>2</li>\n",
       "\t<li>4</li>\n",
       "</ol>\n",
       "</dd>\n",
       "\t<dt>$c</dt>\n",
       "\t\t<dd>13</dd>\n",
       "\t<dt>$d</dt>\n",
       "\t\t<dd>'Milagros'</dd>\n",
       "</dl>\n"
      ],
      "text/latex": [
       "\\begin{description}\n",
       "\\item[\\$a] 'python'\n",
       "\\item[\\$b] \\begin{enumerate*}\n",
       "\\item 1\n",
       "\\item 2\n",
       "\\item 4\n",
       "\\end{enumerate*}\n",
       "\n",
       "\\item[\\$c] 13\n",
       "\\item[\\$d] 'Milagros'\n",
       "\\end{description}\n"
      ],
      "text/markdown": [
       "$a\n",
       ":   'python'\n",
       "$b\n",
       ":   1. 1\n",
       "2. 2\n",
       "3. 4\n",
       "\n",
       "\n",
       "\n",
       "$c\n",
       ":   13\n",
       "$d\n",
       ":   'Milagros'\n",
       "\n",
       "\n"
      ],
      "text/plain": [
       "$a\n",
       "[1] \"python\"\n",
       "\n",
       "$b\n",
       "[1] 1 2 4\n",
       "\n",
       "$c\n",
       "[1] 13\n",
       "\n",
       "$d\n",
       "[1] \"Milagros\"\n"
      ]
     },
     "metadata": {},
     "output_type": "display_data"
    },
    {
     "data": {
      "text/plain": [
       "$a\n",
       "[1] \"python\"\n",
       "\n",
       "$b\n",
       "[1] 1 2 4\n",
       "\n",
       "$c\n",
       "[1] 13\n",
       "\n",
       "$d\n",
       "[1] \"Milagros\"\n",
       "\n",
       "[[5]]\n",
       "[1] 20\n",
       "\n",
       "[[6]]\n",
       "[1] TRUE\n",
       "\n",
       "[[7]]\n",
       "[1] TRUE\n",
       "\n",
       "[[8]]\n",
       "[1] FALSE\n"
      ]
     },
     "metadata": {},
     "output_type": "display_data"
    }
   ],
   "source": [
    "l <-list(a = \"python\", b= c(1,2,4), c = 13)\n",
    "l\n",
    "l$d <- \"Milagros\"  # agrego un componente\n",
    "l\n",
    "l[[5]]<- 20\n",
    "l [6:8]<- c(TRUE, TRUE, FALSE)\n",
    "l"
   ]
  },
  {
   "cell_type": "code",
   "execution_count": 34,
   "metadata": {
    "collapsed": false,
    "deletable": true,
    "editable": true
   },
   "outputs": [
    {
     "data": {
      "text/plain": [
       "$a\n",
       "[1] \"python\"\n",
       "\n",
       "$c\n",
       "[1] 13\n",
       "\n",
       "$d\n",
       "[1] \"Milagros\"\n",
       "\n",
       "[[4]]\n",
       "[1] 20\n",
       "\n",
       "[[5]]\n",
       "[1] TRUE\n",
       "\n",
       "[[6]]\n",
       "[1] TRUE\n",
       "\n",
       "[[7]]\n",
       "[1] FALSE\n"
      ]
     },
     "metadata": {},
     "output_type": "display_data"
    }
   ],
   "source": [
    "# Podemos eliminar componentes poniendo NULL a la componente\n",
    "\n",
    "l$b <-NULL\n",
    "l"
   ]
  },
  {
   "cell_type": "markdown",
   "metadata": {
    "deletable": true,
    "editable": true
   },
   "source": [
    "Podemos acceder a los componentes de una lista:"
   ]
  },
  {
   "cell_type": "code",
   "execution_count": 35,
   "metadata": {
    "collapsed": false,
    "deletable": true,
    "editable": true
   },
   "outputs": [
    {
     "data": {
      "text/html": [
       "<ol class=list-inline>\n",
       "\t<li>'name1'</li>\n",
       "\t<li>'name2'</li>\n",
       "\t<li>'name3'</li>\n",
       "</ol>\n"
      ],
      "text/latex": [
       "\\begin{enumerate*}\n",
       "\\item 'name1'\n",
       "\\item 'name2'\n",
       "\\item 'name3'\n",
       "\\end{enumerate*}\n"
      ],
      "text/markdown": [
       "1. 'name1'\n",
       "2. 'name2'\n",
       "3. 'name3'\n",
       "\n",
       "\n"
      ],
      "text/plain": [
       "[1] \"name1\" \"name2\" \"name3\""
      ]
     },
     "metadata": {},
     "output_type": "display_data"
    },
    {
     "data": {
      "text/html": [
       "<dl class=dl-horizontal>\n",
       "\t<dt>name1</dt>\n",
       "\t\t<dd>'Python'</dd>\n",
       "\t<dt>name2</dt>\n",
       "\t\t<dd>'5'</dd>\n",
       "\t<dt>name3</dt>\n",
       "\t\t<dd>'Interpretado'</dd>\n",
       "</dl>\n"
      ],
      "text/latex": [
       "\\begin{description*}\n",
       "\\item[name1] 'Python'\n",
       "\\item[name2] '5'\n",
       "\\item[name3] 'Interpretado'\n",
       "\\end{description*}\n"
      ],
      "text/markdown": [
       "name1\n",
       ":   'Python'name2\n",
       ":   '5'name3\n",
       ":   'Interpretado'\n",
       "\n"
      ],
      "text/plain": [
       "         name1          name2          name3 \n",
       "      \"Python\"            \"5\" \"Interpretado\" "
      ]
     },
     "metadata": {},
     "output_type": "display_data"
    },
    {
     "data": {
      "text/html": [
       "'character'"
      ],
      "text/latex": [
       "'character'"
      ],
      "text/markdown": [
       "'character'"
      ],
      "text/plain": [
       "[1] \"character\""
      ]
     },
     "metadata": {},
     "output_type": "display_data"
    }
   ],
   "source": [
    "lenguaje <- list(name1=\"Python\", name2=5, name3=\"Interpretado\")\n",
    "names(lenguaje)\n",
    "help(unlist)\n",
    "leng <- unlist(lenguaje)\n",
    "leng\n",
    "class(leng)"
   ]
  },
  {
   "cell_type": "markdown",
   "metadata": {
    "deletable": true,
    "editable": true
   },
   "source": [
    "Por otro lado  si tuviéramos que empezar con  números, obtendríamos números:"
   ]
  },
  {
   "cell_type": "code",
   "execution_count": 36,
   "metadata": {
    "collapsed": false,
    "deletable": true,
    "editable": true
   },
   "outputs": [
    {
     "data": {
      "text/html": [
       "'numeric'"
      ],
      "text/latex": [
       "'numeric'"
      ],
      "text/markdown": [
       "'numeric'"
      ],
      "text/plain": [
       "[1] \"numeric\""
      ]
     },
     "metadata": {},
     "output_type": "display_data"
    },
    {
     "data": {
      "text/html": [
       "<dl class=dl-horizontal>\n",
       "\t<dt>a</dt>\n",
       "\t\t<dd>2</dd>\n",
       "\t<dt>b</dt>\n",
       "\t\t<dd>3</dd>\n",
       "\t<dt>c</dt>\n",
       "\t\t<dd>4</dd>\n",
       "</dl>\n"
      ],
      "text/latex": [
       "\\begin{description*}\n",
       "\\item[a] 2\n",
       "\\item[b] 3\n",
       "\\item[c] 4\n",
       "\\end{description*}\n"
      ],
      "text/markdown": [
       "a\n",
       ":   2b\n",
       ":   3c\n",
       ":   4\n",
       "\n"
      ],
      "text/plain": [
       "a b c \n",
       "2 3 4 "
      ]
     },
     "metadata": {},
     "output_type": "display_data"
    }
   ],
   "source": [
    "ll <- list(a=2,b=3,c=4)\n",
    "ll1 <-unlist(ll)\n",
    "class(ll1)\n",
    "ll1"
   ]
  },
  {
   "cell_type": "code",
   "execution_count": 37,
   "metadata": {
    "collapsed": false,
    "deletable": true,
    "editable": true
   },
   "outputs": [
    {
     "data": {
      "text/html": [
       "<ol>\n",
       "\t<li><ol class=list-inline>\n",
       "\t<li>1</li>\n",
       "\t<li>2</li>\n",
       "\t<li>3</li>\n",
       "</ol>\n",
       "</li>\n",
       "\t<li>'a'</li>\n",
       "\t<li><ol class=list-inline>\n",
       "\t<li>TRUE</li>\n",
       "\t<li>FALSE</li>\n",
       "\t<li>TRUE</li>\n",
       "</ol>\n",
       "</li>\n",
       "\t<li><ol class=list-inline>\n",
       "\t<li>2.3</li>\n",
       "\t<li>5.9</li>\n",
       "</ol>\n",
       "</li>\n",
       "</ol>\n"
      ],
      "text/latex": [
       "\\begin{enumerate}\n",
       "\\item \\begin{enumerate*}\n",
       "\\item 1\n",
       "\\item 2\n",
       "\\item 3\n",
       "\\end{enumerate*}\n",
       "\n",
       "\\item 'a'\n",
       "\\item \\begin{enumerate*}\n",
       "\\item TRUE\n",
       "\\item FALSE\n",
       "\\item TRUE\n",
       "\\end{enumerate*}\n",
       "\n",
       "\\item \\begin{enumerate*}\n",
       "\\item 2.3\n",
       "\\item 5.9\n",
       "\\end{enumerate*}\n",
       "\n",
       "\\end{enumerate}\n"
      ],
      "text/markdown": [
       "1. 1. 1\n",
       "2. 2\n",
       "3. 3\n",
       "\n",
       "\n",
       "\n",
       "2. 'a'\n",
       "3. 1. TRUE\n",
       "2. FALSE\n",
       "3. TRUE\n",
       "\n",
       "\n",
       "\n",
       "4. 1. 2.3\n",
       "2. 5.9\n",
       "\n",
       "\n",
       "\n",
       "\n",
       "\n"
      ],
      "text/plain": [
       "[[1]]\n",
       "[1] 1 2 3\n",
       "\n",
       "[[2]]\n",
       "[1] \"a\"\n",
       "\n",
       "[[3]]\n",
       "[1]  TRUE FALSE  TRUE\n",
       "\n",
       "[[4]]\n",
       "[1] 2.3 5.9\n"
      ]
     },
     "metadata": {},
     "output_type": "display_data"
    },
    {
     "data": {
      "text/html": [
       "'character'"
      ],
      "text/latex": [
       "'character'"
      ],
      "text/markdown": [
       "'character'"
      ],
      "text/plain": [
       "[1] \"character\""
      ]
     },
     "metadata": {},
     "output_type": "display_data"
    },
    {
     "data": {
      "text/html": [
       "<ol class=list-inline>\n",
       "\t<li>'1'</li>\n",
       "\t<li>'2'</li>\n",
       "\t<li>'3'</li>\n",
       "\t<li>'a'</li>\n",
       "\t<li>'TRUE'</li>\n",
       "\t<li>'FALSE'</li>\n",
       "\t<li>'TRUE'</li>\n",
       "\t<li>'2.3'</li>\n",
       "\t<li>'5.9'</li>\n",
       "</ol>\n"
      ],
      "text/latex": [
       "\\begin{enumerate*}\n",
       "\\item '1'\n",
       "\\item '2'\n",
       "\\item '3'\n",
       "\\item 'a'\n",
       "\\item 'TRUE'\n",
       "\\item 'FALSE'\n",
       "\\item 'TRUE'\n",
       "\\item '2.3'\n",
       "\\item '5.9'\n",
       "\\end{enumerate*}\n"
      ],
      "text/markdown": [
       "1. '1'\n",
       "2. '2'\n",
       "3. '3'\n",
       "4. 'a'\n",
       "5. 'TRUE'\n",
       "6. 'FALSE'\n",
       "7. 'TRUE'\n",
       "8. '2.3'\n",
       "9. '5.9'\n",
       "\n",
       "\n"
      ],
      "text/plain": [
       "[1] \"1\"     \"2\"     \"3\"     \"a\"     \"TRUE\"  \"FALSE\" \"TRUE\"  \"2.3\"   \"5.9\"  "
      ]
     },
     "metadata": {},
     "output_type": "display_data"
    }
   ],
   "source": [
    "# En un caso de elementos distintos \n",
    "x\n",
    "x1 <-unlist(x)\n",
    "class(x1)\n",
    "x1"
   ]
  },
  {
   "cell_type": "markdown",
   "metadata": {
    "deletable": true,
    "editable": true
   },
   "source": [
    "Los vectores se pueden convertir en listas utilizando la función `as.list`:"
   ]
  },
  {
   "cell_type": "code",
   "execution_count": 38,
   "metadata": {
    "collapsed": false,
    "deletable": true,
    "editable": true
   },
   "outputs": [
    {
     "data": {
      "text/html": [
       "<ol>\n",
       "\t<li>1</li>\n",
       "\t<li>6</li>\n",
       "\t<li>21</li>\n",
       "\t<li>107</li>\n",
       "</ol>\n"
      ],
      "text/latex": [
       "\\begin{enumerate}\n",
       "\\item 1\n",
       "\\item 6\n",
       "\\item 21\n",
       "\\item 107\n",
       "\\end{enumerate}\n"
      ],
      "text/markdown": [
       "1. 1\n",
       "2. 6\n",
       "3. 21\n",
       "4. 107\n",
       "\n",
       "\n"
      ],
      "text/plain": [
       "[[1]]\n",
       "[1] 1\n",
       "\n",
       "[[2]]\n",
       "[1] 6\n",
       "\n",
       "[[3]]\n",
       "[1] 21\n",
       "\n",
       "[[4]]\n",
       "[1] 107\n"
      ]
     },
     "metadata": {},
     "output_type": "display_data"
    }
   ],
   "source": [
    "b_b <- c(1, 6, 21, 107) #See http://oeis.org/A060843\n",
    "as.list(b_b)"
   ]
  },
  {
   "cell_type": "markdown",
   "metadata": {
    "deletable": true,
    "editable": true
   },
   "source": [
    "Si cada elemento de la lista contiene un valor escalar, también es posible convertir esa lista en un vector utilizando las funciones `is.numérico`, `as.caracter`, etc."
   ]
  },
  {
   "cell_type": "code",
   "execution_count": 39,
   "metadata": {
    "collapsed": false,
    "deletable": true,
    "editable": true
   },
   "outputs": [
    {
     "data": {
      "text/html": [
       "<ol class=list-inline>\n",
       "\t<li>1</li>\n",
       "\t<li>6</li>\n",
       "\t<li>21</li>\n",
       "\t<li>107</li>\n",
       "</ol>\n"
      ],
      "text/latex": [
       "\\begin{enumerate*}\n",
       "\\item 1\n",
       "\\item 6\n",
       "\\item 21\n",
       "\\item 107\n",
       "\\end{enumerate*}\n"
      ],
      "text/markdown": [
       "1. 1\n",
       "2. 6\n",
       "3. 21\n",
       "4. 107\n",
       "\n",
       "\n"
      ],
      "text/plain": [
       "[1]   1   6  21 107"
      ]
     },
     "metadata": {},
     "output_type": "display_data"
    }
   ],
   "source": [
    "as.numeric(list(1, 6, 21, 107))"
   ]
  },
  {
   "cell_type": "markdown",
   "metadata": {
    "deletable": true,
    "editable": true
   },
   "source": [
    "Esta técnica no funcionará en los casos en que la lista contenga elementos no escalares. Este es un problema real, ya que además de almacenar diferentes tipos de datos, las listas son muy útiles para almacenar datos del mismo tipo, pero con una forma no rectangular:"
   ]
  },
  {
   "cell_type": "code",
   "execution_count": 40,
   "metadata": {
    "collapsed": false,
    "deletable": true,
    "editable": true
   },
   "outputs": [
    {
     "data": {
      "text/html": [
       "<dl>\n",
       "\t<dt>$dos</dt>\n",
       "\t\t<dd>2</dd>\n",
       "\t<dt>$tres</dt>\n",
       "\t\t<dd>3</dd>\n",
       "\t<dt>$cuatro</dt>\n",
       "\t\t<dd><ol class=list-inline>\n",
       "\t<li>2</li>\n",
       "\t<li>2</li>\n",
       "</ol>\n",
       "</dd>\n",
       "\t<dt>$cinco</dt>\n",
       "\t\t<dd>5</dd>\n",
       "\t<dt>$seis</dt>\n",
       "\t\t<dd><ol class=list-inline>\n",
       "\t<li>2</li>\n",
       "\t<li>3</li>\n",
       "</ol>\n",
       "</dd>\n",
       "\t<dt>$siete</dt>\n",
       "\t\t<dd>7</dd>\n",
       "\t<dt>$ocho</dt>\n",
       "\t\t<dd><ol class=list-inline>\n",
       "\t<li>2</li>\n",
       "\t<li>2</li>\n",
       "\t<li>2</li>\n",
       "</ol>\n",
       "</dd>\n",
       "\t<dt>$nueve</dt>\n",
       "\t\t<dd><ol class=list-inline>\n",
       "\t<li>3</li>\n",
       "\t<li>3</li>\n",
       "</ol>\n",
       "</dd>\n",
       "\t<dt>$diez</dt>\n",
       "\t\t<dd><ol class=list-inline>\n",
       "\t<li>2</li>\n",
       "\t<li>5</li>\n",
       "</ol>\n",
       "</dd>\n",
       "</dl>\n"
      ],
      "text/latex": [
       "\\begin{description}\n",
       "\\item[\\$dos] 2\n",
       "\\item[\\$tres] 3\n",
       "\\item[\\$cuatro] \\begin{enumerate*}\n",
       "\\item 2\n",
       "\\item 2\n",
       "\\end{enumerate*}\n",
       "\n",
       "\\item[\\$cinco] 5\n",
       "\\item[\\$seis] \\begin{enumerate*}\n",
       "\\item 2\n",
       "\\item 3\n",
       "\\end{enumerate*}\n",
       "\n",
       "\\item[\\$siete] 7\n",
       "\\item[\\$ocho] \\begin{enumerate*}\n",
       "\\item 2\n",
       "\\item 2\n",
       "\\item 2\n",
       "\\end{enumerate*}\n",
       "\n",
       "\\item[\\$nueve] \\begin{enumerate*}\n",
       "\\item 3\n",
       "\\item 3\n",
       "\\end{enumerate*}\n",
       "\n",
       "\\item[\\$diez] \\begin{enumerate*}\n",
       "\\item 2\n",
       "\\item 5\n",
       "\\end{enumerate*}\n",
       "\n",
       "\\end{description}\n"
      ],
      "text/markdown": [
       "$dos\n",
       ":   2\n",
       "$tres\n",
       ":   3\n",
       "$cuatro\n",
       ":   1. 2\n",
       "2. 2\n",
       "\n",
       "\n",
       "\n",
       "$cinco\n",
       ":   5\n",
       "$seis\n",
       ":   1. 2\n",
       "2. 3\n",
       "\n",
       "\n",
       "\n",
       "$siete\n",
       ":   7\n",
       "$ocho\n",
       ":   1. 2\n",
       "2. 2\n",
       "3. 2\n",
       "\n",
       "\n",
       "\n",
       "$nueve\n",
       ":   1. 3\n",
       "2. 3\n",
       "\n",
       "\n",
       "\n",
       "$diez\n",
       ":   1. 2\n",
       "2. 5\n",
       "\n",
       "\n",
       "\n",
       "\n",
       "\n"
      ],
      "text/plain": [
       "$dos\n",
       "[1] 2\n",
       "\n",
       "$tres\n",
       "[1] 3\n",
       "\n",
       "$cuatro\n",
       "[1] 2 2\n",
       "\n",
       "$cinco\n",
       "[1] 5\n",
       "\n",
       "$seis\n",
       "[1] 2 3\n",
       "\n",
       "$siete\n",
       "[1] 7\n",
       "\n",
       "$ocho\n",
       "[1] 2 2 2\n",
       "\n",
       "$nueve\n",
       "[1] 3 3\n",
       "\n",
       "$diez\n",
       "[1] 2 5\n"
      ]
     },
     "metadata": {},
     "output_type": "display_data"
    }
   ],
   "source": [
    "(factores_primos <- list(\n",
    "  dos = 2,\n",
    "  tres = 3,\n",
    "  cuatro = c(2, 2),\n",
    "  cinco = 5,\n",
    "  seis = c(2, 3),\n",
    "  siete = 7,\n",
    "  ocho = c(2, 2, 2),\n",
    "  nueve = c(3, 3),\n",
    "  diez = c(2, 5)\n",
    "))"
   ]
  },
  {
   "cell_type": "markdown",
   "metadata": {
    "deletable": true,
    "editable": true
   },
   "source": [
    "Este tipo de lista se puede convertir en un vector utilizando la función `unlist`  (a veces es técnicamente posible hacer esto con listas mixtas, pero rara vez es útil):"
   ]
  },
  {
   "cell_type": "code",
   "execution_count": 41,
   "metadata": {
    "collapsed": false,
    "deletable": true,
    "editable": true
   },
   "outputs": [
    {
     "data": {
      "text/html": [
       "<dl class=dl-horizontal>\n",
       "\t<dt>dos</dt>\n",
       "\t\t<dd>2</dd>\n",
       "\t<dt>tres</dt>\n",
       "\t\t<dd>3</dd>\n",
       "\t<dt>cuatro1</dt>\n",
       "\t\t<dd>2</dd>\n",
       "\t<dt>cuatro2</dt>\n",
       "\t\t<dd>2</dd>\n",
       "\t<dt>cinco</dt>\n",
       "\t\t<dd>5</dd>\n",
       "\t<dt>seis1</dt>\n",
       "\t\t<dd>2</dd>\n",
       "\t<dt>seis2</dt>\n",
       "\t\t<dd>3</dd>\n",
       "\t<dt>siete</dt>\n",
       "\t\t<dd>7</dd>\n",
       "\t<dt>ocho1</dt>\n",
       "\t\t<dd>2</dd>\n",
       "\t<dt>ocho2</dt>\n",
       "\t\t<dd>2</dd>\n",
       "\t<dt>ocho3</dt>\n",
       "\t\t<dd>2</dd>\n",
       "\t<dt>nueve1</dt>\n",
       "\t\t<dd>3</dd>\n",
       "\t<dt>nueve2</dt>\n",
       "\t\t<dd>3</dd>\n",
       "\t<dt>diez1</dt>\n",
       "\t\t<dd>2</dd>\n",
       "\t<dt>diez2</dt>\n",
       "\t\t<dd>5</dd>\n",
       "</dl>\n"
      ],
      "text/latex": [
       "\\begin{description*}\n",
       "\\item[dos] 2\n",
       "\\item[tres] 3\n",
       "\\item[cuatro1] 2\n",
       "\\item[cuatro2] 2\n",
       "\\item[cinco] 5\n",
       "\\item[seis1] 2\n",
       "\\item[seis2] 3\n",
       "\\item[siete] 7\n",
       "\\item[ocho1] 2\n",
       "\\item[ocho2] 2\n",
       "\\item[ocho3] 2\n",
       "\\item[nueve1] 3\n",
       "\\item[nueve2] 3\n",
       "\\item[diez1] 2\n",
       "\\item[diez2] 5\n",
       "\\end{description*}\n"
      ],
      "text/markdown": [
       "dos\n",
       ":   2tres\n",
       ":   3cuatro1\n",
       ":   2cuatro2\n",
       ":   2cinco\n",
       ":   5seis1\n",
       ":   2seis2\n",
       ":   3siete\n",
       ":   7ocho1\n",
       ":   2ocho2\n",
       ":   2ocho3\n",
       ":   2nueve1\n",
       ":   3nueve2\n",
       ":   3diez1\n",
       ":   2diez2\n",
       ":   5\n",
       "\n"
      ],
      "text/plain": [
       "    dos    tres cuatro1 cuatro2   cinco   seis1   seis2   siete   ocho1   ocho2 \n",
       "      2       3       2       2       5       2       3       7       2       2 \n",
       "  ocho3  nueve1  nueve2   diez1   diez2 \n",
       "      2       3       3       2       5 "
      ]
     },
     "metadata": {},
     "output_type": "display_data"
    },
    {
     "data": {
      "text/html": [
       "'numeric'"
      ],
      "text/latex": [
       "'numeric'"
      ],
      "text/markdown": [
       "'numeric'"
      ],
      "text/plain": [
       "[1] \"numeric\""
      ]
     },
     "metadata": {},
     "output_type": "display_data"
    }
   ],
   "source": [
    "vecl<-unlist(factores_primos)\n",
    "vecl\n",
    "class(vecl)"
   ]
  },
  {
   "cell_type": "markdown",
   "metadata": {
    "deletable": true,
    "editable": true
   },
   "source": [
    "La función `c` que hemos utilizado para concatenar vectores también funciona para concatenar listas:"
   ]
  },
  {
   "cell_type": "code",
   "execution_count": 42,
   "metadata": {
    "collapsed": false,
    "deletable": true,
    "editable": true
   },
   "outputs": [
    {
     "data": {
      "text/html": [
       "<ol>\n",
       "\t<li>'Jessica'</li>\n",
       "\t<li>55000</li>\n",
       "\t<li>TRUE</li>\n",
       "\t<li>51</li>\n",
       "</ol>\n"
      ],
      "text/latex": [
       "\\begin{enumerate}\n",
       "\\item 'Jessica'\n",
       "\\item 55000\n",
       "\\item TRUE\n",
       "\\item 51\n",
       "\\end{enumerate}\n"
      ],
      "text/markdown": [
       "1. 'Jessica'\n",
       "2. 55000\n",
       "3. TRUE\n",
       "4. 51\n",
       "\n",
       "\n"
      ],
      "text/plain": [
       "[[1]]\n",
       "[1] \"Jessica\"\n",
       "\n",
       "[[2]]\n",
       "[1] 55000\n",
       "\n",
       "[[3]]\n",
       "[1] TRUE\n",
       "\n",
       "[[4]]\n",
       "[1] 51\n"
      ]
     },
     "metadata": {},
     "output_type": "display_data"
    }
   ],
   "source": [
    "c(list(\"Jessica\", 55000, T),list(51))"
   ]
  },
  {
   "cell_type": "code",
   "execution_count": 43,
   "metadata": {
    "collapsed": false,
    "deletable": true,
    "editable": true
   },
   "outputs": [
    {
     "data": {
      "text/plain": [
       "$a\n",
       "[1] 1\n",
       "\n",
       "$b\n",
       "[1] 2\n",
       "\n",
       "[[3]]\n",
       "[1] 3\n"
      ]
     },
     "metadata": {},
     "output_type": "display_data"
    }
   ],
   "source": [
    "c(list(a = 1, b = 2), list(3))"
   ]
  },
  {
   "cell_type": "markdown",
   "metadata": {
    "deletable": true,
    "editable": true
   },
   "source": [
    "Si lo usamos para concatenar listas y vectores, los vectores se convierten en listas (como si se hubiera llamado `a.list`) antes de que ocurra la concatenación:"
   ]
  },
  {
   "cell_type": "code",
   "execution_count": 44,
   "metadata": {
    "collapsed": false,
    "deletable": true,
    "editable": true
   },
   "outputs": [
    {
     "data": {
      "text/plain": [
       "$a\n",
       "[1] 1\n",
       "\n",
       "$b\n",
       "[1] 2\n",
       "\n",
       "[[3]]\n",
       "[1] 3\n"
      ]
     },
     "metadata": {},
     "output_type": "display_data"
    }
   ],
   "source": [
    "c(list(a = 1, b = 2), 3)"
   ]
  },
  {
   "cell_type": "markdown",
   "metadata": {
    "deletable": true,
    "editable": true
   },
   "source": [
    "También es posible utilizar las funciones `cbind` y `rbind` en las listas, pero los objetos resultantes son realmente muy extraños. Son matrices con elementos posiblemente no escalares, o listas con dimensiones, dependiendo de la forma en que desees verlas:"
   ]
  },
  {
   "cell_type": "code",
   "execution_count": 45,
   "metadata": {
    "collapsed": false,
    "deletable": true,
    "editable": true
   },
   "outputs": [
    {
     "data": {
      "text/html": [
       "<table>\n",
       "<tbody>\n",
       "\t<tr><th scope=row>a</th><td>1</td><td>3</td></tr>\n",
       "\t<tr><th scope=row>b</th><td>2</td><td>4</td></tr>\n",
       "</tbody>\n",
       "</table>\n"
      ],
      "text/latex": [
       "\\begin{tabular}{r|ll}\n",
       "\ta & 1 & 3\\\\\n",
       "\tb & 2 & 4\\\\\n",
       "\\end{tabular}\n"
      ],
      "text/markdown": [
       "\n",
       "| a | 1 | 3 | \n",
       "| b | 2 | 4 | \n",
       "\n",
       "\n"
      ],
      "text/plain": [
       "  [,1] [,2]\n",
       "a 1    3   \n",
       "b 2    4   "
      ]
     },
     "metadata": {},
     "output_type": "display_data"
    },
    {
     "name": "stdout",
     "output_type": "stream",
     "text": [
      "List of 4\n",
      " $ : num 1\n",
      " $ : num 2\n",
      " $ : num 3\n",
      " $ :List of 1\n",
      "  ..$ d: num 4\n",
      " - attr(*, \"dim\")= int [1:2] 2 2\n",
      " - attr(*, \"dimnames\")=List of 2\n",
      "  ..$ : chr [1:2] \"a\" \"b\"\n",
      "  ..$ : NULL\n"
     ]
    }
   ],
   "source": [
    "(matriz_lista <- cbind(\n",
    "  list(a = 1, b = 2),\n",
    "  list(c = 3, list(d = 4))\n",
    "))\n",
    "str(matriz_lista)"
   ]
  },
  {
   "cell_type": "markdown",
   "metadata": {
    "deletable": true,
    "editable": true
   },
   "source": [
    "`NULL` es un valor especial que representa una variable vacía. Su uso más común es en listas, pero también surge con datos frames  y argumentos de función.\n",
    "\n",
    "Al crear una lista, es posible que desee especificar que un elemento debe existir, pero no debe tener contenido. Por ejemplo, la siguiente lista contiene los días festivos en el Reino Unido  para 2013 por mes. Algunos meses no tienen días festivos, por lo que utilizamos `NULL` para representar esta ausencia:"
   ]
  },
  {
   "cell_type": "code",
   "execution_count": 46,
   "metadata": {
    "collapsed": false,
    "deletable": true,
    "editable": true
   },
   "outputs": [
    {
     "data": {
      "text/plain": [
       "$Jan\n",
       "[1] \"New Year's Day\"\n",
       "\n",
       "$Feb\n",
       "NULL\n",
       "\n",
       "$Mar\n",
       "[1] \"Good Friday\"\n",
       "\n",
       "$Apr\n",
       "[1] \"Easter Monday\"\n",
       "\n",
       "$May\n",
       "[1] \"Early May Bank Holiday\" \"Spring Bank Holiday\"   \n",
       "\n",
       "$Jun\n",
       "NULL\n",
       "\n",
       "$Jul\n",
       "NULL\n",
       "\n",
       "$Aug\n",
       "[1] \"Summer Bank Holiday\"\n",
       "\n",
       "$Sep\n",
       "NULL\n",
       "\n",
       "$Oct\n",
       "NULL\n",
       "\n",
       "$Nov\n",
       "NULL\n",
       "\n",
       "$Dec\n",
       "[1] \"Christmas Day\" \"Boxing Day\"   \n"
      ]
     },
     "metadata": {},
     "output_type": "display_data"
    }
   ],
   "source": [
    "(uk_bank_holidays_2013 <- list(\n",
    "  Jan = \"New Year's Day\",\n",
    "  Feb = NULL,\n",
    "  Mar = \"Good Friday\",\n",
    "  Apr = \"Easter Monday\",\n",
    "  May = c(\"Early May Bank Holiday\", \"Spring Bank Holiday\"),\n",
    "  Jun = NULL,\n",
    "  Jul = NULL,\n",
    "  Aug = \"Summer Bank Holiday\",\n",
    "  Sep = NULL,\n",
    "  Oct = NULL,\n",
    "  Nov = NULL,\n",
    "  Dec = c(\"Christmas Day\", \"Boxing Day\")\n",
    "))"
   ]
  },
  {
   "cell_type": "markdown",
   "metadata": {
    "deletable": true,
    "editable": true
   },
   "source": [
    "Es importante entender la diferencia entre `NULL` y el valor especial  `NA`. La mayor diferencia es que `NA` es un valor escalar, mientras que NULL no ocupa espacio alguno: tiene una longitud cero:"
   ]
  },
  {
   "cell_type": "code",
   "execution_count": 47,
   "metadata": {
    "collapsed": false,
    "deletable": true,
    "editable": true
   },
   "outputs": [
    {
     "data": {
      "text/html": [
       "0"
      ],
      "text/latex": [
       "0"
      ],
      "text/markdown": [
       "0"
      ],
      "text/plain": [
       "[1] 0"
      ]
     },
     "metadata": {},
     "output_type": "display_data"
    }
   ],
   "source": [
    "length(NULL)"
   ]
  },
  {
   "cell_type": "code",
   "execution_count": 48,
   "metadata": {
    "collapsed": false,
    "deletable": true,
    "editable": true
   },
   "outputs": [
    {
     "data": {
      "text/html": [
       "1"
      ],
      "text/latex": [
       "1"
      ],
      "text/markdown": [
       "1"
      ],
      "text/plain": [
       "[1] 1"
      ]
     },
     "metadata": {},
     "output_type": "display_data"
    }
   ],
   "source": [
    "length(NA)"
   ]
  },
  {
   "cell_type": "markdown",
   "metadata": {
    "deletable": true,
    "editable": true
   },
   "source": [
    "`NULL` también se puede utilizar para eliminar elementos de una lista. Establecer un elemento en  `NULL` (incluso si ya contiene `NULL`) lo eliminará. Supongamos que por alguna razón queremos cambiar a un calendario romano de 10 meses de estilo antiguo, eliminando enero y febrero:"
   ]
  },
  {
   "cell_type": "code",
   "execution_count": 49,
   "metadata": {
    "collapsed": false,
    "deletable": true,
    "editable": true
   },
   "outputs": [
    {
     "data": {
      "text/plain": [
       "$Mar\n",
       "[1] \"Good Friday\"\n",
       "\n",
       "$Apr\n",
       "[1] \"Easter Monday\"\n",
       "\n",
       "$May\n",
       "[1] \"Early May Bank Holiday\" \"Spring Bank Holiday\"   \n",
       "\n",
       "$Jun\n",
       "NULL\n",
       "\n",
       "$Jul\n",
       "NULL\n",
       "\n",
       "$Aug\n",
       "[1] \"Summer Bank Holiday\"\n",
       "\n",
       "$Sep\n",
       "NULL\n",
       "\n",
       "$Oct\n",
       "NULL\n",
       "\n",
       "$Nov\n",
       "NULL\n",
       "\n",
       "$Dec\n",
       "[1] \"Christmas Day\" \"Boxing Day\"   \n"
      ]
     },
     "metadata": {},
     "output_type": "display_data"
    }
   ],
   "source": [
    "uk_bank_holidays_2013$Jan <- NULL\n",
    "uk_bank_holidays_2013$Feb <- NULL\n",
    "uk_bank_holidays_2013"
   ]
  },
  {
   "cell_type": "markdown",
   "metadata": {
    "deletable": true,
    "editable": true
   },
   "source": [
    "Para establecer un elemento existente como `NULL`, no podemos simplemente asignar el valor de `NULL`  ya que eliminará el elemento. En su lugar, debe establecerse en `list(NULL)`. Ahora supongamos que el gobierno del Reino Unido se convierte en mediocre y cancela las vacaciones de verano:"
   ]
  },
  {
   "cell_type": "code",
   "execution_count": 50,
   "metadata": {
    "collapsed": false,
    "deletable": true,
    "editable": true
   },
   "outputs": [
    {
     "data": {
      "text/plain": [
       "$Mar\n",
       "[1] \"Good Friday\"\n",
       "\n",
       "$Apr\n",
       "[1] \"Easter Monday\"\n",
       "\n",
       "$May\n",
       "[1] \"Early May Bank Holiday\" \"Spring Bank Holiday\"   \n",
       "\n",
       "$Jun\n",
       "NULL\n",
       "\n",
       "$Jul\n",
       "NULL\n",
       "\n",
       "$Aug\n",
       "NULL\n",
       "\n",
       "$Sep\n",
       "NULL\n",
       "\n",
       "$Oct\n",
       "NULL\n",
       "\n",
       "$Nov\n",
       "NULL\n",
       "\n",
       "$Dec\n",
       "[1] \"Christmas Day\" \"Boxing Day\"   \n"
      ]
     },
     "metadata": {},
     "output_type": "display_data"
    }
   ],
   "source": [
    "uk_bank_holidays_2013[\"Aug\"] <- list(NULL)\n",
    "uk_bank_holidays_2013"
   ]
  },
  {
   "cell_type": "markdown",
   "metadata": {
    "deletable": true,
    "editable": true
   },
   "source": [
    "R tiene otro tipo de lista, el `pairlist`que  se utilizan internamente para pasar los argumentos a las funciones, pero casi nunca tendrás que usarlas activamente. Posiblemente la única vez que se les vea es cuando se utilizan en `formals`. Esta función devuelve un `pairlist` de los argumentos de una función.\n",
    "\n",
    "Observando la página de ayuda para la función de desviación estándar `? sd`, vemos que se necesitan dos argumentos, un vector `x` y un valor lógico `na.rm`, que tiene un valor por defecto de `FALSE`:"
   ]
  },
  {
   "cell_type": "code",
   "execution_count": 51,
   "metadata": {
    "collapsed": false,
    "deletable": true,
    "editable": true
   },
   "outputs": [
    {
     "data": {
      "text/plain": [
       "$x\n",
       "\n",
       "\n",
       "$na.rm\n",
       "[1] FALSE\n"
      ]
     },
     "metadata": {},
     "output_type": "display_data"
    }
   ],
   "source": [
    "(argumentos_de_sd <- formals(sd))"
   ]
  },
  {
   "cell_type": "markdown",
   "metadata": {
    "deletable": true,
    "editable": true
   },
   "source": [
    "Para fines más prácticos, un `pairlist` se comporta como una lista. La única diferencia es que un `pairlist`  de longitud cero es `NULL`, pero una lista de longitud cero es sólo una lista vacía:\n"
   ]
  },
  {
   "cell_type": "code",
   "execution_count": 52,
   "metadata": {
    "collapsed": false,
    "deletable": true,
    "editable": true
   },
   "outputs": [
    {
     "data": {
      "text/plain": [
       "NULL"
      ]
     },
     "metadata": {},
     "output_type": "display_data"
    }
   ],
   "source": [
    "pairlist()"
   ]
  },
  {
   "cell_type": "code",
   "execution_count": 53,
   "metadata": {
    "collapsed": false,
    "deletable": true,
    "editable": true
   },
   "outputs": [
    {
     "data": {
      "text/html": [
       "<ol>\n",
       "</ol>\n"
      ],
      "text/latex": [
       "\\begin{enumerate}\n",
       "\\end{enumerate}\n"
      ],
      "text/markdown": [
       "\n",
       "\n"
      ],
      "text/plain": [
       "list()"
      ]
     },
     "metadata": {},
     "output_type": "display_data"
    }
   ],
   "source": [
    "list()"
   ]
  },
  {
   "cell_type": "markdown",
   "metadata": {
    "deletable": true,
    "editable": true
   },
   "source": [
    "Dos funciones son muy útiles para la aplicación de  listas son `lapply()` y `sapply()`.  Más información sobre la familia `apply()` en [stackoverflow:r-grouping function ](http://stackoverflow.com/questions/3505701/r-grouping-functions-sapply-vs-lapply-vs-apply-vs-tapply-vs-by-vs-aggrega). \n",
    "\n",
    "```\n",
    "lapply (list, f, fargs...)}\n",
    "```\n",
    "\n",
    "- `list` es una lista\n",
    "- `f`  es la función ha ser aplicada por ``lapply`\n",
    "- `fargs` son otros   paramétros\n",
    "\n",
    "La función `lapply()` aplica una función a los elementos de una lista o vector y devuelve los resultados en una lista. La función `lapply()`  es útil cuando se trata con  data frames. En R, los `data frames`  se consideran una lista y las variables  son los elementos de la lista, así podemos aplicar una función a todas las variables en un data frame  usando `lapply()`.\n",
    "\n",
    "`sapply()` aplica una función a los elementos de una lista y devuelve los resultados en un vector, matriz o una lista. \n",
    "\n",
    "```\n",
    "sapply(lista, f,...simplify)}\n",
    "```\n",
    "\n",
    "- `list` es una lista\n",
    "- `f`  es la función ha ser aplicada por `sapply`\n",
    "- `simplify` --> Cuando el argumento `simplify = F` entonces la función  `sapply()` devuelve los resultados en una lista como la función  `lapply()`.  Cuando  `simplify = T`, `sapply()` devuelve los resultados en una forma simplificada. Si los resultados son todos  escalares entonces `sapply()` devuelve un vector. Si los resultados son todos de la misma longitud `sapply()` entonces devolverá una matriz con una columna para cada elemento en la lista a la que se aplicó la función:"
   ]
  },
  {
   "cell_type": "code",
   "execution_count": 54,
   "metadata": {
    "collapsed": false,
    "deletable": true,
    "editable": true
   },
   "outputs": [
    {
     "data": {
      "text/html": [
       "<ol>\n",
       "\t<li>3</li>\n",
       "\t<li>27</li>\n",
       "</ol>\n"
      ],
      "text/latex": [
       "\\begin{enumerate}\n",
       "\\item 3\n",
       "\\item 27\n",
       "\\end{enumerate}\n"
      ],
      "text/markdown": [
       "1. 3\n",
       "2. 27\n",
       "\n",
       "\n"
      ],
      "text/plain": [
       "[[1]]\n",
       "[1] 3\n",
       "\n",
       "[[2]]\n",
       "[1] 27\n"
      ]
     },
     "metadata": {},
     "output_type": "display_data"
    },
    {
     "name": "stdout",
     "output_type": "stream",
     "text": [
      "[1] 1\n",
      "[1] 2\n",
      "[1] 3\n",
      "[1] 4\n",
      "[1] 5\n"
     ]
    },
    {
     "data": {
      "text/html": [
       "<ol class=list-inline>\n",
       "\t<li>1</li>\n",
       "\t<li>2</li>\n",
       "\t<li>3</li>\n",
       "\t<li>4</li>\n",
       "\t<li>5</li>\n",
       "</ol>\n"
      ],
      "text/latex": [
       "\\begin{enumerate*}\n",
       "\\item 1\n",
       "\\item 2\n",
       "\\item 3\n",
       "\\item 4\n",
       "\\item 5\n",
       "\\end{enumerate*}\n"
      ],
      "text/markdown": [
       "1. 1\n",
       "2. 2\n",
       "3. 3\n",
       "4. 4\n",
       "5. 5\n",
       "\n",
       "\n"
      ],
      "text/plain": [
       "[1] 1 2 3 4 5"
      ]
     },
     "metadata": {},
     "output_type": "display_data"
    }
   ],
   "source": [
    "help(lapply)\n",
    "lapply(list(1:5, 25:29), median)\n",
    "unlist(lapply(1:5, function(i) print(i) ))"
   ]
  },
  {
   "cell_type": "code",
   "execution_count": 55,
   "metadata": {
    "collapsed": false,
    "deletable": true,
    "editable": true
   },
   "outputs": [
    {
     "data": {
      "text/html": [
       "<dl>\n",
       "\t<dt>$tiempo</dt>\n",
       "\t\t<dd><ol class=list-inline>\n",
       "\t<li>1</li>\n",
       "\t<li>2</li>\n",
       "\t<li>3</li>\n",
       "\t<li>4</li>\n",
       "\t<li>5</li>\n",
       "\t<li>6</li>\n",
       "\t<li>7</li>\n",
       "</ol>\n",
       "</dd>\n",
       "\t<dt>$demanda</dt>\n",
       "\t\t<dd><ol class=list-inline>\n",
       "\t<li>8.3</li>\n",
       "\t<li>10.4</li>\n",
       "\t<li>15.3</li>\n",
       "\t<li>15.8</li>\n",
       "\t<li>17</li>\n",
       "\t<li>19</li>\n",
       "\t<li>19.8</li>\n",
       "</ol>\n",
       "</dd>\n",
       "</dl>\n"
      ],
      "text/latex": [
       "\\begin{description}\n",
       "\\item[\\$tiempo] \\begin{enumerate*}\n",
       "\\item 1\n",
       "\\item 2\n",
       "\\item 3\n",
       "\\item 4\n",
       "\\item 5\n",
       "\\item 6\n",
       "\\item 7\n",
       "\\end{enumerate*}\n",
       "\n",
       "\\item[\\$demanda] \\begin{enumerate*}\n",
       "\\item 8.3\n",
       "\\item 10.4\n",
       "\\item 15.3\n",
       "\\item 15.8\n",
       "\\item 17\n",
       "\\item 19\n",
       "\\item 19.8\n",
       "\\end{enumerate*}\n",
       "\n",
       "\\end{description}\n"
      ],
      "text/markdown": [
       "$tiempo\n",
       ":   1. 1\n",
       "2. 2\n",
       "3. 3\n",
       "4. 4\n",
       "5. 5\n",
       "6. 6\n",
       "7. 7\n",
       "\n",
       "\n",
       "\n",
       "$demanda\n",
       ":   1. 8.3\n",
       "2. 10.4\n",
       "3. 15.3\n",
       "4. 15.8\n",
       "5. 17\n",
       "6. 19\n",
       "7. 19.8\n",
       "\n",
       "\n",
       "\n",
       "\n",
       "\n"
      ],
      "text/plain": [
       "$tiempo\n",
       "[1] 1 2 3 4 5 6 7\n",
       "\n",
       "$demanda\n",
       "[1]  8.3 10.4 15.3 15.8 17.0 19.0 19.8\n"
      ]
     },
     "metadata": {},
     "output_type": "display_data"
    },
    {
     "data": {
      "text/html": [
       "<table>\n",
       "<thead><tr><th scope=col>tiempo</th><th scope=col>demanda</th></tr></thead>\n",
       "<tbody>\n",
       "\t<tr><td>1   </td><td> 8.3</td></tr>\n",
       "\t<tr><td>2   </td><td>10.4</td></tr>\n",
       "\t<tr><td>3   </td><td>15.3</td></tr>\n",
       "\t<tr><td>4   </td><td>15.8</td></tr>\n",
       "\t<tr><td>5   </td><td>17.0</td></tr>\n",
       "\t<tr><td>6   </td><td>19.0</td></tr>\n",
       "\t<tr><td>7   </td><td>19.8</td></tr>\n",
       "</tbody>\n",
       "</table>\n"
      ],
      "text/latex": [
       "\\begin{tabular}{r|ll}\n",
       " tiempo & demanda\\\\\n",
       "\\hline\n",
       "\t 1    &  8.3\\\\\n",
       "\t 2    & 10.4\\\\\n",
       "\t 3    & 15.3\\\\\n",
       "\t 4    & 15.8\\\\\n",
       "\t 5    & 17.0\\\\\n",
       "\t 6    & 19.0\\\\\n",
       "\t 7    & 19.8\\\\\n",
       "\\end{tabular}\n"
      ],
      "text/markdown": [
       "\n",
       "tiempo | demanda | \n",
       "|---|---|---|---|---|---|---|\n",
       "| 1    |  8.3 | \n",
       "| 2    | 10.4 | \n",
       "| 3    | 15.3 | \n",
       "| 4    | 15.8 | \n",
       "| 5    | 17.0 | \n",
       "| 6    | 19.0 | \n",
       "| 7    | 19.8 | \n",
       "\n",
       "\n"
      ],
      "text/plain": [
       "  tiempo demanda\n",
       "1 1       8.3   \n",
       "2 2      10.4   \n",
       "3 3      15.3   \n",
       "4 4      15.8   \n",
       "5 5      17.0   \n",
       "6 6      19.0   \n",
       "7 7      19.8   "
      ]
     },
     "metadata": {},
     "output_type": "display_data"
    }
   ],
   "source": [
    "tiempo <-c(1,2,3,4,5,6,7)\n",
    "demanda <-c(8.3, 10.4, 19.0, 17.0, 15.8, 15.3, 19.8)\n",
    "BID =data.frame(tiempo, demanda)\n",
    "dl <-lapply(BID, sort)\n",
    "dl\n",
    "as.data.frame(dl)"
   ]
  },
  {
   "cell_type": "code",
   "execution_count": 56,
   "metadata": {
    "collapsed": false,
    "deletable": true,
    "editable": true
   },
   "outputs": [
    {
     "data": {
      "text/html": [
       "<ol class=list-inline>\n",
       "\t<li>2</li>\n",
       "\t<li>27</li>\n",
       "</ol>\n"
      ],
      "text/latex": [
       "\\begin{enumerate*}\n",
       "\\item 2\n",
       "\\item 27\n",
       "\\end{enumerate*}\n"
      ],
      "text/markdown": [
       "1. 2\n",
       "2. 27\n",
       "\n",
       "\n"
      ],
      "text/plain": [
       "[1]  2 27"
      ]
     },
     "metadata": {},
     "output_type": "display_data"
    },
    {
     "data": {
      "text/html": [
       "<table>\n",
       "<tbody>\n",
       "\t<tr><td>1 </td><td>2 </td><td>3 </td><td> 4</td><td> 5</td><td> 6</td><td> 7</td><td> 8</td></tr>\n",
       "\t<tr><td>1 </td><td>4 </td><td>9 </td><td>16</td><td>25</td><td>36</td><td>49</td><td>64</td></tr>\n",
       "</tbody>\n",
       "</table>\n"
      ],
      "text/latex": [
       "\\begin{tabular}{llllllll}\n",
       "\t 1  & 2  & 3  &  4 &  5 &  6 &  7 &  8\\\\\n",
       "\t 1  & 4  & 9  & 16 & 25 & 36 & 49 & 64\\\\\n",
       "\\end{tabular}\n"
      ],
      "text/markdown": [
       "\n",
       "| 1  | 2  | 3  |  4 |  5 |  6 |  7 |  8 | \n",
       "| 1  | 4  | 9  | 16 | 25 | 36 | 49 | 64 | \n",
       "\n",
       "\n"
      ],
      "text/plain": [
       "     [,1] [,2] [,3] [,4] [,5] [,6] [,7] [,8]\n",
       "[1,] 1    2    3     4    5    6    7    8  \n",
       "[2,] 1    4    9    16   25   36   49   64  "
      ]
     },
     "metadata": {},
     "output_type": "display_data"
    }
   ],
   "source": [
    "sapply(list(1:3, 25:29), median)\n",
    "z <- function(z) return (c(z, z^2))\n",
    "sapply(1:8, z)"
   ]
  },
  {
   "cell_type": "code",
   "execution_count": 57,
   "metadata": {
    "collapsed": false,
    "deletable": true,
    "editable": true
   },
   "outputs": [
    {
     "name": "stdout",
     "output_type": "stream",
     "text": [
      "'data.frame':\t72 obs. of  2 variables:\n",
      " $ count: num  10 7 20 14 14 12 10 23 17 20 ...\n",
      " $ spray: Factor w/ 6 levels \"A\",\"B\",\"C\",\"D\",..: 1 1 1 1 1 1 1 1 1 1 ...\n",
      "List of 6\n",
      " $ A: num [1:12] 10 7 20 14 14 12 10 23 17 20 ...\n",
      " $ B: num [1:12] 11 17 21 11 16 14 17 17 19 21 ...\n",
      " $ C: num [1:12] 0 1 7 2 3 1 2 1 3 0 ...\n",
      " $ D: num [1:12] 3 5 12 6 4 3 5 5 5 5 ...\n",
      " $ E: num [1:12] 3 5 3 5 3 6 1 1 3 2 ...\n",
      " $ F: num [1:12] 11 9 15 22 15 16 13 10 26 26 ...\n"
     ]
    },
    {
     "data": {
      "text/html": [
       "<dl class=dl-horizontal>\n",
       "\t<dt>A</dt>\n",
       "\t\t<dd>14.5</dd>\n",
       "\t<dt>B</dt>\n",
       "\t\t<dd>15.3333333333333</dd>\n",
       "\t<dt>C</dt>\n",
       "\t\t<dd>2.08333333333333</dd>\n",
       "\t<dt>D</dt>\n",
       "\t\t<dd>4.91666666666667</dd>\n",
       "\t<dt>E</dt>\n",
       "\t\t<dd>3.5</dd>\n",
       "\t<dt>F</dt>\n",
       "\t\t<dd>16.6666666666667</dd>\n",
       "</dl>\n"
      ],
      "text/latex": [
       "\\begin{description*}\n",
       "\\item[A] 14.5\n",
       "\\item[B] 15.3333333333333\n",
       "\\item[C] 2.08333333333333\n",
       "\\item[D] 4.91666666666667\n",
       "\\item[E] 3.5\n",
       "\\item[F] 16.6666666666667\n",
       "\\end{description*}\n"
      ],
      "text/markdown": [
       "A\n",
       ":   14.5B\n",
       ":   15.3333333333333C\n",
       ":   2.08333333333333D\n",
       ":   4.91666666666667E\n",
       ":   3.5F\n",
       ":   16.6666666666667\n",
       "\n"
      ],
      "text/plain": [
       "        A         B         C         D         E         F \n",
       "14.500000 15.333333  2.083333  4.916667  3.500000 16.666667 "
      ]
     },
     "metadata": {},
     "output_type": "display_data"
    }
   ],
   "source": [
    "# Un ejemplo más complejo\n",
    "\n",
    "str(InsectSprays)\n",
    "str(split(InsectSprays$count, InsectSprays$spray)  )\n",
    "sapply(  split(InsectSprays$count, InsectSprays$spray),  mean )"
   ]
  },
  {
   "cell_type": "markdown",
   "metadata": {
    "deletable": true,
    "editable": true
   },
   "source": [
    "\n",
    "Todos los objetos pueden tener atributos adicionales arbitrarios, que se utilizan para almacenar metadatos sobre el objeto. Los atributos pueden ser considerados como una lista con nombre (con nombres únicos). Los atributos se pueden acceder individualmente con `attr()` o todos a la vez (como una lista) con los `attributes()`:"
   ]
  },
  {
   "cell_type": "code",
   "execution_count": 58,
   "metadata": {
    "collapsed": false,
    "deletable": true,
    "editable": true
   },
   "outputs": [
    {
     "data": {
      "text/html": [
       "'Es un vector'"
      ],
      "text/latex": [
       "'Es un vector'"
      ],
      "text/markdown": [
       "'Es un vector'"
      ],
      "text/plain": [
       "[1] \"Es un vector\""
      ]
     },
     "metadata": {},
     "output_type": "display_data"
    },
    {
     "name": "stdout",
     "output_type": "stream",
     "text": [
      "List of 1\n",
      " $ un_atributo: chr \"Es un vector\"\n"
     ]
    },
    {
     "data": {
      "text/html": [
       "'Ella es bella'"
      ],
      "text/latex": [
       "'Ella es bella'"
      ],
      "text/markdown": [
       "'Ella es bella'"
      ],
      "text/plain": [
       "[1] \"Ella es bella\""
      ]
     },
     "metadata": {},
     "output_type": "display_data"
    },
    {
     "name": "stdout",
     "output_type": "stream",
     "text": [
      "List of 1\n",
      " $ un atributo: chr \"Ella es bella\"\n"
     ]
    }
   ],
   "source": [
    "y <- 1:9\n",
    "attr(y, \"un_atributo\") <- \"Es un vector\"\n",
    "attr(y, \"un_atributo\")\n",
    "str(attributes(y))\n",
    "\n",
    "m <- \"Jessica\"\n",
    "attr(m, \"un atributo\") <- \"Ella es bella\"\n",
    "attr(m, \"un atributo\")\n",
    "str(attributes(m))"
   ]
  },
  {
   "cell_type": "markdown",
   "metadata": {
    "deletable": true,
    "editable": true
   },
   "source": [
    "La función `structure()` retorna un nuevo objeto, con atributos modificados:\n"
   ]
  },
  {
   "cell_type": "code",
   "execution_count": 59,
   "metadata": {
    "collapsed": false,
    "deletable": true,
    "editable": true
   },
   "outputs": [
    {
     "data": {
      "text/html": [
       "<ol class=list-inline>\n",
       "\t<li>1</li>\n",
       "\t<li>2</li>\n",
       "\t<li>3</li>\n",
       "\t<li>4</li>\n",
       "\t<li>5</li>\n",
       "\t<li>6</li>\n",
       "\t<li>7</li>\n",
       "\t<li>8</li>\n",
       "\t<li>9</li>\n",
       "\t<li>10</li>\n",
       "</ol>\n"
      ],
      "text/latex": [
       "\\begin{enumerate*}\n",
       "\\item 1\n",
       "\\item 2\n",
       "\\item 3\n",
       "\\item 4\n",
       "\\item 5\n",
       "\\item 6\n",
       "\\item 7\n",
       "\\item 8\n",
       "\\item 9\n",
       "\\item 10\n",
       "\\end{enumerate*}\n"
      ],
      "text/markdown": [
       "1. 1\n",
       "2. 2\n",
       "3. 3\n",
       "4. 4\n",
       "5. 5\n",
       "6. 6\n",
       "7. 7\n",
       "8. 8\n",
       "9. 9\n",
       "10. 10\n",
       "\n",
       "\n"
      ],
      "text/plain": [
       " [1]  1  2  3  4  5  6  7  8  9 10\n",
       "attr(,\"my_attribute\")\n",
       "[1] \"Esto es un vector\""
      ]
     },
     "metadata": {},
     "output_type": "display_data"
    }
   ],
   "source": [
    "help(structure)\n",
    "structure(1:10, my_attribute = \"Esto es un vector\")"
   ]
  },
  {
   "cell_type": "markdown",
   "metadata": {
    "deletable": true,
    "editable": true
   },
   "source": [
    "Por defecto muchos atributos están pérdidos cuando modificamos el  vector:"
   ]
  },
  {
   "cell_type": "code",
   "execution_count": 60,
   "metadata": {
    "collapsed": false,
    "deletable": true,
    "editable": true
   },
   "outputs": [
    {
     "data": {
      "text/plain": [
       "NULL"
      ]
     },
     "metadata": {},
     "output_type": "display_data"
    },
    {
     "data": {
      "text/plain": [
       "NULL"
      ]
     },
     "metadata": {},
     "output_type": "display_data"
    }
   ],
   "source": [
    "attributes(y[1])\n",
    "attributes(sum(y))"
   ]
  },
  {
   "cell_type": "markdown",
   "metadata": {
    "deletable": true,
    "editable": true
   },
   "source": [
    "Los únicos atributos no perdidos son los tres más importantes:\n",
    "\n",
    "- `Names`, un vector de caracteres dando a cada elemento  un nombre.\n",
    "- `Dimension`, utilizado para convertir vectores en matrices y arrays.\n",
    "- `Class`, usado para implementar el sistema S3.\n",
    "\n",
    "Cada uno de estos atributos tiene una función específica de acceso para obtener y establecer los valores. Al trabajar con estos atributos, se usan  `names(x)`, `dim(x)`, y  `class(x)`, no `attr (x, \"name\")`, `attr (x, \"dim\")`, y `attr (x, \"class\")`."
   ]
  },
  {
   "cell_type": "markdown",
   "metadata": {
    "deletable": true,
    "editable": true
   },
   "source": [
    "## Data frames\n",
    "\n",
    "Un data frame  es la forma más común de almacenamiento de datos en R, y si se utiliza sistemáticamente en  el análisis de datos como se explica el artículo [datos ordenadados de Hadley Wickman](http://vita.had.co.nz/papers/tidy-data.pdf).\n",
    "\n",
    "Los data frame  son  una lista de vectores de la misma longitud,  que hace que sea una estructura de dos dimensiones,  que comparte propiedades tanto de las matrices y  de las listas. Esto significa que un data frames  tenga las funciones `names()`, `colnames()` y `rownames()`. La `length()` de una data frame  es la longitud de la lista subyacente y así es el mismo valor  que produce `ncol()`.  `nrow()` da el número de filas.\n",
    "\n",
    "Se puede tener parte   de un data frame como una estructura de una dimensión (que se comporta como una lista), o una estructura de dos dimensiones (que se comporta como una matriz).\n",
    "\n",
    "\n",
    "Se puede crear un data frame usando la función `data.frame()` de la siguiente manera:"
   ]
  },
  {
   "cell_type": "code",
   "execution_count": 61,
   "metadata": {
    "collapsed": false,
    "deletable": true,
    "editable": true
   },
   "outputs": [
    {
     "name": "stdout",
     "output_type": "stream",
     "text": [
      "'data.frame':\t3 obs. of  2 variables:\n",
      " $ x: int  1 2 3\n",
      " $ y: Factor w/ 3 levels \"C\",\"Python\",\"R\": 2 3 1\n"
     ]
    }
   ],
   "source": [
    "help(data.frame)\n",
    "df <- data.frame(x = 1:3, y = c(\"Python\", \"R\", \"C\"))\n",
    "str(df)"
   ]
  },
  {
   "cell_type": "markdown",
   "metadata": {
    "deletable": true,
    "editable": true
   },
   "source": [
    "El  comportamiento predeterminado de `data.frame()`  convierte cadenas en factores. Usamos `stringAsFactors = FALSE` para suprimir ese comportamiento:"
   ]
  },
  {
   "cell_type": "code",
   "execution_count": 62,
   "metadata": {
    "collapsed": false,
    "deletable": true,
    "editable": true
   },
   "outputs": [
    {
     "name": "stdout",
     "output_type": "stream",
     "text": [
      "'data.frame':\t3 obs. of  2 variables:\n",
      " $ x: int  1 2 3\n",
      " $ y: chr  \"Python\" \"R\" \"C\"\n"
     ]
    }
   ],
   "source": [
    "df <- data.frame(\n",
    "  x = 1:3,\n",
    "  y = c(\"Python\", \"R\", \"C\"),\n",
    "  stringsAsFactors = FALSE)\n",
    "str(df)"
   ]
  },
  {
   "cell_type": "markdown",
   "metadata": {
    "deletable": true,
    "editable": true
   },
   "source": [
    "Debido a que un `data.frame` es una clase S3, su tipo refleja el vector subyacente utilizado para su construcción: **la lista**. Para comprobar si un objeto es un data.frame, usamos `class()` o una  prueba explícita con `is.data.frame()`:\n"
   ]
  },
  {
   "cell_type": "code",
   "execution_count": 63,
   "metadata": {
    "collapsed": false,
    "deletable": true,
    "editable": true
   },
   "outputs": [
    {
     "data": {
      "text/html": [
       "'list'"
      ],
      "text/latex": [
       "'list'"
      ],
      "text/markdown": [
       "'list'"
      ],
      "text/plain": [
       "[1] \"list\""
      ]
     },
     "metadata": {},
     "output_type": "display_data"
    },
    {
     "data": {
      "text/html": [
       "'data.frame'"
      ],
      "text/latex": [
       "'data.frame'"
      ],
      "text/markdown": [
       "'data.frame'"
      ],
      "text/plain": [
       "[1] \"data.frame\""
      ]
     },
     "metadata": {},
     "output_type": "display_data"
    },
    {
     "data": {
      "text/html": [
       "TRUE"
      ],
      "text/latex": [
       "TRUE"
      ],
      "text/markdown": [
       "TRUE"
      ],
      "text/plain": [
       "[1] TRUE"
      ]
     },
     "metadata": {},
     "output_type": "display_data"
    }
   ],
   "source": [
    "typeof(df)\n",
    "class(df)\n",
    "is.data.frame(df)"
   ]
  },
  {
   "cell_type": "markdown",
   "metadata": {
    "deletable": true,
    "editable": true
   },
   "source": [
    "Puesto que un data frame es una lista de vectores, es posible para un data frame  tener una columna que es una lista:"
   ]
  },
  {
   "cell_type": "code",
   "execution_count": 64,
   "metadata": {
    "collapsed": false,
    "deletable": true,
    "editable": true
   },
   "outputs": [
    {
     "data": {
      "text/html": [
       "<table>\n",
       "<thead><tr><th scope=col>x</th><th scope=col>y</th></tr></thead>\n",
       "<tbody>\n",
       "\t<tr><td>1   </td><td>1, 2</td></tr>\n",
       "\t<tr><td>2      </td><td>1, 2, 3</td></tr>\n",
       "\t<tr><td>3         </td><td>1, 2, 3, 4</td></tr>\n",
       "</tbody>\n",
       "</table>\n"
      ],
      "text/latex": [
       "\\begin{tabular}{r|ll}\n",
       " x & y\\\\\n",
       "\\hline\n",
       "\t 1    & 1, 2\\\\\n",
       "\t 2       & 1, 2, 3\\\\\n",
       "\t 3          & 1, 2, 3, 4\\\\\n",
       "\\end{tabular}\n"
      ],
      "text/markdown": [
       "\n",
       "x | y | \n",
       "|---|---|---|\n",
       "| 1    | 1, 2 | \n",
       "| 2       | 1, 2, 3 | \n",
       "| 3          | 1, 2, 3, 4 | \n",
       "\n",
       "\n"
      ],
      "text/plain": [
       "  x y         \n",
       "1 1 1, 2      \n",
       "2 2 1, 2, 3   \n",
       "3 3 1, 2, 3, 4"
      ]
     },
     "metadata": {},
     "output_type": "display_data"
    }
   ],
   "source": [
    "df <- data.frame(x = 1:3)\n",
    "df$y <- list(1:2, 1:3, 1:4)\n",
    "df"
   ]
  },
  {
   "cell_type": "markdown",
   "metadata": {
    "deletable": true,
    "editable": true
   },
   "source": [
    "Sin embargo, cuando una lista se da a  `data.frame()`, se trata de poner cada elemento de la lista en su propia columna, por lo que esto falla:"
   ]
  },
  {
   "cell_type": "code",
   "execution_count": 65,
   "metadata": {
    "collapsed": false,
    "deletable": true,
    "editable": true
   },
   "outputs": [
    {
     "ename": "ERROR",
     "evalue": "Error in (function (..., row.names = NULL, check.rows = FALSE, check.names = TRUE, : arguments imply differing number of rows: 2, 3, 4\n",
     "output_type": "error",
     "traceback": [
      "Error in (function (..., row.names = NULL, check.rows = FALSE, check.names = TRUE, : arguments imply differing number of rows: 2, 3, 4\nTraceback:\n",
      "1. data.frame(x = 1:3, y = list(1:2, 1:3, 1:4))",
      "2. as.data.frame(x[[i]], optional = TRUE, stringsAsFactors = stringsAsFactors)",
      "3. as.data.frame.list(x[[i]], optional = TRUE, stringsAsFactors = stringsAsFactors)",
      "4. do.call(data.frame, c(x, alis))",
      "5. (function (..., row.names = NULL, check.rows = FALSE, check.names = TRUE, \n .     fix.empty.names = TRUE, stringsAsFactors = default.stringsAsFactors()) \n . {\n .     data.row.names <- if (check.rows && is.null(row.names)) \n .         function(current, new, i) {\n .             if (is.character(current)) \n .                 new <- as.character(new)\n .             if (is.character(new)) \n .                 current <- as.character(current)\n .             if (anyDuplicated(new)) \n .                 return(current)\n .             if (is.null(current)) \n .                 return(new)\n .             if (all(current == new) || all(current == \"\")) \n .                 return(new)\n .             stop(gettextf(\"mismatch of row names in arguments of 'data.frame', item %d\", \n .                 i), domain = NA)\n .         }\n .     else function(current, new, i) {\n .         if (is.null(current)) {\n .             if (anyDuplicated(new)) {\n .                 warning(gettextf(\"some row.names duplicated: %s --> row.names NOT used\", \n .                   paste(which(duplicated(new)), collapse = \",\")), \n .                   domain = NA)\n .                 current\n .             }\n .             else new\n .         }\n .         else current\n .     }\n .     object <- as.list(substitute(list(...)))[-1L]\n .     mirn <- missing(row.names)\n .     mrn <- is.null(row.names)\n .     x <- list(...)\n .     n <- length(x)\n .     if (n < 1L) {\n .         if (!mrn) {\n .             if (is.object(row.names) || !is.integer(row.names)) \n .                 row.names <- as.character(row.names)\n .             if (anyNA(row.names)) \n .                 stop(\"row names contain missing values\")\n .             if (anyDuplicated(row.names)) \n .                 stop(gettextf(\"duplicate row.names: %s\", paste(unique(row.names[duplicated(row.names)]), \n .                   collapse = \", \")), domain = NA)\n .         }\n .         else row.names <- integer()\n .         return(structure(list(), names = character(), row.names = row.names, \n .             class = \"data.frame\"))\n .     }\n .     vnames <- names(x)\n .     if (length(vnames) != n) \n .         vnames <- character(n)\n .     no.vn <- !nzchar(vnames)\n .     vlist <- vnames <- as.list(vnames)\n .     nrows <- ncols <- integer(n)\n .     for (i in seq_len(n)) {\n .         xi <- if (is.character(x[[i]]) || is.list(x[[i]])) \n .             as.data.frame(x[[i]], optional = TRUE, stringsAsFactors = stringsAsFactors)\n .         else as.data.frame(x[[i]], optional = TRUE)\n .         nrows[i] <- .row_names_info(xi)\n .         ncols[i] <- length(xi)\n .         namesi <- names(xi)\n .         if (ncols[i] > 1L) {\n .             if (length(namesi) == 0L) \n .                 namesi <- seq_len(ncols[i])\n .             vnames[[i]] <- if (no.vn[i]) \n .                 namesi\n .             else paste(vnames[[i]], namesi, sep = \".\")\n .         }\n .         else if (length(namesi)) {\n .             vnames[[i]] <- namesi\n .         }\n .         else if (fix.empty.names && no.vn[[i]]) {\n .             tmpname <- deparse(object[[i]], nlines = 1L)[1L]\n .             if (substr(tmpname, 1L, 2L) == \"I(\") {\n .                 ntmpn <- nchar(tmpname, \"c\")\n .                 if (substr(tmpname, ntmpn, ntmpn) == \")\") \n .                   tmpname <- substr(tmpname, 3L, ntmpn - 1L)\n .             }\n .             vnames[[i]] <- tmpname\n .         }\n .         if (mirn && nrows[i] > 0L) {\n .             rowsi <- attr(xi, \"row.names\")\n .             if (any(nzchar(rowsi))) \n .                 row.names <- data.row.names(row.names, rowsi, \n .                   i)\n .         }\n .         nrows[i] <- abs(nrows[i])\n .         vlist[[i]] <- xi\n .     }\n .     nr <- max(nrows)\n .     for (i in seq_len(n)[nrows < nr]) {\n .         xi <- vlist[[i]]\n .         if (nrows[i] > 0L && (nr%%nrows[i] == 0L)) {\n .             xi <- unclass(xi)\n .             fixed <- TRUE\n .             for (j in seq_along(xi)) {\n .                 xi1 <- xi[[j]]\n .                 if (is.vector(xi1) || is.factor(xi1)) \n .                   xi[[j]] <- rep(xi1, length.out = nr)\n .                 else if (is.character(xi1) && inherits(xi1, \"AsIs\")) \n .                   xi[[j]] <- structure(rep(xi1, length.out = nr), \n .                     class = class(xi1))\n .                 else if (inherits(xi1, \"Date\") || inherits(xi1, \n .                   \"POSIXct\")) \n .                   xi[[j]] <- rep(xi1, length.out = nr)\n .                 else {\n .                   fixed <- FALSE\n .                   break\n .                 }\n .             }\n .             if (fixed) {\n .                 vlist[[i]] <- xi\n .                 next\n .             }\n .         }\n .         stop(gettextf(\"arguments imply differing number of rows: %s\", \n .             paste(unique(nrows), collapse = \", \")), domain = NA)\n .     }\n .     value <- unlist(vlist, recursive = FALSE, use.names = FALSE)\n .     vnames <- unlist(vnames[ncols > 0L])\n .     if (fix.empty.names && any(noname <- !nzchar(vnames))) \n .         vnames[noname] <- paste(\"Var\", seq_along(vnames), sep = \".\")[noname]\n .     if (check.names) {\n .         if (fix.empty.names) \n .             vnames <- make.names(vnames, unique = TRUE)\n .         else {\n .             nz <- nzchar(vnames)\n .             vnames[nz] <- make.names(vnames[nz], unique = TRUE)\n .         }\n .     }\n .     names(value) <- vnames\n .     if (!mrn) {\n .         if (length(row.names) == 1L && nr != 1L) {\n .             if (is.character(row.names)) \n .                 row.names <- match(row.names, vnames, 0L)\n .             if (length(row.names) != 1L || row.names < 1L || \n .                 row.names > length(vnames)) \n .                 stop(\"'row.names' should specify one of the variables\")\n .             i <- row.names\n .             row.names <- value[[i]]\n .             value <- value[-i]\n .         }\n .         else if (!is.null(row.names) && length(row.names) != \n .             nr) \n .             stop(\"row names supplied are of the wrong length\")\n .     }\n .     else if (!is.null(row.names) && length(row.names) != nr) {\n .         warning(\"row names were found from a short variable and have been discarded\")\n .         row.names <- NULL\n .     }\n .     if (is.null(row.names)) \n .         row.names <- .set_row_names(nr)\n .     else {\n .         if (is.object(row.names) || !is.integer(row.names)) \n .             row.names <- as.character(row.names)\n .         if (anyNA(row.names)) \n .             stop(\"row names contain missing values\")\n .         if (anyDuplicated(row.names)) \n .             stop(gettextf(\"duplicate row.names: %s\", paste(unique(row.names[duplicated(row.names)]), \n .                 collapse = \", \")), domain = NA)\n .     }\n .     attr(value, \"row.names\") <- row.names\n .     attr(value, \"class\") <- \"data.frame\"\n .     value\n . })(1:2, 1:3, 1:4, check.names = FALSE, fix.empty.names = TRUE, \n .     stringsAsFactors = TRUE)",
      "6. stop(gettextf(\"arguments imply differing number of rows: %s\", \n .     paste(unique(nrows), collapse = \", \")), domain = NA)"
     ]
    }
   ],
   "source": [
    "data.frame(x = 1:3, y = list(1:2, 1:3, 1:4))"
   ]
  },
  {
   "cell_type": "markdown",
   "metadata": {
    "deletable": true,
    "editable": true
   },
   "source": [
    "Una solución es utilizar `I()`, lo que provoca que `data.frame()` trate una lista como una unidad:\n"
   ]
  },
  {
   "cell_type": "code",
   "execution_count": 66,
   "metadata": {
    "collapsed": false,
    "deletable": true,
    "editable": true
   },
   "outputs": [
    {
     "name": "stdout",
     "output_type": "stream",
     "text": [
      "'data.frame':\t3 obs. of  2 variables:\n",
      " $ x: int  1 2 3\n",
      " $ y:List of 3\n",
      "  ..$ : int  1 2\n",
      "  ..$ : int  1 2 3\n",
      "  ..$ : int  1 2 3 4\n",
      "  ..- attr(*, \"class\")= chr \"AsIs\"\n"
     ]
    },
    {
     "data": {
      "text/plain": [
       "[[1]]\n",
       "[1] 1 2 3\n"
      ]
     },
     "metadata": {},
     "output_type": "display_data"
    }
   ],
   "source": [
    "dfl <- data.frame(x = 1:3, y = I(list(1:2, 1:3, 1:4)))\n",
    "str(dfl)\n",
    "dfl[2, \"y\"]"
   ]
  },
  {
   "cell_type": "markdown",
   "metadata": {
    "deletable": true,
    "editable": true
   },
   "source": [
    "Del mismo modo, también es posible tener una columna de un data frame  que es una matriz o un array , siempre y cuando el número de filas coincide con el data frame:"
   ]
  },
  {
   "cell_type": "code",
   "execution_count": 67,
   "metadata": {
    "collapsed": false,
    "deletable": true,
    "editable": true
   },
   "outputs": [
    {
     "name": "stdout",
     "output_type": "stream",
     "text": [
      "'data.frame':\t3 obs. of  2 variables:\n",
      " $ x: int  1 2 3\n",
      " $ y: 'AsIs' int [1:3, 1:3] 1 2 3 4 5 6 7 8 9\n"
     ]
    },
    {
     "data": {
      "text/plain": [
       "     [,1] [,2] [,3]\n",
       "[1,]    2    5    8"
      ]
     },
     "metadata": {},
     "output_type": "display_data"
    }
   ],
   "source": [
    "dfm <- data.frame(x = 1:3, y = I(matrix(1:9, nrow = 3)))\n",
    "str(dfm)\n",
    "dfm[2, \"y\"]"
   ]
  },
  {
   "cell_type": "markdown",
   "metadata": {
    "deletable": true,
    "editable": true
   },
   "source": [
    "Utiliza las  lista y columnas de matrices con precaución: muchas funciones que trabajan con data frames, suponen que todas las columnas son vectores atómicos:\n"
   ]
  },
  {
   "cell_type": "code",
   "execution_count": 68,
   "metadata": {
    "collapsed": false,
    "deletable": true,
    "editable": true
   },
   "outputs": [
    {
     "data": {
      "text/html": [
       "<table>\n",
       "<thead><tr><th scope=col>x</th><th scope=col>y</th><th scope=col>z</th></tr></thead>\n",
       "<tbody>\n",
       "\t<tr><td>a          </td><td>-0.48030262</td><td> TRUE      </td></tr>\n",
       "\t<tr><td>b          </td><td>-0.08635535</td><td> TRUE      </td></tr>\n",
       "\t<tr><td>c          </td><td> 0.70912652</td><td>FALSE      </td></tr>\n",
       "\t<tr><td>d          </td><td>-0.41756940</td><td>FALSE      </td></tr>\n",
       "\t<tr><td>e          </td><td>-0.70136314</td><td>FALSE      </td></tr>\n",
       "</tbody>\n",
       "</table>\n"
      ],
      "text/latex": [
       "\\begin{tabular}{r|lll}\n",
       " x & y & z\\\\\n",
       "\\hline\n",
       "\t a           & -0.48030262 &  TRUE      \\\\\n",
       "\t b           & -0.08635535 &  TRUE      \\\\\n",
       "\t c           &  0.70912652 & FALSE      \\\\\n",
       "\t d           & -0.41756940 & FALSE      \\\\\n",
       "\t e           & -0.70136314 & FALSE      \\\\\n",
       "\\end{tabular}\n"
      ],
      "text/markdown": [
       "\n",
       "x | y | z | \n",
       "|---|---|---|---|---|\n",
       "| a           | -0.48030262 |  TRUE       | \n",
       "| b           | -0.08635535 |  TRUE       | \n",
       "| c           |  0.70912652 | FALSE       | \n",
       "| d           | -0.41756940 | FALSE       | \n",
       "| e           | -0.70136314 | FALSE       | \n",
       "\n",
       "\n"
      ],
      "text/plain": [
       "  x y           z    \n",
       "1 a -0.48030262  TRUE\n",
       "2 b -0.08635535  TRUE\n",
       "3 c  0.70912652 FALSE\n",
       "4 d -0.41756940 FALSE\n",
       "5 e -0.70136314 FALSE"
      ]
     },
     "metadata": {},
     "output_type": "display_data"
    }
   ],
   "source": [
    "(a_data_frame <- data.frame(\n",
    "x = letters[1:5],\n",
    "y = rnorm(5),\n",
    "z = runif(5) > 0.5\n",
    "))"
   ]
  },
  {
   "cell_type": "code",
   "execution_count": 69,
   "metadata": {
    "collapsed": false,
    "deletable": true,
    "editable": true
   },
   "outputs": [
    {
     "data": {
      "text/html": [
       "'data.frame'"
      ],
      "text/latex": [
       "'data.frame'"
      ],
      "text/markdown": [
       "'data.frame'"
      ],
      "text/plain": [
       "[1] \"data.frame\""
      ]
     },
     "metadata": {},
     "output_type": "display_data"
    }
   ],
   "source": [
    "class(a_data_frame)"
   ]
  },
  {
   "cell_type": "markdown",
   "metadata": {
    "deletable": true,
    "editable": true
   },
   "source": [
    "Debes observar que cada columna puede tener un tipo diferente al de las otras columnas, pero  todos los elementos dentro de una columna son del mismo tipo. Observese  también que la clase del objeto es `data.frame`, con un punto en lugar de un espacio.\n",
    "\n",
    "En este ejemplo, las filas se han numerado automáticamente del uno al cinco. Si alguno de los vectores de entrada tenía nombres, entonces los nombres de fila se habrían tomado del primer vector de este tipo.\n",
    "\n",
    "Por ejemplo si `y` tenía nombres, entonces esos serían dados al data frame:"
   ]
  },
  {
   "cell_type": "code",
   "execution_count": 70,
   "metadata": {
    "collapsed": false,
    "deletable": true,
    "editable": true
   },
   "outputs": [
    {
     "data": {
      "text/html": [
       "<table>\n",
       "<thead><tr><th></th><th scope=col>x</th><th scope=col>y</th><th scope=col>z</th></tr></thead>\n",
       "<tbody>\n",
       "\t<tr><th scope=row>January</th><td>a           </td><td> 0.359407300</td><td>FALSE       </td></tr>\n",
       "\t<tr><th scope=row>February</th><td>b           </td><td>-0.347631548</td><td>FALSE       </td></tr>\n",
       "\t<tr><th scope=row>March</th><td>c           </td><td>-0.001193605</td><td>FALSE       </td></tr>\n",
       "\t<tr><th scope=row>April</th><td>d           </td><td> 0.077597770</td><td>FALSE       </td></tr>\n",
       "\t<tr><th scope=row>May</th><td>e           </td><td> 0.209857541</td><td> TRUE       </td></tr>\n",
       "</tbody>\n",
       "</table>\n"
      ],
      "text/latex": [
       "\\begin{tabular}{r|lll}\n",
       "  & x & y & z\\\\\n",
       "\\hline\n",
       "\tJanuary & a            &  0.359407300 & FALSE       \\\\\n",
       "\tFebruary & b            & -0.347631548 & FALSE       \\\\\n",
       "\tMarch & c            & -0.001193605 & FALSE       \\\\\n",
       "\tApril & d            &  0.077597770 & FALSE       \\\\\n",
       "\tMay & e            &  0.209857541 &  TRUE       \\\\\n",
       "\\end{tabular}\n"
      ],
      "text/markdown": [
       "\n",
       "| <!--/--> | x | y | z | \n",
       "|---|---|---|---|---|\n",
       "| January | a            |  0.359407300 | FALSE        | \n",
       "| February | b            | -0.347631548 | FALSE        | \n",
       "| March | c            | -0.001193605 | FALSE        | \n",
       "| April | d            |  0.077597770 | FALSE        | \n",
       "| May | e            |  0.209857541 |  TRUE        | \n",
       "\n",
       "\n"
      ],
      "text/plain": [
       "         x y            z    \n",
       "January  a  0.359407300 FALSE\n",
       "February b -0.347631548 FALSE\n",
       "March    c -0.001193605 FALSE\n",
       "April    d  0.077597770 FALSE\n",
       "May      e  0.209857541  TRUE"
      ]
     },
     "metadata": {},
     "output_type": "display_data"
    }
   ],
   "source": [
    "y <- rnorm(5)\n",
    "names(y) <- month.name[1:5]\n",
    "data.frame(\n",
    "  x = letters[1:5],\n",
    "  y = y,\n",
    "  z = runif(5) > 0.5\n",
    ")"
   ]
  },
  {
   "cell_type": "markdown",
   "metadata": {
    "deletable": true,
    "editable": true
   },
   "source": [
    "Este comportamiento se puede sobreescribir pasando el argumento `row.names = NULL` a la función `data.frame:`"
   ]
  },
  {
   "cell_type": "code",
   "execution_count": 71,
   "metadata": {
    "collapsed": false,
    "deletable": true,
    "editable": true
   },
   "outputs": [
    {
     "data": {
      "text/html": [
       "<table>\n",
       "<thead><tr><th scope=col>x</th><th scope=col>y</th><th scope=col>z</th></tr></thead>\n",
       "<tbody>\n",
       "\t<tr><td>a           </td><td> 0.359407300</td><td> TRUE       </td></tr>\n",
       "\t<tr><td>b           </td><td>-0.347631548</td><td> TRUE       </td></tr>\n",
       "\t<tr><td>c           </td><td>-0.001193605</td><td>FALSE       </td></tr>\n",
       "\t<tr><td>d           </td><td> 0.077597770</td><td> TRUE       </td></tr>\n",
       "\t<tr><td>e           </td><td> 0.209857541</td><td>FALSE       </td></tr>\n",
       "</tbody>\n",
       "</table>\n"
      ],
      "text/latex": [
       "\\begin{tabular}{r|lll}\n",
       " x & y & z\\\\\n",
       "\\hline\n",
       "\t a            &  0.359407300 &  TRUE       \\\\\n",
       "\t b            & -0.347631548 &  TRUE       \\\\\n",
       "\t c            & -0.001193605 & FALSE       \\\\\n",
       "\t d            &  0.077597770 &  TRUE       \\\\\n",
       "\t e            &  0.209857541 & FALSE       \\\\\n",
       "\\end{tabular}\n"
      ],
      "text/markdown": [
       "\n",
       "x | y | z | \n",
       "|---|---|---|---|---|\n",
       "| a            |  0.359407300 |  TRUE        | \n",
       "| b            | -0.347631548 |  TRUE        | \n",
       "| c            | -0.001193605 | FALSE        | \n",
       "| d            |  0.077597770 |  TRUE        | \n",
       "| e            |  0.209857541 | FALSE        | \n",
       "\n",
       "\n"
      ],
      "text/plain": [
       "  x y            z    \n",
       "1 a  0.359407300  TRUE\n",
       "2 b -0.347631548  TRUE\n",
       "3 c -0.001193605 FALSE\n",
       "4 d  0.077597770  TRUE\n",
       "5 e  0.209857541 FALSE"
      ]
     },
     "metadata": {},
     "output_type": "display_data"
    }
   ],
   "source": [
    "data.frame(\n",
    "  x = letters[1:5],\n",
    "  y = y,\n",
    "  z = runif(5) > 0.5,\n",
    "  row.names = NULL\n",
    ")"
   ]
  },
  {
   "cell_type": "markdown",
   "metadata": {
    "deletable": true,
    "editable": true
   },
   "source": [
    "También es posible proporcionar sus propios nombres de fila pasando un vector a `row.names`. Este vector se convertirá en `character`, si ya no es ese tipo:"
   ]
  },
  {
   "cell_type": "code",
   "execution_count": 72,
   "metadata": {
    "collapsed": false,
    "deletable": true,
    "editable": true
   },
   "outputs": [
    {
     "data": {
      "text/html": [
       "<table>\n",
       "<thead><tr><th></th><th scope=col>x</th><th scope=col>y</th><th scope=col>z</th></tr></thead>\n",
       "<tbody>\n",
       "\t<tr><th scope=row>R</th><td>a           </td><td> 0.359407300</td><td>TRUE        </td></tr>\n",
       "\t<tr><th scope=row>Python</th><td>b           </td><td>-0.347631548</td><td>TRUE        </td></tr>\n",
       "\t<tr><th scope=row>Java</th><td>c           </td><td>-0.001193605</td><td>TRUE        </td></tr>\n",
       "\t<tr><th scope=row>C++</th><td>d           </td><td> 0.077597770</td><td>TRUE        </td></tr>\n",
       "\t<tr><th scope=row>Latex</th><td>e           </td><td> 0.209857541</td><td>TRUE        </td></tr>\n",
       "</tbody>\n",
       "</table>\n"
      ],
      "text/latex": [
       "\\begin{tabular}{r|lll}\n",
       "  & x & y & z\\\\\n",
       "\\hline\n",
       "\tR & a            &  0.359407300 & TRUE        \\\\\n",
       "\tPython & b            & -0.347631548 & TRUE        \\\\\n",
       "\tJava & c            & -0.001193605 & TRUE        \\\\\n",
       "\tC++ & d            &  0.077597770 & TRUE        \\\\\n",
       "\tLatex & e            &  0.209857541 & TRUE        \\\\\n",
       "\\end{tabular}\n"
      ],
      "text/markdown": [
       "\n",
       "| <!--/--> | x | y | z | \n",
       "|---|---|---|---|---|\n",
       "| R | a            |  0.359407300 | TRUE         | \n",
       "| Python | b            | -0.347631548 | TRUE         | \n",
       "| Java | c            | -0.001193605 | TRUE         | \n",
       "| C++ | d            |  0.077597770 | TRUE         | \n",
       "| Latex | e            |  0.209857541 | TRUE         | \n",
       "\n",
       "\n"
      ],
      "text/plain": [
       "       x y            z   \n",
       "R      a  0.359407300 TRUE\n",
       "Python b -0.347631548 TRUE\n",
       "Java   c -0.001193605 TRUE\n",
       "C++    d  0.077597770 TRUE\n",
       "Latex  e  0.209857541 TRUE"
      ]
     },
     "metadata": {},
     "output_type": "display_data"
    }
   ],
   "source": [
    "data.frame(\n",
    "  x = letters[1:5],\n",
    "  y = y,\n",
    "  z = runif(5) > 0.5,\n",
    "  row.names = c(\"R\", \"Python\", \"Java\", \"C++\", \"Latex\")\n",
    ")"
   ]
  },
  {
   "cell_type": "markdown",
   "metadata": {
    "deletable": true,
    "editable": true
   },
   "source": [
    "Los nombres de las fila se pueden recuperar o cambiar utilizando `rownames` (o `row.names`). Del mismo modo, que `colnames` y `dimnames` se pueden utilizar para obtener o establecer los nombres de las columnas y de la dimensión, respectivamente. De hecho, las funciones que se pueden utilizar para inspeccionar matrices también se pueden utilizar con data frames. `nrow`, `ncol` y `dim` funcionan exactamente de la misma manera que lo hacen en las matrices:"
   ]
  },
  {
   "cell_type": "code",
   "execution_count": 73,
   "metadata": {
    "collapsed": false,
    "deletable": true,
    "editable": true
   },
   "outputs": [
    {
     "data": {
      "text/html": [
       "<ol class=list-inline>\n",
       "\t<li>'1'</li>\n",
       "\t<li>'2'</li>\n",
       "\t<li>'3'</li>\n",
       "\t<li>'4'</li>\n",
       "\t<li>'5'</li>\n",
       "</ol>\n"
      ],
      "text/latex": [
       "\\begin{enumerate*}\n",
       "\\item '1'\n",
       "\\item '2'\n",
       "\\item '3'\n",
       "\\item '4'\n",
       "\\item '5'\n",
       "\\end{enumerate*}\n"
      ],
      "text/markdown": [
       "1. '1'\n",
       "2. '2'\n",
       "3. '3'\n",
       "4. '4'\n",
       "5. '5'\n",
       "\n",
       "\n"
      ],
      "text/plain": [
       "[1] \"1\" \"2\" \"3\" \"4\" \"5\""
      ]
     },
     "metadata": {},
     "output_type": "display_data"
    }
   ],
   "source": [
    "rownames(a_data_frame)"
   ]
  },
  {
   "cell_type": "code",
   "execution_count": 74,
   "metadata": {
    "collapsed": false,
    "deletable": true,
    "editable": true
   },
   "outputs": [
    {
     "data": {
      "text/html": [
       "<ol class=list-inline>\n",
       "\t<li>'x'</li>\n",
       "\t<li>'y'</li>\n",
       "\t<li>'z'</li>\n",
       "</ol>\n"
      ],
      "text/latex": [
       "\\begin{enumerate*}\n",
       "\\item 'x'\n",
       "\\item 'y'\n",
       "\\item 'z'\n",
       "\\end{enumerate*}\n"
      ],
      "text/markdown": [
       "1. 'x'\n",
       "2. 'y'\n",
       "3. 'z'\n",
       "\n",
       "\n"
      ],
      "text/plain": [
       "[1] \"x\" \"y\" \"z\""
      ]
     },
     "metadata": {},
     "output_type": "display_data"
    }
   ],
   "source": [
    "colnames(a_data_frame)"
   ]
  },
  {
   "cell_type": "code",
   "execution_count": 75,
   "metadata": {
    "collapsed": false,
    "deletable": true,
    "editable": true
   },
   "outputs": [
    {
     "data": {
      "text/html": [
       "<ol>\n",
       "\t<li><ol class=list-inline>\n",
       "\t<li>'1'</li>\n",
       "\t<li>'2'</li>\n",
       "\t<li>'3'</li>\n",
       "\t<li>'4'</li>\n",
       "\t<li>'5'</li>\n",
       "</ol>\n",
       "</li>\n",
       "\t<li><ol class=list-inline>\n",
       "\t<li>'x'</li>\n",
       "\t<li>'y'</li>\n",
       "\t<li>'z'</li>\n",
       "</ol>\n",
       "</li>\n",
       "</ol>\n"
      ],
      "text/latex": [
       "\\begin{enumerate}\n",
       "\\item \\begin{enumerate*}\n",
       "\\item '1'\n",
       "\\item '2'\n",
       "\\item '3'\n",
       "\\item '4'\n",
       "\\item '5'\n",
       "\\end{enumerate*}\n",
       "\n",
       "\\item \\begin{enumerate*}\n",
       "\\item 'x'\n",
       "\\item 'y'\n",
       "\\item 'z'\n",
       "\\end{enumerate*}\n",
       "\n",
       "\\end{enumerate}\n"
      ],
      "text/markdown": [
       "1. 1. '1'\n",
       "2. '2'\n",
       "3. '3'\n",
       "4. '4'\n",
       "5. '5'\n",
       "\n",
       "\n",
       "\n",
       "2. 1. 'x'\n",
       "2. 'y'\n",
       "3. 'z'\n",
       "\n",
       "\n",
       "\n",
       "\n",
       "\n"
      ],
      "text/plain": [
       "[[1]]\n",
       "[1] \"1\" \"2\" \"3\" \"4\" \"5\"\n",
       "\n",
       "[[2]]\n",
       "[1] \"x\" \"y\" \"z\"\n"
      ]
     },
     "metadata": {},
     "output_type": "display_data"
    }
   ],
   "source": [
    "dimnames(a_data_frame)"
   ]
  },
  {
   "cell_type": "code",
   "execution_count": 76,
   "metadata": {
    "collapsed": false,
    "deletable": true,
    "editable": true
   },
   "outputs": [
    {
     "data": {
      "text/html": [
       "5"
      ],
      "text/latex": [
       "5"
      ],
      "text/markdown": [
       "5"
      ],
      "text/plain": [
       "[1] 5"
      ]
     },
     "metadata": {},
     "output_type": "display_data"
    }
   ],
   "source": [
    "nrow(a_data_frame)"
   ]
  },
  {
   "cell_type": "code",
   "execution_count": 77,
   "metadata": {
    "collapsed": false,
    "deletable": true,
    "editable": true
   },
   "outputs": [
    {
     "data": {
      "text/html": [
       "3"
      ],
      "text/latex": [
       "3"
      ],
      "text/markdown": [
       "3"
      ],
      "text/plain": [
       "[1] 3"
      ]
     },
     "metadata": {},
     "output_type": "display_data"
    }
   ],
   "source": [
    "ncol(a_data_frame)"
   ]
  },
  {
   "cell_type": "code",
   "execution_count": 78,
   "metadata": {
    "collapsed": false,
    "deletable": true,
    "editable": true
   },
   "outputs": [
    {
     "data": {
      "text/html": [
       "<ol class=list-inline>\n",
       "\t<li>5</li>\n",
       "\t<li>3</li>\n",
       "</ol>\n"
      ],
      "text/latex": [
       "\\begin{enumerate*}\n",
       "\\item 5\n",
       "\\item 3\n",
       "\\end{enumerate*}\n"
      ],
      "text/markdown": [
       "1. 5\n",
       "2. 3\n",
       "\n",
       "\n"
      ],
      "text/plain": [
       "[1] 5 3"
      ]
     },
     "metadata": {},
     "output_type": "display_data"
    }
   ],
   "source": [
    "dim(a_data_frame)"
   ]
  },
  {
   "cell_type": "markdown",
   "metadata": {
    "deletable": true,
    "editable": true
   },
   "source": [
    "`length` devuelve el mismo valor que `ncol`, no el número total de elementos en el data frame. Del mismo modo, `names` devuelven el mismo valor que `colnames`. Se recomienda evitar esas dos funciones y utilizar `ncol` y `colnames` en su lugar:"
   ]
  },
  {
   "cell_type": "code",
   "execution_count": 79,
   "metadata": {
    "collapsed": false,
    "deletable": true,
    "editable": true
   },
   "outputs": [
    {
     "data": {
      "text/html": [
       "3"
      ],
      "text/latex": [
       "3"
      ],
      "text/markdown": [
       "3"
      ],
      "text/plain": [
       "[1] 3"
      ]
     },
     "metadata": {},
     "output_type": "display_data"
    },
    {
     "data": {
      "text/html": [
       "<ol class=list-inline>\n",
       "\t<li>'x'</li>\n",
       "\t<li>'y'</li>\n",
       "\t<li>'z'</li>\n",
       "</ol>\n"
      ],
      "text/latex": [
       "\\begin{enumerate*}\n",
       "\\item 'x'\n",
       "\\item 'y'\n",
       "\\item 'z'\n",
       "\\end{enumerate*}\n"
      ],
      "text/markdown": [
       "1. 'x'\n",
       "2. 'y'\n",
       "3. 'z'\n",
       "\n",
       "\n"
      ],
      "text/plain": [
       "[1] \"x\" \"y\" \"z\""
      ]
     },
     "metadata": {},
     "output_type": "display_data"
    }
   ],
   "source": [
    "length(a_data_frame)\n",
    "names(a_data_frame)"
   ]
  },
  {
   "cell_type": "markdown",
   "metadata": {
    "deletable": true,
    "editable": true
   },
   "source": [
    "Es posible crear un data frame  pasando diferentes longitudes de vectores, siempre que las longitudes permitan que las menores  sean recicladas a un número exacto de veces:"
   ]
  },
  {
   "cell_type": "code",
   "execution_count": 80,
   "metadata": {
    "collapsed": false,
    "deletable": true,
    "editable": true
   },
   "outputs": [
    {
     "data": {
      "text/html": [
       "<table>\n",
       "<thead><tr><th scope=col>x</th><th scope=col>y</th><th scope=col>z</th></tr></thead>\n",
       "<tbody>\n",
       "\t<tr><td>1</td><td>2</td><td>4</td></tr>\n",
       "\t<tr><td>1</td><td>3</td><td>5</td></tr>\n",
       "\t<tr><td>1</td><td>2</td><td>6</td></tr>\n",
       "\t<tr><td>1</td><td>3</td><td>7</td></tr>\n",
       "</tbody>\n",
       "</table>\n"
      ],
      "text/latex": [
       "\\begin{tabular}{r|lll}\n",
       " x & y & z\\\\\n",
       "\\hline\n",
       "\t 1 & 2 & 4\\\\\n",
       "\t 1 & 3 & 5\\\\\n",
       "\t 1 & 2 & 6\\\\\n",
       "\t 1 & 3 & 7\\\\\n",
       "\\end{tabular}\n"
      ],
      "text/markdown": [
       "\n",
       "x | y | z | \n",
       "|---|---|---|---|\n",
       "| 1 | 2 | 4 | \n",
       "| 1 | 3 | 5 | \n",
       "| 1 | 2 | 6 | \n",
       "| 1 | 3 | 7 | \n",
       "\n",
       "\n"
      ],
      "text/plain": [
       "  x y z\n",
       "1 1 2 4\n",
       "2 1 3 5\n",
       "3 1 2 6\n",
       "4 1 3 7"
      ]
     },
     "metadata": {},
     "output_type": "display_data"
    }
   ],
   "source": [
    "data.frame( #longitudes 1, 2 y  4  OK\n",
    " x = 1, # reciclada  4 veces\n",
    " y = 2:3, # reciclada  dos veces\n",
    " z = 4:7 # no reciclado\n",
    ")"
   ]
  },
  {
   "cell_type": "markdown",
   "metadata": {
    "deletable": true,
    "editable": true
   },
   "source": [
    "Si las longitudes no son compatibles, se producirá un error. \n",
    "\n",
    "Otra consideración a la hora de crear data frames es que, por defecto, los nombres de columna se comprueban como nombres de variables válidos únicos. Esta característica se puede desactivar con  `check.names = FALSE` en  la función `data.frame`:"
   ]
  },
  {
   "cell_type": "code",
   "execution_count": 81,
   "metadata": {
    "collapsed": false,
    "deletable": true,
    "editable": true
   },
   "outputs": [
    {
     "data": {
      "text/html": [
       "<table>\n",
       "<thead><tr><th scope=col>A column</th><th scope=col>!@#$%^&amp;*()</th><th scope=col>...</th></tr></thead>\n",
       "<tbody>\n",
       "\t<tr><td>a         </td><td> 0.9355405</td><td>FALSE     </td></tr>\n",
       "\t<tr><td>b         </td><td> 0.6593620</td><td>FALSE     </td></tr>\n",
       "\t<tr><td>c         </td><td> 0.8105645</td><td>FALSE     </td></tr>\n",
       "\t<tr><td>d         </td><td> 0.7861239</td><td> TRUE     </td></tr>\n",
       "\t<tr><td>e         </td><td>-1.9073944</td><td> TRUE     </td></tr>\n",
       "</tbody>\n",
       "</table>\n"
      ],
      "text/latex": [
       "\\begin{tabular}{r|lll}\n",
       " A column & !@\\#\\$\\%\\textasciicircum{}\\&*() & ...\\\\\n",
       "\\hline\n",
       "\t a          &  0.9355405 & FALSE     \\\\\n",
       "\t b          &  0.6593620 & FALSE     \\\\\n",
       "\t c          &  0.8105645 & FALSE     \\\\\n",
       "\t d          &  0.7861239 &  TRUE     \\\\\n",
       "\t e          & -1.9073944 &  TRUE     \\\\\n",
       "\\end{tabular}\n"
      ],
      "text/markdown": [
       "\n",
       "A column | !@#$%^&*() | ... | \n",
       "|---|---|---|---|---|\n",
       "| a          |  0.9355405 | FALSE      | \n",
       "| b          |  0.6593620 | FALSE      | \n",
       "| c          |  0.8105645 | FALSE      | \n",
       "| d          |  0.7861239 |  TRUE      | \n",
       "| e          | -1.9073944 |  TRUE      | \n",
       "\n",
       "\n"
      ],
      "text/plain": [
       "  A column !@#$%^&*() ...  \n",
       "1 a         0.9355405 FALSE\n",
       "2 b         0.6593620 FALSE\n",
       "3 c         0.8105645 FALSE\n",
       "4 d         0.7861239  TRUE\n",
       "5 e        -1.9073944  TRUE"
      ]
     },
     "metadata": {},
     "output_type": "display_data"
    }
   ],
   "source": [
    "data.frame(\n",
    "  \"A column\" = letters[1:5],\n",
    "  \"!@#$%^&*()\" = rnorm(5),\n",
    "  \"...\" = runif(5) > 0.5,\n",
    "  check.names = FALSE\n",
    ")"
   ]
  },
  {
   "cell_type": "markdown",
   "metadata": {
    "deletable": true,
    "editable": true
   },
   "source": [
    "Hay muchas formas diferentes de indexar un data frame. Para empezar, los enteros positivos, enteros negativos, valores lógicos y caracteres  se pueden utilizar exactamente de la misma manera que con las matrices. Estos comandos seleccionan el segundo y tercer elemento de las dos primeras columnas:"
   ]
  },
  {
   "cell_type": "code",
   "execution_count": 82,
   "metadata": {
    "collapsed": false,
    "deletable": true,
    "editable": true
   },
   "outputs": [
    {
     "data": {
      "text/html": [
       "<table>\n",
       "<thead><tr><th></th><th scope=col>x</th><th scope=col>y</th></tr></thead>\n",
       "<tbody>\n",
       "\t<tr><th scope=row>2</th><td>b          </td><td>-0.08635535</td></tr>\n",
       "\t<tr><th scope=row>3</th><td>c          </td><td> 0.70912652</td></tr>\n",
       "</tbody>\n",
       "</table>\n"
      ],
      "text/latex": [
       "\\begin{tabular}{r|ll}\n",
       "  & x & y\\\\\n",
       "\\hline\n",
       "\t2 & b           & -0.08635535\\\\\n",
       "\t3 & c           &  0.70912652\\\\\n",
       "\\end{tabular}\n"
      ],
      "text/markdown": [
       "\n",
       "| <!--/--> | x | y | \n",
       "|---|---|\n",
       "| 2 | b           | -0.08635535 | \n",
       "| 3 | c           |  0.70912652 | \n",
       "\n",
       "\n"
      ],
      "text/plain": [
       "  x y          \n",
       "2 b -0.08635535\n",
       "3 c  0.70912652"
      ]
     },
     "metadata": {},
     "output_type": "display_data"
    }
   ],
   "source": [
    "a_data_frame[2:3, -3]"
   ]
  },
  {
   "cell_type": "code",
   "execution_count": 83,
   "metadata": {
    "collapsed": false,
    "deletable": true,
    "editable": true
   },
   "outputs": [
    {
     "data": {
      "text/html": [
       "<table>\n",
       "<thead><tr><th></th><th scope=col>x</th><th scope=col>y</th></tr></thead>\n",
       "<tbody>\n",
       "\t<tr><th scope=row>2</th><td>b          </td><td>-0.08635535</td></tr>\n",
       "\t<tr><th scope=row>3</th><td>c          </td><td> 0.70912652</td></tr>\n",
       "</tbody>\n",
       "</table>\n"
      ],
      "text/latex": [
       "\\begin{tabular}{r|ll}\n",
       "  & x & y\\\\\n",
       "\\hline\n",
       "\t2 & b           & -0.08635535\\\\\n",
       "\t3 & c           &  0.70912652\\\\\n",
       "\\end{tabular}\n"
      ],
      "text/markdown": [
       "\n",
       "| <!--/--> | x | y | \n",
       "|---|---|\n",
       "| 2 | b           | -0.08635535 | \n",
       "| 3 | c           |  0.70912652 | \n",
       "\n",
       "\n"
      ],
      "text/plain": [
       "  x y          \n",
       "2 b -0.08635535\n",
       "3 c  0.70912652"
      ]
     },
     "metadata": {},
     "output_type": "display_data"
    }
   ],
   "source": [
    "a_data_frame[c(FALSE, TRUE, TRUE, FALSE, FALSE), c(\"x\", \"y\")]"
   ]
  },
  {
   "cell_type": "markdown",
   "metadata": {
    "deletable": true,
    "editable": true
   },
   "source": [
    "Puesto que se seleccionó más de una columna, el subconjunto resultante es también un data frane. Si sólo se hubiera seleccionado una columna, el resultado habría sido simplificado para ser un vector:\n"
   ]
  },
  {
   "cell_type": "code",
   "execution_count": 84,
   "metadata": {
    "collapsed": false,
    "deletable": true,
    "editable": true
   },
   "outputs": [
    {
     "data": {
      "text/html": [
       "'data.frame'"
      ],
      "text/latex": [
       "'data.frame'"
      ],
      "text/markdown": [
       "'data.frame'"
      ],
      "text/plain": [
       "[1] \"data.frame\""
      ]
     },
     "metadata": {},
     "output_type": "display_data"
    }
   ],
   "source": [
    "class(a_data_frame[2:3, -3])"
   ]
  },
  {
   "cell_type": "code",
   "execution_count": 85,
   "metadata": {
    "collapsed": false,
    "deletable": true,
    "editable": true
   },
   "outputs": [
    {
     "data": {
      "text/html": [
       "'factor'"
      ],
      "text/latex": [
       "'factor'"
      ],
      "text/markdown": [
       "'factor'"
      ],
      "text/plain": [
       "[1] \"factor\""
      ]
     },
     "metadata": {},
     "output_type": "display_data"
    }
   ],
   "source": [
    "class(a_data_frame[2:3, 1])"
   ]
  },
  {
   "cell_type": "markdown",
   "metadata": {
    "deletable": true,
    "editable": true
   },
   "source": [
    "Si sólo queremos seleccionar una columna, también se puede utilizar la indexación de estilo de lista (doble corchetes con un  entero positivo o  nombre o el operador de signo de dólar con un nombre). Estos comandos seleccionan el segundo y tercer elemento de la primera columna:"
   ]
  },
  {
   "cell_type": "code",
   "execution_count": 86,
   "metadata": {
    "collapsed": false,
    "deletable": true,
    "editable": true
   },
   "outputs": [
    {
     "data": {
      "text/html": [
       "<ol class=list-inline>\n",
       "\t<li>b</li>\n",
       "\t<li>c</li>\n",
       "</ol>\n"
      ],
      "text/latex": [
       "\\begin{enumerate*}\n",
       "\\item b\n",
       "\\item c\n",
       "\\end{enumerate*}\n"
      ],
      "text/markdown": [
       "1. b\n",
       "2. c\n",
       "\n",
       "\n"
      ],
      "text/plain": [
       "[1] b c\n",
       "Levels: a b c d e"
      ]
     },
     "metadata": {},
     "output_type": "display_data"
    },
    {
     "data": {
      "text/html": [
       "<ol class=list-inline>\n",
       "\t<li>b</li>\n",
       "\t<li>c</li>\n",
       "</ol>\n"
      ],
      "text/latex": [
       "\\begin{enumerate*}\n",
       "\\item b\n",
       "\\item c\n",
       "\\end{enumerate*}\n"
      ],
      "text/markdown": [
       "1. b\n",
       "2. c\n",
       "\n",
       "\n"
      ],
      "text/plain": [
       "[1] b c\n",
       "Levels: a b c d e"
      ]
     },
     "metadata": {},
     "output_type": "display_data"
    },
    {
     "data": {
      "text/html": [
       "<ol class=list-inline>\n",
       "\t<li>b</li>\n",
       "\t<li>c</li>\n",
       "</ol>\n"
      ],
      "text/latex": [
       "\\begin{enumerate*}\n",
       "\\item b\n",
       "\\item c\n",
       "\\end{enumerate*}\n"
      ],
      "text/markdown": [
       "1. b\n",
       "2. c\n",
       "\n",
       "\n"
      ],
      "text/plain": [
       "[1] b c\n",
       "Levels: a b c d e"
      ]
     },
     "metadata": {},
     "output_type": "display_data"
    }
   ],
   "source": [
    "a_data_frame$x[2:3]\n",
    "a_data_frame[[1]][2:3]\n",
    "a_data_frame[[\"x\"]][2:3]"
   ]
  },
  {
   "cell_type": "code",
   "execution_count": 87,
   "metadata": {
    "collapsed": false,
    "deletable": true,
    "editable": true
   },
   "outputs": [
    {
     "data": {
      "text/html": [
       "<table>\n",
       "<thead><tr><th></th><th scope=col>x</th><th scope=col>y</th><th scope=col>z</th></tr></thead>\n",
       "<tbody>\n",
       "\t<tr><th scope=row>2</th><td>2</td><td>2</td><td>b</td></tr>\n",
       "</tbody>\n",
       "</table>\n"
      ],
      "text/latex": [
       "\\begin{tabular}{r|lll}\n",
       "  & x & y & z\\\\\n",
       "\\hline\n",
       "\t2 & 2 & 2 & b\\\\\n",
       "\\end{tabular}\n"
      ],
      "text/markdown": [
       "\n",
       "| <!--/--> | x | y | z | \n",
       "|---|\n",
       "| 2 | 2 | 2 | b | \n",
       "\n",
       "\n"
      ],
      "text/plain": [
       "  x y z\n",
       "2 2 2 b"
      ]
     },
     "metadata": {},
     "output_type": "display_data"
    }
   ],
   "source": [
    "df1 <- data.frame(x = 1:3, y = 3:1, z = letters[1:3])\n",
    "df1[df1$x == 2, ]"
   ]
  },
  {
   "cell_type": "code",
   "execution_count": 88,
   "metadata": {
    "collapsed": false,
    "deletable": true,
    "editable": true
   },
   "outputs": [
    {
     "data": {
      "text/html": [
       "<table>\n",
       "<thead><tr><th></th><th scope=col>x</th><th scope=col>y</th><th scope=col>z</th></tr></thead>\n",
       "<tbody>\n",
       "\t<tr><th scope=row>1</th><td>1</td><td>3</td><td>a</td></tr>\n",
       "\t<tr><th scope=row>3</th><td>3</td><td>1</td><td>c</td></tr>\n",
       "</tbody>\n",
       "</table>\n"
      ],
      "text/latex": [
       "\\begin{tabular}{r|lll}\n",
       "  & x & y & z\\\\\n",
       "\\hline\n",
       "\t1 & 1 & 3 & a\\\\\n",
       "\t3 & 3 & 1 & c\\\\\n",
       "\\end{tabular}\n"
      ],
      "text/markdown": [
       "\n",
       "| <!--/--> | x | y | z | \n",
       "|---|---|\n",
       "| 1 | 1 | 3 | a | \n",
       "| 3 | 3 | 1 | c | \n",
       "\n",
       "\n"
      ],
      "text/plain": [
       "  x y z\n",
       "1 1 3 a\n",
       "3 3 1 c"
      ]
     },
     "metadata": {},
     "output_type": "display_data"
    }
   ],
   "source": [
    "df1[c(1,3),]"
   ]
  },
  {
   "cell_type": "code",
   "execution_count": 89,
   "metadata": {
    "collapsed": false,
    "deletable": true,
    "editable": true
   },
   "outputs": [
    {
     "data": {
      "text/html": [
       "<table>\n",
       "<thead><tr><th scope=col>x</th><th scope=col>z</th></tr></thead>\n",
       "<tbody>\n",
       "\t<tr><td>1</td><td>a</td></tr>\n",
       "\t<tr><td>2</td><td>b</td></tr>\n",
       "\t<tr><td>3</td><td>c</td></tr>\n",
       "</tbody>\n",
       "</table>\n"
      ],
      "text/latex": [
       "\\begin{tabular}{r|ll}\n",
       " x & z\\\\\n",
       "\\hline\n",
       "\t 1 & a\\\\\n",
       "\t 2 & b\\\\\n",
       "\t 3 & c\\\\\n",
       "\\end{tabular}\n"
      ],
      "text/markdown": [
       "\n",
       "x | z | \n",
       "|---|---|---|\n",
       "| 1 | a | \n",
       "| 2 | b | \n",
       "| 3 | c | \n",
       "\n",
       "\n"
      ],
      "text/plain": [
       "  x z\n",
       "1 1 a\n",
       "2 2 b\n",
       "3 3 c"
      ]
     },
     "metadata": {},
     "output_type": "display_data"
    }
   ],
   "source": [
    "# Hay dos maneras de seleccionar columnas desde un data frame  como una lista\n",
    "df1[c(\"x\", \"z\")] "
   ]
  },
  {
   "cell_type": "code",
   "execution_count": 90,
   "metadata": {
    "collapsed": false,
    "deletable": true,
    "editable": true
   },
   "outputs": [
    {
     "data": {
      "text/html": [
       "<table>\n",
       "<thead><tr><th scope=col>x</th><th scope=col>z</th></tr></thead>\n",
       "<tbody>\n",
       "\t<tr><td>1</td><td>a</td></tr>\n",
       "\t<tr><td>2</td><td>b</td></tr>\n",
       "\t<tr><td>3</td><td>c</td></tr>\n",
       "</tbody>\n",
       "</table>\n"
      ],
      "text/latex": [
       "\\begin{tabular}{r|ll}\n",
       " x & z\\\\\n",
       "\\hline\n",
       "\t 1 & a\\\\\n",
       "\t 2 & b\\\\\n",
       "\t 3 & c\\\\\n",
       "\\end{tabular}\n"
      ],
      "text/markdown": [
       "\n",
       "x | z | \n",
       "|---|---|---|\n",
       "| 1 | a | \n",
       "| 2 | b | \n",
       "| 3 | c | \n",
       "\n",
       "\n"
      ],
      "text/plain": [
       "  x z\n",
       "1 1 a\n",
       "2 2 b\n",
       "3 3 c"
      ]
     },
     "metadata": {},
     "output_type": "display_data"
    }
   ],
   "source": [
    "# Utilizando la manera seleccionar columnas desde data frame como una matriz\n",
    "df1[, c(\"x\", \"z\")]"
   ]
  },
  {
   "cell_type": "code",
   "execution_count": 91,
   "metadata": {
    "collapsed": false,
    "deletable": true,
    "editable": true
   },
   "outputs": [
    {
     "name": "stdout",
     "output_type": "stream",
     "text": [
      "'data.frame':\t3 obs. of  1 variable:\n",
      " $ x: int  1 2 3\n",
      " int [1:3] 1 2 3\n"
     ]
    }
   ],
   "source": [
    "# Diferencias de seleccionar una unica columna\n",
    "str(df1[\"x\"])\n",
    "str(df1[, \"x\"])"
   ]
  },
  {
   "cell_type": "markdown",
   "metadata": {
    "deletable": true,
    "editable": true
   },
   "source": [
    "Los anteriores códigos muestran que esta técnica es utilizada para la extracción de filas de un data frame \n",
    "\n",
    "```\n",
    "mtcars[mtcars$gear == 5, ]\n",
    "\n",
    "mtcars[mtcars$gear == 5 & mtcars$cyl == 4, ]\n",
    "```\n",
    "`subset()` es una función  especializada para construir subconjuntos de data frames, como se ve en el siguiente ejemplo, que hace lo mismo que el código anterior:"
   ]
  },
  {
   "cell_type": "code",
   "execution_count": 92,
   "metadata": {
    "collapsed": false,
    "deletable": true,
    "editable": true
   },
   "outputs": [
    {
     "data": {
      "text/html": [
       "<table>\n",
       "<thead><tr><th></th><th scope=col>mpg</th><th scope=col>cyl</th><th scope=col>disp</th><th scope=col>hp</th><th scope=col>drat</th><th scope=col>wt</th><th scope=col>qsec</th><th scope=col>vs</th><th scope=col>am</th><th scope=col>gear</th><th scope=col>carb</th></tr></thead>\n",
       "<tbody>\n",
       "\t<tr><th scope=row>Porsche 914-2</th><td>26.0 </td><td>4    </td><td>120.3</td><td> 91  </td><td>4.43 </td><td>2.140</td><td>16.7 </td><td>0    </td><td>1    </td><td>5    </td><td>2    </td></tr>\n",
       "\t<tr><th scope=row>Lotus Europa</th><td>30.4 </td><td>4    </td><td> 95.1</td><td>113  </td><td>3.77 </td><td>1.513</td><td>16.9 </td><td>1    </td><td>1    </td><td>5    </td><td>2    </td></tr>\n",
       "\t<tr><th scope=row>Ford Pantera L</th><td>15.8 </td><td>8    </td><td>351.0</td><td>264  </td><td>4.22 </td><td>3.170</td><td>14.5 </td><td>0    </td><td>1    </td><td>5    </td><td>4    </td></tr>\n",
       "\t<tr><th scope=row>Ferrari Dino</th><td>19.7 </td><td>6    </td><td>145.0</td><td>175  </td><td>3.62 </td><td>2.770</td><td>15.5 </td><td>0    </td><td>1    </td><td>5    </td><td>6    </td></tr>\n",
       "\t<tr><th scope=row>Maserati Bora</th><td>15.0 </td><td>8    </td><td>301.0</td><td>335  </td><td>3.54 </td><td>3.570</td><td>14.6 </td><td>0    </td><td>1    </td><td>5    </td><td>8    </td></tr>\n",
       "</tbody>\n",
       "</table>\n"
      ],
      "text/latex": [
       "\\begin{tabular}{r|lllllllllll}\n",
       "  & mpg & cyl & disp & hp & drat & wt & qsec & vs & am & gear & carb\\\\\n",
       "\\hline\n",
       "\tPorsche 914-2 & 26.0  & 4     & 120.3 &  91   & 4.43  & 2.140 & 16.7  & 0     & 1     & 5     & 2    \\\\\n",
       "\tLotus Europa & 30.4  & 4     &  95.1 & 113   & 3.77  & 1.513 & 16.9  & 1     & 1     & 5     & 2    \\\\\n",
       "\tFord Pantera L & 15.8  & 8     & 351.0 & 264   & 4.22  & 3.170 & 14.5  & 0     & 1     & 5     & 4    \\\\\n",
       "\tFerrari Dino & 19.7  & 6     & 145.0 & 175   & 3.62  & 2.770 & 15.5  & 0     & 1     & 5     & 6    \\\\\n",
       "\tMaserati Bora & 15.0  & 8     & 301.0 & 335   & 3.54  & 3.570 & 14.6  & 0     & 1     & 5     & 8    \\\\\n",
       "\\end{tabular}\n"
      ],
      "text/markdown": [
       "\n",
       "| <!--/--> | mpg | cyl | disp | hp | drat | wt | qsec | vs | am | gear | carb | \n",
       "|---|---|---|---|---|\n",
       "| Porsche 914-2 | 26.0  | 4     | 120.3 |  91   | 4.43  | 2.140 | 16.7  | 0     | 1     | 5     | 2     | \n",
       "| Lotus Europa | 30.4  | 4     |  95.1 | 113   | 3.77  | 1.513 | 16.9  | 1     | 1     | 5     | 2     | \n",
       "| Ford Pantera L | 15.8  | 8     | 351.0 | 264   | 4.22  | 3.170 | 14.5  | 0     | 1     | 5     | 4     | \n",
       "| Ferrari Dino | 19.7  | 6     | 145.0 | 175   | 3.62  | 2.770 | 15.5  | 0     | 1     | 5     | 6     | \n",
       "| Maserati Bora | 15.0  | 8     | 301.0 | 335   | 3.54  | 3.570 | 14.6  | 0     | 1     | 5     | 8     | \n",
       "\n",
       "\n"
      ],
      "text/plain": [
       "               mpg  cyl disp  hp  drat wt    qsec vs am gear carb\n",
       "Porsche 914-2  26.0 4   120.3  91 4.43 2.140 16.7 0  1  5    2   \n",
       "Lotus Europa   30.4 4    95.1 113 3.77 1.513 16.9 1  1  5    2   \n",
       "Ford Pantera L 15.8 8   351.0 264 4.22 3.170 14.5 0  1  5    4   \n",
       "Ferrari Dino   19.7 6   145.0 175 3.62 2.770 15.5 0  1  5    6   \n",
       "Maserati Bora  15.0 8   301.0 335 3.54 3.570 14.6 0  1  5    8   "
      ]
     },
     "metadata": {},
     "output_type": "display_data"
    }
   ],
   "source": [
    "subset(mtcars, gear == 5)"
   ]
  },
  {
   "cell_type": "code",
   "execution_count": 93,
   "metadata": {
    "collapsed": false,
    "deletable": true,
    "editable": true
   },
   "outputs": [
    {
     "data": {
      "text/html": [
       "<table>\n",
       "<thead><tr><th></th><th scope=col>mpg</th><th scope=col>cyl</th><th scope=col>disp</th><th scope=col>hp</th><th scope=col>drat</th><th scope=col>wt</th><th scope=col>qsec</th><th scope=col>vs</th><th scope=col>am</th><th scope=col>gear</th><th scope=col>carb</th></tr></thead>\n",
       "<tbody>\n",
       "\t<tr><th scope=row>Porsche 914-2</th><td>26.0 </td><td>4    </td><td>120.3</td><td> 91  </td><td>4.43 </td><td>2.140</td><td>16.7 </td><td>0    </td><td>1    </td><td>5    </td><td>2    </td></tr>\n",
       "\t<tr><th scope=row>Lotus Europa</th><td>30.4 </td><td>4    </td><td> 95.1</td><td>113  </td><td>3.77 </td><td>1.513</td><td>16.9 </td><td>1    </td><td>1    </td><td>5    </td><td>2    </td></tr>\n",
       "</tbody>\n",
       "</table>\n"
      ],
      "text/latex": [
       "\\begin{tabular}{r|lllllllllll}\n",
       "  & mpg & cyl & disp & hp & drat & wt & qsec & vs & am & gear & carb\\\\\n",
       "\\hline\n",
       "\tPorsche 914-2 & 26.0  & 4     & 120.3 &  91   & 4.43  & 2.140 & 16.7  & 0     & 1     & 5     & 2    \\\\\n",
       "\tLotus Europa & 30.4  & 4     &  95.1 & 113   & 3.77  & 1.513 & 16.9  & 1     & 1     & 5     & 2    \\\\\n",
       "\\end{tabular}\n"
      ],
      "text/markdown": [
       "\n",
       "| <!--/--> | mpg | cyl | disp | hp | drat | wt | qsec | vs | am | gear | carb | \n",
       "|---|---|\n",
       "| Porsche 914-2 | 26.0  | 4     | 120.3 |  91   | 4.43  | 2.140 | 16.7  | 0     | 1     | 5     | 2     | \n",
       "| Lotus Europa | 30.4  | 4     |  95.1 | 113   | 3.77  | 1.513 | 16.9  | 1     | 1     | 5     | 2     | \n",
       "\n",
       "\n"
      ],
      "text/plain": [
       "              mpg  cyl disp  hp  drat wt    qsec vs am gear carb\n",
       "Porsche 914-2 26.0 4   120.3  91 4.43 2.140 16.7 0  1  5    2   \n",
       "Lotus Europa  30.4 4    95.1 113 3.77 1.513 16.9 1  1  5    2   "
      ]
     },
     "metadata": {},
     "output_type": "display_data"
    }
   ],
   "source": [
    "subset(mtcars, gear == 5 & cyl == 4)"
   ]
  },
  {
   "cell_type": "markdown",
   "metadata": {
    "deletable": true,
    "editable": true
   },
   "source": [
    "Siqueremos conseguir un subconjunto de un data frame colocando condiciones en las columnas, la función `subset()` proporciona una alternativa correcta. `subset()` toma hasta tres argumentos: un data frame, un vector lógico de condiciones para las filas y un vector de nombres de columna a guardar. La función `subset()` utiliza técnicas de evaluación especiales: en lugar de escribir `a_data_frame $y` para acceder a la columna `y`  de `a_data_frame`, sólo se escribe `y`. Del mismo modo, al seleccionar las columnas, no es necesario incluir los nombres de las columnas entre comillas, solo se escriben los nombres directamente:"
   ]
  },
  {
   "cell_type": "code",
   "execution_count": 94,
   "metadata": {
    "collapsed": false,
    "deletable": true,
    "editable": true
   },
   "outputs": [
    {
     "data": {
      "text/html": [
       "<ol class=list-inline>\n",
       "\t<li>a</li>\n",
       "\t<li>b</li>\n",
       "\t<li>c</li>\n",
       "</ol>\n"
      ],
      "text/latex": [
       "\\begin{enumerate*}\n",
       "\\item a\n",
       "\\item b\n",
       "\\item c\n",
       "\\end{enumerate*}\n"
      ],
      "text/markdown": [
       "1. a\n",
       "2. b\n",
       "3. c\n",
       "\n",
       "\n"
      ],
      "text/plain": [
       "[1] a b c\n",
       "Levels: a b c d e"
      ]
     },
     "metadata": {},
     "output_type": "display_data"
    }
   ],
   "source": [
    "a_data_frame[a_data_frame$y > 0 | a_data_frame$z, \"x\"]"
   ]
  },
  {
   "cell_type": "code",
   "execution_count": 95,
   "metadata": {
    "collapsed": false,
    "deletable": true,
    "editable": true
   },
   "outputs": [
    {
     "data": {
      "text/html": [
       "<table>\n",
       "<thead><tr><th scope=col>x</th></tr></thead>\n",
       "<tbody>\n",
       "\t<tr><td>a</td></tr>\n",
       "\t<tr><td>b</td></tr>\n",
       "\t<tr><td>c</td></tr>\n",
       "</tbody>\n",
       "</table>\n"
      ],
      "text/latex": [
       "\\begin{tabular}{r|l}\n",
       " x\\\\\n",
       "\\hline\n",
       "\t a\\\\\n",
       "\t b\\\\\n",
       "\t c\\\\\n",
       "\\end{tabular}\n"
      ],
      "text/markdown": [
       "\n",
       "x | \n",
       "|---|---|---|\n",
       "| a | \n",
       "| b | \n",
       "| c | \n",
       "\n",
       "\n"
      ],
      "text/plain": [
       "  x\n",
       "1 a\n",
       "2 b\n",
       "3 c"
      ]
     },
     "metadata": {},
     "output_type": "display_data"
    }
   ],
   "source": [
    "subset(a_data_frame, y > 0 | z, x)"
   ]
  },
  {
   "cell_type": "code",
   "execution_count": 96,
   "metadata": {
    "collapsed": false,
    "deletable": true,
    "editable": true
   },
   "outputs": [
    {
     "data": {
      "text/html": [
       "<table>\n",
       "<thead><tr><th></th><th scope=col>var1</th><th scope=col>var2</th><th scope=col>genero</th><th scope=col>estados</th></tr></thead>\n",
       "<tbody>\n",
       "\t<tr><th scope=row>1</th><td>2     </td><td>C     </td><td>M     </td><td>CO    </td></tr>\n",
       "\t<tr><th scope=row>5</th><td>0     </td><td>F#    </td><td>M     </td><td>MO    </td></tr>\n",
       "\t<tr><th scope=row>9</th><td>4     </td><td>Python</td><td>F     </td><td>FL    </td></tr>\n",
       "</tbody>\n",
       "</table>\n"
      ],
      "text/latex": [
       "\\begin{tabular}{r|llll}\n",
       "  & var1 & var2 & genero & estados\\\\\n",
       "\\hline\n",
       "\t1 & 2      & C      & M      & CO    \\\\\n",
       "\t5 & 0        & F\\#     & M        & MO      \\\\\n",
       "\t9 & 4      & Python & F      & FL    \\\\\n",
       "\\end{tabular}\n"
      ],
      "text/markdown": [
       "\n",
       "| <!--/--> | var1 | var2 | genero | estados | \n",
       "|---|---|---|\n",
       "| 1 | 2      | C      | M      | CO     | \n",
       "| 5 | 0      | F#     | M      | MO     | \n",
       "| 9 | 4      | Python | F      | FL     | \n",
       "\n",
       "\n"
      ],
      "text/plain": [
       "  var1 var2   genero estados\n",
       "1 2    C      M      CO     \n",
       "5 0    F#     M      MO     \n",
       "9 4    Python F      FL     "
      ]
     },
     "metadata": {},
     "output_type": "display_data"
    }
   ],
   "source": [
    "numvec <- c(2,5,8,9,0,6,7,8,4,5,7,11)\n",
    "charvec <- c(\"C\",\"C++\",\"c#\",\"Erlang\",\"F#\",\n",
    "        \"Haskell\",\"Java\",\"Javascript\",\"Python\",\"Perl\",\n",
    "        \"R\",\"Scala\")\n",
    "genero <- c(\"M\",\"M\",\"F\",\"M\",\"M\",\"M\",\"F\",\"F\",\"F\",\"M\",\"M\",\"F\")\n",
    "estados <- c(\"CO\",\"KS\",\"CA\",\"IA\",\"MO\",\"FL\",\"CA\",\"CO\",\"FL\",\"CA\",\"WY\",\"AZ\")\n",
    "df <-  data.frame(var1=c(numvec), var2=c(charvec),\n",
    "          genero=c(genero), estados=c(estados))\n",
    "\n",
    "subset(df, var1 < 5)"
   ]
  },
  {
   "cell_type": "code",
   "execution_count": 97,
   "metadata": {
    "collapsed": false,
    "deletable": true,
    "editable": true
   },
   "outputs": [
    {
     "data": {
      "text/html": [
       "<table>\n",
       "<thead><tr><th></th><th scope=col>var2</th><th scope=col>estados</th></tr></thead>\n",
       "<tbody>\n",
       "\t<tr><th scope=row>2</th><td>C++ </td><td>KS  </td></tr>\n",
       "\t<tr><th scope=row>10</th><td>Perl</td><td>CA  </td></tr>\n",
       "</tbody>\n",
       "</table>\n"
      ],
      "text/latex": [
       "\\begin{tabular}{r|ll}\n",
       "  & var2 & estados\\\\\n",
       "\\hline\n",
       "\t2 & C++  & KS  \\\\\n",
       "\t10 & Perl & CA  \\\\\n",
       "\\end{tabular}\n"
      ],
      "text/markdown": [
       "\n",
       "| <!--/--> | var2 | estados | \n",
       "|---|---|\n",
       "| 2 | C++  | KS   | \n",
       "| 10 | Perl | CA   | \n",
       "\n",
       "\n"
      ],
      "text/plain": [
       "   var2 estados\n",
       "2  C++  KS     \n",
       "10 Perl CA     "
      ]
     },
     "metadata": {},
     "output_type": "display_data"
    }
   ],
   "source": [
    "subset(df, var1==5, select=c(var2, estados))"
   ]
  },
  {
   "cell_type": "code",
   "execution_count": 98,
   "metadata": {
    "collapsed": false,
    "deletable": true,
    "editable": true
   },
   "outputs": [
    {
     "data": {
      "text/html": [
       "<table>\n",
       "<thead><tr><th></th><th scope=col>var1</th><th scope=col>var2</th><th scope=col>genero</th><th scope=col>estados</th></tr></thead>\n",
       "<tbody>\n",
       "\t<tr><th scope=row>3</th><td> 8        </td><td>c#        </td><td>F         </td><td>CA        </td></tr>\n",
       "\t<tr><th scope=row>8</th><td> 8        </td><td>Javascript</td><td>F         </td><td>CO        </td></tr>\n",
       "\t<tr><th scope=row>12</th><td>11        </td><td>Scala     </td><td>F         </td><td>AZ        </td></tr>\n",
       "</tbody>\n",
       "</table>\n"
      ],
      "text/latex": [
       "\\begin{tabular}{r|llll}\n",
       "  & var1 & var2 & genero & estados\\\\\n",
       "\\hline\n",
       "\t3 &  8           & c\\#         & F            & CA          \\\\\n",
       "\t8 &  8         & Javascript & F          & CO        \\\\\n",
       "\t12 & 11         & Scala      & F          & AZ        \\\\\n",
       "\\end{tabular}\n"
      ],
      "text/markdown": [
       "\n",
       "| <!--/--> | var1 | var2 | genero | estados | \n",
       "|---|---|---|\n",
       "| 3 |  8         | c#         | F          | CA         | \n",
       "| 8 |  8         | Javascript | F          | CO         | \n",
       "| 12 | 11         | Scala      | F          | AZ         | \n",
       "\n",
       "\n"
      ],
      "text/plain": [
       "   var1 var2       genero estados\n",
       "3   8   c#         F      CA     \n",
       "8   8   Javascript F      CO     \n",
       "12 11   Scala      F      AZ     "
      ]
     },
     "metadata": {},
     "output_type": "display_data"
    }
   ],
   "source": [
    "subset(df, var2 != \"Java\" & genero == \"F\" & var1 > 5)"
   ]
  },
  {
   "cell_type": "markdown",
   "metadata": {
    "deletable": true,
    "editable": true
   },
   "source": [
    "Al igual que las matrices, los data frame se pueden transponer mediante la función `t`, pero en el proceso todas las columnas (que se convierten en filas) se convierten en el mismo tipo y todo se convierte en una matriz:"
   ]
  },
  {
   "cell_type": "code",
   "execution_count": 99,
   "metadata": {
    "collapsed": false,
    "deletable": true,
    "editable": true
   },
   "outputs": [
    {
     "data": {
      "text/html": [
       "<table>\n",
       "<tbody>\n",
       "\t<tr><th scope=row>x</th><td>a          </td><td>b          </td><td>c          </td><td>d          </td><td>e          </td></tr>\n",
       "\t<tr><th scope=row>y</th><td>-0.48030262</td><td>-0.08635535</td><td> 0.70912652</td><td>-0.41756940</td><td>-0.70136314</td></tr>\n",
       "\t<tr><th scope=row>z</th><td> TRUE      </td><td> TRUE      </td><td>FALSE      </td><td>FALSE      </td><td>FALSE      </td></tr>\n",
       "</tbody>\n",
       "</table>\n"
      ],
      "text/latex": [
       "\\begin{tabular}{r|lllll}\n",
       "\tx & a           & b           & c           & d           & e          \\\\\n",
       "\ty & -0.48030262 & -0.08635535 &  0.70912652 & -0.41756940 & -0.70136314\\\\\n",
       "\tz &  TRUE       &  TRUE       & FALSE       & FALSE       & FALSE      \\\\\n",
       "\\end{tabular}\n"
      ],
      "text/markdown": [
       "\n",
       "| x | a           | b           | c           | d           | e           | \n",
       "| y | -0.48030262 | -0.08635535 |  0.70912652 | -0.41756940 | -0.70136314 | \n",
       "| z |  TRUE       |  TRUE       | FALSE       | FALSE       | FALSE       | \n",
       "\n",
       "\n"
      ],
      "text/plain": [
       "  [,1]        [,2]        [,3]        [,4]        [,5]       \n",
       "x a           b           c           d           e          \n",
       "y -0.48030262 -0.08635535  0.70912652 -0.41756940 -0.70136314\n",
       "z  TRUE        TRUE       FALSE       FALSE       FALSE      "
      ]
     },
     "metadata": {},
     "output_type": "display_data"
    }
   ],
   "source": [
    "t(a_data_frame)"
   ]
  },
  {
   "cell_type": "markdown",
   "metadata": {
    "deletable": true,
    "editable": true
   },
   "source": [
    "Los data frames  también se pueden combinar utilizando `cbind()` y `rbind`. `rbind` reordena las columnas para que coincidan. `cbind` no comprueba los nombres de columnas  duplicados:\n"
   ]
  },
  {
   "cell_type": "code",
   "execution_count": 100,
   "metadata": {
    "collapsed": false,
    "deletable": true,
    "editable": true
   },
   "outputs": [
    {
     "data": {
      "text/html": [
       "<table>\n",
       "<thead><tr><th scope=col>x</th><th scope=col>y</th><th scope=col>z</th></tr></thead>\n",
       "<tbody>\n",
       "\t<tr><td>a          </td><td>-0.48030262</td><td>1.0000000  </td></tr>\n",
       "\t<tr><td>b          </td><td>-0.08635535</td><td>1.0000000  </td></tr>\n",
       "\t<tr><td>c          </td><td> 0.70912652</td><td>0.0000000  </td></tr>\n",
       "\t<tr><td>d          </td><td>-0.41756940</td><td>0.0000000  </td></tr>\n",
       "\t<tr><td>e          </td><td>-0.70136314</td><td>0.0000000  </td></tr>\n",
       "\t<tr><td>c          </td><td> 2.00000000</td><td>1.1605858  </td></tr>\n",
       "\t<tr><td>d          </td><td> 1.00000000</td><td>2.1958903  </td></tr>\n",
       "\t<tr><td>e          </td><td> 3.00000000</td><td>0.5844714  </td></tr>\n",
       "\t<tr><td>f          </td><td> 5.00000000</td><td>1.3407262  </td></tr>\n",
       "\t<tr><td>g          </td><td> 4.00000000</td><td>1.5683007  </td></tr>\n",
       "</tbody>\n",
       "</table>\n"
      ],
      "text/latex": [
       "\\begin{tabular}{r|lll}\n",
       " x & y & z\\\\\n",
       "\\hline\n",
       "\t a           & -0.48030262 & 1.0000000  \\\\\n",
       "\t b           & -0.08635535 & 1.0000000  \\\\\n",
       "\t c           &  0.70912652 & 0.0000000  \\\\\n",
       "\t d           & -0.41756940 & 0.0000000  \\\\\n",
       "\t e           & -0.70136314 & 0.0000000  \\\\\n",
       "\t c           &  2.00000000 & 1.1605858  \\\\\n",
       "\t d           &  1.00000000 & 2.1958903  \\\\\n",
       "\t e           &  3.00000000 & 0.5844714  \\\\\n",
       "\t f           &  5.00000000 & 1.3407262  \\\\\n",
       "\t g           &  4.00000000 & 1.5683007  \\\\\n",
       "\\end{tabular}\n"
      ],
      "text/markdown": [
       "\n",
       "x | y | z | \n",
       "|---|---|---|---|---|---|---|---|---|---|\n",
       "| a           | -0.48030262 | 1.0000000   | \n",
       "| b           | -0.08635535 | 1.0000000   | \n",
       "| c           |  0.70912652 | 0.0000000   | \n",
       "| d           | -0.41756940 | 0.0000000   | \n",
       "| e           | -0.70136314 | 0.0000000   | \n",
       "| c           |  2.00000000 | 1.1605858   | \n",
       "| d           |  1.00000000 | 2.1958903   | \n",
       "| e           |  3.00000000 | 0.5844714   | \n",
       "| f           |  5.00000000 | 1.3407262   | \n",
       "| g           |  4.00000000 | 1.5683007   | \n",
       "\n",
       "\n"
      ],
      "text/plain": [
       "   x y           z        \n",
       "1  a -0.48030262 1.0000000\n",
       "2  b -0.08635535 1.0000000\n",
       "3  c  0.70912652 0.0000000\n",
       "4  d -0.41756940 0.0000000\n",
       "5  e -0.70136314 0.0000000\n",
       "6  c  2.00000000 1.1605858\n",
       "7  d  1.00000000 2.1958903\n",
       "8  e  3.00000000 0.5844714\n",
       "9  f  5.00000000 1.3407262\n",
       "10 g  4.00000000 1.5683007"
      ]
     },
     "metadata": {},
     "output_type": "display_data"
    }
   ],
   "source": [
    "# Misma columnas que a_data_frame, pero en otro orden\n",
    "\n",
    "a_data_frame1 <- data.frame( \n",
    "  z = rlnorm(5),\n",
    "  y = sample(5), \n",
    "  x = letters[3:7]\n",
    ")\n",
    "rbind(a_data_frame, a_data_frame1)"
   ]
  },
  {
   "cell_type": "code",
   "execution_count": 101,
   "metadata": {
    "collapsed": false,
    "deletable": true,
    "editable": true
   },
   "outputs": [
    {
     "data": {
      "text/html": [
       "<table>\n",
       "<thead><tr><th scope=col>x</th><th scope=col>y</th><th scope=col>z</th><th scope=col>z</th><th scope=col>y</th><th scope=col>x</th></tr></thead>\n",
       "<tbody>\n",
       "\t<tr><td>a          </td><td>-0.48030262</td><td> TRUE      </td><td>1.1605858  </td><td>2          </td><td>c          </td></tr>\n",
       "\t<tr><td>b          </td><td>-0.08635535</td><td> TRUE      </td><td>2.1958903  </td><td>1          </td><td>d          </td></tr>\n",
       "\t<tr><td>c          </td><td> 0.70912652</td><td>FALSE      </td><td>0.5844714  </td><td>3          </td><td>e          </td></tr>\n",
       "\t<tr><td>d          </td><td>-0.41756940</td><td>FALSE      </td><td>1.3407262  </td><td>5          </td><td>f          </td></tr>\n",
       "\t<tr><td>e          </td><td>-0.70136314</td><td>FALSE      </td><td>1.5683007  </td><td>4          </td><td>g          </td></tr>\n",
       "</tbody>\n",
       "</table>\n"
      ],
      "text/latex": [
       "\\begin{tabular}{r|llllll}\n",
       " x & y & z & z & y & x\\\\\n",
       "\\hline\n",
       "\t a           & -0.48030262 &  TRUE       & 1.1605858   & 2           & c          \\\\\n",
       "\t b           & -0.08635535 &  TRUE       & 2.1958903   & 1           & d          \\\\\n",
       "\t c           &  0.70912652 & FALSE       & 0.5844714   & 3           & e          \\\\\n",
       "\t d           & -0.41756940 & FALSE       & 1.3407262   & 5           & f          \\\\\n",
       "\t e           & -0.70136314 & FALSE       & 1.5683007   & 4           & g          \\\\\n",
       "\\end{tabular}\n"
      ],
      "text/markdown": [
       "\n",
       "x | y | z | z | y | x | \n",
       "|---|---|---|---|---|\n",
       "| a           | -0.48030262 |  TRUE       | 1.1605858   | 2           | c           | \n",
       "| b           | -0.08635535 |  TRUE       | 2.1958903   | 1           | d           | \n",
       "| c           |  0.70912652 | FALSE       | 0.5844714   | 3           | e           | \n",
       "| d           | -0.41756940 | FALSE       | 1.3407262   | 5           | f           | \n",
       "| e           | -0.70136314 | FALSE       | 1.5683007   | 4           | g           | \n",
       "\n",
       "\n"
      ],
      "text/plain": [
       "  x y           z     z         y x\n",
       "1 a -0.48030262  TRUE 1.1605858 2 c\n",
       "2 b -0.08635535  TRUE 2.1958903 1 d\n",
       "3 c  0.70912652 FALSE 0.5844714 3 e\n",
       "4 d -0.41756940 FALSE 1.3407262 5 f\n",
       "5 e -0.70136314 FALSE 1.5683007 4 g"
      ]
     },
     "metadata": {},
     "output_type": "display_data"
    }
   ],
   "source": [
    "cbind(a_data_frame, a_data_frame1)"
   ]
  },
  {
   "cell_type": "markdown",
   "metadata": {
    "deletable": true,
    "editable": true
   },
   "source": [
    "Se puede utilizar `plyr::rbind.fill()` para combinar data frames que no tienen las mismas columnas. Para conocer más acerca del paquete **plyr** podemos revisar el artículo de  Sean C. Anderson [plyr: Split-Apply-Combine for Mortals](http://seananderson.ca/2013/12/01/plyr.html).\n",
    "\n",
    "Es un error común  tratar de crear un data frame  con `cbind()`. Esto no funciona porque `cbind()` creará una matriz a menos que uno de los argumentos ya sea un data frame. En su lugar debemos utilizar `data.frame()` directamente:"
   ]
  },
  {
   "cell_type": "code",
   "execution_count": 102,
   "metadata": {
    "collapsed": false,
    "deletable": true,
    "editable": true
   },
   "outputs": [
    {
     "name": "stdout",
     "output_type": "stream",
     "text": [
      "'data.frame':\t2 obs. of  2 variables:\n",
      " $ a: Factor w/ 2 levels \"1\",\"2\": 1 2\n",
      " $ b: Factor w/ 2 levels \"a\",\"b\": 1 2\n",
      "'data.frame':\t2 obs. of  2 variables:\n",
      " $ a: int  1 2\n",
      " $ b: chr  \"a\" \"b\"\n"
     ]
    }
   ],
   "source": [
    "mala <- data.frame(cbind(a = 1:2, b = c(\"a\", \"b\")))\n",
    "str(mala)\n",
    "good <- data.frame(a = 1:2, b = c(\"a\", \"b\"),\n",
    "  stringsAsFactors = FALSE)\n",
    "str(good)"
   ]
  },
  {
   "cell_type": "markdown",
   "metadata": {
    "deletable": true,
    "editable": true
   },
   "source": [
    "Cuando dos data frames  comparten columnas, pueden combinarse utilizando la función `merge()`. `merge()` proporciona una variedad de opciones para realizar combinaciones al estilo de base de datos. \n",
    "\n",
    "Para unir dos datos frames, debemos especificar qué columnas contienen los valores de clave para coincidir. De forma predeterminada, la función `merge()` utiliza todas las columnas comunes de los data frames , pero comúnmente sólo se utiliza una única columna de ID compartida. En los ejemplos siguientes, especificamos que la columna `x` contiene nuestros ID usando el argumento `by`:"
   ]
  },
  {
   "cell_type": "code",
   "execution_count": 103,
   "metadata": {
    "collapsed": false,
    "deletable": true,
    "editable": true
   },
   "outputs": [
    {
     "data": {
      "text/html": [
       "<table>\n",
       "<thead><tr><th scope=col>x</th><th scope=col>y.x</th><th scope=col>z.x</th><th scope=col>z.y</th><th scope=col>y.y</th></tr></thead>\n",
       "<tbody>\n",
       "\t<tr><td>c         </td><td> 0.7091265</td><td>FALSE     </td><td>1.1605858 </td><td>2         </td></tr>\n",
       "\t<tr><td>d         </td><td>-0.4175694</td><td>FALSE     </td><td>2.1958903 </td><td>1         </td></tr>\n",
       "\t<tr><td>e         </td><td>-0.7013631</td><td>FALSE     </td><td>0.5844714 </td><td>3         </td></tr>\n",
       "</tbody>\n",
       "</table>\n"
      ],
      "text/latex": [
       "\\begin{tabular}{r|lllll}\n",
       " x & y.x & z.x & z.y & y.y\\\\\n",
       "\\hline\n",
       "\t c          &  0.7091265 & FALSE      & 1.1605858  & 2         \\\\\n",
       "\t d          & -0.4175694 & FALSE      & 2.1958903  & 1         \\\\\n",
       "\t e          & -0.7013631 & FALSE      & 0.5844714  & 3         \\\\\n",
       "\\end{tabular}\n"
      ],
      "text/markdown": [
       "\n",
       "x | y.x | z.x | z.y | y.y | \n",
       "|---|---|---|\n",
       "| c          |  0.7091265 | FALSE      | 1.1605858  | 2          | \n",
       "| d          | -0.4175694 | FALSE      | 2.1958903  | 1          | \n",
       "| e          | -0.7013631 | FALSE      | 0.5844714  | 3          | \n",
       "\n",
       "\n"
      ],
      "text/plain": [
       "  x y.x        z.x   z.y       y.y\n",
       "1 c  0.7091265 FALSE 1.1605858 2  \n",
       "2 d -0.4175694 FALSE 2.1958903 1  \n",
       "3 e -0.7013631 FALSE 0.5844714 3  "
      ]
     },
     "metadata": {},
     "output_type": "display_data"
    }
   ],
   "source": [
    "merge(a_data_frame, a_data_frame1, by = \"x\")"
   ]
  },
  {
   "cell_type": "code",
   "execution_count": 104,
   "metadata": {
    "collapsed": false,
    "deletable": true,
    "editable": true
   },
   "outputs": [
    {
     "data": {
      "text/html": [
       "<table>\n",
       "<thead><tr><th scope=col>x</th><th scope=col>y.x</th><th scope=col>z.x</th><th scope=col>z.y</th><th scope=col>y.y</th></tr></thead>\n",
       "<tbody>\n",
       "\t<tr><td>a          </td><td>-0.48030262</td><td> TRUE      </td><td>       NA  </td><td>NA         </td></tr>\n",
       "\t<tr><td>b          </td><td>-0.08635535</td><td> TRUE      </td><td>       NA  </td><td>NA         </td></tr>\n",
       "\t<tr><td>c          </td><td> 0.70912652</td><td>FALSE      </td><td>1.1605858  </td><td> 2         </td></tr>\n",
       "\t<tr><td>d          </td><td>-0.41756940</td><td>FALSE      </td><td>2.1958903  </td><td> 1         </td></tr>\n",
       "\t<tr><td>e          </td><td>-0.70136314</td><td>FALSE      </td><td>0.5844714  </td><td> 3         </td></tr>\n",
       "\t<tr><td>f          </td><td>         NA</td><td>   NA      </td><td>1.3407262  </td><td> 5         </td></tr>\n",
       "\t<tr><td>g          </td><td>         NA</td><td>   NA      </td><td>1.5683007  </td><td> 4         </td></tr>\n",
       "</tbody>\n",
       "</table>\n"
      ],
      "text/latex": [
       "\\begin{tabular}{r|lllll}\n",
       " x & y.x & z.x & z.y & y.y\\\\\n",
       "\\hline\n",
       "\t a           & -0.48030262 &  TRUE       &        NA   & NA         \\\\\n",
       "\t b           & -0.08635535 &  TRUE       &        NA   & NA         \\\\\n",
       "\t c           &  0.70912652 & FALSE       & 1.1605858   &  2         \\\\\n",
       "\t d           & -0.41756940 & FALSE       & 2.1958903   &  1         \\\\\n",
       "\t e           & -0.70136314 & FALSE       & 0.5844714   &  3         \\\\\n",
       "\t f           &          NA &    NA       & 1.3407262   &  5         \\\\\n",
       "\t g           &          NA &    NA       & 1.5683007   &  4         \\\\\n",
       "\\end{tabular}\n"
      ],
      "text/markdown": [
       "\n",
       "x | y.x | z.x | z.y | y.y | \n",
       "|---|---|---|---|---|---|---|\n",
       "| a           | -0.48030262 |  TRUE       |        NA   | NA          | \n",
       "| b           | -0.08635535 |  TRUE       |        NA   | NA          | \n",
       "| c           |  0.70912652 | FALSE       | 1.1605858   |  2          | \n",
       "| d           | -0.41756940 | FALSE       | 2.1958903   |  1          | \n",
       "| e           | -0.70136314 | FALSE       | 0.5844714   |  3          | \n",
       "| f           |          NA |    NA       | 1.3407262   |  5          | \n",
       "| g           |          NA |    NA       | 1.5683007   |  4          | \n",
       "\n",
       "\n"
      ],
      "text/plain": [
       "  x y.x         z.x   z.y       y.y\n",
       "1 a -0.48030262  TRUE        NA NA \n",
       "2 b -0.08635535  TRUE        NA NA \n",
       "3 c  0.70912652 FALSE 1.1605858  2 \n",
       "4 d -0.41756940 FALSE 2.1958903  1 \n",
       "5 e -0.70136314 FALSE 0.5844714  3 \n",
       "6 f          NA    NA 1.3407262  5 \n",
       "7 g          NA    NA 1.5683007  4 "
      ]
     },
     "metadata": {},
     "output_type": "display_data"
    }
   ],
   "source": [
    "merge(a_data_frame, a_data_frame1, by = \"x\", all = TRUE)"
   ]
  },
  {
   "cell_type": "markdown",
   "metadata": {
    "deletable": true,
    "editable": true
   },
   "source": [
    "Cuando un data frame  tiene todos los valores numéricos, las funciones `colSums` y `colMeans` se pueden utilizar para calcular las sumas y la media  de cada columna, respectivamente. Similarmente, `rowSums` y `rowMeans` calculan las sumas y la media de cada fila:"
   ]
  },
  {
   "cell_type": "code",
   "execution_count": 105,
   "metadata": {
    "collapsed": false,
    "deletable": true,
    "editable": true
   },
   "outputs": [
    {
     "data": {
      "text/html": [
       "<dl class=dl-horizontal>\n",
       "\t<dt>y</dt>\n",
       "\t\t<dd>-0.976463975801839</dd>\n",
       "\t<dt>z</dt>\n",
       "\t\t<dd>2</dd>\n",
       "</dl>\n"
      ],
      "text/latex": [
       "\\begin{description*}\n",
       "\\item[y] -0.976463975801839\n",
       "\\item[z] 2\n",
       "\\end{description*}\n"
      ],
      "text/markdown": [
       "y\n",
       ":   -0.976463975801839z\n",
       ":   2\n",
       "\n"
      ],
      "text/plain": [
       "        y         z \n",
       "-0.976464  2.000000 "
      ]
     },
     "metadata": {},
     "output_type": "display_data"
    }
   ],
   "source": [
    "colSums(a_data_frame[, 2:3])"
   ]
  },
  {
   "cell_type": "code",
   "execution_count": 106,
   "metadata": {
    "collapsed": false,
    "deletable": true,
    "editable": true
   },
   "outputs": [
    {
     "data": {
      "text/html": [
       "<dl class=dl-horizontal>\n",
       "\t<dt>y</dt>\n",
       "\t\t<dd>-0.195292795160368</dd>\n",
       "\t<dt>z</dt>\n",
       "\t\t<dd>0.4</dd>\n",
       "</dl>\n"
      ],
      "text/latex": [
       "\\begin{description*}\n",
       "\\item[y] -0.195292795160368\n",
       "\\item[z] 0.4\n",
       "\\end{description*}\n"
      ],
      "text/markdown": [
       "y\n",
       ":   -0.195292795160368z\n",
       ":   0.4\n",
       "\n"
      ],
      "text/plain": [
       "         y          z \n",
       "-0.1952928  0.4000000 "
      ]
     },
     "metadata": {},
     "output_type": "display_data"
    }
   ],
   "source": [
    "colMeans(a_data_frame[, 2:3])"
   ]
  },
  {
   "cell_type": "markdown",
   "metadata": {
    "deletable": true,
    "editable": true
   },
   "source": [
    "Un ejemplo de la función `merge()` utilizando [Rankings de Lenguajes de Programación 2015](http://www.tiobe.com/index.php/content/paperinfo/tpci/index.html):"
   ]
  },
  {
   "cell_type": "code",
   "execution_count": 107,
   "metadata": {
    "collapsed": false,
    "deletable": true,
    "editable": true
   },
   "outputs": [
    {
     "data": {
      "text/html": [
       "<table>\n",
       "<thead><tr><th scope=col>lenguajesP</th><th scope=col>puestoR</th><th scope=col>puestoR1</th></tr></thead>\n",
       "<tbody>\n",
       "\t<tr><td>C     </td><td> 2    </td><td> 9    </td></tr>\n",
       "\t<tr><td>C++   </td><td> 3    </td><td>10    </td></tr>\n",
       "\t<tr><td>Java  </td><td> 1    </td><td> 4    </td></tr>\n",
       "\t<tr><td>JS    </td><td> 7    </td><td>19    </td></tr>\n",
       "\t<tr><td>Python</td><td> 5    </td><td>12    </td></tr>\n",
       "\t<tr><td>R     </td><td>19    </td><td>22    </td></tr>\n",
       "\t<tr><td>Ruby  </td><td>12    </td><td>20    </td></tr>\n",
       "</tbody>\n",
       "</table>\n"
      ],
      "text/latex": [
       "\\begin{tabular}{r|lll}\n",
       " lenguajesP & puestoR & puestoR1\\\\\n",
       "\\hline\n",
       "\t C      &  2     &  9    \\\\\n",
       "\t C++    &  3     & 10    \\\\\n",
       "\t Java   &  1     &  4    \\\\\n",
       "\t JS     &  7     & 19    \\\\\n",
       "\t Python &  5     & 12    \\\\\n",
       "\t R      & 19     & 22    \\\\\n",
       "\t Ruby   & 12     & 20    \\\\\n",
       "\\end{tabular}\n"
      ],
      "text/markdown": [
       "\n",
       "lenguajesP | puestoR | puestoR1 | \n",
       "|---|---|---|---|---|---|---|\n",
       "| C      |  2     |  9     | \n",
       "| C++    |  3     | 10     | \n",
       "| Java   |  1     |  4     | \n",
       "| JS     |  7     | 19     | \n",
       "| Python |  5     | 12     | \n",
       "| R      | 19     | 22     | \n",
       "| Ruby   | 12     | 20     | \n",
       "\n",
       "\n"
      ],
      "text/plain": [
       "  lenguajesP puestoR puestoR1\n",
       "1 C           2       9      \n",
       "2 C++         3      10      \n",
       "3 Java        1       4      \n",
       "4 JS          7      19      \n",
       "5 Python      5      12      \n",
       "6 R          19      22      \n",
       "7 Ruby       12      20      "
      ]
     },
     "metadata": {},
     "output_type": "display_data"
    }
   ],
   "source": [
    "help(merge)\n",
    "\n",
    "lenguajesP <- c(\"Java\",\"C\", \"C++\", \"Python\", \"JS\", \"Ruby\", \"R\")\n",
    "puestoR <- c(1, 2,3, 5, 7, 12, 19)\n",
    "dataF <- data.frame(lenguajesP,puestoR,stringsAsFactors=FALSE)\n",
    "\n",
    "lenguajesQ <- c(\"C#\",\"Perl\", \"Assembly\", \"Switf\", \"Matlab\", \"SQL\", \"Cobol\")\n",
    "#lenguajesP <- c(\"Java\",\"C\", \"C++\", \"Python\", \"JS\", \"Ruby\", \"R\")\n",
    "puestoR1<- c(4, 9, 10, 12, 19, 20, 22)\n",
    "dataG <- data.frame(lenguajesP,puestoR1,stringsAsFactors=FALSE)\n",
    "\n",
    "merge(dataF, dataG)"
   ]
  },
  {
   "cell_type": "markdown",
   "metadata": {
    "deletable": true,
    "editable": true
   },
   "source": [
    "Podemos utilizar las funciones `lapply()` y `sapply()` con data frames:\n"
   ]
  },
  {
   "cell_type": "code",
   "execution_count": 108,
   "metadata": {
    "collapsed": false,
    "deletable": true,
    "editable": true
   },
   "outputs": [
    {
     "data": {
      "text/html": [
       "<dl>\n",
       "\t<dt>$lenguajesP</dt>\n",
       "\t\t<dd><ol class=list-inline>\n",
       "\t<li>'C'</li>\n",
       "\t<li>'C++'</li>\n",
       "\t<li>'Java'</li>\n",
       "\t<li>'JS'</li>\n",
       "\t<li>'Python'</li>\n",
       "\t<li>'R'</li>\n",
       "\t<li>'Ruby'</li>\n",
       "</ol>\n",
       "</dd>\n",
       "\t<dt>$puestoR</dt>\n",
       "\t\t<dd><ol class=list-inline>\n",
       "\t<li>1</li>\n",
       "\t<li>2</li>\n",
       "\t<li>3</li>\n",
       "\t<li>5</li>\n",
       "\t<li>7</li>\n",
       "\t<li>12</li>\n",
       "\t<li>19</li>\n",
       "</ol>\n",
       "</dd>\n",
       "</dl>\n"
      ],
      "text/latex": [
       "\\begin{description}\n",
       "\\item[\\$lenguajesP] \\begin{enumerate*}\n",
       "\\item 'C'\n",
       "\\item 'C++'\n",
       "\\item 'Java'\n",
       "\\item 'JS'\n",
       "\\item 'Python'\n",
       "\\item 'R'\n",
       "\\item 'Ruby'\n",
       "\\end{enumerate*}\n",
       "\n",
       "\\item[\\$puestoR] \\begin{enumerate*}\n",
       "\\item 1\n",
       "\\item 2\n",
       "\\item 3\n",
       "\\item 5\n",
       "\\item 7\n",
       "\\item 12\n",
       "\\item 19\n",
       "\\end{enumerate*}\n",
       "\n",
       "\\end{description}\n"
      ],
      "text/markdown": [
       "$lenguajesP\n",
       ":   1. 'C'\n",
       "2. 'C++'\n",
       "3. 'Java'\n",
       "4. 'JS'\n",
       "5. 'Python'\n",
       "6. 'R'\n",
       "7. 'Ruby'\n",
       "\n",
       "\n",
       "\n",
       "$puestoR\n",
       ":   1. 1\n",
       "2. 2\n",
       "3. 3\n",
       "4. 5\n",
       "5. 7\n",
       "6. 12\n",
       "7. 19\n",
       "\n",
       "\n",
       "\n",
       "\n",
       "\n"
      ],
      "text/plain": [
       "$lenguajesP\n",
       "[1] \"C\"      \"C++\"    \"Java\"   \"JS\"     \"Python\" \"R\"      \"Ruby\"  \n",
       "\n",
       "$puestoR\n",
       "[1]  1  2  3  5  7 12 19\n"
      ]
     },
     "metadata": {},
     "output_type": "display_data"
    }
   ],
   "source": [
    "dataI <-lapply(dataF, sort)\n",
    "dataI"
   ]
  },
  {
   "cell_type": "code",
   "execution_count": 116,
   "metadata": {
    "collapsed": false,
    "deletable": true,
    "editable": true
   },
   "outputs": [
    {
     "data": {
      "text/html": [
       "<table>\n",
       "<thead><tr><th scope=col>lenguajesP</th><th scope=col>puestoR</th></tr></thead>\n",
       "<tbody>\n",
       "\t<tr><td>C     </td><td> 1    </td></tr>\n",
       "\t<tr><td>C++   </td><td> 2    </td></tr>\n",
       "\t<tr><td>Java  </td><td> 3    </td></tr>\n",
       "\t<tr><td>JS    </td><td> 5    </td></tr>\n",
       "\t<tr><td>Python</td><td> 7    </td></tr>\n",
       "\t<tr><td>R     </td><td>12    </td></tr>\n",
       "\t<tr><td>Ruby  </td><td>19    </td></tr>\n",
       "</tbody>\n",
       "</table>\n"
      ],
      "text/latex": [
       "\\begin{tabular}{r|ll}\n",
       " lenguajesP & puestoR\\\\\n",
       "\\hline\n",
       "\t C      &  1    \\\\\n",
       "\t C++    &  2    \\\\\n",
       "\t Java   &  3    \\\\\n",
       "\t JS     &  5    \\\\\n",
       "\t Python &  7    \\\\\n",
       "\t R      & 12    \\\\\n",
       "\t Ruby   & 19    \\\\\n",
       "\\end{tabular}\n"
      ],
      "text/markdown": [
       "\n",
       "lenguajesP | puestoR | \n",
       "|---|---|---|---|---|---|---|\n",
       "| C      |  1     | \n",
       "| C++    |  2     | \n",
       "| Java   |  3     | \n",
       "| JS     |  5     | \n",
       "| Python |  7     | \n",
       "| R      | 12     | \n",
       "| Ruby   | 19     | \n",
       "\n",
       "\n"
      ],
      "text/plain": [
       "  lenguajesP puestoR\n",
       "1 C           1     \n",
       "2 C++         2     \n",
       "3 Java        3     \n",
       "4 JS          5     \n",
       "5 Python      7     \n",
       "6 R          12     \n",
       "7 Ruby       19     "
      ]
     },
     "metadata": {},
     "output_type": "display_data"
    }
   ],
   "source": [
    "as.data.frame(dataI)"
   ]
  },
  {
   "cell_type": "code",
   "execution_count": 117,
   "metadata": {
    "collapsed": false,
    "deletable": true,
    "editable": true
   },
   "outputs": [
    {
     "data": {
      "text/html": [
       "<ol class=list-inline>\n",
       "\t<li>'Day'</li>\n",
       "\t<li>'Jan'</li>\n",
       "\t<li>'Feb'</li>\n",
       "\t<li>'Mar'</li>\n",
       "\t<li>'Apr'</li>\n",
       "\t<li>'May'</li>\n",
       "\t<li>'Jun'</li>\n",
       "\t<li>'Jul'</li>\n",
       "\t<li>'Aug'</li>\n",
       "\t<li>'Sep'</li>\n",
       "\t<li>'Oct'</li>\n",
       "\t<li>'Nov'</li>\n",
       "\t<li>'Dec'</li>\n",
       "</ol>\n"
      ],
      "text/latex": [
       "\\begin{enumerate*}\n",
       "\\item 'Day'\n",
       "\\item 'Jan'\n",
       "\\item 'Feb'\n",
       "\\item 'Mar'\n",
       "\\item 'Apr'\n",
       "\\item 'May'\n",
       "\\item 'Jun'\n",
       "\\item 'Jul'\n",
       "\\item 'Aug'\n",
       "\\item 'Sep'\n",
       "\\item 'Oct'\n",
       "\\item 'Nov'\n",
       "\\item 'Dec'\n",
       "\\end{enumerate*}\n"
      ],
      "text/markdown": [
       "1. 'Day'\n",
       "2. 'Jan'\n",
       "3. 'Feb'\n",
       "4. 'Mar'\n",
       "5. 'Apr'\n",
       "6. 'May'\n",
       "7. 'Jun'\n",
       "8. 'Jul'\n",
       "9. 'Aug'\n",
       "10. 'Sep'\n",
       "11. 'Oct'\n",
       "12. 'Nov'\n",
       "13. 'Dec'\n",
       "\n",
       "\n"
      ],
      "text/plain": [
       " [1] \"Day\" \"Jan\" \"Feb\" \"Mar\" \"Apr\" \"May\" \"Jun\" \"Jul\" \"Aug\" \"Sep\" \"Oct\" \"Nov\"\n",
       "[13] \"Dec\""
      ]
     },
     "metadata": {},
     "output_type": "display_data"
    },
    {
     "data": {
      "text/html": [
       "<dl class=dl-horizontal>\n",
       "\t<dt>Jan</dt>\n",
       "\t\t<dd>211</dd>\n",
       "\t<dt>Feb</dt>\n",
       "\t\t<dd>210</dd>\n",
       "\t<dt>Mar</dt>\n",
       "\t\t<dd>256</dd>\n",
       "\t<dt>Apr</dt>\n",
       "\t\t<dd>225</dd>\n",
       "\t<dt>May</dt>\n",
       "\t\t<dd>226</dd>\n",
       "\t<dt>Jun</dt>\n",
       "\t\t<dd>207.5</dd>\n",
       "\t<dt>Jul</dt>\n",
       "\t\t<dd>188</dd>\n",
       "\t<dt>Aug</dt>\n",
       "\t\t<dd>145</dd>\n",
       "\t<dt>Sep</dt>\n",
       "\t\t<dd>168</dd>\n",
       "\t<dt>Oct</dt>\n",
       "\t\t<dd>201</dd>\n",
       "\t<dt>Nov</dt>\n",
       "\t\t<dd>131.5</dd>\n",
       "\t<dt>Dec</dt>\n",
       "\t\t<dd>100</dd>\n",
       "</dl>\n"
      ],
      "text/latex": [
       "\\begin{description*}\n",
       "\\item[Jan] 211\n",
       "\\item[Feb] 210\n",
       "\\item[Mar] 256\n",
       "\\item[Apr] 225\n",
       "\\item[May] 226\n",
       "\\item[Jun] 207.5\n",
       "\\item[Jul] 188\n",
       "\\item[Aug] 145\n",
       "\\item[Sep] 168\n",
       "\\item[Oct] 201\n",
       "\\item[Nov] 131.5\n",
       "\\item[Dec] 100\n",
       "\\end{description*}\n"
      ],
      "text/markdown": [
       "Jan\n",
       ":   211Feb\n",
       ":   210Mar\n",
       ":   256Apr\n",
       ":   225May\n",
       ":   226Jun\n",
       ":   207.5Jul\n",
       ":   188Aug\n",
       ":   145Sep\n",
       ":   168Oct\n",
       ":   201Nov\n",
       ":   131.5Dec\n",
       ":   100\n",
       "\n"
      ],
      "text/plain": [
       "  Jan   Feb   Mar   Apr   May   Jun   Jul   Aug   Sep   Oct   Nov   Dec \n",
       "211.0 210.0 256.0 225.0 226.0 207.5 188.0 145.0 168.0 201.0 131.5 100.0 "
      ]
     },
     "metadata": {},
     "output_type": "display_data"
    },
    {
     "data": {
      "image/png": "[encoded data removed]",
      "text/plain": [
       "plot without title"
      ]
     },
     "metadata": {},
     "output_type": "display_data"
    }
   ],
   "source": [
    "# Ejemplo con sapply\n",
    "\n",
    "pnums <- read.table(\"loteria.txt\", header=TRUE)\n",
    "names(pnums)\n",
    "\n",
    "meses <- pnums[2:13]\n",
    "sapply(meses, median, na.rm = TRUE)\n",
    "mediana <-sapply(meses, median, na.rm=TRUE)\n",
    "plot(mediana, type=\"b\", xlab=\"Numero de Meses\")"
   ]
  },
  {
   "cell_type": "code",
   "execution_count": 118,
   "metadata": {
    "collapsed": false,
    "deletable": true,
    "editable": true
   },
   "outputs": [
    {
     "data": {
      "text/html": [
       "<table>\n",
       "<thead><tr><th scope=col>final.exam</th><th scope=col>quiz.prom</th><th scope=col>tarea.prom</th></tr></thead>\n",
       "<tbody>\n",
       "\t<tr><td>2.0</td><td>4.0</td><td>4  </td></tr>\n",
       "\t<tr><td>1.7</td><td>2.7</td><td>4  </td></tr>\n",
       "\t<tr><td>1.3</td><td>3.3</td><td>4  </td></tr>\n",
       "\t<tr><td>3.3</td><td>3.3</td><td>4  </td></tr>\n",
       "\t<tr><td>0.0</td><td>3.3</td><td>4  </td></tr>\n",
       "\t<tr><td>3.0</td><td>3.7</td><td>4  </td></tr>\n",
       "</tbody>\n",
       "</table>\n"
      ],
      "text/latex": [
       "\\begin{tabular}{r|lll}\n",
       " final.exam & quiz.prom & tarea.prom\\\\\n",
       "\\hline\n",
       "\t 2.0 & 4.0 & 4  \\\\\n",
       "\t 1.7 & 2.7 & 4  \\\\\n",
       "\t 1.3 & 3.3 & 4  \\\\\n",
       "\t 3.3 & 3.3 & 4  \\\\\n",
       "\t 0.0 & 3.3 & 4  \\\\\n",
       "\t 3.0 & 3.7 & 4  \\\\\n",
       "\\end{tabular}\n"
      ],
      "text/markdown": [
       "\n",
       "final.exam | quiz.prom | tarea.prom | \n",
       "|---|---|---|---|---|---|\n",
       "| 2.0 | 4.0 | 4   | \n",
       "| 1.7 | 2.7 | 4   | \n",
       "| 1.3 | 3.3 | 4   | \n",
       "| 3.3 | 3.3 | 4   | \n",
       "| 0.0 | 3.3 | 4   | \n",
       "| 3.0 | 3.7 | 4   | \n",
       "\n",
       "\n"
      ],
      "text/plain": [
       "  final.exam quiz.prom tarea.prom\n",
       "1 2.0        4.0       4         \n",
       "2 1.7        2.7       4         \n",
       "3 1.3        3.3       4         \n",
       "4 3.3        3.3       4         \n",
       "5 0.0        3.3       4         \n",
       "6 3.0        3.7       4         "
      ]
     },
     "metadata": {},
     "output_type": "display_data"
    }
   ],
   "source": [
    "# Leamos un archivo de datos\n",
    "examen <- read.table(\"Examen.txt\",header=TRUE )\n",
    "head(examen)"
   ]
  },
  {
   "cell_type": "code",
   "execution_count": 119,
   "metadata": {
    "collapsed": false,
    "deletable": true,
    "editable": true
   },
   "outputs": [
    {
     "data": {
      "text/html": [
       "'data.frame'"
      ],
      "text/latex": [
       "'data.frame'"
      ],
      "text/markdown": [
       "'data.frame'"
      ],
      "text/plain": [
       "[1] \"data.frame\""
      ]
     },
     "metadata": {},
     "output_type": "display_data"
    }
   ],
   "source": [
    "class(examen)"
   ]
  },
  {
   "cell_type": "code",
   "execution_count": 120,
   "metadata": {
    "collapsed": false,
    "deletable": true,
    "editable": true
   },
   "outputs": [
    {
     "data": {
      "text/html": [
       "<table>\n",
       "<thead><tr><th></th><th scope=col>final.exam</th><th scope=col>quiz.prom</th><th scope=col>tarea.prom</th></tr></thead>\n",
       "<tbody>\n",
       "\t<tr><th scope=row>2</th><td>1.7</td><td>2.7</td><td>4  </td></tr>\n",
       "\t<tr><th scope=row>3</th><td>1.3</td><td>3.3</td><td>4  </td></tr>\n",
       "\t<tr><th scope=row>4</th><td>3.3</td><td>3.3</td><td>4  </td></tr>\n",
       "\t<tr><th scope=row>5</th><td>0.0</td><td>3.3</td><td>4  </td></tr>\n",
       "</tbody>\n",
       "</table>\n"
      ],
      "text/latex": [
       "\\begin{tabular}{r|lll}\n",
       "  & final.exam & quiz.prom & tarea.prom\\\\\n",
       "\\hline\n",
       "\t2 & 1.7 & 2.7 & 4  \\\\\n",
       "\t3 & 1.3 & 3.3 & 4  \\\\\n",
       "\t4 & 3.3 & 3.3 & 4  \\\\\n",
       "\t5 & 0.0 & 3.3 & 4  \\\\\n",
       "\\end{tabular}\n"
      ],
      "text/markdown": [
       "\n",
       "| <!--/--> | final.exam | quiz.prom | tarea.prom | \n",
       "|---|---|---|---|\n",
       "| 2 | 1.7 | 2.7 | 4   | \n",
       "| 3 | 1.3 | 3.3 | 4   | \n",
       "| 4 | 3.3 | 3.3 | 4   | \n",
       "| 5 | 0.0 | 3.3 | 4   | \n",
       "\n",
       "\n"
      ],
      "text/plain": [
       "  final.exam quiz.prom tarea.prom\n",
       "2 1.7        2.7       4         \n",
       "3 1.3        3.3       4         \n",
       "4 3.3        3.3       4         \n",
       "5 0.0        3.3       4         "
      ]
     },
     "metadata": {},
     "output_type": "display_data"
    }
   ],
   "source": [
    "# Realicemos operaciones con este data frame\n",
    "examen[2:5,]"
   ]
  },
  {
   "cell_type": "code",
   "execution_count": 121,
   "metadata": {
    "collapsed": false,
    "deletable": true,
    "editable": true
   },
   "outputs": [
    {
     "data": {
      "text/html": [
       "<table>\n",
       "<thead><tr><th></th><th scope=col>quiz.prom</th></tr></thead>\n",
       "<tbody>\n",
       "\t<tr><th scope=row>2</th><td>2.7</td></tr>\n",
       "\t<tr><th scope=row>3</th><td>3.3</td></tr>\n",
       "\t<tr><th scope=row>4</th><td>3.3</td></tr>\n",
       "\t<tr><th scope=row>5</th><td>3.3</td></tr>\n",
       "</tbody>\n",
       "</table>\n"
      ],
      "text/latex": [
       "\\begin{tabular}{r|l}\n",
       "  & quiz.prom\\\\\n",
       "\\hline\n",
       "\t2 & 2.7\\\\\n",
       "\t3 & 3.3\\\\\n",
       "\t4 & 3.3\\\\\n",
       "\t5 & 3.3\\\\\n",
       "\\end{tabular}\n"
      ],
      "text/markdown": [
       "\n",
       "| <!--/--> | quiz.prom | \n",
       "|---|---|---|---|\n",
       "| 2 | 2.7 | \n",
       "| 3 | 3.3 | \n",
       "| 4 | 3.3 | \n",
       "| 5 | 3.3 | \n",
       "\n",
       "\n"
      ],
      "text/plain": [
       "  quiz.prom\n",
       "2 2.7      \n",
       "3 3.3      \n",
       "4 3.3      \n",
       "5 3.3      "
      ]
     },
     "metadata": {},
     "output_type": "display_data"
    }
   ],
   "source": [
    "examen[2:5,2,drop=FALSE]"
   ]
  },
  {
   "cell_type": "code",
   "execution_count": 122,
   "metadata": {
    "collapsed": false,
    "deletable": true,
    "editable": true
   },
   "outputs": [
    {
     "data": {
      "text/html": [
       "<table>\n",
       "<thead><tr><th></th><th scope=col>final.exam</th><th scope=col>quiz.prom</th><th scope=col>tarea.prom</th></tr></thead>\n",
       "<tbody>\n",
       "\t<tr><th scope=row>1</th><td>2.0</td><td>4.0</td><td>4.0</td></tr>\n",
       "\t<tr><th scope=row>3</th><td>1.3</td><td>3.3</td><td>4.0</td></tr>\n",
       "\t<tr><th scope=row>4</th><td>3.3</td><td>3.3</td><td>4.0</td></tr>\n",
       "\t<tr><th scope=row>5</th><td>0.0</td><td>3.3</td><td>4.0</td></tr>\n",
       "\t<tr><th scope=row>6</th><td>3.0</td><td>3.7</td><td>4.0</td></tr>\n",
       "\t<tr><th scope=row>7</th><td>1.3</td><td>3.3</td><td>3.7</td></tr>\n",
       "\t<tr><th scope=row>8</th><td>1.0</td><td>3.7</td><td>4.0</td></tr>\n",
       "\t<tr><th scope=row>9</th><td>0.0</td><td>3.3</td><td>4.0</td></tr>\n",
       "\t<tr><th scope=row>11</th><td>4.3</td><td>4.0</td><td>4.0</td></tr>\n",
       "\t<tr><th scope=row>12</th><td>3.7</td><td>4.0</td><td>4.0</td></tr>\n",
       "\t<tr><th scope=row>13</th><td>3.0</td><td>4.0</td><td>4.0</td></tr>\n",
       "\t<tr><th scope=row>14</th><td>0.7</td><td>3.7</td><td>4.0</td></tr>\n",
       "\t<tr><th scope=row>15</th><td>4.3</td><td>4.0</td><td>4.0</td></tr>\n",
       "\t<tr><th scope=row>16</th><td>3.0</td><td>3.7</td><td>4.0</td></tr>\n",
       "\t<tr><th scope=row>18</th><td>3.0</td><td>4.0</td><td>4.0</td></tr>\n",
       "\t<tr><th scope=row>19</th><td>3.0</td><td>3.3</td><td>4.0</td></tr>\n",
       "\t<tr><th scope=row>20</th><td>4.3</td><td>3.7</td><td>4.0</td></tr>\n",
       "\t<tr><th scope=row>21</th><td>4.0</td><td>4.0</td><td>4.0</td></tr>\n",
       "\t<tr><th scope=row>22</th><td>3.0</td><td>3.3</td><td>4.0</td></tr>\n",
       "\t<tr><th scope=row>23</th><td>1.0</td><td>3.3</td><td>4.0</td></tr>\n",
       "\t<tr><th scope=row>24</th><td>3.7</td><td>3.7</td><td>4.0</td></tr>\n",
       "\t<tr><th scope=row>25</th><td>0.0</td><td>4.0</td><td>4.0</td></tr>\n",
       "\t<tr><th scope=row>26</th><td>3.3</td><td>3.3</td><td>4.0</td></tr>\n",
       "\t<tr><th scope=row>27</th><td>3.7</td><td>3.3</td><td>4.0</td></tr>\n",
       "\t<tr><th scope=row>28</th><td>4.3</td><td>4.0</td><td>4.0</td></tr>\n",
       "\t<tr><th scope=row>29</th><td>4.0</td><td>3.7</td><td>4.0</td></tr>\n",
       "\t<tr><th scope=row>30</th><td>4.3</td><td>3.7</td><td>4.0</td></tr>\n",
       "\t<tr><th scope=row>31</th><td>4.0</td><td>3.3</td><td>3.7</td></tr>\n",
       "\t<tr><th scope=row>32</th><td>3.3</td><td>3.3</td><td>4.0</td></tr>\n",
       "\t<tr><th scope=row>33</th><td>2.0</td><td>4.0</td><td>4.0</td></tr>\n",
       "</tbody>\n",
       "</table>\n"
      ],
      "text/latex": [
       "\\begin{tabular}{r|lll}\n",
       "  & final.exam & quiz.prom & tarea.prom\\\\\n",
       "\\hline\n",
       "\t1 & 2.0 & 4.0 & 4.0\\\\\n",
       "\t3 & 1.3 & 3.3 & 4.0\\\\\n",
       "\t4 & 3.3 & 3.3 & 4.0\\\\\n",
       "\t5 & 0.0 & 3.3 & 4.0\\\\\n",
       "\t6 & 3.0 & 3.7 & 4.0\\\\\n",
       "\t7 & 1.3 & 3.3 & 3.7\\\\\n",
       "\t8 & 1.0 & 3.7 & 4.0\\\\\n",
       "\t9 & 0.0 & 3.3 & 4.0\\\\\n",
       "\t11 & 4.3 & 4.0 & 4.0\\\\\n",
       "\t12 & 3.7 & 4.0 & 4.0\\\\\n",
       "\t13 & 3.0 & 4.0 & 4.0\\\\\n",
       "\t14 & 0.7 & 3.7 & 4.0\\\\\n",
       "\t15 & 4.3 & 4.0 & 4.0\\\\\n",
       "\t16 & 3.0 & 3.7 & 4.0\\\\\n",
       "\t18 & 3.0 & 4.0 & 4.0\\\\\n",
       "\t19 & 3.0 & 3.3 & 4.0\\\\\n",
       "\t20 & 4.3 & 3.7 & 4.0\\\\\n",
       "\t21 & 4.0 & 4.0 & 4.0\\\\\n",
       "\t22 & 3.0 & 3.3 & 4.0\\\\\n",
       "\t23 & 1.0 & 3.3 & 4.0\\\\\n",
       "\t24 & 3.7 & 3.7 & 4.0\\\\\n",
       "\t25 & 0.0 & 4.0 & 4.0\\\\\n",
       "\t26 & 3.3 & 3.3 & 4.0\\\\\n",
       "\t27 & 3.7 & 3.3 & 4.0\\\\\n",
       "\t28 & 4.3 & 4.0 & 4.0\\\\\n",
       "\t29 & 4.0 & 3.7 & 4.0\\\\\n",
       "\t30 & 4.3 & 3.7 & 4.0\\\\\n",
       "\t31 & 4.0 & 3.3 & 3.7\\\\\n",
       "\t32 & 3.3 & 3.3 & 4.0\\\\\n",
       "\t33 & 2.0 & 4.0 & 4.0\\\\\n",
       "\\end{tabular}\n"
      ],
      "text/markdown": [
       "\n",
       "| <!--/--> | final.exam | quiz.prom | tarea.prom | \n",
       "|---|---|---|---|---|---|---|---|---|---|---|---|---|---|---|---|---|---|---|---|---|---|---|---|---|---|---|---|---|---|\n",
       "| 1 | 2.0 | 4.0 | 4.0 | \n",
       "| 3 | 1.3 | 3.3 | 4.0 | \n",
       "| 4 | 3.3 | 3.3 | 4.0 | \n",
       "| 5 | 0.0 | 3.3 | 4.0 | \n",
       "| 6 | 3.0 | 3.7 | 4.0 | \n",
       "| 7 | 1.3 | 3.3 | 3.7 | \n",
       "| 8 | 1.0 | 3.7 | 4.0 | \n",
       "| 9 | 0.0 | 3.3 | 4.0 | \n",
       "| 11 | 4.3 | 4.0 | 4.0 | \n",
       "| 12 | 3.7 | 4.0 | 4.0 | \n",
       "| 13 | 3.0 | 4.0 | 4.0 | \n",
       "| 14 | 0.7 | 3.7 | 4.0 | \n",
       "| 15 | 4.3 | 4.0 | 4.0 | \n",
       "| 16 | 3.0 | 3.7 | 4.0 | \n",
       "| 18 | 3.0 | 4.0 | 4.0 | \n",
       "| 19 | 3.0 | 3.3 | 4.0 | \n",
       "| 20 | 4.3 | 3.7 | 4.0 | \n",
       "| 21 | 4.0 | 4.0 | 4.0 | \n",
       "| 22 | 3.0 | 3.3 | 4.0 | \n",
       "| 23 | 1.0 | 3.3 | 4.0 | \n",
       "| 24 | 3.7 | 3.7 | 4.0 | \n",
       "| 25 | 0.0 | 4.0 | 4.0 | \n",
       "| 26 | 3.3 | 3.3 | 4.0 | \n",
       "| 27 | 3.7 | 3.3 | 4.0 | \n",
       "| 28 | 4.3 | 4.0 | 4.0 | \n",
       "| 29 | 4.0 | 3.7 | 4.0 | \n",
       "| 30 | 4.3 | 3.7 | 4.0 | \n",
       "| 31 | 4.0 | 3.3 | 3.7 | \n",
       "| 32 | 3.3 | 3.3 | 4.0 | \n",
       "| 33 | 2.0 | 4.0 | 4.0 | \n",
       "\n",
       "\n"
      ],
      "text/plain": [
       "   final.exam quiz.prom tarea.prom\n",
       "1  2.0        4.0       4.0       \n",
       "3  1.3        3.3       4.0       \n",
       "4  3.3        3.3       4.0       \n",
       "5  0.0        3.3       4.0       \n",
       "6  3.0        3.7       4.0       \n",
       "7  1.3        3.3       3.7       \n",
       "8  1.0        3.7       4.0       \n",
       "9  0.0        3.3       4.0       \n",
       "11 4.3        4.0       4.0       \n",
       "12 3.7        4.0       4.0       \n",
       "13 3.0        4.0       4.0       \n",
       "14 0.7        3.7       4.0       \n",
       "15 4.3        4.0       4.0       \n",
       "16 3.0        3.7       4.0       \n",
       "18 3.0        4.0       4.0       \n",
       "19 3.0        3.3       4.0       \n",
       "20 4.3        3.7       4.0       \n",
       "21 4.0        4.0       4.0       \n",
       "22 3.0        3.3       4.0       \n",
       "23 1.0        3.3       4.0       \n",
       "24 3.7        3.7       4.0       \n",
       "25 0.0        4.0       4.0       \n",
       "26 3.3        3.3       4.0       \n",
       "27 3.7        3.3       4.0       \n",
       "28 4.3        4.0       4.0       \n",
       "29 4.0        3.7       4.0       \n",
       "30 4.3        3.7       4.0       \n",
       "31 4.0        3.3       3.7       \n",
       "32 3.3        3.3       4.0       \n",
       "33 2.0        4.0       4.0       "
      ]
     },
     "metadata": {},
     "output_type": "display_data"
    }
   ],
   "source": [
    "# Realizamos filtrado\n",
    "examen[examen$quiz.prom >= 2.8,]"
   ]
  },
  {
   "cell_type": "code",
   "execution_count": 123,
   "metadata": {
    "collapsed": false,
    "deletable": true,
    "editable": true
   },
   "outputs": [
    {
     "data": {
      "text/html": [
       "<table>\n",
       "<thead><tr><th></th><th scope=col>final.exam</th><th scope=col>quiz.prom</th><th scope=col>tarea.prom</th></tr></thead>\n",
       "<tbody>\n",
       "\t<tr><th scope=row>17</th><td>0  </td><td>1  </td><td>3.7</td></tr>\n",
       "</tbody>\n",
       "</table>\n"
      ],
      "text/latex": [
       "\\begin{tabular}{r|lll}\n",
       "  & final.exam & quiz.prom & tarea.prom\\\\\n",
       "\\hline\n",
       "\t17 & 0   & 1   & 3.7\\\\\n",
       "\\end{tabular}\n"
      ],
      "text/markdown": [
       "\n",
       "| <!--/--> | final.exam | quiz.prom | tarea.prom | \n",
       "|---|\n",
       "| 17 | 0   | 1   | 3.7 | \n",
       "\n",
       "\n"
      ],
      "text/plain": [
       "   final.exam quiz.prom tarea.prom\n",
       "17 0          1         3.7       "
      ]
     },
     "metadata": {},
     "output_type": "display_data"
    }
   ],
   "source": [
    "subset(examen, examen$quiz.prom < 1.5)"
   ]
  },
  {
   "cell_type": "code",
   "execution_count": 124,
   "metadata": {
    "collapsed": false,
    "deletable": true,
    "editable": true
   },
   "outputs": [
    {
     "data": {
      "text/html": [
       "<table>\n",
       "<thead><tr><th scope=col>final.exam</th><th scope=col>quiz.prom</th><th scope=col>tarea.prom</th><th scope=col>ex1</th></tr></thead>\n",
       "<tbody>\n",
       "\t<tr><td>2.0</td><td>4.0</td><td>4  </td><td>0.0</td></tr>\n",
       "\t<tr><td>1.7</td><td>2.7</td><td>4  </td><td>1.3</td></tr>\n",
       "\t<tr><td>1.3</td><td>3.3</td><td>4  </td><td>0.7</td></tr>\n",
       "\t<tr><td>3.3</td><td>3.3</td><td>4  </td><td>0.7</td></tr>\n",
       "\t<tr><td>0.0</td><td>3.3</td><td>4  </td><td>0.7</td></tr>\n",
       "\t<tr><td>3.0</td><td>3.7</td><td>4  </td><td>0.3</td></tr>\n",
       "</tbody>\n",
       "</table>\n"
      ],
      "text/latex": [
       "\\begin{tabular}{r|llll}\n",
       " final.exam & quiz.prom & tarea.prom & ex1\\\\\n",
       "\\hline\n",
       "\t 2.0 & 4.0 & 4   & 0.0\\\\\n",
       "\t 1.7 & 2.7 & 4   & 1.3\\\\\n",
       "\t 1.3 & 3.3 & 4   & 0.7\\\\\n",
       "\t 3.3 & 3.3 & 4   & 0.7\\\\\n",
       "\t 0.0 & 3.3 & 4   & 0.7\\\\\n",
       "\t 3.0 & 3.7 & 4   & 0.3\\\\\n",
       "\\end{tabular}\n"
      ],
      "text/markdown": [
       "\n",
       "final.exam | quiz.prom | tarea.prom | ex1 | \n",
       "|---|---|---|---|---|---|\n",
       "| 2.0 | 4.0 | 4   | 0.0 | \n",
       "| 1.7 | 2.7 | 4   | 1.3 | \n",
       "| 1.3 | 3.3 | 4   | 0.7 | \n",
       "| 3.3 | 3.3 | 4   | 0.7 | \n",
       "| 0.0 | 3.3 | 4   | 0.7 | \n",
       "| 3.0 | 3.7 | 4   | 0.3 | \n",
       "\n",
       "\n"
      ],
      "text/plain": [
       "  final.exam quiz.prom tarea.prom ex1\n",
       "1 2.0        4.0       4          0.0\n",
       "2 1.7        2.7       4          1.3\n",
       "3 1.3        3.3       4          0.7\n",
       "4 3.3        3.3       4          0.7\n",
       "5 0.0        3.3       4          0.7\n",
       "6 3.0        3.7       4          0.3"
      ]
     },
     "metadata": {},
     "output_type": "display_data"
    }
   ],
   "source": [
    "# Creemos una columnas a partir de otras\n",
    "ex1<-examen$tarea.prom -examen$quiz.prom\n",
    "ex <- cbind(examen,ex1 )\n",
    "head(ex)"
   ]
  },
  {
   "cell_type": "code",
   "execution_count": 125,
   "metadata": {
    "collapsed": false,
    "deletable": true,
    "editable": true
   },
   "outputs": [
    {
     "data": {
      "text/html": [
       "'data.frame'"
      ],
      "text/latex": [
       "'data.frame'"
      ],
      "text/markdown": [
       "'data.frame'"
      ],
      "text/plain": [
       "[1] \"data.frame\""
      ]
     },
     "metadata": {},
     "output_type": "display_data"
    }
   ],
   "source": [
    "class(ex)"
   ]
  },
  {
   "cell_type": "markdown",
   "metadata": {
    "deletable": true,
    "editable": true
   },
   "source": [
    "Aplicamos la función `àpply()` a nuestro ejemplo:"
   ]
  },
  {
   "cell_type": "code",
   "execution_count": 126,
   "metadata": {
    "collapsed": false,
    "deletable": true,
    "editable": true
   },
   "outputs": [
    {
     "data": {
      "text/html": [
       "<ol class=list-inline>\n",
       "\t<li>4</li>\n",
       "\t<li>4</li>\n",
       "\t<li>4</li>\n",
       "\t<li>4</li>\n",
       "\t<li>4</li>\n",
       "\t<li>4</li>\n",
       "\t<li>3.7</li>\n",
       "\t<li>4</li>\n",
       "\t<li>4</li>\n",
       "\t<li>3.3</li>\n",
       "\t<li>4.3</li>\n",
       "\t<li>4</li>\n",
       "\t<li>4</li>\n",
       "\t<li>4</li>\n",
       "\t<li>4.3</li>\n",
       "\t<li>4</li>\n",
       "\t<li>3.7</li>\n",
       "\t<li>4</li>\n",
       "\t<li>4</li>\n",
       "\t<li>4.3</li>\n",
       "\t<li>4</li>\n",
       "\t<li>4</li>\n",
       "\t<li>4</li>\n",
       "\t<li>4</li>\n",
       "\t<li>4</li>\n",
       "\t<li>4</li>\n",
       "\t<li>4</li>\n",
       "\t<li>4.3</li>\n",
       "\t<li>4</li>\n",
       "\t<li>4.3</li>\n",
       "\t<li>4</li>\n",
       "\t<li>4</li>\n",
       "\t<li>4</li>\n",
       "</ol>\n"
      ],
      "text/latex": [
       "\\begin{enumerate*}\n",
       "\\item 4\n",
       "\\item 4\n",
       "\\item 4\n",
       "\\item 4\n",
       "\\item 4\n",
       "\\item 4\n",
       "\\item 3.7\n",
       "\\item 4\n",
       "\\item 4\n",
       "\\item 3.3\n",
       "\\item 4.3\n",
       "\\item 4\n",
       "\\item 4\n",
       "\\item 4\n",
       "\\item 4.3\n",
       "\\item 4\n",
       "\\item 3.7\n",
       "\\item 4\n",
       "\\item 4\n",
       "\\item 4.3\n",
       "\\item 4\n",
       "\\item 4\n",
       "\\item 4\n",
       "\\item 4\n",
       "\\item 4\n",
       "\\item 4\n",
       "\\item 4\n",
       "\\item 4.3\n",
       "\\item 4\n",
       "\\item 4.3\n",
       "\\item 4\n",
       "\\item 4\n",
       "\\item 4\n",
       "\\end{enumerate*}\n"
      ],
      "text/markdown": [
       "1. 4\n",
       "2. 4\n",
       "3. 4\n",
       "4. 4\n",
       "5. 4\n",
       "6. 4\n",
       "7. 3.7\n",
       "8. 4\n",
       "9. 4\n",
       "10. 3.3\n",
       "11. 4.3\n",
       "12. 4\n",
       "13. 4\n",
       "14. 4\n",
       "15. 4.3\n",
       "16. 4\n",
       "17. 3.7\n",
       "18. 4\n",
       "19. 4\n",
       "20. 4.3\n",
       "21. 4\n",
       "22. 4\n",
       "23. 4\n",
       "24. 4\n",
       "25. 4\n",
       "26. 4\n",
       "27. 4\n",
       "28. 4.3\n",
       "29. 4\n",
       "30. 4.3\n",
       "31. 4\n",
       "32. 4\n",
       "33. 4\n",
       "\n",
       "\n"
      ],
      "text/plain": [
       " [1] 4.0 4.0 4.0 4.0 4.0 4.0 3.7 4.0 4.0 3.3 4.3 4.0 4.0 4.0 4.3 4.0 3.7 4.0 4.0\n",
       "[20] 4.3 4.0 4.0 4.0 4.0 4.0 4.0 4.0 4.3 4.0 4.3 4.0 4.0 4.0"
      ]
     },
     "metadata": {},
     "output_type": "display_data"
    }
   ],
   "source": [
    "apply(examen, 1, max)"
   ]
  },
  {
   "cell_type": "code",
   "execution_count": null,
   "metadata": {
    "collapsed": true,
    "deletable": true,
    "editable": true
   },
   "outputs": [],
   "source": []
  }
 ],
 "metadata": {
  "kernelspec": {
   "display_name": "R",
   "language": "R",
   "name": "ir"
  },
  "language_info": {
   "codemirror_mode": "r",
   "file_extension": ".r",
   "mimetype": "text/x-r-source",
   "name": "R",
   "pygments_lexer": "r",
   "version": "3.3.2"
  }
 },
 "nbformat": 4,
 "nbformat_minor": 2
}
