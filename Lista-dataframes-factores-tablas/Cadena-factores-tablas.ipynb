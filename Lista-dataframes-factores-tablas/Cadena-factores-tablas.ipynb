{
 "cells": [
  {
   "cell_type": "markdown",
   "metadata": {
    "deletable": true,
    "editable": true
   },
   "source": [
    "## Cadenas\n",
    "\n",
    "Los datos de texto se almacenan en vectores de caracteres (o, menos comúnmente, en matrices de caracteres). Cada elemento de un vector de caracteres es una cadena completa, en lugar de un solo carácter. El hecho de que la unidad básica de texto sea un vector de caracteres significa que la mayoría de las funciones de manipulación de cadenas operan sobre vectores de cadenas, de la misma manera que las operaciones matemáticas son vectorizadas.\n",
    "\n",
    "Los vectores de caracteres se pueden crear con la función `c` y podemos usar  comillas simples o dobles alrededor de nuestras cadenas, siempre y cuando coincidan.\n"
   ]
  },
  {
   "cell_type": "code",
   "execution_count": 68,
   "metadata": {
    "collapsed": false,
    "deletable": true,
    "editable": true
   },
   "outputs": [
    {
     "data": {
      "text/html": [
       "<ol class=list-inline>\n",
       "\t<li>'Habia una vez un lenguaje de programacion que quiso ser amigo de todos'</li>\n",
       "\t<li>'Pasado el tiempo el lenguaje conocio a muchos amigos y fue feliz'</li>\n",
       "</ol>\n"
      ],
      "text/latex": [
       "\\begin{enumerate*}\n",
       "\\item 'Habia una vez un lenguaje de programacion que quiso ser amigo de todos'\n",
       "\\item 'Pasado el tiempo el lenguaje conocio a muchos amigos y fue feliz'\n",
       "\\end{enumerate*}\n"
      ],
      "text/markdown": [
       "1. 'Habia una vez un lenguaje de programacion que quiso ser amigo de todos'\n",
       "2. 'Pasado el tiempo el lenguaje conocio a muchos amigos y fue feliz'\n",
       "\n",
       "\n"
      ],
      "text/plain": [
       "[1] \"Habia una vez un lenguaje de programacion que quiso ser amigo de todos\"\n",
       "[2] \"Pasado el tiempo el lenguaje conocio a muchos amigos y fue feliz\"      "
      ]
     },
     "metadata": {},
     "output_type": "display_data"
    }
   ],
   "source": [
    "c(\n",
    "  \"Habia una vez un lenguaje de programacion que quiso ser amigo de todos\",\n",
    "  'Pasado el tiempo el lenguaje conocio a muchos amigos y fue feliz'\n",
    ")"
   ]
  },
  {
   "cell_type": "markdown",
   "metadata": {
    "deletable": true,
    "editable": true
   },
   "source": [
    "La función `paste` combina  cadenas juntas, cada vector que se pasa a él tiene sus elementos reciclado para alcanzar la longitud de la entrada más larga y luego las cadenas se concatenan, con un espacio que las separa. Podemos cambiar el separador pasando un argumento llamado `sep`  o usar la función relacionada `paste0` para no tener ningún separador. Después de combinar todas las cadenas, el resultado puede ser plegado  en una cadena contiene todo los objetos usando el argumento `collapse`:"
   ]
  },
  {
   "cell_type": "code",
   "execution_count": 69,
   "metadata": {
    "collapsed": false,
    "deletable": true,
    "editable": true
   },
   "outputs": [
    {
     "data": {
      "text/html": [
       "<ol class=list-inline>\n",
       "\t<li>'red lorry'</li>\n",
       "\t<li>'yellow lorry'</li>\n",
       "</ol>\n"
      ],
      "text/latex": [
       "\\begin{enumerate*}\n",
       "\\item 'red lorry'\n",
       "\\item 'yellow lorry'\n",
       "\\end{enumerate*}\n"
      ],
      "text/markdown": [
       "1. 'red lorry'\n",
       "2. 'yellow lorry'\n",
       "\n",
       "\n"
      ],
      "text/plain": [
       "[1] \"red lorry\"    \"yellow lorry\""
      ]
     },
     "metadata": {},
     "output_type": "display_data"
    },
    {
     "data": {
      "text/html": [
       "<ol class=list-inline>\n",
       "\t<li>'red-lorry'</li>\n",
       "\t<li>'yellow-lorry'</li>\n",
       "</ol>\n"
      ],
      "text/latex": [
       "\\begin{enumerate*}\n",
       "\\item 'red-lorry'\n",
       "\\item 'yellow-lorry'\n",
       "\\end{enumerate*}\n"
      ],
      "text/markdown": [
       "1. 'red-lorry'\n",
       "2. 'yellow-lorry'\n",
       "\n",
       "\n"
      ],
      "text/plain": [
       "[1] \"red-lorry\"    \"yellow-lorry\""
      ]
     },
     "metadata": {},
     "output_type": "display_data"
    }
   ],
   "source": [
    "paste(c(\"red\", \"yellow\"), \"lorry\")\n",
    "paste(c(\"red\", \"yellow\"), \"lorry\", sep = \"-\")"
   ]
  },
  {
   "cell_type": "code",
   "execution_count": 70,
   "metadata": {
    "collapsed": false,
    "deletable": true,
    "editable": true
   },
   "outputs": [
    {
     "data": {
      "text/html": [
       "'red lorry, yellow lorry'"
      ],
      "text/latex": [
       "'red lorry, yellow lorry'"
      ],
      "text/markdown": [
       "'red lorry, yellow lorry'"
      ],
      "text/plain": [
       "[1] \"red lorry, yellow lorry\""
      ]
     },
     "metadata": {},
     "output_type": "display_data"
    },
    {
     "data": {
      "text/html": [
       "<ol class=list-inline>\n",
       "\t<li>'redlorry'</li>\n",
       "\t<li>'yellowlorry'</li>\n",
       "</ol>\n"
      ],
      "text/latex": [
       "\\begin{enumerate*}\n",
       "\\item 'redlorry'\n",
       "\\item 'yellowlorry'\n",
       "\\end{enumerate*}\n"
      ],
      "text/markdown": [
       "1. 'redlorry'\n",
       "2. 'yellowlorry'\n",
       "\n",
       "\n"
      ],
      "text/plain": [
       "[1] \"redlorry\"    \"yellowlorry\""
      ]
     },
     "metadata": {},
     "output_type": "display_data"
    }
   ],
   "source": [
    "paste(c(\"red\", \"yellow\"), \"lorry\", collapse = \", \")\n",
    "paste0(c(\"red\", \"yellow\"), \"lorry\")"
   ]
  },
  {
   "cell_type": "markdown",
   "metadata": {
    "deletable": true,
    "editable": true
   },
   "source": [
    "La función `toString` es una variación de  `paste` que es útil para imprimir vectores. Esta función  separa cada elemento con una coma y un espacio, y podemos limitar cuánto imprimimos. En el ejemplo siguiente, por ejemplo `width = 40` limita la salida a 40 caracteres:"
   ]
  },
  {
   "cell_type": "code",
   "execution_count": 71,
   "metadata": {
    "collapsed": true,
    "deletable": true,
    "editable": true
   },
   "outputs": [],
   "source": [
    "x <- (1:15) ^ 3"
   ]
  },
  {
   "cell_type": "code",
   "execution_count": 72,
   "metadata": {
    "collapsed": false,
    "deletable": true,
    "editable": true
   },
   "outputs": [
    {
     "data": {
      "text/html": [
       "'1, 8, 27, 64, 125, 216, 343, 512, 72....'"
      ],
      "text/latex": [
       "'1, 8, 27, 64, 125, 216, 343, 512, 72....'"
      ],
      "text/markdown": [
       "'1, 8, 27, 64, 125, 216, 343, 512, 72....'"
      ],
      "text/plain": [
       "[1] \"1, 8, 27, 64, 125, 216, 343, 512, 72....\""
      ]
     },
     "metadata": {},
     "output_type": "display_data"
    }
   ],
   "source": [
    "toString(x, width = 40)"
   ]
  },
  {
   "cell_type": "markdown",
   "metadata": {
    "deletable": true,
    "editable": true
   },
   "source": [
    "`cat` es una función de bajo nivel que funciona de manera similar a `paste`, pero con menos formato. Rara vez necesitaras  llamar directamente a esta función, pero vale la pena ser consciente, ya que es la base de la mayoría de las funciones de impresión. `cat` también puede aceptar un argumento para escribir su salida en un archivo:\n"
   ]
  },
  {
   "cell_type": "code",
   "execution_count": 73,
   "metadata": {
    "collapsed": false,
    "deletable": true,
    "editable": true
   },
   "outputs": [
    {
     "name": "stdout",
     "output_type": "stream",
     "text": [
      "C++ Python Java"
     ]
    }
   ],
   "source": [
    "cat(c(\"C++\", \"Python\"), \"Java\")"
   ]
  },
  {
   "cell_type": "markdown",
   "metadata": {
    "deletable": true,
    "editable": true
   },
   "source": [
    "Por lo general, cuando las cadenas se imprimen en la consola se muestran entre comillas dobles. Envolviendo una variable en una llamada a la función `noquote`, podemos suprimir esas comillas. Esto puede hacer que el texto sea más legible en algunos casos:"
   ]
  },
  {
   "cell_type": "code",
   "execution_count": 74,
   "metadata": {
    "collapsed": false,
    "deletable": true,
    "editable": true
   },
   "outputs": [
    {
     "data": {
      "text/html": [
       "<ol class=list-inline>\n",
       "\t<li>'Python'</li>\n",
       "\t<li>'R'</li>\n",
       "\t<li>'a'</li>\n",
       "\t<li>'R'</li>\n",
       "\t<li>'bash'</li>\n",
       "\t<li>'Javascript'</li>\n",
       "\t<li>'git'</li>\n",
       "\t<li>'R'</li>\n",
       "\t<li>'Java'</li>\n",
       "\t<li>'C'</li>\n",
       "\t<li>'R'</li>\n",
       "\t<li>'I'</li>\n",
       "\t<li>'c++'</li>\n",
       "\t<li>'R'</li>\n",
       "</ol>\n"
      ],
      "text/latex": [
       "\\begin{enumerate*}\n",
       "\\item 'Python'\n",
       "\\item 'R'\n",
       "\\item 'a'\n",
       "\\item 'R'\n",
       "\\item 'bash'\n",
       "\\item 'Javascript'\n",
       "\\item 'git'\n",
       "\\item 'R'\n",
       "\\item 'Java'\n",
       "\\item 'C'\n",
       "\\item 'R'\n",
       "\\item 'I'\n",
       "\\item 'c++'\n",
       "\\item 'R'\n",
       "\\end{enumerate*}\n"
      ],
      "text/markdown": [
       "1. 'Python'\n",
       "2. 'R'\n",
       "3. 'a'\n",
       "4. 'R'\n",
       "5. 'bash'\n",
       "6. 'Javascript'\n",
       "7. 'git'\n",
       "8. 'R'\n",
       "9. 'Java'\n",
       "10. 'C'\n",
       "11. 'R'\n",
       "12. 'I'\n",
       "13. 'c++'\n",
       "14. 'R'\n",
       "\n",
       "\n"
      ],
      "text/plain": [
       " [1] \"Python\"     \"R\"          \"a\"          \"R\"          \"bash\"      \n",
       " [6] \"Javascript\" \"git\"        \"R\"          \"Java\"       \"C\"         \n",
       "[11] \"R\"          \"I\"          \"c++\"        \"R\"         "
      ]
     },
     "metadata": {},
     "output_type": "display_data"
    }
   ],
   "source": [
    "x<- c(\n",
    "   \"Python\", \"R\", \"a\", \"R\", \"bash\", \"Javascript\", \"git\",\n",
    "   \"R\", \"Java\", \"C\", \"R\", \"I\", \"c++\", \"R\"\n",
    ")\n",
    "y <- noquote(x)\n",
    "x"
   ]
  },
  {
   "cell_type": "code",
   "execution_count": 75,
   "metadata": {
    "collapsed": false,
    "deletable": true,
    "editable": true
   },
   "outputs": [
    {
     "data": {
      "text/plain": [
       " [1] Python     R          a          R          bash       Javascript\n",
       " [7] git        R          Java       C          R          I         \n",
       "[13] c++        R         "
      ]
     },
     "metadata": {},
     "output_type": "display_data"
    }
   ],
   "source": [
    "y"
   ]
  },
  {
   "cell_type": "markdown",
   "metadata": {
    "deletable": true,
    "editable": true
   },
   "source": [
    "#### Formateo de números\n",
    "\n",
    "Existen varias funciones para dar formato a los números. `formatC `utiliza especificaciones de formato de estilo C que permiten especificar el formato del número de lugares decimales y el ancho de la salida. Cualquiera que sea la opción, la entrada debe ser uno de los tipos numéricos (incluidos los arrays) y la salida es un vectorde caracteres o una matriz:"
   ]
  },
  {
   "cell_type": "code",
   "execution_count": 76,
   "metadata": {
    "collapsed": false,
    "deletable": true,
    "editable": true
   },
   "outputs": [
    {
     "data": {
      "text/html": [
       "<ol class=list-inline>\n",
       "\t<li>2.71828182845905</li>\n",
       "\t<li>7.38905609893065</li>\n",
       "\t<li>20.0855369231877</li>\n",
       "</ol>\n"
      ],
      "text/latex": [
       "\\begin{enumerate*}\n",
       "\\item 2.71828182845905\n",
       "\\item 7.38905609893065\n",
       "\\item 20.0855369231877\n",
       "\\end{enumerate*}\n"
      ],
      "text/markdown": [
       "1. 2.71828182845905\n",
       "2. 7.38905609893065\n",
       "3. 20.0855369231877\n",
       "\n",
       "\n"
      ],
      "text/plain": [
       "[1]  2.718282  7.389056 20.085537"
      ]
     },
     "metadata": {},
     "output_type": "display_data"
    },
    {
     "data": {
      "text/html": [
       "<ol class=list-inline>\n",
       "\t<li>'2.718'</li>\n",
       "\t<li>'7.389'</li>\n",
       "\t<li>'20.09'</li>\n",
       "</ol>\n"
      ],
      "text/latex": [
       "\\begin{enumerate*}\n",
       "\\item '2.718'\n",
       "\\item '7.389'\n",
       "\\item '20.09'\n",
       "\\end{enumerate*}\n"
      ],
      "text/markdown": [
       "1. '2.718'\n",
       "2. '7.389'\n",
       "3. '20.09'\n",
       "\n",
       "\n"
      ],
      "text/plain": [
       "[1] \"2.718\" \"7.389\" \"20.09\""
      ]
     },
     "metadata": {},
     "output_type": "display_data"
    }
   ],
   "source": [
    "pot <- 1:3\n",
    "(pot_de_e <- exp(pot))\n",
    "formatC(pot_de_e)"
   ]
  },
  {
   "cell_type": "code",
   "execution_count": 77,
   "metadata": {
    "collapsed": false,
    "deletable": true,
    "editable": true
   },
   "outputs": [
    {
     "data": {
      "text/html": [
       "<ol class=list-inline>\n",
       "\t<li>'2.72'</li>\n",
       "\t<li>'7.39'</li>\n",
       "\t<li>'20.1'</li>\n",
       "</ol>\n"
      ],
      "text/latex": [
       "\\begin{enumerate*}\n",
       "\\item '2.72'\n",
       "\\item '7.39'\n",
       "\\item '20.1'\n",
       "\\end{enumerate*}\n"
      ],
      "text/markdown": [
       "1. '2.72'\n",
       "2. '7.39'\n",
       "3. '20.1'\n",
       "\n",
       "\n"
      ],
      "text/plain": [
       "[1] \"2.72\" \"7.39\" \"20.1\""
      ]
     },
     "metadata": {},
     "output_type": "display_data"
    }
   ],
   "source": [
    "formatC(pot_de_e, digits = 3)"
   ]
  },
  {
   "cell_type": "code",
   "execution_count": 78,
   "metadata": {
    "collapsed": false,
    "deletable": true,
    "editable": true
   },
   "outputs": [
    {
     "data": {
      "text/html": [
       "<ol class=list-inline>\n",
       "\t<li><span style=white-space:pre-wrap>'      2.72'</span></li>\n",
       "\t<li><span style=white-space:pre-wrap>'      7.39'</span></li>\n",
       "\t<li><span style=white-space:pre-wrap>'      20.1'</span></li>\n",
       "</ol>\n"
      ],
      "text/latex": [
       "\\begin{enumerate*}\n",
       "\\item '      2.72'\n",
       "\\item '      7.39'\n",
       "\\item '      20.1'\n",
       "\\end{enumerate*}\n"
      ],
      "text/markdown": [
       "1. <span style=white-space:pre-wrap>'      2.72'</span>\n",
       "2. <span style=white-space:pre-wrap>'      7.39'</span>\n",
       "3. <span style=white-space:pre-wrap>'      20.1'</span>\n",
       "\n",
       "\n"
      ],
      "text/plain": [
       "[1] \"      2.72\" \"      7.39\" \"      20.1\""
      ]
     },
     "metadata": {},
     "output_type": "display_data"
    }
   ],
   "source": [
    "formatC(pot_de_e, digits = 3, width = 10)"
   ]
  },
  {
   "cell_type": "code",
   "execution_count": 79,
   "metadata": {
    "collapsed": false,
    "deletable": true,
    "editable": true
   },
   "outputs": [
    {
     "data": {
      "text/html": [
       "<ol class=list-inline>\n",
       "\t<li>'2.718e+00'</li>\n",
       "\t<li>'7.389e+00'</li>\n",
       "\t<li>'2.009e+01'</li>\n",
       "</ol>\n"
      ],
      "text/latex": [
       "\\begin{enumerate*}\n",
       "\\item '2.718e+00'\n",
       "\\item '7.389e+00'\n",
       "\\item '2.009e+01'\n",
       "\\end{enumerate*}\n"
      ],
      "text/markdown": [
       "1. '2.718e+00'\n",
       "2. '7.389e+00'\n",
       "3. '2.009e+01'\n",
       "\n",
       "\n"
      ],
      "text/plain": [
       "[1] \"2.718e+00\" \"7.389e+00\" \"2.009e+01\""
      ]
     },
     "metadata": {},
     "output_type": "display_data"
    }
   ],
   "source": [
    "formatC(pot_de_e, digits = 3, format = \"e\") # formato cientifico"
   ]
  },
  {
   "cell_type": "code",
   "execution_count": 80,
   "metadata": {
    "collapsed": false,
    "deletable": true,
    "editable": true
   },
   "outputs": [
    {
     "data": {
      "text/html": [
       "<ol class=list-inline>\n",
       "\t<li>'+2.72'</li>\n",
       "\t<li>'+7.39'</li>\n",
       "\t<li>'+20.1'</li>\n",
       "</ol>\n"
      ],
      "text/latex": [
       "\\begin{enumerate*}\n",
       "\\item '+2.72'\n",
       "\\item '+7.39'\n",
       "\\item '+20.1'\n",
       "\\end{enumerate*}\n"
      ],
      "text/markdown": [
       "1. '+2.72'\n",
       "2. '+7.39'\n",
       "3. '+20.1'\n",
       "\n",
       "\n"
      ],
      "text/plain": [
       "[1] \"+2.72\" \"+7.39\" \"+20.1\""
      ]
     },
     "metadata": {},
     "output_type": "display_data"
    }
   ],
   "source": [
    "formatC(pot_de_e, digits = 3, flag= \"+\")"
   ]
  },
  {
   "cell_type": "markdown",
   "metadata": {
    "deletable": true,
    "editable": true
   },
   "source": [
    "R también proporciona un formato de estilo C  más general con la función `sprintf`que funciona  de la misma manera que `sprintf` en cualquier otro lenguaje de programación: el primer argumento contiene marcadores de posición para las variables de cadena o número y los argumentos se sustituyen en esos marcadores de posición. Sólo recuerde que la mayoría de los números en R son valores de punto flotante en lugar de enteros.\n",
    "\n",
    "El primer argumento de `sprintf` especifica una cadena de formato, con marcadores de posición para otros valores. Por ejemplo, `% s` indica otra cadena, `% f` y `% e` indican un número de coma flotante en formato fijo o científico, respectivamente  y `%d` representa un número entero. \n",
    "\n",
    "Los argumentos adicionales especifican los valores para reemplazar los marcadores de posición. Al igual que con la función `paste`, las entradas más cortas se reciclan para que coincidan con la entrada más larga:"
   ]
  },
  {
   "cell_type": "code",
   "execution_count": 81,
   "metadata": {
    "collapsed": false,
    "deletable": true,
    "editable": true
   },
   "outputs": [
    {
     "data": {
      "text/html": [
       "<ol class=list-inline>\n",
       "\t<li>'constante de Euler a la potencia 1 = 2.718282'</li>\n",
       "\t<li>'constante de Euler a la potencia 2 = 7.389056'</li>\n",
       "\t<li>'constante de Euler a la potencia 3 = 20.085537'</li>\n",
       "</ol>\n"
      ],
      "text/latex": [
       "\\begin{enumerate*}\n",
       "\\item 'constante de Euler a la potencia 1 = 2.718282'\n",
       "\\item 'constante de Euler a la potencia 2 = 7.389056'\n",
       "\\item 'constante de Euler a la potencia 3 = 20.085537'\n",
       "\\end{enumerate*}\n"
      ],
      "text/markdown": [
       "1. 'constante de Euler a la potencia 1 = 2.718282'\n",
       "2. 'constante de Euler a la potencia 2 = 7.389056'\n",
       "3. 'constante de Euler a la potencia 3 = 20.085537'\n",
       "\n",
       "\n"
      ],
      "text/plain": [
       "[1] \"constante de Euler a la potencia 1 = 2.718282\" \n",
       "[2] \"constante de Euler a la potencia 2 = 7.389056\" \n",
       "[3] \"constante de Euler a la potencia 3 = 20.085537\""
      ]
     },
     "metadata": {},
     "output_type": "display_data"
    }
   ],
   "source": [
    "sprintf(\"%s %d = %f\", \"constante de Euler a la potencia\", pot, pot_de_e)"
   ]
  },
  {
   "cell_type": "code",
   "execution_count": 82,
   "metadata": {
    "collapsed": false,
    "deletable": true,
    "editable": true
   },
   "outputs": [
    {
     "data": {
      "text/html": [
       "<ol class=list-inline>\n",
       "\t<li>'Tres lugares decimales, e ^ 1 = 2.718'</li>\n",
       "\t<li>'Tres lugares decimales, e ^ 2 = 7.389'</li>\n",
       "\t<li>'Tres lugares decimales, e ^ 3 = 20.086'</li>\n",
       "</ol>\n"
      ],
      "text/latex": [
       "\\begin{enumerate*}\n",
       "\\item 'Tres lugares decimales, e \\textasciicircum{} 1 = 2.718'\n",
       "\\item 'Tres lugares decimales, e \\textasciicircum{} 2 = 7.389'\n",
       "\\item 'Tres lugares decimales, e \\textasciicircum{} 3 = 20.086'\n",
       "\\end{enumerate*}\n"
      ],
      "text/markdown": [
       "1. 'Tres lugares decimales, e ^ 1 = 2.718'\n",
       "2. 'Tres lugares decimales, e ^ 2 = 7.389'\n",
       "3. 'Tres lugares decimales, e ^ 3 = 20.086'\n",
       "\n",
       "\n"
      ],
      "text/plain": [
       "[1] \"Tres lugares decimales, e ^ 1 = 2.718\" \n",
       "[2] \"Tres lugares decimales, e ^ 2 = 7.389\" \n",
       "[3] \"Tres lugares decimales, e ^ 3 = 20.086\""
      ]
     },
     "metadata": {},
     "output_type": "display_data"
    }
   ],
   "source": [
    "sprintf(\"Tres lugares decimales, e ^ %d = %.3f\", pot, pot_de_e)"
   ]
  },
  {
   "cell_type": "code",
   "execution_count": 83,
   "metadata": {
    "collapsed": false,
    "deletable": true,
    "editable": true
   },
   "outputs": [
    {
     "data": {
      "text/html": [
       "<ol class=list-inline>\n",
       "\t<li>'En notacion cientifica, e ^ 1 = 2.718282e+00'</li>\n",
       "\t<li>'En notacion cientifica, e ^ 2 = 7.389056e+00'</li>\n",
       "\t<li>'En notacion cientifica, e ^ 3 = 2.008554e+01'</li>\n",
       "</ol>\n"
      ],
      "text/latex": [
       "\\begin{enumerate*}\n",
       "\\item 'En notacion cientifica, e \\textasciicircum{} 1 = 2.718282e+00'\n",
       "\\item 'En notacion cientifica, e \\textasciicircum{} 2 = 7.389056e+00'\n",
       "\\item 'En notacion cientifica, e \\textasciicircum{} 3 = 2.008554e+01'\n",
       "\\end{enumerate*}\n"
      ],
      "text/markdown": [
       "1. 'En notacion cientifica, e ^ 1 = 2.718282e+00'\n",
       "2. 'En notacion cientifica, e ^ 2 = 7.389056e+00'\n",
       "3. 'En notacion cientifica, e ^ 3 = 2.008554e+01'\n",
       "\n",
       "\n"
      ],
      "text/plain": [
       "[1] \"En notacion cientifica, e ^ 1 = 2.718282e+00\"\n",
       "[2] \"En notacion cientifica, e ^ 2 = 7.389056e+00\"\n",
       "[3] \"En notacion cientifica, e ^ 3 = 2.008554e+01\""
      ]
     },
     "metadata": {},
     "output_type": "display_data"
    }
   ],
   "source": [
    "sprintf(\"En notacion cientifica, e ^ %d = %e\", pot, pot_de_e)"
   ]
  },
  {
   "cell_type": "markdown",
   "metadata": {
    "deletable": true,
    "editable": true
   },
   "source": [
    "Sintaxis alternativas para el formato de números se proporcionan con `format` y `prettyNum`.\n",
    "\n",
    "`format`  proporciona una sintaxis ligeramente diferente para el formato de cadenas y tiene un uso similar a `formatC`. `prettyNum`, por otro lado, es adecuado para  números muy grandes o muy pequeños:"
   ]
  },
  {
   "cell_type": "code",
   "execution_count": 84,
   "metadata": {
    "collapsed": false,
    "deletable": true,
    "editable": true
   },
   "outputs": [
    {
     "data": {
      "text/html": [
       "<ol class=list-inline>\n",
       "\t<li>' 2.718282'</li>\n",
       "\t<li>' 7.389056'</li>\n",
       "\t<li>'20.085537'</li>\n",
       "</ol>\n"
      ],
      "text/latex": [
       "\\begin{enumerate*}\n",
       "\\item ' 2.718282'\n",
       "\\item ' 7.389056'\n",
       "\\item '20.085537'\n",
       "\\end{enumerate*}\n"
      ],
      "text/markdown": [
       "1. ' 2.718282'\n",
       "2. ' 7.389056'\n",
       "3. '20.085537'\n",
       "\n",
       "\n"
      ],
      "text/plain": [
       "[1] \" 2.718282\" \" 7.389056\" \"20.085537\""
      ]
     },
     "metadata": {},
     "output_type": "display_data"
    },
    {
     "data": {
      "text/html": [
       "<ol class=list-inline>\n",
       "\t<li>' 2.72'</li>\n",
       "\t<li>' 7.39'</li>\n",
       "\t<li>'20.09'</li>\n",
       "</ol>\n"
      ],
      "text/latex": [
       "\\begin{enumerate*}\n",
       "\\item ' 2.72'\n",
       "\\item ' 7.39'\n",
       "\\item '20.09'\n",
       "\\end{enumerate*}\n"
      ],
      "text/markdown": [
       "1. ' 2.72'\n",
       "2. ' 7.39'\n",
       "3. '20.09'\n",
       "\n",
       "\n"
      ],
      "text/plain": [
       "[1] \" 2.72\" \" 7.39\" \"20.09\""
      ]
     },
     "metadata": {},
     "output_type": "display_data"
    },
    {
     "data": {
      "text/html": [
       "<ol class=list-inline>\n",
       "\t<li>'2.72e+00'</li>\n",
       "\t<li>'7.39e+00'</li>\n",
       "\t<li>'2.01e+01'</li>\n",
       "</ol>\n"
      ],
      "text/latex": [
       "\\begin{enumerate*}\n",
       "\\item '2.72e+00'\n",
       "\\item '7.39e+00'\n",
       "\\item '2.01e+01'\n",
       "\\end{enumerate*}\n"
      ],
      "text/markdown": [
       "1. '2.72e+00'\n",
       "2. '7.39e+00'\n",
       "3. '2.01e+01'\n",
       "\n",
       "\n"
      ],
      "text/plain": [
       "[1] \"2.72e+00\" \"7.39e+00\" \"2.01e+01\""
      ]
     },
     "metadata": {},
     "output_type": "display_data"
    }
   ],
   "source": [
    "format(pot_de_e)\n",
    "\n",
    "format(pot_de_e, digits = 3) \n",
    "format(pot_de_e, digits = 3, scientific  = TRUE)"
   ]
  },
  {
   "cell_type": "code",
   "execution_count": 85,
   "metadata": {
    "collapsed": false,
    "deletable": true,
    "editable": true
   },
   "outputs": [
    {
     "data": {
      "text/html": [
       "<ol class=list-inline>\n",
       "\t<li>'10,000,000,000'</li>\n",
       "\t<li>'0.00000 00000 00000 00001'</li>\n",
       "</ol>\n"
      ],
      "text/latex": [
       "\\begin{enumerate*}\n",
       "\\item '10,000,000,000'\n",
       "\\item '0.00000 00000 00000 00001'\n",
       "\\end{enumerate*}\n"
      ],
      "text/markdown": [
       "1. '10,000,000,000'\n",
       "2. '0.00000 00000 00000 00001'\n",
       "\n",
       "\n"
      ],
      "text/plain": [
       "[1] \"10,000,000,000\"            \"0.00000 00000 00000 00001\""
      ]
     },
     "metadata": {},
     "output_type": "display_data"
    }
   ],
   "source": [
    "prettyNum(\n",
    "  c(1e10, 1e-20),\n",
    "  big.mark = \",\",\n",
    "  small.mark = \" \",\n",
    "  preserve.width = \"individual\",\n",
    "  scientific = FALSE\n",
    ")"
   ]
  },
  {
   "cell_type": "markdown",
   "metadata": {
    "deletable": true,
    "editable": true
   },
   "source": [
    "#### Carácteres especiales\n",
    "\n",
    "Hay algunos caracteres especiales que se pueden incluir en cadenas. Por ejemplo, podemos insertar un carácter de tabulación usando `\\t`. Para ellos usamos `cat` en lugar de `print`, ya que `print` realiza una conversión extra para convertir `\\t` desde un tab  en una barra invertida y una `t`. El argumento `fill = TRUE` hace que `cat` mueva el cursor a una nueva linea después de que haya terminado:"
   ]
  },
  {
   "cell_type": "code",
   "execution_count": 86,
   "metadata": {
    "collapsed": false,
    "deletable": true,
    "editable": true
   },
   "outputs": [
    {
     "name": "stdout",
     "output_type": "stream",
     "text": [
      "foo\tbar\n"
     ]
    }
   ],
   "source": [
    "cat(\"foo\\tbar\", fill = TRUE)"
   ]
  },
  {
   "cell_type": "markdown",
   "metadata": {
    "deletable": true,
    "editable": true
   },
   "source": [
    "Moviendo el cursor a una nueva linea se hace con el caracter de nueva linea `\\n`:"
   ]
  },
  {
   "cell_type": "code",
   "execution_count": 87,
   "metadata": {
    "collapsed": false,
    "deletable": true,
    "editable": true
   },
   "outputs": [
    {
     "name": "stdout",
     "output_type": "stream",
     "text": [
      "foo\n",
      "bar\n"
     ]
    }
   ],
   "source": [
    "cat(\"foo\\nbar\", fill = TRUE)"
   ]
  },
  {
   "cell_type": "markdown",
   "metadata": {
    "deletable": true,
    "editable": true
   },
   "source": [
    "Los caracteres nulos, `\\0`, se utilizan para terminar cadenas en el código interno de R. Es un error intentar explícitamente incluirlos en una cadena:\n"
   ]
  },
  {
   "cell_type": "code",
   "execution_count": 88,
   "metadata": {
    "collapsed": false,
    "deletable": true,
    "editable": true
   },
   "outputs": [
    {
     "ename": "ERROR",
     "evalue": "Error in parse(text = x, srcfile = src): nul character not allowed (line 1)\n",
     "output_type": "error",
     "traceback": [
      "Error in parse(text = x, srcfile = src): nul character not allowed (line 1)\nTraceback:\n"
     ]
    }
   ],
   "source": [
    "cat(\"foo\\0bar\", fill = TRUE) # lanza un error"
   ]
  },
  {
   "cell_type": "markdown",
   "metadata": {
    "deletable": true,
    "editable": true
   },
   "source": [
    "Los caracteres de barra invertida deben duplicarse para que no se confundan con un carácter especial. En este ejemplo siguiente, las dos barras invertidas hacen sólo una barra invertida en la cadena resultante:"
   ]
  },
  {
   "cell_type": "code",
   "execution_count": 89,
   "metadata": {
    "collapsed": false,
    "deletable": true,
    "editable": true
   },
   "outputs": [
    {
     "name": "stdout",
     "output_type": "stream",
     "text": [
      "foo\\bar\n"
     ]
    }
   ],
   "source": [
    "cat(\"foo\\\\bar\", fill = TRUE)"
   ]
  },
  {
   "cell_type": "markdown",
   "metadata": {
    "deletable": true,
    "editable": true
   },
   "source": [
    "Si utilizamos comillas dobles alrededor de una cadena, los caracteres de comillas dobles deben estar precedidos por una barra invertida para que se puedan mostrar en la salida. Del mismo modo, si usamos comillas simples alrededor de una  cadenas, entonces los caracteres de comillas sueltas deben ser mostrados colocando una barra invertida:\n"
   ]
  },
  {
   "cell_type": "code",
   "execution_count": 90,
   "metadata": {
    "collapsed": false,
    "deletable": true,
    "editable": true
   },
   "outputs": [
    {
     "name": "stdout",
     "output_type": "stream",
     "text": [
      "foo\"bar\n",
      "foo'bar\n"
     ]
    }
   ],
   "source": [
    "cat(\"foo\\\"bar\", fill = TRUE)\n",
    "cat('foo\\'bar', fill = TRUE)"
   ]
  },
  {
   "cell_type": "markdown",
   "metadata": {
    "deletable": true,
    "editable": true
   },
   "source": [
    "\n",
    "Para el caso inverso, se tiene lo siguiente:"
   ]
  },
  {
   "cell_type": "code",
   "execution_count": 91,
   "metadata": {
    "collapsed": false,
    "deletable": true,
    "editable": true
   },
   "outputs": [
    {
     "name": "stdout",
     "output_type": "stream",
     "text": [
      "foo'bar\n",
      "foo\"bar\n"
     ]
    }
   ],
   "source": [
    "cat(\"foo'bar\", fill = TRUE)\n",
    "cat('foo\"bar', fill = TRUE)"
   ]
  },
  {
   "cell_type": "markdown",
   "metadata": {
    "deletable": true,
    "editable": true
   },
   "source": [
    "Podemos hacer que nuestro ordenador emita un pitido al imprimir un carácter de alarma `\\a` aunque la  función  `alarm` puede hacer esto de una manera más legible. Esto puede ser útil para que al final de un largo análisis  notificarnos que se ha terminado:"
   ]
  },
  {
   "cell_type": "code",
   "execution_count": 92,
   "metadata": {
    "collapsed": true,
    "deletable": true,
    "editable": true
   },
   "outputs": [],
   "source": [
    "#cat(\"\\a\")\n",
    "#alarm()"
   ]
  },
  {
   "cell_type": "markdown",
   "metadata": {
    "deletable": true,
    "editable": true
   },
   "source": [
    "Las cadenas  pueden convertir  todos sus valores en mayúsculas o minúsculas utilizando las funciones `toupper` y `tolower`:\n"
   ]
  },
  {
   "cell_type": "code",
   "execution_count": 93,
   "metadata": {
    "collapsed": false,
    "deletable": true,
    "editable": true
   },
   "outputs": [
    {
     "data": {
      "text/html": [
       "'BIENVENIDOS AL CURSO DE R'"
      ],
      "text/latex": [
       "'BIENVENIDOS AL CURSO DE R'"
      ],
      "text/markdown": [
       "'BIENVENIDOS AL CURSO DE R'"
      ],
      "text/plain": [
       "[1] \"BIENVENIDOS AL CURSO DE R\""
      ]
     },
     "metadata": {},
     "output_type": "display_data"
    },
    {
     "data": {
      "text/html": [
       "'python y r son lenguajes amigos'"
      ],
      "text/latex": [
       "'python y r son lenguajes amigos'"
      ],
      "text/markdown": [
       "'python y r son lenguajes amigos'"
      ],
      "text/plain": [
       "[1] \"python y r son lenguajes amigos\""
      ]
     },
     "metadata": {},
     "output_type": "display_data"
    }
   ],
   "source": [
    "toupper(\"Bienvenidos al Curso de R\")\n",
    "tolower(\"PYTHON y R son Lenguajes Amigos\")"
   ]
  },
  {
   "cell_type": "markdown",
   "metadata": {
    "deletable": true,
    "editable": true
   },
   "source": [
    "#### Extrayendo cadenas \n",
    "\n",
    "Hay dos funciones para extraer subcadenas: `substring` y `substr` que se comportan de maneras ligeramente diferentes cuando pasas vectores de diferentes longitudes como argumentos. Para `substring`  la salida es de longitud igual que la mayor longitud de la entradas.  Para `substr` la longitud de la salida  es como la longitud de la primera entrada:"
   ]
  },
  {
   "cell_type": "code",
   "execution_count": 94,
   "metadata": {
    "collapsed": false,
    "deletable": true,
    "editable": true
   },
   "outputs": [
    {
     "data": {
      "text/html": [
       "<ol class=list-inline>\n",
       "\t<li>' Una SVM c'</li>\n",
       "\t<li>'Los árbol'</li>\n",
       "\t<li>'na red b'</li>\n",
       "\t<li>'usterin'</li>\n",
       "\t<li>' SVM c'</li>\n",
       "\t<li>'árbol'</li>\n",
       "</ol>\n"
      ],
      "text/latex": [
       "\\begin{enumerate*}\n",
       "\\item ' Una SVM c'\n",
       "\\item 'Los árbol'\n",
       "\\item 'na red b'\n",
       "\\item 'usterin'\n",
       "\\item ' SVM c'\n",
       "\\item 'árbol'\n",
       "\\end{enumerate*}\n"
      ],
      "text/markdown": [
       "1. ' Una SVM c'\n",
       "2. 'Los árbol'\n",
       "3. 'na red b'\n",
       "4. 'usterin'\n",
       "5. ' SVM c'\n",
       "6. 'árbol'\n",
       "\n",
       "\n"
      ],
      "text/plain": [
       "[1] \" Una SVM c\" \"Los árbol\"  \"na red b\"   \"usterin\"    \" SVM c\"    \n",
       "[6] \"árbol\"     "
      ]
     },
     "metadata": {},
     "output_type": "display_data"
    }
   ],
   "source": [
    "svm <- c(\n",
    "  \" Una SVM construye un hiperplano o conjunto de hiperplanos en un espacio de dimensionalidad\n",
    "    muy alta (o incluso infinita) que puede ser utilizado en problemas de clasificación y regresion\",\n",
    "  \" Los árboles de decisión son muy utilizados a la hora de analizar la toma de decisiones de individuos\",\n",
    "  \" Una red bayesiana, es un modelo probabilístico que representa una serie de variables deazar y sus independencias condicionales a través de un gráfo acíclico dirigido\",\n",
    "  \" Clustering, es un procedimiento de agrupación de una serie de vectores de acuerdo con un criterio\"\n",
    ")\n",
    "substring(svm, 1:6, 10)"
   ]
  },
  {
   "cell_type": "code",
   "execution_count": 95,
   "metadata": {
    "collapsed": false,
    "deletable": true,
    "editable": true
   },
   "outputs": [
    {
     "data": {
      "text/html": [
       "<ol class=list-inline>\n",
       "\t<li>' Una SVM c'</li>\n",
       "\t<li>'Los árbol'</li>\n",
       "\t<li>'na red b'</li>\n",
       "\t<li>'usterin'</li>\n",
       "</ol>\n"
      ],
      "text/latex": [
       "\\begin{enumerate*}\n",
       "\\item ' Una SVM c'\n",
       "\\item 'Los árbol'\n",
       "\\item 'na red b'\n",
       "\\item 'usterin'\n",
       "\\end{enumerate*}\n"
      ],
      "text/markdown": [
       "1. ' Una SVM c'\n",
       "2. 'Los árbol'\n",
       "3. 'na red b'\n",
       "4. 'usterin'\n",
       "\n",
       "\n"
      ],
      "text/plain": [
       "[1] \" Una SVM c\" \"Los árbol\"  \"na red b\"   \"usterin\"   "
      ]
     },
     "metadata": {},
     "output_type": "display_data"
    }
   ],
   "source": [
    "substr(svm, 1:6, 10)"
   ]
  },
  {
   "cell_type": "markdown",
   "metadata": {
    "deletable": true,
    "editable": true
   },
   "source": [
    "#### División de cadenas\n",
    "\n",
    "La función `paste` y funciones similares combinan cadenas. La función `strsplit` hace lo contrario, divide en puntos especificados las cadenas . En el siguiente ejemplo `fixed = TRUE` significa que el argumento `split` es una cadena fija en lugar de una expresión regular:"
   ]
  },
  {
   "cell_type": "code",
   "execution_count": 96,
   "metadata": {
    "collapsed": false,
    "deletable": true,
    "editable": true
   },
   "outputs": [
    {
     "data": {
      "text/html": [
       "<ol>\n",
       "\t<li><ol class=list-inline>\n",
       "\t<li>''</li>\n",
       "\t<li>'Una'</li>\n",
       "\t<li>'SVM'</li>\n",
       "\t<li>'construye'</li>\n",
       "\t<li>'un'</li>\n",
       "\t<li>'hiperplano'</li>\n",
       "\t<li>'o'</li>\n",
       "\t<li>'conjunto'</li>\n",
       "\t<li>'de'</li>\n",
       "\t<li>'hiperplanos'</li>\n",
       "\t<li>'en'</li>\n",
       "\t<li>'un'</li>\n",
       "\t<li>'espacio'</li>\n",
       "\t<li>'de'</li>\n",
       "\t<li>'dimensionalidad\n",
       "'</li>\n",
       "\t<li>''</li>\n",
       "\t<li>''</li>\n",
       "\t<li>''</li>\n",
       "\t<li>'muy'</li>\n",
       "\t<li>'alta'</li>\n",
       "\t<li>'(o'</li>\n",
       "\t<li>'incluso'</li>\n",
       "\t<li>'infinita)'</li>\n",
       "\t<li>'que'</li>\n",
       "\t<li>'puede'</li>\n",
       "\t<li>'ser'</li>\n",
       "\t<li>'utilizado'</li>\n",
       "\t<li>'en'</li>\n",
       "\t<li>'problemas'</li>\n",
       "\t<li>'de'</li>\n",
       "\t<li>'clasificación'</li>\n",
       "\t<li>'y'</li>\n",
       "\t<li>'regresion'</li>\n",
       "</ol>\n",
       "</li>\n",
       "\t<li><ol class=list-inline>\n",
       "\t<li>''</li>\n",
       "\t<li>'Los'</li>\n",
       "\t<li>'árboles'</li>\n",
       "\t<li>'de'</li>\n",
       "\t<li>'decisión'</li>\n",
       "\t<li>'son'</li>\n",
       "\t<li>'muy'</li>\n",
       "\t<li>'utilizados'</li>\n",
       "\t<li>'a'</li>\n",
       "\t<li>'la'</li>\n",
       "\t<li>'hora'</li>\n",
       "\t<li>'de'</li>\n",
       "\t<li>'analizar'</li>\n",
       "\t<li>'la'</li>\n",
       "\t<li>'toma'</li>\n",
       "\t<li>'de'</li>\n",
       "\t<li>'decisiones'</li>\n",
       "\t<li>'de'</li>\n",
       "\t<li>'individuos'</li>\n",
       "</ol>\n",
       "</li>\n",
       "\t<li><ol class=list-inline>\n",
       "\t<li>''</li>\n",
       "\t<li>'Una'</li>\n",
       "\t<li>'red'</li>\n",
       "\t<li>'bayesiana,'</li>\n",
       "\t<li>'es'</li>\n",
       "\t<li>'un'</li>\n",
       "\t<li>'modelo'</li>\n",
       "\t<li>'probabilístico'</li>\n",
       "\t<li>'que'</li>\n",
       "\t<li>'representa'</li>\n",
       "\t<li>'una'</li>\n",
       "\t<li>'serie'</li>\n",
       "\t<li>'de'</li>\n",
       "\t<li>'variables'</li>\n",
       "\t<li>'deazar'</li>\n",
       "\t<li>'y'</li>\n",
       "\t<li>'sus'</li>\n",
       "\t<li>'independencias'</li>\n",
       "\t<li>'condicionales'</li>\n",
       "\t<li>'a'</li>\n",
       "\t<li>'través'</li>\n",
       "\t<li>'de'</li>\n",
       "\t<li>'un'</li>\n",
       "\t<li>'gráfo'</li>\n",
       "\t<li>'acíclico'</li>\n",
       "\t<li>'dirigido'</li>\n",
       "</ol>\n",
       "</li>\n",
       "\t<li><ol class=list-inline>\n",
       "\t<li>''</li>\n",
       "\t<li>'Clustering,'</li>\n",
       "\t<li>'es'</li>\n",
       "\t<li>'un'</li>\n",
       "\t<li>'procedimiento'</li>\n",
       "\t<li>'de'</li>\n",
       "\t<li>'agrupación'</li>\n",
       "\t<li>'de'</li>\n",
       "\t<li>'una'</li>\n",
       "\t<li>'serie'</li>\n",
       "\t<li>'de'</li>\n",
       "\t<li>'vectores'</li>\n",
       "\t<li>'de'</li>\n",
       "\t<li>'acuerdo'</li>\n",
       "\t<li>'con'</li>\n",
       "\t<li>'un'</li>\n",
       "\t<li>'criterio'</li>\n",
       "</ol>\n",
       "</li>\n",
       "</ol>\n"
      ],
      "text/latex": [
       "\\begin{enumerate}\n",
       "\\item \\begin{enumerate*}\n",
       "\\item ''\n",
       "\\item 'Una'\n",
       "\\item 'SVM'\n",
       "\\item 'construye'\n",
       "\\item 'un'\n",
       "\\item 'hiperplano'\n",
       "\\item 'o'\n",
       "\\item 'conjunto'\n",
       "\\item 'de'\n",
       "\\item 'hiperplanos'\n",
       "\\item 'en'\n",
       "\\item 'un'\n",
       "\\item 'espacio'\n",
       "\\item 'de'\n",
       "\\item 'dimensionalidad\n",
       "'\n",
       "\\item ''\n",
       "\\item ''\n",
       "\\item ''\n",
       "\\item 'muy'\n",
       "\\item 'alta'\n",
       "\\item '(o'\n",
       "\\item 'incluso'\n",
       "\\item 'infinita)'\n",
       "\\item 'que'\n",
       "\\item 'puede'\n",
       "\\item 'ser'\n",
       "\\item 'utilizado'\n",
       "\\item 'en'\n",
       "\\item 'problemas'\n",
       "\\item 'de'\n",
       "\\item 'clasificación'\n",
       "\\item 'y'\n",
       "\\item 'regresion'\n",
       "\\end{enumerate*}\n",
       "\n",
       "\\item \\begin{enumerate*}\n",
       "\\item ''\n",
       "\\item 'Los'\n",
       "\\item 'árboles'\n",
       "\\item 'de'\n",
       "\\item 'decisión'\n",
       "\\item 'son'\n",
       "\\item 'muy'\n",
       "\\item 'utilizados'\n",
       "\\item 'a'\n",
       "\\item 'la'\n",
       "\\item 'hora'\n",
       "\\item 'de'\n",
       "\\item 'analizar'\n",
       "\\item 'la'\n",
       "\\item 'toma'\n",
       "\\item 'de'\n",
       "\\item 'decisiones'\n",
       "\\item 'de'\n",
       "\\item 'individuos'\n",
       "\\end{enumerate*}\n",
       "\n",
       "\\item \\begin{enumerate*}\n",
       "\\item ''\n",
       "\\item 'Una'\n",
       "\\item 'red'\n",
       "\\item 'bayesiana,'\n",
       "\\item 'es'\n",
       "\\item 'un'\n",
       "\\item 'modelo'\n",
       "\\item 'probabilístico'\n",
       "\\item 'que'\n",
       "\\item 'representa'\n",
       "\\item 'una'\n",
       "\\item 'serie'\n",
       "\\item 'de'\n",
       "\\item 'variables'\n",
       "\\item 'deazar'\n",
       "\\item 'y'\n",
       "\\item 'sus'\n",
       "\\item 'independencias'\n",
       "\\item 'condicionales'\n",
       "\\item 'a'\n",
       "\\item 'través'\n",
       "\\item 'de'\n",
       "\\item 'un'\n",
       "\\item 'gráfo'\n",
       "\\item 'acíclico'\n",
       "\\item 'dirigido'\n",
       "\\end{enumerate*}\n",
       "\n",
       "\\item \\begin{enumerate*}\n",
       "\\item ''\n",
       "\\item 'Clustering,'\n",
       "\\item 'es'\n",
       "\\item 'un'\n",
       "\\item 'procedimiento'\n",
       "\\item 'de'\n",
       "\\item 'agrupación'\n",
       "\\item 'de'\n",
       "\\item 'una'\n",
       "\\item 'serie'\n",
       "\\item 'de'\n",
       "\\item 'vectores'\n",
       "\\item 'de'\n",
       "\\item 'acuerdo'\n",
       "\\item 'con'\n",
       "\\item 'un'\n",
       "\\item 'criterio'\n",
       "\\end{enumerate*}\n",
       "\n",
       "\\end{enumerate}\n"
      ],
      "text/markdown": [
       "1. 1. ''\n",
       "2. 'Una'\n",
       "3. 'SVM'\n",
       "4. 'construye'\n",
       "5. 'un'\n",
       "6. 'hiperplano'\n",
       "7. 'o'\n",
       "8. 'conjunto'\n",
       "9. 'de'\n",
       "10. 'hiperplanos'\n",
       "11. 'en'\n",
       "12. 'un'\n",
       "13. 'espacio'\n",
       "14. 'de'\n",
       "15. 'dimensionalidad\n",
       "'\n",
       "16. ''\n",
       "17. ''\n",
       "18. ''\n",
       "19. 'muy'\n",
       "20. 'alta'\n",
       "21. '(o'\n",
       "22. 'incluso'\n",
       "23. 'infinita)'\n",
       "24. 'que'\n",
       "25. 'puede'\n",
       "26. 'ser'\n",
       "27. 'utilizado'\n",
       "28. 'en'\n",
       "29. 'problemas'\n",
       "30. 'de'\n",
       "31. 'clasificación'\n",
       "32. 'y'\n",
       "33. 'regresion'\n",
       "\n",
       "\n",
       "\n",
       "2. 1. ''\n",
       "2. 'Los'\n",
       "3. 'árboles'\n",
       "4. 'de'\n",
       "5. 'decisión'\n",
       "6. 'son'\n",
       "7. 'muy'\n",
       "8. 'utilizados'\n",
       "9. 'a'\n",
       "10. 'la'\n",
       "11. 'hora'\n",
       "12. 'de'\n",
       "13. 'analizar'\n",
       "14. 'la'\n",
       "15. 'toma'\n",
       "16. 'de'\n",
       "17. 'decisiones'\n",
       "18. 'de'\n",
       "19. 'individuos'\n",
       "\n",
       "\n",
       "\n",
       "3. 1. ''\n",
       "2. 'Una'\n",
       "3. 'red'\n",
       "4. 'bayesiana,'\n",
       "5. 'es'\n",
       "6. 'un'\n",
       "7. 'modelo'\n",
       "8. 'probabilístico'\n",
       "9. 'que'\n",
       "10. 'representa'\n",
       "11. 'una'\n",
       "12. 'serie'\n",
       "13. 'de'\n",
       "14. 'variables'\n",
       "15. 'deazar'\n",
       "16. 'y'\n",
       "17. 'sus'\n",
       "18. 'independencias'\n",
       "19. 'condicionales'\n",
       "20. 'a'\n",
       "21. 'través'\n",
       "22. 'de'\n",
       "23. 'un'\n",
       "24. 'gráfo'\n",
       "25. 'acíclico'\n",
       "26. 'dirigido'\n",
       "\n",
       "\n",
       "\n",
       "4. 1. ''\n",
       "2. 'Clustering,'\n",
       "3. 'es'\n",
       "4. 'un'\n",
       "5. 'procedimiento'\n",
       "6. 'de'\n",
       "7. 'agrupación'\n",
       "8. 'de'\n",
       "9. 'una'\n",
       "10. 'serie'\n",
       "11. 'de'\n",
       "12. 'vectores'\n",
       "13. 'de'\n",
       "14. 'acuerdo'\n",
       "15. 'con'\n",
       "16. 'un'\n",
       "17. 'criterio'\n",
       "\n",
       "\n",
       "\n",
       "\n",
       "\n"
      ],
      "text/plain": [
       "[[1]]\n",
       " [1] \"\"                  \"Una\"               \"SVM\"              \n",
       " [4] \"construye\"         \"un\"                \"hiperplano\"       \n",
       " [7] \"o\"                 \"conjunto\"          \"de\"               \n",
       "[10] \"hiperplanos\"       \"en\"                \"un\"               \n",
       "[13] \"espacio\"           \"de\"                \"dimensionalidad\\n\"\n",
       "[16] \"\"                  \"\"                  \"\"                 \n",
       "[19] \"muy\"               \"alta\"              \"(o\"               \n",
       "[22] \"incluso\"           \"infinita)\"         \"que\"              \n",
       "[25] \"puede\"             \"ser\"               \"utilizado\"        \n",
       "[28] \"en\"                \"problemas\"         \"de\"               \n",
       "[31] \"clasificación\"     \"y\"                 \"regresion\"        \n",
       "\n",
       "[[2]]\n",
       " [1] \"\"           \"Los\"        \"árboles\"    \"de\"         \"decisión\"  \n",
       " [6] \"son\"        \"muy\"        \"utilizados\" \"a\"          \"la\"        \n",
       "[11] \"hora\"       \"de\"         \"analizar\"   \"la\"         \"toma\"      \n",
       "[16] \"de\"         \"decisiones\" \"de\"         \"individuos\"\n",
       "\n",
       "[[3]]\n",
       " [1] \"\"               \"Una\"            \"red\"            \"bayesiana,\"    \n",
       " [5] \"es\"             \"un\"             \"modelo\"         \"probabilístico\"\n",
       " [9] \"que\"            \"representa\"     \"una\"            \"serie\"         \n",
       "[13] \"de\"             \"variables\"      \"deazar\"         \"y\"             \n",
       "[17] \"sus\"            \"independencias\" \"condicionales\"  \"a\"             \n",
       "[21] \"través\"         \"de\"             \"un\"             \"gráfo\"         \n",
       "[25] \"acíclico\"       \"dirigido\"      \n",
       "\n",
       "[[4]]\n",
       " [1] \"\"              \"Clustering,\"   \"es\"            \"un\"           \n",
       " [5] \"procedimiento\" \"de\"            \"agrupación\"    \"de\"           \n",
       " [9] \"una\"           \"serie\"         \"de\"            \"vectores\"     \n",
       "[13] \"de\"            \"acuerdo\"       \"con\"           \"un\"           \n",
       "[17] \"criterio\"     \n"
      ]
     },
     "metadata": {},
     "output_type": "display_data"
    }
   ],
   "source": [
    "strsplit(svm, \" \", fixed = TRUE)"
   ]
  },
  {
   "cell_type": "markdown",
   "metadata": {
    "deletable": true,
    "editable": true
   },
   "source": [
    "`strsplit` devuelve una lista, esto se debe a que su resultado consiste en vectores de caracteres de longitudes posiblemente diferentes. Cuando sólo pasa una sola cadena como entrada, este hecho es fácil pasar por alto. *Ten cuidado!*.\n",
    "\n",
    "En nuestro ejemplo, las comillas en algunas palabras son algo molestas, sería mejor dividir en una coma opcional seguido por un espacio. Esto se especifica fácilmente usando una expresión regular. `? ` significa *hacer que el carácter anterior sea opcional*:"
   ]
  },
  {
   "cell_type": "code",
   "execution_count": 97,
   "metadata": {
    "collapsed": false,
    "deletable": true,
    "editable": true
   },
   "outputs": [
    {
     "data": {
      "text/html": [
       "<ol>\n",
       "\t<li><ol class=list-inline>\n",
       "\t<li>''</li>\n",
       "\t<li>'Una'</li>\n",
       "\t<li>'SVM'</li>\n",
       "\t<li>'construye'</li>\n",
       "\t<li>'un'</li>\n",
       "\t<li>'hiperplano'</li>\n",
       "\t<li>'o'</li>\n",
       "\t<li>'conjunto'</li>\n",
       "\t<li>'de'</li>\n",
       "\t<li>'hiperplanos'</li>\n",
       "\t<li>'en'</li>\n",
       "\t<li>'un'</li>\n",
       "\t<li>'espacio'</li>\n",
       "\t<li>'de'</li>\n",
       "\t<li>'dimensionalidad\n",
       "'</li>\n",
       "\t<li>''</li>\n",
       "\t<li>''</li>\n",
       "\t<li>''</li>\n",
       "\t<li>'muy'</li>\n",
       "\t<li>'alta'</li>\n",
       "\t<li>'(o'</li>\n",
       "\t<li>'incluso'</li>\n",
       "\t<li>'infinita)'</li>\n",
       "\t<li>'que'</li>\n",
       "\t<li>'puede'</li>\n",
       "\t<li>'ser'</li>\n",
       "\t<li>'utilizado'</li>\n",
       "\t<li>'en'</li>\n",
       "\t<li>'problemas'</li>\n",
       "\t<li>'de'</li>\n",
       "\t<li>'clasificación'</li>\n",
       "\t<li>'y'</li>\n",
       "\t<li>'regresion'</li>\n",
       "</ol>\n",
       "</li>\n",
       "\t<li><ol class=list-inline>\n",
       "\t<li>''</li>\n",
       "\t<li>'Los'</li>\n",
       "\t<li>'árboles'</li>\n",
       "\t<li>'de'</li>\n",
       "\t<li>'decisión'</li>\n",
       "\t<li>'son'</li>\n",
       "\t<li>'muy'</li>\n",
       "\t<li>'utilizados'</li>\n",
       "\t<li>'a'</li>\n",
       "\t<li>'la'</li>\n",
       "\t<li>'hora'</li>\n",
       "\t<li>'de'</li>\n",
       "\t<li>'analizar'</li>\n",
       "\t<li>'la'</li>\n",
       "\t<li>'toma'</li>\n",
       "\t<li>'de'</li>\n",
       "\t<li>'decisiones'</li>\n",
       "\t<li>'de'</li>\n",
       "\t<li>'individuos'</li>\n",
       "</ol>\n",
       "</li>\n",
       "\t<li><ol class=list-inline>\n",
       "\t<li>''</li>\n",
       "\t<li>'Una'</li>\n",
       "\t<li>'red'</li>\n",
       "\t<li>'bayesiana'</li>\n",
       "\t<li>'es'</li>\n",
       "\t<li>'un'</li>\n",
       "\t<li>'modelo'</li>\n",
       "\t<li>'probabilístico'</li>\n",
       "\t<li>'que'</li>\n",
       "\t<li>'representa'</li>\n",
       "\t<li>'una'</li>\n",
       "\t<li>'serie'</li>\n",
       "\t<li>'de'</li>\n",
       "\t<li>'variables'</li>\n",
       "\t<li>'deazar'</li>\n",
       "\t<li>'y'</li>\n",
       "\t<li>'sus'</li>\n",
       "\t<li>'independencias'</li>\n",
       "\t<li>'condicionales'</li>\n",
       "\t<li>'a'</li>\n",
       "\t<li>'través'</li>\n",
       "\t<li>'de'</li>\n",
       "\t<li>'un'</li>\n",
       "\t<li>'gráfo'</li>\n",
       "\t<li>'acíclico'</li>\n",
       "\t<li>'dirigido'</li>\n",
       "</ol>\n",
       "</li>\n",
       "\t<li><ol class=list-inline>\n",
       "\t<li>''</li>\n",
       "\t<li>'Clustering'</li>\n",
       "\t<li>'es'</li>\n",
       "\t<li>'un'</li>\n",
       "\t<li>'procedimiento'</li>\n",
       "\t<li>'de'</li>\n",
       "\t<li>'agrupación'</li>\n",
       "\t<li>'de'</li>\n",
       "\t<li>'una'</li>\n",
       "\t<li>'serie'</li>\n",
       "\t<li>'de'</li>\n",
       "\t<li>'vectores'</li>\n",
       "\t<li>'de'</li>\n",
       "\t<li>'acuerdo'</li>\n",
       "\t<li>'con'</li>\n",
       "\t<li>'un'</li>\n",
       "\t<li>'criterio'</li>\n",
       "</ol>\n",
       "</li>\n",
       "</ol>\n"
      ],
      "text/latex": [
       "\\begin{enumerate}\n",
       "\\item \\begin{enumerate*}\n",
       "\\item ''\n",
       "\\item 'Una'\n",
       "\\item 'SVM'\n",
       "\\item 'construye'\n",
       "\\item 'un'\n",
       "\\item 'hiperplano'\n",
       "\\item 'o'\n",
       "\\item 'conjunto'\n",
       "\\item 'de'\n",
       "\\item 'hiperplanos'\n",
       "\\item 'en'\n",
       "\\item 'un'\n",
       "\\item 'espacio'\n",
       "\\item 'de'\n",
       "\\item 'dimensionalidad\n",
       "'\n",
       "\\item ''\n",
       "\\item ''\n",
       "\\item ''\n",
       "\\item 'muy'\n",
       "\\item 'alta'\n",
       "\\item '(o'\n",
       "\\item 'incluso'\n",
       "\\item 'infinita)'\n",
       "\\item 'que'\n",
       "\\item 'puede'\n",
       "\\item 'ser'\n",
       "\\item 'utilizado'\n",
       "\\item 'en'\n",
       "\\item 'problemas'\n",
       "\\item 'de'\n",
       "\\item 'clasificación'\n",
       "\\item 'y'\n",
       "\\item 'regresion'\n",
       "\\end{enumerate*}\n",
       "\n",
       "\\item \\begin{enumerate*}\n",
       "\\item ''\n",
       "\\item 'Los'\n",
       "\\item 'árboles'\n",
       "\\item 'de'\n",
       "\\item 'decisión'\n",
       "\\item 'son'\n",
       "\\item 'muy'\n",
       "\\item 'utilizados'\n",
       "\\item 'a'\n",
       "\\item 'la'\n",
       "\\item 'hora'\n",
       "\\item 'de'\n",
       "\\item 'analizar'\n",
       "\\item 'la'\n",
       "\\item 'toma'\n",
       "\\item 'de'\n",
       "\\item 'decisiones'\n",
       "\\item 'de'\n",
       "\\item 'individuos'\n",
       "\\end{enumerate*}\n",
       "\n",
       "\\item \\begin{enumerate*}\n",
       "\\item ''\n",
       "\\item 'Una'\n",
       "\\item 'red'\n",
       "\\item 'bayesiana'\n",
       "\\item 'es'\n",
       "\\item 'un'\n",
       "\\item 'modelo'\n",
       "\\item 'probabilístico'\n",
       "\\item 'que'\n",
       "\\item 'representa'\n",
       "\\item 'una'\n",
       "\\item 'serie'\n",
       "\\item 'de'\n",
       "\\item 'variables'\n",
       "\\item 'deazar'\n",
       "\\item 'y'\n",
       "\\item 'sus'\n",
       "\\item 'independencias'\n",
       "\\item 'condicionales'\n",
       "\\item 'a'\n",
       "\\item 'través'\n",
       "\\item 'de'\n",
       "\\item 'un'\n",
       "\\item 'gráfo'\n",
       "\\item 'acíclico'\n",
       "\\item 'dirigido'\n",
       "\\end{enumerate*}\n",
       "\n",
       "\\item \\begin{enumerate*}\n",
       "\\item ''\n",
       "\\item 'Clustering'\n",
       "\\item 'es'\n",
       "\\item 'un'\n",
       "\\item 'procedimiento'\n",
       "\\item 'de'\n",
       "\\item 'agrupación'\n",
       "\\item 'de'\n",
       "\\item 'una'\n",
       "\\item 'serie'\n",
       "\\item 'de'\n",
       "\\item 'vectores'\n",
       "\\item 'de'\n",
       "\\item 'acuerdo'\n",
       "\\item 'con'\n",
       "\\item 'un'\n",
       "\\item 'criterio'\n",
       "\\end{enumerate*}\n",
       "\n",
       "\\end{enumerate}\n"
      ],
      "text/markdown": [
       "1. 1. ''\n",
       "2. 'Una'\n",
       "3. 'SVM'\n",
       "4. 'construye'\n",
       "5. 'un'\n",
       "6. 'hiperplano'\n",
       "7. 'o'\n",
       "8. 'conjunto'\n",
       "9. 'de'\n",
       "10. 'hiperplanos'\n",
       "11. 'en'\n",
       "12. 'un'\n",
       "13. 'espacio'\n",
       "14. 'de'\n",
       "15. 'dimensionalidad\n",
       "'\n",
       "16. ''\n",
       "17. ''\n",
       "18. ''\n",
       "19. 'muy'\n",
       "20. 'alta'\n",
       "21. '(o'\n",
       "22. 'incluso'\n",
       "23. 'infinita)'\n",
       "24. 'que'\n",
       "25. 'puede'\n",
       "26. 'ser'\n",
       "27. 'utilizado'\n",
       "28. 'en'\n",
       "29. 'problemas'\n",
       "30. 'de'\n",
       "31. 'clasificación'\n",
       "32. 'y'\n",
       "33. 'regresion'\n",
       "\n",
       "\n",
       "\n",
       "2. 1. ''\n",
       "2. 'Los'\n",
       "3. 'árboles'\n",
       "4. 'de'\n",
       "5. 'decisión'\n",
       "6. 'son'\n",
       "7. 'muy'\n",
       "8. 'utilizados'\n",
       "9. 'a'\n",
       "10. 'la'\n",
       "11. 'hora'\n",
       "12. 'de'\n",
       "13. 'analizar'\n",
       "14. 'la'\n",
       "15. 'toma'\n",
       "16. 'de'\n",
       "17. 'decisiones'\n",
       "18. 'de'\n",
       "19. 'individuos'\n",
       "\n",
       "\n",
       "\n",
       "3. 1. ''\n",
       "2. 'Una'\n",
       "3. 'red'\n",
       "4. 'bayesiana'\n",
       "5. 'es'\n",
       "6. 'un'\n",
       "7. 'modelo'\n",
       "8. 'probabilístico'\n",
       "9. 'que'\n",
       "10. 'representa'\n",
       "11. 'una'\n",
       "12. 'serie'\n",
       "13. 'de'\n",
       "14. 'variables'\n",
       "15. 'deazar'\n",
       "16. 'y'\n",
       "17. 'sus'\n",
       "18. 'independencias'\n",
       "19. 'condicionales'\n",
       "20. 'a'\n",
       "21. 'través'\n",
       "22. 'de'\n",
       "23. 'un'\n",
       "24. 'gráfo'\n",
       "25. 'acíclico'\n",
       "26. 'dirigido'\n",
       "\n",
       "\n",
       "\n",
       "4. 1. ''\n",
       "2. 'Clustering'\n",
       "3. 'es'\n",
       "4. 'un'\n",
       "5. 'procedimiento'\n",
       "6. 'de'\n",
       "7. 'agrupación'\n",
       "8. 'de'\n",
       "9. 'una'\n",
       "10. 'serie'\n",
       "11. 'de'\n",
       "12. 'vectores'\n",
       "13. 'de'\n",
       "14. 'acuerdo'\n",
       "15. 'con'\n",
       "16. 'un'\n",
       "17. 'criterio'\n",
       "\n",
       "\n",
       "\n",
       "\n",
       "\n"
      ],
      "text/plain": [
       "[[1]]\n",
       " [1] \"\"                  \"Una\"               \"SVM\"              \n",
       " [4] \"construye\"         \"un\"                \"hiperplano\"       \n",
       " [7] \"o\"                 \"conjunto\"          \"de\"               \n",
       "[10] \"hiperplanos\"       \"en\"                \"un\"               \n",
       "[13] \"espacio\"           \"de\"                \"dimensionalidad\\n\"\n",
       "[16] \"\"                  \"\"                  \"\"                 \n",
       "[19] \"muy\"               \"alta\"              \"(o\"               \n",
       "[22] \"incluso\"           \"infinita)\"         \"que\"              \n",
       "[25] \"puede\"             \"ser\"               \"utilizado\"        \n",
       "[28] \"en\"                \"problemas\"         \"de\"               \n",
       "[31] \"clasificación\"     \"y\"                 \"regresion\"        \n",
       "\n",
       "[[2]]\n",
       " [1] \"\"           \"Los\"        \"árboles\"    \"de\"         \"decisión\"  \n",
       " [6] \"son\"        \"muy\"        \"utilizados\" \"a\"          \"la\"        \n",
       "[11] \"hora\"       \"de\"         \"analizar\"   \"la\"         \"toma\"      \n",
       "[16] \"de\"         \"decisiones\" \"de\"         \"individuos\"\n",
       "\n",
       "[[3]]\n",
       " [1] \"\"               \"Una\"            \"red\"            \"bayesiana\"     \n",
       " [5] \"es\"             \"un\"             \"modelo\"         \"probabilístico\"\n",
       " [9] \"que\"            \"representa\"     \"una\"            \"serie\"         \n",
       "[13] \"de\"             \"variables\"      \"deazar\"         \"y\"             \n",
       "[17] \"sus\"            \"independencias\" \"condicionales\"  \"a\"             \n",
       "[21] \"través\"         \"de\"             \"un\"             \"gráfo\"         \n",
       "[25] \"acíclico\"       \"dirigido\"      \n",
       "\n",
       "[[4]]\n",
       " [1] \"\"              \"Clustering\"    \"es\"            \"un\"           \n",
       " [5] \"procedimiento\" \"de\"            \"agrupación\"    \"de\"           \n",
       " [9] \"una\"           \"serie\"         \"de\"            \"vectores\"     \n",
       "[13] \"de\"            \"acuerdo\"       \"con\"           \"un\"           \n",
       "[17] \"criterio\"     \n"
      ]
     },
     "metadata": {},
     "output_type": "display_data"
    }
   ],
   "source": [
    "strsplit(svm, \",? \")"
   ]
  },
  {
   "cell_type": "markdown",
   "metadata": {
    "deletable": true,
    "editable": true
   },
   "source": [
    "### Rutas de archivo\n",
    "\n",
    "\n",
    "R tiene un directorio de trabajo, que es el lugar predeterminado en el que se leerán o escribirán los archivos. Se puede  ver esa ubicación con `getwd`  y cambiar esa ubicación con `setwd`:"
   ]
  },
  {
   "cell_type": "code",
   "execution_count": 98,
   "metadata": {
    "collapsed": false,
    "deletable": true,
    "editable": true
   },
   "outputs": [
    {
     "data": {
      "text/html": [
       "'/home/c-lara/Escritorio'"
      ],
      "text/latex": [
       "'/home/c-lara/Escritorio'"
      ],
      "text/markdown": [
       "'/home/c-lara/Escritorio'"
      ],
      "text/plain": [
       "[1] \"/home/c-lara/Escritorio\""
      ]
     },
     "metadata": {},
     "output_type": "display_data"
    }
   ],
   "source": [
    "getwd()"
   ]
  },
  {
   "cell_type": "markdown",
   "metadata": {
    "deletable": true,
    "editable": true
   },
   "source": [
    "De lo anterior da cuenta que los componentes de directorio de cada ruta están separados por barras diagonales, aunque sean rutas de acceso de Windows. Para la portabilidad  en R siempre puede especificar rutas con barras diagonales, y las funciones de manejo de archivos reemplazarán mágicamente con barras diagonales inversas si el sistema operativo las necesita.\n",
    "\n",
    "La función `basename` devuelve el nombre de un archivo sin la ubicación del directorio anterior. Por el contrario, `dirname` devuelve el nombre del directorio en el que se encuentra un archivo."
   ]
  },
  {
   "cell_type": "code",
   "execution_count": 99,
   "metadata": {
    "collapsed": false,
    "deletable": true,
    "editable": true
   },
   "outputs": [
    {
     "data": {
      "text/html": [
       "'Escritorio'"
      ],
      "text/latex": [
       "'Escritorio'"
      ],
      "text/markdown": [
       "'Escritorio'"
      ],
      "text/plain": [
       "[1] \"Escritorio\""
      ]
     },
     "metadata": {},
     "output_type": "display_data"
    },
    {
     "data": {
      "text/html": [
       "'/home/c-lara'"
      ],
      "text/latex": [
       "'/home/c-lara'"
      ],
      "text/markdown": [
       "'/home/c-lara'"
      ],
      "text/plain": [
       "[1] \"/home/c-lara\""
      ]
     },
     "metadata": {},
     "output_type": "display_data"
    }
   ],
   "source": [
    "basename(getwd())\n",
    "dirname(getwd())"
   ]
  },
  {
   "cell_type": "markdown",
   "metadata": {
    "deletable": true,
    "editable": true
   },
   "source": [
    "## Factores\n",
    "\n",
    "Los factores son un tipo de variable para almacenar variables categóricas. A veces se comportan como cadenas  y a veces como números enteros."
   ]
  },
  {
   "cell_type": "markdown",
   "metadata": {
    "deletable": true,
    "editable": true
   },
   "source": [
    "#### Creación de factores\n",
    "\n",
    "Siempre que se crea un data frame con una columna de datos de texto, R asumirá por defecto que el texto es de  datos categóricos y realiza alguna conversión. El siguiente ejemplo de conjunto de datos contiene las alturas de 10 adultos al azar:"
   ]
  },
  {
   "cell_type": "code",
   "execution_count": 100,
   "metadata": {
    "collapsed": false,
    "deletable": true,
    "editable": true
   },
   "outputs": [
    {
     "data": {
      "text/html": [
       "<table>\n",
       "<thead><tr><th scope=col>altura_cm</th><th scope=col>genero</th></tr></thead>\n",
       "<tbody>\n",
       "\t<tr><td>153      </td><td>femenino </td></tr>\n",
       "\t<tr><td>181      </td><td>masculino</td></tr>\n",
       "\t<tr><td>150      </td><td>femenino </td></tr>\n",
       "\t<tr><td>172      </td><td>masculino</td></tr>\n",
       "\t<tr><td>165      </td><td>masculino</td></tr>\n",
       "\t<tr><td>149      </td><td>femenino </td></tr>\n",
       "\t<tr><td>174      </td><td>femenino </td></tr>\n",
       "\t<tr><td>169      </td><td>masculino</td></tr>\n",
       "\t<tr><td>198      </td><td>masculino</td></tr>\n",
       "\t<tr><td>163      </td><td>femenino </td></tr>\n",
       "</tbody>\n",
       "</table>\n"
      ],
      "text/latex": [
       "\\begin{tabular}{r|ll}\n",
       " altura\\_cm & genero\\\\\n",
       "\\hline\n",
       "\t 153       & femenino \\\\\n",
       "\t 181       & masculino\\\\\n",
       "\t 150       & femenino \\\\\n",
       "\t 172       & masculino\\\\\n",
       "\t 165       & masculino\\\\\n",
       "\t 149       & femenino \\\\\n",
       "\t 174       & femenino \\\\\n",
       "\t 169       & masculino\\\\\n",
       "\t 198       & masculino\\\\\n",
       "\t 163       & femenino \\\\\n",
       "\\end{tabular}\n"
      ],
      "text/markdown": [
       "\n",
       "altura_cm | genero | \n",
       "|---|---|---|---|---|---|---|---|---|---|\n",
       "| 153       | femenino  | \n",
       "| 181       | masculino | \n",
       "| 150       | femenino  | \n",
       "| 172       | masculino | \n",
       "| 165       | masculino | \n",
       "| 149       | femenino  | \n",
       "| 174       | femenino  | \n",
       "| 169       | masculino | \n",
       "| 198       | masculino | \n",
       "| 163       | femenino  | \n",
       "\n",
       "\n"
      ],
      "text/plain": [
       "   altura_cm genero   \n",
       "1  153       femenino \n",
       "2  181       masculino\n",
       "3  150       femenino \n",
       "4  172       masculino\n",
       "5  165       masculino\n",
       "6  149       femenino \n",
       "7  174       femenino \n",
       "8  169       masculino\n",
       "9  198       masculino\n",
       "10 163       femenino "
      ]
     },
     "metadata": {},
     "output_type": "display_data"
    }
   ],
   "source": [
    "(alturas <- data.frame(\n",
    "    altura_cm = c(153, 181, 150, 172, 165, 149, 174, 169, 198, 163),\n",
    "    genero = c(\n",
    "        \"femenino\", \"masculino\", \"femenino\", \"masculino\", \"masculino\",\n",
    "        \"femenino\", \"femenino\", \"masculino\", \"masculino\", \"femenino\"\n",
    "    )\n",
    "))"
   ]
  },
  {
   "cell_type": "markdown",
   "metadata": {
    "deletable": true,
    "editable": true
   },
   "source": [
    "Al inspeccionar la clase de la columna de `genero` podemos ver que no es, como es de esperarse, un vector de caracteres, pero es de hecho un factor:"
   ]
  },
  {
   "cell_type": "code",
   "execution_count": 101,
   "metadata": {
    "collapsed": false,
    "deletable": true,
    "editable": true
   },
   "outputs": [
    {
     "data": {
      "text/html": [
       "'factor'"
      ],
      "text/latex": [
       "'factor'"
      ],
      "text/markdown": [
       "'factor'"
      ],
      "text/plain": [
       "[1] \"factor\""
      ]
     },
     "metadata": {},
     "output_type": "display_data"
    }
   ],
   "source": [
    "class(alturas$genero)"
   ]
  },
  {
   "cell_type": "markdown",
   "metadata": {
    "deletable": true,
    "editable": true
   },
   "source": [
    "Imprimiendo las columnas  revelan un poco más de información acerca de la naturaleza de un factor:"
   ]
  },
  {
   "cell_type": "code",
   "execution_count": 102,
   "metadata": {
    "collapsed": false,
    "deletable": true,
    "editable": true
   },
   "outputs": [
    {
     "data": {
      "text/html": [
       "<ol class=list-inline>\n",
       "\t<li>femenino</li>\n",
       "\t<li>masculino</li>\n",
       "\t<li>femenino</li>\n",
       "\t<li>masculino</li>\n",
       "\t<li>masculino</li>\n",
       "\t<li>femenino</li>\n",
       "\t<li>femenino</li>\n",
       "\t<li>masculino</li>\n",
       "\t<li>masculino</li>\n",
       "\t<li>femenino</li>\n",
       "</ol>\n"
      ],
      "text/latex": [
       "\\begin{enumerate*}\n",
       "\\item femenino\n",
       "\\item masculino\n",
       "\\item femenino\n",
       "\\item masculino\n",
       "\\item masculino\n",
       "\\item femenino\n",
       "\\item femenino\n",
       "\\item masculino\n",
       "\\item masculino\n",
       "\\item femenino\n",
       "\\end{enumerate*}\n"
      ],
      "text/markdown": [
       "1. femenino\n",
       "2. masculino\n",
       "3. femenino\n",
       "4. masculino\n",
       "5. masculino\n",
       "6. femenino\n",
       "7. femenino\n",
       "8. masculino\n",
       "9. masculino\n",
       "10. femenino\n",
       "\n",
       "\n"
      ],
      "text/plain": [
       " [1] femenino  masculino femenino  masculino masculino femenino  femenino \n",
       " [8] masculino masculino femenino \n",
       "Levels: femenino masculino"
      ]
     },
     "metadata": {},
     "output_type": "display_data"
    }
   ],
   "source": [
    "alturas$genero"
   ]
  },
  {
   "cell_type": "code",
   "execution_count": 103,
   "metadata": {
    "collapsed": false,
    "deletable": true,
    "editable": true
   },
   "outputs": [
    {
     "data": {
      "text/html": [
       "<ol class=list-inline>\n",
       "\t<li>'femenino'</li>\n",
       "\t<li>'masculino'</li>\n",
       "</ol>\n"
      ],
      "text/latex": [
       "\\begin{enumerate*}\n",
       "\\item 'femenino'\n",
       "\\item 'masculino'\n",
       "\\end{enumerate*}\n"
      ],
      "text/markdown": [
       "1. 'femenino'\n",
       "2. 'masculino'\n",
       "\n",
       "\n"
      ],
      "text/plain": [
       "[1] \"femenino\"  \"masculino\""
      ]
     },
     "metadata": {},
     "output_type": "display_data"
    }
   ],
   "source": [
    "levels(alturas$genero)"
   ]
  },
  {
   "cell_type": "markdown",
   "metadata": {
    "deletable": true,
    "editable": true
   },
   "source": [
    "Cada valor del factor es una cadena que está restringida a ser \"femenino\", \"masculino\" o NA. Esta restricción se hace evidente si tratamos de agregar una cadena diferente a los géneros:"
   ]
  },
  {
   "cell_type": "code",
   "execution_count": 104,
   "metadata": {
    "collapsed": false,
    "deletable": true,
    "editable": true
   },
   "outputs": [
    {
     "name": "stderr",
     "output_type": "stream",
     "text": [
      "Warning message in `[<-.factor`(`*tmp*`, 1, value = \"Femenino\"):\n",
      "“invalid factor level, NA generated”"
     ]
    }
   ],
   "source": [
    "alturas$genero[1] <- \"Femenino\""
   ]
  },
  {
   "cell_type": "markdown",
   "metadata": {
    "deletable": true,
    "editable": true
   },
   "source": [
    "Las opciones *femenino* y *masculino* se llaman `niveles` del factor y se pueden recuperar con la función `levels()`:"
   ]
  },
  {
   "cell_type": "code",
   "execution_count": 105,
   "metadata": {
    "collapsed": false,
    "deletable": true,
    "editable": true
   },
   "outputs": [
    {
     "data": {
      "text/html": [
       "<ol class=list-inline>\n",
       "\t<li>NA</li>\n",
       "\t<li>masculino</li>\n",
       "\t<li>femenino</li>\n",
       "\t<li>masculino</li>\n",
       "\t<li>masculino</li>\n",
       "\t<li>femenino</li>\n",
       "\t<li>femenino</li>\n",
       "\t<li>masculino</li>\n",
       "\t<li>masculino</li>\n",
       "\t<li>femenino</li>\n",
       "</ol>\n"
      ],
      "text/latex": [
       "\\begin{enumerate*}\n",
       "\\item NA\n",
       "\\item masculino\n",
       "\\item femenino\n",
       "\\item masculino\n",
       "\\item masculino\n",
       "\\item femenino\n",
       "\\item femenino\n",
       "\\item masculino\n",
       "\\item masculino\n",
       "\\item femenino\n",
       "\\end{enumerate*}\n"
      ],
      "text/markdown": [
       "1. NA\n",
       "2. masculino\n",
       "3. femenino\n",
       "4. masculino\n",
       "5. masculino\n",
       "6. femenino\n",
       "7. femenino\n",
       "8. masculino\n",
       "9. masculino\n",
       "10. femenino\n",
       "\n",
       "\n"
      ],
      "text/plain": [
       " [1] <NA>      masculino femenino  masculino masculino femenino  femenino \n",
       " [8] masculino masculino femenino \n",
       "Levels: femenino masculino"
      ]
     },
     "metadata": {},
     "output_type": "display_data"
    },
    {
     "data": {
      "text/html": [
       "<ol class=list-inline>\n",
       "\t<li>'femenino'</li>\n",
       "\t<li>'masculino'</li>\n",
       "</ol>\n"
      ],
      "text/latex": [
       "\\begin{enumerate*}\n",
       "\\item 'femenino'\n",
       "\\item 'masculino'\n",
       "\\end{enumerate*}\n"
      ],
      "text/markdown": [
       "1. 'femenino'\n",
       "2. 'masculino'\n",
       "\n",
       "\n"
      ],
      "text/plain": [
       "[1] \"femenino\"  \"masculino\""
      ]
     },
     "metadata": {},
     "output_type": "display_data"
    }
   ],
   "source": [
    "alturas$genero\n",
    "levels(alturas$genero)"
   ]
  },
  {
   "cell_type": "markdown",
   "metadata": {
    "deletable": true,
    "editable": true
   },
   "source": [
    "El número de estos niveles (equivalente a la longitud de los niveles del factor) puede ser encontrados  con la función `nlevels()`:"
   ]
  },
  {
   "cell_type": "code",
   "execution_count": 106,
   "metadata": {
    "collapsed": false,
    "deletable": true,
    "editable": true
   },
   "outputs": [
    {
     "data": {
      "text/html": [
       "2"
      ],
      "text/latex": [
       "2"
      ],
      "text/markdown": [
       "2"
      ],
      "text/plain": [
       "[1] 2"
      ]
     },
     "metadata": {},
     "output_type": "display_data"
    }
   ],
   "source": [
    "nlevels(alturas$genero)"
   ]
  },
  {
   "cell_type": "markdown",
   "metadata": {
    "deletable": true,
    "editable": true
   },
   "source": [
    "Además de su creación automática dentro de los datas frames, se  pueden  crear factores utilizando la función `factor`. El primer argumento (y sólo obligatorio) es un vector de caracteres:"
   ]
  },
  {
   "cell_type": "code",
   "execution_count": 107,
   "metadata": {
    "collapsed": true,
    "deletable": true,
    "editable": true
   },
   "outputs": [],
   "source": [
    "help(factor)"
   ]
  },
  {
   "cell_type": "code",
   "execution_count": 108,
   "metadata": {
    "collapsed": false,
    "deletable": true,
    "editable": true
   },
   "outputs": [
    {
     "data": {
      "text/html": [
       "'factor'"
      ],
      "text/latex": [
       "'factor'"
      ],
      "text/markdown": [
       "'factor'"
      ],
      "text/plain": [
       "[1] \"factor\""
      ]
     },
     "metadata": {},
     "output_type": "display_data"
    },
    {
     "data": {
      "text/html": [
       "<ol class=list-inline>\n",
       "\t<li>'Cesar'</li>\n",
       "\t<li>'Jessica'</li>\n",
       "</ol>\n"
      ],
      "text/latex": [
       "\\begin{enumerate*}\n",
       "\\item 'Cesar'\n",
       "\\item 'Jessica'\n",
       "\\end{enumerate*}\n"
      ],
      "text/markdown": [
       "1. 'Cesar'\n",
       "2. 'Jessica'\n",
       "\n",
       "\n"
      ],
      "text/plain": [
       "[1] \"Cesar\"   \"Jessica\""
      ]
     },
     "metadata": {},
     "output_type": "display_data"
    }
   ],
   "source": [
    "# Ejemplo de repaso\n",
    "\n",
    "x <- factor(c(\"Jessica\", \"Cesar\", \"Cesar\", \"Jessica\"))\n",
    "class(x)\n",
    "levels(x)\n"
   ]
  },
  {
   "cell_type": "code",
   "execution_count": 109,
   "metadata": {
    "collapsed": false,
    "deletable": true,
    "editable": true
   },
   "outputs": [
    {
     "name": "stderr",
     "output_type": "stream",
     "text": [
      "Warning message in `[<-.factor`(`*tmp*`, 2, value = \"Python\"):\n",
      "“invalid factor level, NA generated”"
     ]
    },
    {
     "data": {
      "text/html": [
       "<ol class=list-inline>\n",
       "\t<li>Jessica</li>\n",
       "\t<li>NA</li>\n",
       "\t<li>Cesar</li>\n",
       "\t<li>Jessica</li>\n",
       "</ol>\n"
      ],
      "text/latex": [
       "\\begin{enumerate*}\n",
       "\\item Jessica\n",
       "\\item NA\n",
       "\\item Cesar\n",
       "\\item Jessica\n",
       "\\end{enumerate*}\n"
      ],
      "text/markdown": [
       "1. Jessica\n",
       "2. NA\n",
       "3. Cesar\n",
       "4. Jessica\n",
       "\n",
       "\n"
      ],
      "text/plain": [
       "[1] Jessica <NA>    Cesar   Jessica\n",
       "Levels: Cesar Jessica"
      ]
     },
     "metadata": {},
     "output_type": "display_data"
    },
    {
     "data": {
      "text/html": [
       "<ol class=list-inline>\n",
       "\t<li>1</li>\n",
       "\t<li>1</li>\n",
       "</ol>\n"
      ],
      "text/latex": [
       "\\begin{enumerate*}\n",
       "\\item 1\n",
       "\\item 1\n",
       "\\end{enumerate*}\n"
      ],
      "text/markdown": [
       "1. 1\n",
       "2. 1\n",
       "\n",
       "\n"
      ],
      "text/plain": [
       "[1] 1 1"
      ]
     },
     "metadata": {},
     "output_type": "display_data"
    }
   ],
   "source": [
    "# No puede utilizar l valores que no están en los niveles\n",
    "x[2] <- \"Python\"\n",
    "x\n",
    "\n",
    "c(factor(\"Jessica\"), factor(\"Cesar\"))"
   ]
  },
  {
   "cell_type": "code",
   "execution_count": 110,
   "metadata": {
    "collapsed": false,
    "deletable": true,
    "editable": true
   },
   "outputs": [
    {
     "data": {
      "text/html": [
       "<ol class=list-inline>\n",
       "\t<li>femenino</li>\n",
       "\t<li>masculino</li>\n",
       "\t<li>femenino</li>\n",
       "\t<li>masculino</li>\n",
       "\t<li>masculino</li>\n",
       "\t<li>femenino</li>\n",
       "\t<li>femenino</li>\n",
       "\t<li>masculino</li>\n",
       "\t<li>masculino</li>\n",
       "\t<li>femenino</li>\n",
       "</ol>\n"
      ],
      "text/latex": [
       "\\begin{enumerate*}\n",
       "\\item femenino\n",
       "\\item masculino\n",
       "\\item femenino\n",
       "\\item masculino\n",
       "\\item masculino\n",
       "\\item femenino\n",
       "\\item femenino\n",
       "\\item masculino\n",
       "\\item masculino\n",
       "\\item femenino\n",
       "\\end{enumerate*}\n"
      ],
      "text/markdown": [
       "1. femenino\n",
       "2. masculino\n",
       "3. femenino\n",
       "4. masculino\n",
       "5. masculino\n",
       "6. femenino\n",
       "7. femenino\n",
       "8. masculino\n",
       "9. masculino\n",
       "10. femenino\n",
       "\n",
       "\n"
      ],
      "text/plain": [
       " [1] femenino  masculino femenino  masculino masculino femenino  femenino \n",
       " [8] masculino masculino femenino \n",
       "Levels: femenino masculino"
      ]
     },
     "metadata": {},
     "output_type": "display_data"
    },
    {
     "data": {
      "text/html": [
       "<ol class=list-inline>\n",
       "\t<li>'femenino'</li>\n",
       "\t<li>'masculino'</li>\n",
       "</ol>\n"
      ],
      "text/latex": [
       "\\begin{enumerate*}\n",
       "\\item 'femenino'\n",
       "\\item 'masculino'\n",
       "\\end{enumerate*}\n"
      ],
      "text/markdown": [
       "1. 'femenino'\n",
       "2. 'masculino'\n",
       "\n",
       "\n"
      ],
      "text/plain": [
       "[1] \"femenino\"  \"masculino\""
      ]
     },
     "metadata": {},
     "output_type": "display_data"
    }
   ],
   "source": [
    " genero_caracter = c(\n",
    "        \"femenino\", \"masculino\", \"femenino\", \"masculino\", \"masculino\",\n",
    "        \"femenino\", \"femenino\", \"masculino\", \"masculino\", \"femenino\"\n",
    "    )\n",
    "(genero_fact <- factor(genero_caracter))\n",
    "levels(genero_fact)"
   ]
  },
  {
   "cell_type": "markdown",
   "metadata": {
    "deletable": true,
    "editable": true
   },
   "source": [
    "#### Cambiando los niveles de los factores\n",
    "\n",
    "Podemos cambiar el orden de los niveles cuando se crea el factor especificando un argumento a  `levels`:\n",
    "\n",
    "```\n",
    "factor(genero_caracter, levels = c(\"masculino\", \"femenino\"))\n",
    "```\n",
    "\n",
    "Si queremos cambiar el orden de los niveles de un factor después de su creación, volveremos  a usar la función `factor`, esta vez pasando en el mismo factor creado (en lugar de un vector de caracteres):\n",
    "\n",
    "```\n",
    "factor(genero_fact, levels = c(\"masculino\", \"femenino\"))\n",
    "```"
   ]
  },
  {
   "cell_type": "code",
   "execution_count": 111,
   "metadata": {
    "collapsed": false,
    "deletable": true,
    "editable": true
   },
   "outputs": [
    {
     "data": {
      "text/html": [
       "<ol class=list-inline>\n",
       "\t<li>masculino</li>\n",
       "\t<li>femenino</li>\n",
       "\t<li>masculino</li>\n",
       "\t<li>femenino</li>\n",
       "\t<li>femenino</li>\n",
       "\t<li>masculino</li>\n",
       "\t<li>masculino</li>\n",
       "\t<li>femenino</li>\n",
       "\t<li>femenino</li>\n",
       "\t<li>masculino</li>\n",
       "</ol>\n"
      ],
      "text/latex": [
       "\\begin{enumerate*}\n",
       "\\item masculino\n",
       "\\item femenino\n",
       "\\item masculino\n",
       "\\item femenino\n",
       "\\item femenino\n",
       "\\item masculino\n",
       "\\item masculino\n",
       "\\item femenino\n",
       "\\item femenino\n",
       "\\item masculino\n",
       "\\end{enumerate*}\n"
      ],
      "text/markdown": [
       "1. masculino\n",
       "2. femenino\n",
       "3. masculino\n",
       "4. femenino\n",
       "5. femenino\n",
       "6. masculino\n",
       "7. masculino\n",
       "8. femenino\n",
       "9. femenino\n",
       "10. masculino\n",
       "\n",
       "\n"
      ],
      "text/plain": [
       " [1] masculino femenino  masculino femenino  femenino  masculino masculino\n",
       " [8] femenino  femenino  masculino\n",
       "Levels: masculino femenino"
      ]
     },
     "metadata": {},
     "output_type": "display_data"
    },
    {
     "data": {
      "text/html": [
       "<ol class=list-inline>\n",
       "\t<li>'masculino'</li>\n",
       "\t<li>'femenino'</li>\n",
       "</ol>\n"
      ],
      "text/latex": [
       "\\begin{enumerate*}\n",
       "\\item 'masculino'\n",
       "\\item 'femenino'\n",
       "\\end{enumerate*}\n"
      ],
      "text/markdown": [
       "1. 'masculino'\n",
       "2. 'femenino'\n",
       "\n",
       "\n"
      ],
      "text/plain": [
       "[1] \"masculino\" \"femenino\" "
      ]
     },
     "metadata": {},
     "output_type": "display_data"
    }
   ],
   "source": [
    "# Ejemplo \n",
    "\n",
    "levels(genero_fact) <- c(\"masculino\", \"femenino\")\n",
    "genero_fact\n",
    "levels(genero_fact)"
   ]
  },
  {
   "cell_type": "markdown",
   "metadata": {
    "deletable": true,
    "editable": true
   },
   "source": [
    "La función `relevel` es una forma alternativa de cambiar el orden de los niveles de un factor. En este caso, sólo le permite especificar qué nivel viene primero. Esta función  puede ser útil para modelos de regresión donde se desea comparar diferentes categorías con una categoría de referencia. La mayor parte del tiempo será mejor llamar a `factor`  si desea establecer los niveles:"
   ]
  },
  {
   "cell_type": "code",
   "execution_count": 112,
   "metadata": {
    "collapsed": false,
    "deletable": true,
    "editable": true
   },
   "outputs": [
    {
     "data": {
      "text/html": [
       "<ol class=list-inline>\n",
       "\t<li>masculino</li>\n",
       "\t<li>femenino</li>\n",
       "\t<li>masculino</li>\n",
       "\t<li>femenino</li>\n",
       "\t<li>femenino</li>\n",
       "\t<li>masculino</li>\n",
       "\t<li>masculino</li>\n",
       "\t<li>femenino</li>\n",
       "\t<li>femenino</li>\n",
       "\t<li>masculino</li>\n",
       "</ol>\n"
      ],
      "text/latex": [
       "\\begin{enumerate*}\n",
       "\\item masculino\n",
       "\\item femenino\n",
       "\\item masculino\n",
       "\\item femenino\n",
       "\\item femenino\n",
       "\\item masculino\n",
       "\\item masculino\n",
       "\\item femenino\n",
       "\\item femenino\n",
       "\\item masculino\n",
       "\\end{enumerate*}\n"
      ],
      "text/markdown": [
       "1. masculino\n",
       "2. femenino\n",
       "3. masculino\n",
       "4. femenino\n",
       "5. femenino\n",
       "6. masculino\n",
       "7. masculino\n",
       "8. femenino\n",
       "9. femenino\n",
       "10. masculino\n",
       "\n",
       "\n"
      ],
      "text/plain": [
       " [1] masculino femenino  masculino femenino  femenino  masculino masculino\n",
       " [8] femenino  femenino  masculino\n",
       "Levels: masculino femenino"
      ]
     },
     "metadata": {},
     "output_type": "display_data"
    },
    {
     "data": {
      "text/html": [
       "<ol class=list-inline>\n",
       "\t<li>'masculino'</li>\n",
       "\t<li>'femenino'</li>\n",
       "</ol>\n"
      ],
      "text/latex": [
       "\\begin{enumerate*}\n",
       "\\item 'masculino'\n",
       "\\item 'femenino'\n",
       "\\end{enumerate*}\n"
      ],
      "text/markdown": [
       "1. 'masculino'\n",
       "2. 'femenino'\n",
       "\n",
       "\n"
      ],
      "text/plain": [
       "[1] \"masculino\" \"femenino\" "
      ]
     },
     "metadata": {},
     "output_type": "display_data"
    }
   ],
   "source": [
    "relevel(genero_fact, \"masculino\")\n",
    "levels(genero_fact)"
   ]
  },
  {
   "cell_type": "markdown",
   "metadata": {
    "deletable": true,
    "editable": true
   },
   "source": [
    "En el proceso de limpieza de un conjuntos de datos, se puede terminar eliminando todos los datos correspondientes a un nivel de factor. Considere este conjunto de datosde  tiempos para viajar al trabajo usando diferentes modos de transporte:\n"
   ]
  },
  {
   "cell_type": "code",
   "execution_count": 113,
   "metadata": {
    "collapsed": true,
    "deletable": true,
    "editable": true
   },
   "outputs": [],
   "source": [
    "ir_al_trabajo <- data.frame(\n",
    "    modo = c(\n",
    "        \"bicicleta\", \"carro\", \"bus\", \"carro\", \"caminar\",\n",
    "        \"bicicleta\", \"carro\", \"bicicleta\", \"carrp\", \"carro\"\n",
    "    ),\n",
    "    t_mins = c(25, 13, NA, 22, 65, 28, 15, 24, NA, 14)\n",
    ")"
   ]
  },
  {
   "cell_type": "markdown",
   "metadata": {
    "deletable": true,
    "editable": true
   },
   "source": [
    "No todos los tiempos se han grabado, por lo que nuestra primera tarea es eliminar las filas donde `t_mins` es `NA`:"
   ]
  },
  {
   "cell_type": "code",
   "execution_count": 114,
   "metadata": {
    "collapsed": false,
    "deletable": true,
    "editable": true
   },
   "outputs": [
    {
     "data": {
      "text/html": [
       "<table>\n",
       "<thead><tr><th></th><th scope=col>modo</th><th scope=col>t_mins</th></tr></thead>\n",
       "<tbody>\n",
       "\t<tr><th scope=row>1</th><td>bicicleta</td><td>25       </td></tr>\n",
       "\t<tr><th scope=row>2</th><td>carro    </td><td>13       </td></tr>\n",
       "\t<tr><th scope=row>4</th><td>carro    </td><td>22       </td></tr>\n",
       "\t<tr><th scope=row>5</th><td>caminar  </td><td>65       </td></tr>\n",
       "\t<tr><th scope=row>6</th><td>bicicleta</td><td>28       </td></tr>\n",
       "\t<tr><th scope=row>7</th><td>carro    </td><td>15       </td></tr>\n",
       "\t<tr><th scope=row>8</th><td>bicicleta</td><td>24       </td></tr>\n",
       "\t<tr><th scope=row>10</th><td>carro    </td><td>14       </td></tr>\n",
       "</tbody>\n",
       "</table>\n"
      ],
      "text/latex": [
       "\\begin{tabular}{r|ll}\n",
       "  & modo & t\\_mins\\\\\n",
       "\\hline\n",
       "\t1 & bicicleta & 25       \\\\\n",
       "\t2 & carro     & 13       \\\\\n",
       "\t4 & carro     & 22       \\\\\n",
       "\t5 & caminar   & 65       \\\\\n",
       "\t6 & bicicleta & 28       \\\\\n",
       "\t7 & carro     & 15       \\\\\n",
       "\t8 & bicicleta & 24       \\\\\n",
       "\t10 & carro     & 14       \\\\\n",
       "\\end{tabular}\n"
      ],
      "text/markdown": [
       "\n",
       "| <!--/--> | modo | t_mins | \n",
       "|---|---|---|---|---|---|---|---|\n",
       "| 1 | bicicleta | 25        | \n",
       "| 2 | carro     | 13        | \n",
       "| 4 | carro     | 22        | \n",
       "| 5 | caminar   | 65        | \n",
       "| 6 | bicicleta | 28        | \n",
       "| 7 | carro     | 15        | \n",
       "| 8 | bicicleta | 24        | \n",
       "| 10 | carro     | 14        | \n",
       "\n",
       "\n"
      ],
      "text/plain": [
       "   modo      t_mins\n",
       "1  bicicleta 25    \n",
       "2  carro     13    \n",
       "4  carro     22    \n",
       "5  caminar   65    \n",
       "6  bicicleta 28    \n",
       "7  carro     15    \n",
       "8  bicicleta 24    \n",
       "10 carro     14    "
      ]
     },
     "metadata": {},
     "output_type": "display_data"
    }
   ],
   "source": [
    "(ir_al_trabajo  <- subset(ir_al_trabajo, !is.na(t_mins)))"
   ]
  },
  {
   "cell_type": "markdown",
   "metadata": {
    "deletable": true,
    "editable": true
   },
   "source": [
    "Mirando la columna  `modo`  sólo hay  tres valores diferentes, pero todavía tenemos los mismos cuatro niveles en el factor(). Podemos ver esto con la función `unique` (la función `levels`  también nos dirá los niveles del factor):"
   ]
  },
  {
   "cell_type": "code",
   "execution_count": 115,
   "metadata": {
    "collapsed": false,
    "deletable": true,
    "editable": true
   },
   "outputs": [
    {
     "data": {
      "text/html": [
       "<ol class=list-inline>\n",
       "\t<li>bicicleta</li>\n",
       "\t<li>carro</li>\n",
       "\t<li>caminar</li>\n",
       "</ol>\n"
      ],
      "text/latex": [
       "\\begin{enumerate*}\n",
       "\\item bicicleta\n",
       "\\item carro\n",
       "\\item caminar\n",
       "\\end{enumerate*}\n"
      ],
      "text/markdown": [
       "1. bicicleta\n",
       "2. carro\n",
       "3. caminar\n",
       "\n",
       "\n"
      ],
      "text/plain": [
       "[1] bicicleta carro     caminar  \n",
       "Levels: bicicleta bus caminar carro carrp"
      ]
     },
     "metadata": {},
     "output_type": "display_data"
    }
   ],
   "source": [
    "unique(ir_al_trabajo$modo)"
   ]
  },
  {
   "cell_type": "markdown",
   "metadata": {
    "deletable": true,
    "editable": true
   },
   "source": [
    "Si queremos eliminar los niveles no utilizados del factor, podemos usar la función `droplevels`. Esta acepta un factor o un data frame. En este último caso, disminuye los niveles no utilizados en todos los factores de la entrada. Dado que sólo hay un factor en nuestro data frame  de ejemplo, las dos líneas de código en el siguiente ejemplo son equivalentes:"
   ]
  },
  {
   "cell_type": "code",
   "execution_count": 116,
   "metadata": {
    "collapsed": false,
    "deletable": true,
    "editable": true
   },
   "outputs": [
    {
     "data": {
      "text/html": [
       "<ol class=list-inline>\n",
       "\t<li>'bicicleta'</li>\n",
       "\t<li>'caminar'</li>\n",
       "\t<li>'carro'</li>\n",
       "</ol>\n"
      ],
      "text/latex": [
       "\\begin{enumerate*}\n",
       "\\item 'bicicleta'\n",
       "\\item 'caminar'\n",
       "\\item 'carro'\n",
       "\\end{enumerate*}\n"
      ],
      "text/markdown": [
       "1. 'bicicleta'\n",
       "2. 'caminar'\n",
       "3. 'carro'\n",
       "\n",
       "\n"
      ],
      "text/plain": [
       "[1] \"bicicleta\" \"caminar\"   \"carro\"    "
      ]
     },
     "metadata": {},
     "output_type": "display_data"
    }
   ],
   "source": [
    "ir_al_trabajo$modo <- droplevels(ir_al_trabajo$modo)\n",
    "ir_al_trabajo <- droplevels(ir_al_trabajo)\n",
    "levels(ir_al_trabajo$modo)"
   ]
  },
  {
   "cell_type": "markdown",
   "metadata": {
    "deletable": true,
    "editable": true
   },
   "source": [
    "#### Factores ordenados \n",
    "\n",
    "Algunos factores tienen niveles que son semánticamente superiores o inferiores a otros niveles. Esto es común con preguntas de encuesta de opción múltiple. Por ejemplo, a la pregunta : *¿Qué tan feliz eres?*,  podría tener las posibles respuestas *deprimido*, *gruñón*, *más o menos*, *alegre* y *emocionada*. La variable resultante es categórica, así que podemos crear un factor con las cinco opciones como niveles. Para esto generamos diez mil respuestas al azar usando la función `sample`:"
   ]
  },
  {
   "cell_type": "code",
   "execution_count": 117,
   "metadata": {
    "collapsed": false,
    "deletable": true,
    "editable": true
   },
   "outputs": [
    {
     "data": {
      "text/html": [
       "<ol class=list-inline>\n",
       "\t<li>alegre</li>\n",
       "\t<li>deprimido</li>\n",
       "\t<li>alegre</li>\n",
       "\t<li>mas o menos</li>\n",
       "\t<li>deprimido</li>\n",
       "\t<li>grunon</li>\n",
       "</ol>\n"
      ],
      "text/latex": [
       "\\begin{enumerate*}\n",
       "\\item alegre\n",
       "\\item deprimido\n",
       "\\item alegre\n",
       "\\item mas o menos\n",
       "\\item deprimido\n",
       "\\item grunon\n",
       "\\end{enumerate*}\n"
      ],
      "text/markdown": [
       "1. alegre\n",
       "2. deprimido\n",
       "3. alegre\n",
       "4. mas o menos\n",
       "5. deprimido\n",
       "6. grunon\n",
       "\n",
       "\n"
      ],
      "text/plain": [
       "[1] alegre      deprimido   alegre      mas o menos deprimido   grunon     \n",
       "Levels: deprimido grunon mas o menos alegre emocionada"
      ]
     },
     "metadata": {},
     "output_type": "display_data"
    }
   ],
   "source": [
    "feliz_eleccion <- c(\"deprimido\", \"grunon\", \"mas o menos\", \"alegre\", \"emocionada\")\n",
    "feliz_valores <- sample(\n",
    "    feliz_eleccion,\n",
    "    10000,\n",
    "    replace = TRUE\n",
    ")\n",
    "feliz_fac <- factor(feliz_valores, feliz_eleccion)\n",
    "head(feliz_fac)"
   ]
  },
  {
   "cell_type": "code",
   "execution_count": 118,
   "metadata": {
    "collapsed": false
   },
   "outputs": [
    {
     "data": {
      "text/html": [
       "<ol class=list-inline>\n",
       "\t<li>'deprimido'</li>\n",
       "\t<li>'grunon'</li>\n",
       "\t<li>'mas o menos'</li>\n",
       "\t<li>'alegre'</li>\n",
       "\t<li>'emocionada'</li>\n",
       "</ol>\n"
      ],
      "text/latex": [
       "\\begin{enumerate*}\n",
       "\\item 'deprimido'\n",
       "\\item 'grunon'\n",
       "\\item 'mas o menos'\n",
       "\\item 'alegre'\n",
       "\\item 'emocionada'\n",
       "\\end{enumerate*}\n"
      ],
      "text/markdown": [
       "1. 'deprimido'\n",
       "2. 'grunon'\n",
       "3. 'mas o menos'\n",
       "4. 'alegre'\n",
       "5. 'emocionada'\n",
       "\n",
       "\n"
      ],
      "text/plain": [
       "[1] \"deprimido\"   \"grunon\"      \"mas o menos\" \"alegre\"      \"emocionada\" "
      ]
     },
     "metadata": {},
     "output_type": "display_data"
    }
   ],
   "source": [
    "levels(feliz_fac)"
   ]
  },
  {
   "cell_type": "markdown",
   "metadata": {},
   "source": [
    "En este caso, las cinco opciones tienen un orden natural para ellos: *gruñón* es más feliz que *deprimido*, *más o menos* es más feliz que *gruñón*  y así sucesivamente. Esto significa que es mejor almacenar las respuestas en un `factor ordenado`. Podemos hacer esto utilizando la función `ordered` (o pasando el argumento `ordered = TRUE` a `factor`):"
   ]
  },
  {
   "cell_type": "code",
   "execution_count": 119,
   "metadata": {
    "collapsed": false
   },
   "outputs": [
    {
     "data": {
      "text/html": [
       "<ol class=list-inline>\n",
       "\t<li>alegre</li>\n",
       "\t<li>deprimido</li>\n",
       "\t<li>alegre</li>\n",
       "\t<li>mas o menos</li>\n",
       "\t<li>deprimido</li>\n",
       "\t<li>grunon</li>\n",
       "</ol>\n"
      ],
      "text/latex": [
       "\\begin{enumerate*}\n",
       "\\item alegre\n",
       "\\item deprimido\n",
       "\\item alegre\n",
       "\\item mas o menos\n",
       "\\item deprimido\n",
       "\\item grunon\n",
       "\\end{enumerate*}\n"
      ],
      "text/markdown": [
       "1. alegre\n",
       "2. deprimido\n",
       "3. alegre\n",
       "4. mas o menos\n",
       "5. deprimido\n",
       "6. grunon\n",
       "\n",
       "\n"
      ],
      "text/plain": [
       "[1] alegre      deprimido   alegre      mas o menos deprimido   grunon     \n",
       "Levels: deprimido < grunon < mas o menos < alegre < emocionada"
      ]
     },
     "metadata": {},
     "output_type": "display_data"
    }
   ],
   "source": [
    "feliz_ord <- ordered(feliz_valores, feliz_eleccion)\n",
    "head(feliz_ord)"
   ]
  },
  {
   "cell_type": "code",
   "execution_count": 120,
   "metadata": {
    "collapsed": false
   },
   "outputs": [
    {
     "data": {
      "text/html": [
       "<ol class=list-inline>\n",
       "\t<li>'deprimido'</li>\n",
       "\t<li>'grunon'</li>\n",
       "\t<li>'mas o menos'</li>\n",
       "\t<li>'alegre'</li>\n",
       "\t<li>'emocionada'</li>\n",
       "</ol>\n"
      ],
      "text/latex": [
       "\\begin{enumerate*}\n",
       "\\item 'deprimido'\n",
       "\\item 'grunon'\n",
       "\\item 'mas o menos'\n",
       "\\item 'alegre'\n",
       "\\item 'emocionada'\n",
       "\\end{enumerate*}\n"
      ],
      "text/markdown": [
       "1. 'deprimido'\n",
       "2. 'grunon'\n",
       "3. 'mas o menos'\n",
       "4. 'alegre'\n",
       "5. 'emocionada'\n",
       "\n",
       "\n"
      ],
      "text/plain": [
       "[1] \"deprimido\"   \"grunon\"      \"mas o menos\" \"alegre\"      \"emocionada\" "
      ]
     },
     "metadata": {},
     "output_type": "display_data"
    }
   ],
   "source": [
    "levels(feliz_ord)"
   ]
  },
  {
   "cell_type": "markdown",
   "metadata": {},
   "source": [
    "Un factor ordenado es un factor, pero  un factor normal no es ordenado:"
   ]
  },
  {
   "cell_type": "code",
   "execution_count": 121,
   "metadata": {
    "collapsed": false
   },
   "outputs": [
    {
     "data": {
      "text/html": [
       "TRUE"
      ],
      "text/latex": [
       "TRUE"
      ],
      "text/markdown": [
       "TRUE"
      ],
      "text/plain": [
       "[1] TRUE"
      ]
     },
     "metadata": {},
     "output_type": "display_data"
    }
   ],
   "source": [
    "is.factor(feliz_ord)"
   ]
  },
  {
   "cell_type": "code",
   "execution_count": 122,
   "metadata": {
    "collapsed": false
   },
   "outputs": [
    {
     "data": {
      "text/html": [
       "FALSE"
      ],
      "text/latex": [
       "FALSE"
      ],
      "text/markdown": [
       "FALSE"
      ],
      "text/plain": [
       "[1] FALSE"
      ]
     },
     "metadata": {},
     "output_type": "display_data"
    }
   ],
   "source": [
    "is.ordered(feliz_fac)"
   ]
  },
  {
   "cell_type": "markdown",
   "metadata": {},
   "source": [
    "Una manera útil de resumir una variable numérica es contar cuántos valores caen en diferentes *intervalos*. La función `cut`divide  una variable numérica en partes devolviendo un factor. Esto utiliza comúnmente con la función `table` para obtener el recuento de números en diferentes grupos.\n",
    "\n",
    "En el siguiente ejemplo, generamos aleatoriamente las edades de diez mil trabajadores (de 16 a 66, usando una distribución beta) y los colocamos en grupos de 10 años:"
   ]
  },
  {
   "cell_type": "code",
   "execution_count": 123,
   "metadata": {
    "collapsed": false
   },
   "outputs": [
    {
     "data": {
      "text/html": [
       "<ol class=list-inline>\n",
       "\t<li>(36,46]</li>\n",
       "\t<li>(26,36]</li>\n",
       "\t<li>(36,46]</li>\n",
       "\t<li>(16,26]</li>\n",
       "\t<li>(56,66]</li>\n",
       "\t<li>(26,36]</li>\n",
       "</ol>\n"
      ],
      "text/latex": [
       "\\begin{enumerate*}\n",
       "\\item (36,46{]}\n",
       "\\item (26,36{]}\n",
       "\\item (36,46{]}\n",
       "\\item (16,26{]}\n",
       "\\item (56,66{]}\n",
       "\\item (26,36{]}\n",
       "\\end{enumerate*}\n"
      ],
      "text/markdown": [
       "1. (36,46]\n",
       "2. (26,36]\n",
       "3. (36,46]\n",
       "4. (16,26]\n",
       "5. (56,66]\n",
       "6. (26,36]\n",
       "\n",
       "\n"
      ],
      "text/plain": [
       "[1] (36,46] (26,36] (36,46] (16,26] (56,66] (26,36]\n",
       "Levels: (16,26] (26,36] (36,46] (46,56] (56,66]"
      ]
     },
     "metadata": {},
     "output_type": "display_data"
    }
   ],
   "source": [
    "edad <- 16 + 50 * rbeta(10000, 2, 3)\n",
    "grupos_edades <- cut(edad, seq.int(16, 66, 10))\n",
    "head(grupos_edades)"
   ]
  },
  {
   "cell_type": "code",
   "execution_count": 124,
   "metadata": {
    "collapsed": false
   },
   "outputs": [
    {
     "data": {
      "text/html": [
       "<ol class=list-inline>\n",
       "\t<li>'(16,26]'</li>\n",
       "\t<li>'(26,36]'</li>\n",
       "\t<li>'(36,46]'</li>\n",
       "\t<li>'(46,56]'</li>\n",
       "\t<li>'(56,66]'</li>\n",
       "</ol>\n"
      ],
      "text/latex": [
       "\\begin{enumerate*}\n",
       "\\item '(16,26{]}'\n",
       "\\item '(26,36{]}'\n",
       "\\item '(36,46{]}'\n",
       "\\item '(46,56{]}'\n",
       "\\item '(56,66{]}'\n",
       "\\end{enumerate*}\n"
      ],
      "text/markdown": [
       "1. '(16,26]'\n",
       "2. '(26,36]'\n",
       "3. '(36,46]'\n",
       "4. '(46,56]'\n",
       "5. '(56,66]'\n",
       "\n",
       "\n"
      ],
      "text/plain": [
       "[1] \"(16,26]\" \"(26,36]\" \"(36,46]\" \"(46,56]\" \"(56,66]\""
      ]
     },
     "metadata": {},
     "output_type": "display_data"
    }
   ],
   "source": [
    "levels(grupos_edades)"
   ]
  },
  {
   "cell_type": "code",
   "execution_count": 125,
   "metadata": {
    "collapsed": false
   },
   "outputs": [
    {
     "data": {
      "text/plain": [
       "grupos_edades\n",
       "(16,26] (26,36] (36,46] (46,56] (56,66] \n",
       "   1794    3492    2951    1489     274 "
      ]
     },
     "metadata": {},
     "output_type": "display_data"
    }
   ],
   "source": [
    "table(grupos_edades)"
   ]
  },
  {
   "cell_type": "markdown",
   "metadata": {},
   "source": [
    "En este caso, la mayor parte de la mano de obra cae en las categorías 26 a 36 y 36 a 46 (como consecuencia directa de la forma de la distribución beta).\n",
    "\n",
    "Observe que `edad` es una variable numérica y `grupos_edades` es un factor:"
   ]
  },
  {
   "cell_type": "code",
   "execution_count": 126,
   "metadata": {
    "collapsed": false
   },
   "outputs": [
    {
     "data": {
      "text/html": [
       "'numeric'"
      ],
      "text/latex": [
       "'numeric'"
      ],
      "text/markdown": [
       "'numeric'"
      ],
      "text/plain": [
       "[1] \"numeric\""
      ]
     },
     "metadata": {},
     "output_type": "display_data"
    }
   ],
   "source": [
    "class(edad)"
   ]
  },
  {
   "cell_type": "code",
   "execution_count": 127,
   "metadata": {
    "collapsed": false
   },
   "outputs": [
    {
     "data": {
      "text/html": [
       "'factor'"
      ],
      "text/latex": [
       "'factor'"
      ],
      "text/markdown": [
       "'factor'"
      ],
      "text/plain": [
       "[1] \"factor\""
      ]
     },
     "metadata": {},
     "output_type": "display_data"
    }
   ],
   "source": [
    "class(grupos_edades)"
   ]
  },
  {
   "cell_type": "code",
   "execution_count": 128,
   "metadata": {
    "collapsed": false
   },
   "outputs": [
    {
     "data": {
      "text/plain": [
       "Leng\n",
       "     C Python      R \n",
       "     1      1      1 "
      ]
     },
     "metadata": {},
     "output_type": "display_data"
    },
    {
     "data": {
      "text/plain": [
       "Parad\n",
       "C I F \n",
       "1 0 0 "
      ]
     },
     "metadata": {},
     "output_type": "display_data"
    }
   ],
   "source": [
    "# Otros ejemplo\n",
    "\n",
    "Leng <- c(\"C\", \"Python\", \"R\")\n",
    "Parad <- factor(Leng, levels = c(\"C\", \"I\", \"F\"))\n",
    "\n",
    "table(Leng)\n",
    "table(Parad)"
   ]
  },
  {
   "cell_type": "markdown",
   "metadata": {},
   "source": [
    "#### Convirtiendo variables categóricas a continuas\n",
    "\n",
    "\n",
    "El caso inverso de convertir un factor en una variable numérica es muy útil durante la limpieza de datos. Si se tiene datos  en los que los números son mal escritos, R puede interpretarlos como cadenas y convertirlos en factores durante el proceso de importación. En este ejemplo siguiente, uno de los números tiene un doble decimal. Las funciones de importación, como `read.table()`,  fallarían al analizar tal cadena en formato numérico y por defecto convertir la columna en un vector de caracteres:"
   ]
  },
  {
   "cell_type": "code",
   "execution_count": 129,
   "metadata": {
    "collapsed": true
   },
   "outputs": [],
   "source": [
    "df_s <- data.frame(\n",
    "    x = c(\"4.63\", \"1..96\", \"7.89\")\n",
    ")"
   ]
  },
  {
   "cell_type": "markdown",
   "metadata": {},
   "source": [
    "Para convertir la columna `x` en numérica, la solución posible seria  llamar a `as.numeric`. Desafortunadamente, esta función da una respuesta equivocada:"
   ]
  },
  {
   "cell_type": "code",
   "execution_count": 130,
   "metadata": {
    "collapsed": false
   },
   "outputs": [
    {
     "data": {
      "text/html": [
       "<ol class=list-inline>\n",
       "\t<li>2</li>\n",
       "\t<li>1</li>\n",
       "\t<li>3</li>\n",
       "</ol>\n"
      ],
      "text/latex": [
       "\\begin{enumerate*}\n",
       "\\item 2\n",
       "\\item 1\n",
       "\\item 3\n",
       "\\end{enumerate*}\n"
      ],
      "text/markdown": [
       "1. 2\n",
       "2. 1\n",
       "3. 3\n",
       "\n",
       "\n"
      ],
      "text/plain": [
       "[1] 2 1 3"
      ]
     },
     "metadata": {},
     "output_type": "display_data"
    }
   ],
   "source": [
    "as.numeric(df_s$x)"
   ]
  },
  {
   "cell_type": "markdown",
   "metadata": {},
   "source": [
    "Llamar a `as.numeric` en un factor revela los códigos enteros subyacentes que el factor utiliza para almacenar sus datos. En general, un factor $f$ puede reconstruirse a partir de los `levels(f)[as.integer(f)]`.\n",
    "\n",
    "Para convertir correctamente el factor en numérico, primero podemos recuperar los valores convirtiendo el factor en un vector de caracteres. El segundo valor es `NA` porque `4..56` no es un número genuino:"
   ]
  },
  {
   "cell_type": "code",
   "execution_count": 131,
   "metadata": {
    "collapsed": false
   },
   "outputs": [
    {
     "name": "stderr",
     "output_type": "stream",
     "text": [
      "Warning message in eval(expr, envir, enclos):\n",
      "“NAs introducidos por coerción”"
     ]
    },
    {
     "data": {
      "text/html": [
       "<ol class=list-inline>\n",
       "\t<li>4.63</li>\n",
       "\t<li>NA</li>\n",
       "\t<li>7.89</li>\n",
       "</ol>\n"
      ],
      "text/latex": [
       "\\begin{enumerate*}\n",
       "\\item 4.63\n",
       "\\item NA\n",
       "\\item 7.89\n",
       "\\end{enumerate*}\n"
      ],
      "text/markdown": [
       "1. 4.63\n",
       "2. NA\n",
       "3. 7.89\n",
       "\n",
       "\n"
      ],
      "text/plain": [
       "[1] 4.63   NA 7.89"
      ]
     },
     "metadata": {},
     "output_type": "display_data"
    }
   ],
   "source": [
    "as.numeric(as.character(df_s$x))"
   ]
  },
  {
   "cell_type": "markdown",
   "metadata": {},
   "source": [
    "Esto es un poco ineficiente, ya que los valores repetidos tienen que ser convertidos varias veces, por lo que es mejor convertir los niveles del factor a  valores numéricos y a continuación  reconstruir el factor como antes:"
   ]
  },
  {
   "cell_type": "code",
   "execution_count": 132,
   "metadata": {
    "collapsed": false
   },
   "outputs": [
    {
     "name": "stderr",
     "output_type": "stream",
     "text": [
      "Warning message in eval(expr, envir, enclos):\n",
      "“NAs introducidos por coerción”"
     ]
    },
    {
     "data": {
      "text/html": [
       "<ol class=list-inline>\n",
       "\t<li>4.63</li>\n",
       "\t<li>NA</li>\n",
       "\t<li>7.89</li>\n",
       "</ol>\n"
      ],
      "text/latex": [
       "\\begin{enumerate*}\n",
       "\\item 4.63\n",
       "\\item NA\n",
       "\\item 7.89\n",
       "\\end{enumerate*}\n"
      ],
      "text/markdown": [
       "1. 4.63\n",
       "2. NA\n",
       "3. 7.89\n",
       "\n",
       "\n"
      ],
      "text/plain": [
       "[1] 4.63   NA 7.89"
      ]
     },
     "metadata": {},
     "output_type": "display_data"
    }
   ],
   "source": [
    "as.numeric(levels(df_s$x))[as.integer(df_s$x)]"
   ]
  },
  {
   "cell_type": "markdown",
   "metadata": {},
   "source": [
    "Puesto que esto no es totalmente intuitivo y si se desea realizar esta tarea regularmente, puede envolverla en una función:\n",
    "\n",
    "```\n",
    "factor_to_numeric <- function(f)\n",
    "{\n",
    "    as.numeric(levels(f))[as.integer(f)]\n",
    "}\n",
    "```"
   ]
  },
  {
   "cell_type": "markdown",
   "metadata": {},
   "source": [
    "#### Generando niveles de factores\n",
    "\n",
    "Para  datos balanceados, donde hay un número igual de puntos de datos para cada nivel, se puede usar la función `gl` para generar un factor. En su forma más simple, la función toma un número entero para el número de niveles en el factor resultante y otro entero para cuántas veces debe repetirse cada nivel. \n",
    "\n",
    "Más comúnmente, pasando un vector de caracteres al argumento `labels` se puede establecer los nombres de los niveles.  Se pueden crear órdenes de nivel más complejos, como valores alternativos, pasando un argumento `length`:"
   ]
  },
  {
   "cell_type": "code",
   "execution_count": 133,
   "metadata": {
    "collapsed": false
   },
   "outputs": [
    {
     "data": {
      "text/html": [
       "<ol class=list-inline>\n",
       "\t<li>1</li>\n",
       "\t<li>1</li>\n",
       "\t<li>2</li>\n",
       "\t<li>2</li>\n",
       "\t<li>3</li>\n",
       "\t<li>3</li>\n",
       "</ol>\n"
      ],
      "text/latex": [
       "\\begin{enumerate*}\n",
       "\\item 1\n",
       "\\item 1\n",
       "\\item 2\n",
       "\\item 2\n",
       "\\item 3\n",
       "\\item 3\n",
       "\\end{enumerate*}\n"
      ],
      "text/markdown": [
       "1. 1\n",
       "2. 1\n",
       "3. 2\n",
       "4. 2\n",
       "5. 3\n",
       "6. 3\n",
       "\n",
       "\n"
      ],
      "text/plain": [
       "[1] 1 1 2 2 3 3\n",
       "Levels: 1 2 3"
      ]
     },
     "metadata": {},
     "output_type": "display_data"
    }
   ],
   "source": [
    "help(gl)\n",
    "gl(3, 2)\n"
   ]
  },
  {
   "cell_type": "code",
   "execution_count": 134,
   "metadata": {
    "collapsed": false
   },
   "outputs": [
    {
     "data": {
      "text/html": [
       "<ol class=list-inline>\n",
       "\t<li>C++</li>\n",
       "\t<li>C++</li>\n",
       "\t<li>R</li>\n",
       "\t<li>R</li>\n",
       "\t<li>Python</li>\n",
       "\t<li>Python</li>\n",
       "</ol>\n"
      ],
      "text/latex": [
       "\\begin{enumerate*}\n",
       "\\item C++\n",
       "\\item C++\n",
       "\\item R\n",
       "\\item R\n",
       "\\item Python\n",
       "\\item Python\n",
       "\\end{enumerate*}\n"
      ],
      "text/markdown": [
       "1. C++\n",
       "2. C++\n",
       "3. R\n",
       "4. R\n",
       "5. Python\n",
       "6. Python\n",
       "\n",
       "\n"
      ],
      "text/plain": [
       "[1] C++    C++    R      R      Python Python\n",
       "Levels: C++ R Python"
      ]
     },
     "metadata": {},
     "output_type": "display_data"
    }
   ],
   "source": [
    "gl(3, 2, labels = c(\"C++\", \"R\", \"Python\"))"
   ]
  },
  {
   "cell_type": "code",
   "execution_count": 135,
   "metadata": {
    "collapsed": false
   },
   "outputs": [
    {
     "data": {
      "text/html": [
       "<ol class=list-inline>\n",
       "\t<li>C++</li>\n",
       "\t<li>R</li>\n",
       "\t<li>Python</li>\n",
       "\t<li>C++</li>\n",
       "\t<li>R</li>\n",
       "\t<li>Python</li>\n",
       "</ol>\n"
      ],
      "text/latex": [
       "\\begin{enumerate*}\n",
       "\\item C++\n",
       "\\item R\n",
       "\\item Python\n",
       "\\item C++\n",
       "\\item R\n",
       "\\item Python\n",
       "\\end{enumerate*}\n"
      ],
      "text/markdown": [
       "1. C++\n",
       "2. R\n",
       "3. Python\n",
       "4. C++\n",
       "5. R\n",
       "6. Python\n",
       "\n",
       "\n"
      ],
      "text/plain": [
       "[1] C++    R      Python C++    R      Python\n",
       "Levels: C++ R Python"
      ]
     },
     "metadata": {},
     "output_type": "display_data"
    }
   ],
   "source": [
    "gl(3, 1, 6, labels = c(\"C++\", \"R\", \"Python\"))"
   ]
  },
  {
   "cell_type": "markdown",
   "metadata": {},
   "source": [
    "Cuando tenemos múltiples variables categóricas, a veces es útil combinarlas en un solo factor, donde cada nivel consiste en las interacciones de las variables individuales, utilizando la función `interaction`:"
   ]
  },
  {
   "cell_type": "code",
   "execution_count": 136,
   "metadata": {
    "collapsed": false
   },
   "outputs": [
    {
     "data": {
      "text/html": [
       "<ol class=list-inline>\n",
       "\t<li>C++.mujer</li>\n",
       "\t<li>C++.hombre</li>\n",
       "\t<li>R.mujer</li>\n",
       "\t<li>R.hombre</li>\n",
       "\t<li>Python.mujer</li>\n",
       "\t<li>Python.hombre</li>\n",
       "</ol>\n"
      ],
      "text/latex": [
       "\\begin{enumerate*}\n",
       "\\item C++.mujer\n",
       "\\item C++.hombre\n",
       "\\item R.mujer\n",
       "\\item R.hombre\n",
       "\\item Python.mujer\n",
       "\\item Python.hombre\n",
       "\\end{enumerate*}\n"
      ],
      "text/markdown": [
       "1. C++.mujer\n",
       "2. C++.hombre\n",
       "3. R.mujer\n",
       "4. R.hombre\n",
       "5. Python.mujer\n",
       "6. Python.hombre\n",
       "\n",
       "\n"
      ],
      "text/plain": [
       "[1] C++.mujer     C++.hombre    R.mujer       R.hombre      Python.mujer \n",
       "[6] Python.hombre\n",
       "Levels: C++.mujer R.mujer Python.mujer C++.hombre R.hombre Python.hombre"
      ]
     },
     "metadata": {},
     "output_type": "display_data"
    }
   ],
   "source": [
    "help(interaction)\n",
    "\n",
    "lenguaje <- gl(3, 2, labels = c(\"C++\", \"R\", \"Python\"))\n",
    "genero <- gl(2, 1, 6, labels = c(\"mujer\", \"hombre\"))\n",
    "interaction(lenguaje, genero)"
   ]
  },
  {
   "cell_type": "code",
   "execution_count": 137,
   "metadata": {
    "collapsed": false
   },
   "outputs": [
    {
     "data": {
      "text/html": [
       "<ol class=list-inline>\n",
       "\t<li>1.1</li>\n",
       "\t<li>1.2</li>\n",
       "\t<li>1.1</li>\n",
       "\t<li>1.2</li>\n",
       "\t<li>2.1</li>\n",
       "\t<li>2.2</li>\n",
       "\t<li>2.1</li>\n",
       "\t<li>2.2</li>\n",
       "</ol>\n"
      ],
      "text/latex": [
       "\\begin{enumerate*}\n",
       "\\item 1.1\n",
       "\\item 1.2\n",
       "\\item 1.1\n",
       "\\item 1.2\n",
       "\\item 2.1\n",
       "\\item 2.2\n",
       "\\item 2.1\n",
       "\\item 2.2\n",
       "\\end{enumerate*}\n"
      ],
      "text/markdown": [
       "1. 1.1\n",
       "2. 1.2\n",
       "3. 1.1\n",
       "4. 1.2\n",
       "5. 2.1\n",
       "6. 2.2\n",
       "7. 2.1\n",
       "8. 2.2\n",
       "\n",
       "\n"
      ],
      "text/plain": [
       "[1] 1.1 1.2 1.1 1.2 2.1 2.2 2.1 2.2\n",
       "Levels: 1.1 2.1 1.2 2.2"
      ]
     },
     "metadata": {},
     "output_type": "display_data"
    },
    {
     "data": {
      "text/html": [
       "<table>\n",
       "<thead><tr><th scope=col>x</th><th scope=col>y</th><th scope=col>int</th></tr></thead>\n",
       "<tbody>\n",
       "\t<tr><td>1  </td><td>1  </td><td>1.1</td></tr>\n",
       "\t<tr><td>1  </td><td>2  </td><td>1.2</td></tr>\n",
       "\t<tr><td>1  </td><td>1  </td><td>1.1</td></tr>\n",
       "\t<tr><td>1  </td><td>2  </td><td>1.2</td></tr>\n",
       "\t<tr><td>2  </td><td>1  </td><td>2.1</td></tr>\n",
       "\t<tr><td>2  </td><td>2  </td><td>2.2</td></tr>\n",
       "\t<tr><td>2  </td><td>1  </td><td>2.1</td></tr>\n",
       "\t<tr><td>2  </td><td>2  </td><td>2.2</td></tr>\n",
       "</tbody>\n",
       "</table>\n"
      ],
      "text/latex": [
       "\\begin{tabular}{r|lll}\n",
       " x & y & int\\\\\n",
       "\\hline\n",
       "\t 1   & 1   & 1.1\\\\\n",
       "\t 1   & 2   & 1.2\\\\\n",
       "\t 1   & 1   & 1.1\\\\\n",
       "\t 1   & 2   & 1.2\\\\\n",
       "\t 2   & 1   & 2.1\\\\\n",
       "\t 2   & 2   & 2.2\\\\\n",
       "\t 2   & 1   & 2.1\\\\\n",
       "\t 2   & 2   & 2.2\\\\\n",
       "\\end{tabular}\n"
      ],
      "text/markdown": [
       "\n",
       "x | y | int | \n",
       "|---|---|---|---|---|---|---|---|\n",
       "| 1   | 1   | 1.1 | \n",
       "| 1   | 2   | 1.2 | \n",
       "| 1   | 1   | 1.1 | \n",
       "| 1   | 2   | 1.2 | \n",
       "| 2   | 1   | 2.1 | \n",
       "| 2   | 2   | 2.2 | \n",
       "| 2   | 1   | 2.1 | \n",
       "| 2   | 2   | 2.2 | \n",
       "\n",
       "\n"
      ],
      "text/plain": [
       "  x y int\n",
       "1 1 1 1.1\n",
       "2 1 2 1.2\n",
       "3 1 1 1.1\n",
       "4 1 2 1.2\n",
       "5 2 1 2.1\n",
       "6 2 2 2.2\n",
       "7 2 1 2.1\n",
       "8 2 2 2.2"
      ]
     },
     "metadata": {},
     "output_type": "display_data"
    }
   ],
   "source": [
    "# Otro ejemplo\n",
    "\n",
    "x <- gl(2,4)\n",
    "y <- gl(2,1,8)\n",
    "interaction(x,y)\n",
    "data.frame(x,y, int=interaction(x,y))"
   ]
  },
  {
   "cell_type": "markdown",
   "metadata": {},
   "source": [
    "### Funciones usadas con factores\n",
    "\n",
    "La función `tapply(x, f, g)`, tiene como argumentos un vector `x`, un factor `f` o una lista de factores  y `g` una función.  La operación llevada por  `tapply()` es dividir un vector `x`, en grupos, cada grupo correspondiente al nivel del factor `f`  (o a una combinación de niveles de los factores en el caso de múltiples factores) y  aplicarle  la función `g` a los subgrupos  de `x` ."
   ]
  },
  {
   "cell_type": "code",
   "execution_count": 138,
   "metadata": {
    "collapsed": false
   },
   "outputs": [
    {
     "data": {
      "text/html": [
       "<ol class=list-inline>\n",
       "\t<li>1</li>\n",
       "\t<li>2</li>\n",
       "\t<li>3</li>\n",
       "\t<li>4</li>\n",
       "\t<li>5</li>\n",
       "\t<li>6</li>\n",
       "\t<li>7</li>\n",
       "\t<li>8</li>\n",
       "\t<li>9</li>\n",
       "\t<li>10</li>\n",
       "\t<li>11</li>\n",
       "\t<li>12</li>\n",
       "\t<li>13</li>\n",
       "\t<li>14</li>\n",
       "\t<li>15</li>\n",
       "\t<li>16</li>\n",
       "\t<li>17</li>\n",
       "\t<li>18</li>\n",
       "\t<li>19</li>\n",
       "\t<li>20</li>\n",
       "</ol>\n"
      ],
      "text/latex": [
       "\\begin{enumerate*}\n",
       "\\item 1\n",
       "\\item 2\n",
       "\\item 3\n",
       "\\item 4\n",
       "\\item 5\n",
       "\\item 6\n",
       "\\item 7\n",
       "\\item 8\n",
       "\\item 9\n",
       "\\item 10\n",
       "\\item 11\n",
       "\\item 12\n",
       "\\item 13\n",
       "\\item 14\n",
       "\\item 15\n",
       "\\item 16\n",
       "\\item 17\n",
       "\\item 18\n",
       "\\item 19\n",
       "\\item 20\n",
       "\\end{enumerate*}\n"
      ],
      "text/markdown": [
       "1. 1\n",
       "2. 2\n",
       "3. 3\n",
       "4. 4\n",
       "5. 5\n",
       "6. 6\n",
       "7. 7\n",
       "8. 8\n",
       "9. 9\n",
       "10. 10\n",
       "11. 11\n",
       "12. 12\n",
       "13. 13\n",
       "14. 14\n",
       "15. 15\n",
       "16. 16\n",
       "17. 17\n",
       "18. 18\n",
       "19. 19\n",
       "20. 20\n",
       "\n",
       "\n"
      ],
      "text/plain": [
       " [1]  1  2  3  4  5  6  7  8  9 10 11 12 13 14 15 16 17 18 19 20"
      ]
     },
     "metadata": {},
     "output_type": "display_data"
    },
    {
     "data": {
      "text/html": [
       "20"
      ],
      "text/latex": [
       "20"
      ],
      "text/markdown": [
       "20"
      ],
      "text/plain": [
       "[1] 20"
      ]
     },
     "metadata": {},
     "output_type": "display_data"
    },
    {
     "data": {
      "text/html": [
       "<ol class=list-inline>\n",
       "\t<li>a</li>\n",
       "\t<li>a</li>\n",
       "\t<li>a</li>\n",
       "\t<li>a</li>\n",
       "\t<li>b</li>\n",
       "\t<li>b</li>\n",
       "\t<li>b</li>\n",
       "\t<li>b</li>\n",
       "\t<li>c</li>\n",
       "\t<li>c</li>\n",
       "\t<li>c</li>\n",
       "\t<li>c</li>\n",
       "\t<li>d</li>\n",
       "\t<li>d</li>\n",
       "\t<li>d</li>\n",
       "\t<li>d</li>\n",
       "\t<li>e</li>\n",
       "\t<li>e</li>\n",
       "\t<li>e</li>\n",
       "\t<li>e</li>\n",
       "</ol>\n"
      ],
      "text/latex": [
       "\\begin{enumerate*}\n",
       "\\item a\n",
       "\\item a\n",
       "\\item a\n",
       "\\item a\n",
       "\\item b\n",
       "\\item b\n",
       "\\item b\n",
       "\\item b\n",
       "\\item c\n",
       "\\item c\n",
       "\\item c\n",
       "\\item c\n",
       "\\item d\n",
       "\\item d\n",
       "\\item d\n",
       "\\item d\n",
       "\\item e\n",
       "\\item e\n",
       "\\item e\n",
       "\\item e\n",
       "\\end{enumerate*}\n"
      ],
      "text/markdown": [
       "1. a\n",
       "2. a\n",
       "3. a\n",
       "4. a\n",
       "5. b\n",
       "6. b\n",
       "7. b\n",
       "8. b\n",
       "9. c\n",
       "10. c\n",
       "11. c\n",
       "12. c\n",
       "13. d\n",
       "14. d\n",
       "15. d\n",
       "16. d\n",
       "17. e\n",
       "18. e\n",
       "19. e\n",
       "20. e\n",
       "\n",
       "\n"
      ],
      "text/plain": [
       " [1] a a a a b b b b c c c c d d d d e e e e\n",
       "Levels: a b c d e"
      ]
     },
     "metadata": {},
     "output_type": "display_data"
    },
    {
     "data": {
      "text/html": [
       "20"
      ],
      "text/latex": [
       "20"
      ],
      "text/markdown": [
       "20"
      ],
      "text/plain": [
       "[1] 20"
      ]
     },
     "metadata": {},
     "output_type": "display_data"
    },
    {
     "data": {
      "text/html": [
       "<dl class=dl-horizontal>\n",
       "\t<dt>a</dt>\n",
       "\t\t<dd>10</dd>\n",
       "\t<dt>b</dt>\n",
       "\t\t<dd>26</dd>\n",
       "\t<dt>c</dt>\n",
       "\t\t<dd>42</dd>\n",
       "\t<dt>d</dt>\n",
       "\t\t<dd>58</dd>\n",
       "\t<dt>e</dt>\n",
       "\t\t<dd>74</dd>\n",
       "</dl>\n"
      ],
      "text/plain": [
       " a  b  c  d  e \n",
       "10 26 42 58 74 "
      ]
     },
     "metadata": {},
     "output_type": "display_data"
    }
   ],
   "source": [
    "help(tapply)\n",
    "\n",
    "# Un vector\n",
    "xt <- 1:20  \n",
    "xt\n",
    "length(xt)\n",
    "\n",
    "# Un factor de la misma longitud, definiendo grupos\n",
    "yt <- factor(rep(letters[1:5], each = 4))  \n",
    "yt\n",
    "length(yt)\n",
    "\n",
    "# Sumemos  los valores de x en cada subgrupo definido por y\n",
    "tapply(xt, yt, sum)  "
   ]
  },
  {
   "cell_type": "code",
   "execution_count": 139,
   "metadata": {
    "collapsed": false
   },
   "outputs": [
    {
     "data": {
      "text/html": [
       "<dl class=dl-horizontal>\n",
       "\t<dt>D</dt>\n",
       "\t\t<dd>41</dd>\n",
       "\t<dt>R</dt>\n",
       "\t\t<dd>31</dd>\n",
       "\t<dt>U</dt>\n",
       "\t\t<dd>21</dd>\n",
       "</dl>\n"
      ],
      "text/plain": [
       " D  R  U \n",
       "41 31 21 "
      ]
     },
     "metadata": {},
     "output_type": "display_data"
    }
   ],
   "source": [
    "# Un pequeño ejemplo\n",
    "\n",
    "edad<- c(25,26,55,37,21,42)\n",
    "af<- c(\"R\", \"D\",\"D\", \"R\", \"U\", \"D\")\n",
    "tapply(edad,af, mean)"
   ]
  },
  {
   "cell_type": "markdown",
   "metadata": {},
   "source": [
    "La función `tapply()` trata al vector `(\"R\", \"D\",\"D\", \"R\", \"U\", \"D\")` como un factor con niveles `\"R\" ,\"D\", \"U\"`. Se debe  notar que  en `\"D\"` ocurre en los índices `2, 3 y 6`,  `\"R\"` ocurre en los índices `1` y `4` y `\"U\"` ocurre en el índice `5`. \n",
    "Por conveniencia eso se refiere a tres vectores indexados `(2,3,6)`, `(1,4)`,`(5)`, como x, y, z respectivamente, entonces  `tapply()` calcula la media de `mean(u[x]), mean(u[y])` y `mean(u[z])` y retorna esas medias en tres elementos de un vector."
   ]
  },
  {
   "cell_type": "code",
   "execution_count": 140,
   "metadata": {
    "collapsed": false
   },
   "outputs": [
    {
     "name": "stdout",
     "output_type": "stream",
     "text": [
      "'data.frame':\t72 obs. of  2 variables:\n",
      " $ count: num  10 7 20 14 14 12 10 23 17 20 ...\n",
      " $ spray: Factor w/ 6 levels \"A\",\"B\",\"C\",\"D\",..: 1 1 1 1 1 1 1 1 1 1 ...\n",
      "List of 6\n",
      " $ A: num [1:12] 10 7 20 14 14 12 10 23 17 20 ...\n",
      " $ B: num [1:12] 11 17 21 11 16 14 17 17 19 21 ...\n",
      " $ C: num [1:12] 0 1 7 2 3 1 2 1 3 0 ...\n",
      " $ D: num [1:12] 3 5 12 6 4 3 5 5 5 5 ...\n",
      " $ E: num [1:12] 3 5 3 5 3 6 1 1 3 2 ...\n",
      " $ F: num [1:12] 11 9 15 22 15 16 13 10 26 26 ...\n"
     ]
    },
    {
     "data": {
      "text/html": [
       "<dl class=dl-horizontal>\n",
       "\t<dt>A</dt>\n",
       "\t\t<dd>14.5</dd>\n",
       "\t<dt>B</dt>\n",
       "\t\t<dd>15.3333333333333</dd>\n",
       "\t<dt>C</dt>\n",
       "\t\t<dd>2.08333333333333</dd>\n",
       "\t<dt>D</dt>\n",
       "\t\t<dd>4.91666666666667</dd>\n",
       "\t<dt>E</dt>\n",
       "\t\t<dd>3.5</dd>\n",
       "\t<dt>F</dt>\n",
       "\t\t<dd>16.6666666666667</dd>\n",
       "</dl>\n"
      ],
      "text/plain": [
       "        A         B         C         D         E         F \n",
       "14.500000 15.333333  2.083333  4.916667  3.500000 16.666667 "
      ]
     },
     "metadata": {},
     "output_type": "display_data"
    }
   ],
   "source": [
    " # Mas ejemplo usando tapply\n",
    "\n",
    "str(InsectSprays)\n",
    "str(  split(InsectSprays$count, InsectSprays$spray)  )\n",
    "tapply( InsectSprays$count, InsectSprays$spray,  mean )"
   ]
  },
  {
   "cell_type": "markdown",
   "metadata": {},
   "source": [
    "La función  `split()` que se escribe como  `split(x,f)` donde `x` es un factor o un data frame y `f` es un factor o una lista de factores  divide  `x` en grupos los cuales son retornados como una lista."
   ]
  },
  {
   "cell_type": "code",
   "execution_count": 141,
   "metadata": {
    "collapsed": true
   },
   "outputs": [],
   "source": [
    "help(split)"
   ]
  },
  {
   "cell_type": "code",
   "execution_count": 142,
   "metadata": {
    "collapsed": false
   },
   "outputs": [
    {
     "data": {
      "text/html": [
       "<table>\n",
       "<thead><tr><th scope=col>Ozone</th><th scope=col>Solar.R</th><th scope=col>Wind</th><th scope=col>Temp</th><th scope=col>Month</th><th scope=col>Day</th></tr></thead>\n",
       "<tbody>\n",
       "\t<tr><td>41  </td><td>190 </td><td> 7.4</td><td>67  </td><td>5   </td><td>1   </td></tr>\n",
       "\t<tr><td>36  </td><td>118 </td><td> 8.0</td><td>72  </td><td>5   </td><td>2   </td></tr>\n",
       "\t<tr><td>12  </td><td>149 </td><td>12.6</td><td>74  </td><td>5   </td><td>3   </td></tr>\n",
       "\t<tr><td>18  </td><td>313 </td><td>11.5</td><td>62  </td><td>5   </td><td>4   </td></tr>\n",
       "\t<tr><td>NA  </td><td> NA </td><td>14.3</td><td>56  </td><td>5   </td><td>5   </td></tr>\n",
       "\t<tr><td>28  </td><td> NA </td><td>14.9</td><td>66  </td><td>5   </td><td>6   </td></tr>\n",
       "</tbody>\n",
       "</table>\n"
      ],
      "text/latex": [
       "\\begin{tabular}{r|llllll}\n",
       " Ozone & Solar.R & Wind & Temp & Month & Day\\\\\n",
       "\\hline\n",
       "\t 41   & 190  &  7.4 & 67   & 5    & 1   \\\\\n",
       "\t 36   & 118  &  8.0 & 72   & 5    & 2   \\\\\n",
       "\t 12   & 149  & 12.6 & 74   & 5    & 3   \\\\\n",
       "\t 18   & 313  & 11.5 & 62   & 5    & 4   \\\\\n",
       "\t NA   &  NA  & 14.3 & 56   & 5    & 5   \\\\\n",
       "\t 28   &  NA  & 14.9 & 66   & 5    & 6   \\\\\n",
       "\\end{tabular}\n"
      ],
      "text/markdown": [
       "\n",
       "Ozone | Solar.R | Wind | Temp | Month | Day | \n",
       "|---|---|---|---|---|---|\n",
       "| 41   | 190  |  7.4 | 67   | 5    | 1    | \n",
       "| 36   | 118  |  8.0 | 72   | 5    | 2    | \n",
       "| 12   | 149  | 12.6 | 74   | 5    | 3    | \n",
       "| 18   | 313  | 11.5 | 62   | 5    | 4    | \n",
       "| NA   |  NA  | 14.3 | 56   | 5    | 5    | \n",
       "| 28   |  NA  | 14.9 | 66   | 5    | 6    | \n",
       "\n",
       "\n"
      ],
      "text/plain": [
       "  Ozone Solar.R Wind Temp Month Day\n",
       "1 41    190      7.4 67   5     1  \n",
       "2 36    118      8.0 72   5     2  \n",
       "3 12    149     12.6 74   5     3  \n",
       "4 18    313     11.5 62   5     4  \n",
       "5 NA     NA     14.3 56   5     5  \n",
       "6 28     NA     14.9 66   5     6  "
      ]
     },
     "metadata": {},
     "output_type": "display_data"
    },
    {
     "data": {
      "text/html": [
       "<dl>\n",
       "\t<dt>$`5`</dt>\n",
       "\t\t<dd><table>\n",
       "<thead><tr><th scope=col>Ozone</th><th scope=col>Solar.R</th><th scope=col>Wind</th><th scope=col>Temp</th><th scope=col>Month</th><th scope=col>Day</th></tr></thead>\n",
       "<tbody>\n",
       "\t<tr><td> 41 </td><td>190 </td><td> 7.4</td><td>67  </td><td>5   </td><td> 1  </td></tr>\n",
       "\t<tr><td> 36 </td><td>118 </td><td> 8.0</td><td>72  </td><td>5   </td><td> 2  </td></tr>\n",
       "\t<tr><td> 12 </td><td>149 </td><td>12.6</td><td>74  </td><td>5   </td><td> 3  </td></tr>\n",
       "\t<tr><td> 18 </td><td>313 </td><td>11.5</td><td>62  </td><td>5   </td><td> 4  </td></tr>\n",
       "\t<tr><td> NA </td><td> NA </td><td>14.3</td><td>56  </td><td>5   </td><td> 5  </td></tr>\n",
       "\t<tr><td> 28 </td><td> NA </td><td>14.9</td><td>66  </td><td>5   </td><td> 6  </td></tr>\n",
       "\t<tr><td> 23 </td><td>299 </td><td> 8.6</td><td>65  </td><td>5   </td><td> 7  </td></tr>\n",
       "\t<tr><td> 19 </td><td> 99 </td><td>13.8</td><td>59  </td><td>5   </td><td> 8  </td></tr>\n",
       "\t<tr><td>  8 </td><td> 19 </td><td>20.1</td><td>61  </td><td>5   </td><td> 9  </td></tr>\n",
       "\t<tr><td> NA </td><td>194 </td><td> 8.6</td><td>69  </td><td>5   </td><td>10  </td></tr>\n",
       "\t<tr><td>  7 </td><td> NA </td><td> 6.9</td><td>74  </td><td>5   </td><td>11  </td></tr>\n",
       "\t<tr><td> 16 </td><td>256 </td><td> 9.7</td><td>69  </td><td>5   </td><td>12  </td></tr>\n",
       "\t<tr><td> 11 </td><td>290 </td><td> 9.2</td><td>66  </td><td>5   </td><td>13  </td></tr>\n",
       "\t<tr><td> 14 </td><td>274 </td><td>10.9</td><td>68  </td><td>5   </td><td>14  </td></tr>\n",
       "\t<tr><td> 18 </td><td> 65 </td><td>13.2</td><td>58  </td><td>5   </td><td>15  </td></tr>\n",
       "\t<tr><td> 14 </td><td>334 </td><td>11.5</td><td>64  </td><td>5   </td><td>16  </td></tr>\n",
       "\t<tr><td> 34 </td><td>307 </td><td>12.0</td><td>66  </td><td>5   </td><td>17  </td></tr>\n",
       "\t<tr><td>  6 </td><td> 78 </td><td>18.4</td><td>57  </td><td>5   </td><td>18  </td></tr>\n",
       "\t<tr><td> 30 </td><td>322 </td><td>11.5</td><td>68  </td><td>5   </td><td>19  </td></tr>\n",
       "\t<tr><td> 11 </td><td> 44 </td><td> 9.7</td><td>62  </td><td>5   </td><td>20  </td></tr>\n",
       "\t<tr><td>  1 </td><td>  8 </td><td> 9.7</td><td>59  </td><td>5   </td><td>21  </td></tr>\n",
       "\t<tr><td> 11 </td><td>320 </td><td>16.6</td><td>73  </td><td>5   </td><td>22  </td></tr>\n",
       "\t<tr><td>  4 </td><td> 25 </td><td> 9.7</td><td>61  </td><td>5   </td><td>23  </td></tr>\n",
       "\t<tr><td> 32 </td><td> 92 </td><td>12.0</td><td>61  </td><td>5   </td><td>24  </td></tr>\n",
       "\t<tr><td> NA </td><td> 66 </td><td>16.6</td><td>57  </td><td>5   </td><td>25  </td></tr>\n",
       "\t<tr><td> NA </td><td>266 </td><td>14.9</td><td>58  </td><td>5   </td><td>26  </td></tr>\n",
       "\t<tr><td> NA </td><td> NA </td><td> 8.0</td><td>57  </td><td>5   </td><td>27  </td></tr>\n",
       "\t<tr><td> 23 </td><td> 13 </td><td>12.0</td><td>67  </td><td>5   </td><td>28  </td></tr>\n",
       "\t<tr><td> 45 </td><td>252 </td><td>14.9</td><td>81  </td><td>5   </td><td>29  </td></tr>\n",
       "\t<tr><td>115 </td><td>223 </td><td> 5.7</td><td>79  </td><td>5   </td><td>30  </td></tr>\n",
       "\t<tr><td> 37 </td><td>279 </td><td> 7.4</td><td>76  </td><td>5   </td><td>31  </td></tr>\n",
       "</tbody>\n",
       "</table>\n",
       "</dd>\n",
       "\t<dt>$`6`</dt>\n",
       "\t\t<dd><table>\n",
       "<thead><tr><th></th><th scope=col>Ozone</th><th scope=col>Solar.R</th><th scope=col>Wind</th><th scope=col>Temp</th><th scope=col>Month</th><th scope=col>Day</th></tr></thead>\n",
       "<tbody>\n",
       "\t<tr><th scope=row>32</th><td>NA  </td><td>286 </td><td> 8.6</td><td>78  </td><td>6   </td><td> 1  </td></tr>\n",
       "\t<tr><th scope=row>33</th><td>NA  </td><td>287 </td><td> 9.7</td><td>74  </td><td>6   </td><td> 2  </td></tr>\n",
       "\t<tr><th scope=row>34</th><td>NA  </td><td>242 </td><td>16.1</td><td>67  </td><td>6   </td><td> 3  </td></tr>\n",
       "\t<tr><th scope=row>35</th><td>NA  </td><td>186 </td><td> 9.2</td><td>84  </td><td>6   </td><td> 4  </td></tr>\n",
       "\t<tr><th scope=row>36</th><td>NA  </td><td>220 </td><td> 8.6</td><td>85  </td><td>6   </td><td> 5  </td></tr>\n",
       "\t<tr><th scope=row>37</th><td>NA  </td><td>264 </td><td>14.3</td><td>79  </td><td>6   </td><td> 6  </td></tr>\n",
       "\t<tr><th scope=row>38</th><td>29  </td><td>127 </td><td> 9.7</td><td>82  </td><td>6   </td><td> 7  </td></tr>\n",
       "\t<tr><th scope=row>39</th><td>NA  </td><td>273 </td><td> 6.9</td><td>87  </td><td>6   </td><td> 8  </td></tr>\n",
       "\t<tr><th scope=row>40</th><td>71  </td><td>291 </td><td>13.8</td><td>90  </td><td>6   </td><td> 9  </td></tr>\n",
       "\t<tr><th scope=row>41</th><td>39  </td><td>323 </td><td>11.5</td><td>87  </td><td>6   </td><td>10  </td></tr>\n",
       "\t<tr><th scope=row>42</th><td>NA  </td><td>259 </td><td>10.9</td><td>93  </td><td>6   </td><td>11  </td></tr>\n",
       "\t<tr><th scope=row>43</th><td>NA  </td><td>250 </td><td> 9.2</td><td>92  </td><td>6   </td><td>12  </td></tr>\n",
       "\t<tr><th scope=row>44</th><td>23  </td><td>148 </td><td> 8.0</td><td>82  </td><td>6   </td><td>13  </td></tr>\n",
       "\t<tr><th scope=row>45</th><td>NA  </td><td>332 </td><td>13.8</td><td>80  </td><td>6   </td><td>14  </td></tr>\n",
       "\t<tr><th scope=row>46</th><td>NA  </td><td>322 </td><td>11.5</td><td>79  </td><td>6   </td><td>15  </td></tr>\n",
       "\t<tr><th scope=row>47</th><td>21  </td><td>191 </td><td>14.9</td><td>77  </td><td>6   </td><td>16  </td></tr>\n",
       "\t<tr><th scope=row>48</th><td>37  </td><td>284 </td><td>20.7</td><td>72  </td><td>6   </td><td>17  </td></tr>\n",
       "\t<tr><th scope=row>49</th><td>20  </td><td> 37 </td><td> 9.2</td><td>65  </td><td>6   </td><td>18  </td></tr>\n",
       "\t<tr><th scope=row>50</th><td>12  </td><td>120 </td><td>11.5</td><td>73  </td><td>6   </td><td>19  </td></tr>\n",
       "\t<tr><th scope=row>51</th><td>13  </td><td>137 </td><td>10.3</td><td>76  </td><td>6   </td><td>20  </td></tr>\n",
       "\t<tr><th scope=row>52</th><td>NA  </td><td>150 </td><td> 6.3</td><td>77  </td><td>6   </td><td>21  </td></tr>\n",
       "\t<tr><th scope=row>53</th><td>NA  </td><td> 59 </td><td> 1.7</td><td>76  </td><td>6   </td><td>22  </td></tr>\n",
       "\t<tr><th scope=row>54</th><td>NA  </td><td> 91 </td><td> 4.6</td><td>76  </td><td>6   </td><td>23  </td></tr>\n",
       "\t<tr><th scope=row>55</th><td>NA  </td><td>250 </td><td> 6.3</td><td>76  </td><td>6   </td><td>24  </td></tr>\n",
       "\t<tr><th scope=row>56</th><td>NA  </td><td>135 </td><td> 8.0</td><td>75  </td><td>6   </td><td>25  </td></tr>\n",
       "\t<tr><th scope=row>57</th><td>NA  </td><td>127 </td><td> 8.0</td><td>78  </td><td>6   </td><td>26  </td></tr>\n",
       "\t<tr><th scope=row>58</th><td>NA  </td><td> 47 </td><td>10.3</td><td>73  </td><td>6   </td><td>27  </td></tr>\n",
       "\t<tr><th scope=row>59</th><td>NA  </td><td> 98 </td><td>11.5</td><td>80  </td><td>6   </td><td>28  </td></tr>\n",
       "\t<tr><th scope=row>60</th><td>NA  </td><td> 31 </td><td>14.9</td><td>77  </td><td>6   </td><td>29  </td></tr>\n",
       "\t<tr><th scope=row>61</th><td>NA  </td><td>138 </td><td> 8.0</td><td>83  </td><td>6   </td><td>30  </td></tr>\n",
       "</tbody>\n",
       "</table>\n",
       "</dd>\n",
       "\t<dt>$`7`</dt>\n",
       "\t\t<dd><table>\n",
       "<thead><tr><th></th><th scope=col>Ozone</th><th scope=col>Solar.R</th><th scope=col>Wind</th><th scope=col>Temp</th><th scope=col>Month</th><th scope=col>Day</th></tr></thead>\n",
       "<tbody>\n",
       "\t<tr><th scope=row>62</th><td>135 </td><td>269 </td><td> 4.1</td><td>84  </td><td>7   </td><td> 1  </td></tr>\n",
       "\t<tr><th scope=row>63</th><td> 49 </td><td>248 </td><td> 9.2</td><td>85  </td><td>7   </td><td> 2  </td></tr>\n",
       "\t<tr><th scope=row>64</th><td> 32 </td><td>236 </td><td> 9.2</td><td>81  </td><td>7   </td><td> 3  </td></tr>\n",
       "\t<tr><th scope=row>65</th><td> NA </td><td>101 </td><td>10.9</td><td>84  </td><td>7   </td><td> 4  </td></tr>\n",
       "\t<tr><th scope=row>66</th><td> 64 </td><td>175 </td><td> 4.6</td><td>83  </td><td>7   </td><td> 5  </td></tr>\n",
       "\t<tr><th scope=row>67</th><td> 40 </td><td>314 </td><td>10.9</td><td>83  </td><td>7   </td><td> 6  </td></tr>\n",
       "\t<tr><th scope=row>68</th><td> 77 </td><td>276 </td><td> 5.1</td><td>88  </td><td>7   </td><td> 7  </td></tr>\n",
       "\t<tr><th scope=row>69</th><td> 97 </td><td>267 </td><td> 6.3</td><td>92  </td><td>7   </td><td> 8  </td></tr>\n",
       "\t<tr><th scope=row>70</th><td> 97 </td><td>272 </td><td> 5.7</td><td>92  </td><td>7   </td><td> 9  </td></tr>\n",
       "\t<tr><th scope=row>71</th><td> 85 </td><td>175 </td><td> 7.4</td><td>89  </td><td>7   </td><td>10  </td></tr>\n",
       "\t<tr><th scope=row>72</th><td> NA </td><td>139 </td><td> 8.6</td><td>82  </td><td>7   </td><td>11  </td></tr>\n",
       "\t<tr><th scope=row>73</th><td> 10 </td><td>264 </td><td>14.3</td><td>73  </td><td>7   </td><td>12  </td></tr>\n",
       "\t<tr><th scope=row>74</th><td> 27 </td><td>175 </td><td>14.9</td><td>81  </td><td>7   </td><td>13  </td></tr>\n",
       "\t<tr><th scope=row>75</th><td> NA </td><td>291 </td><td>14.9</td><td>91  </td><td>7   </td><td>14  </td></tr>\n",
       "\t<tr><th scope=row>76</th><td>  7 </td><td> 48 </td><td>14.3</td><td>80  </td><td>7   </td><td>15  </td></tr>\n",
       "\t<tr><th scope=row>77</th><td> 48 </td><td>260 </td><td> 6.9</td><td>81  </td><td>7   </td><td>16  </td></tr>\n",
       "\t<tr><th scope=row>78</th><td> 35 </td><td>274 </td><td>10.3</td><td>82  </td><td>7   </td><td>17  </td></tr>\n",
       "\t<tr><th scope=row>79</th><td> 61 </td><td>285 </td><td> 6.3</td><td>84  </td><td>7   </td><td>18  </td></tr>\n",
       "\t<tr><th scope=row>80</th><td> 79 </td><td>187 </td><td> 5.1</td><td>87  </td><td>7   </td><td>19  </td></tr>\n",
       "\t<tr><th scope=row>81</th><td> 63 </td><td>220 </td><td>11.5</td><td>85  </td><td>7   </td><td>20  </td></tr>\n",
       "\t<tr><th scope=row>82</th><td> 16 </td><td>  7 </td><td> 6.9</td><td>74  </td><td>7   </td><td>21  </td></tr>\n",
       "\t<tr><th scope=row>83</th><td> NA </td><td>258 </td><td> 9.7</td><td>81  </td><td>7   </td><td>22  </td></tr>\n",
       "\t<tr><th scope=row>84</th><td> NA </td><td>295 </td><td>11.5</td><td>82  </td><td>7   </td><td>23  </td></tr>\n",
       "\t<tr><th scope=row>85</th><td> 80 </td><td>294 </td><td> 8.6</td><td>86  </td><td>7   </td><td>24  </td></tr>\n",
       "\t<tr><th scope=row>86</th><td>108 </td><td>223 </td><td> 8.0</td><td>85  </td><td>7   </td><td>25  </td></tr>\n",
       "\t<tr><th scope=row>87</th><td> 20 </td><td> 81 </td><td> 8.6</td><td>82  </td><td>7   </td><td>26  </td></tr>\n",
       "\t<tr><th scope=row>88</th><td> 52 </td><td> 82 </td><td>12.0</td><td>86  </td><td>7   </td><td>27  </td></tr>\n",
       "\t<tr><th scope=row>89</th><td> 82 </td><td>213 </td><td> 7.4</td><td>88  </td><td>7   </td><td>28  </td></tr>\n",
       "\t<tr><th scope=row>90</th><td> 50 </td><td>275 </td><td> 7.4</td><td>86  </td><td>7   </td><td>29  </td></tr>\n",
       "\t<tr><th scope=row>91</th><td> 64 </td><td>253 </td><td> 7.4</td><td>83  </td><td>7   </td><td>30  </td></tr>\n",
       "\t<tr><th scope=row>92</th><td> 59 </td><td>254 </td><td> 9.2</td><td>81  </td><td>7   </td><td>31  </td></tr>\n",
       "</tbody>\n",
       "</table>\n",
       "</dd>\n",
       "\t<dt>$`8`</dt>\n",
       "\t\t<dd><table>\n",
       "<thead><tr><th></th><th scope=col>Ozone</th><th scope=col>Solar.R</th><th scope=col>Wind</th><th scope=col>Temp</th><th scope=col>Month</th><th scope=col>Day</th></tr></thead>\n",
       "<tbody>\n",
       "\t<tr><th scope=row>93</th><td> 39 </td><td> 83 </td><td> 6.9</td><td>81  </td><td>8   </td><td> 1  </td></tr>\n",
       "\t<tr><th scope=row>94</th><td>  9 </td><td> 24 </td><td>13.8</td><td>81  </td><td>8   </td><td> 2  </td></tr>\n",
       "\t<tr><th scope=row>95</th><td> 16 </td><td> 77 </td><td> 7.4</td><td>82  </td><td>8   </td><td> 3  </td></tr>\n",
       "\t<tr><th scope=row>96</th><td> 78 </td><td> NA </td><td> 6.9</td><td>86  </td><td>8   </td><td> 4  </td></tr>\n",
       "\t<tr><th scope=row>97</th><td> 35 </td><td> NA </td><td> 7.4</td><td>85  </td><td>8   </td><td> 5  </td></tr>\n",
       "\t<tr><th scope=row>98</th><td> 66 </td><td> NA </td><td> 4.6</td><td>87  </td><td>8   </td><td> 6  </td></tr>\n",
       "\t<tr><th scope=row>99</th><td>122 </td><td>255 </td><td> 4.0</td><td>89  </td><td>8   </td><td> 7  </td></tr>\n",
       "\t<tr><th scope=row>100</th><td> 89 </td><td>229 </td><td>10.3</td><td>90  </td><td>8   </td><td> 8  </td></tr>\n",
       "\t<tr><th scope=row>101</th><td>110 </td><td>207 </td><td> 8.0</td><td>90  </td><td>8   </td><td> 9  </td></tr>\n",
       "\t<tr><th scope=row>102</th><td> NA </td><td>222 </td><td> 8.6</td><td>92  </td><td>8   </td><td>10  </td></tr>\n",
       "\t<tr><th scope=row>103</th><td> NA </td><td>137 </td><td>11.5</td><td>86  </td><td>8   </td><td>11  </td></tr>\n",
       "\t<tr><th scope=row>104</th><td> 44 </td><td>192 </td><td>11.5</td><td>86  </td><td>8   </td><td>12  </td></tr>\n",
       "\t<tr><th scope=row>105</th><td> 28 </td><td>273 </td><td>11.5</td><td>82  </td><td>8   </td><td>13  </td></tr>\n",
       "\t<tr><th scope=row>106</th><td> 65 </td><td>157 </td><td> 9.7</td><td>80  </td><td>8   </td><td>14  </td></tr>\n",
       "\t<tr><th scope=row>107</th><td> NA </td><td> 64 </td><td>11.5</td><td>79  </td><td>8   </td><td>15  </td></tr>\n",
       "\t<tr><th scope=row>108</th><td> 22 </td><td> 71 </td><td>10.3</td><td>77  </td><td>8   </td><td>16  </td></tr>\n",
       "\t<tr><th scope=row>109</th><td> 59 </td><td> 51 </td><td> 6.3</td><td>79  </td><td>8   </td><td>17  </td></tr>\n",
       "\t<tr><th scope=row>110</th><td> 23 </td><td>115 </td><td> 7.4</td><td>76  </td><td>8   </td><td>18  </td></tr>\n",
       "\t<tr><th scope=row>111</th><td> 31 </td><td>244 </td><td>10.9</td><td>78  </td><td>8   </td><td>19  </td></tr>\n",
       "\t<tr><th scope=row>112</th><td> 44 </td><td>190 </td><td>10.3</td><td>78  </td><td>8   </td><td>20  </td></tr>\n",
       "\t<tr><th scope=row>113</th><td> 21 </td><td>259 </td><td>15.5</td><td>77  </td><td>8   </td><td>21  </td></tr>\n",
       "\t<tr><th scope=row>114</th><td>  9 </td><td> 36 </td><td>14.3</td><td>72  </td><td>8   </td><td>22  </td></tr>\n",
       "\t<tr><th scope=row>115</th><td> NA </td><td>255 </td><td>12.6</td><td>75  </td><td>8   </td><td>23  </td></tr>\n",
       "\t<tr><th scope=row>116</th><td> 45 </td><td>212 </td><td> 9.7</td><td>79  </td><td>8   </td><td>24  </td></tr>\n",
       "\t<tr><th scope=row>117</th><td>168 </td><td>238 </td><td> 3.4</td><td>81  </td><td>8   </td><td>25  </td></tr>\n",
       "\t<tr><th scope=row>118</th><td> 73 </td><td>215 </td><td> 8.0</td><td>86  </td><td>8   </td><td>26  </td></tr>\n",
       "\t<tr><th scope=row>119</th><td> NA </td><td>153 </td><td> 5.7</td><td>88  </td><td>8   </td><td>27  </td></tr>\n",
       "\t<tr><th scope=row>120</th><td> 76 </td><td>203 </td><td> 9.7</td><td>97  </td><td>8   </td><td>28  </td></tr>\n",
       "\t<tr><th scope=row>121</th><td>118 </td><td>225 </td><td> 2.3</td><td>94  </td><td>8   </td><td>29  </td></tr>\n",
       "\t<tr><th scope=row>122</th><td> 84 </td><td>237 </td><td> 6.3</td><td>96  </td><td>8   </td><td>30  </td></tr>\n",
       "\t<tr><th scope=row>123</th><td> 85 </td><td>188 </td><td> 6.3</td><td>94  </td><td>8   </td><td>31  </td></tr>\n",
       "</tbody>\n",
       "</table>\n",
       "</dd>\n",
       "\t<dt>$`9`</dt>\n",
       "\t\t<dd><table>\n",
       "<thead><tr><th></th><th scope=col>Ozone</th><th scope=col>Solar.R</th><th scope=col>Wind</th><th scope=col>Temp</th><th scope=col>Month</th><th scope=col>Day</th></tr></thead>\n",
       "<tbody>\n",
       "\t<tr><th scope=row>124</th><td>96  </td><td>167 </td><td> 6.9</td><td>91  </td><td>9   </td><td> 1  </td></tr>\n",
       "\t<tr><th scope=row>125</th><td>78  </td><td>197 </td><td> 5.1</td><td>92  </td><td>9   </td><td> 2  </td></tr>\n",
       "\t<tr><th scope=row>126</th><td>73  </td><td>183 </td><td> 2.8</td><td>93  </td><td>9   </td><td> 3  </td></tr>\n",
       "\t<tr><th scope=row>127</th><td>91  </td><td>189 </td><td> 4.6</td><td>93  </td><td>9   </td><td> 4  </td></tr>\n",
       "\t<tr><th scope=row>128</th><td>47  </td><td> 95 </td><td> 7.4</td><td>87  </td><td>9   </td><td> 5  </td></tr>\n",
       "\t<tr><th scope=row>129</th><td>32  </td><td> 92 </td><td>15.5</td><td>84  </td><td>9   </td><td> 6  </td></tr>\n",
       "\t<tr><th scope=row>130</th><td>20  </td><td>252 </td><td>10.9</td><td>80  </td><td>9   </td><td> 7  </td></tr>\n",
       "\t<tr><th scope=row>131</th><td>23  </td><td>220 </td><td>10.3</td><td>78  </td><td>9   </td><td> 8  </td></tr>\n",
       "\t<tr><th scope=row>132</th><td>21  </td><td>230 </td><td>10.9</td><td>75  </td><td>9   </td><td> 9  </td></tr>\n",
       "\t<tr><th scope=row>133</th><td>24  </td><td>259 </td><td> 9.7</td><td>73  </td><td>9   </td><td>10  </td></tr>\n",
       "\t<tr><th scope=row>134</th><td>44  </td><td>236 </td><td>14.9</td><td>81  </td><td>9   </td><td>11  </td></tr>\n",
       "\t<tr><th scope=row>135</th><td>21  </td><td>259 </td><td>15.5</td><td>76  </td><td>9   </td><td>12  </td></tr>\n",
       "\t<tr><th scope=row>136</th><td>28  </td><td>238 </td><td> 6.3</td><td>77  </td><td>9   </td><td>13  </td></tr>\n",
       "\t<tr><th scope=row>137</th><td> 9  </td><td> 24 </td><td>10.9</td><td>71  </td><td>9   </td><td>14  </td></tr>\n",
       "\t<tr><th scope=row>138</th><td>13  </td><td>112 </td><td>11.5</td><td>71  </td><td>9   </td><td>15  </td></tr>\n",
       "\t<tr><th scope=row>139</th><td>46  </td><td>237 </td><td> 6.9</td><td>78  </td><td>9   </td><td>16  </td></tr>\n",
       "\t<tr><th scope=row>140</th><td>18  </td><td>224 </td><td>13.8</td><td>67  </td><td>9   </td><td>17  </td></tr>\n",
       "\t<tr><th scope=row>141</th><td>13  </td><td> 27 </td><td>10.3</td><td>76  </td><td>9   </td><td>18  </td></tr>\n",
       "\t<tr><th scope=row>142</th><td>24  </td><td>238 </td><td>10.3</td><td>68  </td><td>9   </td><td>19  </td></tr>\n",
       "\t<tr><th scope=row>143</th><td>16  </td><td>201 </td><td> 8.0</td><td>82  </td><td>9   </td><td>20  </td></tr>\n",
       "\t<tr><th scope=row>144</th><td>13  </td><td>238 </td><td>12.6</td><td>64  </td><td>9   </td><td>21  </td></tr>\n",
       "\t<tr><th scope=row>145</th><td>23  </td><td> 14 </td><td> 9.2</td><td>71  </td><td>9   </td><td>22  </td></tr>\n",
       "\t<tr><th scope=row>146</th><td>36  </td><td>139 </td><td>10.3</td><td>81  </td><td>9   </td><td>23  </td></tr>\n",
       "\t<tr><th scope=row>147</th><td> 7  </td><td> 49 </td><td>10.3</td><td>69  </td><td>9   </td><td>24  </td></tr>\n",
       "\t<tr><th scope=row>148</th><td>14  </td><td> 20 </td><td>16.6</td><td>63  </td><td>9   </td><td>25  </td></tr>\n",
       "\t<tr><th scope=row>149</th><td>30  </td><td>193 </td><td> 6.9</td><td>70  </td><td>9   </td><td>26  </td></tr>\n",
       "\t<tr><th scope=row>150</th><td>NA  </td><td>145 </td><td>13.2</td><td>77  </td><td>9   </td><td>27  </td></tr>\n",
       "\t<tr><th scope=row>151</th><td>14  </td><td>191 </td><td>14.3</td><td>75  </td><td>9   </td><td>28  </td></tr>\n",
       "\t<tr><th scope=row>152</th><td>18  </td><td>131 </td><td> 8.0</td><td>76  </td><td>9   </td><td>29  </td></tr>\n",
       "\t<tr><th scope=row>153</th><td>20  </td><td>223 </td><td>11.5</td><td>68  </td><td>9   </td><td>30  </td></tr>\n",
       "</tbody>\n",
       "</table>\n",
       "</dd>\n",
       "</dl>\n"
      ],
      "text/latex": [
       "\\begin{description}\n",
       "\\item[\\$`5`] \\begin{tabular}{r|llllll}\n",
       " Ozone & Solar.R & Wind & Temp & Month & Day\\\\\n",
       "\\hline\n",
       "\t  41  & 190  &  7.4 & 67   & 5    &  1  \\\\\n",
       "\t  36  & 118  &  8.0 & 72   & 5    &  2  \\\\\n",
       "\t  12  & 149  & 12.6 & 74   & 5    &  3  \\\\\n",
       "\t  18  & 313  & 11.5 & 62   & 5    &  4  \\\\\n",
       "\t  NA  &  NA  & 14.3 & 56   & 5    &  5  \\\\\n",
       "\t  28  &  NA  & 14.9 & 66   & 5    &  6  \\\\\n",
       "\t  23  & 299  &  8.6 & 65   & 5    &  7  \\\\\n",
       "\t  19  &  99  & 13.8 & 59   & 5    &  8  \\\\\n",
       "\t   8  &  19  & 20.1 & 61   & 5    &  9  \\\\\n",
       "\t  NA  & 194  &  8.6 & 69   & 5    & 10  \\\\\n",
       "\t   7  &  NA  &  6.9 & 74   & 5    & 11  \\\\\n",
       "\t  16  & 256  &  9.7 & 69   & 5    & 12  \\\\\n",
       "\t  11  & 290  &  9.2 & 66   & 5    & 13  \\\\\n",
       "\t  14  & 274  & 10.9 & 68   & 5    & 14  \\\\\n",
       "\t  18  &  65  & 13.2 & 58   & 5    & 15  \\\\\n",
       "\t  14  & 334  & 11.5 & 64   & 5    & 16  \\\\\n",
       "\t  34  & 307  & 12.0 & 66   & 5    & 17  \\\\\n",
       "\t   6  &  78  & 18.4 & 57   & 5    & 18  \\\\\n",
       "\t  30  & 322  & 11.5 & 68   & 5    & 19  \\\\\n",
       "\t  11  &  44  &  9.7 & 62   & 5    & 20  \\\\\n",
       "\t   1  &   8  &  9.7 & 59   & 5    & 21  \\\\\n",
       "\t  11  & 320  & 16.6 & 73   & 5    & 22  \\\\\n",
       "\t   4  &  25  &  9.7 & 61   & 5    & 23  \\\\\n",
       "\t  32  &  92  & 12.0 & 61   & 5    & 24  \\\\\n",
       "\t  NA  &  66  & 16.6 & 57   & 5    & 25  \\\\\n",
       "\t  NA  & 266  & 14.9 & 58   & 5    & 26  \\\\\n",
       "\t  NA  &  NA  &  8.0 & 57   & 5    & 27  \\\\\n",
       "\t  23  &  13  & 12.0 & 67   & 5    & 28  \\\\\n",
       "\t  45  & 252  & 14.9 & 81   & 5    & 29  \\\\\n",
       "\t 115  & 223  &  5.7 & 79   & 5    & 30  \\\\\n",
       "\t  37  & 279  &  7.4 & 76   & 5    & 31  \\\\\n",
       "\\end{tabular}\n",
       "\n",
       "\\item[\\$`6`] \\begin{tabular}{r|llllll}\n",
       "  & Ozone & Solar.R & Wind & Temp & Month & Day\\\\\n",
       "\\hline\n",
       "\t32 & NA   & 286  &  8.6 & 78   & 6    &  1  \\\\\n",
       "\t33 & NA   & 287  &  9.7 & 74   & 6    &  2  \\\\\n",
       "\t34 & NA   & 242  & 16.1 & 67   & 6    &  3  \\\\\n",
       "\t35 & NA   & 186  &  9.2 & 84   & 6    &  4  \\\\\n",
       "\t36 & NA   & 220  &  8.6 & 85   & 6    &  5  \\\\\n",
       "\t37 & NA   & 264  & 14.3 & 79   & 6    &  6  \\\\\n",
       "\t38 & 29   & 127  &  9.7 & 82   & 6    &  7  \\\\\n",
       "\t39 & NA   & 273  &  6.9 & 87   & 6    &  8  \\\\\n",
       "\t40 & 71   & 291  & 13.8 & 90   & 6    &  9  \\\\\n",
       "\t41 & 39   & 323  & 11.5 & 87   & 6    & 10  \\\\\n",
       "\t42 & NA   & 259  & 10.9 & 93   & 6    & 11  \\\\\n",
       "\t43 & NA   & 250  &  9.2 & 92   & 6    & 12  \\\\\n",
       "\t44 & 23   & 148  &  8.0 & 82   & 6    & 13  \\\\\n",
       "\t45 & NA   & 332  & 13.8 & 80   & 6    & 14  \\\\\n",
       "\t46 & NA   & 322  & 11.5 & 79   & 6    & 15  \\\\\n",
       "\t47 & 21   & 191  & 14.9 & 77   & 6    & 16  \\\\\n",
       "\t48 & 37   & 284  & 20.7 & 72   & 6    & 17  \\\\\n",
       "\t49 & 20   &  37  &  9.2 & 65   & 6    & 18  \\\\\n",
       "\t50 & 12   & 120  & 11.5 & 73   & 6    & 19  \\\\\n",
       "\t51 & 13   & 137  & 10.3 & 76   & 6    & 20  \\\\\n",
       "\t52 & NA   & 150  &  6.3 & 77   & 6    & 21  \\\\\n",
       "\t53 & NA   &  59  &  1.7 & 76   & 6    & 22  \\\\\n",
       "\t54 & NA   &  91  &  4.6 & 76   & 6    & 23  \\\\\n",
       "\t55 & NA   & 250  &  6.3 & 76   & 6    & 24  \\\\\n",
       "\t56 & NA   & 135  &  8.0 & 75   & 6    & 25  \\\\\n",
       "\t57 & NA   & 127  &  8.0 & 78   & 6    & 26  \\\\\n",
       "\t58 & NA   &  47  & 10.3 & 73   & 6    & 27  \\\\\n",
       "\t59 & NA   &  98  & 11.5 & 80   & 6    & 28  \\\\\n",
       "\t60 & NA   &  31  & 14.9 & 77   & 6    & 29  \\\\\n",
       "\t61 & NA   & 138  &  8.0 & 83   & 6    & 30  \\\\\n",
       "\\end{tabular}\n",
       "\n",
       "\\item[\\$`7`] \\begin{tabular}{r|llllll}\n",
       "  & Ozone & Solar.R & Wind & Temp & Month & Day\\\\\n",
       "\\hline\n",
       "\t62 & 135  & 269  &  4.1 & 84   & 7    &  1  \\\\\n",
       "\t63 &  49  & 248  &  9.2 & 85   & 7    &  2  \\\\\n",
       "\t64 &  32  & 236  &  9.2 & 81   & 7    &  3  \\\\\n",
       "\t65 &  NA  & 101  & 10.9 & 84   & 7    &  4  \\\\\n",
       "\t66 &  64  & 175  &  4.6 & 83   & 7    &  5  \\\\\n",
       "\t67 &  40  & 314  & 10.9 & 83   & 7    &  6  \\\\\n",
       "\t68 &  77  & 276  &  5.1 & 88   & 7    &  7  \\\\\n",
       "\t69 &  97  & 267  &  6.3 & 92   & 7    &  8  \\\\\n",
       "\t70 &  97  & 272  &  5.7 & 92   & 7    &  9  \\\\\n",
       "\t71 &  85  & 175  &  7.4 & 89   & 7    & 10  \\\\\n",
       "\t72 &  NA  & 139  &  8.6 & 82   & 7    & 11  \\\\\n",
       "\t73 &  10  & 264  & 14.3 & 73   & 7    & 12  \\\\\n",
       "\t74 &  27  & 175  & 14.9 & 81   & 7    & 13  \\\\\n",
       "\t75 &  NA  & 291  & 14.9 & 91   & 7    & 14  \\\\\n",
       "\t76 &   7  &  48  & 14.3 & 80   & 7    & 15  \\\\\n",
       "\t77 &  48  & 260  &  6.9 & 81   & 7    & 16  \\\\\n",
       "\t78 &  35  & 274  & 10.3 & 82   & 7    & 17  \\\\\n",
       "\t79 &  61  & 285  &  6.3 & 84   & 7    & 18  \\\\\n",
       "\t80 &  79  & 187  &  5.1 & 87   & 7    & 19  \\\\\n",
       "\t81 &  63  & 220  & 11.5 & 85   & 7    & 20  \\\\\n",
       "\t82 &  16  &   7  &  6.9 & 74   & 7    & 21  \\\\\n",
       "\t83 &  NA  & 258  &  9.7 & 81   & 7    & 22  \\\\\n",
       "\t84 &  NA  & 295  & 11.5 & 82   & 7    & 23  \\\\\n",
       "\t85 &  80  & 294  &  8.6 & 86   & 7    & 24  \\\\\n",
       "\t86 & 108  & 223  &  8.0 & 85   & 7    & 25  \\\\\n",
       "\t87 &  20  &  81  &  8.6 & 82   & 7    & 26  \\\\\n",
       "\t88 &  52  &  82  & 12.0 & 86   & 7    & 27  \\\\\n",
       "\t89 &  82  & 213  &  7.4 & 88   & 7    & 28  \\\\\n",
       "\t90 &  50  & 275  &  7.4 & 86   & 7    & 29  \\\\\n",
       "\t91 &  64  & 253  &  7.4 & 83   & 7    & 30  \\\\\n",
       "\t92 &  59  & 254  &  9.2 & 81   & 7    & 31  \\\\\n",
       "\\end{tabular}\n",
       "\n",
       "\\item[\\$`8`] \\begin{tabular}{r|llllll}\n",
       "  & Ozone & Solar.R & Wind & Temp & Month & Day\\\\\n",
       "\\hline\n",
       "\t93 &  39  &  83  &  6.9 & 81   & 8    &  1  \\\\\n",
       "\t94 &   9  &  24  & 13.8 & 81   & 8    &  2  \\\\\n",
       "\t95 &  16  &  77  &  7.4 & 82   & 8    &  3  \\\\\n",
       "\t96 &  78  &  NA  &  6.9 & 86   & 8    &  4  \\\\\n",
       "\t97 &  35  &  NA  &  7.4 & 85   & 8    &  5  \\\\\n",
       "\t98 &  66  &  NA  &  4.6 & 87   & 8    &  6  \\\\\n",
       "\t99 & 122  & 255  &  4.0 & 89   & 8    &  7  \\\\\n",
       "\t100 &  89  & 229  & 10.3 & 90   & 8    &  8  \\\\\n",
       "\t101 & 110  & 207  &  8.0 & 90   & 8    &  9  \\\\\n",
       "\t102 &  NA  & 222  &  8.6 & 92   & 8    & 10  \\\\\n",
       "\t103 &  NA  & 137  & 11.5 & 86   & 8    & 11  \\\\\n",
       "\t104 &  44  & 192  & 11.5 & 86   & 8    & 12  \\\\\n",
       "\t105 &  28  & 273  & 11.5 & 82   & 8    & 13  \\\\\n",
       "\t106 &  65  & 157  &  9.7 & 80   & 8    & 14  \\\\\n",
       "\t107 &  NA  &  64  & 11.5 & 79   & 8    & 15  \\\\\n",
       "\t108 &  22  &  71  & 10.3 & 77   & 8    & 16  \\\\\n",
       "\t109 &  59  &  51  &  6.3 & 79   & 8    & 17  \\\\\n",
       "\t110 &  23  & 115  &  7.4 & 76   & 8    & 18  \\\\\n",
       "\t111 &  31  & 244  & 10.9 & 78   & 8    & 19  \\\\\n",
       "\t112 &  44  & 190  & 10.3 & 78   & 8    & 20  \\\\\n",
       "\t113 &  21  & 259  & 15.5 & 77   & 8    & 21  \\\\\n",
       "\t114 &   9  &  36  & 14.3 & 72   & 8    & 22  \\\\\n",
       "\t115 &  NA  & 255  & 12.6 & 75   & 8    & 23  \\\\\n",
       "\t116 &  45  & 212  &  9.7 & 79   & 8    & 24  \\\\\n",
       "\t117 & 168  & 238  &  3.4 & 81   & 8    & 25  \\\\\n",
       "\t118 &  73  & 215  &  8.0 & 86   & 8    & 26  \\\\\n",
       "\t119 &  NA  & 153  &  5.7 & 88   & 8    & 27  \\\\\n",
       "\t120 &  76  & 203  &  9.7 & 97   & 8    & 28  \\\\\n",
       "\t121 & 118  & 225  &  2.3 & 94   & 8    & 29  \\\\\n",
       "\t122 &  84  & 237  &  6.3 & 96   & 8    & 30  \\\\\n",
       "\t123 &  85  & 188  &  6.3 & 94   & 8    & 31  \\\\\n",
       "\\end{tabular}\n",
       "\n",
       "\\item[\\$`9`] \\begin{tabular}{r|llllll}\n",
       "  & Ozone & Solar.R & Wind & Temp & Month & Day\\\\\n",
       "\\hline\n",
       "\t124 & 96   & 167  &  6.9 & 91   & 9    &  1  \\\\\n",
       "\t125 & 78   & 197  &  5.1 & 92   & 9    &  2  \\\\\n",
       "\t126 & 73   & 183  &  2.8 & 93   & 9    &  3  \\\\\n",
       "\t127 & 91   & 189  &  4.6 & 93   & 9    &  4  \\\\\n",
       "\t128 & 47   &  95  &  7.4 & 87   & 9    &  5  \\\\\n",
       "\t129 & 32   &  92  & 15.5 & 84   & 9    &  6  \\\\\n",
       "\t130 & 20   & 252  & 10.9 & 80   & 9    &  7  \\\\\n",
       "\t131 & 23   & 220  & 10.3 & 78   & 9    &  8  \\\\\n",
       "\t132 & 21   & 230  & 10.9 & 75   & 9    &  9  \\\\\n",
       "\t133 & 24   & 259  &  9.7 & 73   & 9    & 10  \\\\\n",
       "\t134 & 44   & 236  & 14.9 & 81   & 9    & 11  \\\\\n",
       "\t135 & 21   & 259  & 15.5 & 76   & 9    & 12  \\\\\n",
       "\t136 & 28   & 238  &  6.3 & 77   & 9    & 13  \\\\\n",
       "\t137 &  9   &  24  & 10.9 & 71   & 9    & 14  \\\\\n",
       "\t138 & 13   & 112  & 11.5 & 71   & 9    & 15  \\\\\n",
       "\t139 & 46   & 237  &  6.9 & 78   & 9    & 16  \\\\\n",
       "\t140 & 18   & 224  & 13.8 & 67   & 9    & 17  \\\\\n",
       "\t141 & 13   &  27  & 10.3 & 76   & 9    & 18  \\\\\n",
       "\t142 & 24   & 238  & 10.3 & 68   & 9    & 19  \\\\\n",
       "\t143 & 16   & 201  &  8.0 & 82   & 9    & 20  \\\\\n",
       "\t144 & 13   & 238  & 12.6 & 64   & 9    & 21  \\\\\n",
       "\t145 & 23   &  14  &  9.2 & 71   & 9    & 22  \\\\\n",
       "\t146 & 36   & 139  & 10.3 & 81   & 9    & 23  \\\\\n",
       "\t147 &  7   &  49  & 10.3 & 69   & 9    & 24  \\\\\n",
       "\t148 & 14   &  20  & 16.6 & 63   & 9    & 25  \\\\\n",
       "\t149 & 30   & 193  &  6.9 & 70   & 9    & 26  \\\\\n",
       "\t150 & NA   & 145  & 13.2 & 77   & 9    & 27  \\\\\n",
       "\t151 & 14   & 191  & 14.3 & 75   & 9    & 28  \\\\\n",
       "\t152 & 18   & 131  &  8.0 & 76   & 9    & 29  \\\\\n",
       "\t153 & 20   & 223  & 11.5 & 68   & 9    & 30  \\\\\n",
       "\\end{tabular}\n",
       "\n",
       "\\end{description}\n"
      ],
      "text/markdown": [
       "$`5`\n",
       ":   \n",
       "Ozone | Solar.R | Wind | Temp | Month | Day | \n",
       "|---|---|---|---|---|---|---|---|---|---|---|---|---|---|---|---|---|---|---|---|---|---|---|---|---|---|---|---|---|---|---|\n",
       "|  41  | 190  |  7.4 | 67   | 5    |  1   | \n",
       "|  36  | 118  |  8.0 | 72   | 5    |  2   | \n",
       "|  12  | 149  | 12.6 | 74   | 5    |  3   | \n",
       "|  18  | 313  | 11.5 | 62   | 5    |  4   | \n",
       "|  NA  |  NA  | 14.3 | 56   | 5    |  5   | \n",
       "|  28  |  NA  | 14.9 | 66   | 5    |  6   | \n",
       "|  23  | 299  |  8.6 | 65   | 5    |  7   | \n",
       "|  19  |  99  | 13.8 | 59   | 5    |  8   | \n",
       "|   8  |  19  | 20.1 | 61   | 5    |  9   | \n",
       "|  NA  | 194  |  8.6 | 69   | 5    | 10   | \n",
       "|   7  |  NA  |  6.9 | 74   | 5    | 11   | \n",
       "|  16  | 256  |  9.7 | 69   | 5    | 12   | \n",
       "|  11  | 290  |  9.2 | 66   | 5    | 13   | \n",
       "|  14  | 274  | 10.9 | 68   | 5    | 14   | \n",
       "|  18  |  65  | 13.2 | 58   | 5    | 15   | \n",
       "|  14  | 334  | 11.5 | 64   | 5    | 16   | \n",
       "|  34  | 307  | 12.0 | 66   | 5    | 17   | \n",
       "|   6  |  78  | 18.4 | 57   | 5    | 18   | \n",
       "|  30  | 322  | 11.5 | 68   | 5    | 19   | \n",
       "|  11  |  44  |  9.7 | 62   | 5    | 20   | \n",
       "|   1  |   8  |  9.7 | 59   | 5    | 21   | \n",
       "|  11  | 320  | 16.6 | 73   | 5    | 22   | \n",
       "|   4  |  25  |  9.7 | 61   | 5    | 23   | \n",
       "|  32  |  92  | 12.0 | 61   | 5    | 24   | \n",
       "|  NA  |  66  | 16.6 | 57   | 5    | 25   | \n",
       "|  NA  | 266  | 14.9 | 58   | 5    | 26   | \n",
       "|  NA  |  NA  |  8.0 | 57   | 5    | 27   | \n",
       "|  23  |  13  | 12.0 | 67   | 5    | 28   | \n",
       "|  45  | 252  | 14.9 | 81   | 5    | 29   | \n",
       "| 115  | 223  |  5.7 | 79   | 5    | 30   | \n",
       "|  37  | 279  |  7.4 | 76   | 5    | 31   | \n",
       "\n",
       "\n",
       "\n",
       "$`6`\n",
       ":   \n",
       "| <!--/--> | Ozone | Solar.R | Wind | Temp | Month | Day | \n",
       "|---|---|---|---|---|---|---|---|---|---|---|---|---|---|---|---|---|---|---|---|---|---|---|---|---|---|---|---|---|---|\n",
       "| 32 | NA   | 286  |  8.6 | 78   | 6    |  1   | \n",
       "| 33 | NA   | 287  |  9.7 | 74   | 6    |  2   | \n",
       "| 34 | NA   | 242  | 16.1 | 67   | 6    |  3   | \n",
       "| 35 | NA   | 186  |  9.2 | 84   | 6    |  4   | \n",
       "| 36 | NA   | 220  |  8.6 | 85   | 6    |  5   | \n",
       "| 37 | NA   | 264  | 14.3 | 79   | 6    |  6   | \n",
       "| 38 | 29   | 127  |  9.7 | 82   | 6    |  7   | \n",
       "| 39 | NA   | 273  |  6.9 | 87   | 6    |  8   | \n",
       "| 40 | 71   | 291  | 13.8 | 90   | 6    |  9   | \n",
       "| 41 | 39   | 323  | 11.5 | 87   | 6    | 10   | \n",
       "| 42 | NA   | 259  | 10.9 | 93   | 6    | 11   | \n",
       "| 43 | NA   | 250  |  9.2 | 92   | 6    | 12   | \n",
       "| 44 | 23   | 148  |  8.0 | 82   | 6    | 13   | \n",
       "| 45 | NA   | 332  | 13.8 | 80   | 6    | 14   | \n",
       "| 46 | NA   | 322  | 11.5 | 79   | 6    | 15   | \n",
       "| 47 | 21   | 191  | 14.9 | 77   | 6    | 16   | \n",
       "| 48 | 37   | 284  | 20.7 | 72   | 6    | 17   | \n",
       "| 49 | 20   |  37  |  9.2 | 65   | 6    | 18   | \n",
       "| 50 | 12   | 120  | 11.5 | 73   | 6    | 19   | \n",
       "| 51 | 13   | 137  | 10.3 | 76   | 6    | 20   | \n",
       "| 52 | NA   | 150  |  6.3 | 77   | 6    | 21   | \n",
       "| 53 | NA   |  59  |  1.7 | 76   | 6    | 22   | \n",
       "| 54 | NA   |  91  |  4.6 | 76   | 6    | 23   | \n",
       "| 55 | NA   | 250  |  6.3 | 76   | 6    | 24   | \n",
       "| 56 | NA   | 135  |  8.0 | 75   | 6    | 25   | \n",
       "| 57 | NA   | 127  |  8.0 | 78   | 6    | 26   | \n",
       "| 58 | NA   |  47  | 10.3 | 73   | 6    | 27   | \n",
       "| 59 | NA   |  98  | 11.5 | 80   | 6    | 28   | \n",
       "| 60 | NA   |  31  | 14.9 | 77   | 6    | 29   | \n",
       "| 61 | NA   | 138  |  8.0 | 83   | 6    | 30   | \n",
       "\n",
       "\n",
       "\n",
       "$`7`\n",
       ":   \n",
       "| <!--/--> | Ozone | Solar.R | Wind | Temp | Month | Day | \n",
       "|---|---|---|---|---|---|---|---|---|---|---|---|---|---|---|---|---|---|---|---|---|---|---|---|---|---|---|---|---|---|---|\n",
       "| 62 | 135  | 269  |  4.1 | 84   | 7    |  1   | \n",
       "| 63 |  49  | 248  |  9.2 | 85   | 7    |  2   | \n",
       "| 64 |  32  | 236  |  9.2 | 81   | 7    |  3   | \n",
       "| 65 |  NA  | 101  | 10.9 | 84   | 7    |  4   | \n",
       "| 66 |  64  | 175  |  4.6 | 83   | 7    |  5   | \n",
       "| 67 |  40  | 314  | 10.9 | 83   | 7    |  6   | \n",
       "| 68 |  77  | 276  |  5.1 | 88   | 7    |  7   | \n",
       "| 69 |  97  | 267  |  6.3 | 92   | 7    |  8   | \n",
       "| 70 |  97  | 272  |  5.7 | 92   | 7    |  9   | \n",
       "| 71 |  85  | 175  |  7.4 | 89   | 7    | 10   | \n",
       "| 72 |  NA  | 139  |  8.6 | 82   | 7    | 11   | \n",
       "| 73 |  10  | 264  | 14.3 | 73   | 7    | 12   | \n",
       "| 74 |  27  | 175  | 14.9 | 81   | 7    | 13   | \n",
       "| 75 |  NA  | 291  | 14.9 | 91   | 7    | 14   | \n",
       "| 76 |   7  |  48  | 14.3 | 80   | 7    | 15   | \n",
       "| 77 |  48  | 260  |  6.9 | 81   | 7    | 16   | \n",
       "| 78 |  35  | 274  | 10.3 | 82   | 7    | 17   | \n",
       "| 79 |  61  | 285  |  6.3 | 84   | 7    | 18   | \n",
       "| 80 |  79  | 187  |  5.1 | 87   | 7    | 19   | \n",
       "| 81 |  63  | 220  | 11.5 | 85   | 7    | 20   | \n",
       "| 82 |  16  |   7  |  6.9 | 74   | 7    | 21   | \n",
       "| 83 |  NA  | 258  |  9.7 | 81   | 7    | 22   | \n",
       "| 84 |  NA  | 295  | 11.5 | 82   | 7    | 23   | \n",
       "| 85 |  80  | 294  |  8.6 | 86   | 7    | 24   | \n",
       "| 86 | 108  | 223  |  8.0 | 85   | 7    | 25   | \n",
       "| 87 |  20  |  81  |  8.6 | 82   | 7    | 26   | \n",
       "| 88 |  52  |  82  | 12.0 | 86   | 7    | 27   | \n",
       "| 89 |  82  | 213  |  7.4 | 88   | 7    | 28   | \n",
       "| 90 |  50  | 275  |  7.4 | 86   | 7    | 29   | \n",
       "| 91 |  64  | 253  |  7.4 | 83   | 7    | 30   | \n",
       "| 92 |  59  | 254  |  9.2 | 81   | 7    | 31   | \n",
       "\n",
       "\n",
       "\n",
       "$`8`\n",
       ":   \n",
       "| <!--/--> | Ozone | Solar.R | Wind | Temp | Month | Day | \n",
       "|---|---|---|---|---|---|---|---|---|---|---|---|---|---|---|---|---|---|---|---|---|---|---|---|---|---|---|---|---|---|---|\n",
       "| 93 |  39  |  83  |  6.9 | 81   | 8    |  1   | \n",
       "| 94 |   9  |  24  | 13.8 | 81   | 8    |  2   | \n",
       "| 95 |  16  |  77  |  7.4 | 82   | 8    |  3   | \n",
       "| 96 |  78  |  NA  |  6.9 | 86   | 8    |  4   | \n",
       "| 97 |  35  |  NA  |  7.4 | 85   | 8    |  5   | \n",
       "| 98 |  66  |  NA  |  4.6 | 87   | 8    |  6   | \n",
       "| 99 | 122  | 255  |  4.0 | 89   | 8    |  7   | \n",
       "| 100 |  89  | 229  | 10.3 | 90   | 8    |  8   | \n",
       "| 101 | 110  | 207  |  8.0 | 90   | 8    |  9   | \n",
       "| 102 |  NA  | 222  |  8.6 | 92   | 8    | 10   | \n",
       "| 103 |  NA  | 137  | 11.5 | 86   | 8    | 11   | \n",
       "| 104 |  44  | 192  | 11.5 | 86   | 8    | 12   | \n",
       "| 105 |  28  | 273  | 11.5 | 82   | 8    | 13   | \n",
       "| 106 |  65  | 157  |  9.7 | 80   | 8    | 14   | \n",
       "| 107 |  NA  |  64  | 11.5 | 79   | 8    | 15   | \n",
       "| 108 |  22  |  71  | 10.3 | 77   | 8    | 16   | \n",
       "| 109 |  59  |  51  |  6.3 | 79   | 8    | 17   | \n",
       "| 110 |  23  | 115  |  7.4 | 76   | 8    | 18   | \n",
       "| 111 |  31  | 244  | 10.9 | 78   | 8    | 19   | \n",
       "| 112 |  44  | 190  | 10.3 | 78   | 8    | 20   | \n",
       "| 113 |  21  | 259  | 15.5 | 77   | 8    | 21   | \n",
       "| 114 |   9  |  36  | 14.3 | 72   | 8    | 22   | \n",
       "| 115 |  NA  | 255  | 12.6 | 75   | 8    | 23   | \n",
       "| 116 |  45  | 212  |  9.7 | 79   | 8    | 24   | \n",
       "| 117 | 168  | 238  |  3.4 | 81   | 8    | 25   | \n",
       "| 118 |  73  | 215  |  8.0 | 86   | 8    | 26   | \n",
       "| 119 |  NA  | 153  |  5.7 | 88   | 8    | 27   | \n",
       "| 120 |  76  | 203  |  9.7 | 97   | 8    | 28   | \n",
       "| 121 | 118  | 225  |  2.3 | 94   | 8    | 29   | \n",
       "| 122 |  84  | 237  |  6.3 | 96   | 8    | 30   | \n",
       "| 123 |  85  | 188  |  6.3 | 94   | 8    | 31   | \n",
       "\n",
       "\n",
       "\n",
       "$`9`\n",
       ":   \n",
       "| <!--/--> | Ozone | Solar.R | Wind | Temp | Month | Day | \n",
       "|---|---|---|---|---|---|---|---|---|---|---|---|---|---|---|---|---|---|---|---|---|---|---|---|---|---|---|---|---|---|\n",
       "| 124 | 96   | 167  |  6.9 | 91   | 9    |  1   | \n",
       "| 125 | 78   | 197  |  5.1 | 92   | 9    |  2   | \n",
       "| 126 | 73   | 183  |  2.8 | 93   | 9    |  3   | \n",
       "| 127 | 91   | 189  |  4.6 | 93   | 9    |  4   | \n",
       "| 128 | 47   |  95  |  7.4 | 87   | 9    |  5   | \n",
       "| 129 | 32   |  92  | 15.5 | 84   | 9    |  6   | \n",
       "| 130 | 20   | 252  | 10.9 | 80   | 9    |  7   | \n",
       "| 131 | 23   | 220  | 10.3 | 78   | 9    |  8   | \n",
       "| 132 | 21   | 230  | 10.9 | 75   | 9    |  9   | \n",
       "| 133 | 24   | 259  |  9.7 | 73   | 9    | 10   | \n",
       "| 134 | 44   | 236  | 14.9 | 81   | 9    | 11   | \n",
       "| 135 | 21   | 259  | 15.5 | 76   | 9    | 12   | \n",
       "| 136 | 28   | 238  |  6.3 | 77   | 9    | 13   | \n",
       "| 137 |  9   |  24  | 10.9 | 71   | 9    | 14   | \n",
       "| 138 | 13   | 112  | 11.5 | 71   | 9    | 15   | \n",
       "| 139 | 46   | 237  |  6.9 | 78   | 9    | 16   | \n",
       "| 140 | 18   | 224  | 13.8 | 67   | 9    | 17   | \n",
       "| 141 | 13   |  27  | 10.3 | 76   | 9    | 18   | \n",
       "| 142 | 24   | 238  | 10.3 | 68   | 9    | 19   | \n",
       "| 143 | 16   | 201  |  8.0 | 82   | 9    | 20   | \n",
       "| 144 | 13   | 238  | 12.6 | 64   | 9    | 21   | \n",
       "| 145 | 23   |  14  |  9.2 | 71   | 9    | 22   | \n",
       "| 146 | 36   | 139  | 10.3 | 81   | 9    | 23   | \n",
       "| 147 |  7   |  49  | 10.3 | 69   | 9    | 24   | \n",
       "| 148 | 14   |  20  | 16.6 | 63   | 9    | 25   | \n",
       "| 149 | 30   | 193  |  6.9 | 70   | 9    | 26   | \n",
       "| 150 | NA   | 145  | 13.2 | 77   | 9    | 27   | \n",
       "| 151 | 14   | 191  | 14.3 | 75   | 9    | 28   | \n",
       "| 152 | 18   | 131  |  8.0 | 76   | 9    | 29   | \n",
       "| 153 | 20   | 223  | 11.5 | 68   | 9    | 30   | \n",
       "\n",
       "\n",
       "\n",
       "\n",
       "\n"
      ],
      "text/plain": [
       "$`5`\n",
       "   Ozone Solar.R Wind Temp Month Day\n",
       "1     41     190  7.4   67     5   1\n",
       "2     36     118  8.0   72     5   2\n",
       "3     12     149 12.6   74     5   3\n",
       "4     18     313 11.5   62     5   4\n",
       "5     NA      NA 14.3   56     5   5\n",
       "6     28      NA 14.9   66     5   6\n",
       "7     23     299  8.6   65     5   7\n",
       "8     19      99 13.8   59     5   8\n",
       "9      8      19 20.1   61     5   9\n",
       "10    NA     194  8.6   69     5  10\n",
       "11     7      NA  6.9   74     5  11\n",
       "12    16     256  9.7   69     5  12\n",
       "13    11     290  9.2   66     5  13\n",
       "14    14     274 10.9   68     5  14\n",
       "15    18      65 13.2   58     5  15\n",
       "16    14     334 11.5   64     5  16\n",
       "17    34     307 12.0   66     5  17\n",
       "18     6      78 18.4   57     5  18\n",
       "19    30     322 11.5   68     5  19\n",
       "20    11      44  9.7   62     5  20\n",
       "21     1       8  9.7   59     5  21\n",
       "22    11     320 16.6   73     5  22\n",
       "23     4      25  9.7   61     5  23\n",
       "24    32      92 12.0   61     5  24\n",
       "25    NA      66 16.6   57     5  25\n",
       "26    NA     266 14.9   58     5  26\n",
       "27    NA      NA  8.0   57     5  27\n",
       "28    23      13 12.0   67     5  28\n",
       "29    45     252 14.9   81     5  29\n",
       "30   115     223  5.7   79     5  30\n",
       "31    37     279  7.4   76     5  31\n",
       "\n",
       "$`6`\n",
       "   Ozone Solar.R Wind Temp Month Day\n",
       "32    NA     286  8.6   78     6   1\n",
       "33    NA     287  9.7   74     6   2\n",
       "34    NA     242 16.1   67     6   3\n",
       "35    NA     186  9.2   84     6   4\n",
       "36    NA     220  8.6   85     6   5\n",
       "37    NA     264 14.3   79     6   6\n",
       "38    29     127  9.7   82     6   7\n",
       "39    NA     273  6.9   87     6   8\n",
       "40    71     291 13.8   90     6   9\n",
       "41    39     323 11.5   87     6  10\n",
       "42    NA     259 10.9   93     6  11\n",
       "43    NA     250  9.2   92     6  12\n",
       "44    23     148  8.0   82     6  13\n",
       "45    NA     332 13.8   80     6  14\n",
       "46    NA     322 11.5   79     6  15\n",
       "47    21     191 14.9   77     6  16\n",
       "48    37     284 20.7   72     6  17\n",
       "49    20      37  9.2   65     6  18\n",
       "50    12     120 11.5   73     6  19\n",
       "51    13     137 10.3   76     6  20\n",
       "52    NA     150  6.3   77     6  21\n",
       "53    NA      59  1.7   76     6  22\n",
       "54    NA      91  4.6   76     6  23\n",
       "55    NA     250  6.3   76     6  24\n",
       "56    NA     135  8.0   75     6  25\n",
       "57    NA     127  8.0   78     6  26\n",
       "58    NA      47 10.3   73     6  27\n",
       "59    NA      98 11.5   80     6  28\n",
       "60    NA      31 14.9   77     6  29\n",
       "61    NA     138  8.0   83     6  30\n",
       "\n",
       "$`7`\n",
       "   Ozone Solar.R Wind Temp Month Day\n",
       "62   135     269  4.1   84     7   1\n",
       "63    49     248  9.2   85     7   2\n",
       "64    32     236  9.2   81     7   3\n",
       "65    NA     101 10.9   84     7   4\n",
       "66    64     175  4.6   83     7   5\n",
       "67    40     314 10.9   83     7   6\n",
       "68    77     276  5.1   88     7   7\n",
       "69    97     267  6.3   92     7   8\n",
       "70    97     272  5.7   92     7   9\n",
       "71    85     175  7.4   89     7  10\n",
       "72    NA     139  8.6   82     7  11\n",
       "73    10     264 14.3   73     7  12\n",
       "74    27     175 14.9   81     7  13\n",
       "75    NA     291 14.9   91     7  14\n",
       "76     7      48 14.3   80     7  15\n",
       "77    48     260  6.9   81     7  16\n",
       "78    35     274 10.3   82     7  17\n",
       "79    61     285  6.3   84     7  18\n",
       "80    79     187  5.1   87     7  19\n",
       "81    63     220 11.5   85     7  20\n",
       "82    16       7  6.9   74     7  21\n",
       "83    NA     258  9.7   81     7  22\n",
       "84    NA     295 11.5   82     7  23\n",
       "85    80     294  8.6   86     7  24\n",
       "86   108     223  8.0   85     7  25\n",
       "87    20      81  8.6   82     7  26\n",
       "88    52      82 12.0   86     7  27\n",
       "89    82     213  7.4   88     7  28\n",
       "90    50     275  7.4   86     7  29\n",
       "91    64     253  7.4   83     7  30\n",
       "92    59     254  9.2   81     7  31\n",
       "\n",
       "$`8`\n",
       "    Ozone Solar.R Wind Temp Month Day\n",
       "93     39      83  6.9   81     8   1\n",
       "94      9      24 13.8   81     8   2\n",
       "95     16      77  7.4   82     8   3\n",
       "96     78      NA  6.9   86     8   4\n",
       "97     35      NA  7.4   85     8   5\n",
       "98     66      NA  4.6   87     8   6\n",
       "99    122     255  4.0   89     8   7\n",
       "100    89     229 10.3   90     8   8\n",
       "101   110     207  8.0   90     8   9\n",
       "102    NA     222  8.6   92     8  10\n",
       "103    NA     137 11.5   86     8  11\n",
       "104    44     192 11.5   86     8  12\n",
       "105    28     273 11.5   82     8  13\n",
       "106    65     157  9.7   80     8  14\n",
       "107    NA      64 11.5   79     8  15\n",
       "108    22      71 10.3   77     8  16\n",
       "109    59      51  6.3   79     8  17\n",
       "110    23     115  7.4   76     8  18\n",
       "111    31     244 10.9   78     8  19\n",
       "112    44     190 10.3   78     8  20\n",
       "113    21     259 15.5   77     8  21\n",
       "114     9      36 14.3   72     8  22\n",
       "115    NA     255 12.6   75     8  23\n",
       "116    45     212  9.7   79     8  24\n",
       "117   168     238  3.4   81     8  25\n",
       "118    73     215  8.0   86     8  26\n",
       "119    NA     153  5.7   88     8  27\n",
       "120    76     203  9.7   97     8  28\n",
       "121   118     225  2.3   94     8  29\n",
       "122    84     237  6.3   96     8  30\n",
       "123    85     188  6.3   94     8  31\n",
       "\n",
       "$`9`\n",
       "    Ozone Solar.R Wind Temp Month Day\n",
       "124    96     167  6.9   91     9   1\n",
       "125    78     197  5.1   92     9   2\n",
       "126    73     183  2.8   93     9   3\n",
       "127    91     189  4.6   93     9   4\n",
       "128    47      95  7.4   87     9   5\n",
       "129    32      92 15.5   84     9   6\n",
       "130    20     252 10.9   80     9   7\n",
       "131    23     220 10.3   78     9   8\n",
       "132    21     230 10.9   75     9   9\n",
       "133    24     259  9.7   73     9  10\n",
       "134    44     236 14.9   81     9  11\n",
       "135    21     259 15.5   76     9  12\n",
       "136    28     238  6.3   77     9  13\n",
       "137     9      24 10.9   71     9  14\n",
       "138    13     112 11.5   71     9  15\n",
       "139    46     237  6.9   78     9  16\n",
       "140    18     224 13.8   67     9  17\n",
       "141    13      27 10.3   76     9  18\n",
       "142    24     238 10.3   68     9  19\n",
       "143    16     201  8.0   82     9  20\n",
       "144    13     238 12.6   64     9  21\n",
       "145    23      14  9.2   71     9  22\n",
       "146    36     139 10.3   81     9  23\n",
       "147     7      49 10.3   69     9  24\n",
       "148    14      20 16.6   63     9  25\n",
       "149    30     193  6.9   70     9  26\n",
       "150    NA     145 13.2   77     9  27\n",
       "151    14     191 14.3   75     9  28\n",
       "152    18     131  8.0   76     9  29\n",
       "153    20     223 11.5   68     9  30\n"
      ]
     },
     "metadata": {},
     "output_type": "display_data"
    },
    {
     "data": {
      "text/html": [
       "'list'"
      ],
      "text/latex": [
       "'list'"
      ],
      "text/markdown": [
       "'list'"
      ],
      "text/plain": [
       "[1] \"list\""
      ]
     },
     "metadata": {},
     "output_type": "display_data"
    }
   ],
   "source": [
    "library(datasets)\n",
    "head(airquality)\n",
    "s <- split(airquality, airquality$Month)\n",
    "s\n",
    "class(s)"
   ]
  },
  {
   "cell_type": "code",
   "execution_count": 143,
   "metadata": {
    "collapsed": false
   },
   "outputs": [
    {
     "name": "stdout",
     "output_type": "stream",
     "text": [
      " Factor w/ 2 levels \"1\",\"2\": 1 1 1 1 1 2 2 2 2 2\n",
      " Factor w/ 5 levels \"1\",\"2\",\"3\",\"4\",..: 1 1 2 2 3 3 4 4 5 5\n"
     ]
    },
    {
     "data": {
      "text/html": [
       "<ol class=list-inline>\n",
       "\t<li>1.1</li>\n",
       "\t<li>1.1</li>\n",
       "\t<li>1.2</li>\n",
       "\t<li>1.2</li>\n",
       "\t<li>1.3</li>\n",
       "\t<li>2.3</li>\n",
       "\t<li>2.4</li>\n",
       "\t<li>2.4</li>\n",
       "\t<li>2.5</li>\n",
       "\t<li>2.5</li>\n",
       "</ol>\n"
      ],
      "text/latex": [
       "\\begin{enumerate*}\n",
       "\\item 1.1\n",
       "\\item 1.1\n",
       "\\item 1.2\n",
       "\\item 1.2\n",
       "\\item 1.3\n",
       "\\item 2.3\n",
       "\\item 2.4\n",
       "\\item 2.4\n",
       "\\item 2.5\n",
       "\\item 2.5\n",
       "\\end{enumerate*}\n"
      ],
      "text/markdown": [
       "1. 1.1\n",
       "2. 1.1\n",
       "3. 1.2\n",
       "4. 1.2\n",
       "5. 1.3\n",
       "6. 2.3\n",
       "7. 2.4\n",
       "8. 2.4\n",
       "9. 2.5\n",
       "10. 2.5\n",
       "\n",
       "\n"
      ],
      "text/plain": [
       " [1] 1.1 1.1 1.2 1.2 1.3 2.3 2.4 2.4 2.5 2.5\n",
       "Levels: 1.1 2.1 1.2 2.2 1.3 2.3 1.4 2.4 1.5 2.5"
      ]
     },
     "metadata": {},
     "output_type": "display_data"
    },
    {
     "name": "stdout",
     "output_type": "stream",
     "text": [
      "List of 10\n",
      " $ 1.1: num [1:2] 0.559 0.355\n",
      " $ 2.1: num(0) \n",
      " $ 1.2: num [1:2] -0.349 0.41\n",
      " $ 2.2: num(0) \n",
      " $ 1.3: num -1.67\n",
      " $ 2.3: num 0.262\n",
      " $ 1.4: num(0) \n",
      " $ 2.4: num [1:2] -0.0799 -0.5518\n",
      " $ 1.5: num(0) \n",
      " $ 2.5: num [1:2] -1.65 -1.88\n",
      "List of 6\n",
      " $ 1.1: num [1:2] 0.559 0.355\n",
      " $ 1.2: num [1:2] -0.349 0.41\n",
      " $ 1.3: num -1.67\n",
      " $ 2.3: num 0.262\n",
      " $ 2.4: num [1:2] -0.0799 -0.5518\n",
      " $ 2.5: num [1:2] -1.65 -1.88\n"
     ]
    }
   ],
   "source": [
    "# Juntemos todo lo que hemos aprendido en el siguiente ejemplo\n",
    "\n",
    "ffo <- rnorm(10)\n",
    "ff1 <- gl(2, 5) \n",
    "ff2 <- gl(5, 2)  \n",
    "\n",
    "str(ff1)\n",
    "str(ff2)\n",
    "\n",
    "# Calculamos un factor con 10 niveles\n",
    "\n",
    "interaction(ff1, ff2)\n",
    "\n",
    "str(split(ffo, list(ff1, ff2))) \n",
    "\n",
    "# Quitamos los niveles vacios\n",
    "\n",
    "str(split(ffo, list(ff1, ff2), drop = TRUE))"
   ]
  },
  {
   "cell_type": "markdown",
   "metadata": {},
   "source": [
    "A veces, cuando un data frame se lee directamente desde un archivo, una columna que deberia producir un vector numérico produce un factor. Esto es causado por un valor no numérico en la columna, a menudo un valor perdido codificado de una manera especial. Un plan es descubrir qué causó el problema  y arreglarlo  se puede utilizar el argumento `na.strings` de `read.csv()`:\n"
   ]
  },
  {
   "cell_type": "code",
   "execution_count": 144,
   "metadata": {
    "collapsed": false
   },
   "outputs": [
    {
     "data": {
      "text/html": [
       "'integer'"
      ],
      "text/latex": [
       "'integer'"
      ],
      "text/markdown": [
       "'integer'"
      ],
      "text/plain": [
       "[1] \"integer\""
      ]
     },
     "metadata": {},
     "output_type": "display_data"
    },
    {
     "data": {
      "text/html": [
       "<ol class=list-inline>\n",
       "\t<li>3</li>\n",
       "\t<li>2</li>\n",
       "\t<li>1</li>\n",
       "\t<li>4</li>\n",
       "</ol>\n"
      ],
      "text/latex": [
       "\\begin{enumerate*}\n",
       "\\item 3\n",
       "\\item 2\n",
       "\\item 1\n",
       "\\item 4\n",
       "\\end{enumerate*}\n"
      ],
      "text/markdown": [
       "1. 3\n",
       "2. 2\n",
       "3. 1\n",
       "4. 4\n",
       "\n",
       "\n"
      ],
      "text/plain": [
       "[1] 3 2 1 4"
      ]
     },
     "metadata": {},
     "output_type": "display_data"
    }
   ],
   "source": [
    "arch1 <- read.csv(text = \"valores\\n12\\n1\\n.\\n9\")\n",
    "typeof(arch1$valores)\n",
    "as.double(arch1$valores)\n"
   ]
  },
  {
   "cell_type": "code",
   "execution_count": 145,
   "metadata": {
    "collapsed": false
   },
   "outputs": [
    {
     "data": {
      "text/html": [
       "'factor'"
      ],
      "text/latex": [
       "'factor'"
      ],
      "text/markdown": [
       "'factor'"
      ],
      "text/plain": [
       "[1] \"factor\""
      ]
     },
     "metadata": {},
     "output_type": "display_data"
    },
    {
     "name": "stderr",
     "output_type": "stream",
     "text": [
      "Warning message in eval(expr, envir, enclos):\n",
      "“NAs introducidos por coerción”"
     ]
    },
    {
     "data": {
      "text/html": [
       "<ol class=list-inline>\n",
       "\t<li>12</li>\n",
       "\t<li>1</li>\n",
       "\t<li>NA</li>\n",
       "\t<li>9</li>\n",
       "</ol>\n"
      ],
      "text/latex": [
       "\\begin{enumerate*}\n",
       "\\item 12\n",
       "\\item 1\n",
       "\\item NA\n",
       "\\item 9\n",
       "\\end{enumerate*}\n"
      ],
      "text/markdown": [
       "1. 12\n",
       "2. 1\n",
       "3. NA\n",
       "4. 9\n",
       "\n",
       "\n"
      ],
      "text/plain": [
       "[1] 12  1 NA  9"
      ]
     },
     "metadata": {},
     "output_type": "display_data"
    }
   ],
   "source": [
    "class(arch1$valores)\n",
    "as.double(as.character(arch1$valores))"
   ]
  },
  {
   "cell_type": "code",
   "execution_count": 146,
   "metadata": {
    "collapsed": false
   },
   "outputs": [
    {
     "data": {
      "text/html": [
       "'integer'"
      ],
      "text/latex": [
       "'integer'"
      ],
      "text/markdown": [
       "'integer'"
      ],
      "text/plain": [
       "[1] \"integer\""
      ]
     },
     "metadata": {},
     "output_type": "display_data"
    },
    {
     "data": {
      "text/html": [
       "'integer'"
      ],
      "text/latex": [
       "'integer'"
      ],
      "text/markdown": [
       "'integer'"
      ],
      "text/plain": [
       "[1] \"integer\""
      ]
     },
     "metadata": {},
     "output_type": "display_data"
    },
    {
     "data": {
      "text/html": [
       "<ol class=list-inline>\n",
       "\t<li>12</li>\n",
       "\t<li>1</li>\n",
       "\t<li>NA</li>\n",
       "\t<li>9</li>\n",
       "</ol>\n"
      ],
      "text/latex": [
       "\\begin{enumerate*}\n",
       "\\item 12\n",
       "\\item 1\n",
       "\\item NA\n",
       "\\item 9\n",
       "\\end{enumerate*}\n"
      ],
      "text/markdown": [
       "1. 12\n",
       "2. 1\n",
       "3. NA\n",
       "4. 9\n",
       "\n",
       "\n"
      ],
      "text/plain": [
       "[1] 12  1 NA  9"
      ]
     },
     "metadata": {},
     "output_type": "display_data"
    }
   ],
   "source": [
    "arch2 <- read.csv(text = \"valores\\n12\\n1\\n.\\n9\", na.strings=\".\")\n",
    "typeof(arch2$valores)\n",
    "class(arch2$valores)\n",
    "arch2$valores"
   ]
  },
  {
   "cell_type": "markdown",
   "metadata": {},
   "source": [
    "La mayoría de las funciones de carga de datos en R convierten automáticamente vectores de caracteres a factores. Esto no es óptimo, porque no hay manera de que esas funciones sepan el conjunto de todos los niveles posibles o su orden óptimo.\n",
    "\n",
    "Se utiliza  `stringsAsFactors = FALSE` para suprimir ese comportamiento.\n"
   ]
  },
  {
   "cell_type": "code",
   "execution_count": 147,
   "metadata": {
    "collapsed": false
   },
   "outputs": [],
   "source": [
    "enc_chr <- read.csv(\"datos_1.csv\", stringsAsFactors=FALSE)"
   ]
  },
  {
   "cell_type": "markdown",
   "metadata": {},
   "source": [
    "Entonces, cuando miramos el resultado de `str ()`  veremos que las columnas de factores  son ahora caracteres."
   ]
  },
  {
   "cell_type": "code",
   "execution_count": 148,
   "metadata": {
    "collapsed": false
   },
   "outputs": [
    {
     "name": "stdout",
     "output_type": "stream",
     "text": [
      "'data.frame':\t34786 obs. of  13 variables:\n",
      " $ id            : int  1 72 224 266 349 363 435 506 588 661 ...\n",
      " $ mes           : int  7 8 9 10 11 11 12 1 2 3 ...\n",
      " $ dia           : int  16 19 13 16 12 12 10 8 18 11 ...\n",
      " $ era           : int  1977 1977 1977 1977 1977 1977 1977 1978 1978 1978 ...\n",
      " $ p_id          : int  2 2 2 2 2 2 2 2 2 2 ...\n",
      " $ especies_id   : chr  \"NL\" \"NL\" \"NL\" \"NL\" ...\n",
      " $ sexo          : chr  \"M\" \"M\" \"\" \"\" ...\n",
      " $ long_posterior: int  32 31 NA NA NA NA NA NA NA NA ...\n",
      " $ ancho         : int  NA NA NA NA NA NA NA NA 218 NA ...\n",
      " $ genus         : chr  \"Neotoma\" \"Neotoma\" \"Neotoma\" \"Neotoma\" ...\n",
      " $ especies      : chr  \"albigula\" \"albigula\" \"albigula\" \"albigula\" ...\n",
      " $ taxa          : chr  \"Rodent\" \"Rodent\" \"Rodent\" \"Rodent\" ...\n",
      " $ tipo          : chr  \"Control\" \"Control\" \"Control\" \"Control\" ...\n"
     ]
    }
   ],
   "source": [
    "str(enc_chr)"
   ]
  },
  {
   "cell_type": "markdown",
   "metadata": {},
   "source": [
    "## Tablas \n"
   ]
  },
  {
   "cell_type": "code",
   "execution_count": 149,
   "metadata": {
    "collapsed": false
   },
   "outputs": [
    {
     "data": {
      "text/html": [
       "<table>\n",
       "<thead><tr><th></th><th scope=col>ce</th><th scope=col>m</th></tr></thead>\n",
       "<tbody>\n",
       "\t<tr><th scope=row>5</th><td>NA</td><td>2 </td></tr>\n",
       "\t<tr><th scope=row>12</th><td> 1</td><td>1 </td></tr>\n",
       "\t<tr><th scope=row>13</th><td> 1</td><td>2 </td></tr>\n",
       "</tbody>\n",
       "</table>\n"
      ],
      "text/latex": [
       "\\begin{tabular}{r|ll}\n",
       "  & ce & m\\\\\n",
       "\\hline\n",
       "\t5 & NA & 2 \\\\\n",
       "\t12 &  1 & 1 \\\\\n",
       "\t13 &  1 & 2 \\\\\n",
       "\\end{tabular}\n"
      ],
      "text/markdown": [
       "\n",
       "| <!--/--> | ce | m | \n",
       "|---|---|---|\n",
       "| 5 | NA | 2  | \n",
       "| 12 |  1 | 1  | \n",
       "| 13 |  1 | 2  | \n",
       "\n",
       "\n"
      ],
      "text/plain": [
       "   ce m\n",
       "5  NA 2\n",
       "12  1 1\n",
       "13  1 2"
      ]
     },
     "metadata": {},
     "output_type": "display_data"
    }
   ],
   "source": [
    "# Empecemos con un ejemplo\n",
    "\n",
    "uu <- c(22,8,33,6,8,29,-2)\n",
    "fl <- list(c(5,12,13,12,13,5,13),c(\"m\",\"ce\",\"m\",\"m\",\"ce\",\"m\",\"m\"))\n",
    "tapply(uu,fl,length)"
   ]
  },
  {
   "cell_type": "markdown",
   "metadata": {},
   "source": [
    "El resultado anterior produce un resultado NA. En estadística, se dice que es una **tabla de contingencia**. La función `table()` resuelve el problema de las tablas de contingencia."
   ]
  },
  {
   "cell_type": "code",
   "execution_count": 150,
   "metadata": {
    "collapsed": true
   },
   "outputs": [],
   "source": [
    "help(table)"
   ]
  },
  {
   "cell_type": "code",
   "execution_count": 151,
   "metadata": {
    "collapsed": false
   },
   "outputs": [
    {
     "data": {
      "text/plain": [
       "    fl.2\n",
       "fl.1 ce m\n",
       "  5   0 2\n",
       "  12  1 1\n",
       "  13  1 2"
      ]
     },
     "metadata": {},
     "output_type": "display_data"
    }
   ],
   "source": [
    "table(fl)"
   ]
  },
  {
   "cell_type": "markdown",
   "metadata": {},
   "source": [
    "El primer argumento en una llamada a `table()` es o bien un factor o una lista de factores. Los dos factores  aquí fueron  `(5,12,13,12,13,5,13)` y (\"m\", \"ce\", \"m\", \"m\", \"ce\", \"m\", \"m\") . En este caso, un objeto que es interpretado como un factor se cuenta como uno."
   ]
  },
  {
   "cell_type": "code",
   "execution_count": 152,
   "metadata": {
    "collapsed": false
   },
   "outputs": [
    {
     "data": {
      "text/html": [
       "<table>\n",
       "<thead><tr><th scope=col>Vote.por..X</th><th scope=col>Vote.por..X.la.ultima.vez</th></tr></thead>\n",
       "<tbody>\n",
       "\t<tr><td>Si             </td><td>Si             </td></tr>\n",
       "\t<tr><td>Si             </td><td>No             </td></tr>\n",
       "\t<tr><td>No             </td><td>No             </td></tr>\n",
       "\t<tr><td>No estoy seguro</td><td>Si             </td></tr>\n",
       "\t<tr><td>No             </td><td>No             </td></tr>\n",
       "</tbody>\n",
       "</table>\n"
      ],
      "text/latex": [
       "\\begin{tabular}{r|ll}\n",
       " Vote.por..X & Vote.por..X.la.ultima.vez\\\\\n",
       "\\hline\n",
       "\t Si              & Si             \\\\\n",
       "\t Si              & No             \\\\\n",
       "\t No              & No             \\\\\n",
       "\t No estoy seguro & Si             \\\\\n",
       "\t No              & No             \\\\\n",
       "\\end{tabular}\n"
      ],
      "text/markdown": [
       "\n",
       "Vote.por..X | Vote.por..X.la.ultima.vez | \n",
       "|---|---|---|---|---|\n",
       "| Si              | Si              | \n",
       "| Si              | No              | \n",
       "| No              | No              | \n",
       "| No estoy seguro | Si              | \n",
       "| No              | No              | \n",
       "\n",
       "\n"
      ],
      "text/plain": [
       "  Vote.por..X     Vote.por..X.la.ultima.vez\n",
       "1 Si              Si                       \n",
       "2 Si              No                       \n",
       "3 No              No                       \n",
       "4 No estoy seguro Si                       \n",
       "5 No              No                       "
      ]
     },
     "metadata": {},
     "output_type": "display_data"
    },
    {
     "data": {
      "text/plain": [
       "                 Vote.por..X.la.ultima.vez\n",
       "Vote.por..X       No Si\n",
       "  No               2  0\n",
       "  No estoy seguro  0  1\n",
       "  Si               1  1"
      ]
     },
     "metadata": {},
     "output_type": "display_data"
    }
   ],
   "source": [
    "# Trabajando con data frames\n",
    "\n",
    "vot <- read.table(\"votacion.dat\",header=T)\n",
    "vot\n",
    "\n",
    "# Usemos table() para calcular la tabla de contingencia para estos datos\n",
    "\n",
    "vot1 <- table(vot)\n",
    "vot1"
   ]
  },
  {
   "cell_type": "markdown",
   "metadata": {},
   "source": [
    "### Operaciones sobre Tablas\n",
    "\n",
    "Operaciones que pueden ser usadas por los data frame, pueden ser usadas por las tablas."
   ]
  },
  {
   "cell_type": "code",
   "execution_count": 153,
   "metadata": {
    "collapsed": false
   },
   "outputs": [
    {
     "data": {
      "text/html": [
       "'table'"
      ],
      "text/latex": [
       "'table'"
      ],
      "text/markdown": [
       "'table'"
      ],
      "text/plain": [
       "[1] \"table\""
      ]
     },
     "metadata": {},
     "output_type": "display_data"
    },
    {
     "data": {
      "text/html": [
       "2"
      ],
      "text/latex": [
       "2"
      ],
      "text/markdown": [
       "2"
      ],
      "text/plain": [
       "[1] 2"
      ]
     },
     "metadata": {},
     "output_type": "display_data"
    },
    {
     "data": {
      "text/html": [
       "<dl class=dl-horizontal>\n",
       "\t<dt>No</dt>\n",
       "\t\t<dd>2</dd>\n",
       "\t<dt>Si</dt>\n",
       "\t\t<dd>0</dd>\n",
       "</dl>\n"
      ],
      "text/latex": [
       "\\begin{description*}\n",
       "\\item[No] 2\n",
       "\\item[Si] 0\n",
       "\\end{description*}\n"
      ],
      "text/markdown": [
       "No\n",
       ":   2Si\n",
       ":   0\n",
       "\n"
      ],
      "text/plain": [
       "No Si \n",
       " 2  0 "
      ]
     },
     "metadata": {},
     "output_type": "display_data"
    },
    {
     "data": {
      "text/plain": [
       "                 Vote.por..X.la.ultima.vez\n",
       "Vote.por..X        No  Si\n",
       "  No              0.4 0.0\n",
       "  No estoy seguro 0.0 0.2\n",
       "  Si              0.2 0.2"
      ]
     },
     "metadata": {},
     "output_type": "display_data"
    }
   ],
   "source": [
    "class(vot1)\n",
    "vot1[1,1]\n",
    "vot1[1,]\n",
    "vot1/5\n"
   ]
  },
  {
   "cell_type": "code",
   "execution_count": 154,
   "metadata": {
    "collapsed": false
   },
   "outputs": [
    {
     "data": {
      "text/html": [
       "<dl class=dl-horizontal>\n",
       "\t<dt>No</dt>\n",
       "\t\t<dd>2</dd>\n",
       "\t<dt>No estoy seguro</dt>\n",
       "\t\t<dd>1</dd>\n",
       "\t<dt>Si</dt>\n",
       "\t\t<dd>2</dd>\n",
       "</dl>\n"
      ],
      "text/latex": [
       "\\begin{description*}\n",
       "\\item[No] 2\n",
       "\\item[No estoy seguro] 1\n",
       "\\item[Si] 2\n",
       "\\end{description*}\n"
      ],
      "text/markdown": [
       "No\n",
       ":   2No estoy seguro\n",
       ":   1Si\n",
       ":   2\n",
       "\n"
      ],
      "text/plain": [
       "             No No estoy seguro              Si \n",
       "              2               1               2 "
      ]
     },
     "metadata": {},
     "output_type": "display_data"
    }
   ],
   "source": [
    "apply(vot1, 1, sum)\n"
   ]
  },
  {
   "cell_type": "code",
   "execution_count": 155,
   "metadata": {
    "collapsed": false
   },
   "outputs": [
    {
     "data": {
      "text/html": [
       "<table>\n",
       "<thead><tr><th></th><th scope=col>No</th><th scope=col>Si</th><th scope=col>Sum</th></tr></thead>\n",
       "<tbody>\n",
       "\t<tr><th scope=row>No</th><td>2</td><td>0</td><td>2</td></tr>\n",
       "\t<tr><th scope=row>No estoy seguro</th><td>0</td><td>1</td><td>1</td></tr>\n",
       "\t<tr><th scope=row>Si</th><td>1</td><td>1</td><td>2</td></tr>\n",
       "\t<tr><th scope=row>Sum</th><td>3</td><td>2</td><td>5</td></tr>\n",
       "</tbody>\n",
       "</table>\n"
      ],
      "text/latex": [
       "\\begin{tabular}{r|lll}\n",
       "  & No & Si & Sum\\\\\n",
       "\\hline\n",
       "\tNo & 2 & 0 & 2\\\\\n",
       "\tNo estoy seguro & 0 & 1 & 1\\\\\n",
       "\tSi & 1 & 1 & 2\\\\\n",
       "\tSum & 3 & 2 & 5\\\\\n",
       "\\end{tabular}\n"
      ],
      "text/markdown": [
       "\n",
       "| <!--/--> | No | Si | Sum | \n",
       "|---|---|---|---|\n",
       "| No | 2 | 0 | 2 | \n",
       "| No estoy seguro | 0 | 1 | 1 | \n",
       "| Si | 1 | 1 | 2 | \n",
       "| Sum | 3 | 2 | 5 | \n",
       "\n",
       "\n"
      ],
      "text/plain": [
       "                 Vote.por..X.la.ultima.vez\n",
       "Vote.por..X       No Si Sum\n",
       "  No              2  0  2  \n",
       "  No estoy seguro 0  1  1  \n",
       "  Si              1  1  2  \n",
       "  Sum             3  2  5  "
      ]
     },
     "metadata": {},
     "output_type": "display_data"
    }
   ],
   "source": [
    "help(addmargins) \n",
    "addmargins(vot1)"
   ]
  },
  {
   "cell_type": "code",
   "execution_count": 156,
   "metadata": {
    "collapsed": false
   },
   "outputs": [
    {
     "data": {
      "text/html": [
       "<dl>\n",
       "\t<dt>$Vote.por..X</dt>\n",
       "\t\t<dd><ol class=list-inline>\n",
       "\t<li>'No'</li>\n",
       "\t<li>'No estoy seguro'</li>\n",
       "\t<li>'Si'</li>\n",
       "</ol>\n",
       "</dd>\n",
       "\t<dt>$Vote.por..X.la.ultima.vez</dt>\n",
       "\t\t<dd><ol class=list-inline>\n",
       "\t<li>'No'</li>\n",
       "\t<li>'Si'</li>\n",
       "</ol>\n",
       "</dd>\n",
       "</dl>\n"
      ],
      "text/latex": [
       "\\begin{description}\n",
       "\\item[\\$Vote.por..X] \\begin{enumerate*}\n",
       "\\item 'No'\n",
       "\\item 'No estoy seguro'\n",
       "\\item 'Si'\n",
       "\\end{enumerate*}\n",
       "\n",
       "\\item[\\$Vote.por..X.la.ultima.vez] \\begin{enumerate*}\n",
       "\\item 'No'\n",
       "\\item 'Si'\n",
       "\\end{enumerate*}\n",
       "\n",
       "\\end{description}\n"
      ],
      "text/markdown": [
       "$Vote.por..X\n",
       ":   1. 'No'\n",
       "2. 'No estoy seguro'\n",
       "3. 'Si'\n",
       "\n",
       "\n",
       "\n",
       "$Vote.por..X.la.ultima.vez\n",
       ":   1. 'No'\n",
       "2. 'Si'\n",
       "\n",
       "\n",
       "\n",
       "\n",
       "\n"
      ],
      "text/plain": [
       "$Vote.por..X\n",
       "[1] \"No\"              \"No estoy seguro\" \"Si\"             \n",
       "\n",
       "$Vote.por..X.la.ultima.vez\n",
       "[1] \"No\" \"Si\"\n"
      ]
     },
     "metadata": {},
     "output_type": "display_data"
    }
   ],
   "source": [
    "dimnames(vot1)"
   ]
  },
  {
   "cell_type": "code",
   "execution_count": 157,
   "metadata": {
    "collapsed": false
   },
   "outputs": [
    {
     "data": {
      "text/plain": [
       "   pacientes           edad             treatment       centro  \n",
       " Min.   :  1.00   Min.   :48.57   Tratamientp:50   Centro A:17  \n",
       " 1st Qu.: 25.75   1st Qu.:55.49   Control    :50   Centro B:17  \n",
       " Median : 50.50   Median :58.63                    Centro C:29  \n",
       " Mean   : 50.50   Mean   :59.75                    Centro D:23  \n",
       " 3rd Qu.: 75.25   3rd Qu.:63.28                    Centro E:14  \n",
       " Max.   :100.00   Max.   :80.66                                 \n",
       "                  NA's   :20                                    "
      ]
     },
     "metadata": {},
     "output_type": "display_data"
    }
   ],
   "source": [
    "datos_clinicos <-\n",
    "    data.frame(pacientes = 1:100,\n",
    "               edad = rnorm(100, mean = 60, sd = 6),\n",
    "               treatment = gl(2, 50,\n",
    "                 labels = c(\"Tratamientp\", \"Control\")),\n",
    "                 centro = sample(paste(\"Centro\", LETTERS[1:5]), 100, replace = TRUE)) \n",
    "is.na(datos_clinicos$edad) <- sample(1:100, 20)\n",
    "summary(datos_clinicos)"
   ]
  },
  {
   "cell_type": "code",
   "execution_count": 158,
   "metadata": {
    "collapsed": false
   },
   "outputs": [
    {
     "data": {
      "text/plain": [
       "\n",
       "Centro A Centro B Centro C Centro D Centro E \n",
       "      17       17       29       23       14 "
      ]
     },
     "metadata": {},
     "output_type": "display_data"
    }
   ],
   "source": [
    "# Queremos saber cuantos sujetos son anotados en cada centro\n",
    "\n",
    "table(datos_clinicos$centro)"
   ]
  },
  {
   "cell_type": "code",
   "execution_count": 159,
   "metadata": {
    "collapsed": false
   },
   "outputs": [
    {
     "data": {
      "text/plain": [
       "\n",
       "FALSE  TRUE \n",
       "   34    46 "
      ]
     },
     "metadata": {},
     "output_type": "display_data"
    }
   ],
   "source": [
    "# pacientes menores de 60 años\n",
    "\n",
    "table(datos_clinicos$edad < 60)"
   ]
  },
  {
   "cell_type": "code",
   "execution_count": 160,
   "metadata": {
    "collapsed": false
   },
   "outputs": [
    {
     "data": {
      "text/plain": [
       "\n",
       "FALSE  TRUE  <NA> \n",
       "   34    46    20 "
      ]
     },
     "metadata": {},
     "output_type": "display_data"
    }
   ],
   "source": [
    "# Mostramos los valores NA tambien\n",
    "\n",
    "table(datos_clinicos$edad < 60, useNA = \"always\")"
   ]
  },
  {
   "cell_type": "code",
   "execution_count": 161,
   "metadata": {
    "collapsed": false
   },
   "outputs": [
    {
     "data": {
      "text/plain": [
       "          \n",
       "           FALSE TRUE\n",
       "  Centro A    11    6\n",
       "  Centro B    15    2\n",
       "  Centro C    24    5\n",
       "  Centro D    18    5\n",
       "  Centro E    12    2"
      ]
     },
     "metadata": {},
     "output_type": "display_data"
    }
   ],
   "source": [
    "# Calculemos el numero de edades perdidas por centro\n",
    "\n",
    "table(datos_clinicos$centro, is.na(datos_clinicos$edad))"
   ]
  },
  {
   "cell_type": "code",
   "execution_count": 162,
   "metadata": {
    "collapsed": false
   },
   "outputs": [
    {
     "data": {
      "text/html": [
       "<dl class=dl-horizontal>\n",
       "\t<dt>Centro A</dt>\n",
       "\t\t<dd>6</dd>\n",
       "\t<dt>Centro C</dt>\n",
       "\t\t<dd>5</dd>\n",
       "\t<dt>Centro D</dt>\n",
       "\t\t<dd>5</dd>\n",
       "\t<dt>Centro B</dt>\n",
       "\t\t<dd>2</dd>\n",
       "\t<dt>Centro E</dt>\n",
       "\t\t<dd>2</dd>\n",
       "</dl>\n"
      ],
      "text/latex": [
       "\\begin{description*}\n",
       "\\item[Centro A] 6\n",
       "\\item[Centro C] 5\n",
       "\\item[Centro D] 5\n",
       "\\item[Centro B] 2\n",
       "\\item[Centro E] 2\n",
       "\\end{description*}\n"
      ],
      "text/markdown": [
       "Centro A\n",
       ":   6Centro C\n",
       ":   5Centro D\n",
       ":   5Centro B\n",
       ":   2Centro E\n",
       ":   2\n",
       "\n"
      ],
      "text/plain": [
       "Centro A Centro C Centro D Centro B Centro E \n",
       "       6        5        5        2        2 "
      ]
     },
     "metadata": {},
     "output_type": "display_data"
    }
   ],
   "source": [
    "# Los ordenamos de mayor a menor \n",
    "\n",
    "sort(table(datos_clinicos$centro, is.na(datos_clinicos$edad))[, 2],      \n",
    "       decreasing = TRUE)"
   ]
  },
  {
   "cell_type": "code",
   "execution_count": null,
   "metadata": {
    "collapsed": true
   },
   "outputs": [],
   "source": []
  }
 ],
 "metadata": {
  "kernelspec": {
   "display_name": "R",
   "language": "R",
   "name": "ir"
  },
  "language_info": {
   "codemirror_mode": "r",
   "file_extension": ".r",
   "mimetype": "text/x-r-source",
   "name": "R",
   "pygments_lexer": "r",
   "version": "3.3.2"
  }
 },
 "nbformat": 4,
 "nbformat_minor": 2
}
