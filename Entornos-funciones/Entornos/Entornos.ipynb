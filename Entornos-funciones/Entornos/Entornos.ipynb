{
 "cells": [
  {
   "cell_type": "markdown",
   "metadata": {
    "deletable": true,
    "editable": true
   },
   "source": [
    "# Entornos\n",
    "\n",
    "**Notas basadas en:**\n",
    "\n",
    "* [Advanced R by Hadley Wickham](http://adv-r.had.co.nz/).\n",
    "* [Learning R - Richard Cotton](http://shop.oreilly.com/product/0636920028352.do).\n",
    "\n",
    "Todas las variables que creamos se almacenan en un entorno. Los entornos son otro tipo de variable: podemos asignarlos, manipularlos y pasarlos a funciones como argumentos, como se hace  con cualquier otra variable. Los entornos están estrechamente relacionados con las listas que se utilizan para almacenar diferentes tipos de variables. De hecho, la mayoría de la sintaxis de listas también funciona para entornos  y podemos coaccionar una lista para que sea un entorno (y viceversa).\n",
    "\n",
    "Por lo general, no se necesitará  explícitamente con  los entornos. Por ejemplo, cuando se asigna una variable en la línea de comandos de R, la variable ingresará automáticamente en un entorno denominado `global environment` (también conocido como espacio de trabajo del usuario). Cuando se llama a una función, se crea automáticamente un entorno para almacenar las variables relacionadas con la función. Comprender los conceptos básicos de los entornos puede ser útil para comprender el alcance (*scope*)  de las variables y  examinar la pila de llamadas al depurar el código. El trabajo de un entorno es asociar o unir, un conjunto de nombres a un conjunto de valores. Se podría tener la idea de un entorno como una bolsa de nombres:\n",
    "\n",
    "![](a1.png)\n",
    "\n",
    "En R,  los entornos no se crean con la función `environment` (esa función devuelve el entorno que contiene una función en particular). En cambio, la función `new.env` crea un nuevo entorno. Cada nombre apunta a un objeto almacenado en otra parte de la memoria:"
   ]
  },
  {
   "cell_type": "code",
   "execution_count": 1,
   "metadata": {
    "collapsed": true,
    "deletable": true,
    "editable": true
   },
   "outputs": [],
   "source": [
    "e <- new.env()\n",
    "e$a <- FALSE\n",
    "e$b <- \"a\"\n",
    "e$c <- 2.3\n",
    "e$d <- 1:3"
   ]
  },
  {
   "cell_type": "markdown",
   "metadata": {},
   "source": [
    "![](a2.png)"
   ]
  },
  {
   "cell_type": "markdown",
   "metadata": {},
   "source": [
    "Los objetos no residen  en el entorno, por lo que varios nombres pueden apuntar al mismo objeto:\n"
   ]
  },
  {
   "cell_type": "code",
   "execution_count": 10,
   "metadata": {
    "collapsed": true
   },
   "outputs": [],
   "source": [
    "e$b <- e$d"
   ]
  },
  {
   "cell_type": "markdown",
   "metadata": {},
   "source": [
    "\n",
    "![](a3.png)"
   ]
  },
  {
   "cell_type": "markdown",
   "metadata": {},
   "source": [
    "Los nombres también pueden apuntar a objetos diferentes que tienen el mismo valor:"
   ]
  },
  {
   "cell_type": "code",
   "execution_count": 12,
   "metadata": {
    "collapsed": true
   },
   "outputs": [],
   "source": [
    "e$b <- 1:3"
   ]
  },
  {
   "cell_type": "markdown",
   "metadata": {},
   "source": [
    "![](a4.png)"
   ]
  },
  {
   "cell_type": "markdown",
   "metadata": {},
   "source": [
    "Si un objeto no tiene nombres que apuntan a él, se lo elimina automáticamente con el  recolector de basura."
   ]
  },
  {
   "cell_type": "markdown",
   "metadata": {},
   "source": [
    "La asignación de variables a entornos funciona exactamente de la misma manera que con las listas. Se puede utilizar dos corchetes o el operador de signo de dólar. Al igual que con las listas, las variables pueden ser de diferentes tipos y tamaños:"
   ]
  },
  {
   "cell_type": "code",
   "execution_count": 32,
   "metadata": {
    "collapsed": false
   },
   "outputs": [],
   "source": [
    "e1 <- new.env()\n",
    "e1[[\"r\"]] <- c(1, 2, 3, 4, 5)\n",
    "e1$p <- length(e1[[\"r\"]])"
   ]
  },
  {
   "cell_type": "markdown",
   "metadata": {},
   "source": [
    "La función `assign` toma como argumento opcional, el entorno que puede ser usado para especificar donde la variable es almacenada."
   ]
  },
  {
   "cell_type": "code",
   "execution_count": 14,
   "metadata": {
    "collapsed": true
   },
   "outputs": [],
   "source": [
    "assign(\n",
    "    \"Jessica\",\n",
    "    20.7,\n",
    "    e1\n",
    ")"
   ]
  },
  {
   "cell_type": "markdown",
   "metadata": {},
   "source": [
    "Recuperar las variables podemos utilizar la sintaxis de ls indexación de listas o utilizar la función `get`, opuesta a `assign`:"
   ]
  },
  {
   "cell_type": "code",
   "execution_count": 15,
   "metadata": {
    "collapsed": false
   },
   "outputs": [
    {
     "data": {
      "text/html": [
       "<ol class=list-inline>\n",
       "\t<li>1</li>\n",
       "\t<li>2</li>\n",
       "\t<li>3</li>\n",
       "\t<li>4</li>\n",
       "\t<li>5</li>\n",
       "</ol>\n"
      ],
      "text/latex": [
       "\\begin{enumerate*}\n",
       "\\item 1\n",
       "\\item 2\n",
       "\\item 3\n",
       "\\item 4\n",
       "\\item 5\n",
       "\\end{enumerate*}\n"
      ],
      "text/markdown": [
       "1. 1\n",
       "2. 2\n",
       "3. 3\n",
       "4. 4\n",
       "5. 5\n",
       "\n",
       "\n"
      ],
      "text/plain": [
       "[1] 1 2 3 4 5"
      ]
     },
     "metadata": {},
     "output_type": "display_data"
    }
   ],
   "source": [
    "e1[[\"r\"]]"
   ]
  },
  {
   "cell_type": "code",
   "execution_count": 16,
   "metadata": {
    "collapsed": false
   },
   "outputs": [
    {
     "data": {
      "text/html": [
       "5"
      ],
      "text/latex": [
       "5"
      ],
      "text/markdown": [
       "5"
      ],
      "text/plain": [
       "[1] 5"
      ]
     },
     "metadata": {},
     "output_type": "display_data"
    }
   ],
   "source": [
    "e1$p"
   ]
  },
  {
   "cell_type": "code",
   "execution_count": 17,
   "metadata": {
    "collapsed": false
   },
   "outputs": [
    {
     "data": {
      "text/html": [
       "20.7"
      ],
      "text/latex": [
       "20.7"
      ],
      "text/markdown": [
       "20.7"
      ],
      "text/plain": [
       "[1] 20.7"
      ]
     },
     "metadata": {},
     "output_type": "display_data"
    }
   ],
   "source": [
    "get(\"Jessica\", e1)"
   ]
  },
  {
   "cell_type": "markdown",
   "metadata": {},
   "source": [
    "Las funciones `ls` y `ls.str`  también toman un argumento de entorno, lo que le permite listar su contenido:"
   ]
  },
  {
   "cell_type": "code",
   "execution_count": 19,
   "metadata": {
    "collapsed": false
   },
   "outputs": [
    {
     "data": {
      "text/html": [
       "<ol class=list-inline>\n",
       "\t<li>'a'</li>\n",
       "\t<li>'b'</li>\n",
       "\t<li>'c'</li>\n",
       "\t<li>'d'</li>\n",
       "</ol>\n"
      ],
      "text/latex": [
       "\\begin{enumerate*}\n",
       "\\item 'a'\n",
       "\\item 'b'\n",
       "\\item 'c'\n",
       "\\item 'd'\n",
       "\\end{enumerate*}\n"
      ],
      "text/markdown": [
       "1. 'a'\n",
       "2. 'b'\n",
       "3. 'c'\n",
       "4. 'd'\n",
       "\n",
       "\n"
      ],
      "text/plain": [
       "[1] \"a\" \"b\" \"c\" \"d\""
      ]
     },
     "metadata": {},
     "output_type": "display_data"
    }
   ],
   "source": [
    "ls(env = e)"
   ]
  },
  {
   "cell_type": "code",
   "execution_count": 20,
   "metadata": {
    "collapsed": false
   },
   "outputs": [
    {
     "data": {
      "text/html": [
       "<ol class=list-inline>\n",
       "\t<li>'Jessica'</li>\n",
       "\t<li>'p'</li>\n",
       "\t<li>'r'</li>\n",
       "</ol>\n"
      ],
      "text/latex": [
       "\\begin{enumerate*}\n",
       "\\item 'Jessica'\n",
       "\\item 'p'\n",
       "\\item 'r'\n",
       "\\end{enumerate*}\n"
      ],
      "text/markdown": [
       "1. 'Jessica'\n",
       "2. 'p'\n",
       "3. 'r'\n",
       "\n",
       "\n"
      ],
      "text/plain": [
       "[1] \"Jessica\" \"p\"       \"r\"      "
      ]
     },
     "metadata": {},
     "output_type": "display_data"
    }
   ],
   "source": [
    "ls (env =e1)"
   ]
  },
  {
   "cell_type": "code",
   "execution_count": 21,
   "metadata": {
    "collapsed": false
   },
   "outputs": [
    {
     "data": {
      "text/plain": [
       "a :  logi FALSE\n",
       "b :  int [1:3] 1 2 3\n",
       "c :  num 2.3\n",
       "d :  int [1:3] 1 2 3"
      ]
     },
     "metadata": {},
     "output_type": "display_data"
    }
   ],
   "source": [
    "ls.str(envir = e)"
   ]
  },
  {
   "cell_type": "code",
   "execution_count": 22,
   "metadata": {
    "collapsed": false
   },
   "outputs": [
    {
     "data": {
      "text/plain": [
       "Jessica :  num 20.7\n",
       "p :  int 5\n",
       "r :  num [1:5] 1 2 3 4 5"
      ]
     },
     "metadata": {},
     "output_type": "display_data"
    }
   ],
   "source": [
    "ls.str(envir = e1)"
   ]
  },
  {
   "cell_type": "markdown",
   "metadata": {},
   "source": [
    "Cada entorno  tiene un padre, otro entorno (Hadley  Wickham, usa la metáfora de una familia para referirse a entornos) . En el gráfico, se representa un  puntero al entorno padre con un pequeño círculo negro. El entorno padre se utiliza entre otras cosas  para implementar el **alcance léxico**: si no se encuentra un nombre en un entorno, entonces R buscará en su entorno padre y así sucesivamente . Sólo un entorno no tiene un padre: el entorno vacío.\n",
    "\n",
    "![](a5.png)\n",
    "\n",
    "Generalmente, un entorno es similar a una lista, con cuatro excepciones importantes:\n",
    "\n",
    "* Cada nombre en un entorno es único.\n",
    "* Los nombres en un entorno no está ordenados (no tiene sentido preguntar, cual es el primer elemento de un entorno).\n",
    "* Un entorno tiene un padre: \n",
    "* Los entornos tienen referencias semánticas.\n",
    "\n",
    "Técnicamente, un entorno se compone de dos componentes, el `frame`,  que contiene los enlaces `nombre-objeto` y se comporta como una lista con nombres  y un entorno padre.\n",
    "\n",
    "Hay cuatro entornos especiales:\n",
    "\n",
    "* `globalenv()` o entorno global,  es el espacio de trabajo interactivo. El padre del entorno global es el último paquete que se ajuntó  con `library ()` o `require()`. Este es el entorno en el que normalmente  se trabaja.\n",
    "* `baseenv()` , o entorno base  es el entorno del paquete `base`. Su padre es el entorno vacío\n",
    "* `emptyenv()`, es el predecesor  de todos los entornos  y el único entorno sin un padre.\n",
    "* `environment` () es el entorno actual.\n",
    "\n"
   ]
  },
  {
   "cell_type": "markdown",
   "metadata": {},
   "source": [
    "`search()` muestra todos los padres del entorno global. Se le llama   `ruta de búsqueda` porque los objetos en estos entornos se pueden encontrar desde el espacio de trabajo interactivo de nivel superior. Contiene un entorno para cada paquete adjunto y cualquier otro objeto que se haya  adjuntado. También contiene un entorno especial llamado `Autoloads` que se utiliza para guardar memoria al cargar objetos de un paquete (como grandes conjuntos de datos) cuando sea necesario."
   ]
  },
  {
   "cell_type": "code",
   "execution_count": 29,
   "metadata": {
    "collapsed": false
   },
   "outputs": [
    {
     "data": {
      "text/html": [
       "<ol class=list-inline>\n",
       "\t<li>'.GlobalEnv'</li>\n",
       "\t<li>'jupyter:irkernel'</li>\n",
       "\t<li>'jupyter:irkernel'</li>\n",
       "\t<li>'package:stats'</li>\n",
       "\t<li>'package:graphics'</li>\n",
       "\t<li>'package:grDevices'</li>\n",
       "\t<li>'package:utils'</li>\n",
       "\t<li>'package:datasets'</li>\n",
       "\t<li>'package:methods'</li>\n",
       "\t<li>'Autoloads'</li>\n",
       "\t<li>'package:base'</li>\n",
       "</ol>\n"
      ],
      "text/latex": [
       "\\begin{enumerate*}\n",
       "\\item '.GlobalEnv'\n",
       "\\item 'jupyter:irkernel'\n",
       "\\item 'jupyter:irkernel'\n",
       "\\item 'package:stats'\n",
       "\\item 'package:graphics'\n",
       "\\item 'package:grDevices'\n",
       "\\item 'package:utils'\n",
       "\\item 'package:datasets'\n",
       "\\item 'package:methods'\n",
       "\\item 'Autoloads'\n",
       "\\item 'package:base'\n",
       "\\end{enumerate*}\n"
      ],
      "text/markdown": [
       "1. '.GlobalEnv'\n",
       "2. 'jupyter:irkernel'\n",
       "3. 'jupyter:irkernel'\n",
       "4. 'package:stats'\n",
       "5. 'package:graphics'\n",
       "6. 'package:grDevices'\n",
       "7. 'package:utils'\n",
       "8. 'package:datasets'\n",
       "9. 'package:methods'\n",
       "10. 'Autoloads'\n",
       "11. 'package:base'\n",
       "\n",
       "\n"
      ],
      "text/plain": [
       " [1] \".GlobalEnv\"        \"jupyter:irkernel\"  \"jupyter:irkernel\" \n",
       " [4] \"package:stats\"     \"package:graphics\"  \"package:grDevices\"\n",
       " [7] \"package:utils\"     \"package:datasets\"  \"package:methods\"  \n",
       "[10] \"Autoloads\"         \"package:base\"     "
      ]
     },
     "metadata": {},
     "output_type": "display_data"
    }
   ],
   "source": [
    "search()"
   ]
  },
  {
   "cell_type": "markdown",
   "metadata": {},
   "source": [
    "Puede acceder a cualquier entorno de la lista de búsqueda utilizando `as.environment()`:"
   ]
  },
  {
   "cell_type": "code",
   "execution_count": 27,
   "metadata": {
    "collapsed": false
   },
   "outputs": [
    {
     "data": {
      "text/plain": [
       "<environment: 0x2ab6bc8>\n",
       "attr(,\"name\")\n",
       "[1] \"jupyter:irkernel\""
      ]
     },
     "metadata": {},
     "output_type": "display_data"
    }
   ],
   "source": [
    "as.environment(\"jupyter:irkernel\")"
   ]
  },
  {
   "cell_type": "code",
   "execution_count": 30,
   "metadata": {
    "collapsed": false
   },
   "outputs": [
    {
     "data": {
      "text/plain": [
       "<environment: package:stats>\n",
       "attr(,\"name\")\n",
       "[1] \"package:stats\"\n",
       "attr(,\"path\")\n",
       "[1] \"/home/c-lara/anaconda3/lib/R/library/stats\""
      ]
     },
     "metadata": {},
     "output_type": "display_data"
    }
   ],
   "source": [
    "as.environment(\"package:stats\")"
   ]
  },
  {
   "cell_type": "markdown",
   "metadata": {},
   "source": [
    "`globalenv ()`, `baseenv ()`, los entornos entre   la ruta de búsqueda y `emptyenv()` están conectados como se muestra a continuación. Cada vez que se carga un nuevo paquete con `library()` se inserta entre el entorno global y el paquete que estaba previamente en la parte superior de la ruta de búsqueda.\n",
    "\n",
    "![](a6.png)"
   ]
  },
  {
   "cell_type": "code",
   "execution_count": 39,
   "metadata": {
    "collapsed": false
   },
   "outputs": [
    {
     "data": {
      "text/plain": [
       "<environment: R_GlobalEnv>"
      ]
     },
     "metadata": {},
     "output_type": "display_data"
    },
    {
     "data": {
      "text/html": [],
      "text/latex": [],
      "text/markdown": [],
      "text/plain": [
       "character(0)"
      ]
     },
     "metadata": {},
     "output_type": "display_data"
    },
    {
     "data": {
      "text/html": [
       "<ol class=list-inline>\n",
       "\t<li>'a'</li>\n",
       "\t<li>'b'</li>\n",
       "</ol>\n"
      ],
      "text/latex": [
       "\\begin{enumerate*}\n",
       "\\item 'a'\n",
       "\\item 'b'\n",
       "\\end{enumerate*}\n"
      ],
      "text/markdown": [
       "1. 'a'\n",
       "2. 'b'\n",
       "\n",
       "\n"
      ],
      "text/plain": [
       "[1] \"a\" \"b\""
      ]
     },
     "metadata": {},
     "output_type": "display_data"
    },
    {
     "data": {
      "text/html": [
       "'R'"
      ],
      "text/latex": [
       "'R'"
      ],
      "text/markdown": [
       "'R'"
      ],
      "text/plain": [
       "[1] \"R\""
      ]
     },
     "metadata": {},
     "output_type": "display_data"
    },
    {
     "data": {
      "text/html": [
       "2"
      ],
      "text/latex": [
       "2"
      ],
      "text/markdown": [
       "2"
      ],
      "text/plain": [
       "[1] 2"
      ]
     },
     "metadata": {},
     "output_type": "display_data"
    },
    {
     "data": {
      "text/html": [
       "<ol class=list-inline>\n",
       "\t<li>'a'</li>\n",
       "\t<li>'b'</li>\n",
       "</ol>\n"
      ],
      "text/latex": [
       "\\begin{enumerate*}\n",
       "\\item 'a'\n",
       "\\item 'b'\n",
       "\\end{enumerate*}\n"
      ],
      "text/markdown": [
       "1. 'a'\n",
       "2. 'b'\n",
       "\n",
       "\n"
      ],
      "text/plain": [
       "[1] \"a\" \"b\""
      ]
     },
     "metadata": {},
     "output_type": "display_data"
    },
    {
     "name": "stdout",
     "output_type": "stream",
     "text": [
      "<environment: 0x1b918d0> \n"
     ]
    },
    {
     "data": {
      "text/plain": [
       "a :  chr \"R\"\n",
       "b :  num 2"
      ]
     },
     "metadata": {},
     "output_type": "display_data"
    }
   ],
   "source": [
    "# Ejemplo de resumen\n",
    "\n",
    "e2 <- new.env()\n",
    "parent.env(e2)\n",
    "ls(e2)\n",
    "\n",
    "# Modifiquemos las uniones en un entornp\n",
    "\n",
    "e2$a <- \"R\"\n",
    "e2$b <- 2\n",
    "ls(e2)\n",
    "\n",
    "e2$a\n",
    "e2$b\n",
    "\n",
    "ls(e2, all.names = TRUE)\n",
    "\n",
    "# Vemos el contenido de un archivo\n",
    "\n",
    "str(e2)\n",
    "ls.str(e2)"
   ]
  },
  {
   "cell_type": "code",
   "execution_count": 45,
   "metadata": {
    "collapsed": false
   },
   "outputs": [
    {
     "data": {
      "text/html": [
       "3"
      ],
      "text/latex": [
       "3"
      ],
      "text/markdown": [
       "3"
      ],
      "text/plain": [
       "[1] 3"
      ]
     },
     "metadata": {},
     "output_type": "display_data"
    },
    {
     "data": {
      "text/html": [
       "'R good!'"
      ],
      "text/latex": [
       "'R good!'"
      ],
      "text/markdown": [
       "'R good!'"
      ],
      "text/plain": [
       "[1] \"R good!\""
      ]
     },
     "metadata": {},
     "output_type": "display_data"
    },
    {
     "data": {
      "text/html": [
       "4.5"
      ],
      "text/latex": [
       "4.5"
      ],
      "text/markdown": [
       "4.5"
      ],
      "text/plain": [
       "[1] 4.5"
      ]
     },
     "metadata": {},
     "output_type": "display_data"
    }
   ],
   "source": [
    "# Uso de [[ $ o get()\n",
    "\n",
    "e2$c <- 3\n",
    "e2$c\n",
    "e2$d <- \"R good!\"\n",
    "e2[[\"d\"]]\n",
    "e2$g <- 4.5\n",
    "\n",
    "get(\"g\", envir = e2)\n"
   ]
  },
  {
   "cell_type": "markdown",
   "metadata": {},
   "source": [
    "Eliminar algún  objeto  en un  entornos funciona un poco diferente de lo que sucede con las listas. En una lista puedes remover una entrada , con   `NULL`. En en el caso de un entorno, se creará un nuevo enlace a `NULL`. En su lugar, utilizamos `rm ()`  para quitar el enlace."
   ]
  },
  {
   "cell_type": "code",
   "execution_count": 46,
   "metadata": {
    "collapsed": false
   },
   "outputs": [
    {
     "data": {
      "text/html": [
       "'a'"
      ],
      "text/latex": [
       "'a'"
      ],
      "text/markdown": [
       "'a'"
      ],
      "text/plain": [
       "[1] \"a\""
      ]
     },
     "metadata": {},
     "output_type": "display_data"
    }
   ],
   "source": [
    "e3 <- new.env()\n",
    "\n",
    "e3$a <- 'Jessica'\n",
    "e3$a <- NULL\n",
    "ls(e3)"
   ]
  },
  {
   "cell_type": "code",
   "execution_count": 48,
   "metadata": {
    "collapsed": false
   },
   "outputs": [
    {
     "name": "stderr",
     "output_type": "stream",
     "text": [
      "Warning message in rm(\"a\", envir = e3):\n",
      "“objeto 'a' no encontrado”"
     ]
    },
    {
     "data": {
      "text/html": [],
      "text/latex": [],
      "text/markdown": [],
      "text/plain": [
       "character(0)"
      ]
     },
     "metadata": {},
     "output_type": "display_data"
    }
   ],
   "source": [
    "# Eliminando el entorno\n",
    "\n",
    "rm(\"a\", envir = e3)\n",
    "ls(e3)"
   ]
  },
  {
   "cell_type": "markdown",
   "metadata": {},
   "source": [
    "Todos los entornos están anidados, lo que significa que deben tener un entorno padre (como se dijo la  excepción aquí es un entorno especial llamado entorno vacío que se encuentra en la parte superior de la cadena). De forma predeterminada, las funciones `exists` y `get` también buscarán variables en los entornos padres. Pasamos `inherits = FALSE`  para cambiar este comportamiento de modo que sólo se buscará en el entorno que se ha especificado."
   ]
  },
  {
   "cell_type": "code",
   "execution_count": 49,
   "metadata": {
    "collapsed": false
   },
   "outputs": [
    {
     "data": {
      "text/html": [
       "TRUE"
      ],
      "text/latex": [
       "TRUE"
      ],
      "text/markdown": [
       "TRUE"
      ],
      "text/plain": [
       "[1] TRUE"
      ]
     },
     "metadata": {},
     "output_type": "display_data"
    }
   ],
   "source": [
    "x <- 10\n",
    "exists(\"x\", envir = e3)"
   ]
  },
  {
   "cell_type": "code",
   "execution_count": 50,
   "metadata": {
    "collapsed": false
   },
   "outputs": [
    {
     "data": {
      "text/html": [
       "FALSE"
      ],
      "text/latex": [
       "FALSE"
      ],
      "text/markdown": [
       "FALSE"
      ],
      "text/plain": [
       "[1] FALSE"
      ]
     },
     "metadata": {},
     "output_type": "display_data"
    }
   ],
   "source": [
    "exists(\"x\", envir = e3, inherits = FALSE)"
   ]
  },
  {
   "cell_type": "code",
   "execution_count": 53,
   "metadata": {
    "collapsed": false
   },
   "outputs": [
    {
     "data": {
      "text/html": [
       "TRUE"
      ],
      "text/latex": [
       "TRUE"
      ],
      "text/markdown": [
       "TRUE"
      ],
      "text/plain": [
       "[1] TRUE"
      ]
     },
     "metadata": {},
     "output_type": "display_data"
    }
   ],
   "source": [
    "e1_anidado <- new.env(parent = e1)\n",
    "exists('r', e1_anidado) "
   ]
  },
  {
   "cell_type": "code",
   "execution_count": 54,
   "metadata": {
    "collapsed": false
   },
   "outputs": [
    {
     "data": {
      "text/html": [
       "FALSE"
      ],
      "text/latex": [
       "FALSE"
      ],
      "text/markdown": [
       "FALSE"
      ],
      "text/plain": [
       "[1] FALSE"
      ]
     },
     "metadata": {},
     "output_type": "display_data"
    }
   ],
   "source": [
    "exists(\"r\", e1_anidado, inherits = FALSE)"
   ]
  },
  {
   "cell_type": "markdown",
   "metadata": {},
   "source": [
    "Para comparar entornos se usa `identical()` en lugar de `==`:"
   ]
  },
  {
   "cell_type": "code",
   "execution_count": 51,
   "metadata": {
    "collapsed": false
   },
   "outputs": [
    {
     "ename": "ERROR",
     "evalue": "Error in globalenv() == environment(): comparación  (1) es posible solo para tipos lista y atómico\n",
     "output_type": "error",
     "traceback": [
      "Error in globalenv() == environment(): comparación  (1) es posible solo para tipos lista y atómico\nTraceback:\n"
     ]
    }
   ],
   "source": [
    "globalenv() == environment()"
   ]
  },
  {
   "cell_type": "code",
   "execution_count": 52,
   "metadata": {
    "collapsed": false
   },
   "outputs": [
    {
     "data": {
      "text/html": [
       "TRUE"
      ],
      "text/latex": [
       "TRUE"
      ],
      "text/markdown": [
       "TRUE"
      ],
      "text/plain": [
       "[1] TRUE"
      ]
     },
     "metadata": {},
     "output_type": "display_data"
    }
   ],
   "source": [
    "identical(globalenv(), environment())"
   ]
  },
  {
   "cell_type": "markdown",
   "metadata": {},
   "source": [
    "Las funciones de acceso directo están disponibles para acceder al entorno global (donde se almacenan las variables que se asignan desde el símbolo del sistema) y al entorno base (contiene funciones y otras variables del paquete base de R, que proporciona funcionalidad básica):"
   ]
  },
  {
   "cell_type": "code",
   "execution_count": 65,
   "metadata": {
    "collapsed": false
   },
   "outputs": [
    {
     "data": {
      "text/html": [
       "<ol class=list-inline>\n",
       "\t<li>3</li>\n",
       "\t<li>7</li>\n",
       "\t<li>8</li>\n",
       "\t<li>13</li>\n",
       "\t<li>17</li>\n",
       "\t<li>18</li>\n",
       "\t<li>21</li>\n",
       "</ol>\n"
      ],
      "text/latex": [
       "\\begin{enumerate*}\n",
       "\\item 3\n",
       "\\item 7\n",
       "\\item 8\n",
       "\\item 13\n",
       "\\item 17\n",
       "\\item 18\n",
       "\\item 21\n",
       "\\end{enumerate*}\n"
      ],
      "text/markdown": [
       "1. 3\n",
       "2. 7\n",
       "3. 8\n",
       "4. 13\n",
       "5. 17\n",
       "6. 18\n",
       "7. 21\n",
       "\n",
       "\n"
      ],
      "text/plain": [
       "[1]  3  7  8 13 17 18 21"
      ]
     },
     "metadata": {},
     "output_type": "display_data"
    }
   ],
   "source": [
    "# Ejemplo de una asignacion global\n",
    "\n",
    "n1 <<- c(3, 7, 8, 13, 17, 18, 21) \n",
    "get(\"n1\", envir = globalenv())"
   ]
  },
  {
   "cell_type": "code",
   "execution_count": 63,
   "metadata": {
    "collapsed": false
   },
   "outputs": [
    {
     "data": {
      "text/html": [
       "<ol class=list-inline>\n",
       "\t<li>'-'</li>\n",
       "\t<li>'-.Date'</li>\n",
       "\t<li>'-.POSIXt'</li>\n",
       "\t<li>':'</li>\n",
       "\t<li>'::'</li>\n",
       "\t<li>':::'</li>\n",
       "\t<li>'!'</li>\n",
       "\t<li>'!.hexmode'</li>\n",
       "\t<li>'!.octmode'</li>\n",
       "\t<li>'!='</li>\n",
       "\t<li>'('</li>\n",
       "\t<li>'['</li>\n",
       "\t<li>'[.AsIs'</li>\n",
       "\t<li>'[.data.frame'</li>\n",
       "\t<li>'[.Date'</li>\n",
       "\t<li>'[.difftime'</li>\n",
       "\t<li>'[.Dlist'</li>\n",
       "\t<li>'[.factor'</li>\n",
       "\t<li>'[.hexmode'</li>\n",
       "\t<li>'[.listof'</li>\n",
       "\t<li>'[.noquote'</li>\n",
       "\t<li>'[.numeric_version'</li>\n",
       "\t<li>'[.octmode'</li>\n",
       "\t<li>'[.POSIXct'</li>\n",
       "\t<li>'[.POSIXlt'</li>\n",
       "</ol>\n"
      ],
      "text/latex": [
       "\\begin{enumerate*}\n",
       "\\item '-'\n",
       "\\item '-.Date'\n",
       "\\item '-.POSIXt'\n",
       "\\item ':'\n",
       "\\item '::'\n",
       "\\item ':::'\n",
       "\\item '!'\n",
       "\\item '!.hexmode'\n",
       "\\item '!.octmode'\n",
       "\\item '!='\n",
       "\\item '('\n",
       "\\item '{[}'\n",
       "\\item '{[}.AsIs'\n",
       "\\item '{[}.data.frame'\n",
       "\\item '{[}.Date'\n",
       "\\item '{[}.difftime'\n",
       "\\item '{[}.Dlist'\n",
       "\\item '{[}.factor'\n",
       "\\item '{[}.hexmode'\n",
       "\\item '{[}.listof'\n",
       "\\item '{[}.noquote'\n",
       "\\item '{[}.numeric\\_version'\n",
       "\\item '{[}.octmode'\n",
       "\\item '{[}.POSIXct'\n",
       "\\item '{[}.POSIXlt'\n",
       "\\end{enumerate*}\n"
      ],
      "text/markdown": [
       "1. '-'\n",
       "2. '-.Date'\n",
       "3. '-.POSIXt'\n",
       "4. ':'\n",
       "5. '::'\n",
       "6. ':::'\n",
       "7. '!'\n",
       "8. '!.hexmode'\n",
       "9. '!.octmode'\n",
       "10. '!='\n",
       "11. '('\n",
       "12. '['\n",
       "13. '[.AsIs'\n",
       "14. '[.data.frame'\n",
       "15. '[.Date'\n",
       "16. '[.difftime'\n",
       "17. '[.Dlist'\n",
       "18. '[.factor'\n",
       "19. '[.hexmode'\n",
       "20. '[.listof'\n",
       "21. '[.noquote'\n",
       "22. '[.numeric_version'\n",
       "23. '[.octmode'\n",
       "24. '[.POSIXct'\n",
       "25. '[.POSIXlt'\n",
       "\n",
       "\n"
      ],
      "text/plain": [
       " [1] \"-\"                 \"-.Date\"            \"-.POSIXt\"         \n",
       " [4] \":\"                 \"::\"                \":::\"              \n",
       " [7] \"!\"                 \"!.hexmode\"         \"!.octmode\"        \n",
       "[10] \"!=\"                \"(\"                 \"[\"                \n",
       "[13] \"[.AsIs\"            \"[.data.frame\"      \"[.Date\"           \n",
       "[16] \"[.difftime\"        \"[.Dlist\"           \"[.factor\"         \n",
       "[19] \"[.hexmode\"         \"[.listof\"          \"[.noquote\"        \n",
       "[22] \"[.numeric_version\" \"[.octmode\"         \"[.POSIXct\"        \n",
       "[25] \"[.POSIXlt\"        "
      ]
     },
     "metadata": {},
     "output_type": "display_data"
    }
   ],
   "source": [
    "head(ls(envir = baseenv()), 25)"
   ]
  },
  {
   "cell_type": "markdown",
   "metadata": {},
   "source": [
    "Hay otras dos situaciones en las que podemos encontrar entornos. En primer lugar, cuando se llama a una función, todas las variables definidas por la función se almacenan en un entorno que pertenece a esa función (una función más su entorno se denomina a veces `closure`). En segundo lugar, cuando cargamos un paquete, las funciones de ese paquete se almacenan en un entorno en la ruta de búsqueda."
   ]
  },
  {
   "cell_type": "code",
   "execution_count": null,
   "metadata": {
    "collapsed": true
   },
   "outputs": [],
   "source": []
  }
 ],
 "metadata": {
  "kernelspec": {
   "display_name": "R",
   "language": "R",
   "name": "ir"
  },
  "language_info": {
   "codemirror_mode": "r",
   "file_extension": ".r",
   "mimetype": "text/x-r-source",
   "name": "R",
   "pygments_lexer": "r",
   "version": "3.3.2"
  }
 },
 "nbformat": 4,
 "nbformat_minor": 1
}
