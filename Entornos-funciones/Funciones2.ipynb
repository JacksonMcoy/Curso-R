{
 "cells": [
  {
   "cell_type": "markdown",
   "metadata": {
    "deletable": true,
    "editable": true
   },
   "source": [
    "## Más sobre funciones\n",
    "\n",
    "\n",
    "El análisis de datos en el mundo real suele implicar una cuidadosa y detallada transformación y agregación de datos, que puede realizarse con una gran variedad de funciones, ya sean parte del paquete base  o proporcionadas por paquetes de extensión. Para utilizar mejor estas funciones se  necesita una comprensión básica pero concreta de cómo funcionan las funciones `R`. "
   ]
  },
  {
   "cell_type": "markdown",
   "metadata": {
    "deletable": true,
    "editable": true
   },
   "source": [
    "### Evaluación perezosa\n",
    "\n",
    "Una gran parte de la comprensión de cómo R funciona se puede hacer, averiguando cómo trabajan las funciones. Supongamos que creamos la siguiente función:"
   ]
  },
  {
   "cell_type": "code",
   "execution_count": 1,
   "metadata": {
    "collapsed": true,
    "deletable": true,
    "editable": true
   },
   "outputs": [],
   "source": [
    "prueba0 <- function(x, y) {\n",
    "    if (x > 0) x else y\n",
    "}"
   ]
  },
  {
   "cell_type": "markdown",
   "metadata": {
    "deletable": true,
    "editable": true
   },
   "source": [
    "La función es algo especial porque `y` parece ser necesario sólo cuando `x` es menor que cero. ¿Qué pasa si sólo suministramos un número positivo a `x` e ignoramos `y`? ¿Fallará la función porque no suministramos todos los argumentos en su definición? Averigüemos llamando a la  función:"
   ]
  },
  {
   "cell_type": "code",
   "execution_count": 2,
   "metadata": {
    "collapsed": false,
    "deletable": true,
    "editable": true
   },
   "outputs": [
    {
     "data": {
      "text/html": [
       "1"
      ],
      "text/latex": [
       "1"
      ],
      "text/markdown": [
       "1"
      ],
      "text/plain": [
       "[1] 1"
      ]
     },
     "metadata": {},
     "output_type": "display_data"
    }
   ],
   "source": [
    "prueba0(1)"
   ]
  },
  {
   "cell_type": "markdown",
   "metadata": {
    "deletable": true,
    "editable": true
   },
   "source": [
    "La función funciona sin que  se suministre la variable `y`. Parece que no estamos obligados a suministrar los valores a todos los argumentos cuando llamamos a una función, sino sólo a aquellos que son necesarios. Si llamamos a `prueba0` con un número negativo, `y` es necesario:"
   ]
  },
  {
   "cell_type": "code",
   "execution_count": 3,
   "metadata": {
    "collapsed": false,
    "deletable": true,
    "editable": true
   },
   "outputs": [
    {
     "ename": "ERROR",
     "evalue": "Error in prueba0(-2): el argumento \"y\" está ausente, sin valor por omisión\n",
     "output_type": "error",
     "traceback": [
      "Error in prueba0(-2): el argumento \"y\" está ausente, sin valor por omisión\nTraceback:\n",
      "1. prueba0(-2)"
     ]
    }
   ],
   "source": [
    "prueba0(-2)"
   ]
  },
  {
   "cell_type": "markdown",
   "metadata": {
    "deletable": true,
    "editable": true
   },
   "source": [
    "Como no especificamos el valor de `y`, la función se detiene, informando la falta de `y`.\n",
    "\n",
    "De los ejemplos anteriores, se aprende que una función no requiere que se especifiquen todos los argumentos si no son necesarios para devolver un valor. ¿Qué pasa si insistimos en especificar los argumentos que no se utilizan en la función? ¿Serán evaluados antes de llamar a la función o no son  evaluados en absoluto?\n",
    "\n",
    "Averiguémos poniendo una función `stop()` en la posición del argumento `y`. Si la expresión se evalúa por cualquier medio, debe detenerse inmediatamente antes de que se devuelva `x`:"
   ]
  },
  {
   "cell_type": "code",
   "execution_count": 4,
   "metadata": {
    "collapsed": false,
    "deletable": true,
    "editable": true
   },
   "outputs": [
    {
     "data": {
      "text/html": [
       "1"
      ],
      "text/latex": [
       "1"
      ],
      "text/markdown": [
       "1"
      ],
      "text/plain": [
       "[1] 1"
      ]
     },
     "metadata": {},
     "output_type": "display_data"
    }
   ],
   "source": [
    "prueba0(1, stop(\"Nos detenemos ahora\"))"
   ]
  },
  {
   "cell_type": "markdown",
   "metadata": {
    "deletable": true,
    "editable": true
   },
   "source": [
    "La salida indica que `stop()` no ocurre, lo que indica que no se evalúa en absoluto. Si cambiamos el valor de `x` a un número negativo, la función debería detenerse:"
   ]
  },
  {
   "cell_type": "code",
   "execution_count": 5,
   "metadata": {
    "collapsed": false,
    "deletable": true,
    "editable": true
   },
   "outputs": [
    {
     "ename": "ERROR",
     "evalue": "Error in prueba0(-1, stop(\"Nos detenemos ahora\")): Nos detenemos ahora\n",
     "output_type": "error",
     "traceback": [
      "Error in prueba0(-1, stop(\"Nos detenemos ahora\")): Nos detenemos ahora\nTraceback:\n",
      "1. prueba0(-1, stop(\"Nos detenemos ahora\"))",
      "2. stop(\"Nos detenemos ahora\")   # at line 2 of file <text>"
     ]
    }
   ],
   "source": [
    "prueba0(-1, stop(\"Nos detenemos ahora\"))"
   ]
  },
  {
   "cell_type": "markdown",
   "metadata": {
    "deletable": true,
    "editable": true
   },
   "source": [
    "Ahora, es claro que `stop()` se evalúa en este caso. El mecanismo se vuelve bastante transparente. En una llamada de función, la expresión de un argumento se evalúa sólo cuando el valor del argumento es necesario. Este mecanismo se denomina **evaluación perezosa**  y por lo tanto, también podemos decir, que los argumentos de una llamada de función son evaluados perezosamente, es decir, evaluados sólo cuando es necesario.\n",
    "\n",
    "Si no estas al tanto del mecanismo de evaluación perezosa, se puede pensar que la llamada de función siguiente debe consumir mucho tiempo y puede agotar toda la memoria del equipo. Sin embargo, la evaluación perezosa evita que suceda porque `rnorm(1000000)` nunca se evalúa. Esto se debe a que nunca se necesita cuando se evalúa `if (x> 0) x else y`, lo que se puede verificar sincronizando las llamadas de función, usando `system.time()`:"
   ]
  },
  {
   "cell_type": "code",
   "execution_count": 6,
   "metadata": {
    "collapsed": false,
    "deletable": true,
    "editable": true
   },
   "outputs": [
    {
     "data": {
      "text/plain": [
       "   user  system elapsed \n",
       "  3.020   0.016   3.072 "
      ]
     },
     "metadata": {},
     "output_type": "display_data"
    }
   ],
   "source": [
    "system.time(rnorm(10000000))"
   ]
  },
  {
   "cell_type": "markdown",
   "metadata": {
    "deletable": true,
    "editable": true
   },
   "source": [
    "Generar `10` millones de números aleatorios no es un trabajo fácil. Se tarda más de un segundo. Por el contrario, la evaluación de un número debe ser más fácil en `R` y es tan rápido que el temporizador en sí no puede decirnos mucha información:"
   ]
  },
  {
   "cell_type": "code",
   "execution_count": 7,
   "metadata": {
    "collapsed": false,
    "deletable": true,
    "editable": true
   },
   "outputs": [
    {
     "data": {
      "text/plain": [
       "   user  system elapsed \n",
       "      0       0       0 "
      ]
     },
     "metadata": {},
     "output_type": "display_data"
    }
   ],
   "source": [
    "system.time(1)"
   ]
  },
  {
   "cell_type": "markdown",
   "metadata": {
    "deletable": true,
    "editable": true
   },
   "source": [
    "Si consideramos la siguiente expresión, dada la lógica de `prueba0` y el conocimiento de la evaluación perezosa, `system.time` debe indicar cero:\n"
   ]
  },
  {
   "cell_type": "code",
   "execution_count": 8,
   "metadata": {
    "collapsed": false,
    "deletable": true,
    "editable": true
   },
   "outputs": [
    {
     "data": {
      "text/plain": [
       "   user  system elapsed \n",
       "      0       0       0 "
      ]
     },
     "metadata": {},
     "output_type": "display_data"
    }
   ],
   "source": [
    "system.time(prueba0(1, rnorm(10000000)))"
   ]
  },
  {
   "cell_type": "markdown",
   "metadata": {
    "deletable": true,
    "editable": true
   },
   "source": [
    "Otro escenario de evaluación perezosa que podría ocurrir son los valores predeterminados de los argumentos. Más precisamente, los valores por defecto de los argumentos de la función deben ser realmente expresiones por defecto porque el valor no está disponible hasta que la expresión realmente se evalúa.\n",
    "\n",
    "Consideramos la siguiente función:"
   ]
  },
  {
   "cell_type": "code",
   "execution_count": 9,
   "metadata": {
    "collapsed": true,
    "deletable": true,
    "editable": true
   },
   "outputs": [],
   "source": [
    "prueba1 <- function(x, y = stop(\"paramos ahora\")) {\n",
    "    if (x > 0) x else y\n",
    "}"
   ]
  },
  {
   "cell_type": "markdown",
   "metadata": {
    "deletable": true,
    "editable": true
   },
   "source": [
    "Le damos a  `y` un valor por defecto que llama a `stop()`. Si la evaluación perezosa no se aplica aquí, es decir, si `y` es evaluado independientemente de si es necesario, deberíamos recibir un error mientras llamamos a `prueba1()` sin suministrar `y`. Sin embargo, si la evaluación perezosa se aplica, llamar a `prueba1()` con un argumento `x` positivo no debería causar un error ya que la expresión `stop()` de `y` nunca se evalúa.\n",
    "\n",
    "Hagamos un experimento para averiguar cuál es la verdad. En primer lugar, llamaremos `prueba1()` con un argumento `x` positivo:"
   ]
  },
  {
   "cell_type": "code",
   "execution_count": 10,
   "metadata": {
    "collapsed": false,
    "deletable": true,
    "editable": true
   },
   "outputs": [
    {
     "data": {
      "text/html": [
       "1"
      ],
      "text/latex": [
       "1"
      ],
      "text/markdown": [
       "1"
      ],
      "text/plain": [
       "[1] 1"
      ]
     },
     "metadata": {},
     "output_type": "display_data"
    }
   ],
   "source": [
    "prueba1(1)"
   ]
  },
  {
   "cell_type": "markdown",
   "metadata": {
    "deletable": true,
    "editable": true
   },
   "source": [
    "La salida implica que la evaluación perezosa también funciona aquí. La función sólo utiliza `x`, y la expresión por defecto de `y` no se evalúa en absoluto. Si suministramos un argumento `x` negativo en su lugar, la función debería detenerse como se supone:"
   ]
  },
  {
   "cell_type": "code",
   "execution_count": 11,
   "metadata": {
    "collapsed": false,
    "deletable": true,
    "editable": true
   },
   "outputs": [
    {
     "ename": "ERROR",
     "evalue": "Error in prueba1(-3): paramos ahora\n",
     "output_type": "error",
     "traceback": [
      "Error in prueba1(-3): paramos ahora\nTraceback:\n",
      "1. prueba1(-3)",
      "2. stop(\"paramos ahora\")   # at line 2 of file <text>"
     ]
    }
   ],
   "source": [
    "prueba1(-3)"
   ]
  },
  {
   "cell_type": "markdown",
   "metadata": {
    "deletable": true,
    "editable": true
   },
   "source": [
    "Los ejemplos anteriores demuestran una ventaja de la evaluación perezosa: hace posible ahorrar tiempo y evitar la evaluación innecesaria de las expresiones. Además, también permite una especificación más flexible de los valores por defecto de los argumentos de la función. Por ejemplo, se puede utilizar otros argumentos en la expresión de un argumento de función:"
   ]
  },
  {
   "cell_type": "code",
   "execution_count": 12,
   "metadata": {
    "collapsed": true,
    "deletable": true,
    "editable": true
   },
   "outputs": [],
   "source": [
    "prueba2 <- function(x, n = floor(length(x) / 2)) {\n",
    "    x[1:n]\n",
    "}"
   ]
  },
  {
   "cell_type": "markdown",
   "metadata": {
    "deletable": true,
    "editable": true
   },
   "source": [
    "Esto  permite configurar el comportamiento predeterminado de una función de una manera más razonable o deseable, mientras que los argumentos de la función siguen siendo tan personalizables como estaban sin esos valores predeterminados.\n",
    "\n",
    "Si llamamos a `prueba2`, sin especificar `n`, el comportamiento por defecto extrae los elementos de la primera mitad de `x`:"
   ]
  },
  {
   "cell_type": "code",
   "execution_count": 13,
   "metadata": {
    "collapsed": false,
    "deletable": true,
    "editable": true
   },
   "outputs": [
    {
     "data": {
      "text/html": [
       "<ol class=list-inline>\n",
       "\t<li>1</li>\n",
       "\t<li>2</li>\n",
       "\t<li>3</li>\n",
       "\t<li>4</li>\n",
       "\t<li>5</li>\n",
       "</ol>\n"
      ],
      "text/latex": [
       "\\begin{enumerate*}\n",
       "\\item 1\n",
       "\\item 2\n",
       "\\item 3\n",
       "\\item 4\n",
       "\\item 5\n",
       "\\end{enumerate*}\n"
      ],
      "text/markdown": [
       "1. 1\n",
       "2. 2\n",
       "3. 3\n",
       "4. 4\n",
       "5. 5\n",
       "\n",
       "\n"
      ],
      "text/plain": [
       "[1] 1 2 3 4 5"
      ]
     },
     "metadata": {},
     "output_type": "display_data"
    }
   ],
   "source": [
    "prueba2(1:10)"
   ]
  },
  {
   "cell_type": "markdown",
   "metadata": {
    "deletable": true,
    "editable": true
   },
   "source": [
    "La función sigue siendo flexible ya que siempre se puede anular su comportamiento predeterminado especificando otro valor de `n`:"
   ]
  },
  {
   "cell_type": "code",
   "execution_count": 14,
   "metadata": {
    "collapsed": false,
    "deletable": true,
    "editable": true
   },
   "outputs": [
    {
     "data": {
      "text/html": [
       "<ol class=list-inline>\n",
       "\t<li>1</li>\n",
       "\t<li>2</li>\n",
       "\t<li>3</li>\n",
       "</ol>\n"
      ],
      "text/latex": [
       "\\begin{enumerate*}\n",
       "\\item 1\n",
       "\\item 2\n",
       "\\item 3\n",
       "\\end{enumerate*}\n"
      ],
      "text/markdown": [
       "1. 1\n",
       "2. 2\n",
       "3. 3\n",
       "\n",
       "\n"
      ],
      "text/plain": [
       "[1] 1 2 3"
      ]
     },
     "metadata": {},
     "output_type": "display_data"
    }
   ],
   "source": [
    "prueba2(1:10, 3)"
   ]
  },
  {
   "cell_type": "markdown",
   "metadata": {
    "deletable": true,
    "editable": true
   },
   "source": [
    "Como todas las demás características, la evaluación perezosa también tiene sus pros y sus contras. Dado que los argumentos de una función sólo se analizan pero no se evalúan cuando se llama a la función, sólo podemos asegurarnos de que las expresiones suministradas a los argumentos son sintácticamente correctas. Es difícil asegurar que los argumentos van a funcionar.\n",
    "\n",
    "Por ejemplo, si una variable indefinida aparece en el valor predeterminado de un argumento, no habrá ninguna advertencia o error en el momento en que creamos la función. En el ejemplo siguiente, creamos una función `prueba3`, que es exactamente igual que `prueba2`, excepto que `x` en `n` se escribe erróneamente como una variable indefinida `m`."
   ]
  },
  {
   "cell_type": "code",
   "execution_count": 15,
   "metadata": {
    "collapsed": true,
    "deletable": true,
    "editable": true
   },
   "outputs": [],
   "source": [
    "prueba3 <- function(x, n = floor(length(m) / 2)) {\n",
    "    x[1:n]\n",
    "}"
   ]
  },
  {
   "cell_type": "markdown",
   "metadata": {
    "deletable": true,
    "editable": true
   },
   "source": [
    "Cuando creamos `prueba3`, no hay ninguna advertencia o error porque `floor(length (m)/2)` nunca se evalúa antes de que se llame a `prueba3` y el valor de `n` es demandado por `1: n`. La función se detendrá sólo cuando la llamemos:"
   ]
  },
  {
   "cell_type": "code",
   "execution_count": 16,
   "metadata": {
    "collapsed": false,
    "deletable": true,
    "editable": true
   },
   "outputs": [
    {
     "ename": "ERROR",
     "evalue": "Error in prueba3(1:10): objeto 'm' no encontrado\n",
     "output_type": "error",
     "traceback": [
      "Error in prueba3(1:10): objeto 'm' no encontrado\nTraceback:\n",
      "1. prueba3(1:10)"
     ]
    }
   ],
   "source": [
    "prueba3(1:10)"
   ]
  },
  {
   "cell_type": "markdown",
   "metadata": {
    "deletable": true,
    "editable": true
   },
   "source": [
    "Si hemos definido `m` antes de que se llame a `prueba3`, la función trabaja, pero de una manera inesperada:"
   ]
  },
  {
   "cell_type": "code",
   "execution_count": 17,
   "metadata": {
    "collapsed": false,
    "deletable": true,
    "editable": true
   },
   "outputs": [
    {
     "data": {
      "text/html": [
       "1"
      ],
      "text/latex": [
       "1"
      ],
      "text/markdown": [
       "1"
      ],
      "text/plain": [
       "[1] 1"
      ]
     },
     "metadata": {},
     "output_type": "display_data"
    }
   ],
   "source": [
    "m <- c(1, 2, 3)\n",
    "prueba3(1:10)"
   ]
  },
  {
   "cell_type": "markdown",
   "metadata": {
    "deletable": true,
    "editable": true
   },
   "source": [
    "Otro ejemplo que hace que la evaluación de la pereza sea más explícita es el siguiente:"
   ]
  },
  {
   "cell_type": "code",
   "execution_count": 18,
   "metadata": {
    "collapsed": true,
    "deletable": true,
    "editable": true
   },
   "outputs": [],
   "source": [
    "prueba4 <- function(x, y = p) {\n",
    "    p <- x + 1\n",
    "    c(x, y)\n",
    "}"
   ]
  },
  {
   "cell_type": "markdown",
   "metadata": {
    "deletable": true,
    "editable": true
   },
   "source": [
    "Se debe tener  en cuenta que el valor predeterminado de `y` es `p`, que no se define antes de que se llame a la función, como en el ejemplo anterior. Una diferencia notable entre estos dos ejemplos es cuando se suministra el símbolo que falta en el valor predeterminado del segundo argumento. En el ejemplo anterior, `p` se define antes de llamar a la función. Sin embargo, en este ejemplo, `p` se define dentro de la función antes de que se utilice `y`.\n",
    "\n",
    "Veamos qué sucede cuando llamamos a la función:"
   ]
  },
  {
   "cell_type": "code",
   "execution_count": 19,
   "metadata": {
    "collapsed": false,
    "deletable": true,
    "editable": true
   },
   "outputs": [
    {
     "data": {
      "text/html": [
       "<ol class=list-inline>\n",
       "\t<li>1</li>\n",
       "\t<li>2</li>\n",
       "</ol>\n"
      ],
      "text/latex": [
       "\\begin{enumerate*}\n",
       "\\item 1\n",
       "\\item 2\n",
       "\\end{enumerate*}\n"
      ],
      "text/markdown": [
       "1. 1\n",
       "2. 2\n",
       "\n",
       "\n"
      ],
      "text/plain": [
       "[1] 1 2"
      ]
     },
     "metadata": {},
     "output_type": "display_data"
    }
   ],
   "source": [
    "prueba4(1)"
   ]
  },
  {
   "cell_type": "markdown",
   "metadata": {
    "deletable": true,
    "editable": true
   },
   "source": [
    "Parece que la función funciona en lugar de terminar en un error. Será más fácil de entender si pasamos por el proceso detallado de cómo `prueba4(1)` es ejecutada:\n",
    "\n",
    "* Se encuentra una función llamada `prueba4`.\n",
    "* Coincidimos los argumentos dados, pero tanto `x` como `y` no se evalúan.\n",
    "* `p <- x + 1` evalúa `x + 1` y asigna el valor a una nueva variable `p`.\n",
    "* `c(x, y)` evalúa tanto `x` como `y`, donde `x` toma `1` e  `y` toma `p`, lo cual sucede para obtener el valor de `x + 1`, que es `2`.\n",
    "* La función retorna un vector numérico `c(1,2)`."
   ]
  },
  {
   "cell_type": "markdown",
   "metadata": {
    "deletable": true,
    "editable": true
   },
   "source": [
    "Por lo tanto, en todo el proceso de evaluación de `prueba4(1)`, no se produce ninguna advertencia o error porque no se infringen reglas. El truco más importante aquí es que `p` sólo se define antes de que se utilice `y`.\n",
    "\n",
    "El ejemplo anterior ayuda a explicar cómo funciona la evaluación perezosa, pero de hecho es una mala práctica. No recomiendo escribir una función de esta manera porque este truco sólo hace que el comportamiento de la función sea menos transparente. Una buena práctica es simplificar los argumentos y evitar el uso de símbolos indefinidos fuera de la función. De lo contrario, puede ser difícil predecir su comportamiento o depurar la función debido a su dependencia del entorno externo."
   ]
  },
  {
   "cell_type": "markdown",
   "metadata": {
    "deletable": true,
    "editable": true
   },
   "source": [
    "A pesar de esto, hay un cierto uso sabio de la evaluación perezosa también. Por ejemplo, `stop()`,  se puede utilizar junto con `switch()` en el último argumento para hacer que la función se detenga cuando no coinciden los casos. La siguiente función `prueba_entrada()` utiliza `switch()` para regular la entrada de `x` de modo que sólo acepta `y` e `n`. La función  se detiene cuando se suministran otras cadenas:"
   ]
  },
  {
   "cell_type": "code",
   "execution_count": 20,
   "metadata": {
    "collapsed": true,
    "deletable": true,
    "editable": true
   },
   "outputs": [],
   "source": [
    "prueba_entrada <- function(x) {\n",
    "    switch(x,\n",
    "           y = message(\"si\"),\n",
    "           n = message(\"no\"),\n",
    "           stop(\"Entrada invalida\"))\n",
    "}"
   ]
  },
  {
   "cell_type": "markdown",
   "metadata": {
    "deletable": true,
    "editable": true
   },
   "source": [
    "Cuando `x` toma `y`, un mensaje diciendo `si` se  muestra:"
   ]
  },
  {
   "cell_type": "code",
   "execution_count": 21,
   "metadata": {
    "collapsed": false,
    "deletable": true,
    "editable": true
   },
   "outputs": [
    {
     "name": "stderr",
     "output_type": "stream",
     "text": [
      "si\n"
     ]
    }
   ],
   "source": [
    "prueba_entrada(\"y\")"
   ]
  },
  {
   "cell_type": "markdown",
   "metadata": {
    "deletable": true,
    "editable": true
   },
   "source": [
    "Cuando `x` toma `n`, aparece un mensaje diciendo `no`:"
   ]
  },
  {
   "cell_type": "code",
   "execution_count": 22,
   "metadata": {
    "collapsed": false,
    "deletable": true,
    "editable": true
   },
   "outputs": [
    {
     "name": "stderr",
     "output_type": "stream",
     "text": [
      "no\n"
     ]
    }
   ],
   "source": [
    "prueba_entrada(\"n\")"
   ]
  },
  {
   "cell_type": "markdown",
   "metadata": {
    "deletable": true,
    "editable": true
   },
   "source": [
    "De lo contrario, la función se detiene:"
   ]
  },
  {
   "cell_type": "code",
   "execution_count": 23,
   "metadata": {
    "collapsed": false,
    "deletable": true,
    "editable": true
   },
   "outputs": [
    {
     "ename": "ERROR",
     "evalue": "Error in prueba_entrada(\"Que es esto?\"): Entrada invalida\n",
     "output_type": "error",
     "traceback": [
      "Error in prueba_entrada(\"Que es esto?\"): Entrada invalida\nTraceback:\n",
      "1. prueba_entrada(\"Que es esto?\")",
      "2. stop(\"Entrada invalida\")   # at line 2-5 of file <text>"
     ]
    }
   ],
   "source": [
    "prueba_entrada(\"Que es esto?\")"
   ]
  },
  {
   "cell_type": "markdown",
   "metadata": {
    "deletable": true,
    "editable": true
   },
   "source": [
    "El ejemplo funciona porque `stop()` es evaluado perezosamente como un argumento de `switch()`."
   ]
  },
  {
   "cell_type": "markdown",
   "metadata": {
    "deletable": true,
    "editable": true
   },
   "source": [
    "No se puede confiar demasiado en el analizador para comprobar el código. Sólo comprueba el código en su sintaxis y no indica si el código está escrito con buenas prácticas. Para evitar los peligros potenciales causados por la evaluación perezosa, haga la comprobación necesaria en la función para cerciorarse de que la entrada se puede manejar correctamente."
   ]
  },
  {
   "cell_type": "markdown",
   "metadata": {
    "deletable": true,
    "editable": true
   },
   "source": [
    "### El mecanismo de copiar-poner-modificar\n",
    "\n",
    "En la parte anterior  mostramos cómo funciona la evaluación perezosa y cómo puede ayudar a ahorrar tiempo de computación y  trabajo de memoria al evitar la evaluación innecesaria de los argumentos de la función. En esta parte se mostrará una característica importante de R que hace que sea más seguro trabajar con datos. \n",
    "\n",
    "Supongamos que creamos un vector numérico simple `x1`:"
   ]
  },
  {
   "cell_type": "code",
   "execution_count": 24,
   "metadata": {
    "collapsed": true,
    "deletable": true,
    "editable": true
   },
   "outputs": [],
   "source": [
    "x1 <- c(1, 2, 3)"
   ]
  },
  {
   "cell_type": "markdown",
   "metadata": {
    "deletable": true,
    "editable": true
   },
   "source": [
    "A continuación, asignamos el valor de `x1` a `x2`:"
   ]
  },
  {
   "cell_type": "code",
   "execution_count": 25,
   "metadata": {
    "collapsed": true,
    "deletable": true,
    "editable": true
   },
   "outputs": [],
   "source": [
    "x2 <- x1"
   ]
  },
  {
   "cell_type": "markdown",
   "metadata": {
    "deletable": true,
    "editable": true
   },
   "source": [
    "Ahora, `x1` y `x2` tienen exactamente el mismo valor. ¿Qué pasa si modificamos un elemento en uno de los dos vectores? ¿Cambiarán ambos vectores?"
   ]
  },
  {
   "cell_type": "code",
   "execution_count": 26,
   "metadata": {
    "collapsed": false,
    "deletable": true,
    "editable": true
   },
   "outputs": [
    {
     "data": {
      "text/html": [
       "<ol class=list-inline>\n",
       "\t<li>0</li>\n",
       "\t<li>2</li>\n",
       "\t<li>3</li>\n",
       "</ol>\n"
      ],
      "text/latex": [
       "\\begin{enumerate*}\n",
       "\\item 0\n",
       "\\item 2\n",
       "\\item 3\n",
       "\\end{enumerate*}\n"
      ],
      "text/markdown": [
       "1. 0\n",
       "2. 2\n",
       "3. 3\n",
       "\n",
       "\n"
      ],
      "text/plain": [
       "[1] 0 2 3"
      ]
     },
     "metadata": {},
     "output_type": "display_data"
    }
   ],
   "source": [
    "x1[1] <- 0\n",
    "x1"
   ]
  },
  {
   "cell_type": "code",
   "execution_count": 27,
   "metadata": {
    "collapsed": false,
    "deletable": true,
    "editable": true
   },
   "outputs": [
    {
     "data": {
      "text/html": [
       "<ol class=list-inline>\n",
       "\t<li>1</li>\n",
       "\t<li>2</li>\n",
       "\t<li>3</li>\n",
       "</ol>\n"
      ],
      "text/latex": [
       "\\begin{enumerate*}\n",
       "\\item 1\n",
       "\\item 2\n",
       "\\item 3\n",
       "\\end{enumerate*}\n"
      ],
      "text/markdown": [
       "1. 1\n",
       "2. 2\n",
       "3. 3\n",
       "\n",
       "\n"
      ],
      "text/plain": [
       "[1] 1 2 3"
      ]
     },
     "metadata": {},
     "output_type": "display_data"
    }
   ],
   "source": [
    "x2"
   ]
  },
  {
   "cell_type": "markdown",
   "metadata": {
    "deletable": true,
    "editable": true
   },
   "source": [
    "La salida muestra que cuando `x1` cambia, `x2` permanecerá sin cambios. Se puede adivinar que la asignación copia automáticamente el valor y hace que la nueva variable apunte a la copia de los datos en lugar de los datos originales. Vamos a usar `tracemem()` para rastrear la huella de los datos en la memoria.\n",
    "\n",
    "Vamos a restablecer los vectores y realizar un experimento mediante el seguimiento de las direcciones de memoria de `x1` e  `x2`:"
   ]
  },
  {
   "cell_type": "code",
   "execution_count": 28,
   "metadata": {
    "collapsed": true,
    "deletable": true,
    "editable": true
   },
   "outputs": [],
   "source": [
    "x1 <- c(1, 2, 3)\n",
    "x2 <- x1"
   ]
  },
  {
   "cell_type": "markdown",
   "metadata": {
    "deletable": true,
    "editable": true
   },
   "source": [
    "Llamamos `tracemem()` en los dos vectores, que muestra la dirección de memoria actual de los datos. Si cambia la dirección de memoria que se está rastreando,  aparecerá un texto con la dirección original y la nueva dirección, indicando que la data es copiada:"
   ]
  },
  {
   "cell_type": "code",
   "execution_count": 29,
   "metadata": {
    "collapsed": false,
    "deletable": true,
    "editable": true
   },
   "outputs": [
    {
     "data": {
      "text/html": [
       "'&lt;0x40be450&gt;'"
      ],
      "text/latex": [
       "'<0x40be450>'"
      ],
      "text/markdown": [
       "'&lt;0x40be450&gt;'"
      ],
      "text/plain": [
       "[1] \"<0x40be450>\""
      ]
     },
     "metadata": {},
     "output_type": "display_data"
    }
   ],
   "source": [
    "tracemem(x1)"
   ]
  },
  {
   "cell_type": "code",
   "execution_count": 30,
   "metadata": {
    "collapsed": false,
    "deletable": true,
    "editable": true
   },
   "outputs": [
    {
     "data": {
      "text/html": [
       "'&lt;0x40be450&gt;'"
      ],
      "text/latex": [
       "'<0x40be450>'"
      ],
      "text/markdown": [
       "'&lt;0x40be450&gt;'"
      ],
      "text/plain": [
       "[1] \"<0x40be450>\""
      ]
     },
     "metadata": {},
     "output_type": "display_data"
    }
   ],
   "source": [
    "tracemem(x2)"
   ]
  },
  {
   "cell_type": "markdown",
   "metadata": {
    "deletable": true,
    "editable": true
   },
   "source": [
    "Ahora, ambos vectores tienen el mismo valor y `x1` e  `x2` comparten la misma dirección, lo que implica que apuntan exactamente a la misma parte  de datos en la memoria y que la operación de asignación no copia los datos automáticamente. Pero, ¿cuándo se copian los datos?\n",
    "\n",
    "Ahora, modificaremos el primer elemento de `x1` a `0`:"
   ]
  },
  {
   "cell_type": "code",
   "execution_count": 31,
   "metadata": {
    "collapsed": false,
    "deletable": true,
    "editable": true
   },
   "outputs": [
    {
     "name": "stdout",
     "output_type": "stream",
     "text": [
      "tracemem[0x40be450 -> 0x3bd82c8]: eval eval withVisible withCallingHandlers doTryCatch tryCatchOne tryCatchList tryCatch try handle timing_fn evaluate_call evaluate doTryCatch tryCatchOne tryCatchList doTryCatch tryCatchOne tryCatchList tryCatch <Anonymous> handle_shell <Anonymous> <Anonymous> \n"
     ]
    }
   ],
   "source": [
    "x1[1] <- 0"
   ]
  },
  {
   "cell_type": "markdown",
   "metadata": {
    "deletable": true,
    "editable": true
   },
   "source": [
    "El rastreo de memoria indica que la dirección de `x1` ha cambiado a una nueva.  Ahora tenemos dos copias de los mismos datos en dos lugares diferentes. A continuación, se modifica el primer elemento de una copia y finalmente, `x1`  se acomoda para  apuntar  a la copia modificada.\n",
    "\n",
    "Ahora, `x1` y `x2` tienen valores diferentes: `x1` apunta al vector modificado y `x2` permanece apuntando al vector original. En otras palabras, si varias variables se refieren al mismo objeto, modificar una variable hará una copia del objeto. Este mecanismos es llamado **copiar-poner-modificar**."
   ]
  },
  {
   "cell_type": "markdown",
   "metadata": {
    "deletable": true,
    "editable": true
   },
   "source": [
    "Otro escenario donde el mecanismo **copiar-poner-modificar** sucede es cuando modificamos un argumento de una  función. Supongamos que creamos la siguiente función:"
   ]
  },
  {
   "cell_type": "code",
   "execution_count": 32,
   "metadata": {
    "collapsed": true,
    "deletable": true,
    "editable": true
   },
   "outputs": [],
   "source": [
    "modifica_primero <- function(x) {\n",
    "    x[1] <- 0\n",
    "    x\n",
    "}"
   ]
  },
  {
   "cell_type": "markdown",
   "metadata": {
    "deletable": true,
    "editable": true
   },
   "source": [
    "Cuando se ejecuta la función, se intenta modificar el primer elemento del argumento `x`. Hagamos algunos experimentos con vectores y listas y veamos si `modifica_primero()` puede modificarlos.\n",
    "\n",
    "Para un vector numérico `v1`:"
   ]
  },
  {
   "cell_type": "code",
   "execution_count": 33,
   "metadata": {
    "collapsed": false,
    "deletable": true,
    "editable": true
   },
   "outputs": [
    {
     "data": {
      "text/html": [
       "<ol class=list-inline>\n",
       "\t<li>0</li>\n",
       "\t<li>2</li>\n",
       "\t<li>3</li>\n",
       "</ol>\n"
      ],
      "text/latex": [
       "\\begin{enumerate*}\n",
       "\\item 0\n",
       "\\item 2\n",
       "\\item 3\n",
       "\\end{enumerate*}\n"
      ],
      "text/markdown": [
       "1. 0\n",
       "2. 2\n",
       "3. 3\n",
       "\n",
       "\n"
      ],
      "text/plain": [
       "[1] 0 2 3"
      ]
     },
     "metadata": {},
     "output_type": "display_data"
    }
   ],
   "source": [
    "v1 <- c(1, 2, 3)\n",
    "modifica_primero(v1)"
   ]
  },
  {
   "cell_type": "code",
   "execution_count": 34,
   "metadata": {
    "collapsed": false,
    "deletable": true,
    "editable": true
   },
   "outputs": [
    {
     "data": {
      "text/html": [
       "<ol class=list-inline>\n",
       "\t<li>1</li>\n",
       "\t<li>2</li>\n",
       "\t<li>3</li>\n",
       "</ol>\n"
      ],
      "text/latex": [
       "\\begin{enumerate*}\n",
       "\\item 1\n",
       "\\item 2\n",
       "\\item 3\n",
       "\\end{enumerate*}\n"
      ],
      "text/markdown": [
       "1. 1\n",
       "2. 2\n",
       "3. 3\n",
       "\n",
       "\n"
      ],
      "text/plain": [
       "[1] 1 2 3"
      ]
     },
     "metadata": {},
     "output_type": "display_data"
    }
   ],
   "source": [
    "v1"
   ]
  },
  {
   "cell_type": "markdown",
   "metadata": {
    "deletable": true,
    "editable": true
   },
   "source": [
    "Para una lista `v2`:"
   ]
  },
  {
   "cell_type": "code",
   "execution_count": 35,
   "metadata": {
    "collapsed": false,
    "deletable": true,
    "editable": true
   },
   "outputs": [
    {
     "data": {
      "text/html": [
       "<dl>\n",
       "\t<dt>$x</dt>\n",
       "\t\t<dd>0</dd>\n",
       "\t<dt>$y</dt>\n",
       "\t\t<dd>2</dd>\n",
       "</dl>\n"
      ],
      "text/latex": [
       "\\begin{description}\n",
       "\\item[\\$x] 0\n",
       "\\item[\\$y] 2\n",
       "\\end{description}\n"
      ],
      "text/markdown": [
       "$x\n",
       ":   0\n",
       "$y\n",
       ":   2\n",
       "\n",
       "\n"
      ],
      "text/plain": [
       "$x\n",
       "[1] 0\n",
       "\n",
       "$y\n",
       "[1] 2\n"
      ]
     },
     "metadata": {},
     "output_type": "display_data"
    }
   ],
   "source": [
    "v2 <- list(x = 1, y = 2)\n",
    "modifica_primero(v2)"
   ]
  },
  {
   "cell_type": "code",
   "execution_count": 36,
   "metadata": {
    "collapsed": false,
    "deletable": true,
    "editable": true
   },
   "outputs": [
    {
     "data": {
      "text/html": [
       "<dl>\n",
       "\t<dt>$x</dt>\n",
       "\t\t<dd>1</dd>\n",
       "\t<dt>$y</dt>\n",
       "\t\t<dd>2</dd>\n",
       "</dl>\n"
      ],
      "text/latex": [
       "\\begin{description}\n",
       "\\item[\\$x] 1\n",
       "\\item[\\$y] 2\n",
       "\\end{description}\n"
      ],
      "text/markdown": [
       "$x\n",
       ":   1\n",
       "$y\n",
       ":   2\n",
       "\n",
       "\n"
      ],
      "text/plain": [
       "$x\n",
       "[1] 1\n",
       "\n",
       "$y\n",
       "[1] 2\n"
      ]
     },
     "metadata": {},
     "output_type": "display_data"
    }
   ],
   "source": [
    "v2"
   ]
  },
  {
   "cell_type": "markdown",
   "metadata": {
    "deletable": true,
    "editable": true
   },
   "source": [
    "En ambos experimentos, la función sólo devolvió una versión modificada del objeto original, pero no modificó el objeto original. Sin embargo, la modificación directa de los vectores fuera de la función trabaja:"
   ]
  },
  {
   "cell_type": "code",
   "execution_count": 37,
   "metadata": {
    "collapsed": false,
    "deletable": true,
    "editable": true
   },
   "outputs": [
    {
     "data": {
      "text/html": [
       "<ol class=list-inline>\n",
       "\t<li>0</li>\n",
       "\t<li>2</li>\n",
       "\t<li>3</li>\n",
       "</ol>\n"
      ],
      "text/latex": [
       "\\begin{enumerate*}\n",
       "\\item 0\n",
       "\\item 2\n",
       "\\item 3\n",
       "\\end{enumerate*}\n"
      ],
      "text/markdown": [
       "1. 0\n",
       "2. 2\n",
       "3. 3\n",
       "\n",
       "\n"
      ],
      "text/plain": [
       "[1] 0 2 3"
      ]
     },
     "metadata": {},
     "output_type": "display_data"
    }
   ],
   "source": [
    "v1[1] <- 0\n",
    "v1"
   ]
  },
  {
   "cell_type": "code",
   "execution_count": 38,
   "metadata": {
    "collapsed": false,
    "deletable": true,
    "editable": true
   },
   "outputs": [
    {
     "data": {
      "text/html": [
       "<dl>\n",
       "\t<dt>$x</dt>\n",
       "\t\t<dd>0</dd>\n",
       "\t<dt>$y</dt>\n",
       "\t\t<dd>2</dd>\n",
       "</dl>\n"
      ],
      "text/latex": [
       "\\begin{description}\n",
       "\\item[\\$x] 0\n",
       "\\item[\\$y] 2\n",
       "\\end{description}\n"
      ],
      "text/markdown": [
       "$x\n",
       ":   0\n",
       "$y\n",
       ":   2\n",
       "\n",
       "\n"
      ],
      "text/plain": [
       "$x\n",
       "[1] 0\n",
       "\n",
       "$y\n",
       "[1] 2\n"
      ]
     },
     "metadata": {},
     "output_type": "display_data"
    }
   ],
   "source": [
    "v2[1] <- 0\n",
    "v2"
   ]
  },
  {
   "cell_type": "markdown",
   "metadata": {
    "deletable": true,
    "editable": true
   },
   "source": [
    "Para usar la versión modificada, necesitamos asignarla a la variable original:"
   ]
  },
  {
   "cell_type": "code",
   "execution_count": 39,
   "metadata": {
    "collapsed": false,
    "deletable": true,
    "editable": true
   },
   "outputs": [
    {
     "data": {
      "text/html": [
       "<ol class=list-inline>\n",
       "\t<li>0</li>\n",
       "\t<li>2</li>\n",
       "\t<li>3</li>\n",
       "\t<li>4</li>\n",
       "\t<li>5</li>\n",
       "</ol>\n"
      ],
      "text/latex": [
       "\\begin{enumerate*}\n",
       "\\item 0\n",
       "\\item 2\n",
       "\\item 3\n",
       "\\item 4\n",
       "\\item 5\n",
       "\\end{enumerate*}\n"
      ],
      "text/markdown": [
       "1. 0\n",
       "2. 2\n",
       "3. 3\n",
       "4. 4\n",
       "5. 5\n",
       "\n",
       "\n"
      ],
      "text/plain": [
       "[1] 0 2 3 4 5"
      ]
     },
     "metadata": {},
     "output_type": "display_data"
    }
   ],
   "source": [
    "v3 <- 1:5\n",
    "v3 <- modifica_primero(v3)\n",
    "v3"
   ]
  },
  {
   "cell_type": "markdown",
   "metadata": {
    "deletable": true,
    "editable": true
   },
   "source": [
    "Los ejemplos anteriores demuestran que la modificación de un argumento de función también hace que una copia asegure de que la modificación no afecta a las cosas fuera de la función.\n",
    "\n",
    "El mecanismo copiar-poner-modificar también ocurre cuando se modifican los atributos. La siguiente función elimina los nombres de fila de un data frame y reemplaza sus nombres de columna con mayúsculas:"
   ]
  },
  {
   "cell_type": "code",
   "execution_count": 40,
   "metadata": {
    "collapsed": true,
    "deletable": true,
    "editable": true
   },
   "outputs": [],
   "source": [
    "cambiar_nombre <- function(x) {\n",
    "    if (is.data.frame(x)) {\n",
    "        rownames(x) <- NULL\n",
    "        if (ncol(x) <= length(LETTERS)) {\n",
    "            colnames(x) <- LETTERS[1:ncol(x)]\n",
    "        } else {\n",
    "            stop(\"Muchas columnas para renombrar\")\n",
    "        }\n",
    "    } else {\n",
    "        stop(\"x debe ser un data frame\")\n",
    "    }\n",
    "    x\n",
    "}"
   ]
  },
  {
   "cell_type": "markdown",
   "metadata": {
    "deletable": true,
    "editable": true
   },
   "source": [
    "Para probar la función, crearemos un data frame simple con datos generados aleatoriamente:"
   ]
  },
  {
   "cell_type": "code",
   "execution_count": 41,
   "metadata": {
    "collapsed": false,
    "deletable": true,
    "editable": true
   },
   "outputs": [
    {
     "data": {
      "text/html": [
       "<table>\n",
       "<thead><tr><th scope=col>id</th><th scope=col>ancho</th><th scope=col>altura</th></tr></thead>\n",
       "<tbody>\n",
       "\t<tr><td>1       </td><td>7.838903</td><td>9.938184</td></tr>\n",
       "\t<tr><td>2       </td><td>9.410789</td><td>9.274761</td></tr>\n",
       "\t<tr><td>3       </td><td>6.395929</td><td>5.671547</td></tr>\n",
       "</tbody>\n",
       "</table>\n"
      ],
      "text/latex": [
       "\\begin{tabular}{r|lll}\n",
       " id & ancho & altura\\\\\n",
       "\\hline\n",
       "\t 1        & 7.838903 & 9.938184\\\\\n",
       "\t 2        & 9.410789 & 9.274761\\\\\n",
       "\t 3        & 6.395929 & 5.671547\\\\\n",
       "\\end{tabular}\n"
      ],
      "text/markdown": [
       "\n",
       "id | ancho | altura | \n",
       "|---|---|---|\n",
       "| 1        | 7.838903 | 9.938184 | \n",
       "| 2        | 9.410789 | 9.274761 | \n",
       "| 3        | 6.395929 | 5.671547 | \n",
       "\n",
       "\n"
      ],
      "text/plain": [
       "  id ancho    altura  \n",
       "1 1  7.838903 9.938184\n",
       "2 2  9.410789 9.274761\n",
       "3 3  6.395929 5.671547"
      ]
     },
     "metadata": {},
     "output_type": "display_data"
    }
   ],
   "source": [
    "df_simple <- data.frame(\n",
    "    id = 1:3,\n",
    "    ancho = runif(3, 5, 10),\n",
    "    altura = runif(3, 5, 10))\n",
    "df_simple"
   ]
  },
  {
   "cell_type": "markdown",
   "metadata": {
    "deletable": true,
    "editable": true
   },
   "source": [
    "Ahora, llamaremos la función con el data frame y veremos la versión modificada:"
   ]
  },
  {
   "cell_type": "code",
   "execution_count": 42,
   "metadata": {
    "collapsed": false,
    "deletable": true,
    "editable": true
   },
   "outputs": [
    {
     "data": {
      "text/html": [
       "<table>\n",
       "<thead><tr><th scope=col>A</th><th scope=col>B</th><th scope=col>C</th></tr></thead>\n",
       "<tbody>\n",
       "\t<tr><td>1       </td><td>7.838903</td><td>9.938184</td></tr>\n",
       "\t<tr><td>2       </td><td>9.410789</td><td>9.274761</td></tr>\n",
       "\t<tr><td>3       </td><td>6.395929</td><td>5.671547</td></tr>\n",
       "</tbody>\n",
       "</table>\n"
      ],
      "text/latex": [
       "\\begin{tabular}{r|lll}\n",
       " A & B & C\\\\\n",
       "\\hline\n",
       "\t 1        & 7.838903 & 9.938184\\\\\n",
       "\t 2        & 9.410789 & 9.274761\\\\\n",
       "\t 3        & 6.395929 & 5.671547\\\\\n",
       "\\end{tabular}\n"
      ],
      "text/markdown": [
       "\n",
       "A | B | C | \n",
       "|---|---|---|\n",
       "| 1        | 7.838903 | 9.938184 | \n",
       "| 2        | 9.410789 | 9.274761 | \n",
       "| 3        | 6.395929 | 5.671547 | \n",
       "\n",
       "\n"
      ],
      "text/plain": [
       "  A B        C       \n",
       "1 1 7.838903 9.938184\n",
       "2 2 9.410789 9.274761\n",
       "3 3 6.395929 5.671547"
      ]
     },
     "metadata": {},
     "output_type": "display_data"
    }
   ],
   "source": [
    "cambiar_nombre(df_simple)"
   ]
  },
  {
   "cell_type": "markdown",
   "metadata": {
    "deletable": true,
    "editable": true
   },
   "source": [
    "Según el mecanismo `copiar-poner-modificar`, `df_simple` se copia la primera vez cuando se remueven los  nombres de las fila y a continuación, se realizan todos los cambios subsiguientes en la versión copiada en lugar de la versión original. Podemos verificar esto viendo `df_simple`:"
   ]
  },
  {
   "cell_type": "code",
   "execution_count": 43,
   "metadata": {
    "collapsed": false,
    "deletable": true,
    "editable": true
   },
   "outputs": [
    {
     "data": {
      "text/html": [
       "<table>\n",
       "<thead><tr><th scope=col>id</th><th scope=col>ancho</th><th scope=col>altura</th></tr></thead>\n",
       "<tbody>\n",
       "\t<tr><td>1       </td><td>7.838903</td><td>9.938184</td></tr>\n",
       "\t<tr><td>2       </td><td>9.410789</td><td>9.274761</td></tr>\n",
       "\t<tr><td>3       </td><td>6.395929</td><td>5.671547</td></tr>\n",
       "</tbody>\n",
       "</table>\n"
      ],
      "text/latex": [
       "\\begin{tabular}{r|lll}\n",
       " id & ancho & altura\\\\\n",
       "\\hline\n",
       "\t 1        & 7.838903 & 9.938184\\\\\n",
       "\t 2        & 9.410789 & 9.274761\\\\\n",
       "\t 3        & 6.395929 & 5.671547\\\\\n",
       "\\end{tabular}\n"
      ],
      "text/markdown": [
       "\n",
       "id | ancho | altura | \n",
       "|---|---|---|\n",
       "| 1        | 7.838903 | 9.938184 | \n",
       "| 2        | 9.410789 | 9.274761 | \n",
       "| 3        | 6.395929 | 5.671547 | \n",
       "\n",
       "\n"
      ],
      "text/plain": [
       "  id ancho    altura  \n",
       "1 1  7.838903 9.938184\n",
       "2 2  9.410789 9.274761\n",
       "3 3  6.395929 5.671547"
      ]
     },
     "metadata": {},
     "output_type": "display_data"
    }
   ],
   "source": [
    "df_simple"
   ]
  },
  {
   "cell_type": "markdown",
   "metadata": {
    "deletable": true,
    "editable": true
   },
   "source": [
    "La versión original no ha cambiado en absoluto."
   ]
  },
  {
   "cell_type": "markdown",
   "metadata": {
    "collapsed": true,
    "deletable": true,
    "editable": true
   },
   "source": [
    "### Modificación de objetos fuera de una función\n",
    "\n",
    "A pesar del mecanismo copiar-poner-modificar, todavía es posible modificar un vector fuera de una función. El operador `<<-` está diseñado para hacer el trabajo. Supongamos que tenemos una variable `x` y creamos una función `modifica_x()` que simplemente asigna un nuevo valor a `x`:"
   ]
  },
  {
   "cell_type": "code",
   "execution_count": 44,
   "metadata": {
    "collapsed": true,
    "deletable": true,
    "editable": true
   },
   "outputs": [],
   "source": [
    "x <- 0\n",
    "modifica_x <- function(valor) {\n",
    "    x <<- valor\n",
    "}"
   ]
  },
  {
   "cell_type": "markdown",
   "metadata": {
    "deletable": true,
    "editable": true
   },
   "source": [
    "Cuando llamamos a la función, el valor de `x` será reemplazado:"
   ]
  },
  {
   "cell_type": "code",
   "execution_count": 45,
   "metadata": {
    "collapsed": false,
    "deletable": true,
    "editable": true
   },
   "outputs": [
    {
     "data": {
      "text/html": [
       "3"
      ],
      "text/latex": [
       "3"
      ],
      "text/markdown": [
       "3"
      ],
      "text/plain": [
       "[1] 3"
      ]
     },
     "metadata": {},
     "output_type": "display_data"
    }
   ],
   "source": [
    "modifica_x(3)\n",
    "x"
   ]
  },
  {
   "cell_type": "markdown",
   "metadata": {
    "deletable": true,
    "editable": true
   },
   "source": [
    "Esto puede ser útil  cuando se intenta asignar un vector a una nueva lista y hacer un conteo al mismo tiempo. El siguiente código crea una lista de vectores con un número creciente de elementos. En cada iteración de `lapply()`, la variable `conteo` se utiliza para sumar el número total de elementos en el vector generado:"
   ]
  },
  {
   "cell_type": "code",
   "execution_count": 46,
   "metadata": {
    "collapsed": false,
    "deletable": true,
    "editable": true
   },
   "outputs": [
    {
     "data": {
      "text/html": [
       "<ol>\n",
       "\t<li>1</li>\n",
       "\t<li><ol class=list-inline>\n",
       "\t<li>1</li>\n",
       "\t<li>2</li>\n",
       "</ol>\n",
       "</li>\n",
       "\t<li><ol class=list-inline>\n",
       "\t<li>1</li>\n",
       "\t<li>2</li>\n",
       "\t<li>3</li>\n",
       "</ol>\n",
       "</li>\n",
       "</ol>\n"
      ],
      "text/latex": [
       "\\begin{enumerate}\n",
       "\\item 1\n",
       "\\item \\begin{enumerate*}\n",
       "\\item 1\n",
       "\\item 2\n",
       "\\end{enumerate*}\n",
       "\n",
       "\\item \\begin{enumerate*}\n",
       "\\item 1\n",
       "\\item 2\n",
       "\\item 3\n",
       "\\end{enumerate*}\n",
       "\n",
       "\\end{enumerate}\n"
      ],
      "text/markdown": [
       "1. 1\n",
       "2. 1. 1\n",
       "2. 2\n",
       "\n",
       "\n",
       "\n",
       "3. 1. 1\n",
       "2. 2\n",
       "3. 3\n",
       "\n",
       "\n",
       "\n",
       "\n",
       "\n"
      ],
      "text/plain": [
       "[[1]]\n",
       "[1] 1\n",
       "\n",
       "[[2]]\n",
       "[1] 1 2\n",
       "\n",
       "[[3]]\n",
       "[1] 1 2 3\n"
      ]
     },
     "metadata": {},
     "output_type": "display_data"
    }
   ],
   "source": [
    "conteo <- 0\n",
    "lapply(1:3, function(x) {\n",
    "    resultado <- 1:x\n",
    "    conteo <<- conteo + length(resultado)\n",
    "    resultado\n",
    "})"
   ]
  },
  {
   "cell_type": "code",
   "execution_count": 47,
   "metadata": {
    "collapsed": false,
    "deletable": true,
    "editable": true
   },
   "outputs": [
    {
     "data": {
      "text/html": [
       "6"
      ],
      "text/latex": [
       "6"
      ],
      "text/markdown": [
       "6"
      ],
      "text/plain": [
       "[1] 6"
      ]
     },
     "metadata": {},
     "output_type": "display_data"
    }
   ],
   "source": [
    "conteo"
   ]
  },
  {
   "cell_type": "markdown",
   "metadata": {
    "deletable": true,
    "editable": true
   },
   "source": [
    "Otro ejemplo en el que `<<-` es útil para 'aplanar' una lista anidada. Supongamos que tenemos una lista anidada como la que se muestra aquí:"
   ]
  },
  {
   "cell_type": "code",
   "execution_count": 48,
   "metadata": {
    "collapsed": false,
    "deletable": true,
    "editable": true
   },
   "outputs": [
    {
     "name": "stdout",
     "output_type": "stream",
     "text": [
      "List of 2\n",
      " $ a: num [1:3] 1 2 3\n",
      " $ b:List of 2\n",
      "  ..$ x: chr [1:3] \"a\" \"b\" \"c\"\n",
      "  ..$ y:List of 2\n",
      "  .. ..$ z: logi [1:2] TRUE FALSE\n",
      "  .. ..$ w: num [1:3] 2 3 4\n"
     ]
    }
   ],
   "source": [
    "lista_anidada <- list(\n",
    "    a = c(1, 2, 3),\n",
    "    b = list(\n",
    "        x = c(\"a\", \"b\", \"c\"),\n",
    "        y = list(\n",
    "            z = c(TRUE, FALSE),\n",
    "            w = c(2, 3, 4))\n",
    "    )\n",
    ")\n",
    "str(lista_anidada)"
   ]
  },
  {
   "cell_type": "markdown",
   "metadata": {
    "deletable": true,
    "editable": true
   },
   "source": [
    "Queremos aplanar la lista para que los niveles anidados se lleven al primer nivel. El siguiente código resuelve el problema usando `rapply()` y  `<<-`."
   ]
  },
  {
   "cell_type": "code",
   "execution_count": 49,
   "metadata": {
    "collapsed": true,
    "deletable": true,
    "editable": true
   },
   "outputs": [],
   "source": [
    "help(rapply)"
   ]
  },
  {
   "cell_type": "markdown",
   "metadata": {
    "deletable": true,
    "editable": true
   },
   "source": [
    "\n",
    "Primero, necesitamos saber que `rapply()` es una versión recursiva de `lapply()`. En cada iteración, la función suministrada se llama con un vector atómico en un nivel particular de la lista hasta que todos los vectores atómicos en todos los niveles se agotan. Llamar a `rapply(lista_anidada, f)` básicamente funciona de la siguiente manera:\n",
    "\n",
    "```\n",
    "\n",
    "f(c(1, 2, 3))\n",
    "f(c(\"a\", \"b\", \"c\"))\n",
    "f(c(TRUE, FALSE))\n",
    "f(c(2, 3, 4))\n",
    "```"
   ]
  },
  {
   "cell_type": "markdown",
   "metadata": {
    "deletable": true,
    "editable": true
   },
   "source": [
    "Debemos tener en cuenta, que debemos elaborar una solución para aplastar `lista_anidada`. La solución que vamos a analizar está inspirada en una respuesta de [stackoverflow](https://stackoverflow.com/questions/8139677/how-to-flatten-a-list-to-a-list-without-coercion/8139959#8139959), que utiliza inteligentemente `rapply()`.\n",
    "\n",
    "Primero, crearemos una lista vacía para recibir vectores individuales en la lista anidada y un contador:"
   ]
  },
  {
   "cell_type": "code",
   "execution_count": 50,
   "metadata": {
    "collapsed": true,
    "deletable": true,
    "editable": true
   },
   "outputs": [],
   "source": [
    "lista_plana <- list()\n",
    "i <- 1"
   ]
  },
  {
   "cell_type": "markdown",
   "metadata": {
    "deletable": true,
    "editable": true
   },
   "source": [
    "Luego, usaremos `rapply()` para aplicar recursivamente una función a `lista_anidada`. En cada iteración, la función recibe un vector atómico en `lista_anidada` a través de `x`. La función establece el  `iesimo` elemento de  la función `lista_plana` en `x` e incrementa el contador `i`:"
   ]
  },
  {
   "cell_type": "code",
   "execution_count": 51,
   "metadata": {
    "collapsed": false,
    "deletable": true,
    "editable": true
   },
   "outputs": [],
   "source": [
    "resultado1 <- rapply(lista_anidada, function(x) {\n",
    "    lista_plana[[i]] <<- x\n",
    "    i <<- i + 1\n",
    "})"
   ]
  },
  {
   "cell_type": "markdown",
   "metadata": {
    "deletable": true,
    "editable": true
   },
   "source": [
    "Con las iteraciones realizadas, todos los vectores atómicos se almacenan en `lista_plana` en el primer nivel. El valor devuelto por `rapply()` es el siguiente:"
   ]
  },
  {
   "cell_type": "code",
   "execution_count": 52,
   "metadata": {
    "collapsed": false,
    "deletable": true,
    "editable": true
   },
   "outputs": [
    {
     "data": {
      "text/html": [
       "<dl class=dl-horizontal>\n",
       "\t<dt>a</dt>\n",
       "\t\t<dd>2</dd>\n",
       "\t<dt>b.x</dt>\n",
       "\t\t<dd>3</dd>\n",
       "\t<dt>b.y.z</dt>\n",
       "\t\t<dd>4</dd>\n",
       "\t<dt>b.y.w</dt>\n",
       "\t\t<dd>5</dd>\n",
       "</dl>\n"
      ],
      "text/latex": [
       "\\begin{description*}\n",
       "\\item[a] 2\n",
       "\\item[b.x] 3\n",
       "\\item[b.y.z] 4\n",
       "\\item[b.y.w] 5\n",
       "\\end{description*}\n"
      ],
      "text/markdown": [
       "a\n",
       ":   2b.x\n",
       ":   3b.y.z\n",
       ":   4b.y.w\n",
       ":   5\n",
       "\n"
      ],
      "text/plain": [
       "    a   b.x b.y.z b.y.w \n",
       "    2     3     4     5 "
      ]
     },
     "metadata": {},
     "output_type": "display_data"
    }
   ],
   "source": [
    "resultado1"
   ]
  },
  {
   "cell_type": "markdown",
   "metadata": {
    "deletable": true,
    "editable": true
   },
   "source": [
    "Como resultado de `i <<- i + 1`, los valores en `resultado1` no tienen mucha importancia. Sin embargo, los nombres de `resultado1` son útiles para indicar los niveles y nombres originales de cada elemento en `lista_plana`. Así que dejamos que `lista_plana` también tenga los nombres de `resultado1` para indicar el origen de cada elemento:"
   ]
  },
  {
   "cell_type": "code",
   "execution_count": 53,
   "metadata": {
    "collapsed": false,
    "deletable": true,
    "editable": true
   },
   "outputs": [
    {
     "name": "stdout",
     "output_type": "stream",
     "text": [
      "List of 4\n",
      " $ a    : num [1:3] 1 2 3\n",
      " $ b.x  : chr [1:3] \"a\" \"b\" \"c\"\n",
      " $ b.y.z: logi [1:2] TRUE FALSE\n",
      " $ b.y.w: num [1:3] 2 3 4\n"
     ]
    }
   ],
   "source": [
    "names(lista_plana) <- names(resultado1)\n",
    "str(lista_plana)"
   ]
  },
  {
   "cell_type": "markdown",
   "metadata": {
    "deletable": true,
    "editable": true
   },
   "source": [
    "Finalmente, todos los elementos de `lista_anidada`, se almacenan de forma plana en `lista_plana`."
   ]
  },
  {
   "cell_type": "code",
   "execution_count": null,
   "metadata": {
    "collapsed": true,
    "deletable": true,
    "editable": true
   },
   "outputs": [],
   "source": []
  }
 ],
 "metadata": {
  "kernelspec": {
   "display_name": "R",
   "language": "R",
   "name": "ir"
  },
  "language_info": {
   "codemirror_mode": "r",
   "file_extension": ".r",
   "mimetype": "text/x-r-source",
   "name": "R",
   "pygments_lexer": "r",
   "version": "3.3.2"
  }
 },
 "nbformat": 4,
 "nbformat_minor": 1
}
