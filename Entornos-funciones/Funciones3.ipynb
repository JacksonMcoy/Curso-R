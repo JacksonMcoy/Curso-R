{
 "cells": [
  {
   "cell_type": "markdown",
   "metadata": {
    "deletable": true,
    "editable": true
   },
   "source": [
    "## Más sobre funciones y entornos"
   ]
  },
  {
   "cell_type": "markdown",
   "metadata": {
    "deletable": true,
    "editable": true
   },
   "source": [
    "### Alcance léxico \n",
    "\n",
    "En la sección anterior, utilizamos el mecanismo `copiar-poner-modificar`. Los ejemplos demuestran dos casos en los que este mecanismo sucede. Cuando un objeto tiene varios nombres o se pasa como un argumento a una función, modificarlo produce que el objeto se copie y es la versión copiada la que realmente se modifica.\n",
    "\n",
    "Para modificar un objeto fuera de una función, se utilizó el operador  `<<-`, que encuentra la variable fuera de la función primero y modifica ese objeto en lugar de copiar uno localmente. Esto lleva a una idea importante de que una función tiene dentro y fuera. Dentro de una función, podemos referirnos a variables y funciones externas.\n",
    "\n",
    "Por ejemplo, la siguiente función utiliza dos variables externas:"
   ]
  },
  {
   "cell_type": "code",
   "execution_count": 1,
   "metadata": {
    "collapsed": true,
    "deletable": true,
    "editable": true
   },
   "outputs": [],
   "source": [
    "primer_numero <- 1\n",
    "final_numero <- 10\n",
    "fun1 <- function(x) {\n",
    "    c(primer_numero, x, final_numero)\n",
    "}"
   ]
  },
  {
   "cell_type": "markdown",
   "metadata": {
    "deletable": true,
    "editable": true
   },
   "source": [
    "Primero creamos dos variables y definimos una función llamada `fun1`. La función coloca `primer_numero`, el  argumento `x` y `final_numero` en un nuevo vector. Es claro que `primer_numero` y  `final_numero` no están definidos en la función sino fuera de ella, mientras que `x` es el argumento de la función. \n",
    "\n",
    "Veamos si funciona:"
   ]
  },
  {
   "cell_type": "code",
   "execution_count": 2,
   "metadata": {
    "collapsed": false,
    "deletable": true,
    "editable": true
   },
   "outputs": [
    {
     "data": {
      "text/html": [
       "<ol class=list-inline>\n",
       "\t<li>1</li>\n",
       "\t<li>4</li>\n",
       "\t<li>5</li>\n",
       "\t<li>6</li>\n",
       "\t<li>10</li>\n",
       "</ol>\n"
      ],
      "text/latex": [
       "\\begin{enumerate*}\n",
       "\\item 1\n",
       "\\item 4\n",
       "\\item 5\n",
       "\\item 6\n",
       "\\item 10\n",
       "\\end{enumerate*}\n"
      ],
      "text/markdown": [
       "1. 1\n",
       "2. 4\n",
       "3. 5\n",
       "4. 6\n",
       "5. 10\n",
       "\n",
       "\n"
      ],
      "text/plain": [
       "[1]  1  4  5  6 10"
      ]
     },
     "metadata": {},
     "output_type": "display_data"
    }
   ],
   "source": [
    "fun1(c(4, 5, 6))"
   ]
  },
  {
   "cell_type": "markdown",
   "metadata": {
    "deletable": true,
    "editable": true
   },
   "source": [
    "La función trabaja, consiguiendo  el valor de las dos variables fuera de la función. Podemos adivinar que cuando definimos la función, los valores se capturan de manera que  `primer_numero `y `final_numero` en `fun1` tomen los valores externos. De hecho, dos experimentos pueden ser realizados para demostrar que es incorrecto.\n",
    "\n",
    "El primer experimento es simple. Vamos a eliminar las dos variables:"
   ]
  },
  {
   "cell_type": "code",
   "execution_count": 3,
   "metadata": {
    "collapsed": false,
    "deletable": true,
    "editable": true
   },
   "outputs": [
    {
     "ename": "ERROR",
     "evalue": "Error in fun1(c(4, 5, 6)): objeto 'primer_numero' no encontrado\n",
     "output_type": "error",
     "traceback": [
      "Error in fun1(c(4, 5, 6)): objeto 'primer_numero' no encontrado\nTraceback:\n",
      "1. fun1(c(4, 5, 6))"
     ]
    }
   ],
   "source": [
    "rm(primer_numero, final_numero)\n",
    "fun1(c(4, 5, 6))"
   ]
  },
  {
   "cell_type": "markdown",
   "metadata": {
    "deletable": true,
    "editable": true
   },
   "source": [
    "Entonces, la función ya no funciona. Si los valores de las dos variables se capturan cuando se define la función, la eliminación de ellas no debe detener la función. \n",
    "\n",
    "El segundo experimento es al revés. Vamos a eliminar la función, así como las dos variables. Primero definiremos la función:"
   ]
  },
  {
   "cell_type": "code",
   "execution_count": 4,
   "metadata": {
    "collapsed": false,
    "deletable": true,
    "editable": true
   },
   "outputs": [
    {
     "name": "stderr",
     "output_type": "stream",
     "text": [
      "Warning message in rm(fun1, primer_numero, final_numero):\n",
      "“objeto 'primer_numero' no encontrado”Warning message in rm(fun1, primer_numero, final_numero):\n",
      "“objeto 'final_numero' no encontrado”"
     ]
    }
   ],
   "source": [
    "rm(fun1, primer_numero, final_numero)\n",
    "fun1 <- function(x) {\n",
    "    c(primer_numero, x, final_numero)\n",
    "}\n"
   ]
  },
  {
   "cell_type": "markdown",
   "metadata": {
    "deletable": true,
    "editable": true
   },
   "source": [
    "Si la creación de la función tiene que capturar las dos variables que no están presentes en él, el código anterior debería dar lugar a un error diciendo `primer_numero` y `fina_numero`  no son encontrados. \n",
    "\n",
    "Claramente, no hay error y la función se ha creado correctamente. Vamos a llamarla ahora:"
   ]
  },
  {
   "cell_type": "code",
   "execution_count": 5,
   "metadata": {
    "collapsed": false,
    "deletable": true,
    "editable": true
   },
   "outputs": [
    {
     "ename": "ERROR",
     "evalue": "Error in fun1(c(4, 5, 6)): objeto 'primer_numero' no encontrado\n",
     "output_type": "error",
     "traceback": [
      "Error in fun1(c(4, 5, 6)): objeto 'primer_numero' no encontrado\nTraceback:\n",
      "1. fun1(c(4, 5, 6))"
     ]
    }
   ],
   "source": [
    "fun1(c(4, 5, 6))"
   ]
  },
  {
   "cell_type": "markdown",
   "metadata": {
    "deletable": true,
    "editable": true
   },
   "source": [
    "La función no funciona porque las dos variables no se encuentran. A continuación, definiremos las dos variables y llamaremos de nuevo la función con el mismo argumento:"
   ]
  },
  {
   "cell_type": "code",
   "execution_count": 6,
   "metadata": {
    "collapsed": false,
    "deletable": true,
    "editable": true
   },
   "outputs": [
    {
     "data": {
      "text/html": [
       "<ol class=list-inline>\n",
       "\t<li>1</li>\n",
       "\t<li>4</li>\n",
       "\t<li>5</li>\n",
       "\t<li>6</li>\n",
       "\t<li>10</li>\n",
       "</ol>\n"
      ],
      "text/latex": [
       "\\begin{enumerate*}\n",
       "\\item 1\n",
       "\\item 4\n",
       "\\item 5\n",
       "\\item 6\n",
       "\\item 10\n",
       "\\end{enumerate*}\n"
      ],
      "text/markdown": [
       "1. 1\n",
       "2. 4\n",
       "3. 5\n",
       "4. 6\n",
       "5. 10\n",
       "\n",
       "\n"
      ],
      "text/plain": [
       "[1]  1  4  5  6 10"
      ]
     },
     "metadata": {},
     "output_type": "display_data"
    }
   ],
   "source": [
    "primer_numero <- 1\n",
    "final_numero <- 10\n",
    "fun1(c(4, 5, 6))"
   ]
  },
  {
   "cell_type": "markdown",
   "metadata": {
    "deletable": true,
    "editable": true
   },
   "source": [
    "La función funciona de nuevo. Esto lleva a la conclusión de que la función realmente trata de buscar las variables cuando se llama. En realidad, durante la ejecución de la función, cuando se encuentra un símbolo, primero lo buscará dentro de la función. Más específicamente, si el símbolo es pasado  como un argumento o se crea dentro de la función, el símbolo se determinará  y se utilizará su valor.\n",
    "\n",
    "\n",
    "Supongamos que primero creamos una variable `p` y luego definimos una función `fun2` en la que otra variable `p` se crea y se usa en el valor a devolver:"
   ]
  },
  {
   "cell_type": "code",
   "execution_count": 7,
   "metadata": {
    "collapsed": true,
    "deletable": true,
    "editable": true
   },
   "outputs": [],
   "source": [
    "p <- 0\n",
    "fun2 <- function(x) {\n",
    "    p <- 1\n",
    "    x + p\n",
    "}"
   ]
  },
  {
   "cell_type": "markdown",
   "metadata": {
    "deletable": true,
    "editable": true
   },
   "source": [
    "Cuando llamamos a la función, ¿cuál `p`, la función  `fun2` se utilizará en `x + p`?. Vamos a averiguarlo;"
   ]
  },
  {
   "cell_type": "code",
   "execution_count": 8,
   "metadata": {
    "collapsed": false,
    "deletable": true,
    "editable": true
   },
   "outputs": [
    {
     "data": {
      "text/html": [
       "2"
      ],
      "text/latex": [
       "2"
      ],
      "text/markdown": [
       "2"
      ],
      "text/plain": [
       "[1] 2"
      ]
     },
     "metadata": {},
     "output_type": "display_data"
    }
   ],
   "source": [
    "fun2(1)"
   ]
  },
  {
   "cell_type": "markdown",
   "metadata": {
    "deletable": true,
    "editable": true
   },
   "source": [
    "La salida deja claro que `x + p` usa `p` definido dentro de la función. El flujo es simple. Primero, `p <- 1` crea una nueva variable `p` con valor `1` en lugar de cambiar `p` fuera de la función. Entonces, se evalúa `x + p`, con `x` siendo determinado  como el argumento pasado y `p` como la variable local que acaba de definirse. La regla es que sólo si una variable no está presente dentro de la función se buscará fuera.\n",
    "\n",
    "Sin embargo, ¿qué significa exactamente **fuera**? La pregunta es más sutil de lo que parece ser. Supongamos que creamos las dos funciones siguientes:"
   ]
  },
  {
   "cell_type": "code",
   "execution_count": 9,
   "metadata": {
    "collapsed": true,
    "deletable": true,
    "editable": true
   },
   "outputs": [],
   "source": [
    "f1 <- function(x) {\n",
    "    x + p\n",
    "}\n",
    "g1 <- function(x) {\n",
    "    p <- 1\n",
    "    f1(x)\n",
    "}"
   ]
  },
  {
   "cell_type": "markdown",
   "metadata": {
    "deletable": true,
    "editable": true
   },
   "source": [
    "La primera función `f1` simplemente agrega dos variables: `x` es un argumento y `p` es una variable que aún no se encuentra fuera. La segunda función `g1` define una variable `p` dentro y llama a `f1`. La pregunta es, ¿`f1` encontrará  `p` dentro de `g1` cuando se llama a `g1`?"
   ]
  },
  {
   "cell_type": "code",
   "execution_count": 10,
   "metadata": {
    "collapsed": false,
    "deletable": true,
    "editable": true
   },
   "outputs": [
    {
     "data": {
      "text/html": [
       "0"
      ],
      "text/latex": [
       "0"
      ],
      "text/markdown": [
       "0"
      ],
      "text/plain": [
       "[1] 0"
      ]
     },
     "metadata": {},
     "output_type": "display_data"
    }
   ],
   "source": [
    "g1(0)"
   ]
  },
  {
   "cell_type": "markdown",
   "metadata": {
    "deletable": true,
    "editable": true
   },
   "source": [
    "Desafortunadamente, `f1` no puede encontrar `p` dentro de `g1`, incluso si  `f1` se llama en `g1`. Si definimos `p` y luego llamamos `g1` de nuevo, la función funciona:"
   ]
  },
  {
   "cell_type": "code",
   "execution_count": 11,
   "metadata": {
    "collapsed": false,
    "deletable": true,
    "editable": true
   },
   "outputs": [
    {
     "data": {
      "text/html": [
       "1"
      ],
      "text/latex": [
       "1"
      ],
      "text/markdown": [
       "1"
      ],
      "text/plain": [
       "[1] 1"
      ]
     },
     "metadata": {},
     "output_type": "display_data"
    }
   ],
   "source": [
    "p <- 1\n",
    "g1(0)"
   ]
  },
  {
   "cell_type": "markdown",
   "metadata": {
    "deletable": true,
    "editable": true
   },
   "source": [
    "Lo que hizo a `g1` funcionar es que cuando `f1` se llama y `p` no se puede encontrar dentro de `f1`, buscará donde se define `f1` en lugar de donde se llama. Este mecanismo se denomina **alcance léxico**. En el código anterior, definimos `p` en el mismo alcance  donde se define `f1`. Entonces, `f1` puede encontrar a `p` cuando se llama dentro de `g1`.\n",
    "\n",
    "La misma regla de alcance también se aplica a cómo  `<<-` encuentra variables. Por ejemplo, el siguiente código define una variable `m` y dos funciones, `f2` y `g2`, en el mismo alcance. En `f2`, `m` se establece en `2`. Sin embargo, en `g2`, se define una variable  local `m`   y entonces se llama a `f2`:"
   ]
  },
  {
   "cell_type": "code",
   "execution_count": 12,
   "metadata": {
    "collapsed": true,
    "deletable": true,
    "editable": true
   },
   "outputs": [],
   "source": [
    "m <- 1\n",
    "f2 <- function(x) {\n",
    "    m <<- 2\n",
    "    x\n",
    "}\n",
    "g2 <- function(x) {\n",
    "    m <- 1\n",
    "    f2(x)\n",
    "    cat(sprintf(\"[g2] m: %d\\n\", m))\n",
    "}"
   ]
  },
  {
   "cell_type": "markdown",
   "metadata": {
    "deletable": true,
    "editable": true
   },
   "source": [
    "Tan pronto como se llama a `f2`, se imprime el valor de `m` en `g2`. Vamos a llamar a `g2` y ver qué pasa:"
   ]
  },
  {
   "cell_type": "code",
   "execution_count": 13,
   "metadata": {
    "collapsed": false,
    "deletable": true,
    "editable": true
   },
   "outputs": [
    {
     "name": "stdout",
     "output_type": "stream",
     "text": [
      "[g2] m: 1\n"
     ]
    }
   ],
   "source": [
    "g2(1)"
   ]
  },
  {
   "cell_type": "markdown",
   "metadata": {
    "deletable": true,
    "editable": true
   },
   "source": [
    "El texto  muestra que el valor de `m` en `g2` permanece sin cambios, pero el valor de `m` fuera de `f2` y `g2` se cambia como se puede verificar:"
   ]
  },
  {
   "cell_type": "code",
   "execution_count": 14,
   "metadata": {
    "collapsed": false,
    "deletable": true,
    "editable": true
   },
   "outputs": [
    {
     "data": {
      "text/html": [
       "2"
      ],
      "text/latex": [
       "2"
      ],
      "text/markdown": [
       "2"
      ],
      "text/plain": [
       "[1] 2"
      ]
     },
     "metadata": {},
     "output_type": "display_data"
    }
   ],
   "source": [
    "m"
   ]
  },
  {
   "cell_type": "markdown",
   "metadata": {
    "deletable": true,
    "editable": true
   },
   "source": [
    "El experimento anterior confirma que `m <<- 2` sigue la regla de alcance léxico.\n",
    "\n",
    "Los siguientes dos ejemplos parecen aún más complejos. Las funciones están anidadas. En `h`, no sólo creamos variables locales como `p` y `q` sino también una función local `f3`, en la que se define otra variable `p` local:"
   ]
  },
  {
   "cell_type": "code",
   "execution_count": 15,
   "metadata": {
    "collapsed": true,
    "deletable": true,
    "editable": true
   },
   "outputs": [],
   "source": [
    "h <- function(x) {\n",
    "    p <- 1\n",
    "    q <- 2\n",
    "    cat(sprintf(\"1. [f1] p: %d, q: %d\\n\", p, q))\n",
    "    f3 <- function(x) {\n",
    "        p <- 3\n",
    "        cat(sprintf(\"2. [f2] p: %d, q: %d\\n\", p, q))\n",
    "        c(x = x, p = p, q = q)\n",
    "    }\n",
    "    cat(sprintf(\"3. [f1] p: %d, q: %d\\n\", p, q))\n",
    "    f3(x)\n",
    "}"
   ]
  },
  {
   "cell_type": "markdown",
   "metadata": {
    "deletable": true,
    "editable": true
   },
   "source": [
    "Por el alcance léxico, se puede  predecir el resultado dado una entrada arbitraria `x`. Añadimos algunas funciones `cat()` para facilitar el seguimiento de los valores de las variables en cada nivel de alcance. El mensaje `cat()` incluye un orden, el alcance de la función y los valores de `p` y `q`. Ahora, vamos a ejecutar `f(0)` y  mostrar el resultado:"
   ]
  },
  {
   "cell_type": "code",
   "execution_count": 16,
   "metadata": {
    "collapsed": false,
    "deletable": true,
    "editable": true
   },
   "outputs": [
    {
     "name": "stdout",
     "output_type": "stream",
     "text": [
      "1. [f1] p: 1, q: 2\n",
      "3. [f1] p: 1, q: 2\n",
      "2. [f2] p: 3, q: 2\n"
     ]
    },
    {
     "data": {
      "text/html": [
       "<dl class=dl-horizontal>\n",
       "\t<dt>x</dt>\n",
       "\t\t<dd>0</dd>\n",
       "\t<dt>p</dt>\n",
       "\t\t<dd>3</dd>\n",
       "\t<dt>q</dt>\n",
       "\t\t<dd>2</dd>\n",
       "</dl>\n"
      ],
      "text/latex": [
       "\\begin{description*}\n",
       "\\item[x] 0\n",
       "\\item[p] 3\n",
       "\\item[q] 2\n",
       "\\end{description*}\n"
      ],
      "text/markdown": [
       "x\n",
       ":   0p\n",
       ":   3q\n",
       ":   2\n",
       "\n"
      ],
      "text/plain": [
       "x p q \n",
       "0 3 2 "
      ]
     },
     "metadata": {},
     "output_type": "display_data"
    }
   ],
   "source": [
    "h(0)"
   ]
  },
  {
   "cell_type": "markdown",
   "metadata": {
    "deletable": true,
    "editable": true
   },
   "source": [
    "El orden de ejecución de las tres funciones `cat()` son `1`, `3` y `2` y los valores de `p` y `q` en cada alcance son consistentes con las reglas de alcance léxicas. En el siguiente ejemplo, también usaremos `<<-`:"
   ]
  },
  {
   "cell_type": "code",
   "execution_count": 17,
   "metadata": {
    "collapsed": true,
    "deletable": true,
    "editable": true
   },
   "outputs": [],
   "source": [
    "r <- function(x) {\n",
    "    p <- 1\n",
    "    q <- 2\n",
    "    cat(sprintf(\"1. [f1] p: %d, q: %d\\n\", p, q))\n",
    "    g3 <- function(x) {\n",
    "        p <<- 3\n",
    "        p <- 2\n",
    "        cat(sprintf(\"2. [f2] p: %d, q: %d\\n\", p, q))\n",
    "        c(x = x, p = p, q = q)\n",
    "    }\n",
    "    cat(sprintf(\"3. [f1] p: %d, q: %d\\n\", p, q))\n",
    "    resultado <- g3(x)\n",
    "    cat(sprintf(\"4. [f1] p: %d, q: %d\\n\", p, q))\n",
    "    resultado\n",
    "}"
   ]
  },
  {
   "cell_type": "markdown",
   "metadata": {
    "deletable": true,
    "editable": true
   },
   "source": [
    "Se puede analizar el flujo de la función mediante la predicción del orden de ejecución y los valores de las variables impresas:"
   ]
  },
  {
   "cell_type": "code",
   "execution_count": 18,
   "metadata": {
    "collapsed": false,
    "deletable": true,
    "editable": true
   },
   "outputs": [
    {
     "name": "stdout",
     "output_type": "stream",
     "text": [
      "1. [f1] p: 1, q: 2\n",
      "3. [f1] p: 1, q: 2\n",
      "2. [f2] p: 2, q: 2\n",
      "4. [f1] p: 3, q: 2\n"
     ]
    },
    {
     "data": {
      "text/html": [
       "<dl class=dl-horizontal>\n",
       "\t<dt>x</dt>\n",
       "\t\t<dd>0</dd>\n",
       "\t<dt>p</dt>\n",
       "\t\t<dd>2</dd>\n",
       "\t<dt>q</dt>\n",
       "\t\t<dd>2</dd>\n",
       "</dl>\n"
      ],
      "text/latex": [
       "\\begin{description*}\n",
       "\\item[x] 0\n",
       "\\item[p] 2\n",
       "\\item[q] 2\n",
       "\\end{description*}\n"
      ],
      "text/markdown": [
       "x\n",
       ":   0p\n",
       ":   2q\n",
       ":   2\n",
       "\n"
      ],
      "text/plain": [
       "x p q \n",
       "0 2 2 "
      ]
     },
     "metadata": {},
     "output_type": "display_data"
    }
   ],
   "source": [
    "r(0)"
   ]
  },
  {
   "cell_type": "markdown",
   "metadata": {
    "deletable": true,
    "editable": true
   },
   "source": [
    "El siguiente ejemplo ilustra el principio más básico del alcance léxico y no debería haber ningún problema en predecir la salida."
   ]
  },
  {
   "cell_type": "code",
   "execution_count": 19,
   "metadata": {
    "collapsed": false,
    "deletable": true,
    "editable": true
   },
   "outputs": [
    {
     "data": {
      "text/html": [
       "<ol class=list-inline>\n",
       "\t<li>1</li>\n",
       "\t<li>2</li>\n",
       "</ol>\n"
      ],
      "text/latex": [
       "\\begin{enumerate*}\n",
       "\\item 1\n",
       "\\item 2\n",
       "\\end{enumerate*}\n"
      ],
      "text/markdown": [
       "1. 1\n",
       "2. 2\n",
       "\n",
       "\n"
      ],
      "text/plain": [
       "[1] 1 2"
      ]
     },
     "metadata": {},
     "output_type": "display_data"
    }
   ],
   "source": [
    "f4 <- function() {\n",
    "  x <- 1\n",
    "  y <- 2\n",
    "  c(x, y)\n",
    "}\n",
    "f4()\n",
    "rm(f4)"
   ]
  },
  {
   "cell_type": "markdown",
   "metadata": {
    "deletable": true,
    "editable": true
   },
   "source": [
    "Si un nombre no está definido dentro de una función, `R` buscará en un nivel más alto."
   ]
  },
  {
   "cell_type": "code",
   "execution_count": 20,
   "metadata": {
    "collapsed": false,
    "deletable": true,
    "editable": true
   },
   "outputs": [
    {
     "data": {
      "text/html": [
       "<ol class=list-inline>\n",
       "\t<li>2</li>\n",
       "\t<li>1</li>\n",
       "</ol>\n"
      ],
      "text/latex": [
       "\\begin{enumerate*}\n",
       "\\item 2\n",
       "\\item 1\n",
       "\\end{enumerate*}\n"
      ],
      "text/markdown": [
       "1. 2\n",
       "2. 1\n",
       "\n",
       "\n"
      ],
      "text/plain": [
       "[1] 2 1"
      ]
     },
     "metadata": {},
     "output_type": "display_data"
    }
   ],
   "source": [
    "x <- 2\n",
    "g4 <- function() {\n",
    "  y <- 1\n",
    "  c(x, y)\n",
    "}\n",
    "g4()\n",
    "rm(x, g4)"
   ]
  },
  {
   "cell_type": "markdown",
   "metadata": {
    "deletable": true,
    "editable": true
   },
   "source": [
    "Las mismas reglas se aplican si una función se define dentro de otra función: miramos dentro de la función actual, entonces donde esa función fue definida y así sucesivamente, todo el camino hasta el entorno global y luego a otros paquetes cargados."
   ]
  },
  {
   "cell_type": "code",
   "execution_count": 21,
   "metadata": {
    "collapsed": false,
    "deletable": true,
    "editable": true
   },
   "outputs": [
    {
     "data": {
      "text/html": [
       "<ol class=list-inline>\n",
       "\t<li>1</li>\n",
       "\t<li>2</li>\n",
       "\t<li>3</li>\n",
       "</ol>\n"
      ],
      "text/latex": [
       "\\begin{enumerate*}\n",
       "\\item 1\n",
       "\\item 2\n",
       "\\item 3\n",
       "\\end{enumerate*}\n"
      ],
      "text/markdown": [
       "1. 1\n",
       "2. 2\n",
       "3. 3\n",
       "\n",
       "\n"
      ],
      "text/plain": [
       "[1] 1 2 3"
      ]
     },
     "metadata": {},
     "output_type": "display_data"
    }
   ],
   "source": [
    "x <- 1\n",
    "h1 <- function() {\n",
    "  y <- 2\n",
    "  i <- function() {\n",
    "    z <- 3\n",
    "    c(x, y, z)\n",
    "  }\n",
    "  i()\n",
    "}\n",
    "h1()\n",
    "rm(x, h1)"
   ]
  },
  {
   "cell_type": "markdown",
   "metadata": {
    "deletable": true,
    "editable": true
   },
   "source": [
    "Las mismas reglas se aplican a **clausuras**, funciones creadas por otras funciones. Aquí solo veremos cómo interactúan con el alcance. La siguiente función, `j()`, devuelve una función. \n",
    "\n",
    "Esto parece un poco mágico (cómo `R` sabe cuál es el valor de `y` después de que la función ha sido llamada). Funciona porque `k` preserva el entorno en el que fue definido y porque el entorno incluye el valor de `y`. "
   ]
  },
  {
   "cell_type": "code",
   "execution_count": 22,
   "metadata": {
    "collapsed": false,
    "deletable": true,
    "editable": true
   },
   "outputs": [
    {
     "data": {
      "text/html": [
       "<ol class=list-inline>\n",
       "\t<li>1</li>\n",
       "\t<li>2</li>\n",
       "</ol>\n"
      ],
      "text/latex": [
       "\\begin{enumerate*}\n",
       "\\item 1\n",
       "\\item 2\n",
       "\\end{enumerate*}\n"
      ],
      "text/markdown": [
       "1. 1\n",
       "2. 2\n",
       "\n",
       "\n"
      ],
      "text/plain": [
       "[1] 1 2"
      ]
     },
     "metadata": {},
     "output_type": "display_data"
    }
   ],
   "source": [
    "j <- function(x) {\n",
    "    y <- 2\n",
    "    function() {\n",
    "        c(x, y)\n",
    "    }\n",
    "}\n",
    "k <- j(1)\n",
    "k()\n",
    "rm(j, k)"
   ]
  },
  {
   "cell_type": "markdown",
   "metadata": {
    "deletable": true,
    "editable": true
   },
   "source": [
    "Los mismos principios se aplican independientemente del tipo de valor asociado, encontrar funciones trabaja exactamente de la misma manera que encontrar variables:"
   ]
  },
  {
   "cell_type": "code",
   "execution_count": 23,
   "metadata": {
    "collapsed": false,
    "deletable": true,
    "editable": true
   },
   "outputs": [
    {
     "data": {
      "text/html": [
       "20"
      ],
      "text/latex": [
       "20"
      ],
      "text/markdown": [
       "20"
      ],
      "text/plain": [
       "[1] 20"
      ]
     },
     "metadata": {},
     "output_type": "display_data"
    }
   ],
   "source": [
    "l <- function(x) x + 1\n",
    "m <- function() {\n",
    "  l <- function(x) x * 2\n",
    "  l(10)\n",
    "}\n",
    "m()"
   ]
  },
  {
   "cell_type": "code",
   "execution_count": 24,
   "metadata": {
    "collapsed": true,
    "deletable": true,
    "editable": true
   },
   "outputs": [],
   "source": [
    "rm(l, m)"
   ]
  },
  {
   "cell_type": "markdown",
   "metadata": {
    "deletable": true,
    "editable": true
   },
   "source": [
    "Para las funciones, hay un pequeño ajuste a la regla. Si se está utilizando un nombre en un contexto en el que es obvio que se desea una función (por ejemplo, `f(3)`), `R` ignorará los objetos que no son funciones mientras está buscando. En el ejemplo siguiente `n` toma un valor diferente dependiendo de si `R` está buscando una función o una variable."
   ]
  },
  {
   "cell_type": "code",
   "execution_count": 25,
   "metadata": {
    "collapsed": false,
    "deletable": true,
    "editable": true
   },
   "outputs": [
    {
     "data": {
      "text/html": [
       "2"
      ],
      "text/latex": [
       "2"
      ],
      "text/markdown": [
       "2"
      ],
      "text/plain": [
       "[1] 2"
      ]
     },
     "metadata": {},
     "output_type": "display_data"
    }
   ],
   "source": [
    "n <- function(x) x / 2\n",
    "o <- function() {\n",
    "  n <- 4\n",
    "  n(n)\n",
    "}\n",
    "o()"
   ]
  },
  {
   "cell_type": "markdown",
   "metadata": {
    "deletable": true,
    "editable": true
   },
   "source": [
    "Sin embargo, usar el mismo nombre para funciones y otros objetos hará confuso el código y generalmente es mejor evitarlo."
   ]
  },
  {
   "cell_type": "code",
   "execution_count": 26,
   "metadata": {
    "collapsed": true,
    "deletable": true,
    "editable": true
   },
   "outputs": [],
   "source": [
    "rm(n, o)"
   ]
  },
  {
   "cell_type": "markdown",
   "metadata": {
    "deletable": true,
    "editable": true
   },
   "source": [
    "¿Qué sucede con los valores entre invocaciones de una función? ¿Qué pasará la primera vez que se ejecute esta función? ¿Qué pasará la segunda vez? (Si no has visto `exists()` antes: devuelve `TRUE` si hay una variable de ese nombre, de lo contrario devuelve `FALSE`.)"
   ]
  },
  {
   "cell_type": "code",
   "execution_count": 27,
   "metadata": {
    "collapsed": false,
    "deletable": true,
    "editable": true
   },
   "outputs": [
    {
     "data": {
      "text/html": [
       "1"
      ],
      "text/latex": [
       "1"
      ],
      "text/markdown": [
       "1"
      ],
      "text/plain": [
       "[1] 1"
      ]
     },
     "metadata": {},
     "output_type": "display_data"
    }
   ],
   "source": [
    "j1 <- function() {\n",
    "  if (!exists(\"a\")) {\n",
    "    a <- 1\n",
    "  } else {\n",
    "    a <- a + 1\n",
    "  }\n",
    "  a\n",
    "}\n",
    "j1()\n",
    "rm(j1)"
   ]
  },
  {
   "cell_type": "markdown",
   "metadata": {
    "deletable": true,
    "editable": true
   },
   "source": [
    "Se puede estar ser sorprendido por que devuelve el mismo valor `1`, cada vez. Esto se debe a que cada vez que se llama una función, se crea un nuevo entorno para la ejecución. Una función no tiene forma de saber qué pasó la última vez que se ejecutó. Cada invocación es completamente independiente. "
   ]
  },
  {
   "cell_type": "markdown",
   "metadata": {
    "deletable": true,
    "editable": true
   },
   "source": [
    "El alcance léxico determina dónde buscar valores, no cuándo buscarlos. `R` busca valores cuando se ejecuta la función, no cuando se crea. Esto significa que la salida de una función puede ser diferente dependiendo de los objetos fuera de su entorno:"
   ]
  },
  {
   "cell_type": "code",
   "execution_count": 28,
   "metadata": {
    "collapsed": false,
    "deletable": true,
    "editable": true
   },
   "outputs": [
    {
     "data": {
      "text/html": [
       "15"
      ],
      "text/latex": [
       "15"
      ],
      "text/markdown": [
       "15"
      ],
      "text/plain": [
       "[1] 15"
      ]
     },
     "metadata": {},
     "output_type": "display_data"
    }
   ],
   "source": [
    "f5 <- function() x\n",
    "x <- 15\n",
    "f5()"
   ]
  },
  {
   "cell_type": "code",
   "execution_count": 29,
   "metadata": {
    "collapsed": false,
    "deletable": true,
    "editable": true
   },
   "outputs": [
    {
     "data": {
      "text/html": [
       "20"
      ],
      "text/latex": [
       "20"
      ],
      "text/markdown": [
       "20"
      ],
      "text/plain": [
       "[1] 20"
      ]
     },
     "metadata": {},
     "output_type": "display_data"
    }
   ],
   "source": [
    "x <- 20\n",
    "f5()"
   ]
  },
  {
   "cell_type": "markdown",
   "metadata": {
    "deletable": true,
    "editable": true
   },
   "source": [
    "Por lo general,  se desea evitar este comportamiento porque significa que la función ya no es autónoma. Este es un error común - si se  comete un error ortográfico en el  código, no se obtendrá un error al crear la función  y es posible que ni siquiera obtenga un error cuando se ejecute la función, dependiendo de qué variables se definen en el entorno global.\n",
    "\n",
    "Una forma de detectar este problema es la función `findGlobals()` de `codetools`. Esta función lista todas las dependencias externas de una función:"
   ]
  },
  {
   "cell_type": "code",
   "execution_count": 30,
   "metadata": {
    "collapsed": false,
    "deletable": true,
    "editable": true
   },
   "outputs": [
    {
     "data": {
      "text/html": [
       "<ol class=list-inline>\n",
       "\t<li>'+'</li>\n",
       "\t<li>'x'</li>\n",
       "</ol>\n"
      ],
      "text/latex": [
       "\\begin{enumerate*}\n",
       "\\item '+'\n",
       "\\item 'x'\n",
       "\\end{enumerate*}\n"
      ],
      "text/markdown": [
       "1. '+'\n",
       "2. 'x'\n",
       "\n",
       "\n"
      ],
      "text/plain": [
       "[1] \"+\" \"x\""
      ]
     },
     "metadata": {},
     "output_type": "display_data"
    }
   ],
   "source": [
    "library(\"codetools\")\n",
    "\n",
    "f6 <- function() x + 1\n",
    "codetools::findGlobals(f6)"
   ]
  },
  {
   "cell_type": "markdown",
   "metadata": {
    "deletable": true,
    "editable": true
   },
   "source": [
    "Otra forma de tratar de resolver el problema sería cambiar manualmente el entorno de la función a `emptyenv()`, un entorno que no contiene absolutamente nada:"
   ]
  },
  {
   "cell_type": "code",
   "execution_count": 31,
   "metadata": {
    "collapsed": false,
    "deletable": true,
    "editable": true
   },
   "outputs": [
    {
     "ename": "ERROR",
     "evalue": "Error in f6(): no se pudo encontrar la función \"+\"\n",
     "output_type": "error",
     "traceback": [
      "Error in f6(): no se pudo encontrar la función \"+\"\nTraceback:\n",
      "1. f6()"
     ]
    }
   ],
   "source": [
    "environment(f6) <- emptyenv()\n",
    "f6()"
   ]
  },
  {
   "cell_type": "markdown",
   "metadata": {
    "deletable": true,
    "editable": true
   },
   "source": [
    "Esto no funciona porque `R` se basa en el alcance léxico para encontrar todo, incluso el operador `+`. Nunca es posible hacer una función completamente autónoma porque siempre se debe confiar en las funciones definidas en el paquete  base  o en  otros paquetes.\n",
    "\n",
    "Podemos  usar esta misma idea para hacer otras cosas que son extremadamente desacertadas. Por ejemplo, puesto que todos los operadores estándar en `R` son funciones, puede anularlas con sus propias alternativas. "
   ]
  },
  {
   "cell_type": "markdown",
   "metadata": {
    "deletable": true,
    "editable": true
   },
   "source": [
    "### Algo de entornos en R\n",
    "\n",
    "Un entorno es un tipo muy especial de objeto en `R`, pero se utiliza en todas partes desde la implementación de una llamada de función hasta el  mecanismo de alcance léxico. De hecho, cuando ejecuta una parte de código `R`, se ejecuta en un determinado entorno. Para saber en qué entorno estamos ejecutando el código, podemos llamar a `environment()`:"
   ]
  },
  {
   "cell_type": "code",
   "execution_count": 32,
   "metadata": {
    "collapsed": false,
    "deletable": true,
    "editable": true
   },
   "outputs": [
    {
     "data": {
      "text/plain": [
       "<environment: R_GlobalEnv>"
      ]
     },
     "metadata": {},
     "output_type": "display_data"
    }
   ],
   "source": [
    "environment()"
   ]
  },
  {
   "cell_type": "markdown",
   "metadata": {
    "deletable": true,
    "editable": true
   },
   "source": [
    "Un entorno es también un objeto  que podemos crear y trabajar. Por ejemplo, podemos asignar el entorno actual a una variable y crear nuevos símbolos en este entorno:"
   ]
  },
  {
   "cell_type": "code",
   "execution_count": 33,
   "metadata": {
    "collapsed": true,
    "deletable": true,
    "editable": true
   },
   "outputs": [],
   "source": [
    "global <- environment()\n",
    "global$algun_objeto <- 1"
   ]
  },
  {
   "cell_type": "markdown",
   "metadata": {
    "deletable": true,
    "editable": true
   },
   "source": [
    "La asignación anterior es equivalente a llamar directamente a `algun_objeto <- 1`, pues este objeto se encuentra en  el entorno global. Mientras se ejecute el código anterior, se modifica el entorno global y `algun_objeto` obtiene un valor:"
   ]
  },
  {
   "cell_type": "code",
   "execution_count": 34,
   "metadata": {
    "collapsed": false,
    "deletable": true,
    "editable": true
   },
   "outputs": [
    {
     "data": {
      "text/html": [
       "1"
      ],
      "text/latex": [
       "1"
      ],
      "text/markdown": [
       "1"
      ],
      "text/plain": [
       "[1] 1"
      ]
     },
     "metadata": {},
     "output_type": "display_data"
    }
   ],
   "source": [
    "algun_objeto"
   ]
  },
  {
   "cell_type": "markdown",
   "metadata": {
    "deletable": true,
    "editable": true
   },
   "source": [
    "Hay otras maneras de acceder al entorno global. Por ejemplo, `globalenv()` y `.GlobalEnv` se refieren al entorno global:"
   ]
  },
  {
   "cell_type": "code",
   "execution_count": 35,
   "metadata": {
    "collapsed": false,
    "deletable": true,
    "editable": true
   },
   "outputs": [
    {
     "data": {
      "text/plain": [
       "<environment: R_GlobalEnv>"
      ]
     },
     "metadata": {},
     "output_type": "display_data"
    }
   ],
   "source": [
    "globalenv()"
   ]
  },
  {
   "cell_type": "code",
   "execution_count": 36,
   "metadata": {
    "collapsed": false,
    "deletable": true,
    "editable": true
   },
   "outputs": [
    {
     "data": {
      "text/plain": [
       "<environment: R_GlobalEnv>"
      ]
     },
     "metadata": {},
     "output_type": "display_data"
    }
   ],
   "source": [
    ".GlobalEnv"
   ]
  },
  {
   "cell_type": "markdown",
   "metadata": {
    "deletable": true,
    "editable": true
   },
   "source": [
    "El entorno global (`globalenv()`) es el espacio de trabajo del usuario, mientras que el entorno base (`baseenv()`) proporciona funciones y operadores básicos:"
   ]
  },
  {
   "cell_type": "code",
   "execution_count": 37,
   "metadata": {
    "collapsed": false,
    "deletable": true,
    "editable": true
   },
   "outputs": [
    {
     "data": {
      "text/plain": [
       "<environment: base>"
      ]
     },
     "metadata": {},
     "output_type": "display_data"
    }
   ],
   "source": [
    "baseenv()"
   ]
  },
  {
   "cell_type": "markdown",
   "metadata": {
    "deletable": true,
    "editable": true
   },
   "source": [
    "El entorno global y el entorno base son los entornos incorporados de `R` más importantes. Ahora, nos podemos preguntar ¿Cuál es el entorno padre del entorno global? ¿Y el entorno base? ¿ y sus abuelos?.\n",
    "\n",
    "La siguiente función se puede utilizar para averiguar la cadena de un entorno dado:"
   ]
  },
  {
   "cell_type": "code",
   "execution_count": 38,
   "metadata": {
    "collapsed": true,
    "deletable": true,
    "editable": true
   },
   "outputs": [],
   "source": [
    "pariente_entorno <- function(env) {\n",
    "    while (TRUE) {\n",
    "        nombre <- environmentName(env)\n",
    "        txt <- if (nzchar(nombre)) nombre else format(env)\n",
    "            cat(txt, \"\\n\")\n",
    "            env <- parent.env(env)\n",
    "            }\n",
    "}"
   ]
  },
  {
   "cell_type": "code",
   "execution_count": 39,
   "metadata": {
    "collapsed": false,
    "deletable": true,
    "editable": true
   },
   "outputs": [
    {
     "name": "stdout",
     "output_type": "stream",
     "text": [
      "R_GlobalEnv \n",
      "package:codetools \n",
      "jupyter:irkernel \n",
      "jupyter:irkernel \n",
      "package:stats \n",
      "package:graphics \n",
      "package:grDevices \n",
      "package:utils \n",
      "package:datasets \n",
      "package:methods \n",
      "Autoloads \n",
      "base \n",
      "R_EmptyEnv \n"
     ]
    },
    {
     "ename": "ERROR",
     "evalue": "Error in parent.env(env): el entorno vacio no esta asociado\n",
     "output_type": "error",
     "traceback": [
      "Error in parent.env(env): el entorno vacio no esta asociado\nTraceback:\n",
      "1. pariente_entorno(globalenv())",
      "2. parent.env(env)   # at line 6 of file <text>"
     ]
    }
   ],
   "source": [
    "pariente_entorno(globalenv())"
   ]
  },
  {
   "cell_type": "markdown",
   "metadata": {
    "deletable": true,
    "editable": true
   },
   "source": [
    "Se debe tener  en cuenta que la cadena termina en un entorno denominado **entorno vacio **, que es el único entorno que no tiene nada y no tiene un entorno padre. También hay una función `emptyenv()` que hace referencia al entorno vacío, pero  `parent.env(emptyenv())` provocará un error. Esto explica por qué los `pariente_entorno()` siempre terminan con un error.\n",
    "\n",
    "La cadena de entornos es una combinación de entornos integrados y entornos de paquetes. Podemos llamar a `search()`, para obtener la ruta de búsqueda del símbolo en la perspectiva del entorno global:"
   ]
  },
  {
   "cell_type": "code",
   "execution_count": 40,
   "metadata": {
    "collapsed": false,
    "deletable": true,
    "editable": true
   },
   "outputs": [
    {
     "data": {
      "text/html": [
       "<ol class=list-inline>\n",
       "\t<li>'.GlobalEnv'</li>\n",
       "\t<li>'package:codetools'</li>\n",
       "\t<li>'jupyter:irkernel'</li>\n",
       "\t<li>'jupyter:irkernel'</li>\n",
       "\t<li>'package:stats'</li>\n",
       "\t<li>'package:graphics'</li>\n",
       "\t<li>'package:grDevices'</li>\n",
       "\t<li>'package:utils'</li>\n",
       "\t<li>'package:datasets'</li>\n",
       "\t<li>'package:methods'</li>\n",
       "\t<li>'Autoloads'</li>\n",
       "\t<li>'package:base'</li>\n",
       "</ol>\n"
      ],
      "text/latex": [
       "\\begin{enumerate*}\n",
       "\\item '.GlobalEnv'\n",
       "\\item 'package:codetools'\n",
       "\\item 'jupyter:irkernel'\n",
       "\\item 'jupyter:irkernel'\n",
       "\\item 'package:stats'\n",
       "\\item 'package:graphics'\n",
       "\\item 'package:grDevices'\n",
       "\\item 'package:utils'\n",
       "\\item 'package:datasets'\n",
       "\\item 'package:methods'\n",
       "\\item 'Autoloads'\n",
       "\\item 'package:base'\n",
       "\\end{enumerate*}\n"
      ],
      "text/markdown": [
       "1. '.GlobalEnv'\n",
       "2. 'package:codetools'\n",
       "3. 'jupyter:irkernel'\n",
       "4. 'jupyter:irkernel'\n",
       "5. 'package:stats'\n",
       "6. 'package:graphics'\n",
       "7. 'package:grDevices'\n",
       "8. 'package:utils'\n",
       "9. 'package:datasets'\n",
       "10. 'package:methods'\n",
       "11. 'Autoloads'\n",
       "12. 'package:base'\n",
       "\n",
       "\n"
      ],
      "text/plain": [
       " [1] \".GlobalEnv\"        \"package:codetools\" \"jupyter:irkernel\" \n",
       " [4] \"jupyter:irkernel\"  \"package:stats\"     \"package:graphics\" \n",
       " [7] \"package:grDevices\" \"package:utils\"     \"package:datasets\" \n",
       "[10] \"package:methods\"   \"Autoloads\"         \"package:base\"     "
      ]
     },
     "metadata": {},
     "output_type": "display_data"
    }
   ],
   "source": [
    "search()"
   ]
  },
  {
   "cell_type": "markdown",
   "metadata": {
    "deletable": true,
    "editable": true
   },
   "source": [
    "Dado el conocimiento de la búsqueda de símbolos a lo largo de una cadena de entornos, podemos determinar el proceso en detalle de cómo se evalúa el siguiente código en el entorno global:"
   ]
  },
  {
   "cell_type": "code",
   "execution_count": 41,
   "metadata": {
    "collapsed": false,
    "deletable": true,
    "editable": true
   },
   "outputs": [
    {
     "data": {
      "text/html": [
       "2"
      ],
      "text/latex": [
       "2"
      ],
      "text/markdown": [
       "2"
      ],
      "text/plain": [
       "[1] 2"
      ]
     },
     "metadata": {},
     "output_type": "display_data"
    }
   ],
   "source": [
    "median(c(1, 2, 1 + 3))"
   ]
  },
  {
   "cell_type": "markdown",
   "metadata": {
    "deletable": true,
    "editable": true
   },
   "source": [
    "La expresión parece simple, pero su proceso de evaluación es más complejo de lo que parece. Primero, busca `median` a lo largo de la cadena. Se encuentra en el entorno del paquete `stats`. Luego, se busca `c` que se encuentra en el entorno base. Finalmente, puede ser sorprendido cuando se  busca `+` (también es una función!), que se encuentra en el entorno base.\n",
    "\n",
    "De hecho, cada vez que  se adjunta un paquete, el entorno del paquete se insertará antes que el entorno global en la ruta de búsqueda. Si dos paquetes exportan funciones con nombres en conflicto, las funciones definidas en el paquete posteriormente enmascararán las anteriormente definidas  ya que se convierten en un padre más cercano al entorno global."
   ]
  },
  {
   "cell_type": "markdown",
   "metadata": {
    "deletable": true,
    "editable": true
   },
   "source": [
    "### Entornos asociados con funciones "
   ]
  },
  {
   "cell_type": "markdown",
   "metadata": {
    "deletable": true,
    "editable": true
   },
   "source": [
    "Los entornos gobiernan la búsqueda de símbolos no sólo en el nivel global, sino también en el nivel de función. Hay tres entornos importantes asociados con las funciones y su proceso de ejecución: el entorno de ejecución, el entorno de cierre y el entorno de llamada.\n",
    "\n",
    "Cada vez que se llama una función, se crea un nuevo entorno llamado para alojar el proceso de ejecución. Este es el entorno de ejecución de la llamada de función. Los argumentos de la función y las variables que creamos en la función son en realidad las variables en el entorno de ejecución.\n",
    "\n",
    "Al igual que todos los demás entornos, el entorno de ejecución de una función se crea con un entorno padre. Ese entorno padre, también llamado el entorno de cierre de la función, es el entorno donde se define la función. Esto significa que durante la ejecución de la función, cualquier variable que no esté definida en el entorno de ejecución será buscada en el entorno de cierre. Esto es exactamente lo que hace posible el alcance léxico.\n",
    "\n",
    "A veces también es útil conocer el entorno de llamada, es decir, el entorno en el que se llama a la función.  Podemos utilizar `parent.frame()` para obtener el entorno de llamada de la función que se está ejecutando actualmente.\n",
    "\n",
    "Para demostrar estos conceptos, supongamos que definimos la siguiente función:"
   ]
  },
  {
   "cell_type": "code",
   "execution_count": 42,
   "metadata": {
    "collapsed": true,
    "deletable": true,
    "editable": true
   },
   "outputs": [],
   "source": [
    "entorno_funcion <- function() {\n",
    "    cat(\"Entorno de ejecucion: \")\n",
    "    print(environment())\n",
    "    cat(\"Entorno de cierre: \")\n",
    "    print(parent.env(environment()))\n",
    "}"
   ]
  },
  {
   "cell_type": "markdown",
   "metadata": {
    "deletable": true,
    "editable": true
   },
   "source": [
    "Esta  función no hace nada, pero imprime los entornos de ejecución y de cierre cuando se le llama:"
   ]
  },
  {
   "cell_type": "code",
   "execution_count": 43,
   "metadata": {
    "collapsed": false,
    "deletable": true,
    "editable": true
   },
   "outputs": [
    {
     "name": "stdout",
     "output_type": "stream",
     "text": [
      "Entorno de ejecucion: <environment: 0x30f7850>\n",
      "Entorno de cierre: <environment: R_GlobalEnv>\n"
     ]
    }
   ],
   "source": [
    "entorno_funcion()"
   ]
  },
  {
   "cell_type": "code",
   "execution_count": 44,
   "metadata": {
    "collapsed": false,
    "deletable": true,
    "editable": true
   },
   "outputs": [
    {
     "name": "stdout",
     "output_type": "stream",
     "text": [
      "Entorno de ejecucion: <environment: 0x305c1e8>\n",
      "Entorno de cierre: <environment: R_GlobalEnv>\n"
     ]
    }
   ],
   "source": [
    "entorno_funcion()"
   ]
  },
  {
   "cell_type": "code",
   "execution_count": 45,
   "metadata": {
    "collapsed": false,
    "deletable": true,
    "editable": true
   },
   "outputs": [
    {
     "name": "stdout",
     "output_type": "stream",
     "text": [
      "Entorno de ejecucion: <environment: 0x2fa73e0>\n",
      "Entorno de cierre: <environment: R_GlobalEnv>\n"
     ]
    }
   ],
   "source": [
    "entorno_funcion()"
   ]
  },
  {
   "cell_type": "markdown",
   "metadata": {
    "deletable": true,
    "editable": true
   },
   "source": [
    "Tenga en cuenta que cada vez que se llama a la función, el entorno de ejecución es diferente, pero el entorno de cierre, sigue siendo el mismo. De hecho, cuando se define la función, se determina el entorno de cierre. Podemos llamar a `environment()` sobre una función para obtener su entorno de cierre:"
   ]
  },
  {
   "cell_type": "code",
   "execution_count": 46,
   "metadata": {
    "collapsed": false,
    "deletable": true,
    "editable": true
   },
   "outputs": [
    {
     "data": {
      "text/plain": [
       "<environment: R_GlobalEnv>"
      ]
     },
     "metadata": {},
     "output_type": "display_data"
    }
   ],
   "source": [
    "environment(entorno_funcion)"
   ]
  },
  {
   "cell_type": "markdown",
   "metadata": {
    "deletable": true,
    "editable": true
   },
   "source": [
    "El ejemplo siguiente implica los tres entornos de tres funciones anidadas. En cada función, se imprimen el entorno de ejecución, el entorno de cierre y el entorno de llamada. "
   ]
  },
  {
   "cell_type": "code",
   "execution_count": 47,
   "metadata": {
    "collapsed": true,
    "deletable": true,
    "editable": true
   },
   "outputs": [],
   "source": [
    "f7 <- function() {\n",
    "    cat(\"[f7] Ejecutando en \")\n",
    "    print(environment())\n",
    "    cat(\"[f7] Cerrado por \")\n",
    "    print(parent.env(environment()))\n",
    "    cat(\"[f7] Llamado desde \")\n",
    "    print(parent.frame())\n",
    "    f8 <- function() {\n",
    "        cat(\"[f8] Ejecutando en \")\n",
    "        print(environment())\n",
    "        cat(\"[f8] Cerrado por \")\n",
    "        print(parent.env(environment()))\n",
    "        cat(\"[f8] Llamando desde \")\n",
    "        print(parent.frame())\n",
    "    }\n",
    "    f9 <- function() {\n",
    "        cat(\"[f9] Ejecutando en \")\n",
    "        print(environment())\n",
    "        cat(\"[f9] Cerrado por \")\n",
    "        print(parent.env(environment()))\n",
    "        cat(\"[f9] Llamado desde\")\n",
    "        print(parent.frame())\n",
    "        f8()\n",
    "    }\n",
    "    f9()\n",
    "}"
   ]
  },
  {
   "cell_type": "markdown",
   "metadata": {
    "deletable": true,
    "editable": true
   },
   "source": [
    "Llamamos a `f7` y averiguamos cuándo se imprime cada mensaje. La salida requiere un cierto esfuerzo para leer en su forma original. Dividimos la salida en partes para facilitar la lectura mientras se preserva el orden de la salida para la consistencia.\n",
    "\n",
    "Tenga en cuenta que los entornos temporalmente creados sólo tienen direcciones de memoria (por ejemplo, `0x0000000016a39fe8`) en lugar de un nombre común como el entorno global (`R_GlobalEnv`)."
   ]
  },
  {
   "cell_type": "markdown",
   "metadata": {
    "deletable": true,
    "editable": true
   },
   "source": [
    "\n",
    "```\n",
    "f7()\n",
    "[f7] Ejecutando en <environment: 0x2b4e4e8>\n",
    "[f7] Cerrado por <environment: R_GlobalEnv>\n",
    "[f7] Llamado desde <environment: R_GlobalEnv>\n",
    "```"
   ]
  },
  {
   "cell_type": "markdown",
   "metadata": {
    "deletable": true,
    "editable": true
   },
   "source": [
    "Cuando llamamos `f7`, sus entornos asociados se imprimen como se supone y luego se definen `f8` y `f9`  y finalmente se llama `f9`, lo cual continúa produciendo el siguiente resultado de texto:\n",
    "\n",
    "```\n",
    "[f9] Ejecutando en <environment: 0x2b527d0>\n",
    "[f9] Cerrado por <environment: 0x2b4e4e8>\n",
    "[f9] Llamado desde<environment: 0x2b4e4e8>\n",
    "```"
   ]
  },
  {
   "cell_type": "markdown",
   "metadata": {
    "deletable": true,
    "editable": true
   },
   "source": [
    "Entonces, `f8` se llama en `f9`, lo que produce  el siguiente texto:\n",
    "\n",
    "```\n",
    "[f8] Ejecutando en <environment: 0x2b56e38>\n",
    "[f8] Cerrado por <environment: 0x2b4e4e8>\n",
    "[f8] Llamando desde <environment: 0x2b527d0>\n",
    "```"
   ]
  },
  {
   "cell_type": "markdown",
   "metadata": {
    "deletable": true,
    "editable": true
   },
   "source": [
    "Los mensajes impresos muestran los siguientes hechos:\n",
    "\n",
    "* Tanto el entorno de cierre como el entorno de llamada de `f7` son el entorno global.\n",
    "\n",
    "* El entorno de cierre y el entorno de llamada de `f9`, así como el entorno de cierre de `f8`, son los entornos de ejecución de `f7`.\n",
    "\n",
    "* El entorno de llamada de `f8` es el entorno de ejecución de `f9`."
   ]
  },
  {
   "cell_type": "markdown",
   "metadata": {
    "deletable": true,
    "editable": true
   },
   "source": [
    "Los hechos anteriores son consistentes con los siguientes hechos:\n",
    "\n",
    "* `f7` se define y se llama en el entorno global.\n",
    "* `f9` se define y se llama en `f7`.\n",
    "* `f8` se define en `f7` pero se llama en `f9`."
   ]
  },
  {
   "cell_type": "markdown",
   "metadata": {
    "collapsed": true,
    "deletable": true,
    "editable": true
   },
   "source": [
    "### Lecturas\n",
    "\n",
    "\n",
    "* [Environments in R](http://digitheadslabnotebook.blogspot.pe/2011/06/environments-in-r.html).\n",
    "* [A Tutorial on Using Functions in R!](https://www.datacamp.com/community/tutorials/functions-in-r-a-tutorial)."
   ]
  },
  {
   "cell_type": "code",
   "execution_count": null,
   "metadata": {
    "collapsed": true
   },
   "outputs": [],
   "source": []
  }
 ],
 "metadata": {
  "kernelspec": {
   "display_name": "R",
   "language": "R",
   "name": "ir"
  },
  "language_info": {
   "codemirror_mode": "r",
   "file_extension": ".r",
   "mimetype": "text/x-r-source",
   "name": "R",
   "pygments_lexer": "r",
   "version": "3.3.2"
  }
 },
 "nbformat": 4,
 "nbformat_minor": 1
}
