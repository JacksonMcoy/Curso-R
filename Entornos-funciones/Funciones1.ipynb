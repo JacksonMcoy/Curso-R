{
 "cells": [
  {
   "cell_type": "markdown",
   "metadata": {
    "deletable": true,
    "editable": true
   },
   "source": [
    "## Escribiendo funciones\n",
    "\n",
    "Escribir tus  propias funciones en `R`  permite al usuario combinar un conjunto de comandos de  `R` en una función fácil de llamar y  con capacidad de ser generalizable. Las funciones son fundamentales para `R`. Para poder convertirse en un usuario más avanzado o desarrollador de R, una buena comprensión de qué son las funciones y cómo escribirlas es crucial.\n",
    "\n",
    "En términos generales, una función toma una o más entradas, las procesa para producir y devolver una salida. No todas las tareas de programación deben convertirse en una función. Sin embargo, siempre que un usuario se  encuentre copiando y pegando una línea particular de su código por tercera vez, probablemente debería escribir una función. Sabemos que el momento para escribir una función ha llegado, si es que el código que tenemos  es más de `100` líneas o menos. Largas líneas de código pueden llegar a ser casi imposibles de leer y entender. En su lugar, escribimos funciones con buenos nombres descriptivos que hacen que nuestro código sea más legible. Luego, en un adelanto separado, escribimos código usando estas  funciones.\n",
    "\n",
    "La belleza de tal sistema es que se hace más fácil escribir código enfocado dentro de cada función que resuelve una parte particular de un problema. Otra ventaja de este enfoque es que, en caso de que se requiera una mayor eficiencia, es posible determinar qué funciones le están costando la mayor cantidad de procesamiento o tomar el tiempo más largo para completar. Entonces la investigación puede ser hecha en cómo ser más eficiente en  este punto.\n",
    "\n",
    "Lo más importante para entender acerca de las funciones en  `R` es que las funciones son objetos por derecho propio. Se puede trabajar con funciones, exactamente de la misma manera que se trabaja con cualquier otro tipo de objeto. \n"
   ]
  },
  {
   "cell_type": "markdown",
   "metadata": {
    "deletable": true,
    "editable": true
   },
   "source": [
    "### Componentes de una función\n",
    "\n",
    "Con algunas excepciones, la mayoría de las funciones en R tienen tres componentes:\n",
    "\n",
    "* `formals`, lista de argumentos que controla cómo se puede llamar a la función.\n",
    "* `body`,  el código dentro de la función.\n",
    "* `environment`,  que determina la ubicación de las variables de la función."
   ]
  },
  {
   "cell_type": "code",
   "execution_count": 1,
   "metadata": {
    "collapsed": true,
    "deletable": true,
    "editable": true
   },
   "outputs": [],
   "source": [
    "f <- function(x, y = 5) {\n",
    "x + y\n",
    "}"
   ]
  },
  {
   "cell_type": "markdown",
   "metadata": {
    "deletable": true,
    "editable": true
   },
   "source": [
    "La función acepta dos argumentos: `x` e `y`. El primer argumento, `x`, no tiene ningún valor predeterminado, pero el segundo argumento, `y`, por defecto es un valor de `5`. Aunque podemos verlos fácilmente (en parte porque hemos escrito la función), se pueden  examinar utilizando las funciones `formals()` y `args()`:"
   ]
  },
  {
   "cell_type": "code",
   "execution_count": 2,
   "metadata": {
    "collapsed": false,
    "deletable": true,
    "editable": true
   },
   "outputs": [
    {
     "data": {
      "text/plain": [
       "$x\n",
       "\n",
       "\n",
       "$y\n",
       "[1] 5\n"
      ]
     },
     "metadata": {},
     "output_type": "display_data"
    }
   ],
   "source": [
    "formals(f)"
   ]
  },
  {
   "cell_type": "code",
   "execution_count": 3,
   "metadata": {
    "collapsed": false,
    "deletable": true,
    "editable": true
   },
   "outputs": [
    {
     "data": {
      "text/html": [
       "<pre class=language-r><code>function (x, y = 5) \n",
       "NULL</code></pre>"
      ],
      "text/latex": [
       "\\begin{minted}{r}\n",
       "function (x, y = 5) \n",
       "NULL\n",
       "\\end{minted}"
      ],
      "text/markdown": [
       "```r\n",
       "function (x, y = 5) \n",
       "NULL\n",
       "```"
      ],
      "text/plain": [
       "function (x, y = 5) \n",
       "NULL"
      ]
     },
     "metadata": {},
     "output_type": "display_data"
    }
   ],
   "source": [
    "args(f)"
   ]
  },
  {
   "cell_type": "markdown",
   "metadata": {
    "deletable": true,
    "editable": true
   },
   "source": [
    "Para ver el código de R real o los comandos utilizados para procesar los argumentos, usamos la función `body()`:"
   ]
  },
  {
   "cell_type": "code",
   "execution_count": 4,
   "metadata": {
    "collapsed": false,
    "deletable": true,
    "editable": true
   },
   "outputs": [
    {
     "data": {
      "text/plain": [
       "{\n",
       "    x + y\n",
       "}"
      ]
     },
     "metadata": {},
     "output_type": "display_data"
    }
   ],
   "source": [
    "body(f)"
   ]
  },
  {
   "cell_type": "markdown",
   "metadata": {
    "deletable": true,
    "editable": true
   },
   "source": [
    "El entorno de una función determina dónde busca variables u objetos, que pueden incluir tanto datos como funciones. Para ver el entorno de una función, utilizamos la función `environment()`:"
   ]
  },
  {
   "cell_type": "code",
   "execution_count": 5,
   "metadata": {
    "collapsed": false,
    "deletable": true,
    "editable": true
   },
   "outputs": [
    {
     "data": {
      "text/plain": [
       "<environment: R_GlobalEnv>"
      ]
     },
     "metadata": {},
     "output_type": "display_data"
    }
   ],
   "source": [
    "environment(f)"
   ]
  },
  {
   "cell_type": "markdown",
   "metadata": {
    "deletable": true,
    "editable": true
   },
   "source": [
    "En este caso, la función está en el entorno `global`, donde creamos la función. Si no se muestra el entorno, significa que la función se creó en el entorno global. Para otras funciones, esto podría variar. Por ejemplo, si miramos el entorno para la función `install.packages()`, es el espacio de nombres para el paquete `utils`. "
   ]
  },
  {
   "cell_type": "code",
   "execution_count": 6,
   "metadata": {
    "collapsed": false,
    "deletable": true,
    "editable": true
   },
   "outputs": [
    {
     "data": {
      "text/plain": [
       "<environment: namespace:utils>"
      ]
     },
     "metadata": {},
     "output_type": "display_data"
    }
   ],
   "source": [
    "environment(install.packages)"
   ]
  },
  {
   "cell_type": "markdown",
   "metadata": {
    "deletable": true,
    "editable": true
   },
   "source": [
    "### Funciones primitivas\n",
    "\n",
    "Como se mencionó, hay una excepción a la regla de que las funciones tienen tres componentes. Las funciones primitivas, como `sum()`, llaman al código C directamente con `.Primitive()` y no contienen código R. Por lo tanto las funciones `formals()`, `body()` y `environment()` son `NULL`:"
   ]
  },
  {
   "cell_type": "code",
   "execution_count": 7,
   "metadata": {
    "collapsed": false,
    "deletable": true,
    "editable": true
   },
   "outputs": [
    {
     "data": {
      "text/html": [
       "<pre class=language-r><code>.Primitive(\"sum\")</code></pre>"
      ],
      "text/latex": [
       "\\begin{minted}{r}\n",
       ".Primitive(\"sum\")\n",
       "\\end{minted}"
      ],
      "text/markdown": [
       "```r\n",
       ".Primitive(\"sum\")\n",
       "```"
      ],
      "text/plain": [
       "function (..., na.rm = FALSE)  .Primitive(\"sum\")"
      ]
     },
     "metadata": {},
     "output_type": "display_data"
    }
   ],
   "source": [
    "sum"
   ]
  },
  {
   "cell_type": "code",
   "execution_count": 8,
   "metadata": {
    "collapsed": false,
    "deletable": true,
    "editable": true
   },
   "outputs": [
    {
     "data": {
      "text/plain": [
       "NULL"
      ]
     },
     "metadata": {},
     "output_type": "display_data"
    }
   ],
   "source": [
    "formals(sum)"
   ]
  },
  {
   "cell_type": "code",
   "execution_count": 9,
   "metadata": {
    "collapsed": false,
    "deletable": true,
    "editable": true
   },
   "outputs": [
    {
     "data": {
      "text/plain": [
       "NULL"
      ]
     },
     "metadata": {},
     "output_type": "display_data"
    }
   ],
   "source": [
    "body(sum)"
   ]
  },
  {
   "cell_type": "code",
   "execution_count": 10,
   "metadata": {
    "collapsed": false,
    "deletable": true,
    "editable": true
   },
   "outputs": [
    {
     "data": {
      "text/plain": [
       "NULL"
      ]
     },
     "metadata": {},
     "output_type": "display_data"
    }
   ],
   "source": [
    "environment(sum)"
   ]
  },
  {
   "cell_type": "markdown",
   "metadata": {
    "deletable": true,
    "editable": true
   },
   "source": [
    "Las funciones primitivas sólo se encuentran en el paquete `base` y  puesto que funcionan a un nivel bajo, pueden ser más eficientes y pueden tener reglas diferentes para las correspondencia  de argumentos (por ejemplo, `switch` y `call`). Esto, sin embargo, tiene un costo de comportarse diferente de todas las demás funciones en R. Por lo tanto, el equipo central de R por lo general evita crearlas a menos que no haya otra opción."
   ]
  },
  {
   "cell_type": "markdown",
   "metadata": {
    "deletable": true,
    "editable": true
   },
   "source": [
    "### Creando y llamando funciones\n",
    "\n",
    "Para entender mejor las funciones, echemos un vistazo en que  consiste una función. Escribir el nombre de una función  muestra el código que se ejecuta cuando se llama. Esta es la función `rt`, que genera números aleatorios de una distribución t:\n"
   ]
  },
  {
   "cell_type": "code",
   "execution_count": 11,
   "metadata": {
    "collapsed": false,
    "deletable": true,
    "editable": true
   },
   "outputs": [
    {
     "data": {
      "text/html": [
       "<pre class=language-r><code>function (n, df, ncp) \n",
       "{\n",
       "<span style=white-space:pre-wrap>    if (missing(ncp)) </span>\n",
       "<span style=white-space:pre-wrap>        .Call(C_rt, n, df)</span>\n",
       "<span style=white-space:pre-wrap>    else if (is.na(ncp)) {</span>\n",
       "<span style=white-space:pre-wrap>        warning(\"NAs produced\")</span>\n",
       "<span style=white-space:pre-wrap>        rep(NaN, n)</span>\n",
       "<span style=white-space:pre-wrap>    }</span>\n",
       "<span style=white-space:pre-wrap>    else rnorm(n, ncp)/sqrt(rchisq(n, df)/df)</span>\n",
       "}</code></pre>"
      ],
      "text/latex": [
       "\\begin{minted}{r}\n",
       "function (n, df, ncp) \n",
       "\\{\n",
       "    if (missing(ncp)) \n",
       "        .Call(C\\_rt, n, df)\n",
       "    else if (is.na(ncp)) \\{\n",
       "        warning(\"NAs produced\")\n",
       "        rep(NaN, n)\n",
       "    \\}\n",
       "    else rnorm(n, ncp)/sqrt(rchisq(n, df)/df)\n",
       "\\}\n",
       "\\end{minted}"
      ],
      "text/markdown": [
       "```r\n",
       "function (n, df, ncp) \n",
       "{\n",
       "    if (missing(ncp)) \n",
       "        .Call(C_rt, n, df)\n",
       "    else if (is.na(ncp)) {\n",
       "        warning(\"NAs produced\")\n",
       "        rep(NaN, n)\n",
       "    }\n",
       "    else rnorm(n, ncp)/sqrt(rchisq(n, df)/df)\n",
       "}\n",
       "```"
      ],
      "text/plain": [
       "function (n, df, ncp) \n",
       "{\n",
       "    if (missing(ncp)) \n",
       "        .Call(C_rt, n, df)\n",
       "    else if (is.na(ncp)) {\n",
       "        warning(\"NAs produced\")\n",
       "        rep(NaN, n)\n",
       "    }\n",
       "    else rnorm(n, ncp)/sqrt(rchisq(n, df)/df)\n",
       "}\n",
       "<bytecode: 0x3c8d9e0>\n",
       "<environment: namespace:stats>"
      ]
     },
     "metadata": {},
     "output_type": "display_data"
    }
   ],
   "source": [
    "rt\n",
    "##rt<- function (n, df, ncp)\n",
    "##{\n",
    "##  if (missing(ncp))\n",
    "##    .External(C_rt, n, df)\n",
    "## else rnorm(n, ncp)/sqrt(rchisq(n, df)/df)\n",
    "##           }"
   ]
  },
  {
   "cell_type": "markdown",
   "metadata": {
    "deletable": true,
    "editable": true
   },
   "source": [
    "Como se puede ver, `rt` toma hasta tres argumentos de entrada: `n` es el número de números aleatorios para generar, `df` es el número de grados de libertad, y `ncp` es una nocentralidad opcional. Para ser técnico, los tres argumentos `n`, `df` y `ncp` son los argumentos formales de `rt`. Cuando  se llama  a la función y le pasas valores, esos valores se llaman simplemente argumentos.\n",
    "\n",
    "Entre las llaves, se pueden ver las líneas de código que constituyen el cuerpo de la función. Este es el código que se ejecuta cada vez que se llama a `rt`. Se observa que no hay una palabra clave explícita de \"devolución\" para indicar qué valor debe devolverse de la función. En `R`, el último valor que se calcula en la función se devuelve automáticamente. En el caso de `rt`, si se omite el argumento `ncp`, se invoca un código `C` para generar los números aleatorios, y éstos se devuelven. De lo contrario, la función llama a las funciones `rnorm`, `rchisq` y `sqrt` para generar los números y se devuelven."
   ]
  },
  {
   "cell_type": "code",
   "execution_count": 12,
   "metadata": {
    "collapsed": false,
    "deletable": true,
    "editable": true
   },
   "outputs": [
    {
     "data": {
      "text/plain": [
       "$n\n",
       "\n",
       "\n",
       "$df\n",
       "\n",
       "\n",
       "$ncp\n",
       "\n"
      ]
     },
     "metadata": {},
     "output_type": "display_data"
    }
   ],
   "source": [
    "formals(rt)"
   ]
  },
  {
   "cell_type": "code",
   "execution_count": 13,
   "metadata": {
    "collapsed": false,
    "deletable": true,
    "editable": true
   },
   "outputs": [
    {
     "data": {
      "text/plain": [
       "<environment: namespace:stats>"
      ]
     },
     "metadata": {},
     "output_type": "display_data"
    }
   ],
   "source": [
    "environment(rt)"
   ]
  },
  {
   "cell_type": "markdown",
   "metadata": {
    "deletable": true,
    "editable": true
   },
   "source": [
    "Para crear nuestras propias funciones, solo las asignamos como cualquier otra variable. A modo de ejemplo, vamos a crear una función para calcular la longitud de la hipotenusa de un triángulo rectángulo (para simplificar, usaremos el algoritmo obvio, para el código del mundo real, esto no funciona bien con números grandes y muy pequeños, por lo que no debe calcular la hipotenusa de esta manera):"
   ]
  },
  {
   "cell_type": "code",
   "execution_count": 14,
   "metadata": {
    "collapsed": true,
    "deletable": true,
    "editable": true
   },
   "outputs": [],
   "source": [
    "hipotenusa <- function(x, y)\n",
    "{\n",
    "    sqrt(x ^ 2 + y ^ 2)\n",
    "}"
   ]
  },
  {
   "cell_type": "markdown",
   "metadata": {
    "deletable": true,
    "editable": true
   },
   "source": [
    "Ahora podemos llamar a esta función como lo haríamos con cualquier otra:"
   ]
  },
  {
   "cell_type": "code",
   "execution_count": 15,
   "metadata": {
    "collapsed": false,
    "deletable": true,
    "editable": true
   },
   "outputs": [
    {
     "data": {
      "text/html": [
       "5"
      ],
      "text/latex": [
       "5"
      ],
      "text/markdown": [
       "5"
      ],
      "text/plain": [
       "[1] 5"
      ]
     },
     "metadata": {},
     "output_type": "display_data"
    }
   ],
   "source": [
    "hipotenusa(3, 4)"
   ]
  },
  {
   "cell_type": "code",
   "execution_count": 16,
   "metadata": {
    "collapsed": false,
    "deletable": true,
    "editable": true
   },
   "outputs": [
    {
     "data": {
      "text/html": [
       "25"
      ],
      "text/latex": [
       "25"
      ],
      "text/markdown": [
       "25"
      ],
      "text/plain": [
       "[1] 25"
      ]
     },
     "metadata": {},
     "output_type": "display_data"
    }
   ],
   "source": [
    "hipotenusa(y = 24, x = 7)"
   ]
  },
  {
   "cell_type": "markdown",
   "metadata": {
    "deletable": true,
    "editable": true
   },
   "source": [
    "Cuando llamamos a una función, si no nombramos los argumentos, entonces R los hará coincidir con la posición. En el caso de `hipotenusa(3, 4)`, `3` viene en primer lugar por lo que se asigna a `x`,  `4` viene segundo, por lo que se asigna a `y`.\n",
    "\n",
    "Si queremos cambiar el orden en que pasamos los argumentos, o omitir algunos de ellos, entonces podemos pasar argumentos con nombre. En el caso de `hipotenusa(y = 24, x = 7)`, aunque pasamos las variables en el orden \"erróneo\", `R` todavía determina correctamente qué variable debe asignarse a `x`, y a `y`.\n",
    "\n",
    "No tiene mucho sentido para una función de cálculo como `hipotenusa`, pero si quisiéramos, podríamos proporcionar valores por defecto para `x` e `y`. En esta nueva versión, si no pasamos nada a la función, `x` toma el valor `5` e `y` toma el valor de `12`:"
   ]
  },
  {
   "cell_type": "code",
   "execution_count": 17,
   "metadata": {
    "collapsed": false,
    "deletable": true,
    "editable": true
   },
   "outputs": [
    {
     "data": {
      "text/html": [
       "13"
      ],
      "text/latex": [
       "13"
      ],
      "text/markdown": [
       "13"
      ],
      "text/plain": [
       "[1] 13"
      ]
     },
     "metadata": {},
     "output_type": "display_data"
    }
   ],
   "source": [
    "hipotenusa <- function(x = 5, y = 12)\n",
    "{\n",
    "    sqrt(x ^ 2 + y ^ 2)\n",
    "}\n",
    "hipotenusa() #equivalente a hipotenusa(5, 12)"
   ]
  },
  {
   "cell_type": "markdown",
   "metadata": {
    "deletable": true,
    "editable": true
   },
   "source": [
    "Ya hemos visto la función `formals` para recuperar los argumentos de una función como una lista (par). La función `args` hace lo mismo de una manera más legible por el usuario, pero menos programable. `formalArgs` devuelve un vector de caracteres de los nombres de los argumentos:"
   ]
  },
  {
   "cell_type": "code",
   "execution_count": 18,
   "metadata": {
    "collapsed": false,
    "deletable": true,
    "editable": true
   },
   "outputs": [
    {
     "data": {
      "text/plain": [
       "$x\n",
       "[1] 5\n",
       "\n",
       "$y\n",
       "[1] 12\n"
      ]
     },
     "metadata": {},
     "output_type": "display_data"
    }
   ],
   "source": [
    "formals(hipotenusa)"
   ]
  },
  {
   "cell_type": "code",
   "execution_count": 19,
   "metadata": {
    "collapsed": false,
    "deletable": true,
    "editable": true
   },
   "outputs": [
    {
     "data": {
      "text/html": [
       "<pre class=language-r><code>function (x = 5, y = 12) \n",
       "NULL</code></pre>"
      ],
      "text/latex": [
       "\\begin{minted}{r}\n",
       "function (x = 5, y = 12) \n",
       "NULL\n",
       "\\end{minted}"
      ],
      "text/markdown": [
       "```r\n",
       "function (x = 5, y = 12) \n",
       "NULL\n",
       "```"
      ],
      "text/plain": [
       "function (x = 5, y = 12) \n",
       "NULL"
      ]
     },
     "metadata": {},
     "output_type": "display_data"
    }
   ],
   "source": [
    "args(hipotenusa)"
   ]
  },
  {
   "cell_type": "code",
   "execution_count": 20,
   "metadata": {
    "collapsed": false,
    "deletable": true,
    "editable": true
   },
   "outputs": [
    {
     "data": {
      "text/html": [
       "<ol class=list-inline>\n",
       "\t<li>'x'</li>\n",
       "\t<li>'y'</li>\n",
       "</ol>\n"
      ],
      "text/latex": [
       "\\begin{enumerate*}\n",
       "\\item 'x'\n",
       "\\item 'y'\n",
       "\\end{enumerate*}\n"
      ],
      "text/markdown": [
       "1. 'x'\n",
       "2. 'y'\n",
       "\n",
       "\n"
      ],
      "text/plain": [
       "[1] \"x\" \"y\""
      ]
     },
     "metadata": {},
     "output_type": "display_data"
    }
   ],
   "source": [
    "formalArgs(hipotenusa)"
   ]
  },
  {
   "cell_type": "markdown",
   "metadata": {
    "deletable": true,
    "editable": true
   },
   "source": [
    "El cuerpo de una función se recupera utilizando la función `body`. Esto no suele ser muy útil por sí solo, pero a veces queremos examinarlo como texto, para encontrar funciones que llaman a otra función, por ejemplo. Podemos usar `deparse` para lograr esto:"
   ]
  },
  {
   "cell_type": "code",
   "execution_count": 21,
   "metadata": {
    "collapsed": false,
    "deletable": true,
    "editable": true
   },
   "outputs": [
    {
     "data": {
      "text/plain": [
       "{\n",
       "    sqrt(x^2 + y^2)\n",
       "}"
      ]
     },
     "metadata": {},
     "output_type": "display_data"
    }
   ],
   "source": [
    "(cuerpo_de_funcion_hipotenusa <- body(hipotenusa))"
   ]
  },
  {
   "cell_type": "code",
   "execution_count": 22,
   "metadata": {
    "collapsed": true,
    "deletable": true,
    "editable": true
   },
   "outputs": [],
   "source": [
    "help(deparse)"
   ]
  },
  {
   "cell_type": "code",
   "execution_count": 23,
   "metadata": {
    "collapsed": false,
    "deletable": true,
    "editable": true
   },
   "outputs": [
    {
     "data": {
      "text/html": [
       "<ol class=list-inline>\n",
       "\t<li>'{'</li>\n",
       "\t<li><span style=white-space:pre-wrap>'    sqrt(x^2 + y^2)'</span></li>\n",
       "\t<li>'}'</li>\n",
       "</ol>\n"
      ],
      "text/latex": [
       "\\begin{enumerate*}\n",
       "\\item '\\{'\n",
       "\\item '    sqrt(x\\textasciicircum{}2 + y\\textasciicircum{}2)'\n",
       "\\item '\\}'\n",
       "\\end{enumerate*}\n"
      ],
      "text/markdown": [
       "1. '{'\n",
       "2. <span style=white-space:pre-wrap>'    sqrt(x^2 + y^2)'</span>\n",
       "3. '}'\n",
       "\n",
       "\n"
      ],
      "text/plain": [
       "[1] \"{\"                   \"    sqrt(x^2 + y^2)\" \"}\"                  "
      ]
     },
     "metadata": {},
     "output_type": "display_data"
    }
   ],
   "source": [
    "deparse(cuerpo_de_funcion_hipotenusa)"
   ]
  },
  {
   "cell_type": "markdown",
   "metadata": {
    "deletable": true,
    "editable": true
   },
   "source": [
    "Los valores predeterminados dados a argumentos formales de funciones pueden ser algo más que valores constantes - podemos pasar cualquier código de  R a ellos, e incluso usar otros argumentos formales. La siguiente función, `normaliza`, escala un vector. Los argumentos `m` y `s` son, por defecto, la media y la desviación estándar del primer argumento, de modo que el vector devuelto tendrá una  media de `0` y una desviación estándar de `1`:"
   ]
  },
  {
   "cell_type": "code",
   "execution_count": 24,
   "metadata": {
    "collapsed": true,
    "deletable": true,
    "editable": true
   },
   "outputs": [],
   "source": [
    "normaliza <- function(x, m = mean(x), s = sd(x)){\n",
    "    (x - m) / s\n",
    "}\n",
    "normalizado <- normaliza(c(1, 3, 6, 10, 15))"
   ]
  },
  {
   "cell_type": "code",
   "execution_count": 25,
   "metadata": {
    "collapsed": false,
    "deletable": true,
    "editable": true
   },
   "outputs": [
    {
     "data": {
      "text/html": [
       "-5.57279916657549e-18"
      ],
      "text/latex": [
       "-5.57279916657549e-18"
      ],
      "text/markdown": [
       "-5.57279916657549e-18"
      ],
      "text/plain": [
       "[1] -5.572799e-18"
      ]
     },
     "metadata": {},
     "output_type": "display_data"
    }
   ],
   "source": [
    "mean(normalizado)"
   ]
  },
  {
   "cell_type": "code",
   "execution_count": 26,
   "metadata": {
    "collapsed": false,
    "deletable": true,
    "editable": true
   },
   "outputs": [
    {
     "data": {
      "text/html": [
       "1"
      ],
      "text/latex": [
       "1"
      ],
      "text/markdown": [
       "1"
      ],
      "text/plain": [
       "[1] 1"
      ]
     },
     "metadata": {},
     "output_type": "display_data"
    }
   ],
   "source": [
    "sd(normalizado)"
   ]
  },
  {
   "cell_type": "markdown",
   "metadata": {
    "deletable": true,
    "editable": true
   },
   "source": [
    "Hay un pequeño problema con nuestra función de normalización, ya que si alguno de los elementos de `x` son valores `NA`, no funcionaria:"
   ]
  },
  {
   "cell_type": "code",
   "execution_count": 27,
   "metadata": {
    "collapsed": false,
    "deletable": true,
    "editable": true
   },
   "outputs": [
    {
     "data": {
      "text/html": [
       "<ol class=list-inline>\n",
       "\t<li>NA</li>\n",
       "\t<li>NA</li>\n",
       "\t<li>NA</li>\n",
       "\t<li>NA</li>\n",
       "\t<li>NA</li>\n",
       "</ol>\n"
      ],
      "text/latex": [
       "\\begin{enumerate*}\n",
       "\\item NA\n",
       "\\item NA\n",
       "\\item NA\n",
       "\\item NA\n",
       "\\item NA\n",
       "\\end{enumerate*}\n"
      ],
      "text/markdown": [
       "1. NA\n",
       "2. NA\n",
       "3. NA\n",
       "4. NA\n",
       "5. NA\n",
       "\n",
       "\n"
      ],
      "text/plain": [
       "[1] NA NA NA NA NA"
      ]
     },
     "metadata": {},
     "output_type": "display_data"
    }
   ],
   "source": [
    "normaliza(c(1, 3, 6, 10, NA))"
   ]
  },
  {
   "cell_type": "markdown",
   "metadata": {
    "deletable": true,
    "editable": true
   },
   "source": [
    "Si hay elementos de un vector faltante, entonces por defecto, `mean` y `sd` devolverán `NA`. Por consiguiente, nuestra función `normaliza` devuelve valores de `NA` en todas partes. Podría ser preferible tener la opción de devolver solamente los valores de `NA` donde la entrada fue `NA`. \n",
    "\n",
    "Tanto `mean` como `sd` tienen un argumento, `na.rm`, que nos permite eliminar los valores faltantes antes de que se produzcan los cálculos. Para evitar todos los valores de `NA`, podríamos incluir tal argumento en `normalize`:"
   ]
  },
  {
   "cell_type": "code",
   "execution_count": 28,
   "metadata": {
    "collapsed": false,
    "deletable": true,
    "editable": true
   },
   "outputs": [
    {
     "data": {
      "text/html": [
       "<ol class=list-inline>\n",
       "\t<li>NA</li>\n",
       "\t<li>NA</li>\n",
       "\t<li>NA</li>\n",
       "\t<li>NA</li>\n",
       "\t<li>NA</li>\n",
       "</ol>\n"
      ],
      "text/latex": [
       "\\begin{enumerate*}\n",
       "\\item NA\n",
       "\\item NA\n",
       "\\item NA\n",
       "\\item NA\n",
       "\\item NA\n",
       "\\end{enumerate*}\n"
      ],
      "text/markdown": [
       "1. NA\n",
       "2. NA\n",
       "3. NA\n",
       "4. NA\n",
       "5. NA\n",
       "\n",
       "\n"
      ],
      "text/plain": [
       "[1] NA NA NA NA NA"
      ]
     },
     "metadata": {},
     "output_type": "display_data"
    }
   ],
   "source": [
    "normaliza <- function(x, m = mean(x, na.rm = na.rm),\n",
    "                      s = sd(x, na.rm = na.rm), na.rm = FALSE)\n",
    "{\n",
    "    (x - m) / s\n",
    "}\n",
    "normaliza(c(1, 3, 6, 10, NA))"
   ]
  },
  {
   "cell_type": "code",
   "execution_count": 29,
   "metadata": {
    "collapsed": false,
    "deletable": true,
    "editable": true
   },
   "outputs": [
    {
     "data": {
      "text/html": [
       "<ol class=list-inline>\n",
       "\t<li>-1.0215078369105</li>\n",
       "\t<li>-0.510753918455249</li>\n",
       "\t<li>0.255376959227625</li>\n",
       "\t<li>1.27688479613812</li>\n",
       "\t<li>NA</li>\n",
       "</ol>\n"
      ],
      "text/latex": [
       "\\begin{enumerate*}\n",
       "\\item -1.0215078369105\n",
       "\\item -0.510753918455249\n",
       "\\item 0.255376959227625\n",
       "\\item 1.27688479613812\n",
       "\\item NA\n",
       "\\end{enumerate*}\n"
      ],
      "text/markdown": [
       "1. -1.0215078369105\n",
       "2. -0.510753918455249\n",
       "3. 0.255376959227625\n",
       "4. 1.27688479613812\n",
       "5. NA\n",
       "\n",
       "\n"
      ],
      "text/plain": [
       "[1] -1.0215078 -0.5107539  0.2553770  1.2768848         NA"
      ]
     },
     "metadata": {},
     "output_type": "display_data"
    }
   ],
   "source": [
    "normaliza(c(1, 3, 6, 10, NA), na.rm = TRUE)"
   ]
  },
  {
   "cell_type": "markdown",
   "metadata": {
    "deletable": true,
    "editable": true
   },
   "source": [
    "Esto funciona, pero la sintaxis es un poco simple. Para ahorrarnos tener que escribir explícitamente los nombres de los argumentos que no son realmente utilizados por la función (na.rm sólo se pasa a  `mean` y `sd`), R tiene un argumento especial, `...` , que contiene todos los argumentos que no coinciden con la posición o el nombre:"
   ]
  },
  {
   "cell_type": "code",
   "execution_count": 30,
   "metadata": {
    "collapsed": false,
    "deletable": true,
    "editable": true
   },
   "outputs": [
    {
     "data": {
      "text/html": [
       "<ol class=list-inline>\n",
       "\t<li>NA</li>\n",
       "\t<li>NA</li>\n",
       "\t<li>NA</li>\n",
       "\t<li>NA</li>\n",
       "\t<li>NA</li>\n",
       "</ol>\n"
      ],
      "text/latex": [
       "\\begin{enumerate*}\n",
       "\\item NA\n",
       "\\item NA\n",
       "\\item NA\n",
       "\\item NA\n",
       "\\item NA\n",
       "\\end{enumerate*}\n"
      ],
      "text/markdown": [
       "1. NA\n",
       "2. NA\n",
       "3. NA\n",
       "4. NA\n",
       "5. NA\n",
       "\n",
       "\n"
      ],
      "text/plain": [
       "[1] NA NA NA NA NA"
      ]
     },
     "metadata": {},
     "output_type": "display_data"
    }
   ],
   "source": [
    "normaliza <- function(x, m = mean(x, ...), s = sd(x, ...), ...)\n",
    "{\n",
    "    (x - m) / s\n",
    "}\n",
    "normaliza(c(1, 3, 6, 10, NA))"
   ]
  },
  {
   "cell_type": "code",
   "execution_count": 31,
   "metadata": {
    "collapsed": false,
    "deletable": true,
    "editable": true
   },
   "outputs": [
    {
     "data": {
      "text/html": [
       "<ol class=list-inline>\n",
       "\t<li>-1.0215078369105</li>\n",
       "\t<li>-0.510753918455249</li>\n",
       "\t<li>0.255376959227625</li>\n",
       "\t<li>1.27688479613812</li>\n",
       "\t<li>NA</li>\n",
       "</ol>\n"
      ],
      "text/latex": [
       "\\begin{enumerate*}\n",
       "\\item -1.0215078369105\n",
       "\\item -0.510753918455249\n",
       "\\item 0.255376959227625\n",
       "\\item 1.27688479613812\n",
       "\\item NA\n",
       "\\end{enumerate*}\n"
      ],
      "text/markdown": [
       "1. -1.0215078369105\n",
       "2. -0.510753918455249\n",
       "3. 0.255376959227625\n",
       "4. 1.27688479613812\n",
       "5. NA\n",
       "\n",
       "\n"
      ],
      "text/plain": [
       "[1] -1.0215078 -0.5107539  0.2553770  1.2768848         NA"
      ]
     },
     "metadata": {},
     "output_type": "display_data"
    }
   ],
   "source": [
    "normaliza(c(1, 3, 6, 10, NA), na.rm = TRUE)"
   ]
  },
  {
   "cell_type": "markdown",
   "metadata": {
    "deletable": true,
    "editable": true
   },
   "source": [
    "Ahora en la llamada a `normaliza(c (1, 3, 6, 10, NA), na.rm = TRUE)`, el argumento `na.rm` no coincide con ninguno de los argumentos formales de `normaliza`, ya que no es `x` o `m` o `s`. Eso significa que se almacena en el  argumento `...` de `normaliza`. Cuando evaluamos `m`, la  expresión `mean(x, ...)` es ahora `mean(x, na.rm = TRUE)`.\n",
    "\n",
    "Si esto no está claro en este momento, no hay que preocuparse. Cómo funciona esto es un tema avanzado y la mayoría de las veces no tenemos que preocuparnos por ello. Por ahora, solo se necesita saber que  se puede usar  `...` para pasar argumentos a subfunciones."
   ]
  },
  {
   "cell_type": "markdown",
   "metadata": {
    "deletable": true,
    "editable": true
   },
   "source": [
    "### Pasar funciones desde y hacia otras funciones\n",
    "\n",
    "Las funciones se pueden utilizar al igual que otros tipos de variables, por lo que podemos pasarlas como argumentos a otras funciones y devolverlas desde funciones. Un ejemplo común de una función que toma otra función como argumento es `do.call`. Esta función proporciona una sintaxis alternativa para llamar a otras funciones, permitiéndonos pasar los argumentos como una lista, en lugar de uno a la vez:"
   ]
  },
  {
   "cell_type": "code",
   "execution_count": 32,
   "metadata": {
    "collapsed": false,
    "deletable": true,
    "editable": true
   },
   "outputs": [
    {
     "data": {
      "text/html": [
       "5"
      ],
      "text/latex": [
       "5"
      ],
      "text/markdown": [
       "5"
      ],
      "text/plain": [
       "[1] 5"
      ]
     },
     "metadata": {},
     "output_type": "display_data"
    }
   ],
   "source": [
    "do.call(hipotenusa, list(x = 3, y = 4)) # como hipotenusa(3,4)"
   ]
  },
  {
   "cell_type": "markdown",
   "metadata": {
    "deletable": true,
    "editable": true
   },
   "source": [
    "Supongamos que tenemos una lista de argumentos de función:"
   ]
  },
  {
   "cell_type": "code",
   "execution_count": 33,
   "metadata": {
    "collapsed": true,
    "deletable": true,
    "editable": true
   },
   "outputs": [],
   "source": [
    "args <- list(1:10, na.rm = TRUE)"
   ]
  },
  {
   "cell_type": "markdown",
   "metadata": {
    "deletable": true,
    "editable": true
   },
   "source": [
    "Para enviar esa lista a  `mean()`, se necesita `do.call()`:"
   ]
  },
  {
   "cell_type": "code",
   "execution_count": 34,
   "metadata": {
    "collapsed": false,
    "deletable": true,
    "editable": true
   },
   "outputs": [
    {
     "data": {
      "text/html": [
       "5.5"
      ],
      "text/latex": [
       "5.5"
      ],
      "text/markdown": [
       "5.5"
      ],
      "text/plain": [
       "[1] 5.5"
      ]
     },
     "metadata": {},
     "output_type": "display_data"
    }
   ],
   "source": [
    "do.call(mean, args)"
   ]
  },
  {
   "cell_type": "code",
   "execution_count": 35,
   "metadata": {
    "collapsed": false,
    "deletable": true,
    "editable": true
   },
   "outputs": [
    {
     "data": {
      "text/html": [
       "5.5"
      ],
      "text/latex": [
       "5.5"
      ],
      "text/markdown": [
       "5.5"
      ],
      "text/plain": [
       "[1] 5.5"
      ]
     },
     "metadata": {},
     "output_type": "display_data"
    }
   ],
   "source": [
    "# Equivalente a \n",
    "\n",
    "mean(1:10, na.rm = TRUE)"
   ]
  },
  {
   "cell_type": "markdown",
   "metadata": {
    "collapsed": true,
    "deletable": true,
    "editable": true
   },
   "source": [
    "También podemos pasar funciones de forma anónima:"
   ]
  },
  {
   "cell_type": "code",
   "execution_count": 36,
   "metadata": {
    "collapsed": false,
    "deletable": true,
    "editable": true
   },
   "outputs": [
    {
     "data": {
      "text/html": [
       "<ol class=list-inline>\n",
       "\t<li>6</li>\n",
       "\t<li>6</li>\n",
       "\t<li>6</li>\n",
       "\t<li>6</li>\n",
       "\t<li>6</li>\n",
       "</ol>\n"
      ],
      "text/latex": [
       "\\begin{enumerate*}\n",
       "\\item 6\n",
       "\\item 6\n",
       "\\item 6\n",
       "\\item 6\n",
       "\\item 6\n",
       "\\end{enumerate*}\n"
      ],
      "text/markdown": [
       "1. 6\n",
       "2. 6\n",
       "3. 6\n",
       "4. 6\n",
       "5. 6\n",
       "\n",
       "\n"
      ],
      "text/plain": [
       "[1] 6 6 6 6 6"
      ]
     },
     "metadata": {},
     "output_type": "display_data"
    }
   ],
   "source": [
    "x_mas_y <- function(x, y) x + y\n",
    "do.call(x_mas_y, list(1:5, 5:1))"
   ]
  },
  {
   "cell_type": "code",
   "execution_count": 37,
   "metadata": {
    "collapsed": false,
    "deletable": true,
    "editable": true
   },
   "outputs": [
    {
     "data": {
      "text/html": [
       "<ol class=list-inline>\n",
       "\t<li>6</li>\n",
       "\t<li>6</li>\n",
       "\t<li>6</li>\n",
       "\t<li>6</li>\n",
       "\t<li>6</li>\n",
       "</ol>\n"
      ],
      "text/latex": [
       "\\begin{enumerate*}\n",
       "\\item 6\n",
       "\\item 6\n",
       "\\item 6\n",
       "\\item 6\n",
       "\\item 6\n",
       "\\end{enumerate*}\n"
      ],
      "text/markdown": [
       "1. 6\n",
       "2. 6\n",
       "3. 6\n",
       "4. 6\n",
       "5. 6\n",
       "\n",
       "\n"
      ],
      "text/plain": [
       "[1] 6 6 6 6 6"
      ]
     },
     "metadata": {},
     "output_type": "display_data"
    }
   ],
   "source": [
    "# es lo mismo\n",
    "\n",
    "do.call(function(x, y) x + y, list(1:5, 5:1))"
   ]
  },
  {
   "cell_type": "markdown",
   "metadata": {
    "deletable": true,
    "editable": true
   },
   "source": [
    "Las funciones que devuelven funciones son más raras, pero no menos válidas. La función `ecdf` devuelve la función empírica de distribución acumulativa de un vector:"
   ]
  },
  {
   "cell_type": "code",
   "execution_count": 38,
   "metadata": {
    "collapsed": false,
    "deletable": true,
    "editable": true
   },
   "outputs": [
    {
     "data": {
      "text/html": [
       "<pre class=language-r><code>structure(function (v) \n",
       ".approxfun(x, y, v, method, yleft, yright, f), class = c(\"ecdf\", \n",
       "\"stepfun\", \"function\"), call = ecdf(rnorm(50)))</code></pre>"
      ],
      "text/latex": [
       "\\begin{minted}{r}\n",
       "structure(function (v) \n",
       ".approxfun(x, y, v, method, yleft, yright, f), class = c(\"ecdf\", \n",
       "\"stepfun\", \"function\"), call = ecdf(rnorm(50)))\n",
       "\\end{minted}"
      ],
      "text/markdown": [
       "```r\n",
       "structure(function (v) \n",
       ".approxfun(x, y, v, method, yleft, yright, f), class = c(\"ecdf\", \n",
       "\"stepfun\", \"function\"), call = ecdf(rnorm(50)))\n",
       "```"
      ],
      "text/plain": [
       "Empirical CDF \n",
       "Call: ecdf(rnorm(50))\n",
       " x[1:50] = -2.6049, -1.9331, -1.9316,  ..., 1.1871, 1.2417"
      ]
     },
     "metadata": {},
     "output_type": "display_data"
    }
   ],
   "source": [
    "(emp_cum_dist_fn <- ecdf(rnorm(50)))"
   ]
  },
  {
   "cell_type": "code",
   "execution_count": 39,
   "metadata": {
    "collapsed": false,
    "deletable": true,
    "editable": true
   },
   "outputs": [
    {
     "data": {
      "text/html": [
       "TRUE"
      ],
      "text/latex": [
       "TRUE"
      ],
      "text/markdown": [
       "TRUE"
      ],
      "text/plain": [
       "[1] TRUE"
      ]
     },
     "metadata": {},
     "output_type": "display_data"
    }
   ],
   "source": [
    "is.function(emp_cum_dist_fn)"
   ]
  },
  {
   "cell_type": "code",
   "execution_count": 40,
   "metadata": {
    "collapsed": false,
    "deletable": true,
    "editable": true
   },
   "outputs": [
    {
     "data": {
      "image/png": "[encoded data removed]",
      "text/plain": [
       "Plot with title “ecdf(rnorm(50))”"
      ]
     },
     "metadata": {},
     "output_type": "display_data"
    }
   ],
   "source": [
    "plot(emp_cum_dist_fn)"
   ]
  },
  {
   "cell_type": "markdown",
   "metadata": {
    "deletable": true,
    "editable": true
   },
   "source": [
    "### Alcance de una  variable\n",
    "\n",
    "El alcance de una variable es el conjunto de lugares desde donde se puede ver la variable. Por ejemplo, cuando se define una variable dentro de una función, el resto de las sentencias de esa función tendrán acceso a esa variable. En `R` (pero no en  `S`), las subfunciones también tendrán acceso a esa variable. En este ejemplo, la función `f` toma una variable `x` y la pasa a la función `g`. `f` también define una variable `y`, que está dentro del alcance de `g`, ya que `g` es una subfunción de `f`. Así, aunque `y` no está definido dentro de `g`, el ejemplo funciona:"
   ]
  },
  {
   "cell_type": "code",
   "execution_count": 41,
   "metadata": {
    "collapsed": false,
    "deletable": true,
    "editable": true
   },
   "outputs": [
    {
     "data": {
      "text/html": [
       "1.61803398874989"
      ],
      "text/latex": [
       "1.61803398874989"
      ],
      "text/markdown": [
       "1.61803398874989"
      ],
      "text/plain": [
       "[1] 1.618034"
      ]
     },
     "metadata": {},
     "output_type": "display_data"
    }
   ],
   "source": [
    "f <- function(x)\n",
    "{\n",
    "    y <- 1\n",
    "    g <- function(x)\n",
    "    {\n",
    "        (x + y) / 2 #y es usada, pero no es un argumento formal de  g\n",
    "    }\n",
    "    g(x)\n",
    "} \n",
    "f(sqrt(5))  #¡Funciona! y se encuentra mágicamente en el entorno de f"
   ]
  },
  {
   "cell_type": "markdown",
   "metadata": {
    "deletable": true,
    "editable": true
   },
   "source": [
    "Si modificamos el ejemplo para definir `g` fuera de `f`, por lo que no es una subfunción de `f`, el ejemplo arrojará un error, ya que `R` no puede encontrar `y`:"
   ]
  },
  {
   "cell_type": "code",
   "execution_count": 42,
   "metadata": {
    "collapsed": false,
    "deletable": true,
    "editable": true
   },
   "outputs": [
    {
     "ename": "ERROR",
     "evalue": "Error in x + y: argumento no-numérico para operador binario\n",
     "output_type": "error",
     "traceback": [
      "Error in x + y: argumento no-numérico para operador binario\nTraceback:\n",
      "1. f(sqrt(5))",
      "2. g(x)   # at line 4 of file <text>"
     ]
    }
   ],
   "source": [
    "f <- function(x)\n",
    "{\n",
    "    y <- 1\n",
    "    g(x)\n",
    "}\n",
    "g <- function(x)\n",
    "{\n",
    "    (x + y) / 2\n",
    "} \n",
    "f(sqrt(5))"
   ]
  },
  {
   "cell_type": "markdown",
   "metadata": {
    "deletable": true,
    "editable": true
   },
   "source": [
    "Las funciones `get` y `exists` buscan variables tanto en entornos padres como en el entorno actual. El alcance  de variables funciona exactamente de la misma manera: `R` intentará encontrar variables en el entorno actual y, si no las encuentra, buscará en el entorno padre  y así sucesivamente hasta que llegue al  entorno global si fuese necesario. Las variables definidas en el entorno global se pueden ver desde cualquier lugar, por lo que se llaman variables globales.\n",
    "\n",
    "En nuestro primer ejemplo, el entorno que pertenece a `f` es el entorno padre del entorno que pertenece a `g`, por lo que se puede encontrar `y`. En el segundo ejemplo, el entorno padre de `g` es el entorno global, que no contiene una variable `y`, por lo que se genera un error.\n",
    "\n",
    "Este sistema de alcances, donde las variables pueden ser encontradas en los entornos de los padres a menudo es útil, pero también trae el potencial de daño y código horrible, inasequible. Considere la siguiente función, `h`:"
   ]
  },
  {
   "cell_type": "code",
   "execution_count": 43,
   "metadata": {
    "collapsed": true,
    "deletable": true,
    "editable": true
   },
   "outputs": [],
   "source": [
    "h <- function(x)\n",
    "{\n",
    "    x * y\n",
    "}"
   ]
  },
  {
   "cell_type": "markdown",
   "metadata": {
    "deletable": true,
    "editable": true
   },
   "source": [
    "Parece que no debería funcionar, ya que acepta un único argumento, `x`, pero utiliza dos argumentos, `x` e `y` en su cuerpo. Vamos a intentarlo, con un espacio de trabajo limpio para el usuario:"
   ]
  },
  {
   "cell_type": "code",
   "execution_count": 44,
   "metadata": {
    "collapsed": false,
    "deletable": true,
    "editable": true
   },
   "outputs": [
    {
     "ename": "ERROR",
     "evalue": "Error in x * y: argumento no-numérico para operador binario\n",
     "output_type": "error",
     "traceback": [
      "Error in x * y: argumento no-numérico para operador binario\nTraceback:\n",
      "1. h(9)"
     ]
    }
   ],
   "source": [
    "h(9)"
   ]
  },
  {
   "cell_type": "markdown",
   "metadata": {
    "deletable": true,
    "editable": true
   },
   "source": [
    "Hasta ahora, nuestra intuición se mantiene, `y` no está definido, por lo que la función produce un error. Ahora miremoos lo que sucede si definimos `y` en el espacio de trabajo del usuario:"
   ]
  },
  {
   "cell_type": "code",
   "execution_count": 45,
   "metadata": {
    "collapsed": false,
    "deletable": true,
    "editable": true
   },
   "outputs": [
    {
     "data": {
      "text/html": [
       "144"
      ],
      "text/latex": [
       "144"
      ],
      "text/markdown": [
       "144"
      ],
      "text/plain": [
       "[1] 144"
      ]
     },
     "metadata": {},
     "output_type": "display_data"
    }
   ],
   "source": [
    "y <- 16\n",
    "h(9)"
   ]
  },
  {
   "cell_type": "markdown",
   "metadata": {
    "deletable": true,
    "editable": true
   },
   "source": [
    "Cuando `R` no encuentra una variable denominada `y` en el entorno perteneciente a `h`, busca en el padre  de `h`: el espacio de trabajo del usuario (entorno global), donde se define `y`, por lo que  el producto se calcula correctamente.\n",
    "\n",
    "Las variables globales deben utilizarse con moderación, ya que hacen que sea muy fácil escribir mal código. En esta función modificada `h2`, `y` se define aleatoriamente localmente la mitad de las veces. Con `y` definido en el espacio de trabajo del usuario, cuando  evaluamos `y` esta variable será aleatoriamente local o global!."
   ]
  },
  {
   "cell_type": "code",
   "execution_count": 46,
   "metadata": {
    "collapsed": true,
    "deletable": true,
    "editable": true
   },
   "outputs": [],
   "source": [
    "h2 <- function(x)\n",
    "{\n",
    "    if(runif(1) > 0.5) y <- 12\n",
    "        x * y\n",
    "}"
   ]
  },
  {
   "cell_type": "markdown",
   "metadata": {
    "deletable": true,
    "editable": true
   },
   "source": [
    "Vamos a utilizar `replicate` para ejecutar el código varias veces para ver el resultado:"
   ]
  },
  {
   "cell_type": "code",
   "execution_count": 47,
   "metadata": {
    "collapsed": false,
    "deletable": true,
    "editable": true
   },
   "outputs": [
    {
     "data": {
      "text/html": [
       "<ol class=list-inline>\n",
       "\t<li>108</li>\n",
       "\t<li>108</li>\n",
       "\t<li>108</li>\n",
       "\t<li>144</li>\n",
       "\t<li>144</li>\n",
       "\t<li>108</li>\n",
       "\t<li>108</li>\n",
       "\t<li>108</li>\n",
       "\t<li>108</li>\n",
       "\t<li>144</li>\n",
       "</ol>\n"
      ],
      "text/latex": [
       "\\begin{enumerate*}\n",
       "\\item 108\n",
       "\\item 108\n",
       "\\item 108\n",
       "\\item 144\n",
       "\\item 144\n",
       "\\item 108\n",
       "\\item 108\n",
       "\\item 108\n",
       "\\item 108\n",
       "\\item 144\n",
       "\\end{enumerate*}\n"
      ],
      "text/markdown": [
       "1. 108\n",
       "2. 108\n",
       "3. 108\n",
       "4. 144\n",
       "5. 144\n",
       "6. 108\n",
       "7. 108\n",
       "8. 108\n",
       "9. 108\n",
       "10. 144\n",
       "\n",
       "\n"
      ],
      "text/plain": [
       " [1] 108 108 108 144 144 108 108 108 108 144"
      ]
     },
     "metadata": {},
     "output_type": "display_data"
    }
   ],
   "source": [
    "replicate(10, h2(9))"
   ]
  },
  {
   "cell_type": "markdown",
   "metadata": {
    "deletable": true,
    "editable": true
   },
   "source": [
    "Cuando el número aleatorio uniforme (entre `0` y `1`) generado por `runif` es mayor que `0.5`, se le asigna una variable local `y` al valor 12. De lo contrario, se utiliza el valor global de `16`.\n",
    "\n",
    "Como se habrá notado, es muy fácil crear errores ocultos en el código haciendo cosas como esta. Normalmente es mejor pasar explícitamente todas las variables que necesitamos en una función."
   ]
  },
  {
   "cell_type": "code",
   "execution_count": null,
   "metadata": {
    "collapsed": true,
    "deletable": true,
    "editable": true
   },
   "outputs": [],
   "source": []
  }
 ],
 "metadata": {
  "kernelspec": {
   "display_name": "R",
   "language": "R",
   "name": "ir"
  },
  "language_info": {
   "codemirror_mode": "r",
   "file_extension": ".r",
   "mimetype": "text/x-r-source",
   "name": "R",
   "pygments_lexer": "r",
   "version": "3.3.2"
  }
 },
 "nbformat": 4,
 "nbformat_minor": 1
}
