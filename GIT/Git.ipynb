{
 "cells": [
  {
   "cell_type": "markdown",
   "metadata": {},
   "source": [
    "## ¿De qué trata GIT?\n",
    "\n",
    "* Git es un sistema de control de versiones distribuido de código abierto y libre diseñado para manejar  proyectos pequeños a muy grandes con rapidez y eficiencia.\n",
    "\n",
    "\n",
    "* Git se basa en el desarrollo distribuido de un software en el que más de un desarrollador puede tener acceso al código fuente de una aplicación específica y puede modificar los cambios que pueden ser visto por otros desarrolladores.\n",
    "\n",
    "\n",
    "* Inicialmente fue  diseñado y desarrollado por Linus Torvalds para el desarrollo del kernel de Linux en 2005.\n",
    "\n",
    "\n",
    "* Cada directorio de trabajo de git es un repositorio completo con historial completo y capacidades completas de seguimiento de versiones, independientemente del acceso a la red o de un servidor central.\n",
    "\n",
    "\n",
    "* Git permite que un equipo de personas trabaje juntas, todas usando los mismos archivos. Y ayuda al equipo a lidiar con la confusión que tiende a suceder cuando varias personas están editando los mismos archivos."
   ]
  },
  {
   "cell_type": "code",
   "execution_count": 1,
   "metadata": {},
   "outputs": [
    {
     "name": "stdout",
     "output_type": "stream",
     "text": [
      "git version 2.7.4\n"
     ]
    }
   ],
   "source": [
    "git --version"
   ]
  },
  {
   "cell_type": "markdown",
   "metadata": {},
   "source": [
    "## ¿Por qué utilizar el software de control de versiones?\n",
    "\n",
    "* El software de control de versiones permite al usuario tener  **versiones** de un proyecto, que muestran los cambios que se hicieron al código a lo largo del tiempo, y permite al usuario retroceder si es necesario y deshacer esos cambios.\n",
    "\n",
    "\n",
    "* Esta capacidad por sí sola  de ser capaz de comparar dos versiones o revertir los cambios, lo hace bastante valioso cuando se trabaja en proyectos más grandes.\n",
    "\n",
    "\n",
    "* Todas las versiones se almacenan en un servidor central y los desarrolladores individuales descargan y envían los cambios a este servidor."
   ]
  },
  {
   "cell_type": "markdown",
   "metadata": {},
   "source": [
    "## Características de GIT"
   ]
  },
  {
   "cell_type": "markdown",
   "metadata": {},
   "source": [
    "### 1.  Fuerte apoyo al desarrollo no lineal\n",
    "\n",
    "* Git soporta ramificación rápida y  fusión, e incluye herramientas específicas para visualizar y navegar un historial de desarrollo no lineal.\n",
    "\n",
    "\n",
    "* Una suposición importante en Git es que un cambio se fusionará con más frecuencia de lo que está escrito.\n",
    "\n",
    "\n",
    "* Las ramas en Git son muy ligeras."
   ]
  },
  {
   "cell_type": "code",
   "execution_count": 2,
   "metadata": {},
   "outputs": [
    {
     "name": "stdout",
     "output_type": "stream",
     "text": [
      "\u001b[31m!\u001b[m [gh-pages] Update index.md\n",
      " \u001b[32m*\u001b[m [master] Update README.md\n",
      "--\n",
      "\u001b[31m+\u001b[m\u001b[32m \u001b[m [gh-pages] Update index.md\n",
      "\u001b[31m+\u001b[m\u001b[32m \u001b[m [gh-pages^] Set theme jekyll-theme-dinky\n",
      "\u001b[31m+\u001b[m\u001b[32m \u001b[m [gh-pages~2] Eliminando archivos..\n",
      "\u001b[31m+\u001b[m\u001b[32m \u001b[m [gh-pages~3] Archivo prueba\n",
      "\u001b[31m+\u001b[m\u001b[32m \u001b[m [gh-pages~4] Archivo prueba\n",
      "\u001b[31m+\u001b[m\u001b[32m \u001b[m [gh-pages~5] Archivo prueba\n",
      "\u001b[31m+\u001b[m\u001b[32m \u001b[m [gh-pages~6] Archivo prueba\n",
      "\u001b[31m+\u001b[m\u001b[32m \u001b[m [gh-pages~7] Archivo prueba\n",
      "\u001b[31m+\u001b[m\u001b[32m \u001b[m [gh-pages~8] Archivo prueba\n",
      "\u001b[31m+\u001b[m\u001b[32m \u001b[m [gh-pages~9] Archivo prueba\n",
      "\u001b[31m+\u001b[m\u001b[32m \u001b[m [gh-pages~10] Update _config.yml\n",
      "\u001b[31m+\u001b[m\u001b[32m \u001b[m [gh-pages~11] Update _config.yml\n",
      "\u001b[31m+\u001b[m\u001b[32m \u001b[m [gh-pages~12] Update _config.yml\n",
      "\u001b[31m+\u001b[m\u001b[32m \u001b[m [gh-pages~13] Update index.md\n",
      "\u001b[31m+\u001b[m\u001b[32m \u001b[m [gh-pages~14] Update index.md\n",
      "\u001b[31m+\u001b[m\u001b[32m \u001b[m [gh-pages~15] Update _config.yml\n",
      "\u001b[31m+\u001b[m\u001b[32m \u001b[m [gh-pages~16] Update index.md\n",
      "\u001b[31m+\u001b[m\u001b[32m \u001b[m [gh-pages~17] Eliminando archivos\n",
      "\u001b[31m+\u001b[m\u001b[32m \u001b[m [gh-pages~18] Eliminando archivos\n",
      "\u001b[31m+\u001b[m\u001b[32m \u001b[m [gh-pages~19] Update README.md\n",
      "\u001b[31m+\u001b[m\u001b[32m \u001b[m [gh-pages~20] Update README.md\n",
      "\u001b[31m+\u001b[m\u001b[32m \u001b[m [gh-pages~21] Upgrade index.md\n",
      "\u001b[31m+\u001b[m\u001b[32m \u001b[m [gh-pages~22] Set theme jekyll-theme-minimal\n",
      "\u001b[31m \u001b[m\u001b[32m*\u001b[m [master] Update README.md\n",
      "\u001b[31m+\u001b[m\u001b[32m*\u001b[m [gh-pages~23] Update README.md\n"
     ]
    }
   ],
   "source": [
    "cd /home/c-lara/Aplicaciones-Python\n",
    "git show-branch"
   ]
  },
  {
   "cell_type": "markdown",
   "metadata": {},
   "source": [
    "### 2.  Desarrollo distribuido\n",
    "\n",
    "* Git proporciona a cada desarrollador una copia local de todo el historial de desarrollo, y los cambios se copian de un repositorio a otro.\n",
    "    \n",
    "\n",
    "* Los cambios pueden fusionarse de la misma manera que una rama   desarrollada localmente de manera muy eficiente y efectiva.\n"
   ]
  },
  {
   "cell_type": "markdown",
   "metadata": {},
   "source": [
    "### 3. Compatibilidad con sistemas y protocolos existentes\n",
    "\n",
    "* Git tiene una emulación del servidor [CVS](https://en.wikipedia.org/wiki/Concurrent_Versions_System), que permite el uso de clientes CVS existentes y complementos IDE para acceder a los repositorios de Git.\n"
   ]
  },
  {
   "cell_type": "markdown",
   "metadata": {},
   "source": [
    "### 4. Manejo eficiente de grandes proyectos\n",
    "\n",
    "* Git es muy rápido y escalable en comparación con otros sistemas de control de versiones.\n",
    "\n",
    "\n",
    "* El poder de recuperación de un repositorio local es mucho más rápido que lo que es posiblemente  con un servidor remoto."
   ]
  },
  {
   "cell_type": "markdown",
   "metadata": {},
   "source": [
    "### 5. Aseguramiento de datos\n",
    "\n",
    "* El historial de Git se almacena de tal manera que el ID de una versión particular depende de la historia de desarrollo completa que conduce a ese commit.\n",
    "\n",
    "\n",
    "* Una vez publicada, no es posible cambiar las versiones antiguas sin que se note.\n",
    "\n",
    "   "
   ]
  },
  {
   "cell_type": "markdown",
   "metadata": {},
   "source": [
    "### 6. Recojo automática de basura\n",
    "\n",
    "* Git realiza automáticamente la recolección de basura cuando se han creado suficientes objetos **sueltos** en el repositorio.\n",
    "\n",
    "\n",
    "* La recolección de basura se puede llamar explícitamente usando `git gc -prune`.\n"
   ]
  },
  {
   "cell_type": "code",
   "execution_count": 3,
   "metadata": {},
   "outputs": [
    {
     "name": "stdout",
     "output_type": "stream",
     "text": [
      "Counting objects: 1000, done.\n",
      "Delta compression using up to 4 threads.\n",
      "Compressing objects: 100% (538/538), done.\n",
      "Writing objects: 100% (1000/1000), done.\n",
      "Total 1000 (delta 420), reused 1000 (delta 420)\n"
     ]
    }
   ],
   "source": [
    "git gc --prune"
   ]
  },
  {
   "cell_type": "markdown",
   "metadata": {},
   "source": [
    "### 7.  Empaquetado  de un  objeto periodicamente \n",
    "\n",
    "* Git empaqueta  cada objeto recién creado como un archivo independiente. Utiliza paquetes que almacenan un gran número de objetos en un único archivo (o flujo de bytes de red) denominados **packfile**, delta-comprimidos entre sí.\n",
    " \n",
    " \n",
    "* Se crea un archivo de índice correspondiente para cada archivo del paquete, especificando el desplazamiento de cada objeto en el archivo del paquete.\n",
    "\n",
    "\n",
    "* El proceso de empaquetado puede ser muy costoso computacionalmente.\n",
    "\n",
    "\n",
    "* Git permite que la operación costosa de empaquetado sea diferida hasta más adelante cuando el tiempo no importa.\n",
    "\n",
    "\n",
    "* Git hace el reenpaquetado periódico automáticamente, pero el reempaque manual puede hacerse con el comando `git gc`."
   ]
  },
  {
   "cell_type": "markdown",
   "metadata": {},
   "source": [
    "## Cómo funciona GIT\n",
    "\n",
    "* Un repositorio Git es un almacén de objetos de **clave-valor** donde todos los objetos están indexados por su valor de hash **SHA-1**.\n",
    "\n",
    "    \n",
    "* Todos los commits, archivos, tags y nodos de árbol del sistema de archivos son diferentes tipos de objetos que viven en este repositorio.\n",
    "\n",
    "\n",
    "* Un repositorio de Git es una tabla de hash grande sin provisión hecha para colisiones de hash.\n",
    "\n",
    "\n",
    "* Git trabaja específicamente tomando \"instantáneas\" de archivos."
   ]
  },
  {
   "cell_type": "markdown",
   "metadata": {},
   "source": [
    "### Creación de una cuenta GitHub:\n",
    "\n",
    "* Localiza   [https://github.com/](https://github.com/) e ingrese las credenciales de usuario requeridas en el sitio y luego haga clic en el botón **Sign up for GitHub**.\n",
    "\n",
    "\n",
    "![](g1.png)\n",
    "\n",
    "* Elija un plan que mejor se adapte a tu equipo de trabajo.\n",
    "\n",
    "\n",
    "\n",
    "* A continuación, haga clic en ** Finish Sign Up**. Se ha creado la cuenta. El usuario es redirigido automáticamente a su Dashboard.\n",
    "\n",
    "![](g2.png)"
   ]
  },
  {
   "cell_type": "markdown",
   "metadata": {},
   "source": [
    "### Creación de un nuevo repositorio\n",
    "\n",
    "* Inicia una sesión en tu cuenta de GitHub.\n",
    "\n",
    "\n",
    "* En el panel de control, haga clic en el botón verde que indica **New Repository**.\n",
    "\n",
    "\n",
    "\n",
    "* Asegúrate de verificar la cuenta de  Github, entrando en el correo que se proporcionaste al crear la cuenta.\n",
    "\n",
    "\n",
    "\n",
    "* Una vez realizada la verificación, aparece la siguiente pantalla:\n",
    "\n",
    "\n",
    "* Comienza dando un nombre de repositorio, descripción (opcional) y seleccione el modo de visibilidad y accesibilidad para el repositorio.\n",
    "\n",
    "![](g3.png)\n",
    "\n",
    "\n",
    "* Haga clic en **Create repository**.\n",
    "\n",
    "\n",
    "* El repositorio (en este caso Otros-Archivos es el repositorio) es ahora creado.\n",
    "\n",
    "![](g4.png)\n",
    "\n"
   ]
  },
  {
   "cell_type": "markdown",
   "metadata": {
    "collapsed": true
   },
   "source": [
    "### Subiendo un  archivo  localmente existente a GitHub\n",
    "\n",
    "1 .El sistema debe tener **git** instalado. Para instalar git, consulta [https://git-scm.com/downloads](https://git-scm.com/downloads) Asegúrate  de elegir **Run git** desde la opción de comando de Windows durante la instalación. De lo contrario, abre **git bash** en lugar del paso 2.\n",
    "\n",
    "2 .Abre  el símbolo del sistema (para usuarios de Windows y Linux).\n",
    "\n",
    "3 .Cambia el directorio de trabajo actual al de tu proyecto local. En mi caso el directorio se llama `Otros-Archivos`.\n",
    "\n",
    "4 .Inicialice el directorio local como un repositorio git de diferentes maneras, por ejemplo con:\n",
    "\n",
    "```\n",
    "git init\n",
    "```\n",
    "\n",
    "5 .Se crea una nueva carpeta **.git** en el directorio que se oculta por defecto.\n",
    "\n",
    "![](g5.png)\n",
    "\n",
    "6 . De tener a un directorio vacío agregamos el archivo **README.md**. Agrega los archivos en tu nuevo repositorio local.  \n",
    "\n",
    "```\n",
    "git add .\n",
    "```\n",
    "\n",
    "Esto los sitúa para el primer commit. \n",
    "\n",
    "```\n",
    "git commit -m \"Archivo README para el repositorio\"\n",
    "```\n",
    "\n",
    "![](g6.png)"
   ]
  },
  {
   "cell_type": "markdown",
   "metadata": {},
   "source": [
    "7 .En la parte superior  del repositorio de GitHub en  **Quick setup**,  copia la URL del repositorio remoto.\n",
    "\n",
    "![](g7.png)"
   ]
  },
  {
   "cell_type": "markdown",
   "metadata": {},
   "source": [
    "8 .En el símbolo del sistema o en el Terminal, agrega la dirección URL del repositorio remoto donde se insertará su repositorio local.\n",
    "\n",
    "![](g8.png)"
   ]
  },
  {
   "cell_type": "markdown",
   "metadata": {},
   "source": [
    "9 .Conectamos al repositorio remoto.\n",
    "\n",
    "![](g9.png)"
   ]
  },
  {
   "cell_type": "markdown",
   "metadata": {},
   "source": [
    "10 . Empuje (Push) los cambios en su repositorio local a GitHub. Completa con tu **nombre de usuario** y tu **contraseña** que distes al crear tu cuenta.\n",
    "\n",
    "![](g11.png)"
   ]
  },
  {
   "cell_type": "markdown",
   "metadata": {},
   "source": [
    "11 .Y aquí tienes ...\n",
    "\n",
    "![](g10.png)"
   ]
  },
  {
   "cell_type": "markdown",
   "metadata": {},
   "source": [
    "## Comandos git\n",
    "\n",
    "1 . **git help**\n",
    "\n",
    " Muestra la sección de ayuda de github para diferentes comandos y otros errores.\n",
    "\n",
    "2 . **git config**\n",
    "\n",
    "Realiza las configuraciones básicas en github como tu nombre y correo electrónico.\n",
    "\n",
    "3 . **git config -global user.name \"Cesar-Lara\"**\n",
    "\n",
    "Establece valores de configuración para su nombre de usuario en git.\n",
    "\n",
    "4 . **git config -global user.email claraa@uni.edu.pe**\n",
    "\n",
    "Establece valores de configuración para el correo electrónico de usuario en git.\n",
    "\n",
    "5 .**git config -global color.ui true**\n",
    "\n",
    "Para ver diferentes colores en la línea de comandos para diferentes salidas.\n",
    "\n",
    "6 .**git init**\n",
    "\n",
    "Crea un repositorio git local en nuestra carpeta de trabajo. Esto ayudará a administrar los comandos git para ese repositorio en particular.\n",
    "\n",
    "7 .**git status**\n",
    "\n",
    "Este comando se utiliza para ver lo que ha cambiado desde el último commit. Esto  muestra todos los archivos que se han agregado y modificado y listos para ser aceptado y los archivos que están sin seguimiento.\n",
    "\n",
    "8 . **git add Readme.md**\n",
    "\n",
    "Agrega un archivo Readme.md al área de preparación  para realizar un seguimiento de sus cambios.\n",
    "\n",
    "9 . **git commit -m \"Agregamos un Readme.md\" **\n",
    "\n",
    "Con este comando confirmamos nuestros cambios (tomar una instantánea) y proporcionamos un mensaje para recordar  para una referencia futura.\n",
    "\n",
    "10 .**git log**\n",
    "\n",
    "Comprueba el historial de commits para nuestra referencia.\n",
    "\n",
    "11 .**git clone https://github.com/C-Lara/Otros-Archivos.git**\n",
    "\n",
    "Clona o hace una copia local del repositorio global en tu sistema. (El comando **git** clone descarga el repositorio y crea un remoto denominado como origen que puede comprobarse mediante el comando  **git remote -v**).\n",
    "\n",
    "12 . **git push origen master**\n",
    "\n",
    "Empuja todos los contenidos de nuestro repositorio local que pertenecen a la ramificación maestra al servidor. (repositorio global).\n",
    "\n",
    "13 . **git diff**\n",
    "\n",
    "Averigua qué cambios hiciste desde el último commit.\n",
    "\n",
    "14 . **git add --all**\n",
    "\n",
    "Agrega todos los archivos del directorio actual al área de preparación.\n",
    "\n",
    "15 . **git add * .txt**\n",
    "\n",
    "Agrega todos los archivos de texto del directorio actual al área de preparación..\n",
    "\n",
    "16 . **git add  Archivos/**\n",
    "\n",
    "Agrega todos los archivos de un directorio determinado (Archivos) al área de preparación.\n",
    "\n",
    "17 . **git add \"* .txt\"**\n",
    "\n",
    "Este comando agrega los archivos de texto de todo el proyecto al área de preparación."
   ]
  },
  {
   "cell_type": "code",
   "execution_count": null,
   "metadata": {
    "collapsed": true
   },
   "outputs": [],
   "source": []
  }
 ],
 "metadata": {
  "kernelspec": {
   "display_name": "Bash",
   "language": "bash",
   "name": "bash"
  },
  "language_info": {
   "codemirror_mode": "shell",
   "file_extension": ".sh",
   "mimetype": "text/x-sh",
   "name": "bash"
  }
 },
 "nbformat": 4,
 "nbformat_minor": 2
}
