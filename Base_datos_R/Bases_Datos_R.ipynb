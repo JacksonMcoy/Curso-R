{
 "cells": [
  {
   "cell_type": "markdown",
   "metadata": {},
   "source": [
    "# Bases de Datos con R\n",
    "\n",
    "Referencias:\n",
    "\n",
    "1 .[A primer on SQL de Rahul Batra](https://leanpub.com/aprimeronsql/read).\n",
    "\n",
    "2 .[Databases](https://cran.r-project.org/web/packages/dplyr/vignettes/databases.html).\n",
    "\n",
    "3 .[Data Manipulation with R](http://www.springer.com/us/book/9780387747309), Phil Spector, Springer 2008."
   ]
  },
  {
   "cell_type": "markdown",
   "metadata": {},
   "source": [
    "## Notas de SQL"
   ]
  },
  {
   "cell_type": "markdown",
   "metadata": {
    "collapsed": true
   },
   "source": [
    "## Definiciones\n",
    "\n",
    "\n",
    " **Conjunto de datos univariados**\n",
    "\n",
    "- Un *caso (case)* es uno los varios ítems posibles de interés de un conjunto de datos. Un ejemplo son los individuos de una población.\n",
    "\n",
    "- Una *variable* es una medida o característica de un *caso*. Por ejemplo las notas del último examen de los estudiantes de una clase de matemáticas.\n",
    "\n",
    "\n",
    "Un conjunto de datos univariados es un conjunto de mediciones para alguna variable desde una colección de casos. Podemos usar subíndices para representar estos datos:\n",
    "\n",
    "$$x_1, x_2, \\dots, x_n $$\n",
    "\n",
    "\n",
    "Stanley Smith Stevens propuso una influyente descripción de varios de tipos de datos:\n",
    "\n",
    " - *Nominal- Categórica*  Estos datos son cualitativos o descriptivos pero no numéricos. Un ejemplo puede ser el nombre de una persona o la ciudad donde nacistes.\n",
    " \n",
    " - *Ordinal*  Son datos con algún orden, de manera que podemos  ordenar los datos de mayor a menor. Un ejemplo es la posición  de un corredor en una carrera.\n",
    " \n",
    " - *Intervalo*  Los datos de intervalo son datos ordinales, donde la diferencia entre dos valores tiene alguna interpretación. Si sabemos corredor  A  termina al mediodía, y el corredor B a 13:00 , entonces sabemos que al  corredor B  le tomó más tiempo. Puesto que no hemos especificado cuando empezaron, no sabemos qué porcentaje ellos han recorrido.\n",
    " \n",
    "- *Proporción*  Tiene todas las propiedades de los datos de intervalo y tiene una definición para el valor 0. Si no registramos el momento de terminar , pero el tiempo desde que comenzó la competencia,  0 tiene un significado y podemos tener una proporción del tiempo total para el corredor A y B y compararlos."
   ]
  },
  {
   "cell_type": "markdown",
   "metadata": {},
   "source": [
    "Pese a que esta taxonomía es útil, podemos caracterizar los datos de manera que coincida  con la forma en que trabajamos en el computador y la ciencia de datos:"
   ]
  },
  {
   "cell_type": "markdown",
   "metadata": {},
   "source": [
    "- *Datos Factor* Cuando nos fijamos en muchas variables, algunas pueden registrar  categorías utilizadas para agrupar los datos. En R se utilizan los  factores para  almacenar estas variables. \n",
    "\n",
    "- *Datos de caracteres*  Algunos datos categóricos son factores, pero otros son sólo identificadores, y no se utilizan para agrupar. Un ejemplo podría ser la dirección IP de un usuario. Esto es básicamente un código único que identifica un ordenador, como una dirección. La distinción entre los datos  de factores y de caracteres puede ser pensado como la distinción entre la *categorización* de un caso o la *caracterización* de un caso. "
   ]
  },
  {
   "cell_type": "code",
   "execution_count": 13,
   "metadata": {
    "collapsed": false
   },
   "outputs": [
    {
     "data": {
      "text/plain": [
       "sex_char\n",
       "m \n",
       "3 "
      ]
     },
     "execution_count": 13,
     "metadata": {},
     "output_type": "execute_result"
    },
    {
     "data": {
      "text/plain": [
       "sex_factor\n",
       "m f \n",
       "3 0 "
      ]
     },
     "execution_count": 13,
     "metadata": {},
     "output_type": "execute_result"
    }
   ],
   "source": [
    "sex_char <- c(\"m\", \"m\", \"m\")\n",
    "sex_factor <- factor(sex_char, levels = c(\"m\", \"f\"))\n",
    "table(sex_char)\n",
    "table(sex_factor)"
   ]
  },
  {
   "cell_type": "markdown",
   "metadata": {},
   "source": [
    "- *Datos discretos*  Los datos discretos proviene de mediciones en las que esencialmente los únicos valores posibles distintos y separados son aquellos que se pueden contar. Por ejemplo, el número de visitas que hace  una persona hace a nuestro sitio web son siempre datos enteros, al igual que otros datos de conteo.\n",
    "- *Datos continuos*  Los datos continuos  es lo que se obtiene  a partir de valores continuos. La grabación del tiempo en milisegundos de una visita a un sitio web podrían  ser tales datos. \n",
    "\n",
    "En lugar de hacer distinciones para los datos numéricos entre ordinal, intervalo o de proporción , es más importante para la teoría estadística,  la búsqueda de un modelo de los datos para saber si estos  son discretos o continuos."
   ]
  },
  {
   "cell_type": "markdown",
   "metadata": {},
   "source": [
    "*Datos de fecha y hora*  Los datos de tiempo pueden ser considerados continuos o discretos y  para los computadores  a menudo hay caminos distintos para manejar los datos de fecha y hora. Cuestiones que complican las cosas son temas tan familiares como días bisiestos y zonas horarias, pero hay aún más sutilezas. Por ejemplo, la escala. \n",
    "\n",
    "La gente en finanzas quieren datos de milisegundos, los astrónomos necesitan medidas precisas para duraciones debajo de los  segundos. R tiene varias formas de trabajar con estos datos, que va más allá de simplemente almacenar los valores como números simples."
   ]
  },
  {
   "cell_type": "code",
   "execution_count": 14,
   "metadata": {
    "collapsed": false
   },
   "outputs": [
    {
     "data": {
      "text/plain": [
       "[1] \"1970-01-01\""
      ]
     },
     "execution_count": 14,
     "metadata": {},
     "output_type": "execute_result"
    }
   ],
   "source": [
    "x <- as.Date(\"1970-01-01\")\n",
    "x"
   ]
  },
  {
   "cell_type": "code",
   "execution_count": 15,
   "metadata": {
    "collapsed": false
   },
   "outputs": [
    {
     "data": {
      "text/html": [
       "0"
      ],
      "text/latex": [
       "0"
      ],
      "text/markdown": [
       "0"
      ],
      "text/plain": [
       "[1] 0"
      ]
     },
     "execution_count": 15,
     "metadata": {},
     "output_type": "execute_result"
    }
   ],
   "source": [
    "# Representacion interna  del objeto Data usando la funcion unclass\n",
    "\n",
    "unclass(x)"
   ]
  },
  {
   "cell_type": "code",
   "execution_count": 16,
   "metadata": {
    "collapsed": false
   },
   "outputs": [
    {
     "data": {
      "text/html": [
       "1"
      ],
      "text/latex": [
       "1"
      ],
      "text/markdown": [
       "1"
      ],
      "text/plain": [
       "[1] 1"
      ]
     },
     "execution_count": 16,
     "metadata": {},
     "output_type": "execute_result"
    }
   ],
   "source": [
    "unclass(as.Date(\"1970-01-02\"))"
   ]
  },
  {
   "cell_type": "code",
   "execution_count": 17,
   "metadata": {
    "collapsed": false
   },
   "outputs": [
    {
     "data": {
      "text/plain": [
       "[1] \"2016-09-06 13:47:20 PET\""
      ]
     },
     "execution_count": 17,
     "metadata": {},
     "output_type": "execute_result"
    }
   ],
   "source": [
    "# Manejando tiempos en R\n",
    "\n",
    "x <- Sys.time()\n",
    "x"
   ]
  },
  {
   "cell_type": "code",
   "execution_count": 18,
   "metadata": {
    "collapsed": false
   },
   "outputs": [
    {
     "data": {
      "text/html": [
       "<ol class=list-inline>\n",
       "\t<li>'POSIXct'</li>\n",
       "\t<li>'POSIXt'</li>\n",
       "</ol>\n"
      ],
      "text/latex": [
       "\\begin{enumerate*}\n",
       "\\item 'POSIXct'\n",
       "\\item 'POSIXt'\n",
       "\\end{enumerate*}\n"
      ],
      "text/markdown": [
       "1. 'POSIXct'\n",
       "2. 'POSIXt'\n",
       "\n",
       "\n"
      ],
      "text/plain": [
       "[1] \"POSIXct\" \"POSIXt\" "
      ]
     },
     "execution_count": 18,
     "metadata": {},
     "output_type": "execute_result"
    }
   ],
   "source": [
    "class(x) # Objeto POSIXct"
   ]
  },
  {
   "cell_type": "markdown",
   "metadata": {},
   "source": [
    "    "
   ]
  },
  {
   "cell_type": "markdown",
   "metadata": {},
   "source": [
    "- Datos jerárquicos  La idea tradicional de un conjunto de datos siendo medido por  diferentes casos es ampliamente establecido. Tales datos encajan  en una hoja de cálculo  y en tablas de bases de datos. Sin embargo, esta estructura no se ajusta bien para cada conjunto de datos. Por ejemplo, los datos sobre redes."
   ]
  },
  {
   "cell_type": "code",
   "execution_count": null,
   "metadata": {
    "collapsed": true
   },
   "outputs": [],
   "source": []
  }
 ],
 "metadata": {
  "kernelspec": {
   "display_name": "R",
   "language": "R",
   "name": "ir"
  },
  "language_info": {
   "codemirror_mode": "r",
   "file_extension": ".r",
   "mimetype": "text/x-r-source",
   "name": "R",
   "pygments_lexer": "r",
   "version": "3.2.2"
  }
 },
 "nbformat": 4,
 "nbformat_minor": 0
}
