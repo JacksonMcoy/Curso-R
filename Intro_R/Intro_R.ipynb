{
 "cells": [
  {
   "cell_type": "markdown",
   "metadata": {
    "collapsed": true,
    "deletable": true,
    "editable": true
   },
   "source": [
    "## ¿Qué  es R?\n",
    "\n",
    "* R es un lenguaje y un entorno de  computación y gráficos estadísticos. La página del proyecto es: \n",
    "https://www.r-project.org/.\n",
    "* El entorno de por si, cuenta un gestor de búsqueda : http://www.rseek.org/.\n",
    "* R ofrece una amplia variedad de técnicas estadísticas :regresión lineal, análisis de series temporales, booststrap, estimación de máxima verosimilitud, etc .\n",
    "\n",
    "* Como lenguaje de programación  incluye estructuras de programación como :condicionales, bucles, funciones recursivas definidas por el usuario, etc.  La habilidad para combinar funciones de R, produce una óptima flexibilidad y además resulta de ser  una técnica muy útil. Por ejemplo"
   ]
  },
  {
   "cell_type": "code",
   "execution_count": 2,
   "metadata": {
    "collapsed": false,
    "deletable": true,
    "editable": true
   },
   "outputs": [
    {
     "data": {
      "text/html": [
       "<table>\n",
       "<thead><tr><th scope=col>x</th><th scope=col>floor</th><th scope=col>ceiling</th><th scope=col>round</th><th scope=col>signif</th></tr></thead>\n",
       "<tbody>\n",
       "\t<tr><td> 0.4172354</td><td> 0        </td><td> 1        </td><td> 0.42     </td><td> 0.42     </td></tr>\n",
       "\t<tr><td> 0.9085889</td><td> 0        </td><td> 1        </td><td> 0.91     </td><td> 0.91     </td></tr>\n",
       "\t<tr><td> 0.4511828</td><td> 0        </td><td> 1        </td><td> 0.45     </td><td> 0.45     </td></tr>\n",
       "\t<tr><td> 0.2031097</td><td> 0        </td><td> 1        </td><td> 0.20     </td><td> 0.20     </td></tr>\n",
       "\t<tr><td>-0.2935840</td><td>-1        </td><td> 0        </td><td>-0.29     </td><td>-0.29     </td></tr>\n",
       "\t<tr><td>-0.3372848</td><td>-1        </td><td> 0        </td><td>-0.34     </td><td>-0.34     </td></tr>\n",
       "\t<tr><td> 2.6732264</td><td> 2        </td><td> 3        </td><td> 2.67     </td><td> 2.70     </td></tr>\n",
       "\t<tr><td>-0.4996231</td><td>-1        </td><td> 0        </td><td>-0.50     </td><td>-0.50     </td></tr>\n",
       "\t<tr><td>-1.5794185</td><td>-2        </td><td>-1        </td><td>-1.58     </td><td>-1.60     </td></tr>\n",
       "\t<tr><td> 1.2926711</td><td> 1        </td><td> 2        </td><td> 1.29     </td><td> 1.30     </td></tr>\n",
       "</tbody>\n",
       "</table>\n"
      ],
      "text/latex": [
       "\\begin{tabular}{lllll}\n",
       " x & floor & ceiling & round & signif\\\\\n",
       "\\hline\n",
       "\t  0.4172354 &  0         &  1         &  0.42      &  0.42     \\\\\n",
       "\t  0.9085889 &  0         &  1         &  0.91      &  0.91     \\\\\n",
       "\t  0.4511828 &  0         &  1         &  0.45      &  0.45     \\\\\n",
       "\t  0.2031097 &  0         &  1         &  0.20      &  0.20     \\\\\n",
       "\t -0.2935840 & -1         &  0         & -0.29      & -0.29     \\\\\n",
       "\t -0.3372848 & -1         &  0         & -0.34      & -0.34     \\\\\n",
       "\t  2.6732264 &  2         &  3         &  2.67      &  2.70     \\\\\n",
       "\t -0.4996231 & -1         &  0         & -0.50      & -0.50     \\\\\n",
       "\t -1.5794185 & -2         & -1         & -1.58      & -1.60     \\\\\n",
       "\t  1.2926711 &  1         &  2         &  1.29      &  1.30     \\\\\n",
       "\\end{tabular}\n"
      ],
      "text/markdown": [
       "\n",
       "x | floor | ceiling | round | signif | \n",
       "|---|---|---|---|---|---|---|---|---|---|\n",
       "|  0.4172354 |  0         |  1         |  0.42      |  0.42      | \n",
       "|  0.9085889 |  0         |  1         |  0.91      |  0.91      | \n",
       "|  0.4511828 |  0         |  1         |  0.45      |  0.45      | \n",
       "|  0.2031097 |  0         |  1         |  0.20      |  0.20      | \n",
       "| -0.2935840 | -1         |  0         | -0.29      | -0.29      | \n",
       "| -0.3372848 | -1         |  0         | -0.34      | -0.34      | \n",
       "|  2.6732264 |  2         |  3         |  2.67      |  2.70      | \n",
       "| -0.4996231 | -1         |  0         | -0.50      | -0.50      | \n",
       "| -1.5794185 | -2         | -1         | -1.58      | -1.60      | \n",
       "|  1.2926711 |  1         |  2         |  1.29      |  1.30      | \n",
       "\n",
       "\n"
      ],
      "text/plain": [
       "      x          floor ceiling round signif\n",
       " [1,]  0.4172354  0     1       0.42  0.42 \n",
       " [2,]  0.9085889  0     1       0.91  0.91 \n",
       " [3,]  0.4511828  0     1       0.45  0.45 \n",
       " [4,]  0.2031097  0     1       0.20  0.20 \n",
       " [5,] -0.2935840 -1     0      -0.29 -0.29 \n",
       " [6,] -0.3372848 -1     0      -0.34 -0.34 \n",
       " [7,]  2.6732264  2     3       2.67  2.70 \n",
       " [8,] -0.4996231 -1     0      -0.50 -0.50 \n",
       " [9,] -1.5794185 -2    -1      -1.58 -1.60 \n",
       "[10,]  1.2926711  1     2       1.29  1.30 "
      ]
     },
     "metadata": {},
     "output_type": "display_data"
    }
   ],
   "source": [
    "f <- function (x) {\n",
    "    c(x=x, floor=floor(x), ceiling=ceiling(x), round=round(x,2), signif=signif(x,2))\n",
    "    }\n",
    "  t(apply(t(rt(10,4)),2,f))"
   ]
  },
  {
   "cell_type": "markdown",
   "metadata": {
    "deletable": true,
    "editable": true
   },
   "source": [
    "*  R, puede  realizar  tareas computacionalmente intensivas, vinculando  lenguajes como C, C++ o\n",
    "Fortran en tiempo de ejecución y mejorar el proceso computacional.\n",
    "\n",
    "* Posee facilidades gráficas para el análisis y visualización de datos ya sea en pantalla o en\n",
    "copia impresa como lo realiza la libreria [**ggplot2**](http://ggplot2.org/) de Hadley Wickham.\n",
    "\n",
    "*  R se maneja por *paquetes*, existe un repositorio oficial de paquetes , organizados por temas:\n",
    "\n",
    "    https://cran.r-project.org/web/packages/available_packages_by_name.html.\n",
    "    \n",
    "* Hay Varios editores están disponibles para trabajar con R:\n",
    "\n",
    "  - [**RStudio**] (http://www.rstudio.com/ide/).\n",
    "  - [**Eclipse**] (http://www.walware.de/goto/statet).\n",
    "  - [**Vim-R-Tmux**] (http://manuals.bioinformatics.ucr.edu/home/programming-in-r/vim-r).\n",
    "\n",
    "\n",
    "* R hereda de [**S**](http://ect.bell-labs.com/sl/S/), la programación orientada a Objetos, que puede ser útil en problemas de regresión lineal.\n",
    "* R posee **Polimorfismo**, lo que significa que una única función puede ser aplicada a diferentes tipos de entradas, procesando la función de una manera apropiada en cada caso (*función genérica*). Ejemplo de esto es la función `plot()`.\n",
    "* Se maneja este paradigma mediantes las clases **Clases S3** y **Clases S4**."
   ]
  },
  {
   "cell_type": "code",
   "execution_count": 3,
   "metadata": {
    "collapsed": false,
    "deletable": true,
    "editable": true
   },
   "outputs": [
    {
     "name": "stderr",
     "output_type": "stream",
     "text": [
      "\n",
      "Attaching package: ‘pryr’\n",
      "\n",
      "The following object is masked _by_ ‘.GlobalEnv’:\n",
      "\n",
      "    f\n",
      "\n"
     ]
    },
    {
     "data": {
      "text/html": [
       "'S3'"
      ],
      "text/latex": [
       "'S3'"
      ],
      "text/markdown": [
       "'S3'"
      ],
      "text/plain": [
       "[1] \"S3\""
      ]
     },
     "metadata": {},
     "output_type": "display_data"
    }
   ],
   "source": [
    "library(pryr)\n",
    "\n",
    "df <- data.frame(x = 1:10, y = letters[1:10])\n",
    "otype(df) "
   ]
  },
  {
   "cell_type": "code",
   "execution_count": 4,
   "metadata": {
    "collapsed": false,
    "deletable": true,
    "editable": true
   },
   "outputs": [
    {
     "data": {
      "text/html": [
       "'base'"
      ],
      "text/latex": [
       "'base'"
      ],
      "text/markdown": [
       "'base'"
      ],
      "text/plain": [
       "[1] \"base\""
      ]
     },
     "metadata": {},
     "output_type": "display_data"
    }
   ],
   "source": [
    "otype(df$x)"
   ]
  },
  {
   "cell_type": "code",
   "execution_count": 5,
   "metadata": {
    "collapsed": false,
    "deletable": true,
    "editable": true
   },
   "outputs": [
    {
     "data": {
      "text/html": [
       "'base'"
      ],
      "text/latex": [
       "'base'"
      ],
      "text/markdown": [
       "'base'"
      ],
      "text/plain": [
       "[1] \"base\""
      ]
     },
     "metadata": {},
     "output_type": "display_data"
    }
   ],
   "source": [
    "otype(df$Y)"
   ]
  },
  {
   "cell_type": "markdown",
   "metadata": {
    "deletable": true,
    "editable": true
   },
   "source": [
    "* R  es un lenguaje de programación funcional (FP), esto significa que proporciona muchas herramientas para la creación y manipulación de las funciones. En particular, R tiene lo que se conoce como **funciones de primera clase**, se puede hacer cualquier cosa con las funciones que se pueden hacer con vectores: se pueden asignar como las variables, almacenarlas en listas, pasarlos como argumentos a otras funciones,etc. Más información en [**funtional programming**](http://adv-r.had.co.nz/Functional-programming.html) de Hadley Wickham.\n",
    "\n",
    "* Podemos escribir funciones de C/C++ para ser llamadas desde R. Un ejemplo de esto es el uso del protocolo TCP, que hace R.\n",
    "\n",
    "* R ofrece dos interfaces C/C++ via las funciones `.c()` y `.Call()`. Esta última es más versátil, pero requiere algo de conocimiento de la estructura interna de R. \n",
    "\n",
    "* Podemos usar R desde Python, usando **RPy**, una de la más populares interfaces entre esos lenguajes.\n",
    "\n",
    "* La computación paralela hace uso de varios procesadores que trabajan juntos para resolver un tarea\n",
    "específica. Las aplicaciones de la computación paralela incluyen resolver determinados problemas:\n",
    "\n",
    "  - Modelos de simulación.\n",
    "  - MCMC.\n",
    "  - Bootstrapping, bigdata, etc.\n",
    "\n",
    "Más información en el libro de **Parallel R** de Q. Ethan McCallum y Stephen Weston o en el artículo de Daniel Marcelino [**Parallel Processing: When does it worth?**](http://danielmarcelino.com/parallel-processing/).\n",
    "\n",
    "* R cuenta con una lista de paquetes para la computación en paralelo\n",
    "\n",
    "  - **Memoria Compartida:** `parallel`, `snow`, `foreach`, `gputools`, `HiPLARM`.\n",
    "  - **Memoria Distribuida:** `doSnow`, `pbdR`, `Rampi`, `Rhadoop`, `RHIPE`.\n",
    "\n",
    "* Uno de los  paquetes más importantes que presenta R es  `snow` (un acrónimo de Simple Network of Workstations) que proporciona una interfaz de alto nivel para el uso de cluster en cálculos paralelos en R. Más información en la [**Guia de Usuario de Snow**](http://www.sfu.ca/~sblay/R/snow.html)."
   ]
  },
  {
   "cell_type": "markdown",
   "metadata": {
    "deletable": true,
    "editable": true
   },
   "source": [
    "##  Vocabulario R\n",
    "\n",
    "Una parte importante de entender  [R](https://cran.r-project.org/) es tener conocer los objetos que se va a tratar a lo largo del curso. Esta lista  abarca funciones del paquete base, de estructura de datos, de estadísticas, del entornos de R, I/O, etc.\n",
    "\n",
    "###  Funciones básicas\n",
    "\n",
    "```\n",
    "# Primeras funciones a aprender\n",
    "?\n",
    "str\n",
    "\n",
    "#operadores y asignamiento \n",
    "\n",
    "%in%, match\n",
    "=, <-, <<-\n",
    "$, [, [[, head, tail, subset\n",
    "with\n",
    "assign, get\n",
    "\n",
    "# Comparación \n",
    "\n",
    "all.equal, identical\n",
    "!=, ==, >, >=, <, <=\n",
    "is.na, complete.cases\n",
    "is.finite\n",
    "\n",
    "# Matematica básica\n",
    "\n",
    "*, +, -, /, ^, %%, %/%\n",
    "abs, sign\n",
    "acos, asin, atan, atan2\n",
    "sin, cos, tan\n",
    "ceiling, floor, round, trunc, signif\n",
    "exp, log, log10, log2, sqrt\n",
    "\n",
    "max, min, prod, sum\n",
    "cummax, cummin, cumprod, cumsum, diff\n",
    "pmax, pmin\n",
    "range\n",
    "mean, median, cor, sd, var\n",
    "rle\n",
    "\n",
    "# Funciones para hacer funciones\n",
    "\n",
    "function\n",
    "missing\n",
    "on.exit\n",
    "return, invisible\n",
    "\n",
    "# Lógica & conjuntos\n",
    "\n",
    "&, |, !, xor\n",
    "all, any\n",
    "intersect, union, setdiff, setequal\n",
    "which\n",
    "\n",
    "# Vectores y  matrices\n",
    "\n",
    "c, matrix\n",
    "# automatica coercion de  character > numeric > logical\n",
    "length, dim, ncol, nrow\n",
    "cbind, rbind\n",
    "names, colnames, rownames\n",
    "t\n",
    "diag\n",
    "sweep\n",
    "as.matrix, data.matrix\n",
    "\n",
    "# Vectores \n",
    "\n",
    "c\n",
    "rep, rep_len\n",
    "seq, seq_len, seq_along\n",
    "rev\n",
    "sample\n",
    "choose, factorial, combn\n",
    "(is/as).(character/numeric/logical/...)\n",
    "\n",
    "# Listas & data.frames \n",
    "\n",
    "list, unlist\n",
    "data.frame, as.data.frame\n",
    "split\n",
    "expand.grid\n",
    "\n",
    "# Flujo de control\n",
    "\n",
    "if, &&, || (short circuiting)\n",
    "for, while\n",
    "next, break\n",
    "switch\n",
    "ifelse\n",
    "\n",
    "# Apply y sus amigas\n",
    "\n",
    "lapply, sapply, vapply\n",
    "apply\n",
    "tapply\n",
    "replicate\n",
    "```\n",
    "\n",
    "### Funciones para estructura de datos \n",
    "\n",
    "```\n",
    "# Tiempo\n",
    "\n",
    "ISOdate, ISOdatetime, strftime, strptime, date\n",
    "difftime\n",
    "julian, months, quarters, weekdays\n",
    "library(lubridate)\n",
    "\n",
    "# Manipulación de caracteres\n",
    "\n",
    "grep, agrep\n",
    "gsub\n",
    "strsplit\n",
    "chartr\n",
    "nchar\n",
    "tolower, toupper\n",
    "substr\n",
    "paste\n",
    "library(stringr)\n",
    "\n",
    "# Factores\n",
    "\n",
    "factor, levels, nlevels\n",
    "reorder, relevel\n",
    "cut, findInterval\n",
    "interaction\n",
    "options(stringsAsFactors = FALSE)\n",
    "\n",
    "# Manipulación de arrays\n",
    "\n",
    "array\n",
    "dim\n",
    "dimnames\n",
    "aperm\n",
    "library(abind)\n",
    "```\n",
    "\n",
    "###  Funciones para Estadística\n",
    "\n",
    "```\n",
    "# Ordenacion  y  tabulacion\n",
    "\n",
    "duplicated, unique\n",
    "merge\n",
    "order, rank, quantile\n",
    "sort\n",
    "table, ftable\n",
    "\n",
    "# Modelos lineales\n",
    "\n",
    "fitted, predict, resid, rstandard\n",
    "lm, glm\n",
    "hat, influence.measures\n",
    "logLik, df, deviance\n",
    "formula, ~, I\n",
    "anova, coef, confint, vcov\n",
    "contrasts\n",
    "\n",
    "# Miscelanea de Test\n",
    "apropos(\"\\\\.test$\")\n",
    "\n",
    "# Variables aleatorias\n",
    "\n",
    "(q, p, d, r) * (beta, binom, cauchy, chisq, exp, f, gamma, geom, \n",
    "  hyper, lnorm, logis, multinom, nbinom, norm, pois, signrank, t, \n",
    "  unif, weibull, wilcox, birthday, tukey)\n",
    "\n",
    "# Algebra matricial\n",
    "\n",
    "crossprod, tcrossprod\n",
    "eigen, qr, svd\n",
    "%*%, %o%, outer\n",
    "rcond\n",
    "solve\n",
    "```\n",
    "\n",
    "### Trabajando con  R\n",
    "\n",
    "```\n",
    "# Entorno de trabajo\n",
    "\n",
    "ls, exists, rm\n",
    "getwd, setwd\n",
    "q\n",
    "source\n",
    "install.packages, library, require\n",
    "\n",
    "# Ayuda\n",
    "\n",
    "help, ?\n",
    "help.search\n",
    "apropos\n",
    "RSiteSearch\n",
    "citation\n",
    "demo\n",
    "example\n",
    "vignette\n",
    "\n",
    "# Depuracion\n",
    "\n",
    "traceback\n",
    "browser\n",
    "recover\n",
    "options(error = )\n",
    "stop, warning, message\n",
    "tryCatch, try\n",
    "```\n",
    "\n",
    "### I/0\n",
    "\n",
    "```\n",
    "\n",
    "# Salida\n",
    "\n",
    "print, cat\n",
    "message, warning\n",
    "dput\n",
    "format\n",
    "sink, capture.output\n",
    "\n",
    "# Leyendo y  escribiendo datos\n",
    "\n",
    "data\n",
    "count.fields\n",
    "read.csv, write.csv\n",
    "read.delim, write.delim\n",
    "read.fwf\n",
    "readLines, writeLines\n",
    "readRDS, saveRDS\n",
    "load, save\n",
    "library(foreign)\n",
    "\n",
    "# Archivos y directorios\n",
    "\n",
    "dir\n",
    "basename, dirname, tools::file_ext\n",
    "file.path\n",
    "path.expand, normalizePath\n",
    "file.choose\n",
    "file.copy, file.create, file.remove, file.rename, dir.create\n",
    "file.exists, file.info\n",
    "tempdir, tempfile\n",
    "download.file, library(downloader)\n",
    "\n",
    "```"
   ]
  },
  {
   "cell_type": "markdown",
   "metadata": {
    "deletable": true,
    "editable": true
   },
   "source": [
    "### Ayuda en R\n",
    "\n",
    "Escribamos una declaración de R\n"
   ]
  },
  {
   "cell_type": "code",
   "execution_count": 6,
   "metadata": {
    "collapsed": false,
    "deletable": true,
    "editable": true
   },
   "outputs": [
    {
     "data": {
      "text/html": [
       "3"
      ],
      "text/latex": [
       "3"
      ],
      "text/markdown": [
       "3"
      ],
      "text/plain": [
       "[1] 3"
      ]
     },
     "metadata": {},
     "output_type": "display_data"
    }
   ],
   "source": [
    "mean(1:5)\n"
   ]
  },
  {
   "cell_type": "markdown",
   "metadata": {
    "deletable": true,
    "editable": true
   },
   "source": [
    "Antes de empezar a escribir el código R, lo más importante es saber cómo obtener ayuda. Hay muchas formas de hacer esto. Por ejemplo"
   ]
  },
  {
   "cell_type": "code",
   "execution_count": 7,
   "metadata": {
    "collapsed": true,
    "deletable": true,
    "editable": true
   },
   "outputs": [],
   "source": [
    "?mean"
   ]
  },
  {
   "cell_type": "code",
   "execution_count": 8,
   "metadata": {
    "collapsed": false,
    "deletable": true,
    "editable": true
   },
   "outputs": [],
   "source": [
    "?\"+\""
   ]
  },
  {
   "cell_type": "code",
   "execution_count": 9,
   "metadata": {
    "collapsed": false,
    "deletable": true,
    "editable": true
   },
   "outputs": [],
   "source": [
    "?\"if\""
   ]
  },
  {
   "cell_type": "code",
   "execution_count": 10,
   "metadata": {
    "collapsed": false,
    "deletable": true,
    "editable": true
   },
   "outputs": [
    {
     "data": {},
     "metadata": {},
     "output_type": "display_data"
    }
   ],
   "source": [
    "??plotting "
   ]
  },
  {
   "cell_type": "code",
   "execution_count": 11,
   "metadata": {
    "collapsed": false,
    "deletable": true,
    "editable": true
   },
   "outputs": [
    {
     "data": {},
     "metadata": {},
     "output_type": "display_data"
    }
   ],
   "source": [
    "??\"regression model\""
   ]
  },
  {
   "cell_type": "markdown",
   "metadata": {
    "deletable": true,
    "editable": true
   },
   "source": [
    "Las funciones `help` y `help.search`  hacen  las mismas cosas que `?` y `??`, respectivamente, pero necesitas incluir  argumentos entre comillas. Los siguientes comandos son equivalentes al lote de código anterior\n",
    "\n",
    "```\n",
    "help(\"mean\")\n",
    "help(\"+\")\n",
    "help(\"if\")\n",
    "help.search(\"plotting\")\n",
    "help.search(\"regression model\")\n",
    "```\n",
    "\n",
    "La función `apropos` encuentra variables (incluyendo funciones) que coinciden con su entrada. Esto es realmente útil si sólo puede recordar a medias el nombre de una variable que ha creado o una función que desea utilizar. Por ejemplo, supongamos que creamos una variable `a_vector`:"
   ]
  },
  {
   "cell_type": "code",
   "execution_count": 12,
   "metadata": {
    "collapsed": false,
    "deletable": true,
    "editable": true
   },
   "outputs": [
    {
     "data": {
      "text/html": [
       "<ol class=list-inline>\n",
       "\t<li>1</li>\n",
       "\t<li>3</li>\n",
       "\t<li>6</li>\n",
       "\t<li>10</li>\n",
       "\t<li>15</li>\n",
       "</ol>\n"
      ],
      "text/latex": [
       "\\begin{enumerate*}\n",
       "\\item 1\n",
       "\\item 3\n",
       "\\item 6\n",
       "\\item 10\n",
       "\\item 15\n",
       "\\end{enumerate*}\n"
      ],
      "text/markdown": [
       "1. 1\n",
       "2. 3\n",
       "3. 6\n",
       "4. 10\n",
       "5. 15\n",
       "\n",
       "\n"
      ],
      "text/plain": [
       "[1]  1  3  6 10 15"
      ]
     },
     "metadata": {},
     "output_type": "display_data"
    }
   ],
   "source": [
    "a_vector <- c(1, 3, 6, 10, 15)\n",
    "a_vector"
   ]
  },
  {
   "cell_type": "code",
   "execution_count": 13,
   "metadata": {
    "collapsed": false,
    "deletable": true,
    "editable": true
   },
   "outputs": [
    {
     "data": {
      "text/html": [
       "<ol class=list-inline>\n",
       "\t<li>'.__C__vector'</li>\n",
       "\t<li>'a_vector'</li>\n",
       "\t<li>'as.data.frame.vector'</li>\n",
       "\t<li>'as.vector'</li>\n",
       "\t<li>'as.vector.factor'</li>\n",
       "\t<li>'is.vector'</li>\n",
       "\t<li>'vector'</li>\n",
       "\t<li>'Vectorize'</li>\n",
       "</ol>\n"
      ],
      "text/latex": [
       "\\begin{enumerate*}\n",
       "\\item '.\\_\\_C\\_\\_vector'\n",
       "\\item 'a\\_vector'\n",
       "\\item 'as.data.frame.vector'\n",
       "\\item 'as.vector'\n",
       "\\item 'as.vector.factor'\n",
       "\\item 'is.vector'\n",
       "\\item 'vector'\n",
       "\\item 'Vectorize'\n",
       "\\end{enumerate*}\n"
      ],
      "text/markdown": [
       "1. '.__C__vector'\n",
       "2. 'a_vector'\n",
       "3. 'as.data.frame.vector'\n",
       "4. 'as.vector'\n",
       "5. 'as.vector.factor'\n",
       "6. 'is.vector'\n",
       "7. 'vector'\n",
       "8. 'Vectorize'\n",
       "\n",
       "\n"
      ],
      "text/plain": [
       "[1] \".__C__vector\"         \"a_vector\"             \"as.data.frame.vector\"\n",
       "[4] \"as.vector\"            \"as.vector.factor\"     \"is.vector\"           \n",
       "[7] \"vector\"               \"Vectorize\"           "
      ]
     },
     "metadata": {},
     "output_type": "display_data"
    }
   ],
   "source": [
    "apropos(\"vector\")"
   ]
  },
  {
   "cell_type": "markdown",
   "metadata": {
    "deletable": true,
    "editable": true
   },
   "source": [
    "Los resultados contienen la variable que acaba de crear, `a_vector` y todas las demás variables que contienen el vector de cadena. En este caso, todas las demás son funciones que están integradas en R.\n",
    "Encontrar las variables que contienen una cadena en particular está bien, pero también se puede hacer una comparación  con `apropos` utilizando *expresiones regulares*.\n",
    "\n",
    "Las expresiones regulares son una sintaxis en varios lenguajes que trata de la coincidencia en las cadenas. Se necesita aprender a usarlos. Cambiarán tu vida.\n",
    "\n",
    "* [Introduction to regular expressions](http://www.regular-expressions.info/quickstart.html)."
   ]
  },
  {
   "cell_type": "markdown",
   "metadata": {
    "deletable": true,
    "editable": true
   },
   "source": [
    "Un simple uso de `apropos` por ejemplo podría  encontrar todas las variables que terminan en z o encontrar todas las variables que contengan un número entre 4 y 9:"
   ]
  },
  {
   "cell_type": "code",
   "execution_count": 14,
   "metadata": {
    "collapsed": false,
    "deletable": true,
    "editable": true
   },
   "outputs": [
    {
     "data": {
      "text/html": [
       "<ol class=list-inline>\n",
       "\t<li>'quartz'</li>\n",
       "\t<li>'SSgompertz'</li>\n",
       "\t<li>'toeplitz'</li>\n",
       "\t<li>'unz'</li>\n",
       "</ol>\n"
      ],
      "text/latex": [
       "\\begin{enumerate*}\n",
       "\\item 'quartz'\n",
       "\\item 'SSgompertz'\n",
       "\\item 'toeplitz'\n",
       "\\item 'unz'\n",
       "\\end{enumerate*}\n"
      ],
      "text/markdown": [
       "1. 'quartz'\n",
       "2. 'SSgompertz'\n",
       "3. 'toeplitz'\n",
       "4. 'unz'\n",
       "\n",
       "\n"
      ],
      "text/plain": [
       "[1] \"quartz\"     \"SSgompertz\" \"toeplitz\"   \"unz\"       "
      ]
     },
     "metadata": {},
     "output_type": "display_data"
    }
   ],
   "source": [
    "apropos(\"z$\")"
   ]
  },
  {
   "cell_type": "code",
   "execution_count": 14,
   "metadata": {
    "collapsed": false,
    "deletable": true,
    "editable": true
   },
   "outputs": [
    {
     "data": {
      "text/html": [
       "<ol class=list-inline>\n",
       "\t<li>'.__C__S4'</li>\n",
       "\t<li>'.S4methods'</li>\n",
       "\t<li>'.TAOCP1997init'</li>\n",
       "\t<li>'asS4'</li>\n",
       "\t<li>'blues9'</li>\n",
       "\t<li>'enc2utf8'</li>\n",
       "\t<li>'fixPre1.8'</li>\n",
       "\t<li>'glm.p84'</li>\n",
       "\t<li>'Harman74.cor'</li>\n",
       "\t<li>'intToUtf8'</li>\n",
       "\t<li>'isS4'</li>\n",
       "\t<li>'seemsS4Object'</li>\n",
       "\t<li>'state.x77'</li>\n",
       "\t<li>'utf8ToInt'</li>\n",
       "\t<li>'validUTF8'</li>\n",
       "\t<li>'z.o4'</li>\n",
       "</ol>\n"
      ],
      "text/latex": [
       "\\begin{enumerate*}\n",
       "\\item '.\\_\\_C\\_\\_S4'\n",
       "\\item '.S4methods'\n",
       "\\item '.TAOCP1997init'\n",
       "\\item 'asS4'\n",
       "\\item 'blues9'\n",
       "\\item 'enc2utf8'\n",
       "\\item 'fixPre1.8'\n",
       "\\item 'glm.p84'\n",
       "\\item 'Harman74.cor'\n",
       "\\item 'intToUtf8'\n",
       "\\item 'isS4'\n",
       "\\item 'seemsS4Object'\n",
       "\\item 'state.x77'\n",
       "\\item 'utf8ToInt'\n",
       "\\item 'validUTF8'\n",
       "\\item 'z.o4'\n",
       "\\end{enumerate*}\n"
      ],
      "text/markdown": [
       "1. '.__C__S4'\n",
       "2. '.S4methods'\n",
       "3. '.TAOCP1997init'\n",
       "4. 'asS4'\n",
       "5. 'blues9'\n",
       "6. 'enc2utf8'\n",
       "7. 'fixPre1.8'\n",
       "8. 'glm.p84'\n",
       "9. 'Harman74.cor'\n",
       "10. 'intToUtf8'\n",
       "11. 'isS4'\n",
       "12. 'seemsS4Object'\n",
       "13. 'state.x77'\n",
       "14. 'utf8ToInt'\n",
       "15. 'validUTF8'\n",
       "16. 'z.o4'\n",
       "\n",
       "\n"
      ],
      "text/plain": [
       " [1] \".__C__S4\"       \".S4methods\"     \".TAOCP1997init\" \"asS4\"          \n",
       " [5] \"blues9\"         \"enc2utf8\"       \"fixPre1.8\"      \"glm.p84\"       \n",
       " [9] \"Harman74.cor\"   \"intToUtf8\"      \"isS4\"           \"seemsS4Object\" \n",
       "[13] \"state.x77\"      \"utf8ToInt\"      \"validUTF8\"      \"z.o4\"          "
      ]
     },
     "metadata": {},
     "output_type": "display_data"
    }
   ],
   "source": [
    "apropos(\"[4-9]\")"
   ]
  },
  {
   "cell_type": "markdown",
   "metadata": {
    "deletable": true,
    "editable": true
   },
   "source": [
    "La mayoría de las funciones tienen ejemplos que puedes ejecutar para tener una mejor idea de cómo funcionan. Se utiliza  la función `example` para ejecutarlos. También hay demostraciones  de conceptos que son accesibles con la función `demo`:"
   ]
  },
  {
   "cell_type": "code",
   "execution_count": 15,
   "metadata": {
    "collapsed": false,
    "deletable": true,
    "editable": true
   },
   "outputs": [
    {
     "name": "stdout",
     "output_type": "stream",
     "text": [
      "\n",
      "plot> require(stats) # for lowess, rpois, rnorm\n",
      "\n",
      "plot> plot(cars)\n",
      "\n",
      "plot> lines(lowess(cars))\n",
      "\n",
      "plot> plot(sin, -pi, 2*pi) # see ?plot.function\n"
     ]
    },
    {
     "data": {
      "image/png": "[encoded data removed]",
      "text/plain": [
       "plot without title"
      ]
     },
     "metadata": {},
     "output_type": "display_data"
    },
    {
     "name": "stdout",
     "output_type": "stream",
     "text": [
      "\n",
      "plot> ## Discrete Distribution Plot:\n",
      "plot> plot(table(rpois(100, 5)), type = \"h\", col = \"red\", lwd = 10,\n",
      "plot+      main = \"rpois(100, lambda = 5)\")\n"
     ]
    },
    {
     "data": {
      "image/png": "[encoded data removed]",
      "text/plain": [
       "plot without title"
      ]
     },
     "metadata": {},
     "output_type": "display_data"
    },
    {
     "name": "stdout",
     "output_type": "stream",
     "text": [
      "\n",
      "plot> ## Simple quantiles/ECDF, see ecdf() {library(stats)} for a better one:\n",
      "plot> plot(x <- sort(rnorm(47)), type = \"s\", main = \"plot(x, type = \\\"s\\\")\")\n"
     ]
    },
    {
     "data": {
      "image/png": "[encoded data removed]",
      "text/plain": [
       "Plot with title “rpois(100, lambda = 5)”"
      ]
     },
     "metadata": {},
     "output_type": "display_data"
    },
    {
     "name": "stdout",
     "output_type": "stream",
     "text": [
      "\n",
      "plot> points(x, cex = .5, col = \"dark red\")\n"
     ]
    },
    {
     "data": {
      "image/png": "[encoded data removed]",
      "text/plain": [
       "Plot with title “plot(x, type = \"s\")”"
      ]
     },
     "metadata": {},
     "output_type": "display_data"
    }
   ],
   "source": [
    "example(\"plot\")"
   ]
  },
  {
   "cell_type": "code",
   "execution_count": 16,
   "metadata": {
    "collapsed": false
   },
   "outputs": [
    {
     "name": "stdout",
     "output_type": "stream",
     "text": [
      "\n",
      "\n",
      "\tdemo(lm.glm)\n",
      "\t---- ~~~~~~\n",
      "\n",
      "> ### Examples from: \"An Introduction to Statistical Modelling\"\n",
      "> ###\t\t\tBy Annette Dobson\n",
      "> ###\n",
      "> ### == with some additions ==\n",
      "> \n",
      "> #  Copyright (C) 1997-2015 The R Core Team\n",
      "> \n",
      "> require(stats); require(graphics)\n",
      "\n",
      "> ## Plant Weight Data (Page 9)\n",
      "> ctl <- c(4.17,5.58,5.18,6.11,4.50,4.61,5.17,4.53,5.33,5.14)\n",
      "\n",
      "> trt <- c(4.81,4.17,4.41,3.59,5.87,3.83,6.03,4.89,4.32,4.69)\n",
      "\n",
      "> group <- gl(2,10, labels=c(\"Ctl\",\"Trt\"))\n",
      "\n",
      "> weight <- c(ctl,trt)\n",
      "\n",
      "> anova  (lm(weight~group))\n",
      "Analysis of Variance Table\n",
      "\n",
      "Response: weight\n",
      "          Df Sum Sq Mean Sq F value Pr(>F)\n",
      "group      1 0.6882 0.68820  1.4191  0.249\n",
      "Residuals 18 8.7292 0.48496               \n",
      "\n",
      "> summary(lm(weight~group -1))\n",
      "\n",
      "Call:\n",
      "lm(formula = weight ~ group - 1)\n",
      "\n",
      "Residuals:\n",
      "    Min      1Q  Median      3Q     Max \n",
      "-1.0710 -0.4938  0.0685  0.2462  1.3690 \n",
      "\n",
      "Coefficients:\n",
      "         Estimate Std. Error t value Pr(>|t|)    \n",
      "groupCtl   5.0320     0.2202   22.85 9.55e-15 ***\n",
      "groupTrt   4.6610     0.2202   21.16 3.62e-14 ***\n",
      "---\n",
      "Signif. codes:  0 ‘***’ 0.001 ‘**’ 0.01 ‘*’ 0.05 ‘.’ 0.1 ‘ ’ 1\n",
      "\n",
      "Residual standard error: 0.6964 on 18 degrees of freedom\n",
      "Multiple R-squared:  0.9818,\tAdjusted R-squared:  0.9798 \n",
      "F-statistic: 485.1 on 2 and 18 DF,  p-value: < 2.2e-16\n",
      "\n",
      "\n",
      "> ## Birth Weight Data (Page 14)\n",
      "> age <- c(40, 38, 40, 35, 36, 37, 41, 40, 37, 38, 40, 38,\n",
      "+ \t 40, 36, 40, 38, 42, 39, 40, 37, 36, 38, 39, 40)\n",
      "\n",
      "> birthw <- c(2968, 2795, 3163, 2925, 2625, 2847, 3292, 3473, 2628, 3176,\n",
      "+ \t    3421, 2975, 3317, 2729, 2935, 2754, 3210, 2817, 3126, 2539,\n",
      "+ \t    2412, 2991, 2875, 3231)\n",
      "\n",
      "> sex <- gl(2,12, labels=c(\"M\",\"F\"))\n",
      "\n",
      "> plot(age, birthw, col=as.numeric(sex), pch=3*as.numeric(sex),\n",
      "+      main=\"Dobson's Birth Weight Data\")\n",
      "\n",
      "> lines(lowess(age[sex=='M'], birthw[sex=='M']), col=1)\n",
      "\n",
      "> lines(lowess(age[sex=='F'], birthw[sex=='F']), col=2)\n",
      "\n",
      "> legend(\"topleft\", levels(sex), col=1:2, pch=3*(1:2), lty=1, bty=\"n\")\n",
      "\n",
      "> summary(l1 <- lm(birthw ~ sex + age),    correlation=TRUE)\n",
      "\n",
      "Call:\n",
      "lm(formula = birthw ~ sex + age)\n",
      "\n",
      "Residuals:\n",
      "    Min      1Q  Median      3Q     Max \n",
      "-257.49 -125.28  -58.44  169.00  303.98 \n",
      "\n",
      "Coefficients:\n",
      "            Estimate Std. Error t value Pr(>|t|)    \n",
      "(Intercept) -1610.28     786.08  -2.049   0.0532 .  \n",
      "sexF         -163.04      72.81  -2.239   0.0361 *  \n",
      "age           120.89      20.46   5.908 7.28e-06 ***\n",
      "---\n",
      "Signif. codes:  0 ‘***’ 0.001 ‘**’ 0.01 ‘*’ 0.05 ‘.’ 0.1 ‘ ’ 1\n",
      "\n",
      "Residual standard error: 177.1 on 21 degrees of freedom\n",
      "Multiple R-squared:   0.64,\tAdjusted R-squared:  0.6057 \n",
      "F-statistic: 18.67 on 2 and 21 DF,  p-value: 2.194e-05\n",
      "\n",
      "Correlation of Coefficients:\n",
      "     (Intercept) sexF \n",
      "sexF  0.07            \n",
      "age  -1.00       -0.12\n",
      "\n",
      "\n",
      "> summary(l0 <- lm(birthw ~ sex + age -1), correlation=TRUE)\n",
      "\n",
      "Call:\n",
      "lm(formula = birthw ~ sex + age - 1)\n",
      "\n",
      "Residuals:\n",
      "    Min      1Q  Median      3Q     Max \n",
      "-257.49 -125.28  -58.44  169.00  303.98 \n",
      "\n",
      "Coefficients:\n",
      "     Estimate Std. Error t value Pr(>|t|)    \n",
      "sexM -1610.28     786.08  -2.049   0.0532 .  \n",
      "sexF -1773.32     794.59  -2.232   0.0367 *  \n",
      "age    120.89      20.46   5.908 7.28e-06 ***\n",
      "---\n",
      "Signif. codes:  0 ‘***’ 0.001 ‘**’ 0.01 ‘*’ 0.05 ‘.’ 0.1 ‘ ’ 1\n",
      "\n",
      "Residual standard error: 177.1 on 21 degrees of freedom\n",
      "Multiple R-squared:  0.9969,\tAdjusted R-squared:  0.9965 \n",
      "F-statistic:  2258 on 3 and 21 DF,  p-value: < 2.2e-16\n",
      "\n",
      "Correlation of Coefficients:\n",
      "     sexM  sexF \n",
      "sexF  1.00      \n",
      "age  -1.00 -1.00\n",
      "\n",
      "\n",
      "> anova(l1,l0)\n",
      "Analysis of Variance Table\n",
      "\n",
      "Model 1: birthw ~ sex + age\n",
      "Model 2: birthw ~ sex + age - 1\n",
      "  Res.Df    RSS Df  Sum of Sq F Pr(>F)\n",
      "1     21 658771                       \n",
      "2     21 658771  0 -4.191e-09         \n",
      "\n",
      "> summary(li <- lm(birthw ~ sex + sex:age -1), correlation=TRUE)\n",
      "\n",
      "Call:\n",
      "lm(formula = birthw ~ sex + sex:age - 1)\n",
      "\n",
      "Residuals:\n",
      "    Min      1Q  Median      3Q     Max \n",
      "-246.69 -138.11  -39.13  176.57  274.28 \n",
      "\n",
      "Coefficients:\n",
      "         Estimate Std. Error t value Pr(>|t|)    \n",
      "sexM     -1268.67    1114.64  -1.138 0.268492    \n",
      "sexF     -2141.67    1163.60  -1.841 0.080574 .  \n",
      "sexM:age   111.98      29.05   3.855 0.000986 ***\n",
      "sexF:age   130.40      30.00   4.347 0.000313 ***\n",
      "---\n",
      "Signif. codes:  0 ‘***’ 0.001 ‘**’ 0.01 ‘*’ 0.05 ‘.’ 0.1 ‘ ’ 1\n",
      "\n",
      "Residual standard error: 180.6 on 20 degrees of freedom\n",
      "Multiple R-squared:  0.9969,\tAdjusted R-squared:  0.9963 \n",
      "F-statistic:  1629 on 4 and 20 DF,  p-value: < 2.2e-16\n",
      "\n",
      "Correlation of Coefficients:\n",
      "         sexM  sexF  sexM:age\n",
      "sexF      0.00               \n",
      "sexM:age -1.00  0.00         \n",
      "sexF:age  0.00 -1.00  0.00   \n",
      "\n",
      "\n",
      "> anova(li,l0)\n",
      "Analysis of Variance Table\n",
      "\n",
      "Model 1: birthw ~ sex + sex:age - 1\n",
      "Model 2: birthw ~ sex + age - 1\n",
      "  Res.Df    RSS Df Sum of Sq      F Pr(>F)\n",
      "1     20 652425                           \n",
      "2     21 658771 -1   -6346.2 0.1945 0.6639\n",
      "\n",
      "> summary(zi <- glm(birthw ~ sex + age, family=gaussian()))\n",
      "\n",
      "Call:\n",
      "glm(formula = birthw ~ sex + age, family = gaussian())\n",
      "\n",
      "Deviance Residuals: \n",
      "    Min       1Q   Median       3Q      Max  \n",
      "-257.49  -125.28   -58.44   169.00   303.98  \n",
      "\n",
      "Coefficients:\n",
      "            Estimate Std. Error t value Pr(>|t|)    \n",
      "(Intercept) -1610.28     786.08  -2.049   0.0532 .  \n",
      "sexF         -163.04      72.81  -2.239   0.0361 *  \n",
      "age           120.89      20.46   5.908 7.28e-06 ***\n",
      "---\n",
      "Signif. codes:  0 ‘***’ 0.001 ‘**’ 0.01 ‘*’ 0.05 ‘.’ 0.1 ‘ ’ 1\n",
      "\n",
      "(Dispersion parameter for gaussian family taken to be 31370.04)\n",
      "\n",
      "    Null deviance: 1829873  on 23  degrees of freedom\n",
      "Residual deviance:  658771  on 21  degrees of freedom\n",
      "AIC: 321.39\n",
      "\n",
      "Number of Fisher Scoring iterations: 2\n",
      "\n",
      "\n",
      "> summary(z0 <- glm(birthw ~ sex + age - 1, family=gaussian()))\n",
      "\n",
      "Call:\n",
      "glm(formula = birthw ~ sex + age - 1, family = gaussian())\n",
      "\n",
      "Deviance Residuals: \n",
      "    Min       1Q   Median       3Q      Max  \n",
      "-257.49  -125.28   -58.44   169.00   303.98  \n",
      "\n",
      "Coefficients:\n",
      "     Estimate Std. Error t value Pr(>|t|)    \n",
      "sexM -1610.28     786.08  -2.049   0.0532 .  \n",
      "sexF -1773.32     794.59  -2.232   0.0367 *  \n",
      "age    120.89      20.46   5.908 7.28e-06 ***\n",
      "---\n",
      "Signif. codes:  0 ‘***’ 0.001 ‘**’ 0.01 ‘*’ 0.05 ‘.’ 0.1 ‘ ’ 1\n",
      "\n",
      "(Dispersion parameter for gaussian family taken to be 31370.04)\n",
      "\n",
      "    Null deviance: 213198964  on 24  degrees of freedom\n",
      "Residual deviance:    658771  on 21  degrees of freedom\n",
      "AIC: 321.39\n",
      "\n",
      "Number of Fisher Scoring iterations: 2\n",
      "\n",
      "\n",
      "> anova(zi, z0)\n",
      "Analysis of Deviance Table\n",
      "\n",
      "Model 1: birthw ~ sex + age\n",
      "Model 2: birthw ~ sex + age - 1\n",
      "  Resid. Df Resid. Dev Df   Deviance\n",
      "1        21     658771              \n",
      "2        21     658771  0 5.8208e-10\n",
      "\n",
      "> summary(z.o4 <- update(z0, subset = -4))\n",
      "\n",
      "Call:\n",
      "glm(formula = birthw ~ sex + age - 1, family = gaussian(), subset = -4)\n",
      "\n",
      "Deviance Residuals: \n",
      "    Min       1Q   Median       3Q      Max  \n",
      "-253.86  -129.46   -53.46   165.04   251.14  \n",
      "\n",
      "Coefficients:\n",
      "     Estimate Std. Error t value Pr(>|t|)    \n",
      "sexM -2318.03     801.57  -2.892  0.00902 ** \n",
      "sexF -2455.44     803.79  -3.055  0.00625 ** \n",
      "age    138.50      20.71   6.688 1.65e-06 ***\n",
      "---\n",
      "Signif. codes:  0 ‘***’ 0.001 ‘**’ 0.01 ‘*’ 0.05 ‘.’ 0.1 ‘ ’ 1\n",
      "\n",
      "(Dispersion parameter for gaussian family taken to be 26925.39)\n",
      "\n",
      "    Null deviance: 204643339  on 23  degrees of freedom\n",
      "Residual deviance:    538508  on 20  degrees of freedom\n",
      "AIC: 304.68\n",
      "\n",
      "Number of Fisher Scoring iterations: 2\n",
      "\n",
      "\n",
      "> summary(zz <- update(z0, birthw ~ sex+age-1 + sex:age))\n",
      "\n",
      "Call:\n",
      "glm(formula = birthw ~ sex + age + sex:age - 1, family = gaussian())\n",
      "\n",
      "Deviance Residuals: \n",
      "    Min       1Q   Median       3Q      Max  \n",
      "-246.69  -138.11   -39.13   176.57   274.28  \n",
      "\n",
      "Coefficients:\n",
      "         Estimate Std. Error t value Pr(>|t|)    \n",
      "sexM     -1268.67    1114.64  -1.138 0.268492    \n",
      "sexF     -2141.67    1163.60  -1.841 0.080574 .  \n",
      "age        111.98      29.05   3.855 0.000986 ***\n",
      "sexF:age    18.42      41.76   0.441 0.663893    \n",
      "---\n",
      "Signif. codes:  0 ‘***’ 0.001 ‘**’ 0.01 ‘*’ 0.05 ‘.’ 0.1 ‘ ’ 1\n",
      "\n",
      "(Dispersion parameter for gaussian family taken to be 32621.23)\n",
      "\n",
      "    Null deviance: 213198964  on 24  degrees of freedom\n",
      "Residual deviance:    652425  on 20  degrees of freedom\n",
      "AIC: 323.16\n",
      "\n",
      "Number of Fisher Scoring iterations: 2\n",
      "\n",
      "\n",
      "> anova(z0,zz)\n",
      "Analysis of Deviance Table\n",
      "\n",
      "Model 1: birthw ~ sex + age - 1\n",
      "Model 2: birthw ~ sex + age + sex:age - 1\n",
      "  Resid. Df Resid. Dev Df Deviance\n",
      "1        21     658771            \n",
      "2        20     652425  1   6346.2\n",
      "\n",
      "> ## Poisson Regression Data (Page 42)\n",
      "> x <- c(-1,-1,0,0,0,0,1,1,1)\n",
      "\n",
      "> y <- c(2,3,6,7,8,9,10,12,15)\n",
      "\n",
      "> summary(glm(y~x, family=poisson(link=\"identity\")))\n",
      "\n",
      "Call:\n",
      "glm(formula = y ~ x, family = poisson(link = \"identity\"))\n",
      "\n",
      "Deviance Residuals: \n",
      "    Min       1Q   Median       3Q      Max  \n",
      "-0.7019  -0.3377  -0.1105   0.2958   0.7184  \n",
      "\n",
      "Coefficients:\n",
      "            Estimate Std. Error z value Pr(>|z|)    \n",
      "(Intercept)   7.4516     0.8841   8.428  < 2e-16 ***\n",
      "x             4.9353     1.0892   4.531 5.86e-06 ***\n",
      "---\n",
      "Signif. codes:  0 ‘***’ 0.001 ‘**’ 0.01 ‘*’ 0.05 ‘.’ 0.1 ‘ ’ 1\n",
      "\n",
      "(Dispersion parameter for poisson family taken to be 1)\n",
      "\n",
      "    Null deviance: 18.4206  on 8  degrees of freedom\n",
      "Residual deviance:  1.8947  on 7  degrees of freedom\n",
      "AIC: 40.008\n",
      "\n",
      "Number of Fisher Scoring iterations: 3\n",
      "\n",
      "\n",
      "> ## Calorie Data (Page 45)\n",
      "> calorie <- data.frame(\n",
      "+     carb = c(33,40,37,27,30,43,34,48,30,38,\n",
      "+ \t     50,51,30,36,41,42,46,24,35,37),\n",
      "+     age\t = c(33,47,49,35,46,52,62,23,32,42,\n",
      "+ \t     31,61,63,40,50,64,56,61,48,28),\n",
      "+     wgt\t = c(100, 92,135,144,140,101, 95,101, 98,105,\n",
      "+ \t     108, 85,130,127,109,107,117,100,118,102),\n",
      "+     prot = c(14,15,18,12,15,15,14,17,15,14,\n",
      "+ \t     17,19,19,20,15,16,18,13,18,14))\n",
      "\n",
      "> summary(lmcal <- lm(carb~age+wgt+prot, data= calorie))\n",
      "\n",
      "Call:\n",
      "lm(formula = carb ~ age + wgt + prot, data = calorie)\n",
      "\n",
      "Residuals:\n",
      "     Min       1Q   Median       3Q      Max \n",
      "-10.3424  -4.8203   0.9897   3.8553   7.9087 \n",
      "\n",
      "Coefficients:\n",
      "            Estimate Std. Error t value Pr(>|t|)   \n",
      "(Intercept) 36.96006   13.07128   2.828  0.01213 * \n",
      "age         -0.11368    0.10933  -1.040  0.31389   \n",
      "wgt         -0.22802    0.08329  -2.738  0.01460 * \n",
      "prot         1.95771    0.63489   3.084  0.00712 **\n",
      "---\n",
      "Signif. codes:  0 ‘***’ 0.001 ‘**’ 0.01 ‘*’ 0.05 ‘.’ 0.1 ‘ ’ 1\n",
      "\n",
      "Residual standard error: 5.956 on 16 degrees of freedom\n",
      "Multiple R-squared:  0.4805,\tAdjusted R-squared:  0.3831 \n",
      "F-statistic: 4.934 on 3 and 16 DF,  p-value: 0.01297\n",
      "\n",
      "\n",
      "> ## Extended Plant Data (Page 59)\n",
      "> ctl <-\tc(4.17,5.58,5.18,6.11,4.50,4.61,5.17,4.53,5.33,5.14)\n",
      "\n",
      "> trtA <- c(4.81,4.17,4.41,3.59,5.87,3.83,6.03,4.89,4.32,4.69)\n",
      "\n",
      "> trtB <- c(6.31,5.12,5.54,5.50,5.37,5.29,4.92,6.15,5.80,5.26)\n",
      "\n",
      "> group <- gl(3, length(ctl), labels=c(\"Ctl\",\"A\",\"B\"))\n",
      "\n",
      "> weight <- c(ctl,trtA,trtB)\n",
      "\n",
      "> anova(lmwg <- lm(weight~group))\n",
      "Analysis of Variance Table\n",
      "\n",
      "Response: weight\n",
      "          Df  Sum Sq Mean Sq F value  Pr(>F)  \n",
      "group      2  3.7663  1.8832  4.8461 0.01591 *\n",
      "Residuals 27 10.4921  0.3886                  \n",
      "---\n",
      "Signif. codes:  0 ‘***’ 0.001 ‘**’ 0.01 ‘*’ 0.05 ‘.’ 0.1 ‘ ’ 1\n",
      "\n",
      "> summary(lmwg)\n",
      "\n",
      "Call:\n",
      "lm(formula = weight ~ group)\n",
      "\n",
      "Residuals:\n",
      "    Min      1Q  Median      3Q     Max \n",
      "-1.0710 -0.4180 -0.0060  0.2627  1.3690 \n",
      "\n",
      "Coefficients:\n",
      "            Estimate Std. Error t value Pr(>|t|)    \n",
      "(Intercept)   5.0320     0.1971  25.527   <2e-16 ***\n",
      "groupA       -0.3710     0.2788  -1.331   0.1944    \n",
      "groupB        0.4940     0.2788   1.772   0.0877 .  \n",
      "---\n",
      "Signif. codes:  0 ‘***’ 0.001 ‘**’ 0.01 ‘*’ 0.05 ‘.’ 0.1 ‘ ’ 1\n",
      "\n",
      "Residual standard error: 0.6234 on 27 degrees of freedom\n",
      "Multiple R-squared:  0.2641,\tAdjusted R-squared:  0.2096 \n",
      "F-statistic: 4.846 on 2 and 27 DF,  p-value: 0.01591\n",
      "\n",
      "\n",
      "> coef(lmwg)\n",
      "(Intercept)      groupA      groupB \n",
      "      5.032      -0.371       0.494 \n",
      "\n",
      "> coef(summary(lmwg))#- incl.  std.err,  t- and P- values.\n",
      "            Estimate Std. Error   t value     Pr(>|t|)\n",
      "(Intercept)    5.032  0.1971284 25.526514 1.936575e-20\n",
      "groupA        -0.371  0.2787816 -1.330791 1.943879e-01\n",
      "groupB         0.494  0.2787816  1.771996 8.768168e-02\n",
      "\n",
      "> ## Fictitious Anova Data (Page 64)\n",
      "> y <- c(6.8,6.6,5.3,6.1,7.5,7.4,7.2,6.5,7.8,9.1,8.8,9.1)\n",
      "\n",
      "> a <- gl(3,4)\n",
      "\n",
      "> b <- gl(2,2, length(a))\n",
      "\n",
      "> anova(z <- lm(y~a*b))\n",
      "Analysis of Variance Table\n",
      "\n",
      "Response: y\n",
      "          Df  Sum Sq Mean Sq F value   Pr(>F)   \n",
      "a          2 12.7400  6.3700 25.8243 0.001127 **\n",
      "b          1  0.4033  0.4033  1.6351 0.248225   \n",
      "a:b        2  1.2067  0.6033  2.4459 0.167164   \n",
      "Residuals  6  1.4800  0.2467                    \n",
      "---\n",
      "Signif. codes:  0 ‘***’ 0.001 ‘**’ 0.01 ‘*’ 0.05 ‘.’ 0.1 ‘ ’ 1\n",
      "\n",
      "> ## Achievement Scores (Page 70)\n",
      "> y <- c(6,4,5,3,4,3,6, 8,9,7,9,8,5,7, 6,7,7,7,8,5,7)\n",
      "\n",
      "> x <- c(3,1,3,1,2,1,4, 4,5,5,4,3,1,2, 3,2,2,3,4,1,4)\n",
      "\n",
      "> m <- gl(3,7)\n",
      "\n",
      "> anova(z <- lm(y~x+m))\n",
      "Analysis of Variance Table\n",
      "\n",
      "Response: y\n",
      "          Df Sum Sq Mean Sq F value    Pr(>F)    \n",
      "x          1 36.575  36.575  60.355 5.428e-07 ***\n",
      "m          2 16.932   8.466  13.970 0.0002579 ***\n",
      "Residuals 17 10.302   0.606                      \n",
      "---\n",
      "Signif. codes:  0 ‘***’ 0.001 ‘**’ 0.01 ‘*’ 0.05 ‘.’ 0.1 ‘ ’ 1\n",
      "\n",
      "> ## Beetle Data (Page 78)\n",
      "> dose <- c(1.6907, 1.7242, 1.7552, 1.7842, 1.8113, 1.8369, 1.861, 1.8839)\n",
      "\n",
      "> x <- c( 6, 13, 18, 28, 52, 53, 61, 60)\n",
      "\n",
      "> n <- c(59, 60, 62, 56, 63, 59, 62, 60)\n",
      "\n",
      "> dead <- cbind(x, n-x)\n",
      "\n",
      "> summary(     glm(dead ~ dose, family=binomial(link=logit)))\n",
      "\n",
      "Call:\n",
      "glm(formula = dead ~ dose, family = binomial(link = logit))\n",
      "\n",
      "Deviance Residuals: \n",
      "    Min       1Q   Median       3Q      Max  \n",
      "-1.5941  -0.3944   0.8329   1.2592   1.5940  \n",
      "\n",
      "Coefficients:\n",
      "            Estimate Std. Error z value Pr(>|z|)    \n",
      "(Intercept)  -60.717      5.181  -11.72   <2e-16 ***\n",
      "dose          34.270      2.912   11.77   <2e-16 ***\n",
      "---\n",
      "Signif. codes:  0 ‘***’ 0.001 ‘**’ 0.01 ‘*’ 0.05 ‘.’ 0.1 ‘ ’ 1\n",
      "\n",
      "(Dispersion parameter for binomial family taken to be 1)\n",
      "\n",
      "    Null deviance: 284.202  on 7  degrees of freedom\n",
      "Residual deviance:  11.232  on 6  degrees of freedom\n",
      "AIC: 41.43\n",
      "\n",
      "Number of Fisher Scoring iterations: 4\n",
      "\n",
      "\n",
      "> summary(     glm(dead ~ dose, family=binomial(link=probit)))\n",
      "\n",
      "Call:\n",
      "glm(formula = dead ~ dose, family = binomial(link = probit))\n",
      "\n",
      "Deviance Residuals: \n",
      "    Min       1Q   Median       3Q      Max  \n",
      "-1.5714  -0.4703   0.7501   1.0632   1.3449  \n",
      "\n",
      "Coefficients:\n",
      "            Estimate Std. Error z value Pr(>|z|)    \n",
      "(Intercept)  -34.935      2.648  -13.19   <2e-16 ***\n",
      "dose          19.728      1.487   13.27   <2e-16 ***\n",
      "---\n",
      "Signif. codes:  0 ‘***’ 0.001 ‘**’ 0.01 ‘*’ 0.05 ‘.’ 0.1 ‘ ’ 1\n",
      "\n",
      "(Dispersion parameter for binomial family taken to be 1)\n",
      "\n",
      "    Null deviance: 284.20  on 7  degrees of freedom\n",
      "Residual deviance:  10.12  on 6  degrees of freedom\n",
      "AIC: 40.318\n",
      "\n",
      "Number of Fisher Scoring iterations: 4\n",
      "\n",
      "\n",
      "> summary(z <- glm(dead ~ dose, family=binomial(link=cloglog)))\n",
      "\n",
      "Call:\n",
      "glm(formula = dead ~ dose, family = binomial(link = cloglog))\n",
      "\n",
      "Deviance Residuals: \n",
      "     Min        1Q    Median        3Q       Max  \n",
      "-0.80329  -0.55135   0.03089   0.38315   1.28883  \n",
      "\n",
      "Coefficients:\n",
      "            Estimate Std. Error z value Pr(>|z|)    \n",
      "(Intercept)  -39.572      3.240  -12.21   <2e-16 ***\n",
      "dose          22.041      1.799   12.25   <2e-16 ***\n",
      "---\n",
      "Signif. codes:  0 ‘***’ 0.001 ‘**’ 0.01 ‘*’ 0.05 ‘.’ 0.1 ‘ ’ 1\n",
      "\n",
      "(Dispersion parameter for binomial family taken to be 1)\n",
      "\n",
      "    Null deviance: 284.2024  on 7  degrees of freedom\n",
      "Residual deviance:   3.4464  on 6  degrees of freedom\n",
      "AIC: 33.644\n",
      "\n",
      "Number of Fisher Scoring iterations: 4\n",
      "\n",
      "\n",
      "> anova(z, update(z, dead ~ dose -1))\n",
      "Analysis of Deviance Table\n",
      "\n",
      "Model 1: dead ~ dose\n",
      "Model 2: dead ~ dose - 1\n",
      "  Resid. Df Resid. Dev Df Deviance\n",
      "1         6      3.446            \n",
      "2         7    285.222 -1  -281.78\n",
      "\n",
      "> ## Anther Data (Page 84)\n",
      "> ## Note that the proportions below are not exactly\n",
      "> ## in accord with the sample sizes quoted below.\n",
      "> ## In particular, the last value, 5/9, should have been 0.556 instead of 0.555:\n",
      "> n <- c(102,  99,   108,\t 76,   81,   90)\n",
      "\n",
      "> p <- c(0.539,0.525,0.528,0.724,0.617,0.555)\n",
      "\n",
      "> x <- round(n*p)\n",
      "\n",
      "> ## x <- n*p\n",
      "> y <- cbind(x,n-x)\n",
      "\n",
      "> f <- rep(c(40,150,350),2)\n",
      "\n",
      "> (g <- gl(2,3))\n",
      "[1] 1 1 1 2 2 2\n",
      "Levels: 1 2\n",
      "\n",
      "> summary(glm(y ~ g*f, family=binomial(link=\"logit\")))\n",
      "\n",
      "Call:\n",
      "glm(formula = y ~ g * f, family = binomial(link = \"logit\"))\n",
      "\n",
      "Deviance Residuals: \n",
      "       1         2         3         4         5         6  \n",
      " 0.08269  -0.12998   0.04414   0.42320  -0.60082   0.19522  \n",
      "\n",
      "Coefficients:\n",
      "              Estimate Std. Error z value Pr(>|z|)  \n",
      "(Intercept)  0.1456719  0.1975451   0.737   0.4609  \n",
      "g2           0.7963143  0.3125046   2.548   0.0108 *\n",
      "f           -0.0001227  0.0008782  -0.140   0.8889  \n",
      "g2:f        -0.0020493  0.0013483  -1.520   0.1285  \n",
      "---\n",
      "Signif. codes:  0 ‘***’ 0.001 ‘**’ 0.01 ‘*’ 0.05 ‘.’ 0.1 ‘ ’ 1\n",
      "\n",
      "(Dispersion parameter for binomial family taken to be 1)\n",
      "\n",
      "    Null deviance: 10.45197  on 5  degrees of freedom\n",
      "Residual deviance:  0.60387  on 2  degrees of freedom\n",
      "AIC: 38.172\n",
      "\n",
      "Number of Fisher Scoring iterations: 3\n",
      "\n",
      "\n",
      "> summary(glm(y ~ g + f, family=binomial(link=\"logit\")))\n",
      "\n",
      "Call:\n",
      "glm(formula = y ~ g + f, family = binomial(link = \"logit\"))\n",
      "\n",
      "Deviance Residuals: \n",
      "      1        2        3        4        5        6  \n",
      "-0.5507  -0.2781   0.7973   1.1558  -0.3688  -0.6584  \n",
      "\n",
      "Coefficients:\n",
      "             Estimate Std. Error z value Pr(>|z|)  \n",
      "(Intercept)  0.306643   0.167629   1.829   0.0674 .\n",
      "g2           0.405554   0.174560   2.323   0.0202 *\n",
      "f           -0.000997   0.000665  -1.499   0.1338  \n",
      "---\n",
      "Signif. codes:  0 ‘***’ 0.001 ‘**’ 0.01 ‘*’ 0.05 ‘.’ 0.1 ‘ ’ 1\n",
      "\n",
      "(Dispersion parameter for binomial family taken to be 1)\n",
      "\n",
      "    Null deviance: 10.4520  on 5  degrees of freedom\n",
      "Residual deviance:  2.9218  on 3  degrees of freedom\n",
      "AIC: 38.49\n",
      "\n",
      "Number of Fisher Scoring iterations: 3\n",
      "\n",
      "\n",
      "> ## The \"final model\"\n",
      "> summary(glm.p84 <- glm(y~g,  family=binomial(link=\"logit\")))\n",
      "\n",
      "Call:\n",
      "glm(formula = y ~ g, family = binomial(link = \"logit\"))\n",
      "\n",
      "Deviance Residuals: \n",
      "       1         2         3         4         5         6  \n",
      " 0.17150  -0.10947  -0.06177   1.77208  -0.19040  -1.39686  \n",
      "\n",
      "Coefficients:\n",
      "            Estimate Std. Error z value Pr(>|z|)  \n",
      "(Intercept)   0.1231     0.1140   1.080   0.2801  \n",
      "g2            0.3985     0.1741   2.289   0.0221 *\n",
      "---\n",
      "Signif. codes:  0 ‘***’ 0.001 ‘**’ 0.01 ‘*’ 0.05 ‘.’ 0.1 ‘ ’ 1\n",
      "\n",
      "(Dispersion parameter for binomial family taken to be 1)\n",
      "\n",
      "    Null deviance: 10.452  on 5  degrees of freedom\n",
      "Residual deviance:  5.173  on 4  degrees of freedom\n",
      "AIC: 38.741\n",
      "\n",
      "Number of Fisher Scoring iterations: 3\n",
      "\n",
      "\n",
      "> op <- par(mfrow = c(2,2), oma = c(0,0,1,0))\n",
      "\n",
      "> plot(glm.p84) # well ?\n"
     ]
    },
    {
     "data": {
      "image/png": "[encoded data removed]",
      "text/plain": [
       "Plot with title “Dobson's Birth Weight Data”"
      ]
     },
     "metadata": {},
     "output_type": "display_data"
    },
    {
     "name": "stdout",
     "output_type": "stream",
     "text": [
      "\n",
      "> par(op)\n",
      "\n",
      "> ## Tumour Data (Page 92)\n",
      "> counts <- c(22,2,10,16,54,115,19,33,73,11,17,28)\n",
      "\n",
      "> type <- gl(4,3,12,labels=c(\"freckle\",\"superficial\",\"nodular\",\"indeterminate\"))\n",
      "\n",
      "> site <- gl(3,1,12,labels=c(\"head/neck\",\"trunk\",\"extremities\"))\n",
      "\n",
      "> data.frame(counts,type,site)\n",
      "   counts          type        site\n",
      "1      22       freckle   head/neck\n",
      "2       2       freckle       trunk\n",
      "3      10       freckle extremities\n",
      "4      16   superficial   head/neck\n",
      "5      54   superficial       trunk\n",
      "6     115   superficial extremities\n",
      "7      19       nodular   head/neck\n",
      "8      33       nodular       trunk\n",
      "9      73       nodular extremities\n",
      "10     11 indeterminate   head/neck\n",
      "11     17 indeterminate       trunk\n",
      "12     28 indeterminate extremities\n",
      "\n",
      "> summary(z <- glm(counts ~ type + site, family=poisson()))\n",
      "\n",
      "Call:\n",
      "glm(formula = counts ~ type + site, family = poisson())\n",
      "\n",
      "Deviance Residuals: \n",
      "    Min       1Q   Median       3Q      Max  \n",
      "-3.0453  -1.0741   0.1297   0.5857   5.1354  \n",
      "\n",
      "Coefficients:\n",
      "                  Estimate Std. Error z value Pr(>|z|)    \n",
      "(Intercept)         1.7544     0.2040   8.600  < 2e-16 ***\n",
      "typesuperficial     1.6940     0.1866   9.079  < 2e-16 ***\n",
      "typenodular         1.3020     0.1934   6.731 1.68e-11 ***\n",
      "typeindeterminate   0.4990     0.2174   2.295  0.02173 *  \n",
      "sitetrunk           0.4439     0.1554   2.857  0.00427 ** \n",
      "siteextremities     1.2010     0.1383   8.683  < 2e-16 ***\n",
      "---\n",
      "Signif. codes:  0 ‘***’ 0.001 ‘**’ 0.01 ‘*’ 0.05 ‘.’ 0.1 ‘ ’ 1\n",
      "\n",
      "(Dispersion parameter for poisson family taken to be 1)\n",
      "\n",
      "    Null deviance: 295.203  on 11  degrees of freedom\n",
      "Residual deviance:  51.795  on  6  degrees of freedom\n",
      "AIC: 122.91\n",
      "\n",
      "Number of Fisher Scoring iterations: 5\n",
      "\n",
      "\n",
      "> ## Randomized Controlled Trial (Page 93)\n",
      "> counts <- c(18,17,15, 20,10,20, 25,13,12)\n",
      "\n",
      "> outcome   <- gl(3, 1, length(counts))\n",
      "\n",
      "> treatment <- gl(3, 3)\n",
      "\n",
      "> summary(z <- glm(counts ~ outcome + treatment, family=poisson()))\n",
      "\n",
      "Call:\n",
      "glm(formula = counts ~ outcome + treatment, family = poisson())\n",
      "\n",
      "Deviance Residuals: \n",
      "       1         2         3         4         5         6         7         8  \n",
      "-0.67125   0.96272  -0.16965  -0.21999  -0.95552   1.04939   0.84715  -0.09167  \n",
      "       9  \n",
      "-0.96656  \n",
      "\n",
      "Coefficients:\n",
      "              Estimate Std. Error z value Pr(>|z|)    \n",
      "(Intercept)  3.045e+00  1.709e-01  17.815   <2e-16 ***\n",
      "outcome2    -4.543e-01  2.022e-01  -2.247   0.0246 *  \n",
      "outcome3    -2.930e-01  1.927e-01  -1.520   0.1285    \n",
      "treatment2   1.338e-15  2.000e-01   0.000   1.0000    \n",
      "treatment3   1.421e-15  2.000e-01   0.000   1.0000    \n",
      "---\n",
      "Signif. codes:  0 ‘***’ 0.001 ‘**’ 0.01 ‘*’ 0.05 ‘.’ 0.1 ‘ ’ 1\n",
      "\n",
      "(Dispersion parameter for poisson family taken to be 1)\n",
      "\n",
      "    Null deviance: 10.5814  on 8  degrees of freedom\n",
      "Residual deviance:  5.1291  on 4  degrees of freedom\n",
      "AIC: 56.761\n",
      "\n",
      "Number of Fisher Scoring iterations: 4\n",
      "\n",
      "\n",
      "> ## Peptic Ulcers and Blood Groups\n",
      "> counts <- c(579, 4219, 911, 4578, 246, 3775, 361, 4532, 291, 5261, 396, 6598)\n",
      "\n",
      "> group <- gl(2, 1, 12, labels=c(\"cases\",\"controls\"))\n",
      "\n",
      "> blood <- gl(2, 2, 12, labels=c(\"A\",\"O\"))\n",
      "\n",
      "> city  <- gl(3, 4, 12, labels=c(\"London\",\"Manchester\",\"Newcastle\"))\n",
      "\n",
      "> cbind(group, blood, city, counts) # gives internal codes for the factors\n",
      "      group blood city counts\n",
      " [1,]     1     1    1    579\n",
      " [2,]     2     1    1   4219\n",
      " [3,]     1     2    1    911\n",
      " [4,]     2     2    1   4578\n",
      " [5,]     1     1    2    246\n",
      " [6,]     2     1    2   3775\n",
      " [7,]     1     2    2    361\n",
      " [8,]     2     2    2   4532\n",
      " [9,]     1     1    3    291\n",
      "[10,]     2     1    3   5261\n",
      "[11,]     1     2    3    396\n",
      "[12,]     2     2    3   6598\n",
      "\n",
      "> summary(z1 <- glm(counts ~ group*(city + blood), family=poisson()))\n",
      "\n",
      "Call:\n",
      "glm(formula = counts ~ group * (city + blood), family = poisson())\n",
      "\n",
      "Deviance Residuals: \n",
      "      1        2        3        4        5        6        7        8  \n",
      "-0.7520   3.0183   0.6099  -2.8137   0.1713  -0.4339  -0.1405   0.3977  \n",
      "      9       10       11       12  \n",
      " 0.9318  -2.2691  -0.7742   2.0648  \n",
      "\n",
      "Coefficients:\n",
      "                             Estimate Std. Error z value Pr(>|z|)    \n",
      "(Intercept)                   6.39239    0.03476  183.92  < 2e-16 ***\n",
      "groupcontrols                 1.90813    0.03691   51.69  < 2e-16 ***\n",
      "cityManchester               -0.89800    0.04815  -18.65  < 2e-16 ***\n",
      "cityNewcastle                -0.77420    0.04612  -16.79  < 2e-16 ***\n",
      "bloodO                        0.40187    0.03867   10.39  < 2e-16 ***\n",
      "groupcontrols:cityManchester  0.84069    0.05052   16.64  < 2e-16 ***\n",
      "groupcontrols:cityNewcastle   1.07287    0.04822   22.25  < 2e-16 ***\n",
      "groupcontrols:bloodO         -0.23208    0.04043   -5.74 9.46e-09 ***\n",
      "---\n",
      "Signif. codes:  0 ‘***’ 0.001 ‘**’ 0.01 ‘*’ 0.05 ‘.’ 0.1 ‘ ’ 1\n",
      "\n",
      "(Dispersion parameter for poisson family taken to be 1)\n",
      "\n",
      "    Null deviance: 26717.157  on 11  degrees of freedom\n",
      "Residual deviance:    29.241  on  4  degrees of freedom\n",
      "AIC: 154.32\n",
      "\n",
      "Number of Fisher Scoring iterations: 3\n",
      "\n",
      "\n",
      "> summary(z2 <- glm(counts ~ group*city + blood, family=poisson()),\n",
      "+         correlation = TRUE)\n",
      "\n",
      "Call:\n",
      "glm(formula = counts ~ group * city + blood, family = poisson())\n",
      "\n",
      "Deviance Residuals: \n",
      "      1        2        3        4        5        6        7        8  \n",
      "-3.7688   3.7168   3.2813  -3.4418  -1.7675   0.2387   1.5565  -0.2174  \n",
      "      9       10       11       12  \n",
      "-1.1458  -1.4687   1.0218   1.3275  \n",
      "\n",
      "Coefficients:\n",
      "                             Estimate Std. Error z value Pr(>|z|)    \n",
      "(Intercept)                   6.51395    0.02663  244.60   <2e-16 ***\n",
      "groupcontrols                 1.77563    0.02801   63.38   <2e-16 ***\n",
      "cityManchester               -0.89800    0.04815  -18.65   <2e-16 ***\n",
      "cityNewcastle                -0.77420    0.04612  -16.79   <2e-16 ***\n",
      "bloodO                        0.18988    0.01128   16.84   <2e-16 ***\n",
      "groupcontrols:cityManchester  0.84069    0.05052   16.64   <2e-16 ***\n",
      "groupcontrols:cityNewcastle   1.07287    0.04822   22.25   <2e-16 ***\n",
      "---\n",
      "Signif. codes:  0 ‘***’ 0.001 ‘**’ 0.01 ‘*’ 0.05 ‘.’ 0.1 ‘ ’ 1\n",
      "\n",
      "(Dispersion parameter for poisson family taken to be 1)\n",
      "\n",
      "    Null deviance: 26717.157  on 11  degrees of freedom\n",
      "Residual deviance:    62.558  on  5  degrees of freedom\n",
      "AIC: 185.63\n",
      "\n",
      "Number of Fisher Scoring iterations: 4\n",
      "\n",
      "Correlation of Coefficients:\n",
      "                             (Intercept) groupcontrols cityManchester\n",
      "groupcontrols                -0.90                                   \n",
      "cityManchester               -0.52        0.50                       \n",
      "cityNewcastle                -0.55        0.52          0.30         \n",
      "bloodO                       -0.23        0.00          0.00         \n",
      "groupcontrols:cityManchester  0.50       -0.55         -0.95         \n",
      "groupcontrols:cityNewcastle   0.52       -0.58         -0.29         \n",
      "                             cityNewcastle bloodO groupcontrols:cityManchester\n",
      "groupcontrols                                                                 \n",
      "cityManchester                                                                \n",
      "cityNewcastle                                                                 \n",
      "bloodO                        0.00                                            \n",
      "groupcontrols:cityManchester -0.29          0.00                              \n",
      "groupcontrols:cityNewcastle  -0.96          0.00   0.32                       \n",
      "\n",
      "\n",
      "> anova(z2, z1, test = \"Chisq\")\n",
      "Analysis of Deviance Table\n",
      "\n",
      "Model 1: counts ~ group * city + blood\n",
      "Model 2: counts ~ group * (city + blood)\n",
      "  Resid. Df Resid. Dev Df Deviance  Pr(>Chi)    \n",
      "1         5     62.558                          \n",
      "2         4     29.241  1   33.318 7.827e-09 ***\n",
      "---\n",
      "Signif. codes:  0 ‘***’ 0.001 ‘**’ 0.01 ‘*’ 0.05 ‘.’ 0.1 ‘ ’ 1\n"
     ]
    },
    {
     "data": {
      "image/png": "[encoded data removed]",
      "text/plain": [
       "Plot with title “”"
      ]
     },
     "metadata": {},
     "output_type": "display_data"
    }
   ],
   "source": [
    "demo(lm.glm, package = \"stats\", ask = TRUE)"
   ]
  },
  {
   "cell_type": "markdown",
   "metadata": {
    "collapsed": false,
    "deletable": true,
    "editable": true
   },
   "source": [
    "Por ejemplo corre el siguiente código `demo(Japanese)`."
   ]
  },
  {
   "cell_type": "markdown",
   "metadata": {
    "deletable": true,
    "editable": true
   },
   "source": [
    "R es modular y se divide en **paquetes**,  algunos de los cuales contienen *vignettes*, que son documentos cortos sobre cómo usar los paquetes. Se puede explorar todos los  *vignettes*  usando `browseVignettes`:"
   ]
  },
  {
   "cell_type": "code",
   "execution_count": 18,
   "metadata": {
    "collapsed": false,
    "deletable": true,
    "editable": true
   },
   "outputs": [
    {
     "name": "stderr",
     "output_type": "stream",
     "text": [
      "starting httpd help server ... done\n"
     ]
    },
    {
     "data": {},
     "metadata": {},
     "output_type": "display_data"
    }
   ],
   "source": [
    "browseVignettes()"
   ]
  },
  {
   "cell_type": "markdown",
   "metadata": {
    "deletable": true,
    "editable": true
   },
   "source": [
    "También puede acceder a un  *vignettes* específico mediante la función `vignette` (pero si su memoria es tan mala como la mía, usar  `browseVignettes` combinado con una búsqueda de página es más fácil que tratar de recordar el nombre de un *vignette* y en qué paquete está):"
   ]
  },
  {
   "cell_type": "code",
   "execution_count": 19,
   "metadata": {
    "collapsed": false,
    "deletable": true,
    "editable": true
   },
   "outputs": [
    {
     "data": {},
     "metadata": {},
     "output_type": "display_data"
    }
   ],
   "source": [
    "vignette(\"Sweave\", package = \"utils\")"
   ]
  },
  {
   "cell_type": "markdown",
   "metadata": {
    "deletable": true,
    "editable": true
   },
   "source": [
    "El operador de búsqueda de ayuda `??`  y `browseVignettes` sólo encuentran paquetes que hayan sido instalados. Si se desea buscar cualquier  paquete, puede utilizar `RSiteSearch`, que ejecuta una consulta en http://search.r-project.org. Los términos que tenga varias palabras  necesitan ser escritos entre llaves."
   ]
  },
  {
   "cell_type": "code",
   "execution_count": 20,
   "metadata": {
    "collapsed": false,
    "deletable": true,
    "editable": true
   },
   "outputs": [
    {
     "name": "stdout",
     "output_type": "stream",
     "text": [
      "A search query has been submitted to http://search.r-project.org\n",
      "The results page should open in your browser shortly\n"
     ]
    }
   ],
   "source": [
    "RSiteSearch(\"{Bayesian regression}\")"
   ]
  },
  {
   "cell_type": "markdown",
   "metadata": {
    "deletable": true,
    "editable": true
   },
   "source": [
    "Algunos recursos importantes para R, pueden ser:\n",
    "\n",
    " -  http://www.r-bloggers.com/. Todo lo referente al ecosistema R, esta aquí, gracias a la contribucion de más o menos 450 bloggers.\n",
    " \n",
    " - **Stack Overflow**, Es un sitio para encontrar soluciones a problemas informáticos. Para R, se tiene el siguiente enlace: http://stackoverflow.com/questions/tagged/r.\n",
    " \n",
    " - http://zoonek2.free.fr/UNIX/48_R/02.html Uno de los mejores cursos sobre R. Hecho por Vincent Zoonekynd."
   ]
  },
  {
   "cell_type": "code",
   "execution_count": null,
   "metadata": {
    "collapsed": true,
    "deletable": true,
    "editable": true
   },
   "outputs": [],
   "source": []
  }
 ],
 "metadata": {
  "anaconda-cloud": {},
  "kernelspec": {
   "display_name": "R",
   "language": "R",
   "name": "ir"
  },
  "language_info": {
   "codemirror_mode": "r",
   "file_extension": ".r",
   "mimetype": "text/x-r-source",
   "name": "R",
   "pygments_lexer": "r",
   "version": "3.3.2"
  }
 },
 "nbformat": 4,
 "nbformat_minor": 1
}
