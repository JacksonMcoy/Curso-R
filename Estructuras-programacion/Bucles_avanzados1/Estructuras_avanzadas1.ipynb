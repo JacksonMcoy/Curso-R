{
 "cells": [
  {
   "cell_type": "markdown",
   "metadata": {
    "deletable": true,
    "editable": true
   },
   "source": [
    "## Bucles avanzados"
   ]
  },
  {
   "cell_type": "markdown",
   "metadata": {
    "deletable": true,
    "editable": true
   },
   "source": [
    "La capacidad de sólo realizar bucles de R va mucho más allá de los bucles  estándar mencionados anteriormente. R como lenguaje de programación, proporciona la posibilidad de aplicar funciones a cada elemento de un vector, lista o matriz, de manera que se pueda escribir código pseudo-vectorizado, donde la vectorización normal no es posible. Otros bucles avanazados permiten realizar operaciones estadísticas con los datos."
   ]
  },
  {
   "cell_type": "markdown",
   "metadata": {
    "deletable": true,
    "editable": true
   },
   "source": [
    "### Replicación \n",
    "\n",
    "La función `rep` repite el argumento de entrada varias veces. Otra función relacionada, `replicate`, llama a una expresión varias veces. Ambas funciones, hacen exactamente lo mismo. La diferencia ocurre cuando la generación de números aleatorios está involucrada. Si se tiene por un momento que la función de generación de números aleatorios uniformes, `runif`, no está vectorizada, `rep` repetirá el mismo número aleatorio varias veces, pero `replicate` proporciona  un número diferente cada vez:"
   ]
  },
  {
   "cell_type": "code",
   "execution_count": 1,
   "metadata": {
    "collapsed": false,
    "deletable": true,
    "editable": true
   },
   "outputs": [
    {
     "data": {
      "text/html": [
       "<ol class=list-inline>\n",
       "\t<li>0.315506113693118</li>\n",
       "\t<li>0.315506113693118</li>\n",
       "\t<li>0.315506113693118</li>\n",
       "\t<li>0.315506113693118</li>\n",
       "\t<li>0.315506113693118</li>\n",
       "</ol>\n"
      ],
      "text/latex": [
       "\\begin{enumerate*}\n",
       "\\item 0.315506113693118\n",
       "\\item 0.315506113693118\n",
       "\\item 0.315506113693118\n",
       "\\item 0.315506113693118\n",
       "\\item 0.315506113693118\n",
       "\\end{enumerate*}\n"
      ],
      "text/markdown": [
       "1. 0.315506113693118\n",
       "2. 0.315506113693118\n",
       "3. 0.315506113693118\n",
       "4. 0.315506113693118\n",
       "5. 0.315506113693118\n",
       "\n",
       "\n"
      ],
      "text/plain": [
       "[1] 0.3155061 0.3155061 0.3155061 0.3155061 0.3155061"
      ]
     },
     "metadata": {},
     "output_type": "display_data"
    }
   ],
   "source": [
    "rep(runif(1), 5)"
   ]
  },
  {
   "cell_type": "code",
   "execution_count": 2,
   "metadata": {
    "collapsed": false,
    "deletable": true,
    "editable": true
   },
   "outputs": [
    {
     "data": {
      "text/html": [
       "<ol class=list-inline>\n",
       "\t<li>0.78695066133514</li>\n",
       "\t<li>0.465591971296817</li>\n",
       "\t<li>0.509461213601753</li>\n",
       "\t<li>0.760877014137805</li>\n",
       "\t<li>0.647330216830596</li>\n",
       "</ol>\n"
      ],
      "text/latex": [
       "\\begin{enumerate*}\n",
       "\\item 0.78695066133514\n",
       "\\item 0.465591971296817\n",
       "\\item 0.509461213601753\n",
       "\\item 0.760877014137805\n",
       "\\item 0.647330216830596\n",
       "\\end{enumerate*}\n"
      ],
      "text/markdown": [
       "1. 0.78695066133514\n",
       "2. 0.465591971296817\n",
       "3. 0.509461213601753\n",
       "4. 0.760877014137805\n",
       "5. 0.647330216830596\n",
       "\n",
       "\n"
      ],
      "text/plain": [
       "[1] 0.7869507 0.4655920 0.5094612 0.7608770 0.6473302"
      ]
     },
     "metadata": {},
     "output_type": "display_data"
    }
   ],
   "source": [
    "replicate(5, runif(1))"
   ]
  },
  {
   "cell_type": "markdown",
   "metadata": {
    "deletable": true,
    "editable": true
   },
   "source": [
    "`replicate` se utiliza en  ejemplos más complicados: su uso principal es en el análisis de Monte Carlo, donde se repite un análisis  un número conocido de veces, y cada iteración es independiente de los demás."
   ]
  },
  {
   "cell_type": "code",
   "execution_count": 3,
   "metadata": {
    "collapsed": false,
    "deletable": true,
    "editable": true
   },
   "outputs": [],
   "source": [
    "help(replicate)"
   ]
  },
  {
   "cell_type": "markdown",
   "metadata": {
    "deletable": true,
    "editable": true
   },
   "source": [
    "Este siguiente ejemplo estima que el tiempo de una persona para ir al trabajo a través de diferentes métodos de transporte y es  cuando la replicación es más útil.\n",
    "\n",
    "La función `tiempo_para_viajar` utiliza `sample `para seleccionar aleatoriamente un modo de transporte (coche, autobús, tren o bicicleta), luego usa `rnorm` o `rlnorm` para encontrar un tiempo de viaje distribuido normalmente o lognormal(con parámetros que dependen del modo de transporte):"
   ]
  },
  {
   "cell_type": "code",
   "execution_count": 4,
   "metadata": {
    "collapsed": true,
    "deletable": true,
    "editable": true
   },
   "outputs": [],
   "source": [
    "tiempo_para_viajar <- function()\n",
    "{\n",
    "    modo_de_transporte <- sample(\n",
    "        c(\"car\", \"bus\", \"tren\", \"bicicleta\"),\n",
    "        size = 1,\n",
    "        prob = c(0.1, 0.2, 0.3, 0.4)\n",
    ")\n",
    "#Encontramos el tiempo de viaje, dependiendo del transporte \n",
    "    tiempo <- switch(\n",
    "        modo_de_transporte,\n",
    "        car = rlnorm(1, log(30), 0.5),\n",
    "        bus = rlnorm(1, log(40), 0.5),\n",
    "        tren = rnorm(1, 30, 10),\n",
    "        bicicleta = rnorm(1, 60, 5)\n",
    ")\n",
    "    names(tiempo) <- modo_de_transporte\n",
    "    tiempo\n",
    "}"
   ]
  },
  {
   "cell_type": "markdown",
   "metadata": {
    "deletable": true,
    "editable": true
   },
   "source": [
    "La presencia de una sentencia `switch` hace que esta función sea muy difícil de vectorizar. Esto significa que para encontrar la distribución de los tiempos de desplazamiento, necesitamos llamar repetidamente a  `tiempo_para_viajar` para generar datos  cada día, la función `replicate` nos da la vectorización instantánea:"
   ]
  },
  {
   "cell_type": "code",
   "execution_count": 5,
   "metadata": {
    "collapsed": false,
    "deletable": true,
    "editable": true
   },
   "outputs": [
    {
     "data": {
      "text/html": [
       "<dl class=dl-horizontal>\n",
       "\t<dt>bicicleta</dt>\n",
       "\t\t<dd>70.434254223424</dd>\n",
       "\t<dt>bus</dt>\n",
       "\t\t<dd>74.4188072417171</dd>\n",
       "\t<dt>bicicleta</dt>\n",
       "\t\t<dd>57.6348294918065</dd>\n",
       "\t<dt>tren</dt>\n",
       "\t\t<dd>26.8066986683896</dd>\n",
       "\t<dt>bus</dt>\n",
       "\t\t<dd>39.9761350121409</dd>\n",
       "</dl>\n"
      ],
      "text/latex": [
       "\\begin{description*}\n",
       "\\item[bicicleta] 70.434254223424\n",
       "\\item[bus] 74.4188072417171\n",
       "\\item[bicicleta] 57.6348294918065\n",
       "\\item[tren] 26.8066986683896\n",
       "\\item[bus] 39.9761350121409\n",
       "\\end{description*}\n"
      ],
      "text/markdown": [
       "bicicleta\n",
       ":   70.434254223424bus\n",
       ":   74.4188072417171bicicleta\n",
       ":   57.6348294918065tren\n",
       ":   26.8066986683896bus\n",
       ":   39.9761350121409\n",
       "\n"
      ],
      "text/plain": [
       "bicicleta       bus bicicleta      tren       bus \n",
       " 70.43425  74.41881  57.63483  26.80670  39.97614 "
      ]
     },
     "metadata": {},
     "output_type": "display_data"
    }
   ],
   "source": [
    "replicate(5, tiempo_para_viajar())"
   ]
  },
  {
   "cell_type": "markdown",
   "metadata": {
    "deletable": true,
    "editable": true
   },
   "source": [
    "Lanzamos una moneda `10` veces y queremos saber la probabilidad de conseguir más de 3 caras. Ahora bien, este es un problema trivial para la distribución binomial, pero supongamos que nos hemos olvidado de como hacerlo. Podemos resolver fácilmente este problema con una simulación de Monte Carlo. Utilizaremos el truco común de representar los sellos  con `0` y las caras con `1`, luego simularemos `10` lanzamientos de monedas `100.000` veces y veremos la frecuencia con la que esto sucede:"
   ]
  },
  {
   "cell_type": "code",
   "execution_count": 6,
   "metadata": {
    "collapsed": false,
    "deletable": true,
    "editable": true
   },
   "outputs": [
    {
     "data": {
      "text/html": [
       "0.82895"
      ],
      "text/latex": [
       "0.82895"
      ],
      "text/markdown": [
       "0.82895"
      ],
      "text/plain": [
       "[1] 0.82895"
      ]
     },
     "metadata": {},
     "output_type": "display_data"
    }
   ],
   "source": [
    "tiradas <- 100000\n",
    "# experimento1  simula una sola ronda de lanzamiento de 10 monedas\n",
    "# y retorna true  si el numero e caras es > 3\n",
    "\n",
    "experimento1 <- function(){\n",
    "  sum(sample(c(0,1),10,replace=T)) > 3\n",
    "}\n",
    "\n",
    "#ahora repetimos este experimento  '100000' veces.\n",
    "mc.binom <- sum(replicate(tiradas,experimento1()))/tiradas\n",
    "mc.binom"
   ]
  },
  {
   "cell_type": "code",
   "execution_count": 7,
   "metadata": {
    "collapsed": false,
    "deletable": true,
    "editable": true
   },
   "outputs": [
    {
     "data": {
      "text/html": [
       "0.828125"
      ],
      "text/latex": [
       "0.828125"
      ],
      "text/markdown": [
       "0.828125"
      ],
      "text/plain": [
       "[1] 0.828125"
      ]
     },
     "metadata": {},
     "output_type": "display_data"
    }
   ],
   "source": [
    "# Comparamos con la funcion de distribución binomial de R\n",
    "\n",
    "pbinom(3,10,0.5,lower.tail=FALSE)"
   ]
  },
  {
   "cell_type": "markdown",
   "metadata": {
    "deletable": true,
    "editable": true
   },
   "source": [
    "### La familia de funciones  `apply`\n",
    "\n",
    "\n",
    "Gran cantidad de R está vectorizado, de hecho, su posición predeterminada debe ser de escribir código vectorizado. A menudo es más limpio para leer, e invariablemente le da beneficios de rendimiento en comparación con lod  bucle. En algunos casos, sin embargo, tratar de lograr la vectorización significa contorsionar su código de manera antinatural. En esos casos, la aplicación de la familia de funciones `apply` puede proporcionar la buscada vectorización."
   ]
  },
  {
   "cell_type": "markdown",
   "metadata": {
    "deletable": true,
    "editable": true
   },
   "source": [
    "#### La función lapply\n",
    "\n",
    "El miembro de la familia `apply ` más simple y comúnmente utilizado es `lapply`, un  abreviado para `list apply` . La función  `lapply` toma una lista y una función como entradas, aplica la función a cada elemento de la lista  y devuelve otra lista de resultados. "
   ]
  },
  {
   "cell_type": "code",
   "execution_count": 8,
   "metadata": {
    "collapsed": false,
    "deletable": true,
    "editable": true
   },
   "outputs": [
    {
     "data": {
      "text/html": [
       "<ol class=list-inline>\n",
       "\t<li>1</li>\n",
       "\t<li>2</li>\n",
       "\t<li>3</li>\n",
       "\t<li>4</li>\n",
       "\t<li>5</li>\n",
       "</ol>\n"
      ],
      "text/latex": [
       "\\begin{enumerate*}\n",
       "\\item 1\n",
       "\\item 2\n",
       "\\item 3\n",
       "\\item 4\n",
       "\\item 5\n",
       "\\end{enumerate*}\n"
      ],
      "text/markdown": [
       "1. 1\n",
       "2. 2\n",
       "3. 3\n",
       "4. 4\n",
       "5. 5\n",
       "\n",
       "\n"
      ],
      "text/plain": [
       "[1] 1 2 3 4 5"
      ]
     },
     "metadata": {},
     "output_type": "display_data"
    },
    {
     "data": {
      "text/html": [
       "<ol>\n",
       "\t<li>TRUE</li>\n",
       "\t<li>TRUE</li>\n",
       "\t<li>TRUE</li>\n",
       "\t<li>TRUE</li>\n",
       "\t<li>TRUE</li>\n",
       "</ol>\n"
      ],
      "text/latex": [
       "\\begin{enumerate}\n",
       "\\item TRUE\n",
       "\\item TRUE\n",
       "\\item TRUE\n",
       "\\item TRUE\n",
       "\\item TRUE\n",
       "\\end{enumerate}\n"
      ],
      "text/markdown": [
       "1. TRUE\n",
       "2. TRUE\n",
       "3. TRUE\n",
       "4. TRUE\n",
       "5. TRUE\n",
       "\n",
       "\n"
      ],
      "text/plain": [
       "[[1]]\n",
       "[1] TRUE\n",
       "\n",
       "[[2]]\n",
       "[1] TRUE\n",
       "\n",
       "[[3]]\n",
       "[1] TRUE\n",
       "\n",
       "[[4]]\n",
       "[1] TRUE\n",
       "\n",
       "[[5]]\n",
       "[1] TRUE\n"
      ]
     },
     "metadata": {},
     "output_type": "display_data"
    }
   ],
   "source": [
    "xL <- 1:5\n",
    "xL\n",
    "\n",
    "# retorna una lista\n",
    "lapply(xL, is.integer)"
   ]
  },
  {
   "cell_type": "code",
   "execution_count": 9,
   "metadata": {
    "collapsed": false,
    "deletable": true,
    "editable": true
   },
   "outputs": [
    {
     "data": {
      "text/html": [
       "<ol>\n",
       "\t<li><ol class=list-inline>\n",
       "\t<li>0.598165916832563</li>\n",
       "\t<li>0.459096853402161</li>\n",
       "\t<li>2.42212077455736</li>\n",
       "</ol>\n",
       "</li>\n",
       "\t<li><ol class=list-inline>\n",
       "\t<li>0.601593404845446</li>\n",
       "\t<li>-0.155607174241841</li>\n",
       "\t<li>0.118413297115036</li>\n",
       "\t<li>0.205349781195231</li>\n",
       "</ol>\n",
       "</li>\n",
       "\t<li><ol class=list-inline>\n",
       "\t<li>-1.44167477702855</li>\n",
       "\t<li>0.502639091112187</li>\n",
       "\t<li>0.89133437347672</li>\n",
       "\t<li>-1.49063363477705</li>\n",
       "\t<li>-0.187549319474747</li>\n",
       "</ol>\n",
       "</li>\n",
       "</ol>\n"
      ],
      "text/latex": [
       "\\begin{enumerate}\n",
       "\\item \\begin{enumerate*}\n",
       "\\item 0.598165916832563\n",
       "\\item 0.459096853402161\n",
       "\\item 2.42212077455736\n",
       "\\end{enumerate*}\n",
       "\n",
       "\\item \\begin{enumerate*}\n",
       "\\item 0.601593404845446\n",
       "\\item -0.155607174241841\n",
       "\\item 0.118413297115036\n",
       "\\item 0.205349781195231\n",
       "\\end{enumerate*}\n",
       "\n",
       "\\item \\begin{enumerate*}\n",
       "\\item -1.44167477702855\n",
       "\\item 0.502639091112187\n",
       "\\item 0.89133437347672\n",
       "\\item -1.49063363477705\n",
       "\\item -0.187549319474747\n",
       "\\end{enumerate*}\n",
       "\n",
       "\\end{enumerate}\n"
      ],
      "text/markdown": [
       "1. 1. 0.598165916832563\n",
       "2. 0.459096853402161\n",
       "3. 2.42212077455736\n",
       "\n",
       "\n",
       "\n",
       "2. 1. 0.601593404845446\n",
       "2. -0.155607174241841\n",
       "3. 0.118413297115036\n",
       "4. 0.205349781195231\n",
       "\n",
       "\n",
       "\n",
       "3. 1. -1.44167477702855\n",
       "2. 0.502639091112187\n",
       "3. 0.89133437347672\n",
       "4. -1.49063363477705\n",
       "5. -0.187549319474747\n",
       "\n",
       "\n",
       "\n",
       "\n",
       "\n"
      ],
      "text/plain": [
       "[[1]]\n",
       "[1] 0.5981659 0.4590969 2.4221208\n",
       "\n",
       "[[2]]\n",
       "[1]  0.6015934 -0.1556072  0.1184133  0.2053498\n",
       "\n",
       "[[3]]\n",
       "[1] -1.4416748  0.5026391  0.8913344 -1.4906336 -0.1875493\n"
      ]
     },
     "metadata": {},
     "output_type": "display_data"
    }
   ],
   "source": [
    "# Usamos for para crear una lista independiente, de vectores\n",
    "# normalmente distribuidos\n",
    "\n",
    "len <- c(3, 4, 5)\n",
    "\n",
    "x <- list()\n",
    "\n",
    "for (i in 1:3) {\n",
    "    x[[i]] <- rnorm(len[i])\n",
    "    }\n",
    "x"
   ]
  },
  {
   "cell_type": "code",
   "execution_count": 10,
   "metadata": {
    "collapsed": false,
    "deletable": true,
    "editable": true
   },
   "outputs": [
    {
     "data": {
      "text/html": [
       "<ol>\n",
       "\t<li><ol class=list-inline>\n",
       "\t<li>0.348609730028893</li>\n",
       "\t<li>-0.926034941950527</li>\n",
       "\t<li>0.479777100007311</li>\n",
       "</ol>\n",
       "</li>\n",
       "\t<li><ol class=list-inline>\n",
       "\t<li>-1.55827154563948</li>\n",
       "\t<li>-1.20978960759183</li>\n",
       "\t<li>-0.768357772056482</li>\n",
       "\t<li>-1.10262705582606</li>\n",
       "</ol>\n",
       "</li>\n",
       "\t<li><ol class=list-inline>\n",
       "\t<li>-1.67318954817861</li>\n",
       "\t<li>0.815786855707585</li>\n",
       "\t<li>0.176668368198398</li>\n",
       "\t<li>1.06220461828719</li>\n",
       "\t<li>0.819511223956458</li>\n",
       "</ol>\n",
       "</li>\n",
       "</ol>\n"
      ],
      "text/latex": [
       "\\begin{enumerate}\n",
       "\\item \\begin{enumerate*}\n",
       "\\item 0.348609730028893\n",
       "\\item -0.926034941950527\n",
       "\\item 0.479777100007311\n",
       "\\end{enumerate*}\n",
       "\n",
       "\\item \\begin{enumerate*}\n",
       "\\item -1.55827154563948\n",
       "\\item -1.20978960759183\n",
       "\\item -0.768357772056482\n",
       "\\item -1.10262705582606\n",
       "\\end{enumerate*}\n",
       "\n",
       "\\item \\begin{enumerate*}\n",
       "\\item -1.67318954817861\n",
       "\\item 0.815786855707585\n",
       "\\item 0.176668368198398\n",
       "\\item 1.06220461828719\n",
       "\\item 0.819511223956458\n",
       "\\end{enumerate*}\n",
       "\n",
       "\\end{enumerate}\n"
      ],
      "text/markdown": [
       "1. 1. 0.348609730028893\n",
       "2. -0.926034941950527\n",
       "3. 0.479777100007311\n",
       "\n",
       "\n",
       "\n",
       "2. 1. -1.55827154563948\n",
       "2. -1.20978960759183\n",
       "3. -0.768357772056482\n",
       "4. -1.10262705582606\n",
       "\n",
       "\n",
       "\n",
       "3. 1. -1.67318954817861\n",
       "2. 0.815786855707585\n",
       "3. 0.176668368198398\n",
       "4. 1.06220461828719\n",
       "5. 0.819511223956458\n",
       "\n",
       "\n",
       "\n",
       "\n",
       "\n"
      ],
      "text/plain": [
       "[[1]]\n",
       "[1]  0.3486097 -0.9260349  0.4797771\n",
       "\n",
       "[[2]]\n",
       "[1] -1.5582715 -1.2097896 -0.7683578 -1.1026271\n",
       "\n",
       "[[3]]\n",
       "[1] -1.6731895  0.8157869  0.1766684  1.0622046  0.8195112\n"
      ]
     },
     "metadata": {},
     "output_type": "display_data"
    }
   ],
   "source": [
    "# Con lappy\n",
    "\n",
    "lapply(len, rnorm)"
   ]
  },
  {
   "cell_type": "markdown",
   "metadata": {
    "deletable": true,
    "editable": true
   },
   "source": [
    "La versión del `lapply` es mucho más simple. Aplica `rnorm()` sobre  cada elemento en `len` y coloca cada resultado en una lista. La función `lapply()` es el bloque de construcción para muchos otros funcionales, por lo que es importante entender cómo funciona. He aquí una representación gráfica:\n",
    "\n",
    "![](lapply.png)\n",
    "\n",
    "`lapply()` está escrito en C por rendimiento, pero podemos crear una implementación R simple que haga lo mismo:"
   ]
  },
  {
   "cell_type": "code",
   "execution_count": 11,
   "metadata": {
    "collapsed": true,
    "deletable": true,
    "editable": true
   },
   "outputs": [],
   "source": [
    "lapply2 <- function(x, f, ...) {\n",
    "    out <- vector(\"list\", length(x))\n",
    "    for (i in seq_along(x)) {\n",
    "        out[[i]] <- f(x[[i]], ...)\n",
    "  }\n",
    "  out\n",
    "}"
   ]
  },
  {
   "cell_type": "markdown",
   "metadata": {
    "deletable": true,
    "editable": true
   },
   "source": [
    "A partir de este código, `lapply()` es un contenedor para un patrón de bucle común: crea un contenedor para salida, aplica `f()` a cada componente de una lista y llena  el contenedor con los resultados. Todos los otros funcionales de la familia   son variaciones en este tema: utilizan simplemente diversos tipos de entrada o de salida. Los miembros de la familia `apply` se llaman **funciones de  orden superior**.\n",
    "\n"
   ]
  },
  {
   "cell_type": "markdown",
   "metadata": {
    "deletable": true,
    "editable": true
   },
   "source": [
    "Desde que los data frames son listas, `lapply` también es útil cuando quieres hacer algo a cada columna de un data frame de datos:"
   ]
  },
  {
   "cell_type": "code",
   "execution_count": 12,
   "metadata": {
    "collapsed": false,
    "deletable": true,
    "editable": true
   },
   "outputs": [
    {
     "data": {
      "text/html": [
       "<dl class=dl-horizontal>\n",
       "\t<dt>mpg</dt>\n",
       "\t\t<dd>'numeric'</dd>\n",
       "\t<dt>cyl</dt>\n",
       "\t\t<dd>'numeric'</dd>\n",
       "\t<dt>disp</dt>\n",
       "\t\t<dd>'numeric'</dd>\n",
       "\t<dt>hp</dt>\n",
       "\t\t<dd>'numeric'</dd>\n",
       "\t<dt>drat</dt>\n",
       "\t\t<dd>'numeric'</dd>\n",
       "\t<dt>wt</dt>\n",
       "\t\t<dd>'numeric'</dd>\n",
       "\t<dt>qsec</dt>\n",
       "\t\t<dd>'numeric'</dd>\n",
       "\t<dt>vs</dt>\n",
       "\t\t<dd>'numeric'</dd>\n",
       "\t<dt>am</dt>\n",
       "\t\t<dd>'numeric'</dd>\n",
       "\t<dt>gear</dt>\n",
       "\t\t<dd>'numeric'</dd>\n",
       "\t<dt>carb</dt>\n",
       "\t\t<dd>'numeric'</dd>\n",
       "</dl>\n"
      ],
      "text/latex": [
       "\\begin{description*}\n",
       "\\item[mpg] 'numeric'\n",
       "\\item[cyl] 'numeric'\n",
       "\\item[disp] 'numeric'\n",
       "\\item[hp] 'numeric'\n",
       "\\item[drat] 'numeric'\n",
       "\\item[wt] 'numeric'\n",
       "\\item[qsec] 'numeric'\n",
       "\\item[vs] 'numeric'\n",
       "\\item[am] 'numeric'\n",
       "\\item[gear] 'numeric'\n",
       "\\item[carb] 'numeric'\n",
       "\\end{description*}\n"
      ],
      "text/markdown": [
       "mpg\n",
       ":   'numeric'cyl\n",
       ":   'numeric'disp\n",
       ":   'numeric'hp\n",
       ":   'numeric'drat\n",
       ":   'numeric'wt\n",
       ":   'numeric'qsec\n",
       ":   'numeric'vs\n",
       ":   'numeric'am\n",
       ":   'numeric'gear\n",
       ":   'numeric'carb\n",
       ":   'numeric'\n",
       "\n"
      ],
      "text/plain": [
       "      mpg       cyl      disp        hp      drat        wt      qsec        vs \n",
       "\"numeric\" \"numeric\" \"numeric\" \"numeric\" \"numeric\" \"numeric\" \"numeric\" \"numeric\" \n",
       "       am      gear      carb \n",
       "\"numeric\" \"numeric\" \"numeric\" "
      ]
     },
     "metadata": {},
     "output_type": "display_data"
    }
   ],
   "source": [
    "#unlist convierte la salida de una lista a un vector\n",
    "unlist(lapply(mtcars, class))"
   ]
  },
  {
   "cell_type": "code",
   "execution_count": 13,
   "metadata": {
    "collapsed": false,
    "deletable": true,
    "editable": true
   },
   "outputs": [],
   "source": [
    "# Divide cada columna por la media\n",
    "mtcars1<- lapply(mtcars, function(x) x / mean(x))"
   ]
  },
  {
   "cell_type": "markdown",
   "metadata": {
    "deletable": true,
    "editable": true
   },
   "source": [
    "Las partes de `x` siempre se suministran como el primer argumento de `f`. Si se desea variar un argumento diferente, se puede utilizar una función anónima. El siguiente ejemplo varía la cantidad de partes  aplicado al calcular la media de un objeto `x` fijo."
   ]
  },
  {
   "cell_type": "code",
   "execution_count": 14,
   "metadata": {
    "collapsed": false,
    "deletable": true,
    "editable": true
   },
   "outputs": [
    {
     "data": {
      "text/html": [
       "<ol class=list-inline>\n",
       "\t<li>0.247921622253628</li>\n",
       "\t<li>0.114351911091958</li>\n",
       "\t<li>0.0652637931738602</li>\n",
       "\t<li>0.0409503987604498</li>\n",
       "</ol>\n"
      ],
      "text/latex": [
       "\\begin{enumerate*}\n",
       "\\item 0.247921622253628\n",
       "\\item 0.114351911091958\n",
       "\\item 0.0652637931738602\n",
       "\\item 0.0409503987604498\n",
       "\\end{enumerate*}\n"
      ],
      "text/markdown": [
       "1. 0.247921622253628\n",
       "2. 0.114351911091958\n",
       "3. 0.0652637931738602\n",
       "4. 0.0409503987604498\n",
       "\n",
       "\n"
      ],
      "text/plain": [
       "[1] 0.24792162 0.11435191 0.06526379 0.04095040"
      ]
     },
     "metadata": {},
     "output_type": "display_data"
    }
   ],
   "source": [
    "trims <- c(0, 0.1, 0.2, 0.5)\n",
    "x <- rcauchy(1000)\n",
    "unlist(lapply(trims, function(trim) mean(x, trim = trim)))"
   ]
  },
  {
   "cell_type": "markdown",
   "metadata": {
    "deletable": true,
    "editable": true
   },
   "source": [
    "#### La función sapply\n",
    "\n",
    "La lista no siempre es un contenedor favorable para los resultados. A veces, queremos que se pongan en un simple vector o en una matriz. La función `sapply` una abreviación de `simplifying list apply`, simplifica el resultado según su estructura. Supongamos que aplicamos el cuadrado a cada elemento de `1:10`. Si lo hacemos con `lapply`, tendremos una lista de números cuadrados. Este resultado parece un poco pesado y redundante porque la lista resultante es en realidad una lista de vectores numéricos de un solo valor. Sin embargo, quizás queramos mantener los resultados como un vector:"
   ]
  },
  {
   "cell_type": "code",
   "execution_count": 15,
   "metadata": {
    "collapsed": false,
    "deletable": true,
    "editable": true
   },
   "outputs": [
    {
     "data": {
      "text/html": [
       "<ol class=list-inline>\n",
       "\t<li>TRUE</li>\n",
       "\t<li>TRUE</li>\n",
       "\t<li>TRUE</li>\n",
       "\t<li>TRUE</li>\n",
       "\t<li>TRUE</li>\n",
       "</ol>\n"
      ],
      "text/latex": [
       "\\begin{enumerate*}\n",
       "\\item TRUE\n",
       "\\item TRUE\n",
       "\\item TRUE\n",
       "\\item TRUE\n",
       "\\item TRUE\n",
       "\\end{enumerate*}\n"
      ],
      "text/markdown": [
       "1. TRUE\n",
       "2. TRUE\n",
       "3. TRUE\n",
       "4. TRUE\n",
       "5. TRUE\n",
       "\n",
       "\n"
      ],
      "text/plain": [
       "[1] TRUE TRUE TRUE TRUE TRUE"
      ]
     },
     "metadata": {},
     "output_type": "display_data"
    }
   ],
   "source": [
    "sapply(xL, is.integer)"
   ]
  },
  {
   "cell_type": "code",
   "execution_count": 16,
   "metadata": {
    "collapsed": false,
    "deletable": true,
    "editable": true
   },
   "outputs": [
    {
     "data": {
      "text/html": [
       "<ol class=list-inline>\n",
       "\t<li>1</li>\n",
       "\t<li>4</li>\n",
       "\t<li>9</li>\n",
       "\t<li>16</li>\n",
       "\t<li>25</li>\n",
       "\t<li>36</li>\n",
       "\t<li>49</li>\n",
       "\t<li>64</li>\n",
       "\t<li>81</li>\n",
       "\t<li>100</li>\n",
       "</ol>\n"
      ],
      "text/latex": [
       "\\begin{enumerate*}\n",
       "\\item 1\n",
       "\\item 4\n",
       "\\item 9\n",
       "\\item 16\n",
       "\\item 25\n",
       "\\item 36\n",
       "\\item 49\n",
       "\\item 64\n",
       "\\item 81\n",
       "\\item 100\n",
       "\\end{enumerate*}\n"
      ],
      "text/markdown": [
       "1. 1\n",
       "2. 4\n",
       "3. 9\n",
       "4. 16\n",
       "5. 25\n",
       "6. 36\n",
       "7. 49\n",
       "8. 64\n",
       "9. 81\n",
       "10. 100\n",
       "\n",
       "\n"
      ],
      "text/plain": [
       " [1]   1   4   9  16  25  36  49  64  81 100"
      ]
     },
     "metadata": {},
     "output_type": "display_data"
    }
   ],
   "source": [
    "sapply(1:10, function(i) i ^ 2)"
   ]
  },
  {
   "cell_type": "markdown",
   "metadata": {
    "deletable": true,
    "editable": true
   },
   "source": [
    "Si la función de aplicación devuelve un vector multi-elemento cada vez, `sapply` pondrá los resultados en una matriz en la que cada vector devuelto ocupa una columna:"
   ]
  },
  {
   "cell_type": "code",
   "execution_count": 17,
   "metadata": {
    "collapsed": false,
    "deletable": true,
    "editable": true
   },
   "outputs": [
    {
     "data": {
      "text/html": [
       "<table>\n",
       "<tbody>\n",
       "\t<tr><td>1  </td><td>2  </td><td>3  </td><td> 4 </td><td> 5 </td><td> 6 </td><td> 7 </td><td> 8 </td><td> 9 </td><td> 10</td></tr>\n",
       "\t<tr><td>1  </td><td>4  </td><td>9  </td><td>16 </td><td>25 </td><td>36 </td><td>49 </td><td>64 </td><td>81 </td><td>100</td></tr>\n",
       "</tbody>\n",
       "</table>\n"
      ],
      "text/latex": [
       "\\begin{tabular}{llllllllll}\n",
       "\t 1   & 2   & 3   &  4  &  5  &  6  &  7  &  8  &  9  &  10\\\\\n",
       "\t 1   & 4   & 9   & 16  & 25  & 36  & 49  & 64  & 81  & 100\\\\\n",
       "\\end{tabular}\n"
      ],
      "text/markdown": [
       "\n",
       "| 1   | 2   | 3   |  4  |  5  |  6  |  7  |  8  |  9  |  10 | \n",
       "| 1   | 4   | 9   | 16  | 25  | 36  | 49  | 64  | 81  | 100 | \n",
       "\n",
       "\n"
      ],
      "text/plain": [
       "     [,1] [,2] [,3] [,4] [,5] [,6] [,7] [,8] [,9] [,10]\n",
       "[1,] 1    2    3     4    5    6    7    8    9    10  \n",
       "[2,] 1    4    9    16   25   36   49   64   81   100  "
      ]
     },
     "metadata": {},
     "output_type": "display_data"
    }
   ],
   "source": [
    "sapply(1:10, function(i) c(i, i ^ 2))"
   ]
  },
  {
   "cell_type": "code",
   "execution_count": 18,
   "metadata": {
    "collapsed": false,
    "deletable": true,
    "editable": true
   },
   "outputs": [
    {
     "data": {
      "text/html": [
       "<dl>\n",
       "\t<dt>$dos</dt>\n",
       "\t\t<dd>2</dd>\n",
       "\t<dt>$tres</dt>\n",
       "\t\t<dd>3</dd>\n",
       "\t<dt>$cuatro</dt>\n",
       "\t\t<dd><ol class=list-inline>\n",
       "\t<li>2</li>\n",
       "\t<li>2</li>\n",
       "</ol>\n",
       "</dd>\n",
       "\t<dt>$cinco</dt>\n",
       "\t\t<dd>5</dd>\n",
       "\t<dt>$seis</dt>\n",
       "\t\t<dd><ol class=list-inline>\n",
       "\t<li>2</li>\n",
       "\t<li>3</li>\n",
       "</ol>\n",
       "</dd>\n",
       "\t<dt>$siete</dt>\n",
       "\t\t<dd>7</dd>\n",
       "</dl>\n"
      ],
      "text/latex": [
       "\\begin{description}\n",
       "\\item[\\$dos] 2\n",
       "\\item[\\$tres] 3\n",
       "\\item[\\$cuatro] \\begin{enumerate*}\n",
       "\\item 2\n",
       "\\item 2\n",
       "\\end{enumerate*}\n",
       "\n",
       "\\item[\\$cinco] 5\n",
       "\\item[\\$seis] \\begin{enumerate*}\n",
       "\\item 2\n",
       "\\item 3\n",
       "\\end{enumerate*}\n",
       "\n",
       "\\item[\\$siete] 7\n",
       "\\end{description}\n"
      ],
      "text/markdown": [
       "$dos\n",
       ":   2\n",
       "$tres\n",
       ":   3\n",
       "$cuatro\n",
       ":   1. 2\n",
       "2. 2\n",
       "\n",
       "\n",
       "\n",
       "$cinco\n",
       ":   5\n",
       "$seis\n",
       ":   1. 2\n",
       "2. 3\n",
       "\n",
       "\n",
       "\n",
       "$siete\n",
       ":   7\n",
       "\n",
       "\n"
      ],
      "text/plain": [
       "$dos\n",
       "[1] 2\n",
       "\n",
       "$tres\n",
       "[1] 3\n",
       "\n",
       "$cuatro\n",
       "[1] 2 2\n",
       "\n",
       "$cinco\n",
       "[1] 5\n",
       "\n",
       "$seis\n",
       "[1] 2 3\n",
       "\n",
       "$siete\n",
       "[1] 7\n"
      ]
     },
     "metadata": {},
     "output_type": "display_data"
    }
   ],
   "source": [
    "# Ejemplo\n",
    "\n",
    "primo_factores <- list(\n",
    "    dos = 2,\n",
    "    tres = 3,\n",
    "    cuatro = c(2, 2),\n",
    "    cinco = 5,\n",
    "    seis= c(2, 3),\n",
    "    siete = 7,\n",
    "    ocho = c(2, 2, 2),\n",
    "    nueve = c(3, 3),\n",
    "    diez = c(2, 5)\n",
    ")\n",
    "head(primo_factores)"
   ]
  },
  {
   "cell_type": "markdown",
   "metadata": {
    "deletable": true,
    "editable": true
   },
   "source": [
    "Tratar de encontrar el valor único en cada elemento de lista es difícil de hacer de una manera vectorizada. Podríamos escribir un bucle para examinar cada elemento:"
   ]
  },
  {
   "cell_type": "code",
   "execution_count": 19,
   "metadata": {
    "collapsed": false,
    "deletable": true,
    "editable": true
   },
   "outputs": [
    {
     "data": {
      "text/html": [
       "<dl>\n",
       "\t<dt>$dos</dt>\n",
       "\t\t<dd>2</dd>\n",
       "\t<dt>$tres</dt>\n",
       "\t\t<dd>3</dd>\n",
       "\t<dt>$cuatro</dt>\n",
       "\t\t<dd>2</dd>\n",
       "\t<dt>$cinco</dt>\n",
       "\t\t<dd>5</dd>\n",
       "\t<dt>$seis</dt>\n",
       "\t\t<dd><ol class=list-inline>\n",
       "\t<li>2</li>\n",
       "\t<li>3</li>\n",
       "</ol>\n",
       "</dd>\n",
       "\t<dt>$siete</dt>\n",
       "\t\t<dd>7</dd>\n",
       "\t<dt>$ocho</dt>\n",
       "\t\t<dd>2</dd>\n",
       "\t<dt>$nueve</dt>\n",
       "\t\t<dd>3</dd>\n",
       "\t<dt>$diez</dt>\n",
       "\t\t<dd><ol class=list-inline>\n",
       "\t<li>2</li>\n",
       "\t<li>5</li>\n",
       "</ol>\n",
       "</dd>\n",
       "</dl>\n"
      ],
      "text/latex": [
       "\\begin{description}\n",
       "\\item[\\$dos] 2\n",
       "\\item[\\$tres] 3\n",
       "\\item[\\$cuatro] 2\n",
       "\\item[\\$cinco] 5\n",
       "\\item[\\$seis] \\begin{enumerate*}\n",
       "\\item 2\n",
       "\\item 3\n",
       "\\end{enumerate*}\n",
       "\n",
       "\\item[\\$siete] 7\n",
       "\\item[\\$ocho] 2\n",
       "\\item[\\$nueve] 3\n",
       "\\item[\\$diez] \\begin{enumerate*}\n",
       "\\item 2\n",
       "\\item 5\n",
       "\\end{enumerate*}\n",
       "\n",
       "\\end{description}\n"
      ],
      "text/markdown": [
       "$dos\n",
       ":   2\n",
       "$tres\n",
       ":   3\n",
       "$cuatro\n",
       ":   2\n",
       "$cinco\n",
       ":   5\n",
       "$seis\n",
       ":   1. 2\n",
       "2. 3\n",
       "\n",
       "\n",
       "\n",
       "$siete\n",
       ":   7\n",
       "$ocho\n",
       ":   2\n",
       "$nueve\n",
       ":   3\n",
       "$diez\n",
       ":   1. 2\n",
       "2. 5\n",
       "\n",
       "\n",
       "\n",
       "\n",
       "\n"
      ],
      "text/plain": [
       "$dos\n",
       "[1] 2\n",
       "\n",
       "$tres\n",
       "[1] 3\n",
       "\n",
       "$cuatro\n",
       "[1] 2\n",
       "\n",
       "$cinco\n",
       "[1] 5\n",
       "\n",
       "$seis\n",
       "[1] 2 3\n",
       "\n",
       "$siete\n",
       "[1] 7\n",
       "\n",
       "$ocho\n",
       "[1] 2\n",
       "\n",
       "$nueve\n",
       "[1] 3\n",
       "\n",
       "$diez\n",
       "[1] 2 5\n"
      ]
     },
     "metadata": {},
     "output_type": "display_data"
    }
   ],
   "source": [
    "unico_primos <- vector(\"list\", length(primo_factores))\n",
    "for(i in seq_along(primo_factores))\n",
    "{\n",
    "    unico_primos[[i]] <- unique(primo_factores[[i]])\n",
    "}\n",
    "names(unico_primos) <- names(primo_factores)\n",
    "unico_primos"
   ]
  },
  {
   "cell_type": "code",
   "execution_count": 20,
   "metadata": {
    "collapsed": false,
    "deletable": true,
    "editable": true
   },
   "outputs": [
    {
     "data": {
      "text/html": [
       "<dl>\n",
       "\t<dt>$dos</dt>\n",
       "\t\t<dd>2</dd>\n",
       "\t<dt>$tres</dt>\n",
       "\t\t<dd>3</dd>\n",
       "\t<dt>$cuatro</dt>\n",
       "\t\t<dd>2</dd>\n",
       "\t<dt>$cinco</dt>\n",
       "\t\t<dd>5</dd>\n",
       "\t<dt>$seis</dt>\n",
       "\t\t<dd><ol class=list-inline>\n",
       "\t<li>2</li>\n",
       "\t<li>3</li>\n",
       "</ol>\n",
       "</dd>\n",
       "\t<dt>$siete</dt>\n",
       "\t\t<dd>7</dd>\n",
       "\t<dt>$ocho</dt>\n",
       "\t\t<dd>2</dd>\n",
       "\t<dt>$nueve</dt>\n",
       "\t\t<dd>3</dd>\n",
       "\t<dt>$diez</dt>\n",
       "\t\t<dd><ol class=list-inline>\n",
       "\t<li>2</li>\n",
       "\t<li>5</li>\n",
       "</ol>\n",
       "</dd>\n",
       "</dl>\n"
      ],
      "text/latex": [
       "\\begin{description}\n",
       "\\item[\\$dos] 2\n",
       "\\item[\\$tres] 3\n",
       "\\item[\\$cuatro] 2\n",
       "\\item[\\$cinco] 5\n",
       "\\item[\\$seis] \\begin{enumerate*}\n",
       "\\item 2\n",
       "\\item 3\n",
       "\\end{enumerate*}\n",
       "\n",
       "\\item[\\$siete] 7\n",
       "\\item[\\$ocho] 2\n",
       "\\item[\\$nueve] 3\n",
       "\\item[\\$diez] \\begin{enumerate*}\n",
       "\\item 2\n",
       "\\item 5\n",
       "\\end{enumerate*}\n",
       "\n",
       "\\end{description}\n"
      ],
      "text/markdown": [
       "$dos\n",
       ":   2\n",
       "$tres\n",
       ":   3\n",
       "$cuatro\n",
       ":   2\n",
       "$cinco\n",
       ":   5\n",
       "$seis\n",
       ":   1. 2\n",
       "2. 3\n",
       "\n",
       "\n",
       "\n",
       "$siete\n",
       ":   7\n",
       "$ocho\n",
       ":   2\n",
       "$nueve\n",
       ":   3\n",
       "$diez\n",
       ":   1. 2\n",
       "2. 5\n",
       "\n",
       "\n",
       "\n",
       "\n",
       "\n"
      ],
      "text/plain": [
       "$dos\n",
       "[1] 2\n",
       "\n",
       "$tres\n",
       "[1] 3\n",
       "\n",
       "$cuatro\n",
       "[1] 2\n",
       "\n",
       "$cinco\n",
       "[1] 5\n",
       "\n",
       "$seis\n",
       "[1] 2 3\n",
       "\n",
       "$siete\n",
       "[1] 7\n",
       "\n",
       "$ocho\n",
       "[1] 2\n",
       "\n",
       "$nueve\n",
       "[1] 3\n",
       "\n",
       "$diez\n",
       "[1] 2 5\n"
      ]
     },
     "metadata": {},
     "output_type": "display_data"
    }
   ],
   "source": [
    "sapply(primo_factores, unique) # retorna una lista"
   ]
  },
  {
   "cell_type": "code",
   "execution_count": 21,
   "metadata": {
    "collapsed": false,
    "deletable": true,
    "editable": true
   },
   "outputs": [
    {
     "data": {
      "text/html": [
       "<dl class=dl-horizontal>\n",
       "\t<dt>dos</dt>\n",
       "\t\t<dd>1</dd>\n",
       "\t<dt>tres</dt>\n",
       "\t\t<dd>1</dd>\n",
       "\t<dt>cuatro</dt>\n",
       "\t\t<dd>2</dd>\n",
       "\t<dt>cinco</dt>\n",
       "\t\t<dd>1</dd>\n",
       "\t<dt>seis</dt>\n",
       "\t\t<dd>2</dd>\n",
       "\t<dt>siete</dt>\n",
       "\t\t<dd>1</dd>\n",
       "\t<dt>ocho</dt>\n",
       "\t\t<dd>3</dd>\n",
       "\t<dt>nueve</dt>\n",
       "\t\t<dd>2</dd>\n",
       "\t<dt>diez</dt>\n",
       "\t\t<dd>2</dd>\n",
       "</dl>\n"
      ],
      "text/latex": [
       "\\begin{description*}\n",
       "\\item[dos] 1\n",
       "\\item[tres] 1\n",
       "\\item[cuatro] 2\n",
       "\\item[cinco] 1\n",
       "\\item[seis] 2\n",
       "\\item[siete] 1\n",
       "\\item[ocho] 3\n",
       "\\item[nueve] 2\n",
       "\\item[diez] 2\n",
       "\\end{description*}\n"
      ],
      "text/markdown": [
       "dos\n",
       ":   1tres\n",
       ":   1cuatro\n",
       ":   2cinco\n",
       ":   1seis\n",
       ":   2siete\n",
       ":   1ocho\n",
       ":   3nueve\n",
       ":   2diez\n",
       ":   2\n",
       "\n"
      ],
      "text/plain": [
       "   dos   tres cuatro  cinco   seis  siete   ocho  nueve   diez \n",
       "     1      1      2      1      2      1      3      2      2 "
      ]
     },
     "metadata": {},
     "output_type": "display_data"
    }
   ],
   "source": [
    "sapply(primo_factores, length) # retorna un vector"
   ]
  },
  {
   "cell_type": "code",
   "execution_count": 22,
   "metadata": {
    "collapsed": false,
    "deletable": true,
    "editable": true
   },
   "outputs": [
    {
     "data": {
      "text/html": [
       "<table>\n",
       "<thead><tr><th></th><th scope=col>dos</th><th scope=col>tres</th><th scope=col>cuatro</th><th scope=col>cinco</th><th scope=col>seis</th><th scope=col>siete</th><th scope=col>ocho</th><th scope=col>nueve</th><th scope=col>diez</th></tr></thead>\n",
       "<tbody>\n",
       "\t<tr><th scope=row>Min.</th><td>2   </td><td>3   </td><td>2   </td><td>5   </td><td>2.00</td><td>7   </td><td>2   </td><td>3   </td><td>2.00</td></tr>\n",
       "\t<tr><th scope=row>1st Qu.</th><td>2   </td><td>3   </td><td>2   </td><td>5   </td><td>2.25</td><td>7   </td><td>2   </td><td>3   </td><td>2.75</td></tr>\n",
       "\t<tr><th scope=row>Median</th><td>2   </td><td>3   </td><td>2   </td><td>5   </td><td>2.50</td><td>7   </td><td>2   </td><td>3   </td><td>3.50</td></tr>\n",
       "\t<tr><th scope=row>Mean</th><td>2   </td><td>3   </td><td>2   </td><td>5   </td><td>2.50</td><td>7   </td><td>2   </td><td>3   </td><td>3.50</td></tr>\n",
       "\t<tr><th scope=row>3rd Qu.</th><td>2   </td><td>3   </td><td>2   </td><td>5   </td><td>2.75</td><td>7   </td><td>2   </td><td>3   </td><td>4.25</td></tr>\n",
       "\t<tr><th scope=row>Max.</th><td>2   </td><td>3   </td><td>2   </td><td>5   </td><td>3.00</td><td>7   </td><td>2   </td><td>3   </td><td>5.00</td></tr>\n",
       "</tbody>\n",
       "</table>\n"
      ],
      "text/latex": [
       "\\begin{tabular}{r|lllllllll}\n",
       "  & dos & tres & cuatro & cinco & seis & siete & ocho & nueve & diez\\\\\n",
       "\\hline\n",
       "\tMin. & 2    & 3    & 2    & 5    & 2.00 & 7    & 2    & 3    & 2.00\\\\\n",
       "\t1st Qu. & 2    & 3    & 2    & 5    & 2.25 & 7    & 2    & 3    & 2.75\\\\\n",
       "\tMedian & 2    & 3    & 2    & 5    & 2.50 & 7    & 2    & 3    & 3.50\\\\\n",
       "\tMean & 2    & 3    & 2    & 5    & 2.50 & 7    & 2    & 3    & 3.50\\\\\n",
       "\t3rd Qu. & 2    & 3    & 2    & 5    & 2.75 & 7    & 2    & 3    & 4.25\\\\\n",
       "\tMax. & 2    & 3    & 2    & 5    & 3.00 & 7    & 2    & 3    & 5.00\\\\\n",
       "\\end{tabular}\n"
      ],
      "text/markdown": [
       "\n",
       "| <!--/--> | dos | tres | cuatro | cinco | seis | siete | ocho | nueve | diez | \n",
       "|---|---|---|---|---|---|\n",
       "| Min. | 2    | 3    | 2    | 5    | 2.00 | 7    | 2    | 3    | 2.00 | \n",
       "| 1st Qu. | 2    | 3    | 2    | 5    | 2.25 | 7    | 2    | 3    | 2.75 | \n",
       "| Median | 2    | 3    | 2    | 5    | 2.50 | 7    | 2    | 3    | 3.50 | \n",
       "| Mean | 2    | 3    | 2    | 5    | 2.50 | 7    | 2    | 3    | 3.50 | \n",
       "| 3rd Qu. | 2    | 3    | 2    | 5    | 2.75 | 7    | 2    | 3    | 4.25 | \n",
       "| Max. | 2    | 3    | 2    | 5    | 3.00 | 7    | 2    | 3    | 5.00 | \n",
       "\n",
       "\n"
      ],
      "text/plain": [
       "        dos tres cuatro cinco seis siete ocho nueve diez\n",
       "Min.    2   3    2      5     2.00 7     2    3     2.00\n",
       "1st Qu. 2   3    2      5     2.25 7     2    3     2.75\n",
       "Median  2   3    2      5     2.50 7     2    3     3.50\n",
       "Mean    2   3    2      5     2.50 7     2    3     3.50\n",
       "3rd Qu. 2   3    2      5     2.75 7     2    3     4.25\n",
       "Max.    2   3    2      5     3.00 7     2    3     5.00"
      ]
     },
     "metadata": {},
     "output_type": "display_data"
    }
   ],
   "source": [
    "sapply(primo_factores, summary) #returna una matriz"
   ]
  },
  {
   "cell_type": "markdown",
   "metadata": {
    "deletable": true,
    "editable": true
   },
   "source": [
    "Para el uso interactivo, esto es maravilloso porque usualmente obtiene automáticamente el resultado en la forma en que desea. Esta función requiere cierto cuidado si no está seguro de cuáles son sus entradas, aunque el resultado es a veces una lista y a veces un vector. Esto puede traer ciertos tropiezos de alguna manera sutil. Nuestro ejemplo anterior devolvió un vector (usando `length`), pero es interesante ver lo que sucede cuando se pasa una lista vacía:"
   ]
  },
  {
   "cell_type": "code",
   "execution_count": 23,
   "metadata": {
    "collapsed": false,
    "deletable": true,
    "editable": true
   },
   "outputs": [
    {
     "data": {
      "text/html": [
       "<ol>\n",
       "</ol>\n"
      ],
      "text/latex": [
       "\\begin{enumerate}\n",
       "\\end{enumerate}\n"
      ],
      "text/markdown": [
       "\n",
       "\n"
      ],
      "text/plain": [
       "list()"
      ]
     },
     "metadata": {},
     "output_type": "display_data"
    }
   ],
   "source": [
    "sapply(list(), length)\n",
    "## list()"
   ]
  },
  {
   "cell_type": "markdown",
   "metadata": {
    "deletable": true,
    "editable": true
   },
   "source": [
    "Si la lista de entrada tiene una longitud cero, entonces `sapply` siempre devuelve una lista, independientemente de la función que se pasa. Por lo tanto, si sus datos pudieran estar vacíos y conozca el valor devuelto, es más seguro utilizar `vapply`:\n"
   ]
  },
  {
   "cell_type": "code",
   "execution_count": 24,
   "metadata": {
    "collapsed": false,
    "deletable": true,
    "editable": true
   },
   "outputs": [
    {
     "data": {
      "text/html": [],
      "text/latex": [],
      "text/markdown": [],
      "text/plain": [
       "numeric(0)"
      ]
     },
     "metadata": {},
     "output_type": "display_data"
    }
   ],
   "source": [
    "vapply(list(), length, numeric(1))\n",
    "## numeric(0)"
   ]
  },
  {
   "cell_type": "markdown",
   "metadata": {
    "deletable": true,
    "editable": true
   },
   "source": [
    "#### Función vapply\n",
    "\n",
    "Aunque `sapply` es muy práctico y elegante, algunas veces estas potencialidades pueden  convertirse en un riesgo. Supongamos que tenemos una lista de números de entrada:"
   ]
  },
  {
   "cell_type": "code",
   "execution_count": 25,
   "metadata": {
    "collapsed": true,
    "deletable": true,
    "editable": true
   },
   "outputs": [],
   "source": [
    "x <- list(c(1, 2), c(2, 3), c(1, 3))"
   ]
  },
  {
   "cell_type": "markdown",
   "metadata": {
    "deletable": true,
    "editable": true
   },
   "source": [
    "Si queremos obtener un vector numérico de los números al cuadrados para cada número en `x`, `sapply`,  puede ser fácil de usar porque automáticamente trata de simplificar la estructura de datos del resultado:"
   ]
  },
  {
   "cell_type": "code",
   "execution_count": 26,
   "metadata": {
    "collapsed": false,
    "deletable": true,
    "editable": true
   },
   "outputs": [
    {
     "data": {
      "text/html": [
       "<table>\n",
       "<tbody>\n",
       "\t<tr><td>1</td><td>4</td><td>1</td></tr>\n",
       "\t<tr><td>4</td><td>9</td><td>9</td></tr>\n",
       "</tbody>\n",
       "</table>\n"
      ],
      "text/latex": [
       "\\begin{tabular}{lll}\n",
       "\t 1 & 4 & 1\\\\\n",
       "\t 4 & 9 & 9\\\\\n",
       "\\end{tabular}\n"
      ],
      "text/markdown": [
       "\n",
       "| 1 | 4 | 1 | \n",
       "| 4 | 9 | 9 | \n",
       "\n",
       "\n"
      ],
      "text/plain": [
       "     [,1] [,2] [,3]\n",
       "[1,] 1    4    1   \n",
       "[2,] 4    9    9   "
      ]
     },
     "metadata": {},
     "output_type": "display_data"
    }
   ],
   "source": [
    "sapply(x, function(x) x ^ 2)"
   ]
  },
  {
   "cell_type": "markdown",
   "metadata": {
    "deletable": true,
    "editable": true
   },
   "source": [
    "Sin embargo, si los datos de entrada tienen algunos errores, `sapply()` aceptará silenciosamente la entrada y puede devolver un valor inesperado. Por ejemplo, supongamos que el tercer elemento de `x` ha recibido por error un elemento adicional:"
   ]
  },
  {
   "cell_type": "code",
   "execution_count": 27,
   "metadata": {
    "collapsed": true,
    "deletable": true,
    "editable": true
   },
   "outputs": [],
   "source": [
    "x1 <- list(c(1, 2), c(2, 3), c(1, 3, 3))"
   ]
  },
  {
   "cell_type": "markdown",
   "metadata": {
    "deletable": true,
    "editable": true
   },
   "source": [
    "Entonces, `sapply()` encuentra que ya no se puede simplificar a una matriz y, por tanto, devuelve una lista:"
   ]
  },
  {
   "cell_type": "code",
   "execution_count": 28,
   "metadata": {
    "collapsed": false,
    "deletable": true,
    "editable": true
   },
   "outputs": [
    {
     "data": {
      "text/html": [
       "<ol>\n",
       "\t<li><ol class=list-inline>\n",
       "\t<li>1</li>\n",
       "\t<li>4</li>\n",
       "</ol>\n",
       "</li>\n",
       "\t<li><ol class=list-inline>\n",
       "\t<li>4</li>\n",
       "\t<li>9</li>\n",
       "</ol>\n",
       "</li>\n",
       "\t<li><ol class=list-inline>\n",
       "\t<li>1</li>\n",
       "\t<li>9</li>\n",
       "\t<li>9</li>\n",
       "</ol>\n",
       "</li>\n",
       "</ol>\n"
      ],
      "text/latex": [
       "\\begin{enumerate}\n",
       "\\item \\begin{enumerate*}\n",
       "\\item 1\n",
       "\\item 4\n",
       "\\end{enumerate*}\n",
       "\n",
       "\\item \\begin{enumerate*}\n",
       "\\item 4\n",
       "\\item 9\n",
       "\\end{enumerate*}\n",
       "\n",
       "\\item \\begin{enumerate*}\n",
       "\\item 1\n",
       "\\item 9\n",
       "\\item 9\n",
       "\\end{enumerate*}\n",
       "\n",
       "\\end{enumerate}\n"
      ],
      "text/markdown": [
       "1. 1. 1\n",
       "2. 4\n",
       "\n",
       "\n",
       "\n",
       "2. 1. 4\n",
       "2. 9\n",
       "\n",
       "\n",
       "\n",
       "3. 1. 1\n",
       "2. 9\n",
       "3. 9\n",
       "\n",
       "\n",
       "\n",
       "\n",
       "\n"
      ],
      "text/plain": [
       "[[1]]\n",
       "[1] 1 4\n",
       "\n",
       "[[2]]\n",
       "[1] 4 9\n",
       "\n",
       "[[3]]\n",
       "[1] 1 9 9\n"
      ]
     },
     "metadata": {},
     "output_type": "display_data"
    }
   ],
   "source": [
    "sapply(x1, function(x) x ^ 2)"
   ]
  },
  {
   "cell_type": "markdown",
   "metadata": {
    "deletable": true,
    "editable": true
   },
   "source": [
    "Si usamos `vapply()` en primer lugar, el error será detectado muy pronto. La función `vapply()` tiene un argumento adicional que especifica el valor devuelto de cada iteración. En el código siguiente, tiene el argumento `numeric(2)`, lo que significa que cada iteración debe devolver un vector numérico de dos elementos. Si este argumento no se cumple, la función terminará en un error:"
   ]
  },
  {
   "cell_type": "code",
   "execution_count": 29,
   "metadata": {
    "collapsed": false,
    "deletable": true,
    "editable": true
   },
   "outputs": [
    {
     "ename": "ERROR",
     "evalue": "Error in vapply(x1, function(x) x^2, numeric(2)): Los valores deben ser de longitud 2, \npero el resultado FUN(X [[3]]) es la longitud 3 \n",
     "output_type": "error",
     "traceback": [
      "Error in vapply(x1, function(x) x^2, numeric(2)): Los valores deben ser de longitud 2, \npero el resultado FUN(X [[3]]) es la longitud 3 \nTraceback:\n",
      "1. vapply(x1, function(x) x^2, numeric(2))"
     ]
    }
   ],
   "source": [
    "vapply(x1, function(x) x ^ 2, numeric(2))"
   ]
  },
  {
   "cell_type": "code",
   "execution_count": 30,
   "metadata": {
    "collapsed": false,
    "deletable": true,
    "editable": true
   },
   "outputs": [
    {
     "data": {
      "text/html": [
       "<table>\n",
       "<tbody>\n",
       "\t<tr><td>1</td><td>4</td><td>1</td></tr>\n",
       "\t<tr><td>4</td><td>9</td><td>9</td></tr>\n",
       "</tbody>\n",
       "</table>\n"
      ],
      "text/latex": [
       "\\begin{tabular}{lll}\n",
       "\t 1 & 4 & 1\\\\\n",
       "\t 4 & 9 & 9\\\\\n",
       "\\end{tabular}\n"
      ],
      "text/markdown": [
       "\n",
       "| 1 | 4 | 1 | \n",
       "| 4 | 9 | 9 | \n",
       "\n",
       "\n"
      ],
      "text/plain": [
       "     [,1] [,2] [,3]\n",
       "[1,] 1    4    1   \n",
       "[2,] 4    9    9   "
      ]
     },
     "metadata": {},
     "output_type": "display_data"
    }
   ],
   "source": [
    "# Para el ejemplo original, se cumple el resultado\n",
    "\n",
    "vapply(x, function(x) x ^ 2, numeric(2))"
   ]
  },
  {
   "cell_type": "markdown",
   "metadata": {
    "deletable": true,
    "editable": true
   },
   "source": [
    "En conclusión, `sapply()` y `vapply()` son muy similares a `lapply()` excepto que simplifican su salida para producir un vector atómico. Mientras que `sapply()` adivina, `vapply()` toma un argumento adicional que especifica el tipo de salida. La función `sapply()` es ideal para el uso interactivo, ya que ahorra escribir, pero si lo usas dentro de  funciones obtendrás errores extraños si proporcionas el tipo de entrada incorrecto, `vapply()`  es más detallado, pero da más mensajes informativos de error y nunca falla en silencio. Es más adecuado para su uso dentro de otras funciones.\n",
    "\n",
    "Los siguientes ejemplos ilustran estas diferencias. Cuando se le da un data frame, `sapply()` y `vapply()` devuelven los mismos resultados. Cuando se le da una lista vacía, `sapply()` devuelve otra lista vacía en lugar del vector lógico de longitud cero  correcto."
   ]
  },
  {
   "cell_type": "code",
   "execution_count": 31,
   "metadata": {
    "collapsed": false,
    "deletable": true,
    "editable": true
   },
   "outputs": [
    {
     "data": {
      "text/html": [
       "<dl class=dl-horizontal>\n",
       "\t<dt>mpg</dt>\n",
       "\t\t<dd>TRUE</dd>\n",
       "\t<dt>cyl</dt>\n",
       "\t\t<dd>TRUE</dd>\n",
       "\t<dt>disp</dt>\n",
       "\t\t<dd>TRUE</dd>\n",
       "\t<dt>hp</dt>\n",
       "\t\t<dd>TRUE</dd>\n",
       "\t<dt>drat</dt>\n",
       "\t\t<dd>TRUE</dd>\n",
       "\t<dt>wt</dt>\n",
       "\t\t<dd>TRUE</dd>\n",
       "\t<dt>qsec</dt>\n",
       "\t\t<dd>TRUE</dd>\n",
       "\t<dt>vs</dt>\n",
       "\t\t<dd>TRUE</dd>\n",
       "\t<dt>am</dt>\n",
       "\t\t<dd>TRUE</dd>\n",
       "\t<dt>gear</dt>\n",
       "\t\t<dd>TRUE</dd>\n",
       "\t<dt>carb</dt>\n",
       "\t\t<dd>TRUE</dd>\n",
       "</dl>\n"
      ],
      "text/latex": [
       "\\begin{description*}\n",
       "\\item[mpg] TRUE\n",
       "\\item[cyl] TRUE\n",
       "\\item[disp] TRUE\n",
       "\\item[hp] TRUE\n",
       "\\item[drat] TRUE\n",
       "\\item[wt] TRUE\n",
       "\\item[qsec] TRUE\n",
       "\\item[vs] TRUE\n",
       "\\item[am] TRUE\n",
       "\\item[gear] TRUE\n",
       "\\item[carb] TRUE\n",
       "\\end{description*}\n"
      ],
      "text/markdown": [
       "mpg\n",
       ":   TRUEcyl\n",
       ":   TRUEdisp\n",
       ":   TRUEhp\n",
       ":   TRUEdrat\n",
       ":   TRUEwt\n",
       ":   TRUEqsec\n",
       ":   TRUEvs\n",
       ":   TRUEam\n",
       ":   TRUEgear\n",
       ":   TRUEcarb\n",
       ":   TRUE\n",
       "\n"
      ],
      "text/plain": [
       " mpg  cyl disp   hp drat   wt qsec   vs   am gear carb \n",
       "TRUE TRUE TRUE TRUE TRUE TRUE TRUE TRUE TRUE TRUE TRUE "
      ]
     },
     "metadata": {},
     "output_type": "display_data"
    }
   ],
   "source": [
    "sapply(mtcars, is.numeric)"
   ]
  },
  {
   "cell_type": "code",
   "execution_count": 32,
   "metadata": {
    "collapsed": false,
    "deletable": true,
    "editable": true
   },
   "outputs": [
    {
     "data": {
      "text/html": [
       "<dl class=dl-horizontal>\n",
       "\t<dt>mpg</dt>\n",
       "\t\t<dd>TRUE</dd>\n",
       "\t<dt>cyl</dt>\n",
       "\t\t<dd>TRUE</dd>\n",
       "\t<dt>disp</dt>\n",
       "\t\t<dd>TRUE</dd>\n",
       "\t<dt>hp</dt>\n",
       "\t\t<dd>TRUE</dd>\n",
       "\t<dt>drat</dt>\n",
       "\t\t<dd>TRUE</dd>\n",
       "\t<dt>wt</dt>\n",
       "\t\t<dd>TRUE</dd>\n",
       "\t<dt>qsec</dt>\n",
       "\t\t<dd>TRUE</dd>\n",
       "\t<dt>vs</dt>\n",
       "\t\t<dd>TRUE</dd>\n",
       "\t<dt>am</dt>\n",
       "\t\t<dd>TRUE</dd>\n",
       "\t<dt>gear</dt>\n",
       "\t\t<dd>TRUE</dd>\n",
       "\t<dt>carb</dt>\n",
       "\t\t<dd>TRUE</dd>\n",
       "</dl>\n"
      ],
      "text/latex": [
       "\\begin{description*}\n",
       "\\item[mpg] TRUE\n",
       "\\item[cyl] TRUE\n",
       "\\item[disp] TRUE\n",
       "\\item[hp] TRUE\n",
       "\\item[drat] TRUE\n",
       "\\item[wt] TRUE\n",
       "\\item[qsec] TRUE\n",
       "\\item[vs] TRUE\n",
       "\\item[am] TRUE\n",
       "\\item[gear] TRUE\n",
       "\\item[carb] TRUE\n",
       "\\end{description*}\n"
      ],
      "text/markdown": [
       "mpg\n",
       ":   TRUEcyl\n",
       ":   TRUEdisp\n",
       ":   TRUEhp\n",
       ":   TRUEdrat\n",
       ":   TRUEwt\n",
       ":   TRUEqsec\n",
       ":   TRUEvs\n",
       ":   TRUEam\n",
       ":   TRUEgear\n",
       ":   TRUEcarb\n",
       ":   TRUE\n",
       "\n"
      ],
      "text/plain": [
       " mpg  cyl disp   hp drat   wt qsec   vs   am gear carb \n",
       "TRUE TRUE TRUE TRUE TRUE TRUE TRUE TRUE TRUE TRUE TRUE "
      ]
     },
     "metadata": {},
     "output_type": "display_data"
    }
   ],
   "source": [
    "vapply(mtcars, is.numeric, logical(1))"
   ]
  },
  {
   "cell_type": "code",
   "execution_count": 33,
   "metadata": {
    "collapsed": false,
    "deletable": true,
    "editable": true
   },
   "outputs": [
    {
     "data": {
      "text/html": [
       "<ol>\n",
       "</ol>\n"
      ],
      "text/latex": [
       "\\begin{enumerate}\n",
       "\\end{enumerate}\n"
      ],
      "text/markdown": [
       "\n",
       "\n"
      ],
      "text/plain": [
       "list()"
      ]
     },
     "metadata": {},
     "output_type": "display_data"
    }
   ],
   "source": [
    "sapply(list(), is.numeric)\n",
    "## list()"
   ]
  },
  {
   "cell_type": "code",
   "execution_count": 34,
   "metadata": {
    "collapsed": false,
    "deletable": true,
    "editable": true
   },
   "outputs": [
    {
     "data": {
      "text/html": [],
      "text/latex": [],
      "text/markdown": [],
      "text/plain": [
       "logical(0)"
      ]
     },
     "metadata": {},
     "output_type": "display_data"
    }
   ],
   "source": [
    "vapply(list(), is.numeric, logical(1))\n",
    "## logical(0)"
   ]
  },
  {
   "cell_type": "markdown",
   "metadata": {
    "deletable": true,
    "editable": true
   },
   "source": [
    "El siguiente ejemplo ilustra un posible problema al extraer la clase de columnas en un data frame: si se asume falsamente que la clase sólo tiene un valor y se utiliza `sapply()`, no se notará  el problema hasta que se dé una función futura a una lista en lugar de a un vector de caracteres."
   ]
  },
  {
   "cell_type": "code",
   "execution_count": 35,
   "metadata": {
    "collapsed": false,
    "deletable": true,
    "editable": true
   },
   "outputs": [
    {
     "data": {
      "text/html": [
       "<dl class=dl-horizontal>\n",
       "\t<dt>x</dt>\n",
       "\t\t<dd>'integer'</dd>\n",
       "\t<dt>y</dt>\n",
       "\t\t<dd>'factor'</dd>\n",
       "</dl>\n"
      ],
      "text/latex": [
       "\\begin{description*}\n",
       "\\item[x] 'integer'\n",
       "\\item[y] 'factor'\n",
       "\\end{description*}\n"
      ],
      "text/markdown": [
       "x\n",
       ":   'integer'y\n",
       ":   'factor'\n",
       "\n"
      ],
      "text/plain": [
       "        x         y \n",
       "\"integer\"  \"factor\" "
      ]
     },
     "metadata": {},
     "output_type": "display_data"
    }
   ],
   "source": [
    "df <- data.frame(x = 1:10, y = letters[1:10])\n",
    "sapply(df, class)"
   ]
  },
  {
   "cell_type": "code",
   "execution_count": 36,
   "metadata": {
    "collapsed": false,
    "deletable": true,
    "editable": true
   },
   "outputs": [
    {
     "data": {
      "text/html": [
       "<dl class=dl-horizontal>\n",
       "\t<dt>x</dt>\n",
       "\t\t<dd>'integer'</dd>\n",
       "\t<dt>y</dt>\n",
       "\t\t<dd>'factor'</dd>\n",
       "</dl>\n"
      ],
      "text/latex": [
       "\\begin{description*}\n",
       "\\item[x] 'integer'\n",
       "\\item[y] 'factor'\n",
       "\\end{description*}\n"
      ],
      "text/markdown": [
       "x\n",
       ":   'integer'y\n",
       ":   'factor'\n",
       "\n"
      ],
      "text/plain": [
       "        x         y \n",
       "\"integer\"  \"factor\" "
      ]
     },
     "metadata": {},
     "output_type": "display_data"
    }
   ],
   "source": [
    "vapply(df, class, character(1))"
   ]
  },
  {
   "cell_type": "code",
   "execution_count": 37,
   "metadata": {
    "collapsed": false,
    "deletable": true,
    "editable": true
   },
   "outputs": [
    {
     "data": {
      "text/html": [
       "<dl>\n",
       "\t<dt>$x</dt>\n",
       "\t\t<dd>'integer'</dd>\n",
       "\t<dt>$y</dt>\n",
       "\t\t<dd><ol class=list-inline>\n",
       "\t<li>'POSIXct'</li>\n",
       "\t<li>'POSIXt'</li>\n",
       "</ol>\n",
       "</dd>\n",
       "</dl>\n"
      ],
      "text/latex": [
       "\\begin{description}\n",
       "\\item[\\$x] 'integer'\n",
       "\\item[\\$y] \\begin{enumerate*}\n",
       "\\item 'POSIXct'\n",
       "\\item 'POSIXt'\n",
       "\\end{enumerate*}\n",
       "\n",
       "\\end{description}\n"
      ],
      "text/markdown": [
       "$x\n",
       ":   'integer'\n",
       "$y\n",
       ":   1. 'POSIXct'\n",
       "2. 'POSIXt'\n",
       "\n",
       "\n",
       "\n",
       "\n",
       "\n"
      ],
      "text/plain": [
       "$x\n",
       "[1] \"integer\"\n",
       "\n",
       "$y\n",
       "[1] \"POSIXct\" \"POSIXt\" \n"
      ]
     },
     "metadata": {},
     "output_type": "display_data"
    }
   ],
   "source": [
    "df2 <- data.frame(x = 1:10, y = Sys.time() + 1:10)\n",
    "sapply(df2, class)"
   ]
  },
  {
   "cell_type": "code",
   "execution_count": 38,
   "metadata": {
    "collapsed": false,
    "deletable": true,
    "editable": true
   },
   "outputs": [
    {
     "ename": "ERROR",
     "evalue": "Error in vapply(df2, class, character(1)): Los valores deben ser de longitud 1, \npero el resultado FUN(X [[2]]) es la longitud 2 \n",
     "output_type": "error",
     "traceback": [
      "Error in vapply(df2, class, character(1)): Los valores deben ser de longitud 1, \npero el resultado FUN(X [[2]]) es la longitud 2 \nTraceback:\n",
      "1. vapply(df2, class, character(1))"
     ]
    }
   ],
   "source": [
    "vapply(df2, class, character(1))"
   ]
  },
  {
   "cell_type": "markdown",
   "metadata": {
    "deletable": true,
    "editable": true
   },
   "source": [
    "`sapply()` es una envoltura  alrededor de `lapply()` que transforma una lista en un vector en el paso final. `vapply()` es una implementación de `lapply()` que asigna resultados a un vector (o matriz) de tipo apropiado en lugar de  una lista. El código siguiente muestra una implementación en R de las funciones  `sapply()` y `vapply()` que tienen diferentes salidas desde `lapply`:"
   ]
  },
  {
   "cell_type": "code",
   "execution_count": 39,
   "metadata": {
    "collapsed": true,
    "deletable": true,
    "editable": true
   },
   "outputs": [],
   "source": [
    "sapply2 <- function(x, f, ...) {\n",
    "    res <- lapply2(x, f, ...)\n",
    "    simplify2array(res)\n",
    "}\n",
    "\n",
    "vapply2 <- function(x, f, f.value, ...) {\n",
    "    out <- matrix(rep(f.value, length(x)), nrow = length(f.value))\n",
    "    for (i in seq_along(x)) {\n",
    "        res <- f(x[[i]], ...)\n",
    "        stopifnot(\n",
    "            length(res) == length(f.value),\n",
    "            typeof(res) == typeof(f.value)\n",
    "    )\n",
    "    out[ ,i] <- res\n",
    "  }\n",
    "  out\n",
    "}"
   ]
  },
  {
   "cell_type": "markdown",
   "metadata": {
    "deletable": true,
    "editable": true
   },
   "source": [
    "![](sapply-vapply.png)"
   ]
  },
  {
   "cell_type": "markdown",
   "metadata": {
    "deletable": true,
    "editable": true
   },
   "source": [
    "#### Función mapply\n",
    "\n",
    "Con `lapply()`, sólo un argumento varía en la  función, los otros argumentos son fijos. Esto hace que sea poco adecuado para algunos problemas. Por ejemplo, ¿cómo se encontraría el  promedio ponderado cuando se tiene dos listas, una de observaciones y otra de promedios?.\n"
   ]
  },
  {
   "cell_type": "code",
   "execution_count": 40,
   "metadata": {
    "collapsed": false,
    "deletable": true,
    "editable": true
   },
   "outputs": [
    {
     "data": {
      "text/html": [
       "<ol class=list-inline>\n",
       "\t<li>0.432859890814871</li>\n",
       "\t<li>0.621823175647296</li>\n",
       "\t<li>0.589270152710378</li>\n",
       "\t<li>0.45705220492091</li>\n",
       "\t<li>0.599563739355654</li>\n",
       "</ol>\n"
      ],
      "text/latex": [
       "\\begin{enumerate*}\n",
       "\\item 0.432859890814871\n",
       "\\item 0.621823175647296\n",
       "\\item 0.589270152710378\n",
       "\\item 0.45705220492091\n",
       "\\item 0.599563739355654\n",
       "\\end{enumerate*}\n"
      ],
      "text/markdown": [
       "1. 0.432859890814871\n",
       "2. 0.621823175647296\n",
       "3. 0.589270152710378\n",
       "4. 0.45705220492091\n",
       "5. 0.599563739355654\n",
       "\n",
       "\n"
      ],
      "text/plain": [
       "[1] 0.4328599 0.6218232 0.5892702 0.4570522 0.5995637"
      ]
     },
     "metadata": {},
     "output_type": "display_data"
    }
   ],
   "source": [
    "# Ejemplo de Advanced R de  Hadley Wickham\n",
    "\n",
    "# Generamos algunos datos muestrales\n",
    "xs <- replicate(5, runif(10), simplify = FALSE)\n",
    "ws <- replicate(5, rpois(10, 5) + 1, simplify = FALSE)\n",
    "\n",
    "# Usamos lapply() para calcular los medios no ponderados:\n",
    "\n",
    "unlist(lapply(xs, mean))"
   ]
  },
  {
   "cell_type": "markdown",
   "metadata": {
    "deletable": true,
    "editable": true
   },
   "source": [
    "Pero, ¿cómo podemos proporcionar los promedios a `weighted.mean()?`.  `lapply (x, means, w)` no funcionará porque los argumentos adicionales a `lapply()` se pasan a cada llamada. Podríamos cambiar la forma del bucle, que funciona, pero no es la manera adecuada. Podria usarse en su  lugar la función `Map` una variante de `lapply`."
   ]
  },
  {
   "cell_type": "code",
   "execution_count": 41,
   "metadata": {
    "collapsed": false,
    "deletable": true,
    "editable": true
   },
   "outputs": [
    {
     "data": {
      "text/html": [
       "<ol class=list-inline>\n",
       "\t<li>0.476724766376291</li>\n",
       "\t<li>0.649659138075852</li>\n",
       "\t<li>0.548291432093187</li>\n",
       "\t<li>0.544880511821248</li>\n",
       "\t<li>0.626412015404998</li>\n",
       "</ol>\n"
      ],
      "text/latex": [
       "\\begin{enumerate*}\n",
       "\\item 0.476724766376291\n",
       "\\item 0.649659138075852\n",
       "\\item 0.548291432093187\n",
       "\\item 0.544880511821248\n",
       "\\item 0.626412015404998\n",
       "\\end{enumerate*}\n"
      ],
      "text/markdown": [
       "1. 0.476724766376291\n",
       "2. 0.649659138075852\n",
       "3. 0.548291432093187\n",
       "4. 0.544880511821248\n",
       "5. 0.626412015404998\n",
       "\n",
       "\n"
      ],
      "text/plain": [
       "[1] 0.4767248 0.6496591 0.5482914 0.5448805 0.6264120"
      ]
     },
     "metadata": {},
     "output_type": "display_data"
    }
   ],
   "source": [
    "unlist(lapply(seq_along(xs), function(i) {\n",
    "    weighted.mean(xs[[i]], ws[[i]])\n",
    "}))"
   ]
  },
  {
   "cell_type": "markdown",
   "metadata": {
    "deletable": true,
    "editable": true
   },
   "source": [
    "La función `mapply`, una abreviación  para `multiple argument list apply`, permite pasar el mayor número de vectores que se desee. Un uso común es pasar en una lista en un argumento y los nombres de esa lista en otro, resolviendo los problemas que tiene `lapply`. Una pequeña molestia es que para acomodar un número arbitrario de argumentos vectoriales, el orden de los argumentos ha sido cambiado. Para `mapply`, la función se pasa como  primer argumento:"
   ]
  },
  {
   "cell_type": "code",
   "execution_count": 42,
   "metadata": {
    "collapsed": false,
    "deletable": true,
    "editable": true
   },
   "outputs": [
    {
     "data": {
      "text/html": [
       "<dl class=dl-horizontal>\n",
       "\t<dt>dos</dt>\n",
       "\t\t<dd>'dos es primo'</dd>\n",
       "\t<dt>tres</dt>\n",
       "\t\t<dd>'tres es primo'</dd>\n",
       "\t<dt>cuatro</dt>\n",
       "\t\t<dd><span style=white-space:pre-wrap>'cuatro  tiene factores 2, 2'</span></dd>\n",
       "\t<dt>cinco</dt>\n",
       "\t\t<dd>'cinco es primo'</dd>\n",
       "\t<dt>seis</dt>\n",
       "\t\t<dd><span style=white-space:pre-wrap>'seis  tiene factores 2, 3'</span></dd>\n",
       "\t<dt>siete</dt>\n",
       "\t\t<dd>'siete es primo'</dd>\n",
       "\t<dt>ocho</dt>\n",
       "\t\t<dd><span style=white-space:pre-wrap>'ocho  tiene factores 2, 2, 2'</span></dd>\n",
       "\t<dt>nueve</dt>\n",
       "\t\t<dd><span style=white-space:pre-wrap>'nueve  tiene factores 3, 3'</span></dd>\n",
       "\t<dt>diez</dt>\n",
       "\t\t<dd><span style=white-space:pre-wrap>'diez  tiene factores 2, 5'</span></dd>\n",
       "</dl>\n"
      ],
      "text/latex": [
       "\\begin{description*}\n",
       "\\item[dos] 'dos es primo'\n",
       "\\item[tres] 'tres es primo'\n",
       "\\item[cuatro] 'cuatro  tiene factores 2, 2'\n",
       "\\item[cinco] 'cinco es primo'\n",
       "\\item[seis] 'seis  tiene factores 2, 3'\n",
       "\\item[siete] 'siete es primo'\n",
       "\\item[ocho] 'ocho  tiene factores 2, 2, 2'\n",
       "\\item[nueve] 'nueve  tiene factores 3, 3'\n",
       "\\item[diez] 'diez  tiene factores 2, 5'\n",
       "\\end{description*}\n"
      ],
      "text/markdown": [
       "dos\n",
       ":   'dos es primo'tres\n",
       ":   'tres es primo'cuatro\n",
       ":   <span style=white-space:pre-wrap>'cuatro  tiene factores 2, 2'</span>cinco\n",
       ":   'cinco es primo'seis\n",
       ":   <span style=white-space:pre-wrap>'seis  tiene factores 2, 3'</span>siete\n",
       ":   'siete es primo'ocho\n",
       ":   <span style=white-space:pre-wrap>'ocho  tiene factores 2, 2, 2'</span>nueve\n",
       ":   <span style=white-space:pre-wrap>'nueve  tiene factores 3, 3'</span>diez\n",
       ":   <span style=white-space:pre-wrap>'diez  tiene factores 2, 5'</span>\n",
       "\n"
      ],
      "text/plain": [
       "                           dos                           tres \n",
       "                \"dos es primo\"                \"tres es primo\" \n",
       "                        cuatro                          cinco \n",
       " \"cuatro  tiene factores 2, 2\"               \"cinco es primo\" \n",
       "                          seis                          siete \n",
       "   \"seis  tiene factores 2, 3\"               \"siete es primo\" \n",
       "                          ocho                          nueve \n",
       "\"ocho  tiene factores 2, 2, 2\"   \"nueve  tiene factores 3, 3\" \n",
       "                          diez \n",
       "   \"diez  tiene factores 2, 5\" "
      ]
     },
     "metadata": {},
     "output_type": "display_data"
    }
   ],
   "source": [
    "msg <- function(nombre, factores)\n",
    "{\n",
    "    ifelse(\n",
    "        length(factores) == 1,\n",
    "        paste(nombre, \"es primo\"),\n",
    "        paste(nombre ,\" tiene factores\", toString(factores))\n",
    "    )\n",
    "}\n",
    "mapply(msg, names(primo_factores), primo_factores)"
   ]
  },
  {
   "cell_type": "markdown",
   "metadata": {
    "deletable": true,
    "editable": true
   },
   "source": [
    "En conclusión, mientras `lappy()` y `sapply()` iteran sobre un vector, `mapply()` itera sobre múltiples vectores. En otras palabras, `mapply` es una versión multivariable de `sapply`:"
   ]
  },
  {
   "cell_type": "code",
   "execution_count": 43,
   "metadata": {
    "collapsed": false,
    "deletable": true,
    "editable": true
   },
   "outputs": [
    {
     "data": {
      "text/html": [
       "<ol class=list-inline>\n",
       "\t<li>-1</li>\n",
       "\t<li>-4</li>\n",
       "\t<li>-9</li>\n",
       "</ol>\n"
      ],
      "text/latex": [
       "\\begin{enumerate*}\n",
       "\\item -1\n",
       "\\item -4\n",
       "\\item -9\n",
       "\\end{enumerate*}\n"
      ],
      "text/markdown": [
       "1. -1\n",
       "2. -4\n",
       "3. -9\n",
       "\n",
       "\n"
      ],
      "text/plain": [
       "[1] -1 -4 -9"
      ]
     },
     "metadata": {},
     "output_type": "display_data"
    }
   ],
   "source": [
    "mapply(function(a, b, c) a * b + b * c + a * c, a = c(1, 2, 3), b = c(5, 6, 7), c = c(-1, -2, -3))"
   ]
  },
  {
   "cell_type": "markdown",
   "metadata": {
    "deletable": true,
    "editable": true
   },
   "source": [
    "La función de iteración permite regresar no sólo valores escalares, sino vectores de elementos múltiples. Entonces, `mapply()` simplificará el resultado, al igual que `sapply()`:"
   ]
  },
  {
   "cell_type": "code",
   "execution_count": 44,
   "metadata": {
    "collapsed": false,
    "deletable": true,
    "editable": true
   },
   "outputs": [
    {
     "data": {
      "text/html": [
       "<table>\n",
       "<thead><tr><th scope=col>v1</th><th scope=col>v2</th></tr></thead>\n",
       "<tbody>\n",
       "\t<tr><td>1</td><td>3</td></tr>\n",
       "\t<tr><td>2</td><td>4</td></tr>\n",
       "\t<tr><td>3</td><td>5</td></tr>\n",
       "</tbody>\n",
       "</table>\n"
      ],
      "text/latex": [
       "\\begin{tabular}{r|ll}\n",
       " v1 & v2\\\\\n",
       "\\hline\n",
       "\t 1 & 3\\\\\n",
       "\t 2 & 4\\\\\n",
       "\t 3 & 5\\\\\n",
       "\\end{tabular}\n"
      ],
      "text/markdown": [
       "\n",
       "v1 | v2 | \n",
       "|---|---|---|\n",
       "| 1 | 3 | \n",
       "| 2 | 4 | \n",
       "| 3 | 5 | \n",
       "\n",
       "\n"
      ],
      "text/plain": [
       "  v1 v2\n",
       "1 1  3 \n",
       "2 2  4 \n",
       "3 3  5 "
      ]
     },
     "metadata": {},
     "output_type": "display_data"
    }
   ],
   "source": [
    "df3 <- data.frame(v1 = c(1, 2, 3), v2 = c(3, 4, 5))\n",
    "df3"
   ]
  },
  {
   "cell_type": "code",
   "execution_count": 45,
   "metadata": {
    "collapsed": false,
    "deletable": true,
    "editable": true
   },
   "outputs": [
    {
     "data": {
      "text/html": [
       "<table>\n",
       "<tbody>\n",
       "\t<tr><td>1</td><td>2</td><td>3</td></tr>\n",
       "\t<tr><td>3</td><td>4</td><td>5</td></tr>\n",
       "\t<tr><td>4</td><td>6</td><td>8</td></tr>\n",
       "</tbody>\n",
       "</table>\n"
      ],
      "text/latex": [
       "\\begin{tabular}{lll}\n",
       "\t 1 & 2 & 3\\\\\n",
       "\t 3 & 4 & 5\\\\\n",
       "\t 4 & 6 & 8\\\\\n",
       "\\end{tabular}\n"
      ],
      "text/markdown": [
       "\n",
       "| 1 | 2 | 3 | \n",
       "| 3 | 4 | 5 | \n",
       "| 4 | 6 | 8 | \n",
       "\n",
       "\n"
      ],
      "text/plain": [
       "     [,1] [,2] [,3]\n",
       "[1,] 1    2    3   \n",
       "[2,] 3    4    5   \n",
       "[3,] 4    6    8   "
      ]
     },
     "metadata": {},
     "output_type": "display_data"
    }
   ],
   "source": [
    "mapply(function(xi, yi) c(xi, yi, xi + yi), df3$v1, df3$v2)"
   ]
  },
  {
   "cell_type": "markdown",
   "metadata": {
    "deletable": true,
    "editable": true
   },
   "source": [
    "`Map` es la versión multivariable de `lapply` y por lo tanto, siempre devuelve una lista y también del ejemplo anterior:"
   ]
  },
  {
   "cell_type": "code",
   "execution_count": 46,
   "metadata": {
    "collapsed": false,
    "deletable": true,
    "editable": true
   },
   "outputs": [
    {
     "data": {
      "text/html": [
       "<ol>\n",
       "\t<li><ol class=list-inline>\n",
       "\t<li>1</li>\n",
       "\t<li>3</li>\n",
       "\t<li>4</li>\n",
       "</ol>\n",
       "</li>\n",
       "\t<li><ol class=list-inline>\n",
       "\t<li>2</li>\n",
       "\t<li>4</li>\n",
       "\t<li>6</li>\n",
       "</ol>\n",
       "</li>\n",
       "\t<li><ol class=list-inline>\n",
       "\t<li>3</li>\n",
       "\t<li>5</li>\n",
       "\t<li>8</li>\n",
       "</ol>\n",
       "</li>\n",
       "</ol>\n"
      ],
      "text/latex": [
       "\\begin{enumerate}\n",
       "\\item \\begin{enumerate*}\n",
       "\\item 1\n",
       "\\item 3\n",
       "\\item 4\n",
       "\\end{enumerate*}\n",
       "\n",
       "\\item \\begin{enumerate*}\n",
       "\\item 2\n",
       "\\item 4\n",
       "\\item 6\n",
       "\\end{enumerate*}\n",
       "\n",
       "\\item \\begin{enumerate*}\n",
       "\\item 3\n",
       "\\item 5\n",
       "\\item 8\n",
       "\\end{enumerate*}\n",
       "\n",
       "\\end{enumerate}\n"
      ],
      "text/markdown": [
       "1. 1. 1\n",
       "2. 3\n",
       "3. 4\n",
       "\n",
       "\n",
       "\n",
       "2. 1. 2\n",
       "2. 4\n",
       "3. 6\n",
       "\n",
       "\n",
       "\n",
       "3. 1. 3\n",
       "2. 5\n",
       "3. 8\n",
       "\n",
       "\n",
       "\n",
       "\n",
       "\n"
      ],
      "text/plain": [
       "[[1]]\n",
       "[1] 1 3 4\n",
       "\n",
       "[[2]]\n",
       "[1] 2 4 6\n",
       "\n",
       "[[3]]\n",
       "[1] 3 5 8\n"
      ]
     },
     "metadata": {},
     "output_type": "display_data"
    }
   ],
   "source": [
    "Map(function(xi, yi) c(xi, yi, xi + yi), df3$v1, df3$v2)"
   ]
  },
  {
   "cell_type": "code",
   "execution_count": 47,
   "metadata": {
    "collapsed": false,
    "deletable": true,
    "editable": true
   },
   "outputs": [
    {
     "data": {
      "text/html": [
       "<ol class=list-inline>\n",
       "\t<li>0.476724766376291</li>\n",
       "\t<li>0.649659138075852</li>\n",
       "\t<li>0.548291432093187</li>\n",
       "\t<li>0.544880511821248</li>\n",
       "\t<li>0.626412015404998</li>\n",
       "</ol>\n"
      ],
      "text/latex": [
       "\\begin{enumerate*}\n",
       "\\item 0.476724766376291\n",
       "\\item 0.649659138075852\n",
       "\\item 0.548291432093187\n",
       "\\item 0.544880511821248\n",
       "\\item 0.626412015404998\n",
       "\\end{enumerate*}\n"
      ],
      "text/markdown": [
       "1. 0.476724766376291\n",
       "2. 0.649659138075852\n",
       "3. 0.548291432093187\n",
       "4. 0.544880511821248\n",
       "5. 0.626412015404998\n",
       "\n",
       "\n"
      ],
      "text/plain": [
       "[1] 0.4767248 0.6496591 0.5482914 0.5448805 0.6264120"
      ]
     },
     "metadata": {},
     "output_type": "display_data"
    }
   ],
   "source": [
    "unlist(Map(weighted.mean, xs, ws))"
   ]
  },
  {
   "cell_type": "markdown",
   "metadata": {
    "deletable": true,
    "editable": true
   },
   "source": [
    "Tenga en cuenta que el orden de los argumentos es un poco diferente: `function` es el primer argumento para `Map()` y el segundo para `lapply()`. \n",
    "\n",
    "`Map` es útil siempre que tenga dos (o más) listas (o data frames) que necesite procesar en paralelo. Por ejemplo, otra forma de estandarizar las columnas es calcular primero los medios y después dividirlos. Podríamos hacer esto con `lapply()`, pero si lo hacemos en dos pasos, podemos ver más fácilmente los resultados en cada paso, lo cual es particularmente importante si el primer paso es más complicado."
   ]
  },
  {
   "cell_type": "code",
   "execution_count": 48,
   "metadata": {
    "collapsed": false,
    "deletable": true,
    "editable": true
   },
   "outputs": [],
   "source": [
    "mtmeans <- lapply(mtcars, mean)\n",
    "mtmeans2 <- Map('/', mtcars, mtmeans)\n",
    "\n",
    "# En este caso es , equivalente a \n",
    "mtcars2 <- lapply(mtcars, function(x) x / mean(x))"
   ]
  },
  {
   "cell_type": "markdown",
   "metadata": {
    "deletable": true,
    "editable": true
   },
   "source": [
    " Si algunos de los argumentos deben ser fijos y constantes, utilice una función anónima. La función `Map ` es equivalente a  `mapply`, con `simplify = FALSE`, que es casi siempre lo que se desea."
   ]
  },
  {
   "cell_type": "code",
   "execution_count": 49,
   "metadata": {
    "collapsed": false,
    "deletable": true,
    "editable": true
   },
   "outputs": [
    {
     "data": {
      "text/html": [
       "<ol>\n",
       "\t<li>0.476724766376291</li>\n",
       "\t<li>0.649659138075852</li>\n",
       "\t<li>0.548291432093187</li>\n",
       "\t<li>0.544880511821248</li>\n",
       "\t<li>0.626412015404998</li>\n",
       "</ol>\n"
      ],
      "text/latex": [
       "\\begin{enumerate}\n",
       "\\item 0.476724766376291\n",
       "\\item 0.649659138075852\n",
       "\\item 0.548291432093187\n",
       "\\item 0.544880511821248\n",
       "\\item 0.626412015404998\n",
       "\\end{enumerate}\n"
      ],
      "text/markdown": [
       "1. 0.476724766376291\n",
       "2. 0.649659138075852\n",
       "3. 0.548291432093187\n",
       "4. 0.544880511821248\n",
       "5. 0.626412015404998\n",
       "\n",
       "\n"
      ],
      "text/plain": [
       "[[1]]\n",
       "[1] 0.4767248\n",
       "\n",
       "[[2]]\n",
       "[1] 0.6496591\n",
       "\n",
       "[[3]]\n",
       "[1] 0.5482914\n",
       "\n",
       "[[4]]\n",
       "[1] 0.5448805\n",
       "\n",
       "[[5]]\n",
       "[1] 0.626412\n"
      ]
     },
     "metadata": {},
     "output_type": "display_data"
    }
   ],
   "source": [
    "Map(function(x, w) weighted.mean(x, w, na.rm = TRUE), xs, ws)"
   ]
  },
  {
   "cell_type": "markdown",
   "metadata": {
    "deletable": true,
    "editable": true
   },
   "source": [
    "En lugar de utilizar una función anónima para proporcionar entradas constantes, `mapply` tiene el argumento `MoreArgs` que toma una lista de argumentos adicionales que se proporcionarán en cada llamada. Esto no cumple con  la semántica de evaluación habitual de R, y es inconsistente con otras funciones."
   ]
  },
  {
   "cell_type": "markdown",
   "metadata": {
    "deletable": true,
    "editable": true
   },
   "source": [
    "La función `Vectorize` es un envoltorio para `mapply` que toma una función que normalmente acepta una entrada escalar y devuelve una nueva función que acepta vectores. Esta función siguiente no está vectorizada debido al  uso de `switch`, que requiere una entrada escalar:"
   ]
  },
  {
   "cell_type": "code",
   "execution_count": 50,
   "metadata": {
    "collapsed": true,
    "deletable": true,
    "editable": true
   },
   "outputs": [],
   "source": [
    "reporte_genero <- function(genero)\n",
    "{\n",
    "    switch(\n",
    "        genero,\n",
    "        masculino = \"Es un niño !\",\n",
    "        femenino = \"Es una niña!\",\n",
    "        \"Um...\"\n",
    "    )\n",
    "}"
   ]
  },
  {
   "cell_type": "markdown",
   "metadata": {
    "deletable": true,
    "editable": true
   },
   "source": [
    "Si pasamos un vector a la función, lanzará un error:"
   ]
  },
  {
   "cell_type": "code",
   "execution_count": 51,
   "metadata": {
    "collapsed": false,
    "deletable": true,
    "editable": true
   },
   "outputs": [
    {
     "ename": "ERROR",
     "evalue": "Error in switch(genero, masculino = \"Es un niño !\", femenino = \"Es una niña!\", : EXPR must be a length 1 vector\n",
     "output_type": "error",
     "traceback": [
      "Error in switch(genero, masculino = \"Es un niño !\", femenino = \"Es una niña!\", : EXPR must be a length 1 vector\nTraceback:\n",
      "1. reporte_genero(genero)"
     ]
    }
   ],
   "source": [
    "genero <- c(\"masculino\", \"femenino\", \"otro\")\n",
    "reporte_genero(genero)"
   ]
  },
  {
   "cell_type": "markdown",
   "metadata": {
    "deletable": true,
    "editable": true
   },
   "source": [
    "Si bien es teóricamente posible hacer una reescritura completa de una función que está  vectorizada, es más fácil utilizar la función `Vectorize`:"
   ]
  },
  {
   "cell_type": "code",
   "execution_count": 52,
   "metadata": {
    "collapsed": false,
    "deletable": true,
    "editable": true
   },
   "outputs": [
    {
     "data": {
      "text/html": [
       "<dl class=dl-horizontal>\n",
       "\t<dt>masculino</dt>\n",
       "\t\t<dd>'Es un niño !'</dd>\n",
       "\t<dt>femenino</dt>\n",
       "\t\t<dd>'Es una niña!'</dd>\n",
       "\t<dt>otro</dt>\n",
       "\t\t<dd>'Um...'</dd>\n",
       "</dl>\n"
      ],
      "text/latex": [
       "\\begin{description*}\n",
       "\\item[masculino] 'Es un niño !'\n",
       "\\item[femenino] 'Es una niña!'\n",
       "\\item[otro] 'Um...'\n",
       "\\end{description*}\n"
      ],
      "text/markdown": [
       "masculino\n",
       ":   'Es un niño !'femenino\n",
       ":   'Es una niña!'otro\n",
       ":   'Um...'\n",
       "\n"
      ],
      "text/plain": [
       "     masculino       femenino           otro \n",
       "\"Es un niño !\" \"Es una niña!\"        \"Um...\" "
      ]
     },
     "metadata": {},
     "output_type": "display_data"
    }
   ],
   "source": [
    "vectorizada_reporte_genero <- Vectorize(reporte_genero)\n",
    "vectorizada_reporte_genero(genero)"
   ]
  },
  {
   "cell_type": "markdown",
   "metadata": {},
   "source": [
    "### Lecturas\n",
    "\n",
    "* [Using apply, sapply, lapply in R](http://petewerner.blogspot.pe/2012/12/using-apply-sapply-lapply-in-r.html).\n",
    "* [A brief introduction to “apply” in R](https://nsaunders.wordpress.com/2010/08/20/a-brief-introduction-to-apply-in-r/)."
   ]
  },
  {
   "cell_type": "markdown",
   "metadata": {},
   "source": []
  }
 ],
 "metadata": {
  "kernelspec": {
   "display_name": "R",
   "language": "R",
   "name": "ir"
  },
  "language_info": {
   "codemirror_mode": "r",
   "file_extension": ".r",
   "mimetype": "text/x-r-source",
   "name": "R",
   "pygments_lexer": "r",
   "version": "3.3.2"
  }
 },
 "nbformat": 4,
 "nbformat_minor": 1
}
