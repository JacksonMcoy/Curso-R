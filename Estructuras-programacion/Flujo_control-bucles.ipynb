{
 "cells": [
  {
   "cell_type": "markdown",
   "metadata": {
    "deletable": true,
    "editable": true
   },
   "source": [
    "# Estructuras de programación en R"
   ]
  },
  {
   "cell_type": "markdown",
   "metadata": {
    "deletable": true,
    "editable": true
   },
   "source": [
    "En R, al igual que en otros lenguajes , hay muchos casos en los que es posible que se  desee ejecutar código de forma condicional o ejecutar código similar repetidamente.\n",
    "\n",
    "La ejecución condicionada vectorizada a través de la función `ifelse` es también parte de R. Vamos a ver estas estructuras condicionales  así como los tres bucles más simples (`for`, `while` y `repeat`), que de nuevo deben ser razonablemente familiares de otros lenguajes. Debido a la naturaleza vectorizada de R y algunas alternativas más estéticas, estos bucles son menos utilizados en R de lo que se pueda  esperar."
   ]
  },
  {
   "cell_type": "markdown",
   "metadata": {
    "deletable": true,
    "editable": true
   },
   "source": [
    "## Flujo de control\n",
    "\n",
    "Hay muchas ocasiones en las que no sólo se desea ejecutar una declaración tras otra: se necesita controlar el flujo de ejecución. Normalmente esto significa que sólo desea ejecutar algún código si se cumple una condición, para ello existen algunas formas de control, que pasamos a desarrollar:"
   ]
  },
  {
   "cell_type": "markdown",
   "metadata": {
    "deletable": true,
    "editable": true
   },
   "source": [
    "### if y else \n",
    "\n",
    "La forma más simple de control de flujo es la ejecución condicional usando `if`. `if` toma un valor lógico (más precisamente, un vector lógico de longitud uno) y ejecuta la siguiente instrucción sólo si ese valor es `TRUE`:"
   ]
  },
  {
   "cell_type": "code",
   "execution_count": 1,
   "metadata": {
    "collapsed": false,
    "deletable": true,
    "editable": true
   },
   "outputs": [
    {
     "name": "stderr",
     "output_type": "stream",
     "text": [
      "Es cierto!\n"
     ]
    }
   ],
   "source": [
    "if(TRUE) message(\"Es cierto!\")\n",
    "## Eso fue cierto\n",
    "if(FALSE) message(\"No es cierto!\")"
   ]
  },
  {
   "cell_type": "code",
   "execution_count": 2,
   "metadata": {
    "collapsed": false,
    "deletable": true,
    "editable": true
   },
   "outputs": [
    {
     "ename": "ERROR",
     "evalue": "Error in if (NA) message(\"Quien sabe si fue cierto ?\"): valor ausente donde TRUE/FALSE es necesario\n",
     "output_type": "error",
     "traceback": [
      "Error in if (NA) message(\"Quien sabe si fue cierto ?\"): valor ausente donde TRUE/FALSE es necesario\nTraceback:\n"
     ]
    }
   ],
   "source": [
    "# Usando NA, produce un error\n",
    "\n",
    "if(NA) message(\"Quien sabe si fue cierto ?\")"
   ]
  },
  {
   "cell_type": "markdown",
   "metadata": {
    "deletable": true,
    "editable": true
   },
   "source": [
    "Donde se tenga un valor `NA` se podría ejecutarlo usando `is.na`:"
   ]
  },
  {
   "cell_type": "code",
   "execution_count": 3,
   "metadata": {
    "collapsed": false,
    "deletable": true,
    "editable": true
   },
   "outputs": [
    {
     "name": "stderr",
     "output_type": "stream",
     "text": [
      "Quien sabe si fue cierto ?\n"
     ]
    }
   ],
   "source": [
    "if(is.na(NA)) message(\"Quien sabe si fue cierto ?\")"
   ]
  },
  {
   "cell_type": "markdown",
   "metadata": {
    "deletable": true,
    "editable": true
   },
   "source": [
    "Por supuesto, la mayor parte del tiempo, no  pasaremos  valores `TRUE` o `FALSE`. En su lugar, colocaremos  una variable o una expresión: si supieras que la sentencia iba a ejecutarse de antemano, no necesitaría la cláusula `if`. En este ejemplo siguiente, `runif(1)` genera un número aleatorio uniformemente distribuido entre `0` y `1`. Si ese valor es superior a `0,5`, entonces se muestra un mensaje."
   ]
  },
  {
   "cell_type": "code",
   "execution_count": 4,
   "metadata": {
    "collapsed": true,
    "deletable": true,
    "editable": true
   },
   "outputs": [],
   "source": [
    "if(runif(1) > 0.5) message(\"Este mensaje aparece con un  50% probabilidad.\")"
   ]
  },
  {
   "cell_type": "markdown",
   "metadata": {
    "deletable": true,
    "editable": true
   },
   "source": [
    "Si desea condicionalmente ejecutar varias declaraciones, puede envolverlas en llaves:"
   ]
  },
  {
   "cell_type": "code",
   "execution_count": 5,
   "metadata": {
    "collapsed": true,
    "deletable": true,
    "editable": true
   },
   "outputs": [],
   "source": [
    "x <- 3\n",
    "if(x > 2)\n",
    "{\n",
    "    y <- 2 * x\n",
    "    z <- 3 * y\n",
    "}"
   ]
  },
  {
   "cell_type": "markdown",
   "metadata": {
    "deletable": true,
    "editable": true
   },
   "source": [
    "El siguiente paso en la complejidad de `if` es incluir una declaración `else`. El código que sigue a una instrucción `else` se ejecuta si la condición `if` era `FALSE`:"
   ]
  },
  {
   "cell_type": "code",
   "execution_count": 6,
   "metadata": {
    "collapsed": false,
    "deletable": true,
    "editable": true
   },
   "outputs": [
    {
     "name": "stderr",
     "output_type": "stream",
     "text": [
      "esto deberia ejecutarse.\n"
     ]
    }
   ],
   "source": [
    "if(FALSE)\n",
    "{\n",
    "    message(\"Esto no se ejecuta....\")\n",
    "} else\n",
    "{\n",
    "    message(\"esto deberia ejecutarse.\")\n",
    "}"
   ]
  },
  {
   "cell_type": "markdown",
   "metadata": {
    "deletable": true,
    "editable": true
   },
   "source": [
    "Una cosa importante a recordar es que la declaración `else`  debe ocurrir en la misma línea que la llave de cierre de la cláusula `if`. Si  mueves esto  a la siguiente línea, produce un error:"
   ]
  },
  {
   "cell_type": "code",
   "execution_count": 7,
   "metadata": {
    "collapsed": false,
    "deletable": true,
    "editable": true
   },
   "outputs": [
    {
     "ename": "ERROR",
     "evalue": "Error in parse(text = x, srcfile = src): <text>:5:1: inesperado 'else'\n4: }\n5: else\n   ^\n",
     "output_type": "error",
     "traceback": [
      "Error in parse(text = x, srcfile = src): <text>:5:1: inesperado 'else'\n4: }\n5: else\n   ^\nTraceback:\n"
     ]
    }
   ],
   "source": [
    "if(FALSE)\n",
    "{\n",
    "    message(\"Esto no se ejecuta...\")\n",
    "}\n",
    "else\n",
    "{\n",
    "    message(\"tenemos un error antes de llegar aqui!.\")\n",
    "}"
   ]
  },
  {
   "cell_type": "markdown",
   "metadata": {
    "deletable": true,
    "editable": true
   },
   "source": [
    "Las condiciones múltiples se pueden definir combinando `if` y `else` repetidamente. Observe que `if` y `else` son dos palabras separadas, pero hay una función `ifelse` que hace algo ligeramente diferente."
   ]
  },
  {
   "cell_type": "code",
   "execution_count": null,
   "metadata": {
    "collapsed": true,
    "deletable": true,
    "editable": true
   },
   "outputs": [],
   "source": [
    "(r <- round(rnorm(2), 1))\n",
    "\n",
    "(x <- r[1] / r[2])\n",
    "\n",
    "if(is.nan(x))\n",
    "{\n",
    "    message(\"x es un NA\")\n",
    "} else if(is.infinite(x))\n",
    "{\n",
    "    message(\"x es infinito\")\n",
    "} else if(x > 0)\n",
    "{\n",
    "    message(\"x es positivo\")\n",
    "} else if(x < 0)\n",
    "{\n",
    "    message(\"x es negativo\")\n",
    "} else\n",
    "{\n",
    "    message(\"x es cerp\")\n",
    "}\n",
    "## x is positivo"
   ]
  },
  {
   "cell_type": "markdown",
   "metadata": {
    "deletable": true,
    "editable": true
   },
   "source": [
    "R, a diferencia de muchos lenguajes, tiene un truco ingenioso que le permite reordenar el código y hacer la asignación condicional. En el siguiente ejemplo, `Re` devuelve el componente real de un número complejo (`Im` devuelve el componente imaginario):"
   ]
  },
  {
   "cell_type": "code",
   "execution_count": 9,
   "metadata": {
    "collapsed": false,
    "deletable": true,
    "editable": true
   },
   "outputs": [
    {
     "data": {
      "text/html": [
       "'real'"
      ],
      "text/latex": [
       "'real'"
      ],
      "text/markdown": [
       "'real'"
      ],
      "text/plain": [
       "[1] \"real\""
      ]
     },
     "metadata": {},
     "output_type": "display_data"
    }
   ],
   "source": [
    "x <- sqrt(-1 + 0i)\n",
    "(resultado <- if(Re(x) == 0) \"real\" else \"imaginario\")"
   ]
  },
  {
   "cell_type": "markdown",
   "metadata": {
    "deletable": true,
    "editable": true
   },
   "source": [
    "###  Vectorizado if\n",
    "\n",
    "La instrucción estándar `if` toma un único valor lógico. Si pasas un vector lógico con una longitud de más de uno (!no lo hagas!), R te advertirá que has dado varias opciones y sólo se usará la primera:"
   ]
  },
  {
   "cell_type": "code",
   "execution_count": 10,
   "metadata": {
    "collapsed": false,
    "deletable": true,
    "editable": true
   },
   "outputs": [
    {
     "name": "stderr",
     "output_type": "stream",
     "text": [
      "Warning message in if (c(TRUE, FALSE)) message(\"dos opciones\"):\n",
      "“la condición tiene longitud > 1 y sólo el primer elemento será usado”dos opciones\n"
     ]
    }
   ],
   "source": [
    "if(c(TRUE, FALSE)) message(\"dos opciones\")"
   ]
  },
  {
   "cell_type": "markdown",
   "metadata": {
    "deletable": true,
    "editable": true
   },
   "source": [
    "Dado que gran parte de R es vectorizada, también es vectorizado el control de flujo, en forma de la función `ifelse`. `ifelse` toma tres argumentos. El primero es un vector lógico de condiciones. El segundo contiene valores que se devuelven cuando el primer vector es `TRUE`. El tercero contiene valores que se devuelven cuando el primer vector es `FALSE`. En el siguiente ejemplo, `rbinom` genera números aleatorios de una distribución binomial para simular el lanzamiento de una  moneda :"
   ]
  },
  {
   "cell_type": "code",
   "execution_count": 11,
   "metadata": {
    "collapsed": false,
    "deletable": true,
    "editable": true
   },
   "outputs": [
    {
     "data": {
      "text/html": [
       "<ol class=list-inline>\n",
       "\t<li>'Cara'</li>\n",
       "\t<li>'Cara'</li>\n",
       "\t<li>'Sello'</li>\n",
       "\t<li>'Sello'</li>\n",
       "\t<li>'Sello'</li>\n",
       "\t<li>'Sello'</li>\n",
       "\t<li>'Cara'</li>\n",
       "\t<li>'Cara'</li>\n",
       "\t<li>'Cara'</li>\n",
       "\t<li>'Cara'</li>\n",
       "</ol>\n"
      ],
      "text/latex": [
       "\\begin{enumerate*}\n",
       "\\item 'Cara'\n",
       "\\item 'Cara'\n",
       "\\item 'Sello'\n",
       "\\item 'Sello'\n",
       "\\item 'Sello'\n",
       "\\item 'Sello'\n",
       "\\item 'Cara'\n",
       "\\item 'Cara'\n",
       "\\item 'Cara'\n",
       "\\item 'Cara'\n",
       "\\end{enumerate*}\n"
      ],
      "text/markdown": [
       "1. 'Cara'\n",
       "2. 'Cara'\n",
       "3. 'Sello'\n",
       "4. 'Sello'\n",
       "5. 'Sello'\n",
       "6. 'Sello'\n",
       "7. 'Cara'\n",
       "8. 'Cara'\n",
       "9. 'Cara'\n",
       "10. 'Cara'\n",
       "\n",
       "\n"
      ],
      "text/plain": [
       " [1] \"Cara\"  \"Cara\"  \"Sello\" \"Sello\" \"Sello\" \"Sello\" \"Cara\"  \"Cara\"  \"Cara\" \n",
       "[10] \"Cara\" "
      ]
     },
     "metadata": {},
     "output_type": "display_data"
    }
   ],
   "source": [
    "ifelse(rbinom(10, 1, 0.5), \"Cara\", \"Sello\")"
   ]
  },
  {
   "cell_type": "markdown",
   "metadata": {
    "deletable": true,
    "editable": true
   },
   "source": [
    "`ifelse` también puede aceptar vectores en el segundo y tercer argumento. Estos deben ser del mismo tamaño que el primer vector (si los vectores no son del mismo tamaño, entonces los elementos en el segundo y tercer argumento son reciclados o ignorados para que se tenga el mismo tamaño que el primero):"
   ]
  },
  {
   "cell_type": "code",
   "execution_count": 12,
   "metadata": {
    "collapsed": false,
    "deletable": true,
    "editable": true
   },
   "outputs": [
    {
     "data": {
      "text/html": [
       "<ol class=list-inline>\n",
       "\t<li>TRUE</li>\n",
       "\t<li>FALSE</li>\n",
       "\t<li>TRUE</li>\n",
       "\t<li>FALSE</li>\n",
       "\t<li>TRUE</li>\n",
       "\t<li>FALSE</li>\n",
       "\t<li>TRUE</li>\n",
       "\t<li>FALSE</li>\n",
       "\t<li>TRUE</li>\n",
       "\t<li>FALSE</li>\n",
       "\t<li>TRUE</li>\n",
       "\t<li>FALSE</li>\n",
       "</ol>\n"
      ],
      "text/latex": [
       "\\begin{enumerate*}\n",
       "\\item TRUE\n",
       "\\item FALSE\n",
       "\\item TRUE\n",
       "\\item FALSE\n",
       "\\item TRUE\n",
       "\\item FALSE\n",
       "\\item TRUE\n",
       "\\item FALSE\n",
       "\\item TRUE\n",
       "\\item FALSE\n",
       "\\item TRUE\n",
       "\\item FALSE\n",
       "\\end{enumerate*}\n"
      ],
      "text/markdown": [
       "1. TRUE\n",
       "2. FALSE\n",
       "3. TRUE\n",
       "4. FALSE\n",
       "5. TRUE\n",
       "6. FALSE\n",
       "7. TRUE\n",
       "8. FALSE\n",
       "9. TRUE\n",
       "10. FALSE\n",
       "11. TRUE\n",
       "12. FALSE\n",
       "\n",
       "\n"
      ],
      "text/plain": [
       " [1]  TRUE FALSE  TRUE FALSE  TRUE FALSE  TRUE FALSE  TRUE FALSE  TRUE FALSE"
      ]
     },
     "metadata": {},
     "output_type": "display_data"
    }
   ],
   "source": [
    "(yn <- rep.int(c(TRUE, FALSE), 6))"
   ]
  },
  {
   "cell_type": "code",
   "execution_count": 13,
   "metadata": {
    "collapsed": false,
    "deletable": true,
    "editable": true
   },
   "outputs": [
    {
     "data": {
      "text/html": [
       "<ol class=list-inline>\n",
       "\t<li>1</li>\n",
       "\t<li>-2</li>\n",
       "\t<li>3</li>\n",
       "\t<li>-4</li>\n",
       "\t<li>2</li>\n",
       "\t<li>-6</li>\n",
       "\t<li>1</li>\n",
       "\t<li>-8</li>\n",
       "\t<li>3</li>\n",
       "\t<li>-10</li>\n",
       "\t<li>2</li>\n",
       "\t<li>-12</li>\n",
       "</ol>\n"
      ],
      "text/latex": [
       "\\begin{enumerate*}\n",
       "\\item 1\n",
       "\\item -2\n",
       "\\item 3\n",
       "\\item -4\n",
       "\\item 2\n",
       "\\item -6\n",
       "\\item 1\n",
       "\\item -8\n",
       "\\item 3\n",
       "\\item -10\n",
       "\\item 2\n",
       "\\item -12\n",
       "\\end{enumerate*}\n"
      ],
      "text/markdown": [
       "1. 1\n",
       "2. -2\n",
       "3. 3\n",
       "4. -4\n",
       "5. 2\n",
       "6. -6\n",
       "7. 1\n",
       "8. -8\n",
       "9. 3\n",
       "10. -10\n",
       "11. 2\n",
       "12. -12\n",
       "\n",
       "\n"
      ],
      "text/plain": [
       " [1]   1  -2   3  -4   2  -6   1  -8   3 -10   2 -12"
      ]
     },
     "metadata": {},
     "output_type": "display_data"
    }
   ],
   "source": [
    "ifelse(yn, 1:3, -1:-12)"
   ]
  },
  {
   "cell_type": "markdown",
   "metadata": {
    "deletable": true,
    "editable": true
   },
   "source": [
    "Si hay  valores `NA` en el argumento de la condición, entonces   los valores  correspondientes en el resultado son `NA` también:"
   ]
  },
  {
   "cell_type": "code",
   "execution_count": 14,
   "metadata": {
    "collapsed": false,
    "deletable": true,
    "editable": true
   },
   "outputs": [
    {
     "data": {
      "text/html": [
       "<ol class=list-inline>\n",
       "\t<li>1</li>\n",
       "\t<li>-2</li>\n",
       "\t<li>NA</li>\n",
       "\t<li>-4</li>\n",
       "\t<li>2</li>\n",
       "\t<li>NA</li>\n",
       "\t<li>1</li>\n",
       "\t<li>-8</li>\n",
       "\t<li>NA</li>\n",
       "\t<li>-10</li>\n",
       "\t<li>2</li>\n",
       "\t<li>NA</li>\n",
       "</ol>\n"
      ],
      "text/latex": [
       "\\begin{enumerate*}\n",
       "\\item 1\n",
       "\\item -2\n",
       "\\item NA\n",
       "\\item -4\n",
       "\\item 2\n",
       "\\item NA\n",
       "\\item 1\n",
       "\\item -8\n",
       "\\item NA\n",
       "\\item -10\n",
       "\\item 2\n",
       "\\item NA\n",
       "\\end{enumerate*}\n"
      ],
      "text/markdown": [
       "1. 1\n",
       "2. -2\n",
       "3. NA\n",
       "4. -4\n",
       "5. 2\n",
       "6. NA\n",
       "7. 1\n",
       "8. -8\n",
       "9. NA\n",
       "10. -10\n",
       "11. 2\n",
       "12. NA\n",
       "\n",
       "\n"
      ],
      "text/plain": [
       " [1]   1  -2  NA  -4   2  NA   1  -8  NA -10   2  NA"
      ]
     },
     "metadata": {},
     "output_type": "display_data"
    }
   ],
   "source": [
    "yn[c(3, 6, 9, 12)] <- NA\n",
    "ifelse(yn, 1:3, -1:-12)"
   ]
  },
  {
   "cell_type": "markdown",
   "metadata": {
    "deletable": true,
    "editable": true
   },
   "source": [
    "### Múltiple selección\n",
    "\n",
    "Código con muchas otras declaraciones puede convertirse rápidamente en engorroso para leer. En tales circunstancias, un código más bonito a veces se puede lograr con una llamada a la función `switch`. El uso más común toma como un  primer argumento una expresión que devuelve una cadena, seguida de varios argumentos con nombres que proporcionan resultados cuando el nombre coincide con el primer argumento. Los nombres deben coincidir exactamente con el primer argumento. \n",
    "\n",
    "Se pueden ejecutar expresiones múltiples encerrándolas entre llaves:"
   ]
  },
  {
   "cell_type": "code",
   "execution_count": 15,
   "metadata": {
    "collapsed": false,
    "deletable": true,
    "editable": true
   },
   "outputs": [
    {
     "data": {
      "text/html": [
       "2.59807621135332"
      ],
      "text/latex": [
       "2.59807621135332"
      ],
      "text/markdown": [
       "2.59807621135332"
      ],
      "text/plain": [
       "[1] 2.598076"
      ]
     },
     "metadata": {},
     "output_type": "display_data"
    }
   ],
   "source": [
    "(letra_griega <- switch(\n",
    "    \"gamma\",\n",
    "    alpha = 1,\n",
    "    beta = sqrt(4),\n",
    "    gamma =\n",
    "    {\n",
    "        a <- sin(pi / 3)\n",
    "        4 * a ^ 3\n",
    "    }\n",
    "))"
   ]
  },
  {
   "cell_type": "markdown",
   "metadata": {
    "deletable": true,
    "editable": true
   },
   "source": [
    "Si no coinciden los nombres, entonces `switch` (invisible) devuelve NULL:"
   ]
  },
  {
   "cell_type": "code",
   "execution_count": 16,
   "metadata": {
    "collapsed": false,
    "deletable": true,
    "editable": true
   },
   "outputs": [
    {
     "data": {
      "text/plain": [
       "NULL"
      ]
     },
     "metadata": {},
     "output_type": "display_data"
    }
   ],
   "source": [
    "(letra_griega <- switch(\n",
    "    \"delta\",\n",
    "    alpha = 1,\n",
    "    beta = sqrt(4),\n",
    "    gamma =\n",
    "    {\n",
    "        a <- sin(pi / 3)\n",
    "        4 * a ^ 3\n",
    "    }\n",
    "))"
   ]
  },
  {
   "cell_type": "markdown",
   "metadata": {
    "deletable": true,
    "editable": true
   },
   "source": [
    "Para estas circunstancias, puede proporcionar un argumento sin nombre que coincide cuando nada más lo hace:"
   ]
  },
  {
   "cell_type": "code",
   "execution_count": 18,
   "metadata": {
    "collapsed": false,
    "deletable": true,
    "editable": true
   },
   "outputs": [
    {
     "data": {
      "text/html": [
       "5"
      ],
      "text/latex": [
       "5"
      ],
      "text/markdown": [
       "5"
      ],
      "text/plain": [
       "[1] 5"
      ]
     },
     "metadata": {},
     "output_type": "display_data"
    }
   ],
   "source": [
    "(letra_griega <- switch(\n",
    "    \"delta\",\n",
    "    alpha = 1,\n",
    "    beta = sqrt(4),\n",
    "    gamma =\n",
    "    {\n",
    "        a <- sin(pi / 3)\n",
    "        4 * a ^ 3\n",
    "    },\n",
    "    5\n",
    "))"
   ]
  },
  {
   "cell_type": "markdown",
   "metadata": {
    "deletable": true,
    "editable": true
   },
   "source": [
    "`switch` también puede tomar un primer argumento que devuelve un entero. En este caso los argumentos restantes no necesitan nombres: el siguiente argumento se ejecuta si el primer argumento se resuelve a `1`, el argumento que sigue se ejecuta si el primer argumento se resuelve a `2` y así sucesivamente:"
   ]
  },
  {
   "cell_type": "code",
   "execution_count": 19,
   "metadata": {
    "collapsed": false,
    "deletable": true,
    "editable": true
   },
   "outputs": [
    {
     "data": {
      "text/html": [
       "'third'"
      ],
      "text/latex": [
       "'third'"
      ],
      "text/markdown": [
       "'third'"
      ],
      "text/plain": [
       "[1] \"third\""
      ]
     },
     "metadata": {},
     "output_type": "display_data"
    }
   ],
   "source": [
    "switch(\n",
    "    3,\n",
    "    \"first\",\n",
    "    \"second\",\n",
    "    \"third\",\n",
    "    \"fourth\"\n",
    ")"
   ]
  },
  {
   "cell_type": "markdown",
   "metadata": {
    "deletable": true,
    "editable": true
   },
   "source": [
    "Como habrás notado, ningún argumento por defecto es posible en este caso. También es bastante engorroso si desea probar enteros grandes, ya que tendrá que proporcionar muchos argumentos. En estas circunstancias, lo mejor es convertir el primer argumento en una cadena y utilizar la primera sintaxis:"
   ]
  },
  {
   "cell_type": "code",
   "execution_count": 20,
   "metadata": {
    "collapsed": false,
    "deletable": true,
    "editable": true
   },
   "outputs": [
    {
     "data": {
      "text/html": [
       "<span style=white-space:pre-wrap>'un gran  numero'</span>"
      ],
      "text/latex": [
       "'un gran  numero'"
      ],
      "text/markdown": [
       "<span style=white-space:pre-wrap>'un gran  numero'</span>"
      ],
      "text/plain": [
       "[1] \"un gran  numero\""
      ]
     },
     "metadata": {},
     "output_type": "display_data"
    }
   ],
   "source": [
    "switch(\n",
    "    as.character(2147483647),\n",
    "    \"2147483647\" = \"un gran  numero\",\n",
    "    \"otro numero\"\n",
    ")"
   ]
  },
  {
   "cell_type": "markdown",
   "metadata": {
    "deletable": true,
    "editable": true
   },
   "source": [
    "###  Ejemplos \n",
    "\n",
    "1 . Un número entero es lanzado uniformemente aleatorio desde $\\{1,\\dots, 1000 \\}$ tal que cada número es equiprobable. Veamos la probabilidad que el número lanzado sea divisible por `3, 5` o `6`."
   ]
  },
  {
   "cell_type": "code",
   "execution_count": 22,
   "metadata": {
    "collapsed": false,
    "deletable": true,
    "editable": true
   },
   "outputs": [
    {
     "data": {
      "text/html": [
       "0.463"
      ],
      "text/latex": [
       "0.463"
      ],
      "text/markdown": [
       "0.463"
      ],
      "text/plain": [
       "[1] 0.463"
      ]
     },
     "metadata": {},
     "output_type": "display_data"
    }
   ],
   "source": [
    "# simdivis() simula un lanzamiento \n",
    "\n",
    "simdivis <- function() {\n",
    "    num <- sample(1:1000,1)\n",
    "    if (num%%3==0 || num%%5==0 || num%%6==0) 1 else 0 # uso de if-else\n",
    "    }\n",
    "simlista <- replicate(1000, simdivis())\n",
    "mean(simlista)"
   ]
  },
  {
   "cell_type": "markdown",
   "metadata": {
    "deletable": true,
    "editable": true
   },
   "source": [
    "2 . Usa switch para encontrar un saludo en diferentes idiomas."
   ]
  },
  {
   "cell_type": "code",
   "execution_count": 28,
   "metadata": {
    "collapsed": false,
    "deletable": true,
    "editable": true
   },
   "outputs": [
    {
     "data": {
      "text/html": [
       "'Bonjour'"
      ],
      "text/latex": [
       "'Bonjour'"
      ],
      "text/markdown": [
       "'Bonjour'"
      ],
      "text/plain": [
       "[1] \"Bonjour\""
      ]
     },
     "metadata": {},
     "output_type": "display_data"
    }
   ],
   "source": [
    "x <- letters[floor(1+runif(1,0,4))]\n",
    "y <- switch(x,\n",
    "            a='Bonjour',\n",
    "            b='Gutten Tag',\n",
    "            c='Hello',\n",
    "            d='Konnichi wa',\n",
    "           )\n",
    "y"
   ]
  },
  {
   "cell_type": "markdown",
   "metadata": {
    "deletable": true,
    "editable": true
   },
   "source": [
    "3 . Sea `x` un vector booleano, cuenta el número de secuencias de ceros (por ejemplo, en `00101001010110`, hay `6` secuencias de ceros : `00 0 00 0 0  0`). Cuenta  el número de secuencias de `1`. Cuenta  el número total de secuencias. La misma pregunta para un factor con más de dos niveles."
   ]
  },
  {
   "cell_type": "code",
   "execution_count": 31,
   "metadata": {
    "collapsed": false,
    "deletable": true,
    "editable": true
   },
   "outputs": [
    {
     "data": {
      "text/html": [
       "15"
      ],
      "text/latex": [
       "15"
      ],
      "text/markdown": [
       "15"
      ],
      "text/plain": [
       "[1] 15"
      ]
     },
     "metadata": {},
     "output_type": "display_data"
    },
    {
     "data": {
      "text/html": [
       "8"
      ],
      "text/latex": [
       "8"
      ],
      "text/markdown": [
       "8"
      ],
      "text/plain": [
       "[1] 8"
      ]
     },
     "metadata": {},
     "output_type": "display_data"
    },
    {
     "data": {
      "text/html": [
       "7"
      ],
      "text/latex": [
       "7"
      ],
      "text/markdown": [
       "7"
      ],
      "text/plain": [
       "[1] 7"
      ]
     },
     "metadata": {},
     "output_type": "display_data"
    }
   ],
   "source": [
    "n <- 50\n",
    "x <- sample(0:1, n, replace=T, p=c(.2,.8))\n",
    "\n",
    "# Numero de secuencias \n",
    "\n",
    "sum(abs(diff(x)))+1\n",
    "\n",
    "# Numbero de secuencias de  1's.\n",
    "\n",
    "f <- function (x, v=1){ \n",
    "    x <- diff(x==v)\n",
    "    x <- x[x!=0]\n",
    "    if(x[1]==1)\n",
    "        sum(x==1)\n",
    "    else\n",
    "        1+sum(x==1)\n",
    "}        \n",
    "f(x,1)\n",
    "        \n",
    "# Numbero de secuencias de   0's.    \n",
    "f(x,0)"
   ]
  },
  {
   "cell_type": "code",
   "execution_count": 33,
   "metadata": {
    "collapsed": false,
    "deletable": true,
    "editable": true
   },
   "outputs": [
    {
     "data": {
      "text/html": [
       "38"
      ],
      "text/latex": [
       "38"
      ],
      "text/markdown": [
       "38"
      ],
      "text/plain": [
       "[1] 38"
      ]
     },
     "metadata": {},
     "output_type": "display_data"
    },
    {
     "data": {
      "text/html": [
       "<ol class=list-inline>\n",
       "\t<li>10</li>\n",
       "\t<li>7</li>\n",
       "\t<li>11</li>\n",
       "\t<li>10</li>\n",
       "</ol>\n"
      ],
      "text/latex": [
       "\\begin{enumerate*}\n",
       "\\item 10\n",
       "\\item 7\n",
       "\\item 11\n",
       "\\item 10\n",
       "\\end{enumerate*}\n"
      ],
      "text/markdown": [
       "1. 10\n",
       "2. 7\n",
       "3. 11\n",
       "4. 10\n",
       "\n",
       "\n"
      ],
      "text/plain": [
       "[1] 10  7 11 10"
      ]
     },
     "metadata": {},
     "output_type": "display_data"
    },
    {
     "data": {
      "text/html": [
       "38"
      ],
      "text/latex": [
       "38"
      ],
      "text/markdown": [
       "38"
      ],
      "text/plain": [
       "[1] 38"
      ]
     },
     "metadata": {},
     "output_type": "display_data"
    }
   ],
   "source": [
    "# Suma de secuencias de 0 y 1\n",
    "\n",
    "n <- 50\n",
    "k <- 4\n",
    "x <- sample(1:k, n, replace=T)\n",
    "# Con un bucle\n",
    "        \n",
    "s <- 0\n",
    "for (i in 1:4) {\n",
    "    s <- s + f(x,i)\n",
    "}\n",
    "s\n",
    "# Utilizando no bucles \n",
    "\n",
    "a <- apply(matrix(1:k,nr=1,nc=k), 2, function (i) { f(x,i) } )\n",
    "a \n",
    "sum(a)"
   ]
  },
  {
   "cell_type": "markdown",
   "metadata": {
    "deletable": true,
    "editable": true
   },
   "source": [
    "4 . Encuentra las secuencias de 1's de longitud al menos `k` en una matriz `n x m`. Presenta el resultado como una tabla."
   ]
  },
  {
   "cell_type": "code",
   "execution_count": 37,
   "metadata": {
    "collapsed": false,
    "deletable": true,
    "editable": true
   },
   "outputs": [
    {
     "data": {
      "text/html": [
       "<table>\n",
       "<thead><tr><th scope=col>numlinea</th><th scope=col>inicio</th><th scope=col>final</th></tr></thead>\n",
       "<tbody>\n",
       "\t<tr><td> 1</td><td>18</td><td>28</td></tr>\n",
       "\t<tr><td> 4</td><td> 6</td><td>18</td></tr>\n",
       "\t<tr><td> 6</td><td>25</td><td>35</td></tr>\n",
       "\t<tr><td> 7</td><td>13</td><td>23</td></tr>\n",
       "\t<tr><td> 8</td><td>10</td><td>32</td></tr>\n",
       "\t<tr><td> 9</td><td> 6</td><td>21</td></tr>\n",
       "\t<tr><td>12</td><td>20</td><td>31</td></tr>\n",
       "\t<tr><td>15</td><td>22</td><td>32</td></tr>\n",
       "\t<tr><td>16</td><td>17</td><td>34</td></tr>\n",
       "\t<tr><td>17</td><td>15</td><td>25</td></tr>\n",
       "\t<tr><td>18</td><td>12</td><td>28</td></tr>\n",
       "\t<tr><td>19</td><td> 5</td><td>20</td></tr>\n",
       "\t<tr><td>23</td><td>26</td><td>42</td></tr>\n",
       "\t<tr><td>24</td><td> 1</td><td>12</td></tr>\n",
       "\t<tr><td>24</td><td>20</td><td>31</td></tr>\n",
       "\t<tr><td>25</td><td> 1</td><td>19</td></tr>\n",
       "\t<tr><td>26</td><td>13</td><td>24</td></tr>\n",
       "\t<tr><td>26</td><td>26</td><td>37</td></tr>\n",
       "\t<tr><td>27</td><td>28</td><td>38</td></tr>\n",
       "\t<tr><td>27</td><td>40</td><td>50</td></tr>\n",
       "\t<tr><td>28</td><td>33</td><td>45</td></tr>\n",
       "\t<tr><td>29</td><td> 8</td><td>24</td></tr>\n",
       "\t<tr><td>29</td><td>37</td><td>48</td></tr>\n",
       "\t<tr><td>31</td><td>13</td><td>25</td></tr>\n",
       "\t<tr><td>33</td><td>17</td><td>31</td></tr>\n",
       "\t<tr><td>33</td><td>37</td><td>50</td></tr>\n",
       "\t<tr><td>36</td><td>29</td><td>49</td></tr>\n",
       "\t<tr><td>38</td><td> 1</td><td>16</td></tr>\n",
       "\t<tr><td>38</td><td>18</td><td>32</td></tr>\n",
       "\t<tr><td>39</td><td> 2</td><td>19</td></tr>\n",
       "\t<tr><td>41</td><td>31</td><td>50</td></tr>\n",
       "\t<tr><td>43</td><td>38</td><td>50</td></tr>\n",
       "\t<tr><td>44</td><td> 2</td><td>14</td></tr>\n",
       "\t<tr><td>45</td><td>32</td><td>43</td></tr>\n",
       "\t<tr><td>47</td><td> 8</td><td>20</td></tr>\n",
       "\t<tr><td>48</td><td>35</td><td>48</td></tr>\n",
       "\t<tr><td>49</td><td>31</td><td>50</td></tr>\n",
       "</tbody>\n",
       "</table>\n"
      ],
      "text/latex": [
       "\\begin{tabular}{lll}\n",
       " numlinea & inicio & final\\\\\n",
       "\\hline\n",
       "\t  1 & 18 & 28\\\\\n",
       "\t  4 &  6 & 18\\\\\n",
       "\t  6 & 25 & 35\\\\\n",
       "\t  7 & 13 & 23\\\\\n",
       "\t  8 & 10 & 32\\\\\n",
       "\t  9 &  6 & 21\\\\\n",
       "\t 12 & 20 & 31\\\\\n",
       "\t 15 & 22 & 32\\\\\n",
       "\t 16 & 17 & 34\\\\\n",
       "\t 17 & 15 & 25\\\\\n",
       "\t 18 & 12 & 28\\\\\n",
       "\t 19 &  5 & 20\\\\\n",
       "\t 23 & 26 & 42\\\\\n",
       "\t 24 &  1 & 12\\\\\n",
       "\t 24 & 20 & 31\\\\\n",
       "\t 25 &  1 & 19\\\\\n",
       "\t 26 & 13 & 24\\\\\n",
       "\t 26 & 26 & 37\\\\\n",
       "\t 27 & 28 & 38\\\\\n",
       "\t 27 & 40 & 50\\\\\n",
       "\t 28 & 33 & 45\\\\\n",
       "\t 29 &  8 & 24\\\\\n",
       "\t 29 & 37 & 48\\\\\n",
       "\t 31 & 13 & 25\\\\\n",
       "\t 33 & 17 & 31\\\\\n",
       "\t 33 & 37 & 50\\\\\n",
       "\t 36 & 29 & 49\\\\\n",
       "\t 38 &  1 & 16\\\\\n",
       "\t 38 & 18 & 32\\\\\n",
       "\t 39 &  2 & 19\\\\\n",
       "\t 41 & 31 & 50\\\\\n",
       "\t 43 & 38 & 50\\\\\n",
       "\t 44 &  2 & 14\\\\\n",
       "\t 45 & 32 & 43\\\\\n",
       "\t 47 &  8 & 20\\\\\n",
       "\t 48 & 35 & 48\\\\\n",
       "\t 49 & 31 & 50\\\\\n",
       "\\end{tabular}\n"
      ],
      "text/markdown": [
       "\n",
       "numlinea | inicio | final | \n",
       "|---|---|---|---|---|---|---|---|---|---|---|---|---|---|---|---|---|---|---|---|---|---|---|---|---|---|---|---|---|---|---|---|---|---|---|---|---|\n",
       "|  1 | 18 | 28 | \n",
       "|  4 |  6 | 18 | \n",
       "|  6 | 25 | 35 | \n",
       "|  7 | 13 | 23 | \n",
       "|  8 | 10 | 32 | \n",
       "|  9 |  6 | 21 | \n",
       "| 12 | 20 | 31 | \n",
       "| 15 | 22 | 32 | \n",
       "| 16 | 17 | 34 | \n",
       "| 17 | 15 | 25 | \n",
       "| 18 | 12 | 28 | \n",
       "| 19 |  5 | 20 | \n",
       "| 23 | 26 | 42 | \n",
       "| 24 |  1 | 12 | \n",
       "| 24 | 20 | 31 | \n",
       "| 25 |  1 | 19 | \n",
       "| 26 | 13 | 24 | \n",
       "| 26 | 26 | 37 | \n",
       "| 27 | 28 | 38 | \n",
       "| 27 | 40 | 50 | \n",
       "| 28 | 33 | 45 | \n",
       "| 29 |  8 | 24 | \n",
       "| 29 | 37 | 48 | \n",
       "| 31 | 13 | 25 | \n",
       "| 33 | 17 | 31 | \n",
       "| 33 | 37 | 50 | \n",
       "| 36 | 29 | 49 | \n",
       "| 38 |  1 | 16 | \n",
       "| 38 | 18 | 32 | \n",
       "| 39 |  2 | 19 | \n",
       "| 41 | 31 | 50 | \n",
       "| 43 | 38 | 50 | \n",
       "| 44 |  2 | 14 | \n",
       "| 45 | 32 | 43 | \n",
       "| 47 |  8 | 20 | \n",
       "| 48 | 35 | 48 | \n",
       "| 49 | 31 | 50 | \n",
       "\n",
       "\n"
      ],
      "text/plain": [
       "      numlinea inicio final\n",
       " [1,]  1       18     28   \n",
       " [2,]  4        6     18   \n",
       " [3,]  6       25     35   \n",
       " [4,]  7       13     23   \n",
       " [5,]  8       10     32   \n",
       " [6,]  9        6     21   \n",
       " [7,] 12       20     31   \n",
       " [8,] 15       22     32   \n",
       " [9,] 16       17     34   \n",
       "[10,] 17       15     25   \n",
       "[11,] 18       12     28   \n",
       "[12,] 19        5     20   \n",
       "[13,] 23       26     42   \n",
       "[14,] 24        1     12   \n",
       "[15,] 24       20     31   \n",
       "[16,] 25        1     19   \n",
       "[17,] 26       13     24   \n",
       "[18,] 26       26     37   \n",
       "[19,] 27       28     38   \n",
       "[20,] 27       40     50   \n",
       "[21,] 28       33     45   \n",
       "[22,] 29        8     24   \n",
       "[23,] 29       37     48   \n",
       "[24,] 31       13     25   \n",
       "[25,] 33       17     31   \n",
       "[26,] 33       37     50   \n",
       "[27,] 36       29     49   \n",
       "[28,] 38        1     16   \n",
       "[29,] 38       18     32   \n",
       "[30,] 39        2     19   \n",
       "[31,] 41       31     50   \n",
       "[32,] 43       38     50   \n",
       "[33,] 44        2     14   \n",
       "[34,] 45       32     43   \n",
       "[35,] 47        8     20   \n",
       "[36,] 48       35     48   \n",
       "[37,] 49       31     50   "
      ]
     },
     "metadata": {},
     "output_type": "display_data"
    }
   ],
   "source": [
    "f1 <- function (M,k) {\n",
    "    x <- c(0,M,0)\n",
    "    #Inicio de la secuencia de 1's\n",
    "    inicio <- which( diff(x) == 1 )\n",
    "    # Final de la secuencias de 1's\n",
    "    final <- which( diff(x) == -1 ) -1\n",
    "    # final -inicio = longitud de las secuencias\n",
    "    cbind(inicio,final)[ final-inicio >= k, ]\n",
    "}\n",
    "\n",
    "n <- 50\n",
    "m <- 50\n",
    "M <- matrix( sample(0:1, n*m, replace=T, prob=c(.2,.8)), nr=n, nc=m )\n",
    "res <- apply(M, 1, f1, k=10)\n",
    "\n",
    "# Agregamos numero de linea\n",
    "\n",
    "i <- 0\n",
    "res <- lapply(res, function (x) { \n",
    "    x <- matrix(x, nc=2)\n",
    "    i <<- i+1\n",
    "    cbind(numlinea=rep(i,length(x)/2), inicio =x[,1], final=x[,2])\n",
    "})\n",
    "# Presentamos el resultado como una tabla\n",
    "\n",
    "do.call('rbind', res)   "
   ]
  },
  {
   "cell_type": "markdown",
   "metadata": {
    "deletable": true,
    "editable": true
   },
   "source": [
    "## Bucles\n",
    "\n",
    "Hay tres tipos de bucles en R: `repeat`, `while`, y `for` y aunque la  vectorización  muestra que nos los necesita tanto en R como en otros lenguajes, todavía pueden ayudar en la ejecución repetida del código."
   ]
  },
  {
   "cell_type": "markdown",
   "metadata": {
    "deletable": true,
    "editable": true
   },
   "source": [
    "###  El bucle repeat\n",
    "\n",
    "El bucle más fácil de dominar en R es `repeat`. Todo lo que hace es ejecutar el mismo código una y otra vez hasta que le diga que se detenga.  En general, si queremos que nuestro código se complete antes del final del universo, es necesario incluir una sentencia `break`. "
   ]
  },
  {
   "cell_type": "code",
   "execution_count": 38,
   "metadata": {
    "collapsed": false,
    "deletable": true,
    "editable": true
   },
   "outputs": [
    {
     "name": "stdout",
     "output_type": "stream",
     "text": [
      "[1] 1\n",
      "[1] 2\n",
      "[1] 3\n",
      "[1] 4\n",
      "[1] 5\n"
     ]
    }
   ],
   "source": [
    "i<- 1\n",
    "repeat{\n",
    "  print(i)\n",
    "  i <- i +1\n",
    "  if(i > 5)\n",
    "    {break}\n",
    "}"
   ]
  },
  {
   "cell_type": "code",
   "execution_count": 40,
   "metadata": {
    "collapsed": false,
    "deletable": true,
    "editable": true
   },
   "outputs": [
    {
     "name": "stderr",
     "output_type": "stream",
     "text": [
      "Hoy es un dia de obligaciones!\n",
      "accion = Salir con Jessica\n",
      "Hoy es un dia de obligaciones!\n",
      "accion = Leer el manga de One Piece\n"
     ]
    }
   ],
   "source": [
    "# Usamos sample para retornar una accion en cada iteracion del bucle\n",
    "\n",
    "repeat\n",
    "{\n",
    "    message(\"Hoy es un dia de obligaciones!\")\n",
    "    accion <- sample(\n",
    "        c(\n",
    "            \"Aprender R\",\n",
    "            \"Estudiar CM-274\",\n",
    "            \"Leer el manga de One Piece\",\n",
    "            \"Salir con Jessica\"\n",
    "        ),\n",
    "        1\n",
    "    )\n",
    "    message(\"accion = \", accion)\n",
    "    if(accion == \"Leer el manga de One Piece\") break\n",
    "}"
   ]
  },
  {
   "cell_type": "markdown",
   "metadata": {
    "deletable": true,
    "editable": true
   },
   "source": [
    "A veces, en lugar de salir del bucle, sólo queremos saltar el resto de la iteración actual e iniciar la siguiente iteración, para ello usamos la declaración `next`:\n"
   ]
  },
  {
   "cell_type": "code",
   "execution_count": 44,
   "metadata": {
    "collapsed": false,
    "deletable": true,
    "editable": true
   },
   "outputs": [
    {
     "name": "stderr",
     "output_type": "stream",
     "text": [
      "Hoy es un dia de obligaciones!\n",
      " Pasar a la siguiente iteracion por favor\n",
      "Hoy es un dia de obligaciones!\n",
      "accion = Salir con Jessica\n",
      "Hoy es un dia de obligaciones!\n",
      "accion = Salir con Jessica\n",
      "Hoy es un dia de obligaciones!\n",
      "accion = Leer el manga de One Piece\n"
     ]
    }
   ],
   "source": [
    "repeat\n",
    "{\n",
    "    message(\"Hoy es un dia de obligaciones!\")\n",
    "    accion <- sample(\n",
    "        c(\n",
    "            \"Aprender R\",\n",
    "            \"Estudiar CM-274\",\n",
    "            \"Leer el manga de One Piece\",\n",
    "            \"Salir con Jessica\"\n",
    "        ),\n",
    "        1\n",
    "    )\n",
    "    if(accion == \"Aprender R\")\n",
    "    {\n",
    "        message(\" Pasar a la siguiente iteracion por favor\")\n",
    "        next\n",
    "    }\n",
    "    message(\"accion = \", accion)\n",
    "    if(accion == \"Leer el manga de One Piece\") break\n",
    "}"
   ]
  },
  {
   "cell_type": "markdown",
   "metadata": {
    "deletable": true,
    "editable": true
   },
   "source": [
    "### Bucle while\n",
    "\n",
    "Los bucles `while` es el bucle `repeat` pero  hacia atrás. En lugar de ejecutar algún código y luego comprobar si el bucle debe terminar, verifica  primero el código  y luego (tal vez) se  ejecuta. Dado que la comprobación ocurre al principio, es posible que el contenido del bucle nunca se ejecute (a diferencia del bucle  `repeat`). El ejemplo siguiente se comporta de forma similar al ejemplo anterior con `repeat`:"
   ]
  },
  {
   "cell_type": "code",
   "execution_count": 45,
   "metadata": {
    "collapsed": false,
    "deletable": true,
    "editable": true
   },
   "outputs": [
    {
     "name": "stderr",
     "output_type": "stream",
     "text": [
      "Hoy es un buen dia\n",
      "accion = Estudiar CM-274\n",
      "Hoy es un buen dia\n",
      "accion = Aprender R\n",
      "Hoy es un buen dia\n",
      "accion = Salir con Jessica\n"
     ]
    }
   ],
   "source": [
    "accion <- sample(\n",
    "    c(\n",
    "        \"Aprender R\",\n",
    "        \"Estudiar CM-274\",\n",
    "        \"Leer el manga de One Piece\",\n",
    "        \"Salir con Jessica\"\n",
    "    ),\n",
    "    1\n",
    ")\n",
    "\n",
    "while(accion != \"Salir con Jessica\"){\n",
    "    \n",
    "    message(\"Hoy es un buen dia\")\n",
    "     accion <- sample(\n",
    "        c(\n",
    "            \"Aprender R\",\n",
    "            \"Estudiar CM-274\",\n",
    "            \"Leer el manga de One Piece\",\n",
    "            \"Salir con Jessica\"\n",
    "        ),\n",
    "        1\n",
    "    )\n",
    "    message(\"accion = \", accion)\n",
    "}"
   ]
  },
  {
   "cell_type": "code",
   "execution_count": 46,
   "metadata": {
    "collapsed": false,
    "deletable": true,
    "editable": true
   },
   "outputs": [
    {
     "name": "stdout",
     "output_type": "stream",
     "text": [
      "[1] 2\n",
      "[1] 4\n",
      "[1] 6\n",
      "[1] 8\n",
      "[1] 10\n",
      "[1] 12\n",
      "[1] 14\n"
     ]
    }
   ],
   "source": [
    "# Un ejemplo numerico\n",
    "\n",
    "i <- 0\n",
    "while (i < 14){\n",
    "  i <- i + 2\n",
    "  print(i)\n",
    "}"
   ]
  },
  {
   "cell_type": "code",
   "execution_count": 47,
   "metadata": {
    "collapsed": false,
    "deletable": true,
    "editable": true
   },
   "outputs": [
    {
     "name": "stdout",
     "output_type": "stream",
     "text": [
      "[1] \"n =  26 , x =  11.05\"\n"
     ]
    }
   ],
   "source": [
    "# Un camino aleatorio con While\n",
    "\n",
    "x=0\n",
    "n=0\n",
    "set.seed(333)\n",
    "while (x <= 10) {\n",
    "  n=n+1\n",
    "  x=x+rnorm(1,mean=.5,sd=1)\n",
    "  }\n",
    "\n",
    "print(paste (\"n = \", n, \", x = \",round(x,2) )) "
   ]
  },
  {
   "cell_type": "markdown",
   "metadata": {
    "deletable": true,
    "editable": true
   },
   "source": [
    "### Bucle for \n",
    "\n",
    "El tercer tipo de bucle se utiliza cuando se sabe exactamente cuántas veces desea que el código se repita. El bucle `for` acepta una variable de iteración y un vector.  La sintaxis  para el bucle `for` es \n",
    "\n",
    "```\n",
    "for (nombre in valores ) expresion\n",
    "```\n",
    "\n",
    "El bucle `for`, iteraciona a través de los componentes `nombre` de `valores` uno a la vez. `nombre` toma el valor de cada elemento sucesivo de `valores`, hasta que  se complete sus componentes. "
   ]
  },
  {
   "cell_type": "code",
   "execution_count": 48,
   "metadata": {
    "collapsed": false,
    "deletable": true,
    "editable": true
   },
   "outputs": [
    {
     "name": "stderr",
     "output_type": "stream",
     "text": [
      "i = 1\n",
      "i = 2\n",
      "i = 3\n",
      "i = 4\n",
      "i = 5\n"
     ]
    }
   ],
   "source": [
    "for(i in 1:5) message(\"i = \", i)"
   ]
  },
  {
   "cell_type": "code",
   "execution_count": 49,
   "metadata": {
    "collapsed": false,
    "deletable": true,
    "editable": true
   },
   "outputs": [
    {
     "name": "stdout",
     "output_type": "stream",
     "text": [
      "[1] \"Python\"\n",
      "[1] \"JS\"\n",
      "[1] \"C\"\n",
      "[1] \"C++\"\n",
      "[1] \"R\"\n",
      "[1] \"Bash\"\n"
     ]
    }
   ],
   "source": [
    "lenguajes <- c(\"Python\", \"JS\", \"C\", \"C++\", \"R\", \"Bash\")\n",
    "for(l in lenguajes){\n",
    "  print(l)\n",
    "}"
   ]
  },
  {
   "cell_type": "markdown",
   "metadata": {
    "deletable": true,
    "editable": true
   },
   "source": [
    "Si deseamos ejecutar varias expresiones, como con otros bucles, estas expresiones deben estar rodeadas de llaves:"
   ]
  },
  {
   "cell_type": "code",
   "execution_count": 50,
   "metadata": {
    "collapsed": false,
    "deletable": true,
    "editable": true
   },
   "outputs": [
    {
     "name": "stderr",
     "output_type": "stream",
     "text": [
      "j = 1\n",
      "j = 8\n",
      "j = 27\n",
      "j = 64\n",
      "j = 125\n"
     ]
    }
   ],
   "source": [
    "for(i in 1:5)\n",
    "{\n",
    "    j <- i ^ 3\n",
    "    message(\"j = \", j)\n",
    "}"
   ]
  },
  {
   "cell_type": "markdown",
   "metadata": {
    "deletable": true,
    "editable": true
   },
   "source": [
    "Los  bucles `for ` son flexibles en el sentido de que no se limitan a números enteros. Podemos pasar vectores de caracteres, vectores lógicos o listas:"
   ]
  },
  {
   "cell_type": "code",
   "execution_count": 52,
   "metadata": {
    "collapsed": false,
    "deletable": true,
    "editable": true
   },
   "outputs": [
    {
     "name": "stderr",
     "output_type": "stream",
     "text": [
      "La declaracion es TRUE\n",
      "La declaracion es FALSE\n",
      "La declaracion es NA\n"
     ]
    }
   ],
   "source": [
    "for(yn in c(TRUE, FALSE, NA))\n",
    "{\n",
    "    message(\"La declaracion es \"  , yn)\n",
    "}"
   ]
  },
  {
   "cell_type": "code",
   "execution_count": 53,
   "metadata": {
    "collapsed": false,
    "deletable": true,
    "editable": true
   },
   "outputs": [
    {
     "name": "stdout",
     "output_type": "stream",
     "text": [
      "[1] 3.141593\n",
      "[1] \"A\" \"B\" \"C\" \"D\" \"E\"\n",
      " [1] 52 20 65 73 20 73 75 70 65 72 66 61 63 69 6c 2e 2e 2e\n",
      "[[1]]\n",
      "[1] TRUE\n",
      "\n"
     ]
    }
   ],
   "source": [
    "# Otro ejemplo\n",
    "\n",
    "l <- list(\n",
    "    pi,\n",
    "    LETTERS[1:5],\n",
    "    charToRaw(\"R es superfacil...\"),\n",
    "    list(\n",
    "        TRUE\n",
    "    )\n",
    ")\n",
    "for(i in l)\n",
    "{\n",
    "    print(i)\n",
    "}"
   ]
  },
  {
   "cell_type": "code",
   "execution_count": 54,
   "metadata": {
    "collapsed": false,
    "deletable": true,
    "editable": true
   },
   "outputs": [
    {
     "data": {
      "text/plain": [
       "   user  system elapsed \n",
       "  1.283   0.000   1.284 "
      ]
     },
     "metadata": {},
     "output_type": "display_data"
    },
    {
     "data": {
      "text/plain": [
       "   user  system elapsed \n",
       "  0.105   0.004   0.109 "
      ]
     },
     "metadata": {},
     "output_type": "display_data"
    }
   ],
   "source": [
    "# Comparando la velocidad de un bucle for con una version vectorizada\n",
    "\n",
    "n = 1000000\n",
    "x=0\n",
    "system.time(for (i in 1:n) x = sin(i/n))\n",
    "\n",
    "i = 1:n # vectorizado\n",
    "system.time(sin(i/n))"
   ]
  },
  {
   "cell_type": "markdown",
   "metadata": {
    "deletable": true,
    "editable": true
   },
   "source": [
    "Dado que los bucles `for` funcionan en cada elemento de un vector, proporcionan una especie de *vectorización simulada*. De hecho, las operaciones vectorizadas en R generalmente usan algún tipo de bucle `for` en código C de manera interna. Pero ten en cuenta: los bucles de R casi siempre se ejecutan mucho más lento que sus equivalentes vectorizados, a menudo por un orden de magnitud o dos. Esto significa que debes intentar utilizar las capacidades de vectorización siempre que sea posible."
   ]
  },
  {
   "cell_type": "markdown",
   "metadata": {
    "deletable": true,
    "editable": true
   },
   "source": [
    "### Ejemplos\n",
    "\n",
    "1 . Escribamos el camino aleatorio anterior usando `repeat`:"
   ]
  },
  {
   "cell_type": "code",
   "execution_count": 56,
   "metadata": {
    "collapsed": false,
    "deletable": true,
    "editable": true
   },
   "outputs": [
    {
     "name": "stdout",
     "output_type": "stream",
     "text": [
      "[1] \"n =  19 , x =  10.55\"\n"
     ]
    }
   ],
   "source": [
    "x=0\n",
    "n=0\n",
    "set.seed(333)\n",
    "repeat {\n",
    "  n=n+1\n",
    "  dx=rnorm(1,mean=0.5,sd=1)\n",
    "  if (dx < -1) next # Rechazamos pasos negativos\n",
    "  x=x+dx\n",
    "  if (x > 10) break\n",
    "  }\n",
    "print(paste (\"n = \", n, \", x = \",round(x,2) ))"
   ]
  },
  {
   "cell_type": "markdown",
   "metadata": {
    "deletable": true,
    "editable": true
   },
   "source": [
    "2 . Escribe un ejemplo de un camino aleatorio 2-D encerrado en un dominio circular."
   ]
  },
  {
   "cell_type": "code",
   "execution_count": 57,
   "metadata": {
    "collapsed": false,
    "deletable": true,
    "editable": true
   },
   "outputs": [
    {
     "data": {
      "image/png": "[encoded data removed]",
      "text/plain": [
       "plot without title"
      ]
     },
     "metadata": {},
     "output_type": "display_data"
    }
   ],
   "source": [
    "Rmax = 10\n",
    "N = 200\n",
    "coordenadas = matrix(nrow=N+1,ncol=2)\n",
    "coordenadas[1,1] = coordenadas[1,2] = 0\n",
    "dosPi = 2*pi\n",
    "for (i in 2:(N+1)) {\n",
    "    Rprueba = 1.1*Rmax\n",
    "    while (Rprueba > Rmax) {\n",
    "        xo = coordenadas[i-1,1]\n",
    "        yo = coordenadas[i-1,2]\n",
    "        theta = runif(1,-dosPi,dosPi)\n",
    "        pasox = cos(theta)\n",
    "        pasoy = sin(theta)\n",
    "        x1 = xo + pasox\n",
    "        y1 = yo + pasoy\n",
    "        R = sqrt(x1^2 + y1^2) \n",
    "        if (R < Rmax) Rprueba = R\n",
    "    }\n",
    "coordenadas[i,1] = coordenadas[i-1,1] + pasox\n",
    "coordenadas[i,2] = coordenadas[i-1,2] + pasoy\n",
    "}\n",
    "\n",
    "plot.new()\n",
    "par(mar=c(0,0,0,0)) \n",
    "plot.window(c(-Rmax,Rmax), c(-Rmax,Rmax), asp=1,bty=\"n\")\n",
    "polygon(Rmax*cos(2*pi*(0:50/50)), Rmax*sin(2*pi*(0:50/50)))\n",
    "lines(coordenadas[,1],coordenadas[,2])"
   ]
  },
  {
   "cell_type": "markdown",
   "metadata": {
    "deletable": true,
    "editable": true
   },
   "source": [
    "3 . Ejemplo de como resolver  `f(x) = 0` usando el método de la bisección:"
   ]
  },
  {
   "cell_type": "code",
   "execution_count": 58,
   "metadata": {
    "collapsed": false,
    "deletable": true,
    "editable": true
   },
   "outputs": [
    {
     "name": "stdout",
     "output_type": "stream",
     "text": [
      "[1]    0.000  -17.750 1876.316\n",
      "[1]   0.0000 -17.7500 469.4079\n",
      "[1]   0.0000 -17.7500 117.5164\n",
      "[1]   0.00000 -17.75000  29.46135\n",
      "[1]  3.125000 -7.819901 17.172081\n",
      "[1]  3.125000 -7.819901  6.754986\n",
      "[1]  3.906250 -2.285619  3.530081\n",
      "[1]  3.906250 -2.285619  1.650599\n",
      "[1]  4.1015625 -0.7113133  0.8348365\n",
      "[1]  4.1015625 -0.7113133  0.4102657\n",
      "[1]  4.1503906 -0.3058160  0.2057289\n",
      "[1]  4.1748047 -0.1012793  0.1030135\n",
      "[1]  4.17480469 -0.10127926  0.05139497\n",
      "[1]  4.1809082 -0.0499588  0.0257068\n",
      "[1]  4.18395996 -0.02427063  0.01285573\n",
      "[1]  4.185485840 -0.011419556  0.006428445\n",
      "[1]  4.186248779 -0.004992275  0.003214368\n",
      "[1]  4.186630249 -0.001778197  0.001607221\n",
      "[1]  4.1868209839 -0.0001710497  0.0008036194\n",
      "[1]  4.1868209839 -0.0001710497  0.0004018029\n",
      "[1]  4.1868209839 -0.0001710497  0.0002008997\n"
     ]
    }
   ],
   "source": [
    "f <- function(y, a, n) {\n",
    "        a^2 + y^2 + 2*a*y/(n-1) - (n-2)\n",
    "    }\n",
    "\n",
    "    a <- 0.5\n",
    "    n <- 20\n",
    "    b0 <- 0\n",
    "    b1 <- 5*n\n",
    "\n",
    "    #resolviendo por el metodo de la biseccion\n",
    "\n",
    "    it <- 0\n",
    "    eps <- .Machine$double.eps^0.25\n",
    "    r <- seq(b0, b1, length=3)\n",
    "    y <- c(f(r[1], a, n), f(r[2], a, n), f(r[3], a, n))\n",
    "    if (y[1] * y[3] > 0)\n",
    "        stop(\"f no tiene signos opuestos en los puntos finales\")\n",
    "\n",
    "    while(it < 1000 && abs(y[2]) > eps) {\n",
    "        it <- it + 1\n",
    "        if (y[1]*y[2] < 0) {\n",
    "            r[3] <- r[2]\n",
    "            y[3] <- y[2]\n",
    "        } else {\n",
    "            r[1] <- r[2]\n",
    "            y[1] <- y[2]\n",
    "        }\n",
    "        r[2] <- (r[1] + r[3]) / 2\n",
    "        y[2] <- f(r[2], a=a, n=n)\n",
    "        print(c(r[1], y[1], y[3]-y[2]))\n",
    "    }"
   ]
  },
  {
   "cell_type": "markdown",
   "metadata": {
    "deletable": true,
    "editable": true
   },
   "source": [
    "4 .`Profiling` significar  encontrar donde un  programa que acabamos de escribir gasta la mayor parte de  tiempo, para repensar, reescribir o reescribir en C aquellas partes que consumen mucho tiempo. Es muy útil cuando R se utiliza para prototipos (es decir, para probar algoritmos, para ver si realmente funcionan, antes de usarlos en aplicaciones reales).\n",
    "\n",
    "El `system.time` le indica cuánto tiempo gastamos dentro de un comando."
   ]
  },
  {
   "cell_type": "code",
   "execution_count": 60,
   "metadata": {
    "collapsed": false,
    "deletable": true,
    "editable": true
   },
   "outputs": [
    {
     "data": {
      "image/png": "[encoded data removed]",
      "text/plain": [
       "Plot with title “Tiempo computacional para el producto matricial”"
      ]
     },
     "metadata": {},
     "output_type": "display_data"
    }
   ],
   "source": [
    "varias.veces <- function (n, f, ...) {\n",
    "    for (i in 1:n) {\n",
    "        f(...)\n",
    "  }\n",
    "}\n",
    "\n",
    "matriz.multiplicacion <- function (s) {\n",
    "    A <- matrix(1:(s*s), nr=s, nc=s) \n",
    "    B <- matrix(1:(s*s), nr=s, nc=s) \n",
    "    C <- A %*% B\n",
    "}\n",
    "\n",
    "v <- NULL\n",
    "for (i in 2:10) {\n",
    "    v <- append(\n",
    "    v, \n",
    "    system.time( \n",
    "      several.times( \n",
    "        10000, \n",
    "        matriz.multiplicacion, \n",
    "        i \n",
    "      )\n",
    "    ) [1]\n",
    "  )\n",
    "}\n",
    "plot(v, type = 'b', pch = 15,  main = \"Tiempo computacional para el producto matricial\")"
   ]
  },
  {
   "cell_type": "markdown",
   "metadata": {
    "deletable": true,
    "editable": true
   },
   "source": [
    "5 . Ejemplo de utilización del método de aceptado-rechazado. [acceptance-Rejection Method](http://www.columbia.edu/~ks20/4703-Sigman/4703-07-Notes-ARM.pdf) en R."
   ]
  },
  {
   "cell_type": "code",
   "execution_count": 61,
   "metadata": {
    "collapsed": false,
    "deletable": true,
    "editable": true
   },
   "outputs": [
    {
     "data": {
      "text/html": [
       "6065"
      ],
      "text/latex": [
       "6065"
      ],
      "text/markdown": [
       "6065"
      ],
      "text/plain": [
       "[1] 6065"
      ]
     },
     "metadata": {},
     "output_type": "display_data"
    },
    {
     "data": {
      "text/html": [
       "<table>\n",
       "<thead><tr><th></th><th scope=col>10%</th><th scope=col>20%</th><th scope=col>30%</th><th scope=col>40%</th><th scope=col>50%</th><th scope=col>60%</th><th scope=col>70%</th><th scope=col>80%</th><th scope=col>90%</th></tr></thead>\n",
       "<tbody>\n",
       "\t<tr><th scope=row>Qhat</th><td>0.198</td><td>0.305</td><td>0.382</td><td>0.444</td><td>0.500</td><td>0.575</td><td>0.653</td><td>0.726</td><td>0.813</td></tr>\n",
       "\t<tr><th scope=row>Q</th><td>0.196</td><td>0.287</td><td>0.363</td><td>0.433</td><td>0.500</td><td>0.567</td><td>0.637</td><td>0.713</td><td>0.804</td></tr>\n",
       "\t<tr><th scope=row>se</th><td>0.010</td><td>0.010</td><td>0.010</td><td>0.011</td><td>0.011</td><td>0.011</td><td>0.010</td><td>0.010</td><td>0.010</td></tr>\n",
       "</tbody>\n",
       "</table>\n"
      ],
      "text/latex": [
       "\\begin{tabular}{r|lllllllll}\n",
       "  & 10\\% & 20\\% & 30\\% & 40\\% & 50\\% & 60\\% & 70\\% & 80\\% & 90\\%\\\\\n",
       "\\hline\n",
       "\tQhat & 0.198 & 0.305 & 0.382 & 0.444 & 0.500 & 0.575 & 0.653 & 0.726 & 0.813\\\\\n",
       "\tQ & 0.196 & 0.287 & 0.363 & 0.433 & 0.500 & 0.567 & 0.637 & 0.713 & 0.804\\\\\n",
       "\tse & 0.010 & 0.010 & 0.010 & 0.011 & 0.011 & 0.011 & 0.010 & 0.010 & 0.010\\\\\n",
       "\\end{tabular}\n"
      ],
      "text/markdown": [
       "\n",
       "| <!--/--> | 10% | 20% | 30% | 40% | 50% | 60% | 70% | 80% | 90% | \n",
       "|---|---|---|\n",
       "| Qhat | 0.198 | 0.305 | 0.382 | 0.444 | 0.500 | 0.575 | 0.653 | 0.726 | 0.813 | \n",
       "| Q | 0.196 | 0.287 | 0.363 | 0.433 | 0.500 | 0.567 | 0.637 | 0.713 | 0.804 | \n",
       "| se | 0.010 | 0.010 | 0.010 | 0.011 | 0.011 | 0.011 | 0.010 | 0.010 | 0.010 | \n",
       "\n",
       "\n"
      ],
      "text/plain": [
       "     10%   20%   30%   40%   50%   60%   70%   80%   90%  \n",
       "Qhat 0.198 0.305 0.382 0.444 0.500 0.575 0.653 0.726 0.813\n",
       "Q    0.196 0.287 0.363 0.433 0.500 0.567 0.637 0.713 0.804\n",
       "se   0.010 0.010 0.010 0.011 0.011 0.011 0.010 0.010 0.010"
      ]
     },
     "metadata": {},
     "output_type": "display_data"
    }
   ],
   "source": [
    "n <- 1000\n",
    "k <- 0      #contador para accepted(aceptado)\n",
    "j <- 0      #iteraciones\n",
    "y <- numeric(n)\n",
    "\n",
    "while (k < n) {\n",
    "    u <- runif(1)\n",
    "    j <- j + 1\n",
    "    x <- runif(1)  \n",
    "    if (x * (1-x) > u) {# Aceptamos  x\n",
    "        k <- k + 1\n",
    "        y[k] <- x\n",
    "        }\n",
    "    }\n",
    "j\n",
    "\n",
    "#comparamos  percentiles\n",
    "\n",
    "p <- seq(.1, .9, .1)\n",
    "Qhat <- quantile(y, p)   # cuantiles de muestra \n",
    "Q <- qbeta(p, 2, 2)      # cuantiles teoricos\n",
    "se <- sqrt(p * (1-p) / (n * dbeta(Q, 2, 2)^2)) \n",
    "round(rbind(Qhat, Q, se), 3)"
   ]
  },
  {
   "cell_type": "markdown",
   "metadata": {
    "collapsed": true,
    "deletable": true,
    "editable": true
   },
   "source": [
    "6 . Muestra una simulación de decaimiento radioactivo"
   ]
  },
  {
   "cell_type": "code",
   "execution_count": 63,
   "metadata": {
    "collapsed": false
   },
   "outputs": [
    {
     "data": {
      "image/png": "[encoded data removed]",
      "text/plain": [
       "plot without title"
      ]
     },
     "metadata": {},
     "output_type": "display_data"
    }
   ],
   "source": [
    "# Condiciones iniciales y definicion de variables \n",
    "\n",
    "tmin = 0; tmax = 100; dt = 1\n",
    "n = (tmax - tmin)/dt + 1 \n",
    "tiempo = seq(tmin, tmax, by = dt)\n",
    "k = .03 #  Tasa constante de decaimiento\n",
    "N0 = 100 # Numero inicial de atomos\n",
    "N = N0 \n",
    "\n",
    "# Corremos el bucle\n",
    "\n",
    "for (i in 2:n) {\n",
    "  dN = -k*N[i-1]*dt\n",
    "  N[i] = N[i-1] + dN}\n",
    "\n",
    "# Mostramos un grafico\n",
    "\n",
    "plot(tiempo, N, type = \"l\")"
   ]
  },
  {
   "cell_type": "code",
   "execution_count": null,
   "metadata": {
    "collapsed": true
   },
   "outputs": [],
   "source": []
  }
 ],
 "metadata": {
  "kernelspec": {
   "display_name": "R",
   "language": "R",
   "name": "ir"
  },
  "language_info": {
   "codemirror_mode": "r",
   "file_extension": ".r",
   "mimetype": "text/x-r-source",
   "name": "R",
   "pygments_lexer": "r",
   "version": "3.3.2"
  }
 },
 "nbformat": 4,
 "nbformat_minor": 1
}
