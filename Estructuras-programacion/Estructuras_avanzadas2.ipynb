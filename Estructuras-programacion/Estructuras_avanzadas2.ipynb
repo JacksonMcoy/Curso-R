{
 "cells": [
  {
   "cell_type": "markdown",
   "metadata": {
    "deletable": true,
    "editable": true
   },
   "source": [
    "### Manipulando matrices y data frames\n",
    "\n",
    "Todos los funcionales mencionados funcionan con estructuras de entrada de una dimensión. Los siguientes funcionales  proporcionan herramientas útiles para trabajar con estructuras de datos de dimensiones superiores. La función `apply()` es una variante de `sapply()` que funciona con matrices. "
   ]
  },
  {
   "cell_type": "code",
   "execution_count": 1,
   "metadata": {
    "collapsed": true,
    "deletable": true,
    "editable": true
   },
   "outputs": [],
   "source": [
    "help(apply)"
   ]
  },
  {
   "cell_type": "markdown",
   "metadata": {
    "deletable": true,
    "editable": true
   },
   "source": [
    "#### Función apply\n",
    "\n",
    "La función `apply` aplica una función sobre un margen o dimensión dado de una matriz dada. Tiene `4` argumentos dados:\n",
    "\n",
    "* `X`, la matriz de  resumen del problema.\n",
    "\n",
    "* `MARGIN`, un vector entero de las dimensiones  `1` = filas, `2` = columnas, etc.\n",
    " \n",
    "* `FUN`, una función de resumen.\n",
    " \n",
    "* `...` otros  argumentos pasados a  `FUN`.\n"
   ]
  },
  {
   "cell_type": "code",
   "execution_count": 2,
   "metadata": {
    "collapsed": false,
    "deletable": true,
    "editable": true
   },
   "outputs": [
    {
     "data": {
      "text/html": [
       "<ol class=list-inline>\n",
       "\t<li>8.5</li>\n",
       "\t<li>9.5</li>\n",
       "\t<li>10.5</li>\n",
       "\t<li>11.5</li>\n",
       "\t<li>12.5</li>\n",
       "</ol>\n"
      ],
      "text/latex": [
       "\\begin{enumerate*}\n",
       "\\item 8.5\n",
       "\\item 9.5\n",
       "\\item 10.5\n",
       "\\item 11.5\n",
       "\\item 12.5\n",
       "\\end{enumerate*}\n"
      ],
      "text/markdown": [
       "1. 8.5\n",
       "2. 9.5\n",
       "3. 10.5\n",
       "4. 11.5\n",
       "5. 12.5\n",
       "\n",
       "\n"
      ],
      "text/plain": [
       "[1]  8.5  9.5 10.5 11.5 12.5"
      ]
     },
     "metadata": {},
     "output_type": "display_data"
    }
   ],
   "source": [
    "# Ejemplo\n",
    "\n",
    "a <- matrix(1:20, nrow = 5)\n",
    "apply(a, 1, mean)"
   ]
  },
  {
   "cell_type": "code",
   "execution_count": 3,
   "metadata": {
    "collapsed": false,
    "deletable": true,
    "editable": true
   },
   "outputs": [
    {
     "data": {
      "text/html": [
       "<ol class=list-inline>\n",
       "\t<li>3</li>\n",
       "\t<li>8</li>\n",
       "\t<li>13</li>\n",
       "\t<li>18</li>\n",
       "</ol>\n"
      ],
      "text/latex": [
       "\\begin{enumerate*}\n",
       "\\item 3\n",
       "\\item 8\n",
       "\\item 13\n",
       "\\item 18\n",
       "\\end{enumerate*}\n"
      ],
      "text/markdown": [
       "1. 3\n",
       "2. 8\n",
       "3. 13\n",
       "4. 18\n",
       "\n",
       "\n"
      ],
      "text/plain": [
       "[1]  3  8 13 18"
      ]
     },
     "metadata": {},
     "output_type": "display_data"
    }
   ],
   "source": [
    "apply(a, 2, mean)"
   ]
  },
  {
   "cell_type": "markdown",
   "metadata": {
    "deletable": true,
    "editable": true
   },
   "source": [
    "Para crear una matriz que muestra el valor máximo y mínimo para cada columna, ejecutamos el siguiente código:"
   ]
  },
  {
   "cell_type": "code",
   "execution_count": 4,
   "metadata": {
    "collapsed": false,
    "deletable": true,
    "editable": true
   },
   "outputs": [
    {
     "data": {
      "text/html": [
       "<table>\n",
       "<tbody>\n",
       "\t<tr><th scope=row>min</th><td>1 </td><td>5 </td><td> 9</td><td>13</td></tr>\n",
       "\t<tr><th scope=row>max</th><td>4 </td><td>8 </td><td>12</td><td>16</td></tr>\n",
       "</tbody>\n",
       "</table>\n"
      ],
      "text/latex": [
       "\\begin{tabular}{r|llll}\n",
       "\tmin & 1  & 5  &  9 & 13\\\\\n",
       "\tmax & 4  & 8  & 12 & 16\\\\\n",
       "\\end{tabular}\n"
      ],
      "text/markdown": [
       "\n",
       "| min | 1  | 5  |  9 | 13 | \n",
       "| max | 4  | 8  | 12 | 16 | \n",
       "\n",
       "\n"
      ],
      "text/plain": [
       "    [,1] [,2] [,3] [,4]\n",
       "min 1    5     9   13  \n",
       "max 4    8    12   16  "
      ]
     },
     "metadata": {},
     "output_type": "display_data"
    }
   ],
   "source": [
    "mat1 <- matrix(1:16, nrow = 4)\n",
    "apply(mat1, 2, function(col) c(min = min(col), max = max(col)))"
   ]
  },
  {
   "cell_type": "markdown",
   "metadata": {
    "deletable": true,
    "editable": true
   },
   "source": [
    "Para crear una matriz que muestra el valor máximo y mínimo para cada fila, ejecutamos el siguiente código:"
   ]
  },
  {
   "cell_type": "code",
   "execution_count": 5,
   "metadata": {
    "collapsed": false,
    "deletable": true,
    "editable": true
   },
   "outputs": [
    {
     "data": {
      "text/html": [
       "<table>\n",
       "<tbody>\n",
       "\t<tr><th scope=row>min</th><td> 1</td><td> 2</td><td> 3</td><td> 4</td></tr>\n",
       "\t<tr><th scope=row>max</th><td>13</td><td>14</td><td>15</td><td>16</td></tr>\n",
       "</tbody>\n",
       "</table>\n"
      ],
      "text/latex": [
       "\\begin{tabular}{r|llll}\n",
       "\tmin &  1 &  2 &  3 &  4\\\\\n",
       "\tmax & 13 & 14 & 15 & 16\\\\\n",
       "\\end{tabular}\n"
      ],
      "text/markdown": [
       "\n",
       "| min |  1 |  2 |  3 |  4 | \n",
       "| max | 13 | 14 | 15 | 16 | \n",
       "\n",
       "\n"
      ],
      "text/plain": [
       "    [,1] [,2] [,3] [,4]\n",
       "min  1    2    3    4  \n",
       "max 13   14   15   16  "
      ]
     },
     "metadata": {},
     "output_type": "display_data"
    }
   ],
   "source": [
    "apply(mat1, 1, function(col) c(min = min(col), max = max(col)))"
   ]
  },
  {
   "cell_type": "markdown",
   "metadata": {
    "deletable": true,
    "editable": true
   },
   "source": [
    "Hay algunas advertencias al uso de `apply()`. No tiene un argumento simplificado, por lo que nunca puede estar completamente seguro de qué tipo de salida se obtendrá. Esto significa que `apply()` no es seguro para usar dentro de una función a menos que se compruebe cuidadosamente las entradas. `apply()` tampoco es idempotente en el sentido de que si la función de resumen es el operador  identidad, la salida no es siempre la misma que la entrada:"
   ]
  },
  {
   "cell_type": "code",
   "execution_count": 6,
   "metadata": {
    "collapsed": false,
    "deletable": true,
    "editable": true
   },
   "outputs": [
    {
     "data": {
      "text/html": [
       "FALSE"
      ],
      "text/latex": [
       "FALSE"
      ],
      "text/markdown": [
       "FALSE"
      ],
      "text/plain": [
       "[1] FALSE"
      ]
     },
     "metadata": {},
     "output_type": "display_data"
    }
   ],
   "source": [
    "a1 <- apply(a, 1, identity)\n",
    "identical(a, a1)"
   ]
  },
  {
   "cell_type": "code",
   "execution_count": 7,
   "metadata": {
    "collapsed": false,
    "deletable": true,
    "editable": true
   },
   "outputs": [
    {
     "data": {
      "text/html": [
       "TRUE"
      ],
      "text/latex": [
       "TRUE"
      ],
      "text/markdown": [
       "TRUE"
      ],
      "text/plain": [
       "[1] TRUE"
      ]
     },
     "metadata": {},
     "output_type": "display_data"
    }
   ],
   "source": [
    "identical(a, t(a1))"
   ]
  },
  {
   "cell_type": "code",
   "execution_count": 8,
   "metadata": {
    "collapsed": false,
    "deletable": true,
    "editable": true
   },
   "outputs": [
    {
     "data": {
      "text/html": [
       "TRUE"
      ],
      "text/latex": [
       "TRUE"
      ],
      "text/markdown": [
       "TRUE"
      ],
      "text/plain": [
       "[1] TRUE"
      ]
     },
     "metadata": {},
     "output_type": "display_data"
    }
   ],
   "source": [
    "a2 <- apply(a, 2, identity)\n",
    "identical(a, a2)"
   ]
  },
  {
   "cell_type": "markdown",
   "metadata": {
    "deletable": true,
    "editable": true
   },
   "source": [
    "La  función `outer()` es un poco diferente en que toma múltiples entradas de vector y crea como  salida una  matriz donde la función de entrada se ejecuta sobre cada combinación de las entradas:"
   ]
  },
  {
   "cell_type": "code",
   "execution_count": 9,
   "metadata": {
    "collapsed": true,
    "deletable": true,
    "editable": true
   },
   "outputs": [],
   "source": [
    "help(outer)"
   ]
  },
  {
   "cell_type": "code",
   "execution_count": 10,
   "metadata": {
    "collapsed": false,
    "deletable": true,
    "editable": true
   },
   "outputs": [
    {
     "data": {
      "text/html": [
       "<table>\n",
       "<tbody>\n",
       "\t<tr><td>1 </td><td>2 </td><td>3 </td><td> 4</td><td> 5</td><td> 6</td><td> 7</td><td> 8</td><td> 9</td><td>10</td></tr>\n",
       "\t<tr><td>2 </td><td>4 </td><td>6 </td><td> 8</td><td>10</td><td>12</td><td>14</td><td>16</td><td>18</td><td>20</td></tr>\n",
       "\t<tr><td>3 </td><td>6 </td><td>9 </td><td>12</td><td>15</td><td>18</td><td>21</td><td>24</td><td>27</td><td>30</td></tr>\n",
       "</tbody>\n",
       "</table>\n"
      ],
      "text/latex": [
       "\\begin{tabular}{llllllllll}\n",
       "\t 1  & 2  & 3  &  4 &  5 &  6 &  7 &  8 &  9 & 10\\\\\n",
       "\t 2  & 4  & 6  &  8 & 10 & 12 & 14 & 16 & 18 & 20\\\\\n",
       "\t 3  & 6  & 9  & 12 & 15 & 18 & 21 & 24 & 27 & 30\\\\\n",
       "\\end{tabular}\n"
      ],
      "text/markdown": [
       "\n",
       "| 1  | 2  | 3  |  4 |  5 |  6 |  7 |  8 |  9 | 10 | \n",
       "| 2  | 4  | 6  |  8 | 10 | 12 | 14 | 16 | 18 | 20 | \n",
       "| 3  | 6  | 9  | 12 | 15 | 18 | 21 | 24 | 27 | 30 | \n",
       "\n",
       "\n"
      ],
      "text/plain": [
       "     [,1] [,2] [,3] [,4] [,5] [,6] [,7] [,8] [,9] [,10]\n",
       "[1,] 1    2    3     4    5    6    7    8    9   10   \n",
       "[2,] 2    4    6     8   10   12   14   16   18   20   \n",
       "[3,] 3    6    9    12   15   18   21   24   27   30   "
      ]
     },
     "metadata": {},
     "output_type": "display_data"
    }
   ],
   "source": [
    "outer(1:3, 1:10, \"*\")"
   ]
  },
  {
   "cell_type": "code",
   "execution_count": 11,
   "metadata": {
    "collapsed": false,
    "deletable": true,
    "editable": true
   },
   "outputs": [
    {
     "data": {
      "text/html": [
       "<table>\n",
       "<thead><tr><th></th><th scope=col>1</th><th scope=col>2</th><th scope=col>3</th><th scope=col>4</th><th scope=col>5</th><th scope=col>6</th><th scope=col>7</th><th scope=col>8</th><th scope=col>9</th></tr></thead>\n",
       "<tbody>\n",
       "\t<tr><th scope=row>2</th><td>2        </td><td> 4       </td><td>  8      </td><td>  16     </td><td>   32    </td><td>    64   </td><td>    128  </td><td>     256 </td><td>      512</td></tr>\n",
       "\t<tr><th scope=row>3</th><td>3        </td><td> 9       </td><td> 27      </td><td>  81     </td><td>  243    </td><td>   729   </td><td>   2187  </td><td>    6561 </td><td>    19683</td></tr>\n",
       "\t<tr><th scope=row>4</th><td>4        </td><td>16       </td><td> 64      </td><td> 256     </td><td> 1024    </td><td>  4096   </td><td>  16384  </td><td>   65536 </td><td>   262144</td></tr>\n",
       "\t<tr><th scope=row>5</th><td>5        </td><td>25       </td><td>125      </td><td> 625     </td><td> 3125    </td><td> 15625   </td><td>  78125  </td><td>  390625 </td><td>  1953125</td></tr>\n",
       "\t<tr><th scope=row>6</th><td>6        </td><td>36       </td><td>216      </td><td>1296     </td><td> 7776    </td><td> 46656   </td><td> 279936  </td><td> 1679616 </td><td> 10077696</td></tr>\n",
       "\t<tr><th scope=row>7</th><td>7        </td><td>49       </td><td>343      </td><td>2401     </td><td>16807    </td><td>117649   </td><td> 823543  </td><td> 5764801 </td><td> 40353607</td></tr>\n",
       "\t<tr><th scope=row>8</th><td>8        </td><td>64       </td><td>512      </td><td>4096     </td><td>32768    </td><td>262144   </td><td>2097152  </td><td>16777216 </td><td>134217728</td></tr>\n",
       "</tbody>\n",
       "</table>\n"
      ],
      "text/latex": [
       "\\begin{tabular}{r|lllllllll}\n",
       "  & 1 & 2 & 3 & 4 & 5 & 6 & 7 & 8 & 9\\\\\n",
       "\\hline\n",
       "\t2 & 2         &  4        &   8       &   16      &    32     &     64    &     128   &      256  &       512\\\\\n",
       "\t3 & 3         &  9        &  27       &   81      &   243     &    729    &    2187   &     6561  &     19683\\\\\n",
       "\t4 & 4         & 16        &  64       &  256      &  1024     &   4096    &   16384   &    65536  &    262144\\\\\n",
       "\t5 & 5         & 25        & 125       &  625      &  3125     &  15625    &   78125   &   390625  &   1953125\\\\\n",
       "\t6 & 6         & 36        & 216       & 1296      &  7776     &  46656    &  279936   &  1679616  &  10077696\\\\\n",
       "\t7 & 7         & 49        & 343       & 2401      & 16807     & 117649    &  823543   &  5764801  &  40353607\\\\\n",
       "\t8 & 8         & 64        & 512       & 4096      & 32768     & 262144    & 2097152   & 16777216  & 134217728\\\\\n",
       "\\end{tabular}\n"
      ],
      "text/markdown": [
       "\n",
       "| <!--/--> | 1 | 2 | 3 | 4 | 5 | 6 | 7 | 8 | 9 | \n",
       "|---|---|---|---|---|---|---|\n",
       "| 2 | 2         |  4        |   8       |   16      |    32     |     64    |     128   |      256  |       512 | \n",
       "| 3 | 3         |  9        |  27       |   81      |   243     |    729    |    2187   |     6561  |     19683 | \n",
       "| 4 | 4         | 16        |  64       |  256      |  1024     |   4096    |   16384   |    65536  |    262144 | \n",
       "| 5 | 5         | 25        | 125       |  625      |  3125     |  15625    |   78125   |   390625  |   1953125 | \n",
       "| 6 | 6         | 36        | 216       | 1296      |  7776     |  46656    |  279936   |  1679616  |  10077696 | \n",
       "| 7 | 7         | 49        | 343       | 2401      | 16807     | 117649    |  823543   |  5764801  |  40353607 | \n",
       "| 8 | 8         | 64        | 512       | 4096      | 32768     | 262144    | 2097152   | 16777216  | 134217728 | \n",
       "\n",
       "\n"
      ],
      "text/plain": [
       "  1 2  3   4    5     6      7       8        9        \n",
       "2 2  4   8   16    32     64     128      256       512\n",
       "3 3  9  27   81   243    729    2187     6561     19683\n",
       "4 4 16  64  256  1024   4096   16384    65536    262144\n",
       "5 5 25 125  625  3125  15625   78125   390625   1953125\n",
       "6 6 36 216 1296  7776  46656  279936  1679616  10077696\n",
       "7 7 49 343 2401 16807 117649  823543  5764801  40353607\n",
       "8 8 64 512 4096 32768 262144 2097152 16777216 134217728"
      ]
     },
     "metadata": {},
     "output_type": "display_data"
    }
   ],
   "source": [
    "# Ejemplo\n",
    "\n",
    "x = 1:9; y = 2:8\n",
    "names(x)=x; names(y)=y\n",
    "outer(y,x,\"^\")"
   ]
  },
  {
   "cell_type": "markdown",
   "metadata": {
    "deletable": true,
    "editable": true
   },
   "source": [
    "R tiene una función  para aplicar valores diferentes a los datos en diferentes columnas o filas. Por ejemplo, si se desea restar `3`, `4`, `5`, `6` de cada valor de la primera, segunda, tercera y última columna,  se puede  hacer  con la función `sweep()`: "
   ]
  },
  {
   "cell_type": "code",
   "execution_count": 12,
   "metadata": {
    "collapsed": true,
    "deletable": true,
    "editable": true
   },
   "outputs": [],
   "source": [
    "help(sweep)"
   ]
  },
  {
   "cell_type": "code",
   "execution_count": 13,
   "metadata": {
    "collapsed": false,
    "deletable": true,
    "editable": true
   },
   "outputs": [
    {
     "data": {
      "text/html": [
       "<table>\n",
       "<tbody>\n",
       "\t<tr><td>-2</td><td>-2</td><td>-2</td><td>-2</td></tr>\n",
       "\t<tr><td> 2</td><td> 2</td><td> 2</td><td> 2</td></tr>\n",
       "\t<tr><td> 6</td><td> 6</td><td> 6</td><td> 6</td></tr>\n",
       "</tbody>\n",
       "</table>\n"
      ],
      "text/latex": [
       "\\begin{tabular}{llll}\n",
       "\t -2 & -2 & -2 & -2\\\\\n",
       "\t  2 &  2 &  2 &  2\\\\\n",
       "\t  6 &  6 &  6 &  6\\\\\n",
       "\\end{tabular}\n"
      ],
      "text/markdown": [
       "\n",
       "| -2 | -2 | -2 | -2 | \n",
       "|  2 |  2 |  2 |  2 | \n",
       "|  6 |  6 |  6 |  6 | \n",
       "\n",
       "\n"
      ],
      "text/plain": [
       "     [,1] [,2] [,3] [,4]\n",
       "[1,] -2   -2   -2   -2  \n",
       "[2,]  2    2    2    2  \n",
       "[3,]  6    6    6    6  "
      ]
     },
     "metadata": {},
     "output_type": "display_data"
    }
   ],
   "source": [
    "a3<-matrix(seq(1,12),ncol=4,nrow=3,byrow=TRUE)\n",
    "sweep(a3, 2, c(3,4,5,6), \"-\")\n"
   ]
  },
  {
   "cell_type": "code",
   "execution_count": 14,
   "metadata": {
    "collapsed": false,
    "deletable": true,
    "editable": true
   },
   "outputs": [],
   "source": [
    "# El siguiente ejemplo, escala las filas de una matriz de manera que todos los valores estén entre 0 y 1.\n",
    "\n",
    "a4 <- matrix(rnorm(20, 0, 10), nrow = 4)\n",
    "a5 <- sweep(a4, 1, apply(a4, 1, min), '-')\n",
    "a6 <- sweep(a5, 1, apply(a5, 1, max), '/')\n"
   ]
  },
  {
   "cell_type": "code",
   "execution_count": 15,
   "metadata": {
    "collapsed": false,
    "deletable": true,
    "editable": true
   },
   "outputs": [
    {
     "data": {
      "text/html": [
       "<table>\n",
       "<tbody>\n",
       "\t<tr><td> 2.210605</td><td> 0.000000</td><td> 3.82033 </td><td>14.007489</td><td> 1.990074</td></tr>\n",
       "\t<tr><td>18.452615</td><td>31.732753</td><td>24.68292 </td><td>12.291007</td><td> 0.000000</td></tr>\n",
       "\t<tr><td>13.588149</td><td> 2.530448</td><td> 0.00000 </td><td> 3.238313</td><td>10.281612</td></tr>\n",
       "\t<tr><td>21.873306</td><td> 0.000000</td><td>22.75179 </td><td>34.878810</td><td>26.425399</td></tr>\n",
       "</tbody>\n",
       "</table>\n"
      ],
      "text/latex": [
       "\\begin{tabular}{lllll}\n",
       "\t  2.210605 &  0.000000 &  3.82033  & 14.007489 &  1.990074\\\\\n",
       "\t 18.452615 & 31.732753 & 24.68292  & 12.291007 &  0.000000\\\\\n",
       "\t 13.588149 &  2.530448 &  0.00000  &  3.238313 & 10.281612\\\\\n",
       "\t 21.873306 &  0.000000 & 22.75179  & 34.878810 & 26.425399\\\\\n",
       "\\end{tabular}\n"
      ],
      "text/markdown": [
       "\n",
       "|  2.210605 |  0.000000 |  3.82033  | 14.007489 |  1.990074 | \n",
       "| 18.452615 | 31.732753 | 24.68292  | 12.291007 |  0.000000 | \n",
       "| 13.588149 |  2.530448 |  0.00000  |  3.238313 | 10.281612 | \n",
       "| 21.873306 |  0.000000 | 22.75179  | 34.878810 | 26.425399 | \n",
       "\n",
       "\n"
      ],
      "text/plain": [
       "     [,1]      [,2]      [,3]     [,4]      [,5]     \n",
       "[1,]  2.210605  0.000000  3.82033 14.007489  1.990074\n",
       "[2,] 18.452615 31.732753 24.68292 12.291007  0.000000\n",
       "[3,] 13.588149  2.530448  0.00000  3.238313 10.281612\n",
       "[4,] 21.873306  0.000000 22.75179 34.878810 26.425399"
      ]
     },
     "metadata": {},
     "output_type": "display_data"
    }
   ],
   "source": [
    "a5"
   ]
  },
  {
   "cell_type": "code",
   "execution_count": 16,
   "metadata": {
    "collapsed": false,
    "deletable": true,
    "editable": true
   },
   "outputs": [
    {
     "data": {
      "text/html": [
       "<table>\n",
       "<tbody>\n",
       "\t<tr><td>0.1578160</td><td>0.0000000</td><td>0.2727348</td><td>1.0000000</td><td>0.1420721</td></tr>\n",
       "\t<tr><td>0.5815006</td><td>1.0000000</td><td>0.7778375</td><td>0.3873287</td><td>0.0000000</td></tr>\n",
       "\t<tr><td>1.0000000</td><td>0.1862246</td><td>0.0000000</td><td>0.2383189</td><td>0.7566602</td></tr>\n",
       "\t<tr><td>0.6271231</td><td>0.0000000</td><td>0.6523098</td><td>1.0000000</td><td>0.7576348</td></tr>\n",
       "</tbody>\n",
       "</table>\n"
      ],
      "text/latex": [
       "\\begin{tabular}{lllll}\n",
       "\t 0.1578160 & 0.0000000 & 0.2727348 & 1.0000000 & 0.1420721\\\\\n",
       "\t 0.5815006 & 1.0000000 & 0.7778375 & 0.3873287 & 0.0000000\\\\\n",
       "\t 1.0000000 & 0.1862246 & 0.0000000 & 0.2383189 & 0.7566602\\\\\n",
       "\t 0.6271231 & 0.0000000 & 0.6523098 & 1.0000000 & 0.7576348\\\\\n",
       "\\end{tabular}\n"
      ],
      "text/markdown": [
       "\n",
       "| 0.1578160 | 0.0000000 | 0.2727348 | 1.0000000 | 0.1420721 | \n",
       "| 0.5815006 | 1.0000000 | 0.7778375 | 0.3873287 | 0.0000000 | \n",
       "| 1.0000000 | 0.1862246 | 0.0000000 | 0.2383189 | 0.7566602 | \n",
       "| 0.6271231 | 0.0000000 | 0.6523098 | 1.0000000 | 0.7576348 | \n",
       "\n",
       "\n"
      ],
      "text/plain": [
       "     [,1]      [,2]      [,3]      [,4]      [,5]     \n",
       "[1,] 0.1578160 0.0000000 0.2727348 1.0000000 0.1420721\n",
       "[2,] 0.5815006 1.0000000 0.7778375 0.3873287 0.0000000\n",
       "[3,] 1.0000000 0.1862246 0.0000000 0.2383189 0.7566602\n",
       "[4,] 0.6271231 0.0000000 0.6523098 1.0000000 0.7576348"
      ]
     },
     "metadata": {},
     "output_type": "display_data"
    }
   ],
   "source": [
    "a6"
   ]
  },
  {
   "cell_type": "markdown",
   "metadata": {
    "deletable": true,
    "editable": true
   },
   "source": [
    "En resumen, la función `sweep()` devuelve una matriz obtenida de una matriz de entrada barriendo un resumen  estadístico."
   ]
  },
  {
   "cell_type": "code",
   "execution_count": 17,
   "metadata": {
    "collapsed": false,
    "deletable": true,
    "editable": true
   },
   "outputs": [
    {
     "data": {
      "text/html": [
       "<table>\n",
       "<thead><tr><th></th><th scope=col>Africa</th><th scope=col>America</th><th scope=col>Asia</th><th scope=col>Australia</th><th scope=col>Europa</th></tr></thead>\n",
       "<tbody>\n",
       "\t<tr><th scope=row>A</th><td>0.04</td><td>0.12</td><td>0.10</td><td>0.04</td><td>0.08</td></tr>\n",
       "\t<tr><th scope=row>B</th><td>0.02</td><td>0.16</td><td>0.04</td><td>0.03</td><td>0.08</td></tr>\n",
       "\t<tr><th scope=row>C</th><td>0.04</td><td>0.12</td><td>0.06</td><td>0.03</td><td>0.04</td></tr>\n",
       "</tbody>\n",
       "</table>\n"
      ],
      "text/latex": [
       "\\begin{tabular}{r|lllll}\n",
       "  & Africa & America & Asia & Australia & Europa\\\\\n",
       "\\hline\n",
       "\tA & 0.04 & 0.12 & 0.10 & 0.04 & 0.08\\\\\n",
       "\tB & 0.02 & 0.16 & 0.04 & 0.03 & 0.08\\\\\n",
       "\tC & 0.04 & 0.12 & 0.06 & 0.03 & 0.04\\\\\n",
       "\\end{tabular}\n"
      ],
      "text/markdown": [
       "\n",
       "| <!--/--> | Africa | America | Asia | Australia | Europa | \n",
       "|---|---|---|\n",
       "| A | 0.04 | 0.12 | 0.10 | 0.04 | 0.08 | \n",
       "| B | 0.02 | 0.16 | 0.04 | 0.03 | 0.08 | \n",
       "| C | 0.04 | 0.12 | 0.06 | 0.03 | 0.04 | \n",
       "\n",
       "\n"
      ],
      "text/plain": [
       "  Africa America Asia Australia Europa\n",
       "A 0.04   0.12    0.10 0.04      0.08  \n",
       "B 0.02   0.16    0.04 0.03      0.08  \n",
       "C 0.04   0.12    0.06 0.03      0.04  "
      ]
     },
     "metadata": {},
     "output_type": "display_data"
    }
   ],
   "source": [
    "Producto <- c(\"A\", \"B\", \"C\", \"Total\")\n",
    "Continente <- c(\"Africa\", \"America\", \"Asia\", \"Australia\", \"Europa\")\n",
    "valores <- c(0.4, 0.2, 0.4, 0.1, 0.3, 0.4, 0.3, 0.4, 0.5, 0.2, \n",
    "            0.3, 0.2, 0.4, 0.3, 0.3, 0.1, 0.4, 0.4, 0.2, 0.2)\n",
    "\n",
    "mat2 <- matrix(valores, ncol=5, dimnames=list(Producto, Continente))\n",
    "\n",
    "swept.mat2 <- sweep(mat2[1:3,], 2, mat2[4,], \"*\")\n",
    "swept.mat2"
   ]
  },
  {
   "cell_type": "code",
   "execution_count": 18,
   "metadata": {
    "collapsed": false,
    "deletable": true,
    "editable": true
   },
   "outputs": [
    {
     "data": {
      "image/png": "[encoded data removed]",
      "text/plain": [
       "Plot with title “Division por producto y continente”"
      ]
     },
     "metadata": {},
     "output_type": "display_data"
    }
   ],
   "source": [
    "barplot(swept.mat2*100, legend=dimnames(swept.mat2)[[\"Producto\"]],\n",
    "       main=\"Division por producto y continente\",\n",
    "       ylab=\"Division de ingreso %\") "
   ]
  },
  {
   "cell_type": "markdown",
   "metadata": {
    "deletable": true,
    "editable": true
   },
   "source": [
    "#### Función tapply\n",
    "\n",
    "Se puede pensar en `tapply()` como una generalización de  `apply()` que permite matrices \"irregulares\", matrices donde cada fila puede tener un número diferente de columnas. Esto suele ser necesario cuando se intenta resumir un conjunto de datos. Por ejemplo, imagine que ha recopilado datos de frecuencia de pulso de un ensayo médico y desea comparar los dos grupos:"
   ]
  },
  {
   "cell_type": "code",
   "execution_count": 19,
   "metadata": {
    "collapsed": false,
    "deletable": true,
    "editable": true
   },
   "outputs": [
    {
     "data": {
      "text/html": [
       "<dl class=dl-horizontal>\n",
       "\t<dt>A</dt>\n",
       "\t\t<dd>10</dd>\n",
       "\t<dt>B</dt>\n",
       "\t\t<dd>12</dd>\n",
       "</dl>\n"
      ],
      "text/plain": [
       " A  B \n",
       "10 12 "
      ]
     },
     "metadata": {},
     "output_type": "display_data"
    }
   ],
   "source": [
    "pulso <- round(rnorm(22, 70, 10 / 3)) + rep(c(0, 5), c(10, 12))\n",
    "grupo <- rep(c(\"A\", \"B\"), c(10, 12))\n",
    "\n",
    "tapply(pulso, grupo, length)"
   ]
  },
  {
   "cell_type": "code",
   "execution_count": 20,
   "metadata": {
    "collapsed": false,
    "deletable": true,
    "editable": true
   },
   "outputs": [
    {
     "data": {
      "text/html": [
       "<dl class=dl-horizontal>\n",
       "\t<dt>A</dt>\n",
       "\t\t<dd>70</dd>\n",
       "\t<dt>B</dt>\n",
       "\t\t<dd>74.5</dd>\n",
       "</dl>\n"
      ],
      "text/plain": [
       "   A    B \n",
       "70.0 74.5 "
      ]
     },
     "metadata": {},
     "output_type": "display_data"
    }
   ],
   "source": [
    "tapply(pulso, grupo, mean)"
   ]
  },
  {
   "cell_type": "markdown",
   "metadata": {
    "deletable": true,
    "editable": true
   },
   "source": [
    "`tapply()` trabaja creando una estructura de datos \"desigual\" a partir de un conjunto de entradas y luego aplicando una función a los elementos individuales de esa estructura. La primera tarea es realmente lo que hace la función `split()`. Requiere dos entradas y devuelve una lista que agrupa elementos del primer vector de acuerdo a elementos o categorías del segundo vector:"
   ]
  },
  {
   "cell_type": "code",
   "execution_count": 21,
   "metadata": {
    "collapsed": false,
    "deletable": true,
    "editable": true
   },
   "outputs": [
    {
     "data": {
      "text/html": [
       "<dl>\n",
       "\t<dt>$A</dt>\n",
       "\t\t<dd><ol class=list-inline>\n",
       "\t<li>73</li>\n",
       "\t<li>72</li>\n",
       "\t<li>73</li>\n",
       "\t<li>73</li>\n",
       "\t<li>64</li>\n",
       "\t<li>68</li>\n",
       "\t<li>68</li>\n",
       "\t<li>71</li>\n",
       "\t<li>64</li>\n",
       "\t<li>74</li>\n",
       "</ol>\n",
       "</dd>\n",
       "\t<dt>$B</dt>\n",
       "\t\t<dd><ol class=list-inline>\n",
       "\t<li>78</li>\n",
       "\t<li>70</li>\n",
       "\t<li>76</li>\n",
       "\t<li>72</li>\n",
       "\t<li>75</li>\n",
       "\t<li>77</li>\n",
       "\t<li>76</li>\n",
       "\t<li>71</li>\n",
       "\t<li>75</li>\n",
       "\t<li>71</li>\n",
       "\t<li>76</li>\n",
       "\t<li>77</li>\n",
       "</ol>\n",
       "</dd>\n",
       "</dl>\n"
      ],
      "text/latex": [
       "\\begin{description}\n",
       "\\item[\\$A] \\begin{enumerate*}\n",
       "\\item 73\n",
       "\\item 72\n",
       "\\item 73\n",
       "\\item 73\n",
       "\\item 64\n",
       "\\item 68\n",
       "\\item 68\n",
       "\\item 71\n",
       "\\item 64\n",
       "\\item 74\n",
       "\\end{enumerate*}\n",
       "\n",
       "\\item[\\$B] \\begin{enumerate*}\n",
       "\\item 78\n",
       "\\item 70\n",
       "\\item 76\n",
       "\\item 72\n",
       "\\item 75\n",
       "\\item 77\n",
       "\\item 76\n",
       "\\item 71\n",
       "\\item 75\n",
       "\\item 71\n",
       "\\item 76\n",
       "\\item 77\n",
       "\\end{enumerate*}\n",
       "\n",
       "\\end{description}\n"
      ],
      "text/markdown": [
       "$A\n",
       ":   1. 73\n",
       "2. 72\n",
       "3. 73\n",
       "4. 73\n",
       "5. 64\n",
       "6. 68\n",
       "7. 68\n",
       "8. 71\n",
       "9. 64\n",
       "10. 74\n",
       "\n",
       "\n",
       "\n",
       "$B\n",
       ":   1. 78\n",
       "2. 70\n",
       "3. 76\n",
       "4. 72\n",
       "5. 75\n",
       "6. 77\n",
       "7. 76\n",
       "8. 71\n",
       "9. 75\n",
       "10. 71\n",
       "11. 76\n",
       "12. 77\n",
       "\n",
       "\n",
       "\n",
       "\n",
       "\n"
      ],
      "text/plain": [
       "$A\n",
       " [1] 73 72 73 73 64 68 68 71 64 74\n",
       "\n",
       "$B\n",
       " [1] 78 70 76 72 75 77 76 71 75 71 76 77\n"
      ]
     },
     "metadata": {},
     "output_type": "display_data"
    }
   ],
   "source": [
    "split(pulso, grupo)"
   ]
  },
  {
   "cell_type": "markdown",
   "metadata": {
    "deletable": true,
    "editable": true
   },
   "source": [
    "Entonces `tapply()` es sólo la combinación de `split()` y `sapply()`:"
   ]
  },
  {
   "cell_type": "code",
   "execution_count": 22,
   "metadata": {
    "collapsed": false,
    "deletable": true,
    "editable": true
   },
   "outputs": [
    {
     "data": {
      "text/html": [
       "<dl class=dl-horizontal>\n",
       "\t<dt>A</dt>\n",
       "\t\t<dd>10</dd>\n",
       "\t<dt>B</dt>\n",
       "\t\t<dd>12</dd>\n",
       "</dl>\n"
      ],
      "text/latex": [
       "\\begin{description*}\n",
       "\\item[A] 10\n",
       "\\item[B] 12\n",
       "\\end{description*}\n"
      ],
      "text/markdown": [
       "A\n",
       ":   10B\n",
       ":   12\n",
       "\n"
      ],
      "text/plain": [
       " A  B \n",
       "10 12 "
      ]
     },
     "metadata": {},
     "output_type": "display_data"
    }
   ],
   "source": [
    "tapply2 <- function(x, group, f, ..., simplify = TRUE) {\n",
    "  pieces <- split(x, group)\n",
    "  sapply(pieces, f, simplify = simplify)\n",
    "}\n",
    "tapply2(pulso, grupo, length)"
   ]
  },
  {
   "cell_type": "code",
   "execution_count": 23,
   "metadata": {
    "collapsed": false,
    "deletable": true,
    "editable": true
   },
   "outputs": [
    {
     "data": {
      "text/html": [
       "<dl class=dl-horizontal>\n",
       "\t<dt>A</dt>\n",
       "\t\t<dd>70</dd>\n",
       "\t<dt>B</dt>\n",
       "\t\t<dd>74.5</dd>\n",
       "</dl>\n"
      ],
      "text/latex": [
       "\\begin{description*}\n",
       "\\item[A] 70\n",
       "\\item[B] 74.5\n",
       "\\end{description*}\n"
      ],
      "text/markdown": [
       "A\n",
       ":   70B\n",
       ":   74.5\n",
       "\n"
      ],
      "text/plain": [
       "   A    B \n",
       "70.0 74.5 "
      ]
     },
     "metadata": {},
     "output_type": "display_data"
    }
   ],
   "source": [
    "tapply2(pulso, grupo, mean)"
   ]
  },
  {
   "cell_type": "markdown",
   "metadata": {
    "deletable": true,
    "editable": true
   },
   "source": [
    "Un problema muy común al trabajar los datos es cómo calcular alguna estadística de una variable que se ha dividido en grupos. Aquí hay anotaciones  en un  clásico juego de ordenador :"
   ]
  },
  {
   "cell_type": "code",
   "execution_count": 24,
   "metadata": {
    "collapsed": false,
    "deletable": true,
    "editable": true
   },
   "outputs": [
    {
     "data": {
      "text/html": [
       "<table>\n",
       "<thead><tr><th scope=col>jugador</th><th scope=col>anotaciones</th></tr></thead>\n",
       "<tbody>\n",
       "\t<tr><td>Tom  </td><td>8780 </td></tr>\n",
       "\t<tr><td>Tom  </td><td>2330 </td></tr>\n",
       "\t<tr><td>Dick </td><td>4230 </td></tr>\n",
       "\t<tr><td>Dick </td><td>4540 </td></tr>\n",
       "\t<tr><td>Dick </td><td>1660 </td></tr>\n",
       "\t<tr><td>Dick </td><td>1980 </td></tr>\n",
       "\t<tr><td>Dick </td><td> 520 </td></tr>\n",
       "\t<tr><td>Harry</td><td>4780 </td></tr>\n",
       "\t<tr><td>Harry</td><td>8420 </td></tr>\n",
       "\t<tr><td>Harry</td><td>5080 </td></tr>\n",
       "</tbody>\n",
       "</table>\n"
      ],
      "text/latex": [
       "\\begin{tabular}{r|ll}\n",
       " jugador & anotaciones\\\\\n",
       "\\hline\n",
       "\t Tom   & 8780 \\\\\n",
       "\t Tom   & 2330 \\\\\n",
       "\t Dick  & 4230 \\\\\n",
       "\t Dick  & 4540 \\\\\n",
       "\t Dick  & 1660 \\\\\n",
       "\t Dick  & 1980 \\\\\n",
       "\t Dick  &  520 \\\\\n",
       "\t Harry & 4780 \\\\\n",
       "\t Harry & 8420 \\\\\n",
       "\t Harry & 5080 \\\\\n",
       "\\end{tabular}\n"
      ],
      "text/markdown": [
       "\n",
       "jugador | anotaciones | \n",
       "|---|---|---|---|---|---|---|---|---|---|\n",
       "| Tom   | 8780  | \n",
       "| Tom   | 2330  | \n",
       "| Dick  | 4230  | \n",
       "| Dick  | 4540  | \n",
       "| Dick  | 1660  | \n",
       "| Dick  | 1980  | \n",
       "| Dick  |  520  | \n",
       "| Harry | 4780  | \n",
       "| Harry | 8420  | \n",
       "| Harry | 5080  | \n",
       "\n",
       "\n"
      ],
      "text/plain": [
       "   jugador anotaciones\n",
       "1  Tom     8780       \n",
       "2  Tom     2330       \n",
       "3  Dick    4230       \n",
       "4  Dick    4540       \n",
       "5  Dick    1660       \n",
       "6  Dick    1980       \n",
       "7  Dick     520       \n",
       "8  Harry   4780       \n",
       "9  Harry   8420       \n",
       "10 Harry   5080       "
      ]
     },
     "metadata": {},
     "output_type": "display_data"
    }
   ],
   "source": [
    "(notas_juego <- data.frame(\n",
    "    jugador = rep(c(\"Tom\", \"Dick\", \"Harry\"), times = c(2, 5, 3)),\n",
    "    anotaciones = round(rlnorm(10, 8), -1)\n",
    "))"
   ]
  },
  {
   "cell_type": "markdown",
   "metadata": {
    "deletable": true,
    "editable": true
   },
   "source": [
    "Si queremos calcular la puntuación media de cada jugador, hay tres pasos. Primero, dividimos  (con `split` ) el conjunto de datos por jugador:"
   ]
  },
  {
   "cell_type": "code",
   "execution_count": 25,
   "metadata": {
    "collapsed": false,
    "deletable": true,
    "editable": true
   },
   "outputs": [
    {
     "data": {
      "text/html": [
       "<dl>\n",
       "\t<dt>$Dick</dt>\n",
       "\t\t<dd><ol class=list-inline>\n",
       "\t<li>4230</li>\n",
       "\t<li>4540</li>\n",
       "\t<li>1660</li>\n",
       "\t<li>1980</li>\n",
       "\t<li>520</li>\n",
       "</ol>\n",
       "</dd>\n",
       "\t<dt>$Harry</dt>\n",
       "\t\t<dd><ol class=list-inline>\n",
       "\t<li>4780</li>\n",
       "\t<li>8420</li>\n",
       "\t<li>5080</li>\n",
       "</ol>\n",
       "</dd>\n",
       "\t<dt>$Tom</dt>\n",
       "\t\t<dd><ol class=list-inline>\n",
       "\t<li>8780</li>\n",
       "\t<li>2330</li>\n",
       "</ol>\n",
       "</dd>\n",
       "</dl>\n"
      ],
      "text/latex": [
       "\\begin{description}\n",
       "\\item[\\$Dick] \\begin{enumerate*}\n",
       "\\item 4230\n",
       "\\item 4540\n",
       "\\item 1660\n",
       "\\item 1980\n",
       "\\item 520\n",
       "\\end{enumerate*}\n",
       "\n",
       "\\item[\\$Harry] \\begin{enumerate*}\n",
       "\\item 4780\n",
       "\\item 8420\n",
       "\\item 5080\n",
       "\\end{enumerate*}\n",
       "\n",
       "\\item[\\$Tom] \\begin{enumerate*}\n",
       "\\item 8780\n",
       "\\item 2330\n",
       "\\end{enumerate*}\n",
       "\n",
       "\\end{description}\n"
      ],
      "text/markdown": [
       "$Dick\n",
       ":   1. 4230\n",
       "2. 4540\n",
       "3. 1660\n",
       "4. 1980\n",
       "5. 520\n",
       "\n",
       "\n",
       "\n",
       "$Harry\n",
       ":   1. 4780\n",
       "2. 8420\n",
       "3. 5080\n",
       "\n",
       "\n",
       "\n",
       "$Tom\n",
       ":   1. 8780\n",
       "2. 2330\n",
       "\n",
       "\n",
       "\n",
       "\n",
       "\n"
      ],
      "text/plain": [
       "$Dick\n",
       "[1] 4230 4540 1660 1980  520\n",
       "\n",
       "$Harry\n",
       "[1] 4780 8420 5080\n",
       "\n",
       "$Tom\n",
       "[1] 8780 2330\n"
      ]
     },
     "metadata": {},
     "output_type": "display_data"
    }
   ],
   "source": [
    "(anotaciones_por_jugador <- with(\n",
    "    notas_juego,\n",
    "    split(anotaciones, jugador\n",
    "         )\n",
    "))"
   ]
  },
  {
   "cell_type": "markdown",
   "metadata": {
    "deletable": true,
    "editable": true
   },
   "source": [
    "A continuación se aplica (con `apply`)  la función `mean()` a cada elemento:"
   ]
  },
  {
   "cell_type": "code",
   "execution_count": 26,
   "metadata": {
    "collapsed": false,
    "deletable": true,
    "editable": true
   },
   "outputs": [
    {
     "data": {
      "text/html": [
       "<dl>\n",
       "\t<dt>$Dick</dt>\n",
       "\t\t<dd>2586</dd>\n",
       "\t<dt>$Harry</dt>\n",
       "\t\t<dd>6093.33333333333</dd>\n",
       "\t<dt>$Tom</dt>\n",
       "\t\t<dd>5555</dd>\n",
       "</dl>\n"
      ],
      "text/latex": [
       "\\begin{description}\n",
       "\\item[\\$Dick] 2586\n",
       "\\item[\\$Harry] 6093.33333333333\n",
       "\\item[\\$Tom] 5555\n",
       "\\end{description}\n"
      ],
      "text/markdown": [
       "$Dick\n",
       ":   2586\n",
       "$Harry\n",
       ":   6093.33333333333\n",
       "$Tom\n",
       ":   5555\n",
       "\n",
       "\n"
      ],
      "text/plain": [
       "$Dick\n",
       "[1] 2586\n",
       "\n",
       "$Harry\n",
       "[1] 6093.333\n",
       "\n",
       "$Tom\n",
       "[1] 5555\n"
      ]
     },
     "metadata": {},
     "output_type": "display_data"
    }
   ],
   "source": [
    "(lista_de_promedio_por_jugador <- lapply(anotaciones_por_jugador, mean))"
   ]
  },
  {
   "cell_type": "markdown",
   "metadata": {
    "deletable": true,
    "editable": true
   },
   "source": [
    "Finalmente, combinamos  el resultado en un solo vector:"
   ]
  },
  {
   "cell_type": "code",
   "execution_count": 27,
   "metadata": {
    "collapsed": false,
    "deletable": true,
    "editable": true
   },
   "outputs": [
    {
     "data": {
      "text/html": [
       "<dl class=dl-horizontal>\n",
       "\t<dt>Dick</dt>\n",
       "\t\t<dd>2586</dd>\n",
       "\t<dt>Harry</dt>\n",
       "\t\t<dd>6093.33333333333</dd>\n",
       "\t<dt>Tom</dt>\n",
       "\t\t<dd>5555</dd>\n",
       "</dl>\n"
      ],
      "text/latex": [
       "\\begin{description*}\n",
       "\\item[Dick] 2586\n",
       "\\item[Harry] 6093.33333333333\n",
       "\\item[Tom] 5555\n",
       "\\end{description*}\n"
      ],
      "text/markdown": [
       "Dick\n",
       ":   2586Harry\n",
       ":   6093.33333333333Tom\n",
       ":   5555\n",
       "\n"
      ],
      "text/plain": [
       "    Dick    Harry      Tom \n",
       "2586.000 6093.333 5555.000 "
      ]
     },
     "metadata": {},
     "output_type": "display_data"
    }
   ],
   "source": [
    "(promedio_por_jugador <- unlist(lista_de_promedio_por_jugador))"
   ]
  },
  {
   "cell_type": "markdown",
   "metadata": {
    "deletable": true,
    "editable": true
   },
   "source": [
    "Los dos últimos pasos se pueden condensar en uno usando `vapply` o `sapply`, pero `divide-aplica-combina` es una tarea tan común que necesitamos algo más fácil. La función `tapply`, realiza los tres pasos de una sola vez:"
   ]
  },
  {
   "cell_type": "code",
   "execution_count": 28,
   "metadata": {
    "collapsed": false,
    "deletable": true,
    "editable": true
   },
   "outputs": [
    {
     "data": {
      "text/html": [
       "<dl class=dl-horizontal>\n",
       "\t<dt>Dick</dt>\n",
       "\t\t<dd>2586</dd>\n",
       "\t<dt>Harry</dt>\n",
       "\t\t<dd>6093.33333333333</dd>\n",
       "\t<dt>Tom</dt>\n",
       "\t\t<dd>5555</dd>\n",
       "</dl>\n"
      ],
      "text/plain": [
       "    Dick    Harry      Tom \n",
       "2586.000 6093.333 5555.000 "
      ]
     },
     "metadata": {},
     "output_type": "display_data"
    }
   ],
   "source": [
    "with(notas_juego, tapply(anotaciones, jugador, mean))"
   ]
  },
  {
   "cell_type": "markdown",
   "metadata": {
    "deletable": true,
    "editable": true
   },
   "source": [
    "Hay algunas otras funciones envoltura para `tapply`, como `aggregate`. Estas funciones realizan las misma cosas con una interfaz ligeramente diferente."
   ]
  },
  {
   "cell_type": "code",
   "execution_count": 29,
   "metadata": {
    "collapsed": true,
    "deletable": true,
    "editable": true
   },
   "outputs": [],
   "source": [
    "help(aggregate)"
   ]
  },
  {
   "cell_type": "code",
   "execution_count": 30,
   "metadata": {
    "collapsed": false,
    "deletable": true,
    "editable": true
   },
   "outputs": [
    {
     "ename": "ERROR",
     "evalue": "Error in aggregate.data.frame(x = valores, by = list(valores1 = valores1$datos), : objeto 'valores1' no encontrado\n",
     "output_type": "error",
     "traceback": [
      "Error in aggregate.data.frame(x = valores, by = list(valores1 = valores1$datos), : objeto 'valores1' no encontrado\nTraceback:\n",
      "1. aggregate(x = valores, by = list(valores1 = valores1$datos), \n .     FUN = length)",
      "2. aggregate.data.frame(x = valores, by = list(valores1 = valores1$datos), \n .     FUN = length)"
     ]
    }
   ],
   "source": [
    "#Ejemplo\n",
    "valores <- data.frame(datos = c(\"a\", \"a\", \"a\", \"a\", \"a\", \n",
    "                               \"b\", \"b\", \"b\", \n",
    "                               \"c\", \"c\", \"c\", \"c\"))\n",
    "nr.de.apariciones <- aggregate(x = valores,  by = list(valores1 = valores1$datos), \n",
    "                               FUN = length)\n",
    "\n",
    "nr.de.apariciones"
   ]
  },
  {
   "cell_type": "code",
   "execution_count": 31,
   "metadata": {
    "collapsed": false,
    "deletable": true,
    "editable": true
   },
   "outputs": [
    {
     "name": "stdout",
     "output_type": "stream",
     "text": [
      "  Group.1 Group.2      mpg cyl   disp       hp     drat       wt     qsec vs\n",
      "1       4       0 26.00000   4 120.30  91.0000 4.430000 2.140000 16.70000  0\n",
      "2       6       0 20.56667   6 155.00 131.6667 3.806667 2.755000 16.32667  0\n",
      "3       8       0 15.10000   8 353.10 209.2143 3.229286 3.999214 16.77214  0\n",
      "4       4       1 26.73000   4 103.62  81.8000 4.035000 2.300300 19.38100  1\n",
      "5       6       1 19.12500   6 204.55 115.2500 3.420000 3.388750 19.21500  1\n",
      "         am     gear     carb\n",
      "1 1.0000000 5.000000 2.000000\n",
      "2 1.0000000 4.333333 4.666667\n",
      "3 0.1428571 3.285714 3.500000\n",
      "4 0.7000000 4.000000 1.500000\n",
      "5 0.0000000 3.500000 2.500000\n"
     ]
    }
   ],
   "source": [
    "# Conjunto de datos agregados mtcars por cyl y vs, retornando la media\n",
    "# para variables numéricas\n",
    "\n",
    "attach(mtcars)\n",
    "aggdata <-aggregate(mtcars, by=list(cyl,vs), FUN=mean, na.rm=TRUE)\n",
    "print(aggdata)\n",
    "detach(mtcars)"
   ]
  },
  {
   "cell_type": "markdown",
   "metadata": {
    "deletable": true,
    "editable": true
   },
   "source": [
    "### El paquete plyr\n",
    "\n",
    "La familia   e funciones `*apply` de funciones tienen tres inconvenientes que les impiden ser fáciles de usar. En primer lugar, sus nombres son un poco oscuros.\n",
    "\n",
    "El `l` en `lapply` para las listas tiene sentido, pero no sé sabe que significa la `t` en `tapply`. En segundo lugar, los argumentos no son totalmente coherentes. La mayoría de las funciones toman primero un objeto de datos y un segundo de una función, pero `mapply` intercambia el orden, y `tapply` toma la función como su tercer argumento. El argumento de datos es a veces `X` ya veces `object`, y el argumento de simplificación a veces es `simplify` y a veces `SIMPLIFY`.\n",
    "\n",
    "En tercer lugar, la forma de la salida no es tan controlable como podría ser. Conseguir  resultados como data frames  o descartar el resultado requiere un poco de esfuerzo. Aquí es donde el paquete `plyr` es muy útil. El paquete contiene un conjunto de funciones denominadas `**ply`, donde los espacios en blanco (asteriscos) indican la forma de la entrada y la salida, respectivamente. Por lo tanto, `llply` toma una  lista como una entrada, aplica una función a cada elemento y devuelve una lista, lo que es un reemplazo para `lapply`:"
   ]
  },
  {
   "cell_type": "code",
   "execution_count": 32,
   "metadata": {
    "collapsed": true,
    "deletable": true,
    "editable": true
   },
   "outputs": [],
   "source": [
    "# De un ejemplo anterior\n",
    "\n",
    "primo_factores <- list(\n",
    "    dos = 2,\n",
    "    tres = 3,\n",
    "    cuatro = c(2, 2),\n",
    "    cinco = 5,\n",
    "    seis= c(2, 3),\n",
    "    siete = 7,\n",
    "    ocho = c(2, 2, 2),\n",
    "    nueve = c(3, 3),\n",
    "    diez = c(2, 5)\n",
    ")"
   ]
  },
  {
   "cell_type": "code",
   "execution_count": 33,
   "metadata": {
    "collapsed": false,
    "deletable": true,
    "editable": true
   },
   "outputs": [
    {
     "data": {
      "text/html": [
       "<dl>\n",
       "\t<dt>$dos</dt>\n",
       "\t\t<dd>2</dd>\n",
       "\t<dt>$tres</dt>\n",
       "\t\t<dd>3</dd>\n",
       "\t<dt>$cuatro</dt>\n",
       "\t\t<dd>2</dd>\n",
       "\t<dt>$cinco</dt>\n",
       "\t\t<dd>5</dd>\n",
       "\t<dt>$seis</dt>\n",
       "\t\t<dd><ol class=list-inline>\n",
       "\t<li>2</li>\n",
       "\t<li>3</li>\n",
       "</ol>\n",
       "</dd>\n",
       "\t<dt>$siete</dt>\n",
       "\t\t<dd>7</dd>\n",
       "\t<dt>$ocho</dt>\n",
       "\t\t<dd>2</dd>\n",
       "\t<dt>$nueve</dt>\n",
       "\t\t<dd>3</dd>\n",
       "\t<dt>$diez</dt>\n",
       "\t\t<dd><ol class=list-inline>\n",
       "\t<li>2</li>\n",
       "\t<li>5</li>\n",
       "</ol>\n",
       "</dd>\n",
       "</dl>\n"
      ],
      "text/latex": [
       "\\begin{description}\n",
       "\\item[\\$dos] 2\n",
       "\\item[\\$tres] 3\n",
       "\\item[\\$cuatro] 2\n",
       "\\item[\\$cinco] 5\n",
       "\\item[\\$seis] \\begin{enumerate*}\n",
       "\\item 2\n",
       "\\item 3\n",
       "\\end{enumerate*}\n",
       "\n",
       "\\item[\\$siete] 7\n",
       "\\item[\\$ocho] 2\n",
       "\\item[\\$nueve] 3\n",
       "\\item[\\$diez] \\begin{enumerate*}\n",
       "\\item 2\n",
       "\\item 5\n",
       "\\end{enumerate*}\n",
       "\n",
       "\\end{description}\n"
      ],
      "text/markdown": [
       "$dos\n",
       ":   2\n",
       "$tres\n",
       ":   3\n",
       "$cuatro\n",
       ":   2\n",
       "$cinco\n",
       ":   5\n",
       "$seis\n",
       ":   1. 2\n",
       "2. 3\n",
       "\n",
       "\n",
       "\n",
       "$siete\n",
       ":   7\n",
       "$ocho\n",
       ":   2\n",
       "$nueve\n",
       ":   3\n",
       "$diez\n",
       ":   1. 2\n",
       "2. 5\n",
       "\n",
       "\n",
       "\n",
       "\n",
       "\n"
      ],
      "text/plain": [
       "$dos\n",
       "[1] 2\n",
       "\n",
       "$tres\n",
       "[1] 3\n",
       "\n",
       "$cuatro\n",
       "[1] 2\n",
       "\n",
       "$cinco\n",
       "[1] 5\n",
       "\n",
       "$seis\n",
       "[1] 2 3\n",
       "\n",
       "$siete\n",
       "[1] 7\n",
       "\n",
       "$ocho\n",
       "[1] 2\n",
       "\n",
       "$nueve\n",
       "[1] 3\n",
       "\n",
       "$diez\n",
       "[1] 2 5\n"
      ]
     },
     "metadata": {},
     "output_type": "display_data"
    }
   ],
   "source": [
    "library(plyr)\n",
    "llply(primo_factores, unique)"
   ]
  },
  {
   "cell_type": "markdown",
   "metadata": {
    "deletable": true,
    "editable": true
   },
   "source": [
    "`laply` toma una lista y devuelve una matriz, imitando `sapply`. En el caso de una entrada vacía, hace lo inteligente y devuelve un vector lógico vacío (a diferencia de `sapply`, que devuelve una lista vacía):"
   ]
  },
  {
   "cell_type": "code",
   "execution_count": 34,
   "metadata": {
    "collapsed": false,
    "deletable": true,
    "editable": true
   },
   "outputs": [
    {
     "data": {
      "text/html": [
       "<ol class=list-inline>\n",
       "\t<li>1</li>\n",
       "\t<li>1</li>\n",
       "\t<li>2</li>\n",
       "\t<li>1</li>\n",
       "\t<li>2</li>\n",
       "\t<li>1</li>\n",
       "\t<li>3</li>\n",
       "\t<li>2</li>\n",
       "\t<li>2</li>\n",
       "</ol>\n"
      ],
      "text/latex": [
       "\\begin{enumerate*}\n",
       "\\item 1\n",
       "\\item 1\n",
       "\\item 2\n",
       "\\item 1\n",
       "\\item 2\n",
       "\\item 1\n",
       "\\item 3\n",
       "\\item 2\n",
       "\\item 2\n",
       "\\end{enumerate*}\n"
      ],
      "text/markdown": [
       "1. 1\n",
       "2. 1\n",
       "3. 2\n",
       "4. 1\n",
       "5. 2\n",
       "6. 1\n",
       "7. 3\n",
       "8. 2\n",
       "9. 2\n",
       "\n",
       "\n"
      ],
      "text/plain": [
       "[1] 1 1 2 1 2 1 3 2 2"
      ]
     },
     "metadata": {},
     "output_type": "display_data"
    }
   ],
   "source": [
    "laply(primo_factores, length)"
   ]
  },
  {
   "cell_type": "code",
   "execution_count": 35,
   "metadata": {
    "collapsed": false,
    "deletable": true,
    "editable": true
   },
   "outputs": [
    {
     "data": {
      "text/html": [],
      "text/latex": [],
      "text/markdown": [],
      "text/plain": [
       "logical(0)"
      ]
     },
     "metadata": {},
     "output_type": "display_data"
    }
   ],
   "source": [
    "laply(list(), length)\n",
    "## logical(0)"
   ]
  },
  {
   "cell_type": "markdown",
   "metadata": {
    "deletable": true,
    "editable": true
   },
   "source": [
    "`raply` sustituye `replicate`, pero también se tiene   las funciones `rlply` y `rdply`, que devuelven el resultado en forma de  una lista o un data frame y una función `r_ply` que descarta el resultado:"
   ]
  },
  {
   "cell_type": "code",
   "execution_count": 36,
   "metadata": {
    "collapsed": false,
    "deletable": true,
    "editable": true
   },
   "outputs": [
    {
     "data": {
      "text/html": [
       "<ol class=list-inline>\n",
       "\t<li>0.258262363029644</li>\n",
       "\t<li>0.949046164052561</li>\n",
       "\t<li>0.673047803109512</li>\n",
       "\t<li>0.836896668886766</li>\n",
       "\t<li>0.897488514892757</li>\n",
       "</ol>\n"
      ],
      "text/latex": [
       "\\begin{enumerate*}\n",
       "\\item 0.258262363029644\n",
       "\\item 0.949046164052561\n",
       "\\item 0.673047803109512\n",
       "\\item 0.836896668886766\n",
       "\\item 0.897488514892757\n",
       "\\end{enumerate*}\n"
      ],
      "text/markdown": [
       "1. 0.258262363029644\n",
       "2. 0.949046164052561\n",
       "3. 0.673047803109512\n",
       "4. 0.836896668886766\n",
       "5. 0.897488514892757\n",
       "\n",
       "\n"
      ],
      "text/plain": [
       "[1] 0.2582624 0.9490462 0.6730478 0.8368967 0.8974885"
      ]
     },
     "metadata": {},
     "output_type": "display_data"
    }
   ],
   "source": [
    "raply(5, runif(1)) "
   ]
  },
  {
   "cell_type": "code",
   "execution_count": 37,
   "metadata": {
    "collapsed": false,
    "deletable": true,
    "editable": true
   },
   "outputs": [
    {
     "data": {
      "text/html": [
       "<ol>\n",
       "\t<li>0.0511219210457057</li>\n",
       "\t<li>0.587549260351807</li>\n",
       "\t<li>0.415600266307592</li>\n",
       "\t<li>0.0109126188326627</li>\n",
       "\t<li>0.179624697891995</li>\n",
       "</ol>\n"
      ],
      "text/latex": [
       "\\begin{enumerate}\n",
       "\\item 0.0511219210457057\n",
       "\\item 0.587549260351807\n",
       "\\item 0.415600266307592\n",
       "\\item 0.0109126188326627\n",
       "\\item 0.179624697891995\n",
       "\\end{enumerate}\n"
      ],
      "text/markdown": [
       "1. 0.0511219210457057\n",
       "2. 0.587549260351807\n",
       "3. 0.415600266307592\n",
       "4. 0.0109126188326627\n",
       "5. 0.179624697891995\n",
       "\n",
       "\n"
      ],
      "text/plain": [
       "[[1]]\n",
       "[1] 0.05112192\n",
       "\n",
       "[[2]]\n",
       "[1] 0.5875493\n",
       "\n",
       "[[3]]\n",
       "[1] 0.4156003\n",
       "\n",
       "[[4]]\n",
       "[1] 0.01091262\n",
       "\n",
       "[[5]]\n",
       "[1] 0.1796247\n"
      ]
     },
     "metadata": {},
     "output_type": "display_data"
    }
   ],
   "source": [
    "rlply(5, runif(1)) # salida lista"
   ]
  },
  {
   "cell_type": "code",
   "execution_count": 38,
   "metadata": {
    "collapsed": false,
    "deletable": true,
    "editable": true
   },
   "outputs": [
    {
     "data": {
      "text/html": [
       "<table>\n",
       "<thead><tr><th scope=col>.n</th><th scope=col>V1</th></tr></thead>\n",
       "<tbody>\n",
       "\t<tr><td>1        </td><td>0.5239112</td></tr>\n",
       "\t<tr><td>2        </td><td>0.5612533</td></tr>\n",
       "\t<tr><td>3        </td><td>0.6948799</td></tr>\n",
       "\t<tr><td>4        </td><td>0.7699146</td></tr>\n",
       "\t<tr><td>5        </td><td>0.6918831</td></tr>\n",
       "</tbody>\n",
       "</table>\n"
      ],
      "text/latex": [
       "\\begin{tabular}{r|ll}\n",
       " .n & V1\\\\\n",
       "\\hline\n",
       "\t 1         & 0.5239112\\\\\n",
       "\t 2         & 0.5612533\\\\\n",
       "\t 3         & 0.6948799\\\\\n",
       "\t 4         & 0.7699146\\\\\n",
       "\t 5         & 0.6918831\\\\\n",
       "\\end{tabular}\n"
      ],
      "text/markdown": [
       "\n",
       ".n | V1 | \n",
       "|---|---|---|---|---|\n",
       "| 1         | 0.5239112 | \n",
       "| 2         | 0.5612533 | \n",
       "| 3         | 0.6948799 | \n",
       "| 4         | 0.7699146 | \n",
       "| 5         | 0.6918831 | \n",
       "\n",
       "\n"
      ],
      "text/plain": [
       "  .n V1       \n",
       "1 1  0.5239112\n",
       "2 2  0.5612533\n",
       "3 3  0.6948799\n",
       "4 4  0.7699146\n",
       "5 5  0.6918831"
      ]
     },
     "metadata": {},
     "output_type": "display_data"
    }
   ],
   "source": [
    "rdply(5, runif(1)) # salida data frame"
   ]
  },
  {
   "cell_type": "code",
   "execution_count": 39,
   "metadata": {
    "collapsed": true,
    "deletable": true,
    "editable": true
   },
   "outputs": [],
   "source": [
    "r_ply(5, runif(1)) # salida descartada"
   ]
  },
  {
   "cell_type": "markdown",
   "metadata": {
    "deletable": true,
    "editable": true
   },
   "source": [
    "Tal vez la función más comúnmente utilizada en `plyr` es `ddply`, que toma data frames como entradas y salidas y puede ser utilizado como un reemplazo para `tapply`. Su gran fortaleza es que hace que sea fácil hacer cálculos en varias columnas a la vez. Añadamos una columna `level` al conjunto `notas_juego`, que indica el nivel alcanzado por el jugador en el juego:"
   ]
  },
  {
   "cell_type": "code",
   "execution_count": 40,
   "metadata": {
    "collapsed": true,
    "deletable": true,
    "editable": true
   },
   "outputs": [],
   "source": [
    "notas_juego$level <- floor(log(notas_juego$anotaciones))"
   ]
  },
  {
   "cell_type": "markdown",
   "metadata": {
    "deletable": true,
    "editable": true
   },
   "source": [
    "Hay varias maneras de llamar `ddply`. Todos los métodos toman un data frame, el nombre de las columnas a dividir  y la función a aplicar a cada parte. La columna se pasa sin comillas, pero envuelta en una llamada a la  función `.` . Para la función se puede usar `colwise` para decirle a `ddply` que llame a la función en cada columna, o usar `summarize` y especifique las manipulaciones de columnas específicas:"
   ]
  },
  {
   "cell_type": "code",
   "execution_count": 41,
   "metadata": {
    "collapsed": false,
    "deletable": true,
    "editable": true
   },
   "outputs": [
    {
     "data": {
      "text/html": [
       "<table>\n",
       "<thead><tr><th scope=col>jugador</th><th scope=col>anotaciones</th><th scope=col>level</th></tr></thead>\n",
       "<tbody>\n",
       "\t<tr><td>Dick    </td><td>2586.000</td><td>7.200000</td></tr>\n",
       "\t<tr><td>Harry   </td><td>6093.333</td><td>8.333333</td></tr>\n",
       "\t<tr><td>Tom     </td><td>5555.000</td><td>8.000000</td></tr>\n",
       "</tbody>\n",
       "</table>\n"
      ],
      "text/latex": [
       "\\begin{tabular}{r|lll}\n",
       " jugador & anotaciones & level\\\\\n",
       "\\hline\n",
       "\t Dick     & 2586.000 & 7.200000\\\\\n",
       "\t Harry    & 6093.333 & 8.333333\\\\\n",
       "\t Tom      & 5555.000 & 8.000000\\\\\n",
       "\\end{tabular}\n"
      ],
      "text/markdown": [
       "\n",
       "jugador | anotaciones | level | \n",
       "|---|---|---|\n",
       "| Dick     | 2586.000 | 7.200000 | \n",
       "| Harry    | 6093.333 | 8.333333 | \n",
       "| Tom      | 5555.000 | 8.000000 | \n",
       "\n",
       "\n"
      ],
      "text/plain": [
       "  jugador anotaciones level   \n",
       "1 Dick    2586.000    7.200000\n",
       "2 Harry   6093.333    8.333333\n",
       "3 Tom     5555.000    8.000000"
      ]
     },
     "metadata": {},
     "output_type": "display_data"
    }
   ],
   "source": [
    "ddply(\n",
    "    notas_juego,\n",
    "    .(jugador),\n",
    "    colwise(mean) \n",
    ")"
   ]
  },
  {
   "cell_type": "code",
   "execution_count": 42,
   "metadata": {
    "collapsed": false,
    "deletable": true,
    "editable": true
   },
   "outputs": [
    {
     "data": {
      "text/html": [
       "<table>\n",
       "<thead><tr><th scope=col>jugador</th><th scope=col>promedio_anotaciones</th><th scope=col>max_nivel</th></tr></thead>\n",
       "<tbody>\n",
       "\t<tr><td>Dick    </td><td>2586.000</td><td>8       </td></tr>\n",
       "\t<tr><td>Harry   </td><td>6093.333</td><td>9       </td></tr>\n",
       "\t<tr><td>Tom     </td><td>5555.000</td><td>9       </td></tr>\n",
       "</tbody>\n",
       "</table>\n"
      ],
      "text/latex": [
       "\\begin{tabular}{r|lll}\n",
       " jugador & promedio\\_anotaciones & max\\_nivel\\\\\n",
       "\\hline\n",
       "\t Dick     & 2586.000 & 8       \\\\\n",
       "\t Harry    & 6093.333 & 9       \\\\\n",
       "\t Tom      & 5555.000 & 9       \\\\\n",
       "\\end{tabular}\n"
      ],
      "text/markdown": [
       "\n",
       "jugador | promedio_anotaciones | max_nivel | \n",
       "|---|---|---|\n",
       "| Dick     | 2586.000 | 8        | \n",
       "| Harry    | 6093.333 | 9        | \n",
       "| Tom      | 5555.000 | 9        | \n",
       "\n",
       "\n"
      ],
      "text/plain": [
       "  jugador promedio_anotaciones max_nivel\n",
       "1 Dick    2586.000             8        \n",
       "2 Harry   6093.333             9        \n",
       "3 Tom     5555.000             9        "
      ]
     },
     "metadata": {},
     "output_type": "display_data"
    }
   ],
   "source": [
    "ddply(\n",
    "    notas_juego,\n",
    "    .(jugador),\n",
    "    summarize,\n",
    "    promedio_anotaciones = mean(anotaciones), \n",
    "    max_nivel = max(level)\n",
    ")"
   ]
  },
  {
   "cell_type": "markdown",
   "metadata": {
    "deletable": true,
    "editable": true
   },
   "source": [
    "`colwise` es más rápido de especificar, pero se tiene que hacer lo mismo con cada columna, mientras que `summarize` es más flexible, pero requiere más código. No hay reemplazo directo para `mapply`, aunque las funciones `m*ply` permiten bucle con múltiples argumentos. Del mismo modo, no hay reemplazo para `vapply` o `rapply`."
   ]
  },
  {
   "cell_type": "markdown",
   "metadata": {
    "deletable": true,
    "editable": true
   },
   "source": [
    "Por lo tanto, `ddply` significa: tomar un data frame, dividirlo, hacer algo y devolver un data frame. `ldply` significa,  tomar una lista, dividirla, hacer algo y devolver un data frame. Esto se extiende a todas las combinaciones."
   ]
  },
  {
   "cell_type": "markdown",
   "metadata": {
    "deletable": true,
    "editable": true
   },
   "source": [
    "Tomemos un ejemplo simple. Sea un data frame, lo dividiremos por años, calcularemos el coeficiente de variación del recuento y devolveremos un data frame. Esto podría hacerse fácilmente en una línea, pero se está ampliando aquí para mostrar el formato que podría tomar una función más compleja."
   ]
  },
  {
   "cell_type": "code",
   "execution_count": 43,
   "metadata": {
    "collapsed": false,
    "deletable": true,
    "editable": true
   },
   "outputs": [
    {
     "name": "stdout",
     "output_type": "stream",
     "text": [
      "  fechas recuento\n",
      "1   2000        5\n",
      "2   2000        7\n",
      "3   2000       11\n",
      "4   2001       18\n",
      "5   2001        4\n",
      "6   2001       18\n",
      "7   2002       19\n",
      "8   2002       13\n",
      "9   2002       13\n"
     ]
    }
   ],
   "source": [
    "set.seed(1)\n",
    "a7 <- data.frame(fechas = rep(2000:2002, each = 3), \n",
    "                 recuento = round(runif(9, 0, 20)))\n",
    "print(a7)"
   ]
  },
  {
   "cell_type": "code",
   "execution_count": 44,
   "metadata": {
    "collapsed": false,
    "deletable": true,
    "editable": true
   },
   "outputs": [
    {
     "data": {
      "text/html": [
       "<table>\n",
       "<thead><tr><th scope=col>fechas</th><th scope=col>cv.recuento</th></tr></thead>\n",
       "<tbody>\n",
       "\t<tr><td>2000     </td><td>0.3984848</td></tr>\n",
       "\t<tr><td>2001     </td><td>0.6062178</td></tr>\n",
       "\t<tr><td>2002     </td><td>0.2309401</td></tr>\n",
       "</tbody>\n",
       "</table>\n"
      ],
      "text/latex": [
       "\\begin{tabular}{r|ll}\n",
       " fechas & cv.recuento\\\\\n",
       "\\hline\n",
       "\t 2000      & 0.3984848\\\\\n",
       "\t 2001      & 0.6062178\\\\\n",
       "\t 2002      & 0.2309401\\\\\n",
       "\\end{tabular}\n"
      ],
      "text/markdown": [
       "\n",
       "fechas | cv.recuento | \n",
       "|---|---|---|\n",
       "| 2000      | 0.3984848 | \n",
       "| 2001      | 0.6062178 | \n",
       "| 2002      | 0.2309401 | \n",
       "\n",
       "\n"
      ],
      "text/plain": [
       "  fechas cv.recuento\n",
       "1 2000   0.3984848  \n",
       "2 2001   0.6062178  \n",
       "3 2002   0.2309401  "
      ]
     },
     "metadata": {},
     "output_type": "display_data"
    }
   ],
   "source": [
    "ddply(a7, \"fechas\", function(x) {\n",
    "    media.recuento <- mean(x$recuento)\n",
    "    sd.recuento <- sd(x$recuento)\n",
    "    cv <- sd.recuento/media.recuento\n",
    "    data.frame(cv.recuento = cv)\n",
    "})"
   ]
  },
  {
   "cell_type": "markdown",
   "metadata": {
    "deletable": true,
    "editable": true
   },
   "source": [
    "A menudo es conveniente utilizar algunas funciones dentro de una de las funciones `**ply`. `transform` actúa como normalmente sería la función base de R y modifica un data frame existente.  `summarise` crea un nuevo marco condensado de datos."
   ]
  },
  {
   "cell_type": "code",
   "execution_count": 45,
   "metadata": {
    "collapsed": false,
    "deletable": true,
    "editable": true
   },
   "outputs": [
    {
     "data": {
      "text/html": [
       "<table>\n",
       "<thead><tr><th scope=col>fechas</th><th scope=col>media.recuento</th></tr></thead>\n",
       "<tbody>\n",
       "\t<tr><td>2000     </td><td> 7.666667</td></tr>\n",
       "\t<tr><td>2001     </td><td>13.333333</td></tr>\n",
       "\t<tr><td>2002     </td><td>15.000000</td></tr>\n",
       "</tbody>\n",
       "</table>\n"
      ],
      "text/latex": [
       "\\begin{tabular}{r|ll}\n",
       " fechas & media.recuento\\\\\n",
       "\\hline\n",
       "\t 2000      &  7.666667\\\\\n",
       "\t 2001      & 13.333333\\\\\n",
       "\t 2002      & 15.000000\\\\\n",
       "\\end{tabular}\n"
      ],
      "text/markdown": [
       "\n",
       "fechas | media.recuento | \n",
       "|---|---|---|\n",
       "| 2000      |  7.666667 | \n",
       "| 2001      | 13.333333 | \n",
       "| 2002      | 15.000000 | \n",
       "\n",
       "\n"
      ],
      "text/plain": [
       "  fechas media.recuento\n",
       "1 2000    7.666667     \n",
       "2 2001   13.333333     \n",
       "3 2002   15.000000     "
      ]
     },
     "metadata": {},
     "output_type": "display_data"
    }
   ],
   "source": [
    "ddply(a7, \"fechas\", summarise, media.recuento = mean(recuento))"
   ]
  },
  {
   "cell_type": "code",
   "execution_count": 46,
   "metadata": {
    "collapsed": false,
    "deletable": true,
    "editable": true
   },
   "outputs": [
    {
     "data": {
      "text/html": [
       "<table>\n",
       "<thead><tr><th scope=col>fechas</th><th scope=col>recuento</th><th scope=col>total.recuento</th></tr></thead>\n",
       "<tbody>\n",
       "\t<tr><td>2000</td><td> 5  </td><td>23  </td></tr>\n",
       "\t<tr><td>2000</td><td> 7  </td><td>23  </td></tr>\n",
       "\t<tr><td>2000</td><td>11  </td><td>23  </td></tr>\n",
       "\t<tr><td>2001</td><td>18  </td><td>40  </td></tr>\n",
       "\t<tr><td>2001</td><td> 4  </td><td>40  </td></tr>\n",
       "\t<tr><td>2001</td><td>18  </td><td>40  </td></tr>\n",
       "\t<tr><td>2002</td><td>19  </td><td>45  </td></tr>\n",
       "\t<tr><td>2002</td><td>13  </td><td>45  </td></tr>\n",
       "\t<tr><td>2002</td><td>13  </td><td>45  </td></tr>\n",
       "</tbody>\n",
       "</table>\n"
      ],
      "text/latex": [
       "\\begin{tabular}{r|lll}\n",
       " fechas & recuento & total.recuento\\\\\n",
       "\\hline\n",
       "\t 2000 &  5   & 23  \\\\\n",
       "\t 2000 &  7   & 23  \\\\\n",
       "\t 2000 & 11   & 23  \\\\\n",
       "\t 2001 & 18   & 40  \\\\\n",
       "\t 2001 &  4   & 40  \\\\\n",
       "\t 2001 & 18   & 40  \\\\\n",
       "\t 2002 & 19   & 45  \\\\\n",
       "\t 2002 & 13   & 45  \\\\\n",
       "\t 2002 & 13   & 45  \\\\\n",
       "\\end{tabular}\n"
      ],
      "text/markdown": [
       "\n",
       "fechas | recuento | total.recuento | \n",
       "|---|---|---|---|---|---|---|---|---|\n",
       "| 2000 |  5   | 23   | \n",
       "| 2000 |  7   | 23   | \n",
       "| 2000 | 11   | 23   | \n",
       "| 2001 | 18   | 40   | \n",
       "| 2001 |  4   | 40   | \n",
       "| 2001 | 18   | 40   | \n",
       "| 2002 | 19   | 45   | \n",
       "| 2002 | 13   | 45   | \n",
       "| 2002 | 13   | 45   | \n",
       "\n",
       "\n"
      ],
      "text/plain": [
       "  fechas recuento total.recuento\n",
       "1 2000    5       23            \n",
       "2 2000    7       23            \n",
       "3 2000   11       23            \n",
       "4 2001   18       40            \n",
       "5 2001    4       40            \n",
       "6 2001   18       40            \n",
       "7 2002   19       45            \n",
       "8 2002   13       45            \n",
       "9 2002   13       45            "
      ]
     },
     "metadata": {},
     "output_type": "display_data"
    }
   ],
   "source": [
    "ddply(a7,  \"fechas\", transform, total.recuento = sum(recuento))\n",
    "\n"
   ]
  },
  {
   "cell_type": "markdown",
   "metadata": {
    "deletable": true,
    "editable": true
   },
   "source": [
    "`mutate` funciona como `transform`, pero le permite construir sobre columnas."
   ]
  },
  {
   "cell_type": "code",
   "execution_count": 47,
   "metadata": {
    "collapsed": false,
    "deletable": true,
    "editable": true
   },
   "outputs": [
    {
     "data": {
      "text/html": [
       "<table>\n",
       "<thead><tr><th scope=col>fechas</th><th scope=col>recuento</th><th scope=col>mu</th><th scope=col>sigma</th><th scope=col>cv</th></tr></thead>\n",
       "<tbody>\n",
       "\t<tr><td>2000     </td><td> 5       </td><td> 7.666667</td><td>3.055050 </td><td>0.3984848</td></tr>\n",
       "\t<tr><td>2000     </td><td> 7       </td><td> 7.666667</td><td>3.055050 </td><td>0.3984848</td></tr>\n",
       "\t<tr><td>2000     </td><td>11       </td><td> 7.666667</td><td>3.055050 </td><td>0.3984848</td></tr>\n",
       "\t<tr><td>2001     </td><td>18       </td><td>13.333333</td><td>8.082904 </td><td>0.6062178</td></tr>\n",
       "\t<tr><td>2001     </td><td> 4       </td><td>13.333333</td><td>8.082904 </td><td>0.6062178</td></tr>\n",
       "\t<tr><td>2001     </td><td>18       </td><td>13.333333</td><td>8.082904 </td><td>0.6062178</td></tr>\n",
       "\t<tr><td>2002     </td><td>19       </td><td>15.000000</td><td>3.464102 </td><td>0.2309401</td></tr>\n",
       "\t<tr><td>2002     </td><td>13       </td><td>15.000000</td><td>3.464102 </td><td>0.2309401</td></tr>\n",
       "\t<tr><td>2002     </td><td>13       </td><td>15.000000</td><td>3.464102 </td><td>0.2309401</td></tr>\n",
       "</tbody>\n",
       "</table>\n"
      ],
      "text/latex": [
       "\\begin{tabular}{r|lllll}\n",
       " fechas & recuento & mu & sigma & cv\\\\\n",
       "\\hline\n",
       "\t 2000      &  5        &  7.666667 & 3.055050  & 0.3984848\\\\\n",
       "\t 2000      &  7        &  7.666667 & 3.055050  & 0.3984848\\\\\n",
       "\t 2000      & 11        &  7.666667 & 3.055050  & 0.3984848\\\\\n",
       "\t 2001      & 18        & 13.333333 & 8.082904  & 0.6062178\\\\\n",
       "\t 2001      &  4        & 13.333333 & 8.082904  & 0.6062178\\\\\n",
       "\t 2001      & 18        & 13.333333 & 8.082904  & 0.6062178\\\\\n",
       "\t 2002      & 19        & 15.000000 & 3.464102  & 0.2309401\\\\\n",
       "\t 2002      & 13        & 15.000000 & 3.464102  & 0.2309401\\\\\n",
       "\t 2002      & 13        & 15.000000 & 3.464102  & 0.2309401\\\\\n",
       "\\end{tabular}\n"
      ],
      "text/markdown": [
       "\n",
       "fechas | recuento | mu | sigma | cv | \n",
       "|---|---|---|---|---|---|---|---|---|\n",
       "| 2000      |  5        |  7.666667 | 3.055050  | 0.3984848 | \n",
       "| 2000      |  7        |  7.666667 | 3.055050  | 0.3984848 | \n",
       "| 2000      | 11        |  7.666667 | 3.055050  | 0.3984848 | \n",
       "| 2001      | 18        | 13.333333 | 8.082904  | 0.6062178 | \n",
       "| 2001      |  4        | 13.333333 | 8.082904  | 0.6062178 | \n",
       "| 2001      | 18        | 13.333333 | 8.082904  | 0.6062178 | \n",
       "| 2002      | 19        | 15.000000 | 3.464102  | 0.2309401 | \n",
       "| 2002      | 13        | 15.000000 | 3.464102  | 0.2309401 | \n",
       "| 2002      | 13        | 15.000000 | 3.464102  | 0.2309401 | \n",
       "\n",
       "\n"
      ],
      "text/plain": [
       "  fechas recuento mu        sigma    cv       \n",
       "1 2000    5        7.666667 3.055050 0.3984848\n",
       "2 2000    7        7.666667 3.055050 0.3984848\n",
       "3 2000   11        7.666667 3.055050 0.3984848\n",
       "4 2001   18       13.333333 8.082904 0.6062178\n",
       "5 2001    4       13.333333 8.082904 0.6062178\n",
       "6 2001   18       13.333333 8.082904 0.6062178\n",
       "7 2002   19       15.000000 3.464102 0.2309401\n",
       "8 2002   13       15.000000 3.464102 0.2309401\n",
       "9 2002   13       15.000000 3.464102 0.2309401"
      ]
     },
     "metadata": {},
     "output_type": "display_data"
    }
   ],
   "source": [
    "ddply(a7, \"fechas\", mutate, mu = mean(recuento), sigma = sd(recuento), cv = sigma/mu)"
   ]
  },
  {
   "cell_type": "code",
   "execution_count": null,
   "metadata": {
    "collapsed": true,
    "deletable": true,
    "editable": true
   },
   "outputs": [],
   "source": []
  }
 ],
 "metadata": {
  "kernelspec": {
   "display_name": "R",
   "language": "R",
   "name": "ir"
  },
  "language_info": {
   "codemirror_mode": "r",
   "file_extension": ".r",
   "mimetype": "text/x-r-source",
   "name": "R",
   "pygments_lexer": "r",
   "version": "3.3.2"
  }
 },
 "nbformat": 4,
 "nbformat_minor": 1
}
