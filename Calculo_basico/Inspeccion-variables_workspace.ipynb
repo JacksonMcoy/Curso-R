{
 "cells": [
  {
   "cell_type": "markdown",
   "metadata": {
    "deletable": true,
    "editable": true
   },
   "source": [
    "# Inspección de variables y el espacio de trabajo\n",
    "\n",
    "(Notas basadas en el libro **Learning R de Richard Cotton**)\n",
    "\n",
    "Hasta ahora, hemos realizado algunos cálculos y asignado algunas variables. En este cuaderno, encontraremos formas de examinar las propiedades de esas variables y manipular el espacio de trabajo del usuario que las contiene."
   ]
  },
  {
   "cell_type": "markdown",
   "metadata": {
    "deletable": true,
    "editable": true
   },
   "source": [
    "## Clases \n",
    "\n",
    "\n",
    "Todas las variables en R tienen una clase, que te dice qué tipos de variables son. Por ejemplo, la mayoría de los números tienen clase `numeric`  y los valores lógicos tienen la clase `logic`.  En realidad, los `vectores` de números son `numric` y los `vectores` de valores lógicos son `logic`, ya que R no tiene tipos escalares. El tipo de datos *más pequeño* en R es un vector.\n",
    "\n",
    "Podemos averiguar la  clase de una variable utilizando `class(variable)`:"
   ]
  },
  {
   "cell_type": "code",
   "execution_count": 1,
   "metadata": {
    "collapsed": false,
    "deletable": true,
    "editable": true
   },
   "outputs": [
    {
     "data": {
      "text/html": [
       "'logical'"
      ],
      "text/latex": [
       "'logical'"
      ],
      "text/markdown": [
       "'logical'"
      ],
      "text/plain": [
       "[1] \"logical\""
      ]
     },
     "metadata": {},
     "output_type": "display_data"
    }
   ],
   "source": [
    "class(c(TRUE, FALSE))"
   ]
  },
  {
   "cell_type": "markdown",
   "metadata": {
    "deletable": true,
    "editable": true
   },
   "source": [
    "Vale la pena ser consciente de que, al igual que una clase, todas las variables también tienen un tipo de almacenamiento interno (accedido a través de `typeof`), un modo (`mode`) y un modo de almacenamiento (`storage.mode`). Los tipos, modos y modos de almacenamiento existen en su mayoría para propósitos heredados, por lo que en la práctica sólo necesitarás usar `class` de un objeto."
   ]
  },
  {
   "cell_type": "code",
   "execution_count": 2,
   "metadata": {
    "collapsed": false,
    "deletable": true,
    "editable": true
   },
   "outputs": [
    {
     "data": {
      "text/html": [
       "'integer'"
      ],
      "text/latex": [
       "'integer'"
      ],
      "text/markdown": [
       "'integer'"
      ],
      "text/plain": [
       "[1] \"integer\""
      ]
     },
     "metadata": {},
     "output_type": "display_data"
    },
    {
     "data": {
      "text/html": [
       "'double'"
      ],
      "text/latex": [
       "'double'"
      ],
      "text/markdown": [
       "'double'"
      ],
      "text/plain": [
       "[1] \"double\""
      ]
     },
     "metadata": {},
     "output_type": "display_data"
    },
    {
     "data": {
      "text/html": [
       "'list'"
      ],
      "text/latex": [
       "'list'"
      ],
      "text/markdown": [
       "'list'"
      ],
      "text/plain": [
       "[1] \"list\""
      ]
     },
     "metadata": {},
     "output_type": "display_data"
    }
   ],
   "source": [
    "set.seed(2)\n",
    "x <- 1:10\n",
    "typeof(x)\n",
    "\n",
    "y <- x/5 + rnorm(10)\n",
    "typeof(y)\n",
    "\n",
    "g <- lm(y ~ x)\n",
    "typeof(g)\n"
   ]
  },
  {
   "cell_type": "markdown",
   "metadata": {
    "deletable": true,
    "editable": true
   },
   "source": [
    "### Diferentes tipos de números\n",
    "\n",
    "Todas las variables que creamos  eran números, pero R contiene tres clases diferentes de variable numérica: `numeric` para valores en coma flotante, `integer ` para los  enteros y `complex` para los números complejos. Podemos decir cuál es cuál examinando la clase de la variable:"
   ]
  },
  {
   "cell_type": "code",
   "execution_count": 3,
   "metadata": {
    "collapsed": false,
    "deletable": true,
    "editable": true
   },
   "outputs": [
    {
     "data": {
      "text/html": [
       "'numeric'"
      ],
      "text/latex": [
       "'numeric'"
      ],
      "text/markdown": [
       "'numeric'"
      ],
      "text/plain": [
       "[1] \"numeric\""
      ]
     },
     "metadata": {},
     "output_type": "display_data"
    }
   ],
   "source": [
    "class(sqrt(1:10))"
   ]
  },
  {
   "cell_type": "code",
   "execution_count": 4,
   "metadata": {
    "collapsed": false,
    "deletable": true,
    "editable": true
   },
   "outputs": [
    {
     "data": {
      "text/html": [
       "'complex'"
      ],
      "text/latex": [
       "'complex'"
      ],
      "text/markdown": [
       "'complex'"
      ],
      "text/plain": [
       "[1] \"complex\""
      ]
     },
     "metadata": {},
     "output_type": "display_data"
    }
   ],
   "source": [
    "class(1 + 2i)"
   ]
  },
  {
   "cell_type": "code",
   "execution_count": 5,
   "metadata": {
    "collapsed": false,
    "deletable": true,
    "editable": true
   },
   "outputs": [
    {
     "data": {
      "text/html": [
       "'integer'"
      ],
      "text/latex": [
       "'integer'"
      ],
      "text/markdown": [
       "'integer'"
      ],
      "text/plain": [
       "[1] \"integer\""
      ]
     },
     "metadata": {},
     "output_type": "display_data"
    }
   ],
   "source": [
    "class(4L) # L hace que el numero sea un entero"
   ]
  },
  {
   "cell_type": "code",
   "execution_count": 6,
   "metadata": {
    "collapsed": false,
    "deletable": true,
    "editable": true
   },
   "outputs": [
    {
     "data": {
      "text/html": [
       "'numeric'"
      ],
      "text/latex": [
       "'numeric'"
      ],
      "text/markdown": [
       "'numeric'"
      ],
      "text/plain": [
       "[1] \"numeric\""
      ]
     },
     "metadata": {},
     "output_type": "display_data"
    }
   ],
   "source": [
    "class(0.5:4.5)"
   ]
  },
  {
   "cell_type": "markdown",
   "metadata": {
    "deletable": true,
    "editable": true
   },
   "source": [
    "Tenga en cuenta que a la hora de escribir, todos los números de punto flotante son números de `32` bits (*doble precisión*), incluso cuando se instala en un sistema operativo de 64 bits. \n",
    "\n",
    "Escribiendo `.Machine` te da cierta información sobre las propiedades de los números de R. Aunque los valores, en teoría, pueden cambiar de máquina a máquina, para la mayoría de las construcciones, la mayoría de los valores son los mismos. Muchos de los valores devueltos por `.Machine` nunca deben preocuparte. Vale la pena saber que el número de punto flotante más grande que R puede representar con precisión completa es de aproximadamente `1.8e308`. Esto es bastante grande para  propósitos diarios, pero mucho más pequeño que el infinito.  El número positivo más pequeño que se puede representar es `2.2e-308`. Los números enteros pueden tomar valores hasta `2^31 - 1`, que es un poco más de dos mil millones y el menor `-2^31 - 1`."
   ]
  },
  {
   "cell_type": "code",
   "execution_count": 1,
   "metadata": {
    "collapsed": false,
    "deletable": true,
    "editable": true
   },
   "outputs": [
    {
     "data": {
      "text/html": [
       "<dl>\n",
       "\t<dt>$double.eps</dt>\n",
       "\t\t<dd>2.22044604925031e-16</dd>\n",
       "\t<dt>$double.neg.eps</dt>\n",
       "\t\t<dd>1.11022302462516e-16</dd>\n",
       "\t<dt>$double.xmin</dt>\n",
       "\t\t<dd>2.2250738585072e-308</dd>\n",
       "\t<dt>$double.xmax</dt>\n",
       "\t\t<dd>1.79769313486232e+308</dd>\n",
       "\t<dt>$double.base</dt>\n",
       "\t\t<dd>2</dd>\n",
       "\t<dt>$double.digits</dt>\n",
       "\t\t<dd>53</dd>\n",
       "\t<dt>$double.rounding</dt>\n",
       "\t\t<dd>5</dd>\n",
       "\t<dt>$double.guard</dt>\n",
       "\t\t<dd>0</dd>\n",
       "\t<dt>$double.ulp.digits</dt>\n",
       "\t\t<dd>-52</dd>\n",
       "\t<dt>$double.neg.ulp.digits</dt>\n",
       "\t\t<dd>-53</dd>\n",
       "\t<dt>$double.exponent</dt>\n",
       "\t\t<dd>11</dd>\n",
       "\t<dt>$double.min.exp</dt>\n",
       "\t\t<dd>-1022</dd>\n",
       "\t<dt>$double.max.exp</dt>\n",
       "\t\t<dd>1024</dd>\n",
       "\t<dt>$integer.max</dt>\n",
       "\t\t<dd>2147483647</dd>\n",
       "\t<dt>$sizeof.long</dt>\n",
       "\t\t<dd>8</dd>\n",
       "\t<dt>$sizeof.longlong</dt>\n",
       "\t\t<dd>8</dd>\n",
       "\t<dt>$sizeof.longdouble</dt>\n",
       "\t\t<dd>16</dd>\n",
       "\t<dt>$sizeof.pointer</dt>\n",
       "\t\t<dd>8</dd>\n",
       "</dl>\n"
      ],
      "text/latex": [
       "\\begin{description}\n",
       "\\item[\\$double.eps] 2.22044604925031e-16\n",
       "\\item[\\$double.neg.eps] 1.11022302462516e-16\n",
       "\\item[\\$double.xmin] 2.2250738585072e-308\n",
       "\\item[\\$double.xmax] 1.79769313486232e+308\n",
       "\\item[\\$double.base] 2\n",
       "\\item[\\$double.digits] 53\n",
       "\\item[\\$double.rounding] 5\n",
       "\\item[\\$double.guard] 0\n",
       "\\item[\\$double.ulp.digits] -52\n",
       "\\item[\\$double.neg.ulp.digits] -53\n",
       "\\item[\\$double.exponent] 11\n",
       "\\item[\\$double.min.exp] -1022\n",
       "\\item[\\$double.max.exp] 1024\n",
       "\\item[\\$integer.max] 2147483647\n",
       "\\item[\\$sizeof.long] 8\n",
       "\\item[\\$sizeof.longlong] 8\n",
       "\\item[\\$sizeof.longdouble] 16\n",
       "\\item[\\$sizeof.pointer] 8\n",
       "\\end{description}\n"
      ],
      "text/markdown": [
       "$double.eps\n",
       ":   2.22044604925031e-16\n",
       "$double.neg.eps\n",
       ":   1.11022302462516e-16\n",
       "$double.xmin\n",
       ":   2.2250738585072e-308\n",
       "$double.xmax\n",
       ":   1.79769313486232e+308\n",
       "$double.base\n",
       ":   2\n",
       "$double.digits\n",
       ":   53\n",
       "$double.rounding\n",
       ":   5\n",
       "$double.guard\n",
       ":   0\n",
       "$double.ulp.digits\n",
       ":   -52\n",
       "$double.neg.ulp.digits\n",
       ":   -53\n",
       "$double.exponent\n",
       ":   11\n",
       "$double.min.exp\n",
       ":   -1022\n",
       "$double.max.exp\n",
       ":   1024\n",
       "$integer.max\n",
       ":   2147483647\n",
       "$sizeof.long\n",
       ":   8\n",
       "$sizeof.longlong\n",
       ":   8\n",
       "$sizeof.longdouble\n",
       ":   16\n",
       "$sizeof.pointer\n",
       ":   8\n",
       "\n",
       "\n"
      ],
      "text/plain": [
       "$double.eps\n",
       "[1] 2.220446e-16\n",
       "\n",
       "$double.neg.eps\n",
       "[1] 1.110223e-16\n",
       "\n",
       "$double.xmin\n",
       "[1] 2.225074e-308\n",
       "\n",
       "$double.xmax\n",
       "[1] 1.797693e+308\n",
       "\n",
       "$double.base\n",
       "[1] 2\n",
       "\n",
       "$double.digits\n",
       "[1] 53\n",
       "\n",
       "$double.rounding\n",
       "[1] 5\n",
       "\n",
       "$double.guard\n",
       "[1] 0\n",
       "\n",
       "$double.ulp.digits\n",
       "[1] -52\n",
       "\n",
       "$double.neg.ulp.digits\n",
       "[1] -53\n",
       "\n",
       "$double.exponent\n",
       "[1] 11\n",
       "\n",
       "$double.min.exp\n",
       "[1] -1022\n",
       "\n",
       "$double.max.exp\n",
       "[1] 1024\n",
       "\n",
       "$integer.max\n",
       "[1] 2147483647\n",
       "\n",
       "$sizeof.long\n",
       "[1] 8\n",
       "\n",
       "$sizeof.longlong\n",
       "[1] 8\n",
       "\n",
       "$sizeof.longdouble\n",
       "[1] 16\n",
       "\n",
       "$sizeof.pointer\n",
       "[1] 8\n"
      ]
     },
     "metadata": {},
     "output_type": "display_data"
    }
   ],
   "source": [
    ".Machine "
   ]
  },
  {
   "cell_type": "markdown",
   "metadata": {
    "deletable": true,
    "editable": true
   },
   "source": [
    "El único otro valor de gran interés es $\\epsilon$, el número de coma flotante positivo más pequeño tal que $\\vert \\epsilon + 1\\vert != 1$. Esa es una manera elegante de decir lo cerca que dos números pueden estar para que R sepa que son diferentes. Se trata de `2.2e-16`. Este valor es utilizado por `all.equal` cuando se comparan dos vectores numéricos.\n"
   ]
  },
  {
   "cell_type": "code",
   "execution_count": 8,
   "metadata": {
    "collapsed": false,
    "deletable": true,
    "editable": true
   },
   "outputs": [
    {
     "data": {
      "text/html": [
       "2.22044604925031e-16"
      ],
      "text/latex": [
       "2.22044604925031e-16"
      ],
      "text/markdown": [
       "2.22044604925031e-16"
      ],
      "text/plain": [
       "[1] 2.220446e-16"
      ]
     },
     "metadata": {},
     "output_type": "display_data"
    }
   ],
   "source": [
    "# El epsilon de la maquina puede ser obtenido\n",
    "\n",
    "macheps <- function(){\n",
    "  eps =1\n",
    "  while(1 + eps/2!= 1)eps = eps/2\n",
    "  eps\n",
    "}\n",
    "macheps()"
   ]
  },
  {
   "cell_type": "markdown",
   "metadata": {
    "deletable": true,
    "editable": true
   },
   "source": [
    "## Otras clases\n",
    "\n",
    "Además de las tres clases numéricas y la clase lógica que hemos visto, hay tres clases más de vectores: `caracter` para almacenar el texto, `factors` para almacenar datos categóricos y `raw` para almacenar datos binarios.\n",
    "\n",
    "En este próximo ejemplo, creamos un vector de caracteres utilizando el operador `c`, al igual que lo hicimos con los vectores numéricos. La clase de un vector de caracteres es `character`:\n"
   ]
  },
  {
   "cell_type": "code",
   "execution_count": 9,
   "metadata": {
    "collapsed": false,
    "deletable": true,
    "editable": true
   },
   "outputs": [
    {
     "data": {
      "text/html": [
       "'character'"
      ],
      "text/latex": [
       "'character'"
      ],
      "text/markdown": [
       "'character'"
      ],
      "text/plain": [
       "[1] \"character\""
      ]
     },
     "metadata": {},
     "output_type": "display_data"
    }
   ],
   "source": [
    "class(c(\"ella\", \"es\", \"bella\", \"ella\", \"es\", \"una\", \"estrella\"))"
   ]
  },
  {
   "cell_type": "markdown",
   "metadata": {
    "deletable": true,
    "editable": true
   },
   "source": [
    "Ten  en cuenta que, a diferencia de algunos lenguajes, R no distingue entre cadenas y caracteres individuales, una cadena que contiene un carácter se trata igual que cualquier otra cadena. A diferencia de otros lenguajes de bajo nivel no es necesario preocuparse por la terminación de las cadenas en un carácter nulo `(\\0)`. De hecho, es un error intentar incluir tal carácter en las cadenas.\n",
    "\n",
    "\n",
    "En muchos lenguajes de programación, los datos categóricos estarían representados por números enteros. Por ejemplo,  `genero` podría representarse como `1` para las mujeres y `2` para los hombres. Una solución ligeramente mejor sería tratar  `genero` como una variable de carácter con las elecciones *mujer* y *hombre *. Sin embargo, esto sigue siendo semánticamente bastante dudoso, ya que los datos categóricos son un concepto diferente del texto plano. R tiene una solución más sofisticada que combina ambas ideas en una clase semánticamente correcta-los factores son números enteros con etiquetas:"
   ]
  },
  {
   "cell_type": "code",
   "execution_count": 10,
   "metadata": {
    "collapsed": false,
    "deletable": true,
    "editable": true
   },
   "outputs": [
    {
     "data": {
      "text/html": [
       "<ol class=list-inline>\n",
       "\t<li>masculino</li>\n",
       "\t<li>femenino</li>\n",
       "\t<li>femenino</li>\n",
       "\t<li>masculino</li>\n",
       "\t<li>femenino</li>\n",
       "</ol>\n"
      ],
      "text/latex": [
       "\\begin{enumerate*}\n",
       "\\item masculino\n",
       "\\item femenino\n",
       "\\item femenino\n",
       "\\item masculino\n",
       "\\item femenino\n",
       "\\end{enumerate*}\n"
      ],
      "text/markdown": [
       "1. masculino\n",
       "2. femenino\n",
       "3. femenino\n",
       "4. masculino\n",
       "5. femenino\n",
       "\n",
       "\n"
      ],
      "text/plain": [
       "[1] masculino femenino  femenino  masculino femenino \n",
       "Levels: femenino masculino"
      ]
     },
     "metadata": {},
     "output_type": "display_data"
    }
   ],
   "source": [
    "(genero <- factor(c(\"masculino\", \"femenino\", \"femenino\", \"masculino\", \"femenino\")))"
   ]
  },
  {
   "cell_type": "code",
   "execution_count": 11,
   "metadata": {
    "collapsed": false,
    "deletable": true,
    "editable": true
   },
   "outputs": [
    {
     "data": {
      "text/html": [
       "<ol class=list-inline>\n",
       "\t<li>'femenino'</li>\n",
       "\t<li>'masculino'</li>\n",
       "</ol>\n"
      ],
      "text/latex": [
       "\\begin{enumerate*}\n",
       "\\item 'femenino'\n",
       "\\item 'masculino'\n",
       "\\end{enumerate*}\n"
      ],
      "text/markdown": [
       "1. 'femenino'\n",
       "2. 'masculino'\n",
       "\n",
       "\n"
      ],
      "text/plain": [
       "[1] \"femenino\"  \"masculino\""
      ]
     },
     "metadata": {},
     "output_type": "display_data"
    }
   ],
   "source": [
    "levels(genero)"
   ]
  },
  {
   "cell_type": "markdown",
   "metadata": {
    "deletable": true,
    "editable": true
   },
   "source": [
    "El contenido del factor se parece mucho a su equivalente de caracteres: obtiene etiquetas legibles para cada valor. Esas etiquetas se limitan a valores específicos (en este caso *femenino* y *masculino*) conocidos como los niveles del factor:"
   ]
  },
  {
   "cell_type": "code",
   "execution_count": 12,
   "metadata": {
    "collapsed": false,
    "deletable": true,
    "editable": true
   },
   "outputs": [
    {
     "data": {
      "text/html": [
       "2"
      ],
      "text/latex": [
       "2"
      ],
      "text/markdown": [
       "2"
      ],
      "text/plain": [
       "[1] 2"
      ]
     },
     "metadata": {},
     "output_type": "display_data"
    }
   ],
   "source": [
    "nlevels(genero)"
   ]
  },
  {
   "cell_type": "markdown",
   "metadata": {
    "deletable": true,
    "editable": true
   },
   "source": [
    "Observa  que aunque *masculino*  es el primer valor en el `genero`, el primer nivel es *femenino*.  Por defecto, los niveles de factor se asignan alfabéticamente. A escondidas, los valores de factor se almacenan como números enteros en lugar de caracteres. Podemos ver esto más claramente usando `as.integer`:"
   ]
  },
  {
   "cell_type": "code",
   "execution_count": 13,
   "metadata": {
    "collapsed": false,
    "deletable": true,
    "editable": true
   },
   "outputs": [
    {
     "data": {
      "text/html": [
       "<ol class=list-inline>\n",
       "\t<li>2</li>\n",
       "\t<li>1</li>\n",
       "\t<li>1</li>\n",
       "\t<li>2</li>\n",
       "\t<li>1</li>\n",
       "</ol>\n"
      ],
      "text/latex": [
       "\\begin{enumerate*}\n",
       "\\item 2\n",
       "\\item 1\n",
       "\\item 1\n",
       "\\item 2\n",
       "\\item 1\n",
       "\\end{enumerate*}\n"
      ],
      "text/markdown": [
       "1. 2\n",
       "2. 1\n",
       "3. 1\n",
       "4. 2\n",
       "5. 1\n",
       "\n",
       "\n"
      ],
      "text/plain": [
       "[1] 2 1 1 2 1"
      ]
     },
     "metadata": {},
     "output_type": "display_data"
    }
   ],
   "source": [
    "as.integer(genero)"
   ]
  },
  {
   "cell_type": "markdown",
   "metadata": {
    "deletable": true,
    "editable": true
   },
   "source": [
    "Este uso de números enteros para el almacenamiento  de los valores de los factores los hace muy eficientes en comparación con los  caracteres de texto, al menos cuando hay un montón de cadenas repetidas, como aquí. En el código siguiente, `sample` devuelve un vector de caracteres que convertimos en un factor utilizando `as.factor` y `object.size` devuelve la asignación de memoria para cada objeto:"
   ]
  },
  {
   "cell_type": "code",
   "execution_count": 14,
   "metadata": {
    "collapsed": false,
    "deletable": true,
    "editable": true
   },
   "outputs": [
    {
     "data": {
      "text/plain": [
       "80152 bytes"
      ]
     },
     "metadata": {},
     "output_type": "display_data"
    }
   ],
   "source": [
    "genero_caracter <- sample(c(\"femenino\", \"masculino\"), 10000, replace = TRUE)\n",
    "genero_factor <- as.factor(genero_caracter)\n",
    "object.size(genero_caracter)"
   ]
  },
  {
   "cell_type": "code",
   "execution_count": 15,
   "metadata": {
    "collapsed": false,
    "deletable": true,
    "editable": true
   },
   "outputs": [
    {
     "data": {
      "text/plain": [
       "40528 bytes"
      ]
     },
     "metadata": {},
     "output_type": "display_data"
    }
   ],
   "source": [
    "object.size(genero_factor)"
   ]
  },
  {
   "cell_type": "markdown",
   "metadata": {
    "deletable": true,
    "editable": true
   },
   "source": [
    "La clase `raw` almacena vectores de bytes *raw*.  Cada byte está representado por un valor hexadecimal de dos dígitos. Estos se  utilizan principalmente para almacenar el contenido de archivos binarios importados y como tales, son razonablemente raros. Los números enteros `0` a `255` se pueden convertir en raw utilizando `as.raw`. Las partes fraccionarias e imaginarias son descartadas y los números fuera de este rango se tratan como `0`. Para las cadenas, `as.raw` no funciona, en este caso se debe  usar `charToRaw` en su lugar:"
   ]
  },
  {
   "cell_type": "code",
   "execution_count": 16,
   "metadata": {
    "collapsed": false,
    "deletable": true,
    "editable": true
   },
   "outputs": [
    {
     "data": {
      "text/plain": [
       " [1] 01 02 03 04 05 06 07 08 09 0a 0b 0c 0d 0e 0f 10 11"
      ]
     },
     "metadata": {},
     "output_type": "display_data"
    }
   ],
   "source": [
    "as.raw(1:17)"
   ]
  },
  {
   "cell_type": "code",
   "execution_count": 17,
   "metadata": {
    "collapsed": false,
    "deletable": true,
    "editable": true
   },
   "outputs": [
    {
     "name": "stderr",
     "output_type": "stream",
     "text": [
      "Warning message in eval(expr, envir, enclos):\n",
      "“partes imaginarias descartadas en la coerción”Warning message in eval(expr, envir, enclos):\n",
      "“valores fuera de rango tratados como 0 en la coerción a crudo (raw)”"
     ]
    },
    {
     "data": {
      "text/plain": [
       "[1] 03 01 00 ea"
      ]
     },
     "metadata": {},
     "output_type": "display_data"
    }
   ],
   "source": [
    "as.raw(c(pi, 1 + 1i, -1, 234))"
   ]
  },
  {
   "cell_type": "code",
   "execution_count": 18,
   "metadata": {
    "collapsed": false,
    "deletable": true,
    "editable": true
   },
   "outputs": [
    {
     "data": {
      "text/plain": [
       "[1] 50 65 73 63 61 64 6f 21"
      ]
     },
     "metadata": {},
     "output_type": "display_data"
    }
   ],
   "source": [
    "(sushi <- charToRaw(\"Pescado!\"))"
   ]
  },
  {
   "cell_type": "code",
   "execution_count": 19,
   "metadata": {
    "collapsed": false,
    "deletable": true,
    "editable": true
   },
   "outputs": [
    {
     "data": {
      "text/html": [
       "'raw'"
      ],
      "text/latex": [
       "'raw'"
      ],
      "text/markdown": [
       "'raw'"
      ],
      "text/plain": [
       "[1] \"raw\""
      ]
     },
     "metadata": {},
     "output_type": "display_data"
    }
   ],
   "source": [
    "class(sushi)"
   ]
  },
  {
   "cell_type": "markdown",
   "metadata": {
    "deletable": true,
    "editable": true
   },
   "source": [
    "Además de las clases de vectores que hemos visto hasta ahora, existen muchos otros tipos de variables, por ejemplo las matrices contienen datos multidimensionales, y las matrices con la clase `matrix` son un caso especial de matrices bidimensionales."
   ]
  },
  {
   "cell_type": "code",
   "execution_count": 20,
   "metadata": {
    "collapsed": false,
    "deletable": true,
    "editable": true
   },
   "outputs": [
    {
     "data": {
      "text/html": [
       "'matrix'"
      ],
      "text/latex": [
       "'matrix'"
      ],
      "text/markdown": [
       "'matrix'"
      ],
      "text/plain": [
       "[1] \"matrix\""
      ]
     },
     "metadata": {},
     "output_type": "display_data"
    }
   ],
   "source": [
    "x <- matrix( c(6,7), nrow=2 )\n",
    "class(x)"
   ]
  },
  {
   "cell_type": "markdown",
   "metadata": {
    "deletable": true,
    "editable": true
   },
   "source": [
    "### Comprobación y cambio de clases \n",
    "\n",
    "Llamar a la función `class` es útil para examinar interactivamente nuestras variables en el prompt de comandos, pero si queremos probar el tipo de un objeto en nuestros códigos, es mejor usar la función `is` o una de sus variantes específicas de clase. En una situación típica, nuestra prueba se verá como:\n",
    "\n",
    "```\n",
    "if(!is(x, \"alguna_clase\"))\n",
    "{\n",
    "   ...\n",
    "}\n",
    "```\n",
    "La mayoría de las clases comunes tienen sus propias funciones `is.*` y  llamarlas normalmente es un poco más eficiente que usar la función general `is`. Por ejemplo:"
   ]
  },
  {
   "cell_type": "code",
   "execution_count": 21,
   "metadata": {
    "collapsed": false,
    "deletable": true,
    "editable": true
   },
   "outputs": [
    {
     "data": {
      "text/html": [
       "TRUE"
      ],
      "text/latex": [
       "TRUE"
      ],
      "text/markdown": [
       "TRUE"
      ],
      "text/plain": [
       "[1] TRUE"
      ]
     },
     "metadata": {},
     "output_type": "display_data"
    }
   ],
   "source": [
    "is.character(\"rojo verde, amarillo fresa\")"
   ]
  },
  {
   "cell_type": "code",
   "execution_count": 22,
   "metadata": {
    "collapsed": false,
    "deletable": true,
    "editable": true
   },
   "outputs": [
    {
     "data": {
      "text/html": [
       "TRUE"
      ],
      "text/latex": [
       "TRUE"
      ],
      "text/markdown": [
       "TRUE"
      ],
      "text/plain": [
       "[1] TRUE"
      ]
     },
     "metadata": {},
     "output_type": "display_data"
    }
   ],
   "source": [
    "is.logical(FALSE)"
   ]
  },
  {
   "cell_type": "code",
   "execution_count": 23,
   "metadata": {
    "collapsed": false,
    "deletable": true,
    "editable": true
   },
   "outputs": [
    {
     "data": {
      "text/html": [
       "TRUE"
      ],
      "text/latex": [
       "TRUE"
      ],
      "text/markdown": [
       "TRUE"
      ],
      "text/plain": [
       "[1] TRUE"
      ]
     },
     "metadata": {},
     "output_type": "display_data"
    }
   ],
   "source": [
    "is.list(list(a = 1, b = 2))"
   ]
  },
  {
   "cell_type": "markdown",
   "metadata": {
    "deletable": true,
    "editable": true
   },
   "source": [
    "Podemos ver una lista completa de todas las funciones `is` del paquete base usando:"
   ]
  },
  {
   "cell_type": "code",
   "execution_count": 24,
   "metadata": {
    "collapsed": false,
    "deletable": true,
    "editable": true
   },
   "outputs": [
    {
     "data": {
      "text/html": [
       "<ol class=list-inline>\n",
       "\t<li>'is.array'</li>\n",
       "\t<li>'is.atomic'</li>\n",
       "\t<li>'is.call'</li>\n",
       "\t<li>'is.character'</li>\n",
       "\t<li>'is.complex'</li>\n",
       "\t<li>'is.data.frame'</li>\n",
       "\t<li>'is.double'</li>\n",
       "\t<li>'is.element'</li>\n",
       "\t<li>'is.environment'</li>\n",
       "\t<li>'is.expression'</li>\n",
       "\t<li>'is.factor'</li>\n",
       "\t<li>'is.finite'</li>\n",
       "\t<li>'is.function'</li>\n",
       "\t<li>'is.infinite'</li>\n",
       "\t<li>'is.integer'</li>\n",
       "\t<li>'is.language'</li>\n",
       "\t<li>'is.list'</li>\n",
       "\t<li>'is.loaded'</li>\n",
       "\t<li>'is.logical'</li>\n",
       "\t<li>'is.matrix'</li>\n",
       "\t<li>'is.na'</li>\n",
       "\t<li>'is.na.data.frame'</li>\n",
       "\t<li>'is.na.numeric_version'</li>\n",
       "\t<li>'is.na.POSIXlt'</li>\n",
       "\t<li>'is.na&lt;-'</li>\n",
       "\t<li>'is.na&lt;-.default'</li>\n",
       "\t<li>'is.na&lt;-.factor'</li>\n",
       "\t<li>'is.na&lt;-.numeric_version'</li>\n",
       "\t<li>'is.name'</li>\n",
       "\t<li>'is.nan'</li>\n",
       "\t<li>'is.null'</li>\n",
       "\t<li>'is.numeric'</li>\n",
       "\t<li>'is.numeric_version'</li>\n",
       "\t<li>'is.numeric.Date'</li>\n",
       "\t<li>'is.numeric.difftime'</li>\n",
       "\t<li>'is.numeric.POSIXt'</li>\n",
       "\t<li>'is.object'</li>\n",
       "\t<li>'is.ordered'</li>\n",
       "\t<li>'is.package_version'</li>\n",
       "\t<li>'is.pairlist'</li>\n",
       "\t<li>'is.primitive'</li>\n",
       "\t<li>'is.qr'</li>\n",
       "\t<li>'is.R'</li>\n",
       "\t<li>'is.raw'</li>\n",
       "\t<li>'is.recursive'</li>\n",
       "\t<li>'is.single'</li>\n",
       "\t<li>'is.symbol'</li>\n",
       "\t<li>'is.table'</li>\n",
       "\t<li>'is.unsorted'</li>\n",
       "\t<li>'is.vector'</li>\n",
       "\t<li>'isatty'</li>\n",
       "\t<li>'isBaseNamespace'</li>\n",
       "\t<li>'isdebugged'</li>\n",
       "\t<li>'isIncomplete'</li>\n",
       "\t<li>'isNamespace'</li>\n",
       "\t<li>'isNamespaceLoaded'</li>\n",
       "\t<li>'isOpen'</li>\n",
       "\t<li>'isRestart'</li>\n",
       "\t<li>'isS4'</li>\n",
       "\t<li>'isSeekable'</li>\n",
       "\t<li>'isSymmetric'</li>\n",
       "\t<li>'isSymmetric.matrix'</li>\n",
       "\t<li>'isTRUE'</li>\n",
       "</ol>\n"
      ],
      "text/latex": [
       "\\begin{enumerate*}\n",
       "\\item 'is.array'\n",
       "\\item 'is.atomic'\n",
       "\\item 'is.call'\n",
       "\\item 'is.character'\n",
       "\\item 'is.complex'\n",
       "\\item 'is.data.frame'\n",
       "\\item 'is.double'\n",
       "\\item 'is.element'\n",
       "\\item 'is.environment'\n",
       "\\item 'is.expression'\n",
       "\\item 'is.factor'\n",
       "\\item 'is.finite'\n",
       "\\item 'is.function'\n",
       "\\item 'is.infinite'\n",
       "\\item 'is.integer'\n",
       "\\item 'is.language'\n",
       "\\item 'is.list'\n",
       "\\item 'is.loaded'\n",
       "\\item 'is.logical'\n",
       "\\item 'is.matrix'\n",
       "\\item 'is.na'\n",
       "\\item 'is.na.data.frame'\n",
       "\\item 'is.na.numeric\\_version'\n",
       "\\item 'is.na.POSIXlt'\n",
       "\\item 'is.na<-'\n",
       "\\item 'is.na<-.default'\n",
       "\\item 'is.na<-.factor'\n",
       "\\item 'is.na<-.numeric\\_version'\n",
       "\\item 'is.name'\n",
       "\\item 'is.nan'\n",
       "\\item 'is.null'\n",
       "\\item 'is.numeric'\n",
       "\\item 'is.numeric\\_version'\n",
       "\\item 'is.numeric.Date'\n",
       "\\item 'is.numeric.difftime'\n",
       "\\item 'is.numeric.POSIXt'\n",
       "\\item 'is.object'\n",
       "\\item 'is.ordered'\n",
       "\\item 'is.package\\_version'\n",
       "\\item 'is.pairlist'\n",
       "\\item 'is.primitive'\n",
       "\\item 'is.qr'\n",
       "\\item 'is.R'\n",
       "\\item 'is.raw'\n",
       "\\item 'is.recursive'\n",
       "\\item 'is.single'\n",
       "\\item 'is.symbol'\n",
       "\\item 'is.table'\n",
       "\\item 'is.unsorted'\n",
       "\\item 'is.vector'\n",
       "\\item 'isatty'\n",
       "\\item 'isBaseNamespace'\n",
       "\\item 'isdebugged'\n",
       "\\item 'isIncomplete'\n",
       "\\item 'isNamespace'\n",
       "\\item 'isNamespaceLoaded'\n",
       "\\item 'isOpen'\n",
       "\\item 'isRestart'\n",
       "\\item 'isS4'\n",
       "\\item 'isSeekable'\n",
       "\\item 'isSymmetric'\n",
       "\\item 'isSymmetric.matrix'\n",
       "\\item 'isTRUE'\n",
       "\\end{enumerate*}\n"
      ],
      "text/markdown": [
       "1. 'is.array'\n",
       "2. 'is.atomic'\n",
       "3. 'is.call'\n",
       "4. 'is.character'\n",
       "5. 'is.complex'\n",
       "6. 'is.data.frame'\n",
       "7. 'is.double'\n",
       "8. 'is.element'\n",
       "9. 'is.environment'\n",
       "10. 'is.expression'\n",
       "11. 'is.factor'\n",
       "12. 'is.finite'\n",
       "13. 'is.function'\n",
       "14. 'is.infinite'\n",
       "15. 'is.integer'\n",
       "16. 'is.language'\n",
       "17. 'is.list'\n",
       "18. 'is.loaded'\n",
       "19. 'is.logical'\n",
       "20. 'is.matrix'\n",
       "21. 'is.na'\n",
       "22. 'is.na.data.frame'\n",
       "23. 'is.na.numeric_version'\n",
       "24. 'is.na.POSIXlt'\n",
       "25. 'is.na&lt;-'\n",
       "26. 'is.na&lt;-.default'\n",
       "27. 'is.na&lt;-.factor'\n",
       "28. 'is.na&lt;-.numeric_version'\n",
       "29. 'is.name'\n",
       "30. 'is.nan'\n",
       "31. 'is.null'\n",
       "32. 'is.numeric'\n",
       "33. 'is.numeric_version'\n",
       "34. 'is.numeric.Date'\n",
       "35. 'is.numeric.difftime'\n",
       "36. 'is.numeric.POSIXt'\n",
       "37. 'is.object'\n",
       "38. 'is.ordered'\n",
       "39. 'is.package_version'\n",
       "40. 'is.pairlist'\n",
       "41. 'is.primitive'\n",
       "42. 'is.qr'\n",
       "43. 'is.R'\n",
       "44. 'is.raw'\n",
       "45. 'is.recursive'\n",
       "46. 'is.single'\n",
       "47. 'is.symbol'\n",
       "48. 'is.table'\n",
       "49. 'is.unsorted'\n",
       "50. 'is.vector'\n",
       "51. 'isatty'\n",
       "52. 'isBaseNamespace'\n",
       "53. 'isdebugged'\n",
       "54. 'isIncomplete'\n",
       "55. 'isNamespace'\n",
       "56. 'isNamespaceLoaded'\n",
       "57. 'isOpen'\n",
       "58. 'isRestart'\n",
       "59. 'isS4'\n",
       "60. 'isSeekable'\n",
       "61. 'isSymmetric'\n",
       "62. 'isSymmetric.matrix'\n",
       "63. 'isTRUE'\n",
       "\n",
       "\n"
      ],
      "text/plain": [
       " [1] \"is.array\"                \"is.atomic\"              \n",
       " [3] \"is.call\"                 \"is.character\"           \n",
       " [5] \"is.complex\"              \"is.data.frame\"          \n",
       " [7] \"is.double\"               \"is.element\"             \n",
       " [9] \"is.environment\"          \"is.expression\"          \n",
       "[11] \"is.factor\"               \"is.finite\"              \n",
       "[13] \"is.function\"             \"is.infinite\"            \n",
       "[15] \"is.integer\"              \"is.language\"            \n",
       "[17] \"is.list\"                 \"is.loaded\"              \n",
       "[19] \"is.logical\"              \"is.matrix\"              \n",
       "[21] \"is.na\"                   \"is.na.data.frame\"       \n",
       "[23] \"is.na.numeric_version\"   \"is.na.POSIXlt\"          \n",
       "[25] \"is.na<-\"                 \"is.na<-.default\"        \n",
       "[27] \"is.na<-.factor\"          \"is.na<-.numeric_version\"\n",
       "[29] \"is.name\"                 \"is.nan\"                 \n",
       "[31] \"is.null\"                 \"is.numeric\"             \n",
       "[33] \"is.numeric_version\"      \"is.numeric.Date\"        \n",
       "[35] \"is.numeric.difftime\"     \"is.numeric.POSIXt\"      \n",
       "[37] \"is.object\"               \"is.ordered\"             \n",
       "[39] \"is.package_version\"      \"is.pairlist\"            \n",
       "[41] \"is.primitive\"            \"is.qr\"                  \n",
       "[43] \"is.R\"                    \"is.raw\"                 \n",
       "[45] \"is.recursive\"            \"is.single\"              \n",
       "[47] \"is.symbol\"               \"is.table\"               \n",
       "[49] \"is.unsorted\"             \"is.vector\"              \n",
       "[51] \"isatty\"                  \"isBaseNamespace\"        \n",
       "[53] \"isdebugged\"              \"isIncomplete\"           \n",
       "[55] \"isNamespace\"             \"isNamespaceLoaded\"      \n",
       "[57] \"isOpen\"                  \"isRestart\"              \n",
       "[59] \"isS4\"                    \"isSeekable\"             \n",
       "[61] \"isSymmetric\"             \"isSymmetric.matrix\"     \n",
       "[63] \"isTRUE\"                 "
      ]
     },
     "metadata": {},
     "output_type": "display_data"
    }
   ],
   "source": [
    "ls(pattern = \"^is\", baseenv())"
   ]
  },
  {
   "cell_type": "markdown",
   "metadata": {
    "deletable": true,
    "editable": true
   },
   "source": [
    "Una rareza es que `is.numeric` devuelve `TRUE` para enteros así como valores de punto flotante. Si queremos probar sólo números de coma flotante, entonces debemos usar `is.double`. Sin embargo, esto no suele ser necesario, ya que R está diseñado para que los valores de punto flotante y enteros se puedan usar de forma más o menos intercambiable. En los siguientes ejemplos, tenga en cuenta que al añadir el sufijo L el número se convierte en un entero:"
   ]
  },
  {
   "cell_type": "code",
   "execution_count": 25,
   "metadata": {
    "collapsed": false,
    "deletable": true,
    "editable": true
   },
   "outputs": [
    {
     "data": {
      "text/html": [
       "TRUE"
      ],
      "text/latex": [
       "TRUE"
      ],
      "text/markdown": [
       "TRUE"
      ],
      "text/plain": [
       "[1] TRUE"
      ]
     },
     "metadata": {},
     "output_type": "display_data"
    }
   ],
   "source": [
    "is.numeric(3)"
   ]
  },
  {
   "cell_type": "code",
   "execution_count": 26,
   "metadata": {
    "collapsed": false,
    "deletable": true,
    "editable": true
   },
   "outputs": [
    {
     "data": {
      "text/html": [
       "TRUE"
      ],
      "text/latex": [
       "TRUE"
      ],
      "text/markdown": [
       "TRUE"
      ],
      "text/plain": [
       "[1] TRUE"
      ]
     },
     "metadata": {},
     "output_type": "display_data"
    }
   ],
   "source": [
    "is.numeric(3L)"
   ]
  },
  {
   "cell_type": "code",
   "execution_count": 27,
   "metadata": {
    "collapsed": false,
    "deletable": true,
    "editable": true
   },
   "outputs": [
    {
     "data": {
      "text/html": [
       "FALSE"
      ],
      "text/latex": [
       "FALSE"
      ],
      "text/markdown": [
       "FALSE"
      ],
      "text/plain": [
       "[1] FALSE"
      ]
     },
     "metadata": {},
     "output_type": "display_data"
    }
   ],
   "source": [
    "is.integer(3)"
   ]
  },
  {
   "cell_type": "code",
   "execution_count": 28,
   "metadata": {
    "collapsed": false,
    "deletable": true,
    "editable": true
   },
   "outputs": [
    {
     "data": {
      "text/html": [
       "TRUE"
      ],
      "text/latex": [
       "TRUE"
      ],
      "text/markdown": [
       "TRUE"
      ],
      "text/plain": [
       "[1] TRUE"
      ]
     },
     "metadata": {},
     "output_type": "display_data"
    }
   ],
   "source": [
    "is.integer(3L)"
   ]
  },
  {
   "cell_type": "code",
   "execution_count": 29,
   "metadata": {
    "collapsed": false,
    "deletable": true,
    "editable": true
   },
   "outputs": [
    {
     "data": {
      "text/html": [
       "TRUE"
      ],
      "text/latex": [
       "TRUE"
      ],
      "text/markdown": [
       "TRUE"
      ],
      "text/plain": [
       "[1] TRUE"
      ]
     },
     "metadata": {},
     "output_type": "display_data"
    }
   ],
   "source": [
    "is.double(4)"
   ]
  },
  {
   "cell_type": "code",
   "execution_count": 30,
   "metadata": {
    "collapsed": false,
    "deletable": true,
    "editable": true
   },
   "outputs": [
    {
     "data": {
      "text/html": [
       "FALSE"
      ],
      "text/latex": [
       "FALSE"
      ],
      "text/markdown": [
       "FALSE"
      ],
      "text/plain": [
       "[1] FALSE"
      ]
     },
     "metadata": {},
     "output_type": "display_data"
    }
   ],
   "source": [
    "is.double(4L)"
   ]
  },
  {
   "cell_type": "markdown",
   "metadata": {
    "deletable": true,
    "editable": true
   },
   "source": [
    "A veces deseamos cambiar el tipo de un objeto. Esto se llama `casting`  y la mayoría de  funciones `is*` tienen una función correspondiente `as*` para lograrlo. Las funciones especializadas como `as*` deben  ser usadas sobre `as`  cuando estén disponibles, ya que son generalmente más eficientes y a menudo contienen una lógica adicional específica para cada clase. Por ejemplo, al convertir una cadena a un número, `as.numeric` es ligeramente más eficiente que `as`, pero cualquiera de ellas puede ser utilizada:"
   ]
  },
  {
   "cell_type": "code",
   "execution_count": 31,
   "metadata": {
    "collapsed": false,
    "deletable": true,
    "editable": true
   },
   "outputs": [
    {
     "data": {
      "text/html": [
       "123.456"
      ],
      "text/latex": [
       "123.456"
      ],
      "text/markdown": [
       "123.456"
      ],
      "text/plain": [
       "[1] 123.456"
      ]
     },
     "metadata": {},
     "output_type": "display_data"
    }
   ],
   "source": [
    "x <- \"123.456\"\n",
    "as(x, \"numeric\")"
   ]
  },
  {
   "cell_type": "code",
   "execution_count": 32,
   "metadata": {
    "collapsed": false,
    "deletable": true,
    "editable": true
   },
   "outputs": [
    {
     "data": {
      "text/html": [
       "123.456"
      ],
      "text/latex": [
       "123.456"
      ],
      "text/markdown": [
       "123.456"
      ],
      "text/plain": [
       "[1] 123.456"
      ]
     },
     "metadata": {},
     "output_type": "display_data"
    }
   ],
   "source": [
    "as.numeric(x)"
   ]
  },
  {
   "cell_type": "markdown",
   "metadata": {
    "deletable": true,
    "editable": true
   },
   "source": [
    "En este  ejemplo, sin embargo, el convertir un vector en un data frame, la función `as` lanza un error:"
   ]
  },
  {
   "cell_type": "code",
   "execution_count": 33,
   "metadata": {
    "collapsed": false,
    "deletable": true,
    "editable": true
   },
   "outputs": [
    {
     "ename": "ERROR",
     "evalue": "Error in as(y, \"data.frame\"): no method or default for coercing “numeric” to “data.frame”\n",
     "output_type": "error",
     "traceback": [
      "Error in as(y, \"data.frame\"): no method or default for coercing “numeric” to “data.frame”\nTraceback:\n",
      "1. as(y, \"data.frame\")",
      "2. stop(gettextf(\"no method or default for coercing %s to %s\", dQuote(thisClass), \n .     dQuote(Class)), domain = NA)"
     ]
    }
   ],
   "source": [
    "y <- c(2, 12, 343, 34997)\n",
    "as(y, \"data.frame\")\n",
    "as.data.frame(y)"
   ]
  },
  {
   "cell_type": "markdown",
   "metadata": {
    "deletable": true,
    "editable": true
   },
   "source": [
    "## Examinando Variables\n",
    "\n",
    "Siempre que hayamos hecho un cálculo o el nombre de una variable en la consola de R, el resultado se imprime. Esto sucede porque R llama implícitamente al método `print` del objeto.\n",
    "\n",
    "Por lo tanto, escribir `1 + 1` en la consola de R, es lo mismo que `print(1 + 1)`.\n",
    "\n",
    "Dentro de bucles o funciones, la impresión automática no ocurre, por lo que tenemos que llamar explícitamente a `print`:"
   ]
  },
  {
   "cell_type": "code",
   "execution_count": 34,
   "metadata": {
    "collapsed": false,
    "deletable": true,
    "editable": true
   },
   "outputs": [
    {
     "name": "stdout",
     "output_type": "stream",
     "text": [
      "[1] 1\n",
      "[1] 8\n",
      "[1] 23\n",
      "[1] 46\n",
      "[1] 77\n"
     ]
    }
   ],
   "source": [
    "ulams_spiral <- c(1, 8, 23, 46, 77)\n",
    "for(i in ulams_spiral) i # estos valores no se imprimen\n",
    "for(i in ulams_spiral) print(i)"
   ]
  },
  {
   "cell_type": "markdown",
   "metadata": {
    "collapsed": true,
    "deletable": true,
    "editable": true
   },
   "source": [
    "Esto también es cierto en algunos sistemas se ejecuta R desde un terminal en lugar de usar una `GUI` o un  `IDE`. En este caso, siempre tendrá que llamar explícitamente a la función `print`.\n",
    "\n",
    "La mayoría de las funciones de impresión se basan en llamadas a la función  de bajo nivel `cat`. Casi nunca tendrás que llamar a `cat` directamente (`print ` y `message` son  equivalentes a nivel de usuario), pero vale la pena saber  en caso de que necesites escribir tu propia función `print`.\n",
    "\n",
    "Además de ver la impresión de una variable, a menudo es útil ver algún tipo de resumen del objeto. La función `summary` hace exactamente eso, dando la información apropiada para diferentes tipos de datos. Las variables numéricas se resumen como media, mediana y algunos cuantiles. Aquí, la función `runif` genera 30 números aleatorios que están uniformemente distribuidos entre `0` y `1`:"
   ]
  },
  {
   "cell_type": "code",
   "execution_count": 35,
   "metadata": {
    "collapsed": false,
    "deletable": true,
    "editable": true
   },
   "outputs": [
    {
     "data": {
      "text/plain": [
       "   Min. 1st Qu.  Median    Mean 3rd Qu.    Max. \n",
       " 0.0157  0.2374  0.4269  0.4493  0.6273  0.9978 "
      ]
     },
     "metadata": {},
     "output_type": "display_data"
    }
   ],
   "source": [
    "num <- runif(30)\n",
    "summary(num)"
   ]
  },
  {
   "cell_type": "markdown",
   "metadata": {
    "deletable": true,
    "editable": true
   },
   "source": [
    "Los vectores categóricos y lógicos se resumen por los conteos de cada valor. En este ejemplo siguiente, `letters` es una constante incorporada que contiene los valores en minúsculas de `a` a la `z` (`LETTERS` contiene los equivalentes en mayúsculas, `A` a `Z`). Aquí, `letters[1: 8]` usan la indexación para restringir las letras a `a` a `h`. La función  `sample` realiza un muestreo aleatorio de estos valores, con `replace`, `30` veces:"
   ]
  },
  {
   "cell_type": "code",
   "execution_count": 36,
   "metadata": {
    "collapsed": false,
    "deletable": true,
    "editable": true
   },
   "outputs": [
    {
     "data": {
      "text/html": [
       "<dl class=dl-horizontal>\n",
       "\t<dt>a</dt>\n",
       "\t\t<dd>3</dd>\n",
       "\t<dt>b</dt>\n",
       "\t\t<dd>2</dd>\n",
       "\t<dt>c</dt>\n",
       "\t\t<dd>4</dd>\n",
       "\t<dt>d</dt>\n",
       "\t\t<dd>1</dd>\n",
       "\t<dt>e</dt>\n",
       "\t\t<dd>4</dd>\n",
       "\t<dt>f</dt>\n",
       "\t\t<dd>4</dd>\n",
       "\t<dt>g</dt>\n",
       "\t\t<dd>4</dd>\n",
       "\t<dt>h</dt>\n",
       "\t\t<dd>8</dd>\n",
       "</dl>\n"
      ],
      "text/latex": [
       "\\begin{description*}\n",
       "\\item[a] 3\n",
       "\\item[b] 2\n",
       "\\item[c] 4\n",
       "\\item[d] 1\n",
       "\\item[e] 4\n",
       "\\item[f] 4\n",
       "\\item[g] 4\n",
       "\\item[h] 8\n",
       "\\end{description*}\n"
      ],
      "text/markdown": [
       "a\n",
       ":   3b\n",
       ":   2c\n",
       ":   4d\n",
       ":   1e\n",
       ":   4f\n",
       ":   4g\n",
       ":   4h\n",
       ":   8\n",
       "\n"
      ],
      "text/plain": [
       "a b c d e f g h \n",
       "3 2 4 1 4 4 4 8 "
      ]
     },
     "metadata": {},
     "output_type": "display_data"
    }
   ],
   "source": [
    "fac <- factor(sample(letters[1:8], 30, replace = TRUE))\n",
    "summary(fac)"
   ]
  },
  {
   "cell_type": "code",
   "execution_count": 37,
   "metadata": {
    "collapsed": false,
    "deletable": true,
    "editable": true
   },
   "outputs": [
    {
     "data": {
      "text/plain": [
       "   Mode   FALSE    TRUE    NA's \n",
       "logical       9       6      15 "
      ]
     },
     "metadata": {},
     "output_type": "display_data"
    }
   ],
   "source": [
    "bool <- sample(c(TRUE, FALSE, NA), 30, replace = TRUE)\n",
    "summary(bool)"
   ]
  },
  {
   "cell_type": "markdown",
   "metadata": {
    "deletable": true,
    "editable": true
   },
   "source": [
    "Los objetos multidimensionales, como matrices y data frames, se resumen en columnas. En un  data frame  `dfr` de `30` filas y objetos más  grandes es necesario reducir la información, usando la función `head` que  se puede utilizar para mostrar sólo las primeras filas (seis por defecto):"
   ]
  },
  {
   "cell_type": "code",
   "execution_count": 38,
   "metadata": {
    "collapsed": false,
    "deletable": true,
    "editable": true
   },
   "outputs": [
    {
     "data": {
      "text/html": [
       "<table>\n",
       "<thead><tr><th scope=col>num</th><th scope=col>fac</th><th scope=col>bool</th></tr></thead>\n",
       "<tbody>\n",
       "\t<tr><td>0.6419013</td><td>d        </td><td>FALSE    </td></tr>\n",
       "\t<tr><td>0.1282398</td><td>c        </td><td>FALSE    </td></tr>\n",
       "\t<tr><td>0.3619310</td><td>h        </td><td>FALSE    </td></tr>\n",
       "\t<tr><td>0.9860313</td><td>h        </td><td>   NA    </td></tr>\n",
       "\t<tr><td>0.9977651</td><td>g        </td><td>   NA    </td></tr>\n",
       "\t<tr><td>0.7575694</td><td>h        </td><td>   NA    </td></tr>\n",
       "</tbody>\n",
       "</table>\n"
      ],
      "text/latex": [
       "\\begin{tabular}{r|lll}\n",
       " num & fac & bool\\\\\n",
       "\\hline\n",
       "\t 0.6419013 & d         & FALSE    \\\\\n",
       "\t 0.1282398 & c         & FALSE    \\\\\n",
       "\t 0.3619310 & h         & FALSE    \\\\\n",
       "\t 0.9860313 & h         &    NA    \\\\\n",
       "\t 0.9977651 & g         &    NA    \\\\\n",
       "\t 0.7575694 & h         &    NA    \\\\\n",
       "\\end{tabular}\n"
      ],
      "text/markdown": [
       "\n",
       "num | fac | bool | \n",
       "|---|---|---|---|---|---|\n",
       "| 0.6419013 | d         | FALSE     | \n",
       "| 0.1282398 | c         | FALSE     | \n",
       "| 0.3619310 | h         | FALSE     | \n",
       "| 0.9860313 | h         |    NA     | \n",
       "| 0.9977651 | g         |    NA     | \n",
       "| 0.7575694 | h         |    NA     | \n",
       "\n",
       "\n"
      ],
      "text/plain": [
       "  num       fac bool \n",
       "1 0.6419013 d   FALSE\n",
       "2 0.1282398 c   FALSE\n",
       "3 0.3619310 h   FALSE\n",
       "4 0.9860313 h      NA\n",
       "5 0.9977651 g      NA\n",
       "6 0.7575694 h      NA"
      ]
     },
     "metadata": {},
     "output_type": "display_data"
    }
   ],
   "source": [
    "dfr <- data.frame(num, fac, bool)\n",
    "head(dfr)"
   ]
  },
  {
   "cell_type": "markdown",
   "metadata": {
    "deletable": true,
    "editable": true
   },
   "source": [
    "La función `summary` para data frames  funciona como  cuando  llamamos a  `summary `en cada columna individual:"
   ]
  },
  {
   "cell_type": "code",
   "execution_count": 39,
   "metadata": {
    "collapsed": false,
    "deletable": true,
    "editable": true
   },
   "outputs": [
    {
     "data": {
      "text/plain": [
       "      num              fac       bool        \n",
       " Min.   :0.0157   h      :8   Mode :logical  \n",
       " 1st Qu.:0.2374   c      :4   FALSE:9        \n",
       " Median :0.4269   e      :4   TRUE :6        \n",
       " Mean   :0.4493   f      :4   NA's :15       \n",
       " 3rd Qu.:0.6273   g      :4                  \n",
       " Max.   :0.9978   a      :3                  \n",
       "                  (Other):3                  "
      ]
     },
     "metadata": {},
     "output_type": "display_data"
    }
   ],
   "source": [
    "summary(dfr)"
   ]
  },
  {
   "cell_type": "markdown",
   "metadata": {
    "deletable": true,
    "editable": true
   },
   "source": [
    "Del mismo modo, la función `str` muestra la estructura del objeto. No es tan interesante para los vectores, pero `str` es muy útil para los data frames y listas anidadas:"
   ]
  },
  {
   "cell_type": "code",
   "execution_count": 40,
   "metadata": {
    "collapsed": false,
    "deletable": true,
    "editable": true
   },
   "outputs": [
    {
     "name": "stdout",
     "output_type": "stream",
     "text": [
      " num [1:30] 0.642 0.128 0.362 0.986 0.998 ...\n"
     ]
    }
   ],
   "source": [
    "str(num)"
   ]
  },
  {
   "cell_type": "code",
   "execution_count": 41,
   "metadata": {
    "collapsed": false,
    "deletable": true,
    "editable": true
   },
   "outputs": [
    {
     "name": "stdout",
     "output_type": "stream",
     "text": [
      "'data.frame':\t30 obs. of  3 variables:\n",
      " $ num : num  0.642 0.128 0.362 0.986 0.998 ...\n",
      " $ fac : Factor w/ 8 levels \"a\",\"b\",\"c\",\"d\",..: 4 3 8 8 7 8 7 3 6 1 ...\n",
      " $ bool: logi  FALSE FALSE FALSE NA NA NA ...\n"
     ]
    }
   ],
   "source": [
    "str(dfr)"
   ]
  },
  {
   "cell_type": "markdown",
   "metadata": {
    "collapsed": true,
    "deletable": true,
    "editable": true
   },
   "source": [
    "Cada clase  tiene su propio método `print` que controla cómo se muestra en la consola. A veces esta impresión oscurece su estructura interna o omite información útil. La función `unclass` se puede utilizar para evitarlo, permitiendo ver cómo se construye una variable. Por ejemplo, llamar a `unclass` en un factor revela que es sólo un vector entero, con un atributo llamado `levels`:"
   ]
  },
  {
   "cell_type": "code",
   "execution_count": 43,
   "metadata": {
    "collapsed": false,
    "deletable": true,
    "editable": true
   },
   "outputs": [
    {
     "data": {
      "text/html": [
       "<ol class=list-inline>\n",
       "\t<li>4</li>\n",
       "\t<li>3</li>\n",
       "\t<li>8</li>\n",
       "\t<li>8</li>\n",
       "\t<li>7</li>\n",
       "\t<li>8</li>\n",
       "\t<li>7</li>\n",
       "\t<li>3</li>\n",
       "\t<li>6</li>\n",
       "\t<li>1</li>\n",
       "\t<li>8</li>\n",
       "\t<li>1</li>\n",
       "\t<li>5</li>\n",
       "\t<li>7</li>\n",
       "\t<li>5</li>\n",
       "\t<li>5</li>\n",
       "\t<li>7</li>\n",
       "\t<li>8</li>\n",
       "\t<li>1</li>\n",
       "\t<li>8</li>\n",
       "\t<li>2</li>\n",
       "\t<li>3</li>\n",
       "\t<li>5</li>\n",
       "\t<li>8</li>\n",
       "\t<li>3</li>\n",
       "\t<li>8</li>\n",
       "\t<li>6</li>\n",
       "\t<li>2</li>\n",
       "\t<li>6</li>\n",
       "\t<li>6</li>\n",
       "</ol>\n"
      ],
      "text/latex": [
       "\\begin{enumerate*}\n",
       "\\item 4\n",
       "\\item 3\n",
       "\\item 8\n",
       "\\item 8\n",
       "\\item 7\n",
       "\\item 8\n",
       "\\item 7\n",
       "\\item 3\n",
       "\\item 6\n",
       "\\item 1\n",
       "\\item 8\n",
       "\\item 1\n",
       "\\item 5\n",
       "\\item 7\n",
       "\\item 5\n",
       "\\item 5\n",
       "\\item 7\n",
       "\\item 8\n",
       "\\item 1\n",
       "\\item 8\n",
       "\\item 2\n",
       "\\item 3\n",
       "\\item 5\n",
       "\\item 8\n",
       "\\item 3\n",
       "\\item 8\n",
       "\\item 6\n",
       "\\item 2\n",
       "\\item 6\n",
       "\\item 6\n",
       "\\end{enumerate*}\n"
      ],
      "text/markdown": [
       "1. 4\n",
       "2. 3\n",
       "3. 8\n",
       "4. 8\n",
       "5. 7\n",
       "6. 8\n",
       "7. 7\n",
       "8. 3\n",
       "9. 6\n",
       "10. 1\n",
       "11. 8\n",
       "12. 1\n",
       "13. 5\n",
       "14. 7\n",
       "15. 5\n",
       "16. 5\n",
       "17. 7\n",
       "18. 8\n",
       "19. 1\n",
       "20. 8\n",
       "21. 2\n",
       "22. 3\n",
       "23. 5\n",
       "24. 8\n",
       "25. 3\n",
       "26. 8\n",
       "27. 6\n",
       "28. 2\n",
       "29. 6\n",
       "30. 6\n",
       "\n",
       "\n"
      ],
      "text/plain": [
       " [1] 4 3 8 8 7 8 7 3 6 1 8 1 5 7 5 5 7 8 1 8 2 3 5 8 3 8 6 2 6 6\n",
       "attr(,\"levels\")\n",
       "[1] \"a\" \"b\" \"c\" \"d\" \"e\" \"f\" \"g\" \"h\""
      ]
     },
     "metadata": {},
     "output_type": "display_data"
    }
   ],
   "source": [
    "help(unclass)\n",
    "unclass(fac)"
   ]
  },
  {
   "cell_type": "markdown",
   "metadata": {
    "deletable": true,
    "editable": true
   },
   "source": [
    "Es útil saber que la función  `attributes` proporciona una lista de todos los atributos que pertenecen a un objeto:"
   ]
  },
  {
   "cell_type": "code",
   "execution_count": 44,
   "metadata": {
    "collapsed": false,
    "deletable": true,
    "editable": true
   },
   "outputs": [
    {
     "data": {
      "text/html": [
       "<dl>\n",
       "\t<dt>$levels</dt>\n",
       "\t\t<dd><ol class=list-inline>\n",
       "\t<li>'a'</li>\n",
       "\t<li>'b'</li>\n",
       "\t<li>'c'</li>\n",
       "\t<li>'d'</li>\n",
       "\t<li>'e'</li>\n",
       "\t<li>'f'</li>\n",
       "\t<li>'g'</li>\n",
       "\t<li>'h'</li>\n",
       "</ol>\n",
       "</dd>\n",
       "\t<dt>$class</dt>\n",
       "\t\t<dd>'factor'</dd>\n",
       "</dl>\n"
      ],
      "text/latex": [
       "\\begin{description}\n",
       "\\item[\\$levels] \\begin{enumerate*}\n",
       "\\item 'a'\n",
       "\\item 'b'\n",
       "\\item 'c'\n",
       "\\item 'd'\n",
       "\\item 'e'\n",
       "\\item 'f'\n",
       "\\item 'g'\n",
       "\\item 'h'\n",
       "\\end{enumerate*}\n",
       "\n",
       "\\item[\\$class] 'factor'\n",
       "\\end{description}\n"
      ],
      "text/markdown": [
       "$levels\n",
       ":   1. 'a'\n",
       "2. 'b'\n",
       "3. 'c'\n",
       "4. 'd'\n",
       "5. 'e'\n",
       "6. 'f'\n",
       "7. 'g'\n",
       "8. 'h'\n",
       "\n",
       "\n",
       "\n",
       "$class\n",
       ":   'factor'\n",
       "\n",
       "\n"
      ],
      "text/plain": [
       "$levels\n",
       "[1] \"a\" \"b\" \"c\" \"d\" \"e\" \"f\" \"g\" \"h\"\n",
       "\n",
       "$class\n",
       "[1] \"factor\"\n"
      ]
     },
     "metadata": {},
     "output_type": "display_data"
    }
   ],
   "source": [
    "attributes(fac)"
   ]
  },
  {
   "cell_type": "code",
   "execution_count": 46,
   "metadata": {
    "collapsed": false,
    "deletable": true,
    "editable": true
   },
   "outputs": [
    {
     "name": "stdout",
     "output_type": "stream",
     "text": [
      " int [1:2, 1:2] 1 2 3 4\n",
      " - attr(*, \"dimnames\")=List of 2\n",
      "  ..$ : chr [1:2] \"a\" \"b\"\n",
      "  ..$ : chr [1:2] \"A\" \"B\"\n"
     ]
    }
   ],
   "source": [
    "# Ejemplo 1\n",
    "\n",
    "a <- matrix(1:4, nr=2)\n",
    "rownames(a) <- letters[1:2]\n",
    "colnames(a) <- LETTERS[1:2]\n",
    "\n",
    "str(a)"
   ]
  },
  {
   "cell_type": "code",
   "execution_count": 47,
   "metadata": {
    "collapsed": false,
    "deletable": true,
    "editable": true
   },
   "outputs": [
    {
     "data": {
      "text/html": [
       "<table>\n",
       "<thead><tr><th></th><th scope=col>A</th><th scope=col>B</th></tr></thead>\n",
       "<tbody>\n",
       "\t<tr><th scope=row>a</th><td>1</td><td>3</td></tr>\n",
       "\t<tr><th scope=row>b</th><td>2</td><td>4</td></tr>\n",
       "</tbody>\n",
       "</table>\n"
      ],
      "text/latex": [
       "\\begin{tabular}{r|ll}\n",
       "  & A & B\\\\\n",
       "\\hline\n",
       "\ta & 1 & 3\\\\\n",
       "\tb & 2 & 4\\\\\n",
       "\\end{tabular}\n"
      ],
      "text/markdown": [
       "\n",
       "| <!--/--> | A | B | \n",
       "|---|---|\n",
       "| a | 1 | 3 | \n",
       "| b | 2 | 4 | \n",
       "\n",
       "\n"
      ],
      "text/plain": [
       "  A B\n",
       "a 1 3\n",
       "b 2 4"
      ]
     },
     "metadata": {},
     "output_type": "display_data"
    }
   ],
   "source": [
    "unclass(a)"
   ]
  },
  {
   "cell_type": "code",
   "execution_count": 48,
   "metadata": {
    "collapsed": false,
    "deletable": true,
    "editable": true
   },
   "outputs": [
    {
     "data": {
      "text/html": [
       "<dl>\n",
       "\t<dt>$dim</dt>\n",
       "\t\t<dd><ol class=list-inline>\n",
       "\t<li>2</li>\n",
       "\t<li>2</li>\n",
       "</ol>\n",
       "</dd>\n",
       "\t<dt>$dimnames</dt>\n",
       "\t\t<dd><ol>\n",
       "\t<li><ol class=list-inline>\n",
       "\t<li>'a'</li>\n",
       "\t<li>'b'</li>\n",
       "</ol>\n",
       "</li>\n",
       "\t<li><ol class=list-inline>\n",
       "\t<li>'A'</li>\n",
       "\t<li>'B'</li>\n",
       "</ol>\n",
       "</li>\n",
       "</ol>\n",
       "</dd>\n",
       "</dl>\n"
      ],
      "text/latex": [
       "\\begin{description}\n",
       "\\item[\\$dim] \\begin{enumerate*}\n",
       "\\item 2\n",
       "\\item 2\n",
       "\\end{enumerate*}\n",
       "\n",
       "\\item[\\$dimnames] \\begin{enumerate}\n",
       "\\item \\begin{enumerate*}\n",
       "\\item 'a'\n",
       "\\item 'b'\n",
       "\\end{enumerate*}\n",
       "\n",
       "\\item \\begin{enumerate*}\n",
       "\\item 'A'\n",
       "\\item 'B'\n",
       "\\end{enumerate*}\n",
       "\n",
       "\\end{enumerate}\n",
       "\n",
       "\\end{description}\n"
      ],
      "text/markdown": [
       "$dim\n",
       ":   1. 2\n",
       "2. 2\n",
       "\n",
       "\n",
       "\n",
       "$dimnames\n",
       ":   1. 1. 'a'\n",
       "2. 'b'\n",
       "\n",
       "\n",
       "\n",
       "2. 1. 'A'\n",
       "2. 'B'\n",
       "\n",
       "\n",
       "\n",
       "\n",
       "\n",
       "\n",
       "\n",
       "\n"
      ],
      "text/plain": [
       "$dim\n",
       "[1] 2 2\n",
       "\n",
       "$dimnames\n",
       "$dimnames[[1]]\n",
       "[1] \"a\" \"b\"\n",
       "\n",
       "$dimnames[[2]]\n",
       "[1] \"A\" \"B\"\n",
       "\n"
      ]
     },
     "metadata": {},
     "output_type": "display_data"
    }
   ],
   "source": [
    "attributes(a)"
   ]
  },
  {
   "cell_type": "code",
   "execution_count": 49,
   "metadata": {
    "collapsed": false,
    "deletable": true,
    "editable": true
   },
   "outputs": [
    {
     "data": {
      "text/html": [
       "'loadings'"
      ],
      "text/latex": [
       "'loadings'"
      ],
      "text/markdown": [
       "'loadings'"
      ],
      "text/plain": [
       "[1] \"loadings\""
      ]
     },
     "metadata": {},
     "output_type": "display_data"
    }
   ],
   "source": [
    "# Ejemplo 2\n",
    "\n",
    "data(USArrests)\n",
    "r <- princomp(USArrests)$loadings\n",
    "\n",
    "class(r)"
   ]
  },
  {
   "cell_type": "code",
   "execution_count": 50,
   "metadata": {
    "collapsed": false,
    "deletable": true,
    "editable": true
   },
   "outputs": [
    {
     "data": {
      "text/html": [
       "<table>\n",
       "<thead><tr><th></th><th scope=col>Comp.1</th><th scope=col>Comp.2</th><th scope=col>Comp.3</th><th scope=col>Comp.4</th></tr></thead>\n",
       "<tbody>\n",
       "\t<tr><th scope=row>Murder</th><td>-0.04170432</td><td> 0.04482166</td><td> 0.07989066</td><td> 0.99492173</td></tr>\n",
       "\t<tr><th scope=row>Assault</th><td>-0.99522128</td><td> 0.05876003</td><td>-0.06756974</td><td>-0.03893830</td></tr>\n",
       "\t<tr><th scope=row>UrbanPop</th><td>-0.04633575</td><td>-0.97685748</td><td>-0.20054629</td><td> 0.05816914</td></tr>\n",
       "\t<tr><th scope=row>Rape</th><td>-0.07515550</td><td>-0.20071807</td><td> 0.97408059</td><td>-0.07232502</td></tr>\n",
       "</tbody>\n",
       "</table>\n"
      ],
      "text/latex": [
       "\\begin{tabular}{r|llll}\n",
       "  & Comp.1 & Comp.2 & Comp.3 & Comp.4\\\\\n",
       "\\hline\n",
       "\tMurder & -0.04170432 &  0.04482166 &  0.07989066 &  0.99492173\\\\\n",
       "\tAssault & -0.99522128 &  0.05876003 & -0.06756974 & -0.03893830\\\\\n",
       "\tUrbanPop & -0.04633575 & -0.97685748 & -0.20054629 &  0.05816914\\\\\n",
       "\tRape & -0.07515550 & -0.20071807 &  0.97408059 & -0.07232502\\\\\n",
       "\\end{tabular}\n"
      ],
      "text/markdown": [
       "\n",
       "| <!--/--> | Comp.1 | Comp.2 | Comp.3 | Comp.4 | \n",
       "|---|---|---|---|\n",
       "| Murder | -0.04170432 |  0.04482166 |  0.07989066 |  0.99492173 | \n",
       "| Assault | -0.99522128 |  0.05876003 | -0.06756974 | -0.03893830 | \n",
       "| UrbanPop | -0.04633575 | -0.97685748 | -0.20054629 |  0.05816914 | \n",
       "| Rape | -0.07515550 | -0.20071807 |  0.97408059 | -0.07232502 | \n",
       "\n",
       "\n"
      ],
      "text/plain": [
       "         Comp.1      Comp.2      Comp.3      Comp.4     \n",
       "Murder   -0.04170432  0.04482166  0.07989066  0.99492173\n",
       "Assault  -0.99522128  0.05876003 -0.06756974 -0.03893830\n",
       "UrbanPop -0.04633575 -0.97685748 -0.20054629  0.05816914\n",
       "Rape     -0.07515550 -0.20071807  0.97408059 -0.07232502"
      ]
     },
     "metadata": {},
     "output_type": "display_data"
    }
   ],
   "source": [
    "unclass(r)"
   ]
  },
  {
   "cell_type": "code",
   "execution_count": 51,
   "metadata": {
    "collapsed": false,
    "deletable": true,
    "editable": true
   },
   "outputs": [
    {
     "name": "stdout",
     "output_type": "stream",
     "text": [
      "              Comp.1      Comp.2      Comp.3      Comp.4\n",
      "Murder   -0.04170432  0.04482166  0.07989066  0.99492173\n",
      "Assault  -0.99522128  0.05876003 -0.06756974 -0.03893830\n",
      "UrbanPop -0.04633575 -0.97685748 -0.20054629  0.05816914\n",
      "Rape     -0.07515550 -0.20071807  0.97408059 -0.07232502\n",
      "attr(,\"class\")\n",
      "[1] \"loadings\"\n"
     ]
    }
   ],
   "source": [
    "print.default(r)"
   ]
  },
  {
   "cell_type": "code",
   "execution_count": 52,
   "metadata": {
    "collapsed": false,
    "deletable": true,
    "editable": true
   },
   "outputs": [
    {
     "name": "stdout",
     "output_type": "stream",
     "text": [
      " loadings [1:4, 1:4] -0.0417 -0.9952 -0.0463 -0.0752 0.0448 ...\n",
      " - attr(*, \"dimnames\")=List of 2\n",
      "  ..$ : chr [1:4] \"Murder\" \"Assault\" \"UrbanPop\" \"Rape\"\n",
      "  ..$ : chr [1:4] \"Comp.1\" \"Comp.2\" \"Comp.3\" \"Comp.4\"\n"
     ]
    }
   ],
   "source": [
    " str(r)"
   ]
  },
  {
   "cell_type": "code",
   "execution_count": 53,
   "metadata": {
    "collapsed": true,
    "deletable": true,
    "editable": true
   },
   "outputs": [],
   "source": [
    "# Ejemplo 3\n",
    "\n",
    "n <- 200\n",
    "x <- rnorm(n)\n",
    "y <- 1 - 2 * x + rnorm(n)\n",
    "r1 <- lm(y~x)\n",
    "r2 <- summary(r1)"
   ]
  },
  {
   "cell_type": "code",
   "execution_count": 54,
   "metadata": {
    "collapsed": false,
    "deletable": true,
    "editable": true
   },
   "outputs": [
    {
     "name": "stdout",
     "output_type": "stream",
     "text": [
      "List of 12\n",
      " $ coefficients : Named num [1:2] 1.02 -2\n",
      "  ..- attr(*, \"names\")= chr [1:2] \"(Intercept)\" \"x\"\n",
      " $ residuals    : Named num [1:200] -0.219 0.861 0.418 -1.779 1.063 ...\n",
      "  ..- attr(*, \"names\")= chr [1:200] \"1\" \"2\" \"3\" \"4\" ...\n",
      " $ effects      : Named num [1:200] -14.9 -25.655 0.479 -1.765 1.056 ...\n",
      "  ..- attr(*, \"names\")= chr [1:200] \"(Intercept)\" \"x\" \"\" \"\" ...\n",
      " $ rank         : int 2\n",
      " $ fitted.values: Named num [1:200] -0.415 1.806 -0.445 0.985 1.599 ...\n",
      "  ..- attr(*, \"names\")= chr [1:200] \"1\" \"2\" \"3\" \"4\" ...\n",
      " $ assign       : int [1:2] 0 1\n",
      " $ qr           :List of 5\n",
      "  ..$ qr   : num [1:200, 1:2] -14.1421 0.0707 0.0707 0.0707 0.0707 ...\n",
      "  .. ..- attr(*, \"dimnames\")=List of 2\n",
      "  .. .. ..$ : chr [1:200] \"1\" \"2\" \"3\" \"4\" ...\n",
      "  .. .. ..$ : chr [1:2] \"(Intercept)\" \"x\"\n",
      "  .. ..- attr(*, \"assign\")= int [1:2] 0 1\n",
      "  ..$ qraux: num [1:2] 1.07 1.03\n",
      "  ..$ pivot: int [1:2] 1 2\n",
      "  ..$ tol  : num 1e-07\n",
      "  ..$ rank : int 2\n",
      "  ..- attr(*, \"class\")= chr \"qr\"\n",
      " $ df.residual  : int 198\n",
      " $ xlevels      : Named list()\n",
      " $ call         : language lm(formula = y ~ x)\n",
      " $ terms        :Classes 'terms', 'formula'  language y ~ x\n",
      "  .. ..- attr(*, \"variables\")= language list(y, x)\n",
      "  .. ..- attr(*, \"factors\")= int [1:2, 1] 0 1\n",
      "  .. .. ..- attr(*, \"dimnames\")=List of 2\n",
      "  .. .. .. ..$ : chr [1:2] \"y\" \"x\"\n",
      "  .. .. .. ..$ : chr \"x\"\n",
      "  .. ..- attr(*, \"term.labels\")= chr \"x\"\n",
      "  .. ..- attr(*, \"order\")= int 1\n",
      "  .. ..- attr(*, \"intercept\")= int 1\n",
      "  .. ..- attr(*, \"response\")= int 1\n",
      "  .. ..- attr(*, \".Environment\")=<environment: R_GlobalEnv> \n",
      "  .. ..- attr(*, \"predvars\")= language list(y, x)\n",
      "  .. ..- attr(*, \"dataClasses\")= Named chr [1:2] \"numeric\" \"numeric\"\n",
      "  .. .. ..- attr(*, \"names\")= chr [1:2] \"y\" \"x\"\n",
      " $ model        :'data.frame':\t200 obs. of  2 variables:\n",
      "  ..$ y: num [1:200] -0.6337 2.6672 -0.0266 -0.7936 2.6613 ...\n",
      "  ..$ x: num [1:200] 0.7138 -0.3942 0.7286 0.0153 -0.2906 ...\n",
      "  ..- attr(*, \"terms\")=Classes 'terms', 'formula'  language y ~ x\n",
      "  .. .. ..- attr(*, \"variables\")= language list(y, x)\n",
      "  .. .. ..- attr(*, \"factors\")= int [1:2, 1] 0 1\n",
      "  .. .. .. ..- attr(*, \"dimnames\")=List of 2\n",
      "  .. .. .. .. ..$ : chr [1:2] \"y\" \"x\"\n",
      "  .. .. .. .. ..$ : chr \"x\"\n",
      "  .. .. ..- attr(*, \"term.labels\")= chr \"x\"\n",
      "  .. .. ..- attr(*, \"order\")= int 1\n",
      "  .. .. ..- attr(*, \"intercept\")= int 1\n",
      "  .. .. ..- attr(*, \"response\")= int 1\n",
      "  .. .. ..- attr(*, \".Environment\")=<environment: R_GlobalEnv> \n",
      "  .. .. ..- attr(*, \"predvars\")= language list(y, x)\n",
      "  .. .. ..- attr(*, \"dataClasses\")= Named chr [1:2] \"numeric\" \"numeric\"\n",
      "  .. .. .. ..- attr(*, \"names\")= chr [1:2] \"y\" \"x\"\n",
      " - attr(*, \"class\")= chr \"lm\"\n"
     ]
    }
   ],
   "source": [
    "str(r1)"
   ]
  },
  {
   "cell_type": "code",
   "execution_count": 56,
   "metadata": {
    "collapsed": false,
    "deletable": true,
    "editable": true
   },
   "outputs": [
    {
     "data": {
      "text/plain": [
       "$coefficients\n",
       "(Intercept)           x \n",
       "   1.015937   -2.004828 \n",
       "\n",
       "$residuals\n",
       "           1            2            3            4            5            6 \n",
       "-0.218604684  0.860878242  0.418191841 -1.778879429  1.062722941  0.048911370 \n",
       "           7            8            9           10           11           12 \n",
       "-0.002063298 -0.987539743  1.025877152 -1.565124671  0.289392362  0.262456364 \n",
       "          13           14           15           16           17           18 \n",
       " 2.171501312 -2.147579902  1.954696715 -0.906116139  0.803979598 -1.073892627 \n",
       "          19           20           21           22           23           24 \n",
       "-0.505419194 -1.970814326 -0.609269939  0.409610390 -0.219459152  0.287701913 \n",
       "          25           26           27           28           29           30 \n",
       " 0.179305465 -1.541541739  0.289142909  0.433402154  0.198240179 -0.376572118 \n",
       "          31           32           33           34           35           36 \n",
       " 1.261610565  0.047974499 -1.452631640 -0.601391173  0.810539545  0.028250547 \n",
       "          37           38           39           40           41           42 \n",
       " 0.451808549 -1.845758487 -0.700097434  0.792335160  0.499731288 -0.301279910 \n",
       "          43           44           45           46           47           48 \n",
       "-0.103783594 -0.396239816  0.675271180 -1.310587720 -0.128412130  0.187110392 \n",
       "          49           50           51           52           53           54 \n",
       " 1.396862782  0.899385293 -1.644820953  1.198694708  1.096691420 -0.164532640 \n",
       "          55           56           57           58           59           60 \n",
       "-0.482204466 -0.232331619  0.143905956  0.075342986  0.015838558  0.471922349 \n",
       "          61           62           63           64           65           66 \n",
       "-1.613189230  0.274722089  1.319307070 -1.148509604  1.233754486 -1.601636872 \n",
       "          67           68           69           70           71           72 \n",
       " 0.163745581 -0.031605162  0.371302552 -2.838584037  0.611775127 -0.713023601 \n",
       "          73           74           75           76           77           78 \n",
       "-0.233470844  1.711424850 -0.222634297 -1.878751415  2.165122244  0.416595336 \n",
       "          79           80           81           82           83           84 \n",
       "-0.863011856  0.830035854  2.344600952 -0.349706076 -0.023991576 -1.452506965 \n",
       "          85           86           87           88           89           90 \n",
       " 1.339030079  1.521823623  0.375443097  0.639514582  0.672646343 -0.395484466 \n",
       "          91           92           93           94           95           96 \n",
       "-2.104131706  0.465272097  0.361183677  0.890119160 -0.116542191 -0.085151460 \n",
       "          97           98           99          100          101          102 \n",
       "-0.073064242 -0.582868282 -0.316017441 -0.031705530  0.196514162 -0.643386517 \n",
       "         103          104          105          106          107          108 \n",
       "-0.470886811  1.552188687  0.406138759 -0.025504956  0.208201738  1.085510663 \n",
       "         109          110          111          112          113          114 \n",
       " 0.098875154 -0.291698180  0.080631770  0.035900605  0.878114786  0.373282692 \n",
       "         115          116          117          118          119          120 \n",
       " 0.797452965  1.458369421  0.898761467 -0.948236353  0.462151131  0.388931599 \n",
       "         121          122          123          124          125          126 \n",
       "-1.091024361  0.087976853 -1.594239303  0.642610746  0.397892399  0.292794517 \n",
       "         127          128          129          130          131          132 \n",
       "-0.743261573  1.830989636  0.431384388  0.401766378  0.495950292 -0.637932945 \n",
       "         133          134          135          136          137          138 \n",
       "-0.130469810  0.528396166 -1.604237916  0.652494146  2.409210597 -0.707097594 \n",
       "         139          140          141          142          143          144 \n",
       "-0.669371632 -0.157432567 -1.564730818  0.236636626  0.733414306  0.091495850 \n",
       "         145          146          147          148          149          150 \n",
       "-1.196587182 -0.196914340 -1.591285151 -0.197991565 -0.629616141 -1.649844977 \n",
       "         151          152          153          154          155          156 \n",
       " 0.017930762  1.116611702 -0.526763961 -0.604866950  1.767888368 -0.622954189 \n",
       "         157          158          159          160          161          162 \n",
       "-1.225410331  1.677430073 -0.588742110 -0.645393207 -0.614665836  0.241782594 \n",
       "         163          164          165          166          167          168 \n",
       "-0.220390872 -0.570561814  0.153911988  0.760012629  0.341447535 -0.240100189 \n",
       "         169          170          171          172          173          174 \n",
       " 1.712826078  1.113000226  0.288957937 -0.911696641 -2.391314879  0.049371360 \n",
       "         175          176          177          178          179          180 \n",
       "-1.385582186  2.668323080  1.005022789 -0.396638015 -1.258960228  0.330924621 \n",
       "         181          182          183          184          185          186 \n",
       " 1.977935714 -0.759507481 -0.527158920  0.275576615 -0.052510603 -0.363826073 \n",
       "         187          188          189          190          191          192 \n",
       "-0.643453409 -0.221491168 -0.868160908 -1.296112146  0.391423668 -0.629150860 \n",
       "         193          194          195          196          197          198 \n",
       " 2.497862104 -0.068958342  1.169182854  2.468439516 -0.866682248 -0.951590653 \n",
       "         199          200 \n",
       "-0.556711065 -1.942964824 \n",
       "\n",
       "$effects\n",
       "  (Intercept)             x                                           \n",
       "-14.899809513 -25.654523929   0.478910613  -1.765390525   1.055958745 \n",
       "                                                                      \n",
       "  0.046392757  -0.114041405  -0.987557984   1.037712571  -1.640038379 \n",
       "                                                                      \n",
       "  0.321218241   0.375633211   2.213329838  -2.067486151   1.920451663 \n",
       "                                                                      \n",
       " -0.856839576   0.735385031  -1.044560656  -0.620694793  -1.955760405 \n",
       "                                                                      \n",
       " -0.520522524   0.379852593  -0.238357732   0.282862532   0.247638777 \n",
       "                                                                      \n",
       " -1.491585833   0.300159526   0.423071782   0.308074342  -0.338966168 \n",
       "                                                                      \n",
       "  1.280619451   0.146652710  -1.404283536  -0.620746772   0.847077600 \n",
       "                                                                      \n",
       "  0.182177484   0.459079705  -1.858407651  -0.649877781   0.750525744 \n",
       "                                                                      \n",
       "  0.592628419  -0.334474702  -0.170371797  -0.370483594   0.739509214 \n",
       "                                                                      \n",
       " -1.266183080  -0.142352085   0.148614601   1.391248434   0.951813370 \n",
       "                                                                      \n",
       " -1.732816301   1.211557149   1.176929559  -0.153328893  -0.449800103 \n",
       "                                                                      \n",
       " -0.164073849   0.192204736   0.119320234   0.043536754   0.404193548 \n",
       "                                                                      \n",
       " -1.602176968   0.216265320   1.350300749  -1.093478561   1.272866156 \n",
       "                                                                      \n",
       " -1.599794161   0.047078945   0.021858464   0.428042814  -2.989469131 \n",
       "                                                                      \n",
       "  0.583356336  -0.602645753  -0.247799817   1.788927008  -0.252239761 \n",
       "                                                                      \n",
       " -1.835194471   2.166398497   0.447900685  -0.882987675   0.804046569 \n",
       "                                                                      \n",
       "  2.437868221  -0.382737028   0.017109914  -1.474830647   1.308891507 \n",
       "                                                                      \n",
       "  1.627176806   0.431184084   0.689425733   0.647267065  -0.480047766 \n",
       "                                                                      \n",
       " -2.105763864   0.467585958   0.371338748   0.857508130  -0.056535184 \n",
       "                                                                      \n",
       " -0.008135584  -0.086378991  -0.504166017  -0.352285775  -0.054327623 \n",
       "                                                                      \n",
       "  0.203180867  -0.628538224  -0.409105710   1.597084601   0.378052416 \n",
       "                                                                      \n",
       "  0.040285488   0.164778000   1.055594788   0.119696444  -0.300252275 \n",
       "                                                                      \n",
       "  0.036062575   0.129107643   0.956603905   0.442344480   0.723820108 \n",
       "                                                                      \n",
       "  1.532951181   0.864782027  -0.956651979   0.431845059   0.408035702 \n",
       "                                                                      \n",
       " -1.019084962   0.121287629  -1.475793446   0.682967671   0.436965006 \n",
       "                                                                      \n",
       "  0.417754821  -0.771174463   1.903818085   0.342506261   0.413557347 \n",
       "                                                                      \n",
       "  0.586120150  -0.726619988  -0.240695558   0.424127758  -1.620434078 \n",
       "                                                                      \n",
       "  0.632019438   2.305707125  -0.686609164  -0.704661865  -0.116959894 \n",
       "                                                                      \n",
       " -1.676843489   0.243131567   0.809292972   0.101184576  -1.160062400 \n",
       "                                                                      \n",
       " -0.180305234  -1.635878375  -0.175324091  -0.539809804  -1.696491759 \n",
       "                                                                      \n",
       "  0.018096348   1.135537120  -0.466534250  -0.589424984   1.700010312 \n",
       "                                                                      \n",
       " -0.632021999  -1.227727740   1.704752656  -0.553799589  -0.606873875 \n",
       "                                                                      \n",
       " -0.636408401   0.343157395  -0.303041996  -0.656431519   0.143871963 \n",
       "                                                                      \n",
       "  0.634356995   0.266231551  -0.219488828   1.673662357   1.170381544 \n",
       "                                                                      \n",
       "  0.402050953  -0.903504750  -2.315607926  -0.068423645  -1.285119159 \n",
       "                                                                      \n",
       "  2.586654292   0.990785044  -0.228765720  -1.249740274   0.401475257 \n",
       "                                                                      \n",
       "  1.987790268  -0.667069101  -0.557248186   0.396358951  -0.039448284 \n",
       "                                                                      \n",
       " -0.328894698  -0.618006730  -0.164239744  -0.828630677  -1.218485635 \n",
       "                                                                      \n",
       "  0.448634136  -0.666819857   2.492753297  -0.116909173   1.263754849 \n",
       "                                                                      \n",
       "  2.412730676  -0.938517389  -0.916472346  -0.669588070  -1.901573545 \n",
       "\n",
       "$rank\n",
       "[1] 2\n",
       "\n",
       "$fitted.values\n",
       "          1           2           3           4           5           6 \n",
       "-0.41510140  1.80631279 -0.44481861  0.98528631  1.59854353  1.46998867 \n",
       "          7           8           9          10          11          12 \n",
       " 4.78438622  1.39427819  1.03535326  3.66208838  0.43004870 -2.03323194 \n",
       "         13          14          15          16          17          18 \n",
       " 0.12717183 -1.03148663  2.43065482 -0.09835229  3.47074688  0.50556341 \n",
       "         19          20          21          22          23          24 \n",
       " 4.88423320  0.93789810 -1.29351674  2.29478222  1.96596869  1.54026073 \n",
       "         25          26          27          28          29          30 \n",
       "-0.67538442 -0.11892257  1.06014631  1.70652617 -1.93201654  0.25503006 \n",
       "         31          32          33          34          35          36 \n",
       " 0.81814303 -1.59421801 -0.07023885  1.97980708  0.28736554 -3.26713127 \n",
       "         37          38          39          40          41          42 \n",
       " 1.17355767  1.77673842 -0.12690874  2.65970128 -1.41916877  2.39885329 \n",
       "         43          44          45          46          47          48 \n",
       " 3.40999483  0.61383594 -0.55138072  0.04916796  1.81582316  2.55936582 \n",
       "         49          50          51          52          53          54 \n",
       " 1.56372650 -0.19377908  4.05819616  1.00425538 -1.03585864  1.05448010 \n",
       "         55          56          57          58          59          60 \n",
       " 0.41253242 -0.67309702 -0.06874534  0.06210925  0.55503358  3.44453175 \n",
       "         61          62          63          64          65          66 \n",
       " 1.06027819  3.16377768  0.45524744 -0.27259603  0.20943735  1.33792917 \n",
       "         67          68          69          70          71          72 \n",
       " 4.92635335 -0.22513520 -0.32435065  5.96247702  2.25423754 -1.94847915 \n",
       "         73          74          75          76          77          78 \n",
       " 1.82760247 -0.95301403  2.29016960  0.07483591  1.35508134  0.44581019 \n",
       "         79          80          81          82          83          84 \n",
       " 1.99858714  2.18067291 -1.43037645  2.39389228  0.14918626  2.06967963 \n",
       "         85          86          87          88          89          90 \n",
       " 2.30631196 -1.79633397 -0.29409294 -0.11756742  2.16220208  3.95427488 \n",
       "         91          92          93          94          95          96 \n",
       " 1.44314710  1.32366293  1.08623364  2.38117719 -0.42326662 -0.93828961 \n",
       "         97          98          99         100         101         102 \n",
       " 1.79689211 -0.98935290  2.49191913  2.07871541  1.19186024  0.94412445 \n",
       "        103         104         105         106         107         108 \n",
       "-0.47698559  0.03429232  2.24417113 -0.59838719  2.70858245  2.29956876 \n",
       "        109         110         111         112         113         114 \n",
       " 0.76326403  1.65274108  2.74326646 -1.42855265 -0.98289891 -0.69744242 \n",
       "        115         116         117         118         119         120 \n",
       " 3.62330463 -0.86458535  2.42261217  1.64854829  2.31138380  0.81525989 \n",
       "        121         122         123         124         125         126 \n",
       "-0.78457552  0.38508651 -2.19277585  0.17173141  0.21062014 -2.39003113 \n",
       "        127         128         129         130         131         132 \n",
       " 2.23891903 -0.81149566  4.08492641  1.03669921 -1.33658785  4.07914045 \n",
       "        133         134         135         136         137         138 \n",
       " 4.73132536  4.55093907  1.88414036  2.01369331  4.52777705  0.77334292 \n",
       "        139         140         141         142         143         144 \n",
       " 2.46230256  0.16822659  4.78846080  1.19706119 -0.90385522  1.10035443 \n",
       "        145         146         147         148         149         150 \n",
       " 0.28776746  0.89080759  2.74399408  0.70736220 -1.32558055  2.80617511 \n",
       "        151         152         153         154         155         156 \n",
       " 1.38871201  0.82067046 -0.43001001  0.92614820  3.44905115  1.66829619 \n",
       "        157         158         159         160         161         162 \n",
       " 1.46389625  0.56640702  0.33567779  0.22737313  2.05208360 -1.67586984 \n",
       "        163         164         165         166         167         168 \n",
       " 3.89637481  3.99383240  1.69773454  5.19853726  3.67124121  0.76962063 \n",
       "        169         170         171         172         173         174 \n",
       " 2.57959051 -0.34376163 -2.03069355  1.14567811 -0.89865585  4.96051999 \n",
       "        175         176         177         178         179         180 \n",
       "-1.64826164  3.86662997  1.82484014 -3.68939215  1.11454870 -0.74252425 \n",
       "        181         182         183         184         185         186 \n",
       " 1.09533322 -1.40527796  2.30481899 -2.26352365  0.99820314  0.33601532 \n",
       "        187         188         189         190         191         192 \n",
       " 0.62320878 -0.33982848  0.19676344 -0.95677940 -0.33858831  2.53433074 \n",
       "        193         194         195         196         197         198 \n",
       " 1.54841888  2.84566130 -1.46988313  3.08057129  3.56887038  0.33035507 \n",
       "        199         200 \n",
       " 4.81160457  0.14041152 \n",
       "\n",
       "$assign\n",
       "[1] 0 1\n",
       "\n",
       "$qr\n",
       "$qr\n",
       "     (Intercept)             x\n",
       "1   -14.14213562  0.2655054421\n",
       "2     0.07071068 12.7963729970\n",
       "3     0.07071068 -0.0546259024\n",
       "4     0.07071068  0.0011188436\n",
       "5     0.07071068  0.0250232912\n",
       "6     0.07071068  0.0200122898\n",
       "7     0.07071068  0.1492057825\n",
       "8     0.07071068  0.0170611345\n",
       "9     0.07071068  0.0030704275\n",
       "10    0.07071068  0.1054591963\n",
       "11    0.07071068 -0.0205240295\n",
       "12    0.07071068 -0.1165414277\n",
       "13    0.07071068 -0.0323300125\n",
       "14    0.07071068 -0.0774939166\n",
       "15    0.07071068  0.0574585565\n",
       "16    0.07071068 -0.0411208255\n",
       "17    0.07071068  0.0980008042\n",
       "18    0.07071068 -0.0175805054\n",
       "19    0.07071068  0.1530977656\n",
       "20    0.07071068 -0.0007283240\n",
       "21    0.07071068 -0.0877077138\n",
       "22    0.07071068  0.0521623131\n",
       "23    0.07071068  0.0393453328\n",
       "24    0.07071068  0.0227514578\n",
       "25    0.07071068 -0.0636132375\n",
       "26    0.07071068 -0.0419226441\n",
       "27    0.07071068  0.0040368478\n",
       "28    0.07071068  0.0292323982\n",
       "29    0.07071068 -0.1125961041\n",
       "30    0.07071068 -0.0273461651\n",
       "31    0.07071068 -0.0053963146\n",
       "32    0.07071068 -0.0994288930\n",
       "33    0.07071068 -0.0400249780\n",
       "34    0.07071068  0.0398847460\n",
       "35    0.07071068 -0.0260857450\n",
       "36    0.07071068 -0.1646381818\n",
       "37    0.07071068  0.0084575633\n",
       "38    0.07071068  0.0319692355\n",
       "39    0.07071068 -0.0422339410\n",
       "40    0.07071068  0.0663866685\n",
       "41    0.07071068 -0.0926055647\n",
       "42    0.07071068  0.0562189496\n",
       "43    0.07071068  0.0956327206\n",
       "44    0.07071068 -0.0133600986\n",
       "45    0.07071068 -0.0587796381\n",
       "46    0.07071068 -0.0353705625\n",
       "47    0.07071068  0.0334927380\n",
       "48    0.07071068  0.0624756443\n",
       "49    0.07071068  0.0236661415\n",
       "50    0.07071068 -0.0448405119\n",
       "51    0.07071068  0.1208992716\n",
       "52    0.07071068  0.0018582483\n",
       "53    0.07071068 -0.0776643351\n",
       "54    0.07071068  0.0038159816\n",
       "55    0.07071068 -0.0212068052\n",
       "56    0.07071068 -0.0635240760\n",
       "57    0.07071068 -0.0399667617\n",
       "58    0.07071068 -0.0348661179\n",
       "59    0.07071068 -0.0156521839\n",
       "60    0.07071068  0.0969789520\n",
       "61    0.07071068  0.0040419882\n",
       "62    0.07071068  0.0860353044\n",
       "63    0.07071068 -0.0195417957\n",
       "64    0.07071068 -0.0479127557\n",
       "65    0.07071068 -0.0291233451\n",
       "66    0.07071068  0.0148646788\n",
       "67    0.07071068  0.1547395873\n",
       "68    0.07071068 -0.0460627570\n",
       "69    0.07071068 -0.0499301239\n",
       "70    0.07071068  0.1951271488\n",
       "71    0.07071068  0.0505819025\n",
       "72    0.07071068 -0.1132378080\n",
       "73    0.07071068  0.0339518895\n",
       "74    0.07071068 -0.0744350953\n",
       "75    0.07071068  0.0519825158\n",
       "76    0.07071068 -0.0343700394\n",
       "77    0.07071068  0.0155332616\n",
       "78    0.07071068 -0.0199096549\n",
       "79    0.07071068  0.0406167831\n",
       "80    0.07071068  0.0477143917\n",
       "81    0.07071068 -0.0930424342\n",
       "82    0.07071068  0.0560255717\n",
       "83    0.07071068 -0.0314719016\n",
       "84    0.07071068  0.0433879313\n",
       "85    0.07071068  0.0526117367\n",
       "86    0.07071068 -0.1073072682\n",
       "87    0.07071068 -0.0487506940\n",
       "88    0.07071068 -0.0418698210\n",
       "89    0.07071068  0.0469944084\n",
       "90    0.07071068  0.1168484739\n",
       "91    0.07071068  0.0189660191\n",
       "92    0.07071068  0.0143085884\n",
       "93    0.07071068  0.0050537180\n",
       "94    0.07071068  0.0555299442\n",
       "95    0.07071068 -0.0537858171\n",
       "96    0.07071068 -0.0738611452\n",
       "97    0.07071068  0.0327548156\n",
       "98    0.07071068 -0.0758515655\n",
       "99    0.07071068  0.0598466075\n",
       "100   0.07071068  0.0437401413\n",
       "101   0.07071068  0.0091709881\n",
       "102   0.07071068 -0.0004856243\n",
       "103   0.07071068 -0.0558797544\n",
       "104   0.07071068 -0.0359504073\n",
       "105   0.07071068  0.0501895192\n",
       "106   0.07071068 -0.0606119256\n",
       "107   0.07071068  0.0682920309\n",
       "108   0.07071068  0.0523488899\n",
       "109   0.07071068 -0.0075354693\n",
       "110   0.07071068  0.0271358833\n",
       "111   0.07071068  0.0696439958\n",
       "112   0.07071068 -0.0929713437\n",
       "113   0.07071068 -0.0755999923\n",
       "114   0.07071068 -0.0644730470\n",
       "115   0.07071068  0.1039474258\n",
       "116   0.07071068 -0.0709881915\n",
       "117   0.07071068  0.0571450584\n",
       "118   0.07071068  0.0269724508\n",
       "119   0.07071068  0.0528094342\n",
       "120   0.07071068 -0.0055086975\n",
       "121   0.07071068 -0.0678694498\n",
       "122   0.07071068 -0.0222766325\n",
       "123   0.07071068 -0.1227603665\n",
       "124   0.07071068 -0.0305931031\n",
       "125   0.07071068 -0.0290772405\n",
       "126   0.07071068 -0.1304492746\n",
       "127   0.07071068  0.0499847953\n",
       "128   0.07071068 -0.0689187830\n",
       "129   0.07071068  0.1219412028\n",
       "130   0.07071068  0.0031228920\n",
       "131   0.07071068 -0.0893866033\n",
       "132   0.07071068  0.1217156691\n",
       "133   0.07071068  0.1471374974\n",
       "134   0.07071068  0.1401061338\n",
       "135   0.07071068  0.0361557069\n",
       "136   0.07071068  0.0412056136\n",
       "137   0.07071068  0.1392032902\n",
       "138   0.07071068 -0.0071425994\n",
       "139   0.07071068  0.0586921688\n",
       "140   0.07071068 -0.0307297194\n",
       "141   0.07071068  0.1493646075\n",
       "142   0.07071068  0.0093737184\n",
       "143   0.07071068 -0.0725189107\n",
       "144   0.07071068  0.0056041390\n",
       "145   0.07071068 -0.0260700784\n",
       "146   0.07071068 -0.0025638875\n",
       "147   0.07071068  0.0696723577\n",
       "148   0.07071068 -0.0097144936\n",
       "149   0.07071068 -0.0889575445\n",
       "150   0.07071068  0.0720961423\n",
       "151   0.07071068  0.0168441678\n",
       "152   0.07071068 -0.0052977967\n",
       "153   0.07071068 -0.0540486708\n",
       "154   0.07071068 -0.0011863289\n",
       "155   0.07071068  0.0971551158\n",
       "156   0.07071068  0.0277422135\n",
       "157   0.07071068  0.0197748103\n",
       "158   0.07071068 -0.0152088533\n",
       "159   0.07071068 -0.0242025584\n",
       "160   0.07071068 -0.0284242178\n",
       "161   0.07071068  0.0427020471\n",
       "162   0.07071068 -0.1026116389\n",
       "163   0.07071068  0.1145915596\n",
       "164   0.07071068  0.1183904057\n",
       "165   0.07071068  0.0288897051\n",
       "166   0.07071068  0.1653491746\n",
       "167   0.07071068  0.1058159688\n",
       "168   0.07071068 -0.0072876922\n",
       "169   0.07071068  0.0632639924\n",
       "170   0.07071068 -0.0506867537\n",
       "171   0.07071068 -0.1164424825\n",
       "172   0.07071068  0.0073708328\n",
       "173   0.07071068 -0.0723162420\n",
       "174   0.07071068  0.1560713852\n",
       "175   0.07071068 -0.1015354856\n",
       "176   0.07071068  0.1134321211\n",
       "177   0.07071068  0.0338442155\n",
       "178   0.07071068 -0.1810976915\n",
       "179   0.07071068  0.0061574243\n",
       "180   0.07071068 -0.0662303134\n",
       "181   0.07071068  0.0054084149\n",
       "182   0.07071068 -0.0920641081\n",
       "183   0.07071068  0.0525535412\n",
       "184   0.07071068 -0.1255180788\n",
       "185   0.07071068  0.0016223350\n",
       "186   0.07071068 -0.0241894020\n",
       "187   0.07071068 -0.0129947502\n",
       "188   0.07071068 -0.0505334414\n",
       "189   0.07071068 -0.0296173678\n",
       "190   0.07071068 -0.0745818676\n",
       "191   0.07071068 -0.0504851005\n",
       "192   0.07071068  0.0614997901\n",
       "193   0.07071068  0.0230694583\n",
       "194   0.07071068  0.0736352932\n",
       "195   0.07071068 -0.0945823842\n",
       "196   0.07071068  0.0827919624\n",
       "197   0.07071068  0.1018256072\n",
       "198   0.07071068 -0.0244100355\n",
       "199   0.07071068  0.1502667394\n",
       "200   0.07071068 -0.0318139362\n",
       "attr(,\"assign\")\n",
       "[1] 0 1\n",
       "\n",
       "$qraux\n",
       "[1] 1.070711 1.033122\n",
       "\n",
       "$pivot\n",
       "[1] 1 2\n",
       "\n",
       "$tol\n",
       "[1] 1e-07\n",
       "\n",
       "$rank\n",
       "[1] 2\n",
       "\n",
       "attr(,\"class\")\n",
       "[1] \"qr\"\n",
       "\n",
       "$df.residual\n",
       "[1] 198\n",
       "\n",
       "$xlevels\n",
       "named list()\n",
       "\n",
       "$call\n",
       "lm(formula = y ~ x)\n",
       "\n",
       "$terms\n",
       "y ~ x\n",
       "attr(,\"variables\")\n",
       "list(y, x)\n",
       "attr(,\"factors\")\n",
       "  x\n",
       "y 0\n",
       "x 1\n",
       "attr(,\"term.labels\")\n",
       "[1] \"x\"\n",
       "attr(,\"order\")\n",
       "[1] 1\n",
       "attr(,\"intercept\")\n",
       "[1] 1\n",
       "attr(,\"response\")\n",
       "[1] 1\n",
       "attr(,\".Environment\")\n",
       "<environment: R_GlobalEnv>\n",
       "attr(,\"predvars\")\n",
       "list(y, x)\n",
       "attr(,\"dataClasses\")\n",
       "        y         x \n",
       "\"numeric\" \"numeric\" \n",
       "\n",
       "$model\n",
       "              y            x\n",
       "1   -0.63370608  0.713796107\n",
       "2    2.66719104 -0.394236327\n",
       "3   -0.02662677  0.728618934\n",
       "4   -0.79359312  0.015288371\n",
       "5    2.66126647 -0.290601857\n",
       "6    1.51890004 -0.226479214\n",
       "7    4.78232293 -1.879687335\n",
       "8    0.40673845 -0.188715129\n",
       "9    2.06123041 -0.009684824\n",
       "10   2.09696371 -1.319889701\n",
       "11   0.71944106  0.292238648\n",
       "12  -1.77077557  1.520913089\n",
       "13   2.29867314  0.443312410\n",
       "14  -3.17906653  1.021246573\n",
       "15   4.38535154 -0.705655610\n",
       "16  -1.00446843  0.555802932\n",
       "17   4.27472648 -1.224449334\n",
       "18  -0.56832922  0.254572215\n",
       "19   4.37881400 -1.929490603\n",
       "20  -1.03291622  0.038925416\n",
       "21  -1.90278668  1.151946132\n",
       "22   2.70439261 -0.637882904\n",
       "23   1.74650954 -0.473872043\n",
       "24   1.82796264 -0.261530630\n",
       "25  -0.49607895  0.843624226\n",
       "26  -1.66046431  0.566063302\n",
       "27   1.34928922 -0.022051498\n",
       "28   2.13992832 -0.344463159\n",
       "29  -1.73377636  1.470427257\n",
       "30  -0.12154206  0.379537240\n",
       "31   2.07975359  0.098658765\n",
       "32  -1.54624351  1.301934712\n",
       "33  -1.52287049  0.541780059\n",
       "34   1.37841591 -0.480774576\n",
       "35   1.09790508  0.363408434\n",
       "36  -3.23888072  2.136377095\n",
       "37   1.62536622 -0.078620624\n",
       "38  -0.06902006 -0.379484751\n",
       "39  -0.82700618  0.570046774\n",
       "40   3.45203644 -0.819903061\n",
       "41  -0.91943748  1.214620858\n",
       "42   2.09757338 -0.689793137\n",
       "43   3.30621123 -1.194146453\n",
       "44   0.21759612  0.200566316\n",
       "45   0.12389046  0.781771685\n",
       "46  -1.26141975  0.482220422\n",
       "47   1.68741103 -0.398980057\n",
       "48   2.74647621 -0.769856136\n",
       "49   2.96058928 -0.273235262\n",
       "50   0.70560622  0.603401426\n",
       "51   2.41337521 -1.517466663\n",
       "52   2.20295009  0.005826672\n",
       "53   0.06083278  1.023427311\n",
       "54   0.88994746 -0.019225213\n",
       "55  -0.06967205  0.300975700\n",
       "56  -0.90542864  0.842483282\n",
       "57   0.07516062  0.541035102\n",
       "58   0.13745224  0.475765361\n",
       "59   0.57087214  0.229896694\n",
       "60   3.91645410 -1.211373331\n",
       "61  -0.55291104 -0.022117277\n",
       "62   3.43849977 -1.071334334\n",
       "63   1.77455451  0.279669618\n",
       "64  -1.42110564  0.642715005\n",
       "65   1.44319184  0.402278698\n",
       "66  -0.26370771 -0.160608464\n",
       "67   5.09009893 -1.950499965\n",
       "68  -0.25674036  0.619041731\n",
       "69   0.04695190  0.668530001\n",
       "70   3.12389298 -2.467314267\n",
       "71   2.86601266 -0.617659380\n",
       "72  -2.66150275  1.478638739\n",
       "73   1.59413162 -0.404855530\n",
       "74   0.75841082  0.982104755\n",
       "75   2.06753530 -0.635582150\n",
       "76  -1.80391551  0.469417355\n",
       "77   3.52020358 -0.169163898\n",
       "78   0.86240552  0.284376882\n",
       "79   1.13557529 -0.490141995\n",
       "80   3.01070876 -0.580965642\n",
       "81   0.91422450  1.220211204\n",
       "82   2.04418620 -0.687318601\n",
       "83   0.12519468  0.432331703\n",
       "84   0.61717266 -0.525602642\n",
       "85   3.64534204 -0.643633895\n",
       "86  -0.27451035  1.402749341\n",
       "87   0.08135016  0.653437575\n",
       "88   0.52194716  0.565387358\n",
       "89   2.83484843 -0.571752468\n",
       "90   3.55879041 -1.465631145\n",
       "91  -0.66098461 -0.213090743\n",
       "92   1.78893503 -0.153492522\n",
       "93   1.44741731 -0.035063749\n",
       "94   3.27129635 -0.680976368\n",
       "95  -0.53980881  0.717868888\n",
       "96  -1.02344107  0.974760275\n",
       "97   1.72382787 -0.389537327\n",
       "98  -1.57222118  1.000230436\n",
       "99   2.17590169 -0.736214001\n",
       "100  2.04700988 -0.530109651\n",
       "101  1.38837440 -0.087749873\n",
       "102  0.30073793  0.035819741\n",
       "103 -0.94787240  0.744663692\n",
       "104  1.58648101  0.489640333\n",
       "105  2.65030989 -0.612638297\n",
       "106 -0.62389215  0.805218320\n",
       "107  2.91678419 -0.844284788\n",
       "108  3.38507942 -0.640270410\n",
       "109  0.86213918  0.126032187\n",
       "110  1.36104290 -0.317635373\n",
       "111  2.82389823 -0.861585036\n",
       "112 -1.39265205  1.219301503\n",
       "113 -0.10478412  0.997011212\n",
       "114 -0.32415973  0.854626668\n",
       "115  4.42075759 -1.300544521\n",
       "116  0.59378407  0.937996888\n",
       "117  3.32137364 -0.701643971\n",
       "118  0.70031194 -0.315544030\n",
       "119  2.77353493 -0.646163707\n",
       "120  1.20419149  0.100096859\n",
       "121 -1.87559988  0.898088306\n",
       "122  0.47306336  0.314665609\n",
       "123 -3.78701516  1.600492950\n",
       "124  0.81434216  0.421086269\n",
       "125  0.60851254  0.401688726\n",
       "126 -2.09723661  1.698883086\n",
       "127  1.49565746 -0.610018574\n",
       "128  1.01949398  0.911515965\n",
       "129  4.51631080 -1.530799603\n",
       "130  1.43846559 -0.010356179\n",
       "131 -0.84063755  1.173429828\n",
       "132  3.44120751 -1.527913590\n",
       "133  4.60085555 -1.853220788\n",
       "134  5.07933524 -1.763244837\n",
       "135  0.27990244 -0.433056400\n",
       "136  2.66618745 -0.497676890\n",
       "137  6.93698764 -1.751691713\n",
       "138  0.06624532  0.121004878\n",
       "139  1.79293092 -0.721441373\n",
       "140  0.01079402  0.422834463\n",
       "141  3.22372999 -1.881719719\n",
       "142  1.43369782 -0.090344086\n",
       "143 -0.17044092  0.957584542\n",
       "144  1.19185028 -0.042107142\n",
       "145 -0.90881973  0.363207959\n",
       "146  0.69389325  0.062413973\n",
       "147  1.15270892 -0.861947966\n",
       "148  0.50937063  0.153915794\n",
       "149 -1.95519669  1.167939431\n",
       "150  1.15633014 -0.892963617\n",
       "151  1.40664278 -0.185938743\n",
       "152  1.93728216  0.097398093\n",
       "153 -0.95677397  0.721232462\n",
       "154  0.32128125  0.044786218\n",
       "155  5.21693952 -1.213627589\n",
       "156  1.04534200 -0.325394200\n",
       "157  0.23848592 -0.223440337\n",
       "158  2.24383709  0.224223671\n",
       "159 -0.25306432  0.339310476\n",
       "160 -0.41802008  0.393332404\n",
       "161  1.43741776 -0.516825811\n",
       "162 -1.43408725  1.342662317\n",
       "163  3.67598394 -1.436750828\n",
       "164  3.42327059 -1.485362280\n",
       "165  1.85164652 -0.340077931\n",
       "166  5.95854989 -2.086264201\n",
       "167  4.01268875 -1.324455095\n",
       "168  0.52952044  0.122861539\n",
       "169  4.29241659 -0.779944132\n",
       "170  0.76923860  0.678212117\n",
       "171 -1.74173561  1.519646950\n",
       "172  0.23398147 -0.064714415\n",
       "173 -3.28997073  0.954991117\n",
       "174  5.00989135 -1.967542148\n",
       "175 -3.03384382  1.328891457\n",
       "176  6.53495305 -1.421914221\n",
       "177  2.82986293 -0.403477695\n",
       "178 -4.08603017  2.346999121\n",
       "179 -0.14441153 -0.049187187\n",
       "180 -0.41159963  0.877113305\n",
       "181  3.07326893 -0.039602583\n",
       "182 -2.16478544  1.207692178\n",
       "183  1.77766007 -0.642889204\n",
       "184 -1.98794703  1.635781665\n",
       "185  0.94569254  0.008845507\n",
       "186 -0.02781076  0.339142121\n",
       "187 -0.02024463  0.195891181\n",
       "188 -0.56131964  0.676250277\n",
       "189 -0.67139747  0.408600397\n",
       "190 -2.25289155  0.983982908\n",
       "191  0.05283536  0.675631688\n",
       "192  1.90517988 -0.757368742\n",
       "193  4.04628098 -0.265599882\n",
       "194  2.77670296 -0.912659166\n",
       "195 -0.30070028  1.239916978\n",
       "196  5.54901080 -1.029831321\n",
       "197  2.70218814 -1.273392940\n",
       "198 -0.62123559  0.341965430\n",
       "199  4.25489350 -1.893263736\n",
       "200 -1.80255330  0.436708505\n"
      ]
     },
     "metadata": {},
     "output_type": "display_data"
    }
   ],
   "source": [
    "unclass(r1)"
   ]
  },
  {
   "cell_type": "markdown",
   "metadata": {
    "deletable": true,
    "editable": true
   },
   "source": [
    "## El espacio de trabajo (Workspace)\n",
    "\n",
    "Mientras trabajamos, a menudo es bueno saber los nombres de las variables que hemos creado y lo que contienen. Para enumerar los nombres de las variables existentes, utiliza la función `ls`. Este nombre lleva el nombre del comando Unix equivalente y sigue la misma convención: por defecto, los nombres de las variables que comienzan con un `.` están escondidos. Para verlos, pase el argumento `all.names = TRUE`:"
   ]
  },
  {
   "cell_type": "code",
   "execution_count": 57,
   "metadata": {
    "collapsed": false,
    "deletable": true,
    "editable": true
   },
   "outputs": [
    {
     "data": {
      "text/html": [
       "<ol class=list-inline>\n",
       "\t<li>'a'</li>\n",
       "\t<li>'b'</li>\n",
       "\t<li>'bool'</li>\n",
       "\t<li>'c'</li>\n",
       "\t<li>'dfr'</li>\n",
       "\t<li>'fac'</li>\n",
       "\t<li>'g'</li>\n",
       "\t<li>'genero'</li>\n",
       "\t<li>'genero_caracter'</li>\n",
       "\t<li>'genero_factor'</li>\n",
       "\t<li>'i'</li>\n",
       "\t<li>'macheps'</li>\n",
       "\t<li>'n'</li>\n",
       "\t<li>'num'</li>\n",
       "\t<li>'r'</li>\n",
       "\t<li>'r1'</li>\n",
       "\t<li>'r2'</li>\n",
       "\t<li>'sushi'</li>\n",
       "\t<li>'ulams_spiral'</li>\n",
       "\t<li>'USArrests'</li>\n",
       "\t<li>'x'</li>\n",
       "\t<li>'y'</li>\n",
       "</ol>\n"
      ],
      "text/latex": [
       "\\begin{enumerate*}\n",
       "\\item 'a'\n",
       "\\item 'b'\n",
       "\\item 'bool'\n",
       "\\item 'c'\n",
       "\\item 'dfr'\n",
       "\\item 'fac'\n",
       "\\item 'g'\n",
       "\\item 'genero'\n",
       "\\item 'genero\\_caracter'\n",
       "\\item 'genero\\_factor'\n",
       "\\item 'i'\n",
       "\\item 'macheps'\n",
       "\\item 'n'\n",
       "\\item 'num'\n",
       "\\item 'r'\n",
       "\\item 'r1'\n",
       "\\item 'r2'\n",
       "\\item 'sushi'\n",
       "\\item 'ulams\\_spiral'\n",
       "\\item 'USArrests'\n",
       "\\item 'x'\n",
       "\\item 'y'\n",
       "\\end{enumerate*}\n"
      ],
      "text/markdown": [
       "1. 'a'\n",
       "2. 'b'\n",
       "3. 'bool'\n",
       "4. 'c'\n",
       "5. 'dfr'\n",
       "6. 'fac'\n",
       "7. 'g'\n",
       "8. 'genero'\n",
       "9. 'genero_caracter'\n",
       "10. 'genero_factor'\n",
       "11. 'i'\n",
       "12. 'macheps'\n",
       "13. 'n'\n",
       "14. 'num'\n",
       "15. 'r'\n",
       "16. 'r1'\n",
       "17. 'r2'\n",
       "18. 'sushi'\n",
       "19. 'ulams_spiral'\n",
       "20. 'USArrests'\n",
       "21. 'x'\n",
       "22. 'y'\n",
       "\n",
       "\n"
      ],
      "text/plain": [
       " [1] \"a\"               \"b\"               \"bool\"            \"c\"              \n",
       " [5] \"dfr\"             \"fac\"             \"g\"               \"genero\"         \n",
       " [9] \"genero_caracter\" \"genero_factor\"   \"i\"               \"macheps\"        \n",
       "[13] \"n\"               \"num\"             \"r\"               \"r1\"             \n",
       "[17] \"r2\"              \"sushi\"           \"ulams_spiral\"    \"USArrests\"      \n",
       "[21] \"x\"               \"y\"              "
      ]
     },
     "metadata": {},
     "output_type": "display_data"
    }
   ],
   "source": [
    "r <- 1\n",
    "b <- \"Jessica\"\n",
    "c <- TRUE\n",
    "ls()"
   ]
  },
  {
   "cell_type": "code",
   "execution_count": 58,
   "metadata": {
    "collapsed": false,
    "deletable": true,
    "editable": true
   },
   "outputs": [
    {
     "data": {
      "text/html": [
       "<ol class=list-inline>\n",
       "\t<li>'fac'</li>\n",
       "\t<li>'genero_caracter'</li>\n",
       "\t<li>'genero_factor'</li>\n",
       "\t<li>'macheps'</li>\n",
       "</ol>\n"
      ],
      "text/latex": [
       "\\begin{enumerate*}\n",
       "\\item 'fac'\n",
       "\\item 'genero\\_caracter'\n",
       "\\item 'genero\\_factor'\n",
       "\\item 'macheps'\n",
       "\\end{enumerate*}\n"
      ],
      "text/markdown": [
       "1. 'fac'\n",
       "2. 'genero_caracter'\n",
       "3. 'genero_factor'\n",
       "4. 'macheps'\n",
       "\n",
       "\n"
      ],
      "text/plain": [
       "[1] \"fac\"             \"genero_caracter\" \"genero_factor\"   \"macheps\"        "
      ]
     },
     "metadata": {},
     "output_type": "display_data"
    }
   ],
   "source": [
    "ls(pattern = \"ac\")"
   ]
  },
  {
   "cell_type": "markdown",
   "metadata": {
    "deletable": true,
    "editable": true
   },
   "source": [
    "Para más información sobre nuestro espacio de trabajo, podemos ver la estructura de nuestras variables usando `ls.str`. Esto es, como es de esperar, una combinación de las funciones `ls` y `str` y es muy útil durante las sesiones de depuración. `browseEnv` proporciona una capacidad similar, pero muestra su salida en una página HTML en nuestro navegador web:"
   ]
  },
  {
   "cell_type": "code",
   "execution_count": 59,
   "metadata": {
    "collapsed": false,
    "deletable": true,
    "editable": true
   },
   "outputs": [
    {
     "name": "stdout",
     "output_type": "stream",
     "text": [
      "R objects in .GlobalEnv environment is shown in browser ‘/usr/bin/firefox’ \n"
     ]
    }
   ],
   "source": [
    "browseEnv()"
   ]
  },
  {
   "cell_type": "markdown",
   "metadata": {
    "deletable": true,
    "editable": true
   },
   "source": [
    "Después de trabajar durante un tiempo, especialmente durante la exploración de datos, nuestro espacio de trabajo puede llegar a ser bastante desordenado. Podemos limpiarlo usando la función `rm ` para eliminar variables:"
   ]
  },
  {
   "cell_type": "code",
   "execution_count": 60,
   "metadata": {
    "collapsed": true,
    "deletable": true,
    "editable": true
   },
   "outputs": [],
   "source": [
    "rm(r, c)\n",
    "# rm(list = ls()) "
   ]
  },
  {
   "cell_type": "code",
   "execution_count": 61,
   "metadata": {
    "collapsed": false,
    "deletable": true,
    "editable": true
   },
   "outputs": [
    {
     "data": {
      "text/html": [
       "<ol class=list-inline>\n",
       "\t<li>'a'</li>\n",
       "\t<li>'b'</li>\n",
       "\t<li>'bool'</li>\n",
       "\t<li>'dfr'</li>\n",
       "\t<li>'fac'</li>\n",
       "\t<li>'g'</li>\n",
       "\t<li>'genero'</li>\n",
       "\t<li>'genero_caracter'</li>\n",
       "\t<li>'genero_factor'</li>\n",
       "\t<li>'i'</li>\n",
       "\t<li>'macheps'</li>\n",
       "\t<li>'n'</li>\n",
       "\t<li>'num'</li>\n",
       "\t<li>'r1'</li>\n",
       "\t<li>'r2'</li>\n",
       "\t<li>'sushi'</li>\n",
       "\t<li>'ulams_spiral'</li>\n",
       "\t<li>'USArrests'</li>\n",
       "\t<li>'x'</li>\n",
       "\t<li>'y'</li>\n",
       "</ol>\n"
      ],
      "text/latex": [
       "\\begin{enumerate*}\n",
       "\\item 'a'\n",
       "\\item 'b'\n",
       "\\item 'bool'\n",
       "\\item 'dfr'\n",
       "\\item 'fac'\n",
       "\\item 'g'\n",
       "\\item 'genero'\n",
       "\\item 'genero\\_caracter'\n",
       "\\item 'genero\\_factor'\n",
       "\\item 'i'\n",
       "\\item 'macheps'\n",
       "\\item 'n'\n",
       "\\item 'num'\n",
       "\\item 'r1'\n",
       "\\item 'r2'\n",
       "\\item 'sushi'\n",
       "\\item 'ulams\\_spiral'\n",
       "\\item 'USArrests'\n",
       "\\item 'x'\n",
       "\\item 'y'\n",
       "\\end{enumerate*}\n"
      ],
      "text/markdown": [
       "1. 'a'\n",
       "2. 'b'\n",
       "3. 'bool'\n",
       "4. 'dfr'\n",
       "5. 'fac'\n",
       "6. 'g'\n",
       "7. 'genero'\n",
       "8. 'genero_caracter'\n",
       "9. 'genero_factor'\n",
       "10. 'i'\n",
       "11. 'macheps'\n",
       "12. 'n'\n",
       "13. 'num'\n",
       "14. 'r1'\n",
       "15. 'r2'\n",
       "16. 'sushi'\n",
       "17. 'ulams_spiral'\n",
       "18. 'USArrests'\n",
       "19. 'x'\n",
       "20. 'y'\n",
       "\n",
       "\n"
      ],
      "text/plain": [
       " [1] \"a\"               \"b\"               \"bool\"            \"dfr\"            \n",
       " [5] \"fac\"             \"g\"               \"genero\"          \"genero_caracter\"\n",
       " [9] \"genero_factor\"   \"i\"               \"macheps\"         \"n\"              \n",
       "[13] \"num\"             \"r1\"              \"r2\"              \"sushi\"          \n",
       "[17] \"ulams_spiral\"    \"USArrests\"       \"x\"               \"y\"              "
      ]
     },
     "metadata": {},
     "output_type": "display_data"
    }
   ],
   "source": [
    "ls()"
   ]
  },
  {
   "cell_type": "code",
   "execution_count": null,
   "metadata": {
    "collapsed": true,
    "deletable": true,
    "editable": true
   },
   "outputs": [],
   "source": []
  }
 ],
 "metadata": {
  "kernelspec": {
   "display_name": "R",
   "language": "R",
   "name": "ir"
  },
  "language_info": {
   "codemirror_mode": "r",
   "file_extension": ".r",
   "mimetype": "text/x-r-source",
   "name": "R",
   "pygments_lexer": "r",
   "version": "3.3.2"
  }
 },
 "nbformat": 4,
 "nbformat_minor": 1
}
