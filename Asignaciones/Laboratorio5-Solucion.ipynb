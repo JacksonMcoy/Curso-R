{
 "cells": [
  {
   "cell_type": "markdown",
   "metadata": {},
   "source": [
    "## Soluciones "
   ]
  },
  {
   "cell_type": "markdown",
   "metadata": {},
   "source": [
    "### Solución 1"
   ]
  },
  {
   "cell_type": "markdown",
   "metadata": {},
   "source": [
    "* Crea el archivo `examen` con nano o usando `cat`\n",
    "\n",
    "```\n",
    "cat > examen\n",
    "\n",
    "```\n",
    "\n",
    "Luego, escribimos los nombres y las edades correspondientes de los estudiantes después de cada nombre escrito, separados por dos puntos \":\" en el formato `<nombre>: <edad>`. Por ejemplo,\n",
    "\n",
    "```\n",
    "Erika Rios Mendoza: 20\n",
    "Jessica Martinez Figueroa: 32\n",
    "Claudio Lara Avila: 25\n",
    "```\n",
    "\n",
    "* Ordenamos el archivo y guardamos la salida en otro archivo `temp`\n",
    "\n",
    "```\n",
    "sort examen -o temp\n",
    "```\n",
    "\n",
    "o se puede usar\n",
    "\n",
    "```\n",
    "sort examen > temp\n",
    "```\n",
    "\n",
    "El comando de sort ordena el archivo '`examen` y la salida se redirige a un archivo `temp`."
   ]
  },
  {
   "cell_type": "markdown",
   "metadata": {},
   "source": [
    "* Un comando para mostrar el número total de palabras en los archivos `temp` y `examen`  es el siguiente\n",
    "\n",
    "```\n",
    "cat exam temp | tr '[:punct:]' ' ' | tr -s ' ' | wc -w\n",
    "```\n",
    "\n",
    "El comando `cat` vierte el contenido de los dos archivos `examen` y `temp`, que se canaliza al comando `tr`. \n",
    "\n",
    "El comando `tr` reemplaza todas las puntuaciones (denotadas con la clase `[: punct:])` con espacios en blanco y se canaliza a la orden `tr -s ''` que comprime todos los espacios en blanco repetidos en uno. \n",
    "\n",
    "De nuevo, esta salida se canaliza en el comando `wc -w`, que cuenta el número de palabras."
   ]
  },
  {
   "cell_type": "markdown",
   "metadata": {},
   "source": [
    "* un comando para localizar todos los archivos `.txt` y `.sh` del sistema ser,\n",
    "\n",
    "```\n",
    "find / -name '*.txt' -o -name '*.sh'\n",
    "```\n",
    "\n",
    "El `/` especifica que la búsqueda comenzará desde la raíz del sistema de archivos. Los modificadores `-name` indican los archivos `* .txt` y `* .sh` a encontrar. El  argumento `-o` actúa como un operador `OR` y conecta los dos conmutadores `-name`."
   ]
  },
  {
   "cell_type": "markdown",
   "metadata": {},
   "source": [
    "###  Solución 2"
   ]
  },
  {
   "cell_type": "code",
   "execution_count": 1,
   "metadata": {},
   "outputs": [
    {
     "data": {
      "text/html": [
       "6.97634613789762"
      ],
      "text/latex": [
       "6.97634613789762"
      ],
      "text/markdown": [
       "6.97634613789762"
      ],
      "text/plain": [
       "[1] 6.976346"
      ]
     },
     "execution_count": 1,
     "metadata": {},
     "output_type": "execute_result"
    }
   ],
   "source": [
    "1+sum(cumprod(seq(2,38,b=2)/seq(3,39,b=2)))"
   ]
  },
  {
   "cell_type": "markdown",
   "metadata": {},
   "source": [
    "### Solución 3"
   ]
  },
  {
   "cell_type": "code",
   "execution_count": 2,
   "metadata": {},
   "outputs": [
    {
     "data": {
      "text/html": [
       "0.001412"
      ],
      "text/latex": [
       "0.001412"
      ],
      "text/markdown": [
       "0.001412"
      ],
      "text/plain": [
       "[1] 0.001412"
      ]
     },
     "execution_count": 2,
     "metadata": {},
     "output_type": "execute_result"
    },
    {
     "data": {
      "text/html": [
       "0.00138888888888889"
      ],
      "text/latex": [
       "0.00138888888888889"
      ],
      "text/markdown": [
       "0.00138888888888889"
      ],
      "text/plain": [
       "[1] 0.001388889"
      ]
     },
     "execution_count": 2,
     "metadata": {},
     "output_type": "execute_result"
    },
    {
     "data": {
      "text/html": [
       "0.051218"
      ],
      "text/latex": [
       "0.051218"
      ],
      "text/markdown": [
       "0.051218"
      ],
      "text/plain": [
       "[1] 0.051218"
      ]
     },
     "execution_count": 2,
     "metadata": {},
     "output_type": "execute_result"
    },
    {
     "data": {
      "text/html": [
       "0.05"
      ],
      "text/latex": [
       "0.05"
      ],
      "text/markdown": [
       "0.05"
      ],
      "text/plain": [
       "[1] 0.05"
      ]
     },
     "execution_count": 2,
     "metadata": {},
     "output_type": "execute_result"
    }
   ],
   "source": [
    "# Numero de simulaciones\n",
    "n <- 5e5L\n",
    "# Numero de niños  1, 2, 3, ..., 6 de acuerdo a su orden alfabetico\n",
    "niños <- 1L:6L\n",
    "# seguimiento de exitos\n",
    "num_exitos <- 0L\n",
    "\n",
    "for (i in 1L:n) {\n",
    "  num_exitos <- num_exitos + identical(sample(niños, size = 6), 1L:6L)\n",
    "}\n",
    "\n",
    "num_exitos/ n\n",
    "\n",
    "\n",
    "# Solucion analitica\n",
    "1 / factorial(6)\n",
    "\n",
    "\n",
    "# Recuerde que el éxito es cuando todas las chicas son las primeras,\n",
    "# lo que también significa que la suma de los primeros tres elementos es igual a seis.\n",
    "for (i in 1L:n) {\n",
    "  num_exitos<- num_exitos + (sum(sample(niños, size = 3)) == 6L)\n",
    "}\n",
    "\n",
    "# Probabilidad estimada\n",
    "num_exitos / n\n",
    "\n",
    "## [1] 0.05012\n",
    "\n",
    "# Solucion analitica\n",
    "factorial(3)^2 / factorial(6)\n"
   ]
  },
  {
   "cell_type": "markdown",
   "metadata": {},
   "source": [
    "### Solución 4 (respuesta general)"
   ]
  },
  {
   "cell_type": "code",
   "execution_count": 3,
   "metadata": {},
   "outputs": [
    {
     "data": {
      "text/html": [
       "0.12349"
      ],
      "text/latex": [
       "0.12349"
      ],
      "text/markdown": [
       "0.12349"
      ],
      "text/plain": [
       "[1] 0.12349"
      ]
     },
     "execution_count": 3,
     "metadata": {},
     "output_type": "execute_result"
    },
    {
     "data": {
      "text/html": [
       "0.125"
      ],
      "text/latex": [
       "0.125"
      ],
      "text/markdown": [
       "0.125"
      ],
      "text/plain": [
       "[1] 0.125"
      ]
     },
     "execution_count": 3,
     "metadata": {},
     "output_type": "execute_result"
    }
   ],
   "source": [
    "# Numero de simulacion \n",
    "n <- 1e5L\n",
    "# Maximo numero de lanzamientos\n",
    "max_lanzamiento <- 1000L\n",
    "# Seguimiento de exitos\n",
    "num_exitos <- 0L\n",
    "# Costos\n",
    "costo_juego <- 15L\n",
    "\n",
    "\n",
    "# Definimos  una funcion del lanzamiento de una moneda\n",
    "lanzamiento_moneda <- function() {\n",
    "  rbinom(1, 1, 0.5)\n",
    "}\n",
    "\n",
    "for (i in 1L:n) {\n",
    "  for (lanzamiento in 1L:max_lanzamiento) {\n",
    "    if(lanzamiento_moneda() == 0L) {\n",
    "      num_exitos <- num_exitos + (2^lanzamiento > costo_juego)\n",
    "      break\n",
    "    }\n",
    "  }\n",
    "}\n",
    "\n",
    "# Probabilidad estimada\n",
    "num_exitos / n\n",
    "\n",
    "\n",
    "# Probabilidad analitica\n",
    "lanzamientos_necesarios <- min(which(2^(1:1000) > costo_juego)) - 1\n",
    "1 - sum(1/2^(1:lanzamientos_necesarios))\n"
   ]
  },
  {
   "cell_type": "markdown",
   "metadata": {},
   "source": [
    "### Solución 5"
   ]
  },
  {
   "cell_type": "code",
   "execution_count": 4,
   "metadata": {},
   "outputs": [
    {
     "data": {
      "text/html": [
       "'muy negativo'"
      ],
      "text/latex": [
       "'muy negativo'"
      ],
      "text/markdown": [
       "'muy negativo'"
      ],
      "text/plain": [
       "[1] \"muy negativo\""
      ]
     },
     "execution_count": 4,
     "metadata": {},
     "output_type": "execute_result"
    },
    {
     "data": {
      "text/html": [
       "'large'"
      ],
      "text/latex": [
       "'large'"
      ],
      "text/markdown": [
       "'large'"
      ],
      "text/plain": [
       "[1] \"large\""
      ]
     },
     "execution_count": 4,
     "metadata": {},
     "output_type": "execute_result"
    },
    {
     "data": {
      "text/html": [
       "'in [1,3)'"
      ],
      "text/latex": [
       "'in [1,3)'"
      ],
      "text/markdown": [
       "'in [1,3)'"
      ],
      "text/plain": [
       "[1] \"in [1,3)\""
      ]
     },
     "execution_count": 4,
     "metadata": {},
     "output_type": "execute_result"
    }
   ],
   "source": [
    "tst4<-function(x){\n",
    "  if(x<2) \"muy negativo\"\n",
    "  else if(x<1) \"cercano a cero\"\n",
    "  else if(x<3) \"in [1,3)\"\n",
    "  else \"large\"\n",
    "}\n",
    "\n",
    "tst4(0)\n",
    "\n",
    "tst4(Inf)\n",
    "\n",
    "tst4(2)"
   ]
  },
  {
   "cell_type": "markdown",
   "metadata": {},
   "source": [
    "Escribimos una nueva versión de la función `tst4`,"
   ]
  },
  {
   "cell_type": "code",
   "execution_count": 5,
   "metadata": {},
   "outputs": [
    {
     "data": {
      "text/html": [
       "<ol class=list-inline>\n",
       "\t<li>'large'</li>\n",
       "\t<li>'large'</li>\n",
       "\t<li>'large'</li>\n",
       "\t<li>'large'</li>\n",
       "</ol>\n"
      ],
      "text/latex": [
       "\\begin{enumerate*}\n",
       "\\item 'large'\n",
       "\\item 'large'\n",
       "\\item 'large'\n",
       "\\item 'large'\n",
       "\\end{enumerate*}\n"
      ],
      "text/markdown": [
       "1. 'large'\n",
       "2. 'large'\n",
       "3. 'large'\n",
       "4. 'large'\n",
       "\n",
       "\n"
      ],
      "text/plain": [
       "[1] \"large\" \"large\" \"large\" \"large\""
      ]
     },
     "execution_count": 5,
     "metadata": {},
     "output_type": "execute_result"
    }
   ],
   "source": [
    "Tst4<-function(x){\n",
    "  ifelse(x<2,\"muy negativo\",ifelse(x<1,\"cercano a cero\",ifelse(x<3,\"in [1,3)\",\"large\")))\n",
    "}\n",
    "\n",
    "Tst4(c(Inf,3:5))"
   ]
  },
  {
   "cell_type": "code",
   "execution_count": null,
   "metadata": {
    "collapsed": true
   },
   "outputs": [],
   "source": []
  }
 ],
 "metadata": {
  "kernelspec": {
   "display_name": "R",
   "language": "R",
   "name": "ir"
  },
  "language_info": {
   "codemirror_mode": "r",
   "file_extension": ".r",
   "mimetype": "text/x-r-source",
   "name": "R",
   "pygments_lexer": "r",
   "version": "3.4.1"
  }
 },
 "nbformat": 4,
 "nbformat_minor": 2
}
