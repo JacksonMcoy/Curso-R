{
 "cells": [
  {
   "cell_type": "markdown",
   "metadata": {
    "deletable": true,
    "editable": true
   },
   "source": [
    "# Soluciones"
   ]
  },
  {
   "cell_type": "markdown",
   "metadata": {
    "deletable": true,
    "editable": true
   },
   "source": [
    "### Solución1"
   ]
  },
  {
   "cell_type": "code",
   "execution_count": 1,
   "metadata": {
    "collapsed": false,
    "deletable": true,
    "editable": true
   },
   "outputs": [
    {
     "data": {
      "text/html": [
       "<ol class=list-inline>\n",
       "\t<li>11979</li>\n",
       "\t<li>9568</li>\n",
       "\t<li>8833</li>\n",
       "\t<li>8133</li>\n",
       "</ol>\n"
      ],
      "text/latex": [
       "\\begin{enumerate*}\n",
       "\\item 11979\n",
       "\\item 9568\n",
       "\\item 8833\n",
       "\\item 8133\n",
       "\\end{enumerate*}\n"
      ],
      "text/markdown": [
       "1. 11979\n",
       "2. 9568\n",
       "3. 8833\n",
       "4. 8133\n",
       "\n",
       "\n"
      ],
      "text/plain": [
       "[1] 11979  9568  8833  8133"
      ]
     },
     "metadata": {},
     "output_type": "display_data"
    },
    {
     "data": {
      "text/html": [
       "<ol class=list-inline>\n",
       "\t<li>13563</li>\n",
       "\t<li>16981</li>\n",
       "\t<li>12921</li>\n",
       "\t<li>11979</li>\n",
       "\t<li>9568</li>\n",
       "\t<li>8833</li>\n",
       "\t<li>8133</li>\n",
       "</ol>\n"
      ],
      "text/latex": [
       "\\begin{enumerate*}\n",
       "\\item 13563\n",
       "\\item 16981\n",
       "\\item 12921\n",
       "\\item 11979\n",
       "\\item 9568\n",
       "\\item 8833\n",
       "\\item 8133\n",
       "\\end{enumerate*}\n"
      ],
      "text/markdown": [
       "1. 13563\n",
       "2. 16981\n",
       "3. 12921\n",
       "4. 11979\n",
       "5. 9568\n",
       "6. 8833\n",
       "7. 8133\n",
       "\n",
       "\n"
      ],
      "text/plain": [
       "[1] 13563 16981 12921 11979  9568  8833  8133"
      ]
     },
     "metadata": {},
     "output_type": "display_data"
    }
   ],
   "source": [
    "f1 <- c(13563,-14156,-14319,16981,12921,11979,9568,8833,-12968,8133)\n",
    "f1[is.finite(f1^75)]\n",
    "f1[-which(f1^75==-Inf)]"
   ]
  },
  {
   "cell_type": "code",
   "execution_count": 2,
   "metadata": {
    "collapsed": false,
    "deletable": true,
    "editable": true
   },
   "outputs": [
    {
     "data": {
      "text/html": [
       "<table>\n",
       "<thead><tr><th scope=col>row</th><th scope=col>col</th></tr></thead>\n",
       "<tbody>\n",
       "\t<tr><td>1</td><td>1</td></tr>\n",
       "\t<tr><td>2</td><td>2</td></tr>\n",
       "\t<tr><td>3</td><td>2</td></tr>\n",
       "\t<tr><td>3</td><td>3</td></tr>\n",
       "\t<tr><td>2</td><td>4</td></tr>\n",
       "</tbody>\n",
       "</table>\n"
      ],
      "text/latex": [
       "\\begin{tabular}{ll}\n",
       " row & col\\\\\n",
       "\\hline\n",
       "\t 1 & 1\\\\\n",
       "\t 2 & 2\\\\\n",
       "\t 3 & 2\\\\\n",
       "\t 3 & 3\\\\\n",
       "\t 2 & 4\\\\\n",
       "\\end{tabular}\n"
      ],
      "text/markdown": [
       "\n",
       "row | col | \n",
       "|---|---|---|---|---|\n",
       "| 1 | 1 | \n",
       "| 2 | 2 | \n",
       "| 3 | 2 | \n",
       "| 3 | 3 | \n",
       "| 2 | 4 | \n",
       "\n",
       "\n"
      ],
      "text/plain": [
       "     row col\n",
       "[1,] 1   1  \n",
       "[2,] 2   2  \n",
       "[3,] 3   2  \n",
       "[4,] 3   3  \n",
       "[5,] 2   4  "
      ]
     },
     "metadata": {},
     "output_type": "display_data"
    },
    {
     "data": {
      "text/html": [
       "<ol class=list-inline>\n",
       "\t<li>77875.4</li>\n",
       "\t<li>-35466.25</li>\n",
       "\t<li>-39803.81</li>\n",
       "\t<li>27551.45</li>\n",
       "\t<li>55976.34</li>\n",
       "\t<li>23764.3</li>\n",
       "\t<li>36599.69</li>\n",
       "\t<li>76694.82</li>\n",
       "\t<li>-36478.88</li>\n",
       "\t<li>47032</li>\n",
       "</ol>\n"
      ],
      "text/latex": [
       "\\begin{enumerate*}\n",
       "\\item 77875.4\n",
       "\\item -35466.25\n",
       "\\item -39803.81\n",
       "\\item 27551.45\n",
       "\\item 55976.34\n",
       "\\item 23764.3\n",
       "\\item 36599.69\n",
       "\\item 76694.82\n",
       "\\item -36478.88\n",
       "\\item 47032\n",
       "\\end{enumerate*}\n"
      ],
      "text/markdown": [
       "1. 77875.4\n",
       "2. -35466.25\n",
       "3. -39803.81\n",
       "4. 27551.45\n",
       "5. 55976.34\n",
       "6. 23764.3\n",
       "7. 36599.69\n",
       "8. 76694.82\n",
       "9. -36478.88\n",
       "10. 47032\n",
       "\n",
       "\n"
      ],
      "text/plain": [
       " [1]  77875.40 -35466.25 -39803.81  27551.45  55976.34  23764.30  36599.69\n",
       " [8]  76694.82 -36478.88  47032.00"
      ]
     },
     "metadata": {},
     "output_type": "display_data"
    },
    {
     "data": {
      "text/html": [
       "<ol class=list-inline>\n",
       "\t<li>77875.4</li>\n",
       "\t<li>-35466.25</li>\n",
       "\t<li>-39803.81</li>\n",
       "\t<li>27551.45</li>\n",
       "\t<li>55976.34</li>\n",
       "\t<li>23764.3</li>\n",
       "\t<li>36599.69</li>\n",
       "\t<li>76694.82</li>\n",
       "\t<li>-36478.88</li>\n",
       "\t<li>47032</li>\n",
       "</ol>\n"
      ],
      "text/latex": [
       "\\begin{enumerate*}\n",
       "\\item 77875.4\n",
       "\\item -35466.25\n",
       "\\item -39803.81\n",
       "\\item 27551.45\n",
       "\\item 55976.34\n",
       "\\item 23764.3\n",
       "\\item 36599.69\n",
       "\\item 76694.82\n",
       "\\item -36478.88\n",
       "\\item 47032\n",
       "\\end{enumerate*}\n"
      ],
      "text/markdown": [
       "1. 77875.4\n",
       "2. -35466.25\n",
       "3. -39803.81\n",
       "4. 27551.45\n",
       "5. 55976.34\n",
       "6. 23764.3\n",
       "7. 36599.69\n",
       "8. 76694.82\n",
       "9. -36478.88\n",
       "10. 47032\n",
       "\n",
       "\n"
      ],
      "text/plain": [
       " [1]  77875.40 -35466.25 -39803.81  27551.45  55976.34  23764.30  36599.69\n",
       " [8]  76694.82 -36478.88  47032.00"
      ]
     },
     "metadata": {},
     "output_type": "display_data"
    },
    {
     "data": {
      "text/html": [
       "<ol class=list-inline>\n",
       "\t<li>-35466.25</li>\n",
       "\t<li>-39803.81</li>\n",
       "\t<li>27551.45</li>\n",
       "\t<li>-73333.85</li>\n",
       "\t<li>23764.3</li>\n",
       "\t<li>36599.69</li>\n",
       "\t<li>-36478.88</li>\n",
       "\t<li>-70585.69</li>\n",
       "</ol>\n"
      ],
      "text/latex": [
       "\\begin{enumerate*}\n",
       "\\item -35466.25\n",
       "\\item -39803.81\n",
       "\\item 27551.45\n",
       "\\item -73333.85\n",
       "\\item 23764.3\n",
       "\\item 36599.69\n",
       "\\item -36478.88\n",
       "\\item -70585.69\n",
       "\\end{enumerate*}\n"
      ],
      "text/markdown": [
       "1. -35466.25\n",
       "2. -39803.81\n",
       "3. 27551.45\n",
       "4. -73333.85\n",
       "5. 23764.3\n",
       "6. 36599.69\n",
       "7. -36478.88\n",
       "8. -70585.69\n",
       "\n",
       "\n"
      ],
      "text/plain": [
       "[1] -35466.25 -39803.81  27551.45 -73333.85  23764.30  36599.69 -36478.88\n",
       "[8] -70585.69"
      ]
     },
     "metadata": {},
     "output_type": "display_data"
    }
   ],
   "source": [
    "varMatriz <- matrix(c(77875.4,-35466.25,-39803.81,27551.45,-73333.85,\n",
    "                55976.34,23764.3,36599.69,76694.82,-36478.88,-70585.69,47032),nrow=3,ncol=4)\n",
    "\n",
    "which(is.nan(varMatriz^65/Inf),arr.ind=T)\n",
    "varMatriz[!is.nan(varMatriz^67+Inf)]\n",
    "varMatriz[varMatriz^67!=-Inf]\n",
    "\n",
    "varMatriz[varMatriz^67==-Inf|is.finite(varMatriz^67)]"
   ]
  },
  {
   "cell_type": "code",
   "execution_count": 3,
   "metadata": {
    "collapsed": false,
    "deletable": true,
    "editable": true
   },
   "outputs": [
    {
     "data": {
      "text/html": [
       "8"
      ],
      "text/latex": [
       "8"
      ],
      "text/markdown": [
       "8"
      ],
      "text/plain": [
       "[1] 8"
      ]
     },
     "metadata": {},
     "output_type": "display_data"
    },
    {
     "data": {
      "text/html": [
       "<ol class=list-inline>\n",
       "\t<li>4</li>\n",
       "\t<li>8</li>\n",
       "</ol>\n"
      ],
      "text/latex": [
       "\\begin{enumerate*}\n",
       "\\item 4\n",
       "\\item 8\n",
       "\\end{enumerate*}\n"
      ],
      "text/markdown": [
       "1. 4\n",
       "2. 8\n",
       "\n",
       "\n"
      ],
      "text/plain": [
       "[1] 4 8"
      ]
     },
     "metadata": {},
     "output_type": "display_data"
    },
    {
     "data": {
      "text/html": [
       "FALSE"
      ],
      "text/latex": [
       "FALSE"
      ],
      "text/markdown": [
       "FALSE"
      ],
      "text/plain": [
       "[1] FALSE"
      ]
     },
     "metadata": {},
     "output_type": "display_data"
    }
   ],
   "source": [
    "f2 <- c(4.3,2.2,NULL,2.4,NaN,3.3,3.1,NULL,3.4,NA)\n",
    "\n",
    "length(x=f2)\n",
    "which(x=is.na(x=f2))\n",
    "\n",
    "is.null(x=f2)"
   ]
  },
  {
   "cell_type": "markdown",
   "metadata": {
    "deletable": true,
    "editable": true
   },
   "source": [
    "### Solución 2"
   ]
  },
  {
   "cell_type": "code",
   "execution_count": 4,
   "metadata": {
    "collapsed": false,
    "deletable": true,
    "editable": true
   },
   "outputs": [
    {
     "data": {
      "text/html": [
       "<ol>\n",
       "\t<li>'a!'</li>\n",
       "\t<li><ol class=list-inline>\n",
       "\t<li>'b!'</li>\n",
       "\t<li>'c!'</li>\n",
       "\t<li>'d!'</li>\n",
       "\t<li>'e!'</li>\n",
       "</ol>\n",
       "</li>\n",
       "\t<li>'f!'</li>\n",
       "\t<li><ol class=list-inline>\n",
       "\t<li>'g!'</li>\n",
       "\t<li>'h!'</li>\n",
       "\t<li>'i!'</li>\n",
       "</ol>\n",
       "</li>\n",
       "</ol>\n"
      ],
      "text/latex": [
       "\\begin{enumerate}\n",
       "\\item 'a!'\n",
       "\\item \\begin{enumerate*}\n",
       "\\item 'b!'\n",
       "\\item 'c!'\n",
       "\\item 'd!'\n",
       "\\item 'e!'\n",
       "\\end{enumerate*}\n",
       "\n",
       "\\item 'f!'\n",
       "\\item \\begin{enumerate*}\n",
       "\\item 'g!'\n",
       "\\item 'h!'\n",
       "\\item 'i!'\n",
       "\\end{enumerate*}\n",
       "\n",
       "\\end{enumerate}\n"
      ],
      "text/markdown": [
       "1. 'a!'\n",
       "2. 1. 'b!'\n",
       "2. 'c!'\n",
       "3. 'd!'\n",
       "4. 'e!'\n",
       "\n",
       "\n",
       "\n",
       "3. 'f!'\n",
       "4. 1. 'g!'\n",
       "2. 'h!'\n",
       "3. 'i!'\n",
       "\n",
       "\n",
       "\n",
       "\n",
       "\n"
      ],
      "text/plain": [
       "[[1]]\n",
       "[1] \"a!\"\n",
       "\n",
       "[[2]]\n",
       "[1] \"b!\" \"c!\" \"d!\" \"e!\"\n",
       "\n",
       "[[3]]\n",
       "[1] \"f!\"\n",
       "\n",
       "[[4]]\n",
       "[1] \"g!\" \"h!\" \"i!\"\n"
      ]
     },
     "metadata": {},
     "output_type": "display_data"
    }
   ],
   "source": [
    "f3 <- list(\"a\",c(\"b\",\"c\",\"d\",\"e\"),\"f\",c(\"g\",\"h\",\"i\"))\n",
    "lapply(f3,function(x) paste(x,\"!\",sep=\"\"))"
   ]
  },
  {
   "cell_type": "code",
   "execution_count": 5,
   "metadata": {
    "collapsed": false,
    "deletable": true,
    "editable": true
   },
   "outputs": [
    {
     "data": {
      "text/html": [
       "<ol>\n",
       "\t<li>1.81712059283214</li>\n",
       "\t<li><ol class=list-inline>\n",
       "\t<li>3.89615194775563</li>\n",
       "\t<li>3.79473319220206</li>\n",
       "\t<li>2.94618397253125</li>\n",
       "\t<li>4.44297197830461</li>\n",
       "</ol>\n",
       "</li>\n",
       "\t<li><ol class=list-inline>\n",
       "\t<li>3.38803489105765</li>\n",
       "\t<li>4.10608003308461</li>\n",
       "</ol>\n",
       "</li>\n",
       "</ol>\n"
      ],
      "text/latex": [
       "\\begin{enumerate}\n",
       "\\item 1.81712059283214\n",
       "\\item \\begin{enumerate*}\n",
       "\\item 3.89615194775563\n",
       "\\item 3.79473319220206\n",
       "\\item 2.94618397253125\n",
       "\\item 4.44297197830461\n",
       "\\end{enumerate*}\n",
       "\n",
       "\\item \\begin{enumerate*}\n",
       "\\item 3.38803489105765\n",
       "\\item 4.10608003308461\n",
       "\\end{enumerate*}\n",
       "\n",
       "\\end{enumerate}\n"
      ],
      "text/markdown": [
       "1. 1.81712059283214\n",
       "2. 1. 3.89615194775563\n",
       "2. 3.79473319220206\n",
       "3. 2.94618397253125\n",
       "4. 4.44297197830461\n",
       "\n",
       "\n",
       "\n",
       "3. 1. 3.38803489105765\n",
       "2. 4.10608003308461\n",
       "\n",
       "\n",
       "\n",
       "\n",
       "\n"
      ],
      "text/plain": [
       "[[1]]\n",
       "[1] 1.817121\n",
       "\n",
       "[[2]]\n",
       "[1] 3.896152 3.794733 2.946184 4.442972\n",
       "\n",
       "[[3]]\n",
       "[1] 3.388035 4.106080\n"
      ]
     },
     "metadata": {},
     "output_type": "display_data"
    }
   ],
   "source": [
    "geolista <- function(x){\n",
    "    geo <- function(nums){\n",
    "        return(prod(nums)^(1/length(nums)))\n",
    "  }\n",
    "  \n",
    "  for(i in 1:length(x)){\n",
    "      if(!is.matrix(x[[i]])){\n",
    "          x[[i]] <- geo(x[[i]])\n",
    "      } else {\n",
    "          x[[i]] <- apply(x[[i]],1,geo)\n",
    "      }\n",
    "  }\n",
    "    return(x)\n",
    "}\n",
    "\n",
    "f4 <- list(1:3,matrix(c(3.3,3.2,2.8,2.1,4.6,4.5,3.1,9.4),4,2),matrix(c(3.3,3.2,2.8,2.1,4.6,4.5,3.1,9.4),2,4))\n",
    "geolista(f4)"
   ]
  },
  {
   "cell_type": "code",
   "execution_count": 6,
   "metadata": {
    "collapsed": false,
    "deletable": true,
    "editable": true
   },
   "outputs": [
    {
     "data": {
      "text/html": [
       "<ol>\n",
       "\t<li>4.14716627439691</li>\n",
       "\t<li>4.14716627439691</li>\n",
       "\t<li><ol class=list-inline>\n",
       "\t<li>1</li>\n",
       "\t<li>2</li>\n",
       "\t<li>3</li>\n",
       "\t<li>4</li>\n",
       "\t<li>5</li>\n",
       "\t<li>6</li>\n",
       "\t<li>7</li>\n",
       "\t<li>8</li>\n",
       "\t<li>9</li>\n",
       "</ol>\n",
       "</li>\n",
       "\t<li><ol class=list-inline>\n",
       "\t<li>3.03658897187566</li>\n",
       "\t<li>4.30886938006377</li>\n",
       "\t<li>5.45136177849642</li>\n",
       "</ol>\n",
       "</li>\n",
       "</ol>\n"
      ],
      "text/latex": [
       "\\begin{enumerate}\n",
       "\\item 4.14716627439691\n",
       "\\item 4.14716627439691\n",
       "\\item \\begin{enumerate*}\n",
       "\\item 1\n",
       "\\item 2\n",
       "\\item 3\n",
       "\\item 4\n",
       "\\item 5\n",
       "\\item 6\n",
       "\\item 7\n",
       "\\item 8\n",
       "\\item 9\n",
       "\\end{enumerate*}\n",
       "\n",
       "\\item \\begin{enumerate*}\n",
       "\\item 3.03658897187566\n",
       "\\item 4.30886938006377\n",
       "\\item 5.45136177849642\n",
       "\\end{enumerate*}\n",
       "\n",
       "\\end{enumerate}\n"
      ],
      "text/markdown": [
       "1. 4.14716627439691\n",
       "2. 4.14716627439691\n",
       "3. 1. 1\n",
       "2. 2\n",
       "3. 3\n",
       "4. 4\n",
       "5. 5\n",
       "6. 6\n",
       "7. 7\n",
       "8. 8\n",
       "9. 9\n",
       "\n",
       "\n",
       "\n",
       "4. 1. 3.03658897187566\n",
       "2. 4.30886938006377\n",
       "3. 5.45136177849642\n",
       "\n",
       "\n",
       "\n",
       "\n",
       "\n"
      ],
      "text/plain": [
       "[[1]]\n",
       "[1] 4.147166\n",
       "\n",
       "[[2]]\n",
       "[1] 4.147166\n",
       "\n",
       "[[3]]\n",
       "[1] 1 2 3 4 5 6 7 8 9\n",
       "\n",
       "[[4]]\n",
       "[1] 3.036589 4.308869 5.451362\n"
      ]
     },
     "metadata": {},
     "output_type": "display_data"
    }
   ],
   "source": [
    "f5 <- list(1:9,matrix(1:9,1,9),matrix(1:9,9,1),matrix(1:9,3,3))\n",
    "geolista(f5)"
   ]
  },
  {
   "cell_type": "markdown",
   "metadata": {
    "deletable": true,
    "editable": true
   },
   "source": [
    "Respuesta: Hay muchas funciones que toman como argumento de entrada una función  "
   ]
  },
  {
   "cell_type": "code",
   "execution_count": 8,
   "metadata": {
    "collapsed": false,
    "deletable": true,
    "editable": true
   },
   "outputs": [
    {
     "data": {
      "text/html": [
       "<dl>\n",
       "\t<dt>$base</dt>\n",
       "\t\t<dd>5.5</dd>\n",
       "\t<dt>$sum</dt>\n",
       "\t\t<dd>5.5</dd>\n",
       "\t<dt>$manual</dt>\n",
       "\t\t<dd>5.5</dd>\n",
       "</dl>\n"
      ],
      "text/latex": [
       "\\begin{description}\n",
       "\\item[\\$base] 5.5\n",
       "\\item[\\$sum] 5.5\n",
       "\\item[\\$manual] 5.5\n",
       "\\end{description}\n"
      ],
      "text/markdown": [
       "$base\n",
       ":   5.5\n",
       "$sum\n",
       ":   5.5\n",
       "$manual\n",
       ":   5.5\n",
       "\n",
       "\n"
      ],
      "text/plain": [
       "$base\n",
       "[1] 5.5\n",
       "\n",
       "$sum\n",
       "[1] 5.5\n",
       "\n",
       "$manual\n",
       "[1] 5.5\n"
      ]
     },
     "metadata": {},
     "output_type": "display_data"
    }
   ],
   "source": [
    "media_calculo <- list(\n",
    "    base = function(x) mean(x),\n",
    "    sum = function(x) sum(x) / length(x),\n",
    "    manual = function(x) {\n",
    "        total <- 0\n",
    "        n <- length(x)\n",
    "        for (i in seq_along(x)) {\n",
    "            total <- total + x[i] / n\n",
    "        }\n",
    "    total\n",
    "  }\n",
    ")\n",
    "x <- 1:10\n",
    "lapply(media_calculo, function(f) f(x))"
   ]
  },
  {
   "cell_type": "markdown",
   "metadata": {
    "deletable": true,
    "editable": true
   },
   "source": [
    "Hay muchas que funciones que retornan una función como salida. Las clausuras en R, son un ejemplo:"
   ]
  },
  {
   "cell_type": "code",
   "execution_count": 9,
   "metadata": {
    "collapsed": false,
    "deletable": true,
    "editable": true
   },
   "outputs": [
    {
     "data": {
      "text/html": [
       "<ol class=list-inline>\n",
       "\t<li>3</li>\n",
       "\t<li>4</li>\n",
       "\t<li>5</li>\n",
       "\t<li>6</li>\n",
       "\t<li>7</li>\n",
       "\t<li>8</li>\n",
       "\t<li>9</li>\n",
       "\t<li>10</li>\n",
       "\t<li>11</li>\n",
       "\t<li>12</li>\n",
       "</ol>\n"
      ],
      "text/latex": [
       "\\begin{enumerate*}\n",
       "\\item 3\n",
       "\\item 4\n",
       "\\item 5\n",
       "\\item 6\n",
       "\\item 7\n",
       "\\item 8\n",
       "\\item 9\n",
       "\\item 10\n",
       "\\item 11\n",
       "\\item 12\n",
       "\\end{enumerate*}\n"
      ],
      "text/markdown": [
       "1. 3\n",
       "2. 4\n",
       "3. 5\n",
       "4. 6\n",
       "5. 7\n",
       "6. 8\n",
       "7. 9\n",
       "8. 10\n",
       "9. 11\n",
       "10. 12\n",
       "\n",
       "\n"
      ],
      "text/plain": [
       " [1]  3  4  5  6  7  8  9 10 11 12"
      ]
     },
     "metadata": {},
     "output_type": "display_data"
    },
    {
     "data": {
      "text/html": [
       "<ol class=list-inline>\n",
       "\t<li>8</li>\n",
       "\t<li>9</li>\n",
       "\t<li>10</li>\n",
       "\t<li>11</li>\n",
       "\t<li>12</li>\n",
       "\t<li>13</li>\n",
       "\t<li>14</li>\n",
       "\t<li>15</li>\n",
       "\t<li>16</li>\n",
       "\t<li>17</li>\n",
       "</ol>\n"
      ],
      "text/latex": [
       "\\begin{enumerate*}\n",
       "\\item 8\n",
       "\\item 9\n",
       "\\item 10\n",
       "\\item 11\n",
       "\\item 12\n",
       "\\item 13\n",
       "\\item 14\n",
       "\\item 15\n",
       "\\item 16\n",
       "\\item 17\n",
       "\\end{enumerate*}\n"
      ],
      "text/markdown": [
       "1. 8\n",
       "2. 9\n",
       "3. 10\n",
       "4. 11\n",
       "5. 12\n",
       "6. 13\n",
       "7. 14\n",
       "8. 15\n",
       "9. 16\n",
       "10. 17\n",
       "\n",
       "\n"
      ],
      "text/plain": [
       " [1]  8  9 10 11 12 13 14 15 16 17"
      ]
     },
     "metadata": {},
     "output_type": "display_data"
    }
   ],
   "source": [
    "agrega_x <- function(x) {\n",
    "    function(y) { x + y }\n",
    "}\n",
    "agrega_2 <- agrega_x(2)\n",
    "agrega_7 <- agrega_x(7)\n",
    "\n",
    "agrega_2(1:10)\n",
    "agrega_7(1:10)"
   ]
  },
  {
   "cell_type": "markdown",
   "metadata": {
    "deletable": true,
    "editable": true
   },
   "source": [
    "### Solución 3"
   ]
  },
  {
   "cell_type": "code",
   "execution_count": 10,
   "metadata": {
    "collapsed": false,
    "deletable": true,
    "editable": true
   },
   "outputs": [
    {
     "data": {
      "text/html": [
       "<ol>\n",
       "\t<li>1</li>\n",
       "\t<li><ol class=list-inline>\n",
       "\t<li>1</li>\n",
       "\t<li>1</li>\n",
       "</ol>\n",
       "</li>\n",
       "\t<li><ol class=list-inline>\n",
       "\t<li>1</li>\n",
       "\t<li>2</li>\n",
       "\t<li>1</li>\n",
       "</ol>\n",
       "</li>\n",
       "\t<li><ol class=list-inline>\n",
       "\t<li>1</li>\n",
       "\t<li>3</li>\n",
       "\t<li>3</li>\n",
       "\t<li>1</li>\n",
       "</ol>\n",
       "</li>\n",
       "</ol>\n"
      ],
      "text/latex": [
       "\\begin{enumerate}\n",
       "\\item 1\n",
       "\\item \\begin{enumerate*}\n",
       "\\item 1\n",
       "\\item 1\n",
       "\\end{enumerate*}\n",
       "\n",
       "\\item \\begin{enumerate*}\n",
       "\\item 1\n",
       "\\item 2\n",
       "\\item 1\n",
       "\\end{enumerate*}\n",
       "\n",
       "\\item \\begin{enumerate*}\n",
       "\\item 1\n",
       "\\item 3\n",
       "\\item 3\n",
       "\\item 1\n",
       "\\end{enumerate*}\n",
       "\n",
       "\\end{enumerate}\n"
      ],
      "text/markdown": [
       "1. 1\n",
       "2. 1. 1\n",
       "2. 1\n",
       "\n",
       "\n",
       "\n",
       "3. 1. 1\n",
       "2. 2\n",
       "3. 1\n",
       "\n",
       "\n",
       "\n",
       "4. 1. 1\n",
       "2. 3\n",
       "3. 3\n",
       "4. 1\n",
       "\n",
       "\n",
       "\n",
       "\n",
       "\n"
      ],
      "text/plain": [
       "[[1]]\n",
       "[1] 1\n",
       "\n",
       "[[2]]\n",
       "[1] 1 1\n",
       "\n",
       "[[3]]\n",
       "[1] 1 2 1\n",
       "\n",
       "[[4]]\n",
       "[1] 1 3 3 1\n"
      ]
     },
     "metadata": {},
     "output_type": "display_data"
    }
   ],
   "source": [
    "# Una forma de solucion. Dada por Luis Vasquez Espinoza.\n",
    "\n",
    "constructor <- function(nivel){\n",
    "  nuevo_nivel <- c(1)\n",
    "  for(i in 1:length(nivel)){\n",
    "    nuevo_nivel <- c(nuevo_nivel, nivel[i - 1] + nivel[i])\n",
    "  }\n",
    "  nuevo_nivel <- c(nuevo_nivel, 1)\n",
    "  return(nuevo_nivel)\n",
    "}\n",
    "\n",
    "lista_pascal <- function(n){\n",
    "  lista_resultado <- list(c(1))\n",
    "  if(n == 1){\n",
    "    return(lista_resultado)\n",
    "  } else {\n",
    "    for(i in 2:n){ \n",
    "      lista_resultado <- c(lista_resultado, list(constructor(lista_resultado[[i - 1]])))\n",
    "    }\n",
    "  }\n",
    "  return(lista_resultado)\n",
    "}\n",
    "lista_pascal(n = 4)"
   ]
  },
  {
   "cell_type": "code",
   "execution_count": 11,
   "metadata": {
    "collapsed": false,
    "deletable": true,
    "editable": true
   },
   "outputs": [
    {
     "data": {
      "text/html": [
       "<ol>\n",
       "\t<li>1</li>\n",
       "\t<li><ol class=list-inline>\n",
       "\t<li>1</li>\n",
       "\t<li>1</li>\n",
       "</ol>\n",
       "</li>\n",
       "\t<li><ol class=list-inline>\n",
       "\t<li>1</li>\n",
       "\t<li>2</li>\n",
       "\t<li>1</li>\n",
       "</ol>\n",
       "</li>\n",
       "\t<li><ol class=list-inline>\n",
       "\t<li>1</li>\n",
       "\t<li>3</li>\n",
       "\t<li>3</li>\n",
       "\t<li>1</li>\n",
       "</ol>\n",
       "</li>\n",
       "\t<li><ol class=list-inline>\n",
       "\t<li>1</li>\n",
       "\t<li>4</li>\n",
       "\t<li>6</li>\n",
       "\t<li>4</li>\n",
       "\t<li>1</li>\n",
       "</ol>\n",
       "</li>\n",
       "\t<li><ol class=list-inline>\n",
       "\t<li>1</li>\n",
       "\t<li>5</li>\n",
       "\t<li>10</li>\n",
       "\t<li>10</li>\n",
       "\t<li>5</li>\n",
       "\t<li>1</li>\n",
       "</ol>\n",
       "</li>\n",
       "\t<li><ol class=list-inline>\n",
       "\t<li>1</li>\n",
       "\t<li>6</li>\n",
       "\t<li>15</li>\n",
       "\t<li>20</li>\n",
       "\t<li>15</li>\n",
       "\t<li>6</li>\n",
       "\t<li>1</li>\n",
       "</ol>\n",
       "</li>\n",
       "\t<li><ol class=list-inline>\n",
       "\t<li>1</li>\n",
       "\t<li>7</li>\n",
       "\t<li>21</li>\n",
       "\t<li>35</li>\n",
       "\t<li>35</li>\n",
       "\t<li>21</li>\n",
       "\t<li>7</li>\n",
       "\t<li>1</li>\n",
       "</ol>\n",
       "</li>\n",
       "\t<li><ol class=list-inline>\n",
       "\t<li>1</li>\n",
       "\t<li>8</li>\n",
       "\t<li>28</li>\n",
       "\t<li>56</li>\n",
       "\t<li>70</li>\n",
       "\t<li>56</li>\n",
       "\t<li>28</li>\n",
       "\t<li>8</li>\n",
       "\t<li>1</li>\n",
       "</ol>\n",
       "</li>\n",
       "\t<li><ol class=list-inline>\n",
       "\t<li>1</li>\n",
       "\t<li>9</li>\n",
       "\t<li>36</li>\n",
       "\t<li>84</li>\n",
       "\t<li>126</li>\n",
       "\t<li>126</li>\n",
       "\t<li>84</li>\n",
       "\t<li>36</li>\n",
       "\t<li>9</li>\n",
       "\t<li>1</li>\n",
       "</ol>\n",
       "</li>\n",
       "</ol>\n"
      ],
      "text/latex": [
       "\\begin{enumerate}\n",
       "\\item 1\n",
       "\\item \\begin{enumerate*}\n",
       "\\item 1\n",
       "\\item 1\n",
       "\\end{enumerate*}\n",
       "\n",
       "\\item \\begin{enumerate*}\n",
       "\\item 1\n",
       "\\item 2\n",
       "\\item 1\n",
       "\\end{enumerate*}\n",
       "\n",
       "\\item \\begin{enumerate*}\n",
       "\\item 1\n",
       "\\item 3\n",
       "\\item 3\n",
       "\\item 1\n",
       "\\end{enumerate*}\n",
       "\n",
       "\\item \\begin{enumerate*}\n",
       "\\item 1\n",
       "\\item 4\n",
       "\\item 6\n",
       "\\item 4\n",
       "\\item 1\n",
       "\\end{enumerate*}\n",
       "\n",
       "\\item \\begin{enumerate*}\n",
       "\\item 1\n",
       "\\item 5\n",
       "\\item 10\n",
       "\\item 10\n",
       "\\item 5\n",
       "\\item 1\n",
       "\\end{enumerate*}\n",
       "\n",
       "\\item \\begin{enumerate*}\n",
       "\\item 1\n",
       "\\item 6\n",
       "\\item 15\n",
       "\\item 20\n",
       "\\item 15\n",
       "\\item 6\n",
       "\\item 1\n",
       "\\end{enumerate*}\n",
       "\n",
       "\\item \\begin{enumerate*}\n",
       "\\item 1\n",
       "\\item 7\n",
       "\\item 21\n",
       "\\item 35\n",
       "\\item 35\n",
       "\\item 21\n",
       "\\item 7\n",
       "\\item 1\n",
       "\\end{enumerate*}\n",
       "\n",
       "\\item \\begin{enumerate*}\n",
       "\\item 1\n",
       "\\item 8\n",
       "\\item 28\n",
       "\\item 56\n",
       "\\item 70\n",
       "\\item 56\n",
       "\\item 28\n",
       "\\item 8\n",
       "\\item 1\n",
       "\\end{enumerate*}\n",
       "\n",
       "\\item \\begin{enumerate*}\n",
       "\\item 1\n",
       "\\item 9\n",
       "\\item 36\n",
       "\\item 84\n",
       "\\item 126\n",
       "\\item 126\n",
       "\\item 84\n",
       "\\item 36\n",
       "\\item 9\n",
       "\\item 1\n",
       "\\end{enumerate*}\n",
       "\n",
       "\\end{enumerate}\n"
      ],
      "text/markdown": [
       "1. 1\n",
       "2. 1. 1\n",
       "2. 1\n",
       "\n",
       "\n",
       "\n",
       "3. 1. 1\n",
       "2. 2\n",
       "3. 1\n",
       "\n",
       "\n",
       "\n",
       "4. 1. 1\n",
       "2. 3\n",
       "3. 3\n",
       "4. 1\n",
       "\n",
       "\n",
       "\n",
       "5. 1. 1\n",
       "2. 4\n",
       "3. 6\n",
       "4. 4\n",
       "5. 1\n",
       "\n",
       "\n",
       "\n",
       "6. 1. 1\n",
       "2. 5\n",
       "3. 10\n",
       "4. 10\n",
       "5. 5\n",
       "6. 1\n",
       "\n",
       "\n",
       "\n",
       "7. 1. 1\n",
       "2. 6\n",
       "3. 15\n",
       "4. 20\n",
       "5. 15\n",
       "6. 6\n",
       "7. 1\n",
       "\n",
       "\n",
       "\n",
       "8. 1. 1\n",
       "2. 7\n",
       "3. 21\n",
       "4. 35\n",
       "5. 35\n",
       "6. 21\n",
       "7. 7\n",
       "8. 1\n",
       "\n",
       "\n",
       "\n",
       "9. 1. 1\n",
       "2. 8\n",
       "3. 28\n",
       "4. 56\n",
       "5. 70\n",
       "6. 56\n",
       "7. 28\n",
       "8. 8\n",
       "9. 1\n",
       "\n",
       "\n",
       "\n",
       "10. 1. 1\n",
       "2. 9\n",
       "3. 36\n",
       "4. 84\n",
       "5. 126\n",
       "6. 126\n",
       "7. 84\n",
       "8. 36\n",
       "9. 9\n",
       "10. 1\n",
       "\n",
       "\n",
       "\n",
       "\n",
       "\n"
      ],
      "text/plain": [
       "[[1]]\n",
       "[1] 1\n",
       "\n",
       "[[2]]\n",
       "[1] 1 1\n",
       "\n",
       "[[3]]\n",
       "[1] 1 2 1\n",
       "\n",
       "[[4]]\n",
       "[1] 1 3 3 1\n",
       "\n",
       "[[5]]\n",
       "[1] 1 4 6 4 1\n",
       "\n",
       "[[6]]\n",
       "[1]  1  5 10 10  5  1\n",
       "\n",
       "[[7]]\n",
       "[1]  1  6 15 20 15  6  1\n",
       "\n",
       "[[8]]\n",
       "[1]  1  7 21 35 35 21  7  1\n",
       "\n",
       "[[9]]\n",
       "[1]  1  8 28 56 70 56 28  8  1\n",
       "\n",
       "[[10]]\n",
       " [1]   1   9  36  84 126 126  84  36   9   1\n"
      ]
     },
     "metadata": {},
     "output_type": "display_data"
    }
   ],
   "source": [
    "# Solucion dada por Josias Ruegg Yupa\n",
    "# La funcion, que calcula el triangulo de pascal para n+1 dado el triangulo hasta n niveles\n",
    "\n",
    "pascal.next <- function(pascal) {\n",
    "  #ultima fila\n",
    "  uf <- pascal[[length(pascal)]]\n",
    "  return(c(pascal, list(c(0, uf) + c(uf, 0))))\n",
    " }   \n",
    "# Para comprobar que funciona triangulo de pascal a profundidad 4\n",
    "p1 <- list(c(1), c(1, 1), c(1, 2, 1), c(1, 3, 3, 1))\n",
    "\n",
    "#calculamos hasta el nivel 10\n",
    "for(i in 5:10) {\n",
    "  p1 <- pascal.next(p1)\n",
    "}\n",
    "p1"
   ]
  },
  {
   "cell_type": "code",
   "execution_count": 12,
   "metadata": {
    "collapsed": false,
    "deletable": true,
    "editable": true
   },
   "outputs": [
    {
     "data": {
      "text/html": [
       "<table>\n",
       "<tbody>\n",
       "\t<tr><td>0</td><td>0</td><td>0</td></tr>\n",
       "\t<tr><td>0</td><td>0</td><td>1</td></tr>\n",
       "\t<tr><td>0</td><td>1</td><td>0</td></tr>\n",
       "\t<tr><td>0</td><td>1</td><td>1</td></tr>\n",
       "\t<tr><td>1</td><td>0</td><td>0</td></tr>\n",
       "\t<tr><td>1</td><td>0</td><td>1</td></tr>\n",
       "\t<tr><td>1</td><td>1</td><td>0</td></tr>\n",
       "\t<tr><td>1</td><td>1</td><td>1</td></tr>\n",
       "</tbody>\n",
       "</table>\n"
      ],
      "text/latex": [
       "\\begin{tabular}{lll}\n",
       "\t 0 & 0 & 0\\\\\n",
       "\t 0 & 0 & 1\\\\\n",
       "\t 0 & 1 & 0\\\\\n",
       "\t 0 & 1 & 1\\\\\n",
       "\t 1 & 0 & 0\\\\\n",
       "\t 1 & 0 & 1\\\\\n",
       "\t 1 & 1 & 0\\\\\n",
       "\t 1 & 1 & 1\\\\\n",
       "\\end{tabular}\n"
      ],
      "text/markdown": [
       "\n",
       "| 0 | 0 | 0 | \n",
       "| 0 | 0 | 1 | \n",
       "| 0 | 1 | 0 | \n",
       "| 0 | 1 | 1 | \n",
       "| 1 | 0 | 0 | \n",
       "| 1 | 0 | 1 | \n",
       "| 1 | 1 | 0 | \n",
       "| 1 | 1 | 1 | \n",
       "\n",
       "\n"
      ],
      "text/plain": [
       "     [,1] [,2] [,3]\n",
       "[1,] 0    0    0   \n",
       "[2,] 0    0    1   \n",
       "[3,] 0    1    0   \n",
       "[4,] 0    1    1   \n",
       "[5,] 1    0    0   \n",
       "[6,] 1    0    1   \n",
       "[7,] 1    1    0   \n",
       "[8,] 1    1    1   "
      ]
     },
     "metadata": {},
     "output_type": "display_data"
    }
   ],
   "source": [
    "# Solucion dada por Jesus Rodriguez Felices \n",
    "\n",
    "binseq <- function(n) {\n",
    "  if(n > 1){\n",
    "    A <- binseq(n-1)\n",
    "    C <- rbind(cbind(0,A), cbind(1,A)) # Usamos las funciones rbind() y c(bind) para combinar las matrices, 0s y 1s, en C\n",
    "    return(C)\n",
    "  }else if(n == 1){\n",
    "    return(matrix(c(0,1), nrow = 2))\n",
    "  }\n",
    "}\n",
    "binseq(n =3)"
   ]
  },
  {
   "cell_type": "markdown",
   "metadata": {
    "deletable": true,
    "editable": true
   },
   "source": [
    "### Solución 4"
   ]
  },
  {
   "cell_type": "code",
   "execution_count": 13,
   "metadata": {
    "collapsed": false,
    "deletable": true,
    "editable": true
   },
   "outputs": [
    {
     "name": "stderr",
     "output_type": "stream",
     "text": [
      "Warning message:\n",
      "“package ‘dplyr’ was built under R version 3.3.3”\n",
      "Attaching package: ‘dplyr’\n",
      "\n",
      "The following objects are masked from ‘package:plyr’:\n",
      "\n",
      "    arrange, count, desc, failwith, id, mutate, rename, summarise,\n",
      "    summarize\n",
      "\n",
      "The following objects are masked from ‘package:stats’:\n",
      "\n",
      "    filter, lag\n",
      "\n",
      "The following objects are masked from ‘package:base’:\n",
      "\n",
      "    intersect, setdiff, setequal, union\n",
      "\n"
     ]
    },
    {
     "data": {},
     "metadata": {},
     "output_type": "display_data"
    },
    {
     "data": {
      "image/png": "[encoded data removed]",
      "text/plain": [
       "plot without title"
      ]
     },
     "metadata": {},
     "output_type": "display_data"
    }
   ],
   "source": [
    "library(\"ggplot2\")\n",
    "library(\"plyr\")\n",
    "library(\"dplyr\")\n",
    "\n",
    "ggplot(data = mpg)"
   ]
  },
  {
   "cell_type": "markdown",
   "metadata": {
    "deletable": true,
    "editable": true
   },
   "source": [
    "Respuesta: Nada. Se dibuja el gráfico, pero a ggplot  no se le da ningún dato para dibujar."
   ]
  },
  {
   "cell_type": "code",
   "execution_count": 14,
   "metadata": {
    "collapsed": false,
    "deletable": true,
    "editable": true
   },
   "outputs": [
    {
     "data": {
      "text/html": [
       "32"
      ],
      "text/latex": [
       "32"
      ],
      "text/markdown": [
       "32"
      ],
      "text/plain": [
       "[1] 32"
      ]
     },
     "metadata": {},
     "output_type": "display_data"
    },
    {
     "data": {
      "text/html": [
       "11"
      ],
      "text/latex": [
       "11"
      ],
      "text/markdown": [
       "11"
      ],
      "text/plain": [
       "[1] 11"
      ]
     },
     "metadata": {},
     "output_type": "display_data"
    }
   ],
   "source": [
    "nrow(mtcars)\n",
    "ncol(mtcars)"
   ]
  },
  {
   "cell_type": "code",
   "execution_count": 15,
   "metadata": {
    "collapsed": true,
    "deletable": true,
    "editable": true
   },
   "outputs": [],
   "source": [
    "?mpg"
   ]
  },
  {
   "cell_type": "markdown",
   "metadata": {
    "deletable": true,
    "editable": true
   },
   "source": [
    "La variable `drv` toma los siguientes valores:\n",
    "\n",
    "* \"f\" = front-wheel drive\n",
    "* \"r\" = rear wheel drive\n",
    "* \"4\" = 4wd"
   ]
  },
  {
   "cell_type": "code",
   "execution_count": 16,
   "metadata": {
    "collapsed": false,
    "deletable": true,
    "editable": true
   },
   "outputs": [
    {
     "data": {},
     "metadata": {},
     "output_type": "display_data"
    },
    {
     "data": {
      "image/png": "[encoded data removed]",
      "text/plain": [
       "plot without title"
      ]
     },
     "metadata": {},
     "output_type": "display_data"
    }
   ],
   "source": [
    "ggplot(mpg, aes(x = hwy, y = cyl)) +\n",
    "geom_point()"
   ]
  },
  {
   "cell_type": "code",
   "execution_count": 17,
   "metadata": {
    "collapsed": false,
    "deletable": true,
    "editable": true
   },
   "outputs": [
    {
     "data": {},
     "metadata": {},
     "output_type": "display_data"
    },
    {
     "data": {
      "image/png": "[encoded data removed]",
      "text/plain": [
       "plot without title"
      ]
     },
     "metadata": {},
     "output_type": "display_data"
    }
   ],
   "source": [
    "ggplot(mpg, aes(x = class, y = drv)) +\n",
    "geom_point()"
   ]
  },
  {
   "cell_type": "markdown",
   "metadata": {
    "deletable": true,
    "editable": true
   },
   "source": [
    "Respuesta: Un diagrama de dispersión no es una forma útil de graficar estas variables, ya que `drv` y `class` son variables de factores, y el diagrama de dispersión no puede mostrar que se superponen o no."
   ]
  },
  {
   "cell_type": "code",
   "execution_count": 19,
   "metadata": {
    "collapsed": false,
    "deletable": true,
    "editable": true
   },
   "outputs": [
    {
     "data": {},
     "metadata": {},
     "output_type": "display_data"
    },
    {
     "data": {
      "image/png": "[encoded data removed]",
      "text/plain": [
       "plot without title"
      ]
     },
     "metadata": {},
     "output_type": "display_data"
    }
   ],
   "source": [
    "ggplot(data = mpg) + \n",
    "geom_point(mapping = aes(x = displ, y = hwy, color = \"blue\"))"
   ]
  },
  {
   "cell_type": "markdown",
   "metadata": {
    "deletable": true,
    "editable": true
   },
   "source": [
    "Dado que  `color = \"blue\"` fue incluido dentro del argumento de mapeo, fue dibujado como un mapeo entre una variable y un valor (`aesthetic`). Esta variable se consideró que sólo tiene un valor: `\"blue\"`."
   ]
  },
  {
   "cell_type": "markdown",
   "metadata": {
    "deletable": true,
    "editable": true
   },
   "source": [
    "Respuesta: Al imprimir el data frame, esta información se proporciona en la parte superior de cada columna dentro de corchetes angulados. Las variables categóricas tienen una clase de `\"character\"` (<chr>)."
   ]
  },
  {
   "cell_type": "code",
   "execution_count": 20,
   "metadata": {
    "collapsed": false,
    "deletable": true,
    "editable": true
   },
   "outputs": [
    {
     "data": {
      "text/html": [
       "<table>\n",
       "<thead><tr><th scope=col>manufacturer</th><th scope=col>model</th><th scope=col>displ</th><th scope=col>year</th><th scope=col>cyl</th><th scope=col>trans</th><th scope=col>drv</th><th scope=col>cty</th><th scope=col>hwy</th><th scope=col>fl</th><th scope=col>class</th></tr></thead>\n",
       "<tbody>\n",
       "\t<tr><td>audi              </td><td>a4                </td><td>1.8               </td><td>1999              </td><td>4                 </td><td>auto(l5)          </td><td>f                 </td><td>18                </td><td>29                </td><td>p                 </td><td>compact           </td></tr>\n",
       "\t<tr><td>audi              </td><td>a4                </td><td>1.8               </td><td>1999              </td><td>4                 </td><td>manual(m5)        </td><td>f                 </td><td>21                </td><td>29                </td><td>p                 </td><td>compact           </td></tr>\n",
       "\t<tr><td>audi              </td><td>a4                </td><td>2.0               </td><td>2008              </td><td>4                 </td><td>manual(m6)        </td><td>f                 </td><td>20                </td><td>31                </td><td>p                 </td><td>compact           </td></tr>\n",
       "\t<tr><td>audi              </td><td>a4                </td><td>2.0               </td><td>2008              </td><td>4                 </td><td>auto(av)          </td><td>f                 </td><td>21                </td><td>30                </td><td>p                 </td><td>compact           </td></tr>\n",
       "\t<tr><td>audi              </td><td>a4                </td><td>2.8               </td><td>1999              </td><td>6                 </td><td>auto(l5)          </td><td>f                 </td><td>16                </td><td>26                </td><td>p                 </td><td>compact           </td></tr>\n",
       "\t<tr><td>audi              </td><td>a4                </td><td>2.8               </td><td>1999              </td><td>6                 </td><td>manual(m5)        </td><td>f                 </td><td>18                </td><td>26                </td><td>p                 </td><td>compact           </td></tr>\n",
       "\t<tr><td>audi              </td><td>a4                </td><td>3.1               </td><td>2008              </td><td>6                 </td><td>auto(av)          </td><td>f                 </td><td>18                </td><td>27                </td><td>p                 </td><td>compact           </td></tr>\n",
       "\t<tr><td>audi              </td><td>a4 quattro        </td><td>1.8               </td><td>1999              </td><td>4                 </td><td>manual(m5)        </td><td>4                 </td><td>18                </td><td>26                </td><td>p                 </td><td>compact           </td></tr>\n",
       "\t<tr><td>audi              </td><td>a4 quattro        </td><td>1.8               </td><td>1999              </td><td>4                 </td><td>auto(l5)          </td><td>4                 </td><td>16                </td><td>25                </td><td>p                 </td><td>compact           </td></tr>\n",
       "\t<tr><td>audi              </td><td>a4 quattro        </td><td>2.0               </td><td>2008              </td><td>4                 </td><td>manual(m6)        </td><td>4                 </td><td>20                </td><td>28                </td><td>p                 </td><td>compact           </td></tr>\n",
       "\t<tr><td>audi              </td><td>a4 quattro        </td><td>2.0               </td><td>2008              </td><td>4                 </td><td>auto(s6)          </td><td>4                 </td><td>19                </td><td>27                </td><td>p                 </td><td>compact           </td></tr>\n",
       "\t<tr><td>audi              </td><td>a4 quattro        </td><td>2.8               </td><td>1999              </td><td>6                 </td><td>auto(l5)          </td><td>4                 </td><td>15                </td><td>25                </td><td>p                 </td><td>compact           </td></tr>\n",
       "\t<tr><td>audi              </td><td>a4 quattro        </td><td>2.8               </td><td>1999              </td><td>6                 </td><td>manual(m5)        </td><td>4                 </td><td>17                </td><td>25                </td><td>p                 </td><td>compact           </td></tr>\n",
       "\t<tr><td>audi              </td><td>a4 quattro        </td><td>3.1               </td><td>2008              </td><td>6                 </td><td>auto(s6)          </td><td>4                 </td><td>17                </td><td>25                </td><td>p                 </td><td>compact           </td></tr>\n",
       "\t<tr><td>audi              </td><td>a4 quattro        </td><td>3.1               </td><td>2008              </td><td>6                 </td><td>manual(m6)        </td><td>4                 </td><td>15                </td><td>25                </td><td>p                 </td><td>compact           </td></tr>\n",
       "\t<tr><td>audi              </td><td>a6 quattro        </td><td>2.8               </td><td>1999              </td><td>6                 </td><td>auto(l5)          </td><td>4                 </td><td>15                </td><td>24                </td><td>p                 </td><td>midsize           </td></tr>\n",
       "\t<tr><td>audi              </td><td>a6 quattro        </td><td>3.1               </td><td>2008              </td><td>6                 </td><td>auto(s6)          </td><td>4                 </td><td>17                </td><td>25                </td><td>p                 </td><td>midsize           </td></tr>\n",
       "\t<tr><td>audi              </td><td>a6 quattro        </td><td>4.2               </td><td>2008              </td><td>8                 </td><td>auto(s6)          </td><td>4                 </td><td>16                </td><td>23                </td><td>p                 </td><td>midsize           </td></tr>\n",
       "\t<tr><td>chevrolet         </td><td>c1500 suburban 2wd</td><td>5.3               </td><td>2008              </td><td>8                 </td><td>auto(l4)          </td><td>r                 </td><td>14                </td><td>20                </td><td>r                 </td><td>suv               </td></tr>\n",
       "\t<tr><td>chevrolet         </td><td>c1500 suburban 2wd</td><td>5.3               </td><td>2008              </td><td>8                 </td><td>auto(l4)          </td><td>r                 </td><td>11                </td><td>15                </td><td>e                 </td><td>suv               </td></tr>\n",
       "\t<tr><td>chevrolet         </td><td>c1500 suburban 2wd</td><td>5.3               </td><td>2008              </td><td>8                 </td><td>auto(l4)          </td><td>r                 </td><td>14                </td><td>20                </td><td>r                 </td><td>suv               </td></tr>\n",
       "\t<tr><td>chevrolet         </td><td>c1500 suburban 2wd</td><td>5.7               </td><td>1999              </td><td>8                 </td><td>auto(l4)          </td><td>r                 </td><td>13                </td><td>17                </td><td>r                 </td><td>suv               </td></tr>\n",
       "\t<tr><td>chevrolet         </td><td>c1500 suburban 2wd</td><td>6.0               </td><td>2008              </td><td>8                 </td><td>auto(l4)          </td><td>r                 </td><td>12                </td><td>17                </td><td>r                 </td><td>suv               </td></tr>\n",
       "\t<tr><td>chevrolet         </td><td>corvette          </td><td>5.7               </td><td>1999              </td><td>8                 </td><td>manual(m6)        </td><td>r                 </td><td>16                </td><td>26                </td><td>p                 </td><td>2seater           </td></tr>\n",
       "\t<tr><td>chevrolet         </td><td>corvette          </td><td>5.7               </td><td>1999              </td><td>8                 </td><td>auto(l4)          </td><td>r                 </td><td>15                </td><td>23                </td><td>p                 </td><td>2seater           </td></tr>\n",
       "\t<tr><td>chevrolet         </td><td>corvette          </td><td>6.2               </td><td>2008              </td><td>8                 </td><td>manual(m6)        </td><td>r                 </td><td>16                </td><td>26                </td><td>p                 </td><td>2seater           </td></tr>\n",
       "\t<tr><td>chevrolet         </td><td>corvette          </td><td>6.2               </td><td>2008              </td><td>8                 </td><td>auto(s6)          </td><td>r                 </td><td>15                </td><td>25                </td><td>p                 </td><td>2seater           </td></tr>\n",
       "\t<tr><td>chevrolet         </td><td>corvette          </td><td>7.0               </td><td>2008              </td><td>8                 </td><td>manual(m6)        </td><td>r                 </td><td>15                </td><td>24                </td><td>p                 </td><td>2seater           </td></tr>\n",
       "\t<tr><td>chevrolet         </td><td>k1500 tahoe 4wd   </td><td>5.3               </td><td>2008              </td><td>8                 </td><td>auto(l4)          </td><td>4                 </td><td>14                </td><td>19                </td><td>r                 </td><td>suv               </td></tr>\n",
       "\t<tr><td>chevrolet         </td><td>k1500 tahoe 4wd   </td><td>5.3               </td><td>2008              </td><td>8                 </td><td>auto(l4)          </td><td>4                 </td><td>11                </td><td>14                </td><td>e                 </td><td>suv               </td></tr>\n",
       "\t<tr><td>⋮</td><td>⋮</td><td>⋮</td><td>⋮</td><td>⋮</td><td>⋮</td><td>⋮</td><td>⋮</td><td>⋮</td><td>⋮</td><td>⋮</td></tr>\n",
       "\t<tr><td>toyota           </td><td>toyota tacoma 4wd</td><td>3.4              </td><td>1999             </td><td>6                </td><td>auto(l4)         </td><td>4                </td><td>15               </td><td>19               </td><td>r                </td><td>pickup           </td></tr>\n",
       "\t<tr><td>toyota           </td><td>toyota tacoma 4wd</td><td>4.0              </td><td>2008             </td><td>6                </td><td>manual(m6)       </td><td>4                </td><td>15               </td><td>18               </td><td>r                </td><td>pickup           </td></tr>\n",
       "\t<tr><td>toyota           </td><td>toyota tacoma 4wd</td><td>4.0              </td><td>2008             </td><td>6                </td><td>auto(l5)         </td><td>4                </td><td>16               </td><td>20               </td><td>r                </td><td>pickup           </td></tr>\n",
       "\t<tr><td>volkswagen       </td><td>gti              </td><td>2.0              </td><td>1999             </td><td>4                </td><td>manual(m5)       </td><td>f                </td><td>21               </td><td>29               </td><td>r                </td><td>compact          </td></tr>\n",
       "\t<tr><td>volkswagen       </td><td>gti              </td><td>2.0              </td><td>1999             </td><td>4                </td><td>auto(l4)         </td><td>f                </td><td>19               </td><td>26               </td><td>r                </td><td>compact          </td></tr>\n",
       "\t<tr><td>volkswagen       </td><td>gti              </td><td>2.0              </td><td>2008             </td><td>4                </td><td>manual(m6)       </td><td>f                </td><td>21               </td><td>29               </td><td>p                </td><td>compact          </td></tr>\n",
       "\t<tr><td>volkswagen       </td><td>gti              </td><td>2.0              </td><td>2008             </td><td>4                </td><td>auto(s6)         </td><td>f                </td><td>22               </td><td>29               </td><td>p                </td><td>compact          </td></tr>\n",
       "\t<tr><td>volkswagen       </td><td>gti              </td><td>2.8              </td><td>1999             </td><td>6                </td><td>manual(m5)       </td><td>f                </td><td>17               </td><td>24               </td><td>r                </td><td>compact          </td></tr>\n",
       "\t<tr><td>volkswagen       </td><td>jetta            </td><td>1.9              </td><td>1999             </td><td>4                </td><td>manual(m5)       </td><td>f                </td><td>33               </td><td>44               </td><td>d                </td><td>compact          </td></tr>\n",
       "\t<tr><td>volkswagen       </td><td>jetta            </td><td>2.0              </td><td>1999             </td><td>4                </td><td>manual(m5)       </td><td>f                </td><td>21               </td><td>29               </td><td>r                </td><td>compact          </td></tr>\n",
       "\t<tr><td>volkswagen       </td><td>jetta            </td><td>2.0              </td><td>1999             </td><td>4                </td><td>auto(l4)         </td><td>f                </td><td>19               </td><td>26               </td><td>r                </td><td>compact          </td></tr>\n",
       "\t<tr><td>volkswagen       </td><td>jetta            </td><td>2.0              </td><td>2008             </td><td>4                </td><td>auto(s6)         </td><td>f                </td><td>22               </td><td>29               </td><td>p                </td><td>compact          </td></tr>\n",
       "\t<tr><td>volkswagen       </td><td>jetta            </td><td>2.0              </td><td>2008             </td><td>4                </td><td>manual(m6)       </td><td>f                </td><td>21               </td><td>29               </td><td>p                </td><td>compact          </td></tr>\n",
       "\t<tr><td>volkswagen       </td><td>jetta            </td><td>2.5              </td><td>2008             </td><td>5                </td><td>auto(s6)         </td><td>f                </td><td>21               </td><td>29               </td><td>r                </td><td>compact          </td></tr>\n",
       "\t<tr><td>volkswagen       </td><td>jetta            </td><td>2.5              </td><td>2008             </td><td>5                </td><td>manual(m5)       </td><td>f                </td><td>21               </td><td>29               </td><td>r                </td><td>compact          </td></tr>\n",
       "\t<tr><td>volkswagen       </td><td>jetta            </td><td>2.8              </td><td>1999             </td><td>6                </td><td>auto(l4)         </td><td>f                </td><td>16               </td><td>23               </td><td>r                </td><td>compact          </td></tr>\n",
       "\t<tr><td>volkswagen       </td><td>jetta            </td><td>2.8              </td><td>1999             </td><td>6                </td><td>manual(m5)       </td><td>f                </td><td>17               </td><td>24               </td><td>r                </td><td>compact          </td></tr>\n",
       "\t<tr><td>volkswagen       </td><td>new beetle       </td><td>1.9              </td><td>1999             </td><td>4                </td><td>manual(m5)       </td><td>f                </td><td>35               </td><td>44               </td><td>d                </td><td>subcompact       </td></tr>\n",
       "\t<tr><td>volkswagen       </td><td>new beetle       </td><td>1.9              </td><td>1999             </td><td>4                </td><td>auto(l4)         </td><td>f                </td><td>29               </td><td>41               </td><td>d                </td><td>subcompact       </td></tr>\n",
       "\t<tr><td>volkswagen       </td><td>new beetle       </td><td>2.0              </td><td>1999             </td><td>4                </td><td>manual(m5)       </td><td>f                </td><td>21               </td><td>29               </td><td>r                </td><td>subcompact       </td></tr>\n",
       "\t<tr><td>volkswagen       </td><td>new beetle       </td><td>2.0              </td><td>1999             </td><td>4                </td><td>auto(l4)         </td><td>f                </td><td>19               </td><td>26               </td><td>r                </td><td>subcompact       </td></tr>\n",
       "\t<tr><td>volkswagen       </td><td>new beetle       </td><td>2.5              </td><td>2008             </td><td>5                </td><td>manual(m5)       </td><td>f                </td><td>20               </td><td>28               </td><td>r                </td><td>subcompact       </td></tr>\n",
       "\t<tr><td>volkswagen       </td><td>new beetle       </td><td>2.5              </td><td>2008             </td><td>5                </td><td>auto(s6)         </td><td>f                </td><td>20               </td><td>29               </td><td>r                </td><td>subcompact       </td></tr>\n",
       "\t<tr><td>volkswagen       </td><td>passat           </td><td>1.8              </td><td>1999             </td><td>4                </td><td>manual(m5)       </td><td>f                </td><td>21               </td><td>29               </td><td>p                </td><td>midsize          </td></tr>\n",
       "\t<tr><td>volkswagen       </td><td>passat           </td><td>1.8              </td><td>1999             </td><td>4                </td><td>auto(l5)         </td><td>f                </td><td>18               </td><td>29               </td><td>p                </td><td>midsize          </td></tr>\n",
       "\t<tr><td>volkswagen       </td><td>passat           </td><td>2.0              </td><td>2008             </td><td>4                </td><td>auto(s6)         </td><td>f                </td><td>19               </td><td>28               </td><td>p                </td><td>midsize          </td></tr>\n",
       "\t<tr><td>volkswagen       </td><td>passat           </td><td>2.0              </td><td>2008             </td><td>4                </td><td>manual(m6)       </td><td>f                </td><td>21               </td><td>29               </td><td>p                </td><td>midsize          </td></tr>\n",
       "\t<tr><td>volkswagen       </td><td>passat           </td><td>2.8              </td><td>1999             </td><td>6                </td><td>auto(l5)         </td><td>f                </td><td>16               </td><td>26               </td><td>p                </td><td>midsize          </td></tr>\n",
       "\t<tr><td>volkswagen       </td><td>passat           </td><td>2.8              </td><td>1999             </td><td>6                </td><td>manual(m5)       </td><td>f                </td><td>18               </td><td>26               </td><td>p                </td><td>midsize          </td></tr>\n",
       "\t<tr><td>volkswagen       </td><td>passat           </td><td>3.6              </td><td>2008             </td><td>6                </td><td>auto(s6)         </td><td>f                </td><td>17               </td><td>26               </td><td>p                </td><td>midsize          </td></tr>\n",
       "</tbody>\n",
       "</table>\n"
      ],
      "text/latex": [
       "\\begin{tabular}{r|lllllllllll}\n",
       " manufacturer & model & displ & year & cyl & trans & drv & cty & hwy & fl & class\\\\\n",
       "\\hline\n",
       "\t audi               & a4                 & 1.8                & 1999               & 4                  & auto(l5)           & f                  & 18                 & 29                 & p                  & compact           \\\\\n",
       "\t audi               & a4                 & 1.8                & 1999               & 4                  & manual(m5)         & f                  & 21                 & 29                 & p                  & compact           \\\\\n",
       "\t audi               & a4                 & 2.0                & 2008               & 4                  & manual(m6)         & f                  & 20                 & 31                 & p                  & compact           \\\\\n",
       "\t audi               & a4                 & 2.0                & 2008               & 4                  & auto(av)           & f                  & 21                 & 30                 & p                  & compact           \\\\\n",
       "\t audi               & a4                 & 2.8                & 1999               & 6                  & auto(l5)           & f                  & 16                 & 26                 & p                  & compact           \\\\\n",
       "\t audi               & a4                 & 2.8                & 1999               & 6                  & manual(m5)         & f                  & 18                 & 26                 & p                  & compact           \\\\\n",
       "\t audi               & a4                 & 3.1                & 2008               & 6                  & auto(av)           & f                  & 18                 & 27                 & p                  & compact           \\\\\n",
       "\t audi               & a4 quattro         & 1.8                & 1999               & 4                  & manual(m5)         & 4                  & 18                 & 26                 & p                  & compact           \\\\\n",
       "\t audi               & a4 quattro         & 1.8                & 1999               & 4                  & auto(l5)           & 4                  & 16                 & 25                 & p                  & compact           \\\\\n",
       "\t audi               & a4 quattro         & 2.0                & 2008               & 4                  & manual(m6)         & 4                  & 20                 & 28                 & p                  & compact           \\\\\n",
       "\t audi               & a4 quattro         & 2.0                & 2008               & 4                  & auto(s6)           & 4                  & 19                 & 27                 & p                  & compact           \\\\\n",
       "\t audi               & a4 quattro         & 2.8                & 1999               & 6                  & auto(l5)           & 4                  & 15                 & 25                 & p                  & compact           \\\\\n",
       "\t audi               & a4 quattro         & 2.8                & 1999               & 6                  & manual(m5)         & 4                  & 17                 & 25                 & p                  & compact           \\\\\n",
       "\t audi               & a4 quattro         & 3.1                & 2008               & 6                  & auto(s6)           & 4                  & 17                 & 25                 & p                  & compact           \\\\\n",
       "\t audi               & a4 quattro         & 3.1                & 2008               & 6                  & manual(m6)         & 4                  & 15                 & 25                 & p                  & compact           \\\\\n",
       "\t audi               & a6 quattro         & 2.8                & 1999               & 6                  & auto(l5)           & 4                  & 15                 & 24                 & p                  & midsize           \\\\\n",
       "\t audi               & a6 quattro         & 3.1                & 2008               & 6                  & auto(s6)           & 4                  & 17                 & 25                 & p                  & midsize           \\\\\n",
       "\t audi               & a6 quattro         & 4.2                & 2008               & 8                  & auto(s6)           & 4                  & 16                 & 23                 & p                  & midsize           \\\\\n",
       "\t chevrolet          & c1500 suburban 2wd & 5.3                & 2008               & 8                  & auto(l4)           & r                  & 14                 & 20                 & r                  & suv               \\\\\n",
       "\t chevrolet          & c1500 suburban 2wd & 5.3                & 2008               & 8                  & auto(l4)           & r                  & 11                 & 15                 & e                  & suv               \\\\\n",
       "\t chevrolet          & c1500 suburban 2wd & 5.3                & 2008               & 8                  & auto(l4)           & r                  & 14                 & 20                 & r                  & suv               \\\\\n",
       "\t chevrolet          & c1500 suburban 2wd & 5.7                & 1999               & 8                  & auto(l4)           & r                  & 13                 & 17                 & r                  & suv               \\\\\n",
       "\t chevrolet          & c1500 suburban 2wd & 6.0                & 2008               & 8                  & auto(l4)           & r                  & 12                 & 17                 & r                  & suv               \\\\\n",
       "\t chevrolet          & corvette           & 5.7                & 1999               & 8                  & manual(m6)         & r                  & 16                 & 26                 & p                  & 2seater           \\\\\n",
       "\t chevrolet          & corvette           & 5.7                & 1999               & 8                  & auto(l4)           & r                  & 15                 & 23                 & p                  & 2seater           \\\\\n",
       "\t chevrolet          & corvette           & 6.2                & 2008               & 8                  & manual(m6)         & r                  & 16                 & 26                 & p                  & 2seater           \\\\\n",
       "\t chevrolet          & corvette           & 6.2                & 2008               & 8                  & auto(s6)           & r                  & 15                 & 25                 & p                  & 2seater           \\\\\n",
       "\t chevrolet          & corvette           & 7.0                & 2008               & 8                  & manual(m6)         & r                  & 15                 & 24                 & p                  & 2seater           \\\\\n",
       "\t chevrolet          & k1500 tahoe 4wd    & 5.3                & 2008               & 8                  & auto(l4)           & 4                  & 14                 & 19                 & r                  & suv               \\\\\n",
       "\t chevrolet          & k1500 tahoe 4wd    & 5.3                & 2008               & 8                  & auto(l4)           & 4                  & 11                 & 14                 & e                  & suv               \\\\\n",
       "\t ⋮ & ⋮ & ⋮ & ⋮ & ⋮ & ⋮ & ⋮ & ⋮ & ⋮ & ⋮ & ⋮\\\\\n",
       "\t toyota            & toyota tacoma 4wd & 3.4               & 1999              & 6                 & auto(l4)          & 4                 & 15                & 19                & r                 & pickup           \\\\\n",
       "\t toyota            & toyota tacoma 4wd & 4.0               & 2008              & 6                 & manual(m6)        & 4                 & 15                & 18                & r                 & pickup           \\\\\n",
       "\t toyota            & toyota tacoma 4wd & 4.0               & 2008              & 6                 & auto(l5)          & 4                 & 16                & 20                & r                 & pickup           \\\\\n",
       "\t volkswagen        & gti               & 2.0               & 1999              & 4                 & manual(m5)        & f                 & 21                & 29                & r                 & compact          \\\\\n",
       "\t volkswagen        & gti               & 2.0               & 1999              & 4                 & auto(l4)          & f                 & 19                & 26                & r                 & compact          \\\\\n",
       "\t volkswagen        & gti               & 2.0               & 2008              & 4                 & manual(m6)        & f                 & 21                & 29                & p                 & compact          \\\\\n",
       "\t volkswagen        & gti               & 2.0               & 2008              & 4                 & auto(s6)          & f                 & 22                & 29                & p                 & compact          \\\\\n",
       "\t volkswagen        & gti               & 2.8               & 1999              & 6                 & manual(m5)        & f                 & 17                & 24                & r                 & compact          \\\\\n",
       "\t volkswagen        & jetta             & 1.9               & 1999              & 4                 & manual(m5)        & f                 & 33                & 44                & d                 & compact          \\\\\n",
       "\t volkswagen        & jetta             & 2.0               & 1999              & 4                 & manual(m5)        & f                 & 21                & 29                & r                 & compact          \\\\\n",
       "\t volkswagen        & jetta             & 2.0               & 1999              & 4                 & auto(l4)          & f                 & 19                & 26                & r                 & compact          \\\\\n",
       "\t volkswagen        & jetta             & 2.0               & 2008              & 4                 & auto(s6)          & f                 & 22                & 29                & p                 & compact          \\\\\n",
       "\t volkswagen        & jetta             & 2.0               & 2008              & 4                 & manual(m6)        & f                 & 21                & 29                & p                 & compact          \\\\\n",
       "\t volkswagen        & jetta             & 2.5               & 2008              & 5                 & auto(s6)          & f                 & 21                & 29                & r                 & compact          \\\\\n",
       "\t volkswagen        & jetta             & 2.5               & 2008              & 5                 & manual(m5)        & f                 & 21                & 29                & r                 & compact          \\\\\n",
       "\t volkswagen        & jetta             & 2.8               & 1999              & 6                 & auto(l4)          & f                 & 16                & 23                & r                 & compact          \\\\\n",
       "\t volkswagen        & jetta             & 2.8               & 1999              & 6                 & manual(m5)        & f                 & 17                & 24                & r                 & compact          \\\\\n",
       "\t volkswagen        & new beetle        & 1.9               & 1999              & 4                 & manual(m5)        & f                 & 35                & 44                & d                 & subcompact       \\\\\n",
       "\t volkswagen        & new beetle        & 1.9               & 1999              & 4                 & auto(l4)          & f                 & 29                & 41                & d                 & subcompact       \\\\\n",
       "\t volkswagen        & new beetle        & 2.0               & 1999              & 4                 & manual(m5)        & f                 & 21                & 29                & r                 & subcompact       \\\\\n",
       "\t volkswagen        & new beetle        & 2.0               & 1999              & 4                 & auto(l4)          & f                 & 19                & 26                & r                 & subcompact       \\\\\n",
       "\t volkswagen        & new beetle        & 2.5               & 2008              & 5                 & manual(m5)        & f                 & 20                & 28                & r                 & subcompact       \\\\\n",
       "\t volkswagen        & new beetle        & 2.5               & 2008              & 5                 & auto(s6)          & f                 & 20                & 29                & r                 & subcompact       \\\\\n",
       "\t volkswagen        & passat            & 1.8               & 1999              & 4                 & manual(m5)        & f                 & 21                & 29                & p                 & midsize          \\\\\n",
       "\t volkswagen        & passat            & 1.8               & 1999              & 4                 & auto(l5)          & f                 & 18                & 29                & p                 & midsize          \\\\\n",
       "\t volkswagen        & passat            & 2.0               & 2008              & 4                 & auto(s6)          & f                 & 19                & 28                & p                 & midsize          \\\\\n",
       "\t volkswagen        & passat            & 2.0               & 2008              & 4                 & manual(m6)        & f                 & 21                & 29                & p                 & midsize          \\\\\n",
       "\t volkswagen        & passat            & 2.8               & 1999              & 6                 & auto(l5)          & f                 & 16                & 26                & p                 & midsize          \\\\\n",
       "\t volkswagen        & passat            & 2.8               & 1999              & 6                 & manual(m5)        & f                 & 18                & 26                & p                 & midsize          \\\\\n",
       "\t volkswagen        & passat            & 3.6               & 2008              & 6                 & auto(s6)          & f                 & 17                & 26                & p                 & midsize          \\\\\n",
       "\\end{tabular}\n"
      ],
      "text/markdown": [
       "\n",
       "manufacturer | model | displ | year | cyl | trans | drv | cty | hwy | fl | class | \n",
       "|---|---|---|---|---|---|---|---|---|---|---|---|---|---|---|---|---|---|---|---|---|---|---|---|---|---|---|---|---|---|---|---|---|---|---|---|---|---|---|---|---|---|---|---|---|---|---|---|---|---|---|---|---|---|---|---|---|---|---|---|---|\n",
       "| audi               | a4                 | 1.8                | 1999               | 4                  | auto(l5)           | f                  | 18                 | 29                 | p                  | compact            | \n",
       "| audi               | a4                 | 1.8                | 1999               | 4                  | manual(m5)         | f                  | 21                 | 29                 | p                  | compact            | \n",
       "| audi               | a4                 | 2.0                | 2008               | 4                  | manual(m6)         | f                  | 20                 | 31                 | p                  | compact            | \n",
       "| audi               | a4                 | 2.0                | 2008               | 4                  | auto(av)           | f                  | 21                 | 30                 | p                  | compact            | \n",
       "| audi               | a4                 | 2.8                | 1999               | 6                  | auto(l5)           | f                  | 16                 | 26                 | p                  | compact            | \n",
       "| audi               | a4                 | 2.8                | 1999               | 6                  | manual(m5)         | f                  | 18                 | 26                 | p                  | compact            | \n",
       "| audi               | a4                 | 3.1                | 2008               | 6                  | auto(av)           | f                  | 18                 | 27                 | p                  | compact            | \n",
       "| audi               | a4 quattro         | 1.8                | 1999               | 4                  | manual(m5)         | 4                  | 18                 | 26                 | p                  | compact            | \n",
       "| audi               | a4 quattro         | 1.8                | 1999               | 4                  | auto(l5)           | 4                  | 16                 | 25                 | p                  | compact            | \n",
       "| audi               | a4 quattro         | 2.0                | 2008               | 4                  | manual(m6)         | 4                  | 20                 | 28                 | p                  | compact            | \n",
       "| audi               | a4 quattro         | 2.0                | 2008               | 4                  | auto(s6)           | 4                  | 19                 | 27                 | p                  | compact            | \n",
       "| audi               | a4 quattro         | 2.8                | 1999               | 6                  | auto(l5)           | 4                  | 15                 | 25                 | p                  | compact            | \n",
       "| audi               | a4 quattro         | 2.8                | 1999               | 6                  | manual(m5)         | 4                  | 17                 | 25                 | p                  | compact            | \n",
       "| audi               | a4 quattro         | 3.1                | 2008               | 6                  | auto(s6)           | 4                  | 17                 | 25                 | p                  | compact            | \n",
       "| audi               | a4 quattro         | 3.1                | 2008               | 6                  | manual(m6)         | 4                  | 15                 | 25                 | p                  | compact            | \n",
       "| audi               | a6 quattro         | 2.8                | 1999               | 6                  | auto(l5)           | 4                  | 15                 | 24                 | p                  | midsize            | \n",
       "| audi               | a6 quattro         | 3.1                | 2008               | 6                  | auto(s6)           | 4                  | 17                 | 25                 | p                  | midsize            | \n",
       "| audi               | a6 quattro         | 4.2                | 2008               | 8                  | auto(s6)           | 4                  | 16                 | 23                 | p                  | midsize            | \n",
       "| chevrolet          | c1500 suburban 2wd | 5.3                | 2008               | 8                  | auto(l4)           | r                  | 14                 | 20                 | r                  | suv                | \n",
       "| chevrolet          | c1500 suburban 2wd | 5.3                | 2008               | 8                  | auto(l4)           | r                  | 11                 | 15                 | e                  | suv                | \n",
       "| chevrolet          | c1500 suburban 2wd | 5.3                | 2008               | 8                  | auto(l4)           | r                  | 14                 | 20                 | r                  | suv                | \n",
       "| chevrolet          | c1500 suburban 2wd | 5.7                | 1999               | 8                  | auto(l4)           | r                  | 13                 | 17                 | r                  | suv                | \n",
       "| chevrolet          | c1500 suburban 2wd | 6.0                | 2008               | 8                  | auto(l4)           | r                  | 12                 | 17                 | r                  | suv                | \n",
       "| chevrolet          | corvette           | 5.7                | 1999               | 8                  | manual(m6)         | r                  | 16                 | 26                 | p                  | 2seater            | \n",
       "| chevrolet          | corvette           | 5.7                | 1999               | 8                  | auto(l4)           | r                  | 15                 | 23                 | p                  | 2seater            | \n",
       "| chevrolet          | corvette           | 6.2                | 2008               | 8                  | manual(m6)         | r                  | 16                 | 26                 | p                  | 2seater            | \n",
       "| chevrolet          | corvette           | 6.2                | 2008               | 8                  | auto(s6)           | r                  | 15                 | 25                 | p                  | 2seater            | \n",
       "| chevrolet          | corvette           | 7.0                | 2008               | 8                  | manual(m6)         | r                  | 15                 | 24                 | p                  | 2seater            | \n",
       "| chevrolet          | k1500 tahoe 4wd    | 5.3                | 2008               | 8                  | auto(l4)           | 4                  | 14                 | 19                 | r                  | suv                | \n",
       "| chevrolet          | k1500 tahoe 4wd    | 5.3                | 2008               | 8                  | auto(l4)           | 4                  | 11                 | 14                 | e                  | suv                | \n",
       "| ⋮ | ⋮ | ⋮ | ⋮ | ⋮ | ⋮ | ⋮ | ⋮ | ⋮ | ⋮ | ⋮ | \n",
       "| toyota            | toyota tacoma 4wd | 3.4               | 1999              | 6                 | auto(l4)          | 4                 | 15                | 19                | r                 | pickup            | \n",
       "| toyota            | toyota tacoma 4wd | 4.0               | 2008              | 6                 | manual(m6)        | 4                 | 15                | 18                | r                 | pickup            | \n",
       "| toyota            | toyota tacoma 4wd | 4.0               | 2008              | 6                 | auto(l5)          | 4                 | 16                | 20                | r                 | pickup            | \n",
       "| volkswagen        | gti               | 2.0               | 1999              | 4                 | manual(m5)        | f                 | 21                | 29                | r                 | compact           | \n",
       "| volkswagen        | gti               | 2.0               | 1999              | 4                 | auto(l4)          | f                 | 19                | 26                | r                 | compact           | \n",
       "| volkswagen        | gti               | 2.0               | 2008              | 4                 | manual(m6)        | f                 | 21                | 29                | p                 | compact           | \n",
       "| volkswagen        | gti               | 2.0               | 2008              | 4                 | auto(s6)          | f                 | 22                | 29                | p                 | compact           | \n",
       "| volkswagen        | gti               | 2.8               | 1999              | 6                 | manual(m5)        | f                 | 17                | 24                | r                 | compact           | \n",
       "| volkswagen        | jetta             | 1.9               | 1999              | 4                 | manual(m5)        | f                 | 33                | 44                | d                 | compact           | \n",
       "| volkswagen        | jetta             | 2.0               | 1999              | 4                 | manual(m5)        | f                 | 21                | 29                | r                 | compact           | \n",
       "| volkswagen        | jetta             | 2.0               | 1999              | 4                 | auto(l4)          | f                 | 19                | 26                | r                 | compact           | \n",
       "| volkswagen        | jetta             | 2.0               | 2008              | 4                 | auto(s6)          | f                 | 22                | 29                | p                 | compact           | \n",
       "| volkswagen        | jetta             | 2.0               | 2008              | 4                 | manual(m6)        | f                 | 21                | 29                | p                 | compact           | \n",
       "| volkswagen        | jetta             | 2.5               | 2008              | 5                 | auto(s6)          | f                 | 21                | 29                | r                 | compact           | \n",
       "| volkswagen        | jetta             | 2.5               | 2008              | 5                 | manual(m5)        | f                 | 21                | 29                | r                 | compact           | \n",
       "| volkswagen        | jetta             | 2.8               | 1999              | 6                 | auto(l4)          | f                 | 16                | 23                | r                 | compact           | \n",
       "| volkswagen        | jetta             | 2.8               | 1999              | 6                 | manual(m5)        | f                 | 17                | 24                | r                 | compact           | \n",
       "| volkswagen        | new beetle        | 1.9               | 1999              | 4                 | manual(m5)        | f                 | 35                | 44                | d                 | subcompact        | \n",
       "| volkswagen        | new beetle        | 1.9               | 1999              | 4                 | auto(l4)          | f                 | 29                | 41                | d                 | subcompact        | \n",
       "| volkswagen        | new beetle        | 2.0               | 1999              | 4                 | manual(m5)        | f                 | 21                | 29                | r                 | subcompact        | \n",
       "| volkswagen        | new beetle        | 2.0               | 1999              | 4                 | auto(l4)          | f                 | 19                | 26                | r                 | subcompact        | \n",
       "| volkswagen        | new beetle        | 2.5               | 2008              | 5                 | manual(m5)        | f                 | 20                | 28                | r                 | subcompact        | \n",
       "| volkswagen        | new beetle        | 2.5               | 2008              | 5                 | auto(s6)          | f                 | 20                | 29                | r                 | subcompact        | \n",
       "| volkswagen        | passat            | 1.8               | 1999              | 4                 | manual(m5)        | f                 | 21                | 29                | p                 | midsize           | \n",
       "| volkswagen        | passat            | 1.8               | 1999              | 4                 | auto(l5)          | f                 | 18                | 29                | p                 | midsize           | \n",
       "| volkswagen        | passat            | 2.0               | 2008              | 4                 | auto(s6)          | f                 | 19                | 28                | p                 | midsize           | \n",
       "| volkswagen        | passat            | 2.0               | 2008              | 4                 | manual(m6)        | f                 | 21                | 29                | p                 | midsize           | \n",
       "| volkswagen        | passat            | 2.8               | 1999              | 6                 | auto(l5)          | f                 | 16                | 26                | p                 | midsize           | \n",
       "| volkswagen        | passat            | 2.8               | 1999              | 6                 | manual(m5)        | f                 | 18                | 26                | p                 | midsize           | \n",
       "| volkswagen        | passat            | 3.6               | 2008              | 6                 | auto(s6)          | f                 | 17                | 26                | p                 | midsize           | \n",
       "\n",
       "\n"
      ],
      "text/plain": [
       "    manufacturer model              displ year cyl trans      drv cty hwy fl\n",
       "1   audi         a4                 1.8   1999 4   auto(l5)   f   18  29  p \n",
       "2   audi         a4                 1.8   1999 4   manual(m5) f   21  29  p \n",
       "3   audi         a4                 2.0   2008 4   manual(m6) f   20  31  p \n",
       "4   audi         a4                 2.0   2008 4   auto(av)   f   21  30  p \n",
       "5   audi         a4                 2.8   1999 6   auto(l5)   f   16  26  p \n",
       "6   audi         a4                 2.8   1999 6   manual(m5) f   18  26  p \n",
       "7   audi         a4                 3.1   2008 6   auto(av)   f   18  27  p \n",
       "8   audi         a4 quattro         1.8   1999 4   manual(m5) 4   18  26  p \n",
       "9   audi         a4 quattro         1.8   1999 4   auto(l5)   4   16  25  p \n",
       "10  audi         a4 quattro         2.0   2008 4   manual(m6) 4   20  28  p \n",
       "11  audi         a4 quattro         2.0   2008 4   auto(s6)   4   19  27  p \n",
       "12  audi         a4 quattro         2.8   1999 6   auto(l5)   4   15  25  p \n",
       "13  audi         a4 quattro         2.8   1999 6   manual(m5) 4   17  25  p \n",
       "14  audi         a4 quattro         3.1   2008 6   auto(s6)   4   17  25  p \n",
       "15  audi         a4 quattro         3.1   2008 6   manual(m6) 4   15  25  p \n",
       "16  audi         a6 quattro         2.8   1999 6   auto(l5)   4   15  24  p \n",
       "17  audi         a6 quattro         3.1   2008 6   auto(s6)   4   17  25  p \n",
       "18  audi         a6 quattro         4.2   2008 8   auto(s6)   4   16  23  p \n",
       "19  chevrolet    c1500 suburban 2wd 5.3   2008 8   auto(l4)   r   14  20  r \n",
       "20  chevrolet    c1500 suburban 2wd 5.3   2008 8   auto(l4)   r   11  15  e \n",
       "21  chevrolet    c1500 suburban 2wd 5.3   2008 8   auto(l4)   r   14  20  r \n",
       "22  chevrolet    c1500 suburban 2wd 5.7   1999 8   auto(l4)   r   13  17  r \n",
       "23  chevrolet    c1500 suburban 2wd 6.0   2008 8   auto(l4)   r   12  17  r \n",
       "24  chevrolet    corvette           5.7   1999 8   manual(m6) r   16  26  p \n",
       "25  chevrolet    corvette           5.7   1999 8   auto(l4)   r   15  23  p \n",
       "26  chevrolet    corvette           6.2   2008 8   manual(m6) r   16  26  p \n",
       "27  chevrolet    corvette           6.2   2008 8   auto(s6)   r   15  25  p \n",
       "28  chevrolet    corvette           7.0   2008 8   manual(m6) r   15  24  p \n",
       "29  chevrolet    k1500 tahoe 4wd    5.3   2008 8   auto(l4)   4   14  19  r \n",
       "30  chevrolet    k1500 tahoe 4wd    5.3   2008 8   auto(l4)   4   11  14  e \n",
       "⋮   ⋮            ⋮                  ⋮     ⋮    ⋮   ⋮          ⋮   ⋮   ⋮   ⋮ \n",
       "205 toyota       toyota tacoma 4wd  3.4   1999 6   auto(l4)   4   15  19  r \n",
       "206 toyota       toyota tacoma 4wd  4.0   2008 6   manual(m6) 4   15  18  r \n",
       "207 toyota       toyota tacoma 4wd  4.0   2008 6   auto(l5)   4   16  20  r \n",
       "208 volkswagen   gti                2.0   1999 4   manual(m5) f   21  29  r \n",
       "209 volkswagen   gti                2.0   1999 4   auto(l4)   f   19  26  r \n",
       "210 volkswagen   gti                2.0   2008 4   manual(m6) f   21  29  p \n",
       "211 volkswagen   gti                2.0   2008 4   auto(s6)   f   22  29  p \n",
       "212 volkswagen   gti                2.8   1999 6   manual(m5) f   17  24  r \n",
       "213 volkswagen   jetta              1.9   1999 4   manual(m5) f   33  44  d \n",
       "214 volkswagen   jetta              2.0   1999 4   manual(m5) f   21  29  r \n",
       "215 volkswagen   jetta              2.0   1999 4   auto(l4)   f   19  26  r \n",
       "216 volkswagen   jetta              2.0   2008 4   auto(s6)   f   22  29  p \n",
       "217 volkswagen   jetta              2.0   2008 4   manual(m6) f   21  29  p \n",
       "218 volkswagen   jetta              2.5   2008 5   auto(s6)   f   21  29  r \n",
       "219 volkswagen   jetta              2.5   2008 5   manual(m5) f   21  29  r \n",
       "220 volkswagen   jetta              2.8   1999 6   auto(l4)   f   16  23  r \n",
       "221 volkswagen   jetta              2.8   1999 6   manual(m5) f   17  24  r \n",
       "222 volkswagen   new beetle         1.9   1999 4   manual(m5) f   35  44  d \n",
       "223 volkswagen   new beetle         1.9   1999 4   auto(l4)   f   29  41  d \n",
       "224 volkswagen   new beetle         2.0   1999 4   manual(m5) f   21  29  r \n",
       "225 volkswagen   new beetle         2.0   1999 4   auto(l4)   f   19  26  r \n",
       "226 volkswagen   new beetle         2.5   2008 5   manual(m5) f   20  28  r \n",
       "227 volkswagen   new beetle         2.5   2008 5   auto(s6)   f   20  29  r \n",
       "228 volkswagen   passat             1.8   1999 4   manual(m5) f   21  29  p \n",
       "229 volkswagen   passat             1.8   1999 4   auto(l5)   f   18  29  p \n",
       "230 volkswagen   passat             2.0   2008 4   auto(s6)   f   19  28  p \n",
       "231 volkswagen   passat             2.0   2008 4   manual(m6) f   21  29  p \n",
       "232 volkswagen   passat             2.8   1999 6   auto(l5)   f   16  26  p \n",
       "233 volkswagen   passat             2.8   1999 6   manual(m5) f   18  26  p \n",
       "234 volkswagen   passat             3.6   2008 6   auto(s6)   f   17  26  p \n",
       "    class     \n",
       "1   compact   \n",
       "2   compact   \n",
       "3   compact   \n",
       "4   compact   \n",
       "5   compact   \n",
       "6   compact   \n",
       "7   compact   \n",
       "8   compact   \n",
       "9   compact   \n",
       "10  compact   \n",
       "11  compact   \n",
       "12  compact   \n",
       "13  compact   \n",
       "14  compact   \n",
       "15  compact   \n",
       "16  midsize   \n",
       "17  midsize   \n",
       "18  midsize   \n",
       "19  suv       \n",
       "20  suv       \n",
       "21  suv       \n",
       "22  suv       \n",
       "23  suv       \n",
       "24  2seater   \n",
       "25  2seater   \n",
       "26  2seater   \n",
       "27  2seater   \n",
       "28  2seater   \n",
       "29  suv       \n",
       "30  suv       \n",
       "⋮   ⋮         \n",
       "205 pickup    \n",
       "206 pickup    \n",
       "207 pickup    \n",
       "208 compact   \n",
       "209 compact   \n",
       "210 compact   \n",
       "211 compact   \n",
       "212 compact   \n",
       "213 compact   \n",
       "214 compact   \n",
       "215 compact   \n",
       "216 compact   \n",
       "217 compact   \n",
       "218 compact   \n",
       "219 compact   \n",
       "220 compact   \n",
       "221 compact   \n",
       "222 subcompact\n",
       "223 subcompact\n",
       "224 subcompact\n",
       "225 subcompact\n",
       "226 subcompact\n",
       "227 subcompact\n",
       "228 midsize   \n",
       "229 midsize   \n",
       "230 midsize   \n",
       "231 midsize   \n",
       "232 midsize   \n",
       "233 midsize   \n",
       "234 midsize   "
      ]
     },
     "metadata": {},
     "output_type": "display_data"
    }
   ],
   "source": [
    "?mpg\n",
    "mpg"
   ]
  },
  {
   "cell_type": "markdown",
   "metadata": {
    "deletable": true,
    "editable": true
   },
   "source": [
    "El comando `glimpse` de `mpg` muestra eso:"
   ]
  },
  {
   "cell_type": "code",
   "execution_count": 21,
   "metadata": {
    "collapsed": false,
    "deletable": true,
    "editable": true
   },
   "outputs": [
    {
     "name": "stdout",
     "output_type": "stream",
     "text": [
      "Observations: 234\n",
      "Variables: 11\n",
      "$ manufacturer <chr> \"audi\", \"audi\", \"audi\", \"audi\", \"audi\", \"audi\", \"audi\"...\n",
      "$ model        <chr> \"a4\", \"a4\", \"a4\", \"a4\", \"a4\", \"a4\", \"a4\", \"a4 quattro\"...\n",
      "$ displ        <dbl> 1.8, 1.8, 2.0, 2.0, 2.8, 2.8, 3.1, 1.8, 1.8, 2.0, 2.0,...\n",
      "$ year         <int> 1999, 1999, 2008, 2008, 1999, 1999, 2008, 1999, 1999, ...\n",
      "$ cyl          <int> 4, 4, 4, 4, 6, 6, 6, 4, 4, 4, 4, 6, 6, 6, 6, 6, 6, 8, ...\n",
      "$ trans        <chr> \"auto(l5)\", \"manual(m5)\", \"manual(m6)\", \"auto(av)\", \"a...\n",
      "$ drv          <chr> \"f\", \"f\", \"f\", \"f\", \"f\", \"f\", \"f\", \"4\", \"4\", \"4\", \"4\",...\n",
      "$ cty          <int> 18, 21, 20, 21, 16, 18, 18, 18, 16, 20, 19, 15, 17, 17...\n",
      "$ hwy          <int> 29, 29, 31, 30, 26, 26, 27, 26, 25, 28, 27, 25, 25, 25...\n",
      "$ fl           <chr> \"p\", \"p\", \"p\", \"p\", \"p\", \"p\", \"p\", \"p\", \"p\", \"p\", \"p\",...\n",
      "$ class        <chr> \"compact\", \"compact\", \"compact\", \"compact\", \"compact\",...\n"
     ]
    }
   ],
   "source": [
    "glimpse(mpg)"
   ]
  },
  {
   "cell_type": "markdown",
   "metadata": {
    "deletable": true,
    "editable": true
   },
   "source": [
    "Respuesta: La variable `cty` es una variable continua."
   ]
  },
  {
   "cell_type": "code",
   "execution_count": 22,
   "metadata": {
    "collapsed": false,
    "deletable": true,
    "editable": true
   },
   "outputs": [
    {
     "data": {},
     "metadata": {},
     "output_type": "display_data"
    },
    {
     "data": {
      "image/png": "[encoded data removed]",
      "text/plain": [
       "plot without title"
      ]
     },
     "metadata": {},
     "output_type": "display_data"
    }
   ],
   "source": [
    "ggplot(mpg, aes(x = displ, y = hwy, color = cty)) +\n",
    "geom_point()"
   ]
  },
  {
   "cell_type": "markdown",
   "metadata": {
    "deletable": true,
    "editable": true
   },
   "source": [
    "La variable puede usar una escala que va desde negro  a azulado. "
   ]
  },
  {
   "cell_type": "code",
   "execution_count": 23,
   "metadata": {
    "collapsed": false,
    "deletable": true,
    "editable": true
   },
   "outputs": [
    {
     "data": {},
     "metadata": {},
     "output_type": "display_data"
    },
    {
     "data": {
      "image/png": "[encoded data removed]",
      "text/plain": [
       "plot without title"
      ]
     },
     "metadata": {},
     "output_type": "display_data"
    }
   ],
   "source": [
    "ggplot(mpg, aes(x = displ, y = hwy, size = cty)) +\n",
    "geom_point()"
   ]
  },
  {
   "cell_type": "markdown",
   "metadata": {
    "deletable": true,
    "editable": true
   },
   "source": [
    "Cuando un valor continuo se asigna a la `shape`, da un error. Aunque se puede  dividir una variable continua en categorías discretas y usar `shape`, esto no tendría sentido conceptualmente, ya que una variable numérica continua es ordenada, pero las formas no tienen un orden natural. Es claro que los puntos más pequeños corresponden a valores más pequeños, o si se tiene una  escala de colores, cuáles son los puntos más grandes o más pequeños. Pero no se sabe  si un cuadrado es mayor o menor que un círculo."
   ]
  },
  {
   "cell_type": "code",
   "execution_count": 24,
   "metadata": {
    "collapsed": false,
    "deletable": true,
    "editable": true
   },
   "outputs": [
    {
     "data": {},
     "metadata": {},
     "output_type": "display_data"
    },
    {
     "data": {
      "image/png": "[encoded data removed]",
      "text/plain": [
       "plot without title"
      ]
     },
     "metadata": {},
     "output_type": "display_data"
    }
   ],
   "source": [
    "ggplot(mpg, aes(x = displ, y = hwy, color = hwy, size = displ)) +\n",
    "geom_point()"
   ]
  },
  {
   "cell_type": "markdown",
   "metadata": {
    "deletable": true,
    "editable": true
   },
   "source": [
    "En la gráfico anterior, `hwy` se asigna en el eje `y`  y  en `color`  y se asigna `displ`  en el eje `x` y en `shape`. El código funciona y produce un gráfico, incluso si no es la adecuada. La asignación de una única variable a una estética múltiple es redundante. Debido a que esta información redundante, en la mayoría de los casos se debe evitar mapear una única variable con múltiples estéticas."
   ]
  },
  {
   "cell_type": "markdown",
   "metadata": {
    "deletable": true,
    "editable": true
   },
   "source": [
    "Respuesta : `Stroke` cambia el color del borde para  `shape(22-24)`."
   ]
  },
  {
   "cell_type": "code",
   "execution_count": 25,
   "metadata": {
    "collapsed": false,
    "deletable": true,
    "editable": true
   },
   "outputs": [
    {
     "data": {},
     "metadata": {},
     "output_type": "display_data"
    },
    {
     "data": {
      "image/png": "[encoded data removed]",
      "text/plain": [
       "plot without title"
      ]
     },
     "metadata": {},
     "output_type": "display_data"
    }
   ],
   "source": [
    "# Ejemplo desde ?geom_point\n",
    "\n",
    "ggplot(mtcars, aes(wt, mpg)) +\n",
    "  geom_point(shape = 21, colour = \"black\", fill = \"white\", size = 5, stroke = 5)"
   ]
  },
  {
   "cell_type": "markdown",
   "metadata": {
    "deletable": true,
    "editable": true
   },
   "source": [
    "Respuesta : La estética también se puede asignar a expresiones (código como `displ <5`). Se creará una variable temporal que toma valores del resultado de la expresión. En este caso, es una variable lógica que es `TRUE` o `FALSE`."
   ]
  },
  {
   "cell_type": "code",
   "execution_count": 26,
   "metadata": {
    "collapsed": false,
    "deletable": true,
    "editable": true
   },
   "outputs": [
    {
     "data": {},
     "metadata": {},
     "output_type": "display_data"
    },
    {
     "data": {
      "image/png": "[encoded data removed]",
      "text/plain": [
       "plot without title"
      ]
     },
     "metadata": {},
     "output_type": "display_data"
    }
   ],
   "source": [
    "ggplot(mpg, aes(x = displ, y = hwy, colour = displ < 5)) + \n",
    "  geom_point()"
   ]
  },
  {
   "cell_type": "markdown",
   "metadata": {
    "deletable": true,
    "editable": true
   },
   "source": [
    "Respuesta: Si se hace `facet ` se convierte la variable continua en un factor y crea `facets` para todos los valores  únicos de la variable continua."
   ]
  },
  {
   "cell_type": "code",
   "execution_count": 27,
   "metadata": {
    "collapsed": false,
    "deletable": true,
    "editable": true
   },
   "outputs": [
    {
     "data": {},
     "metadata": {},
     "output_type": "display_data"
    },
    {
     "data": {
      "image/png": "[encoded data removed]",
      "text/plain": [
       "plot without title"
      ]
     },
     "metadata": {},
     "output_type": "display_data"
    }
   ],
   "source": [
    "ggplot(mpg, aes(x = displ, y = hwy)) +\n",
    "  geom_point() + \n",
    "  facet_grid(. ~ cty)"
   ]
  },
  {
   "cell_type": "markdown",
   "metadata": {
    "deletable": true,
    "editable": true
   },
   "source": [
    "Respuesta: Son celdas  en las que no hay valores de la combinación de `drv` y `cyl`."
   ]
  },
  {
   "cell_type": "code",
   "execution_count": 28,
   "metadata": {
    "collapsed": false,
    "deletable": true,
    "editable": true
   },
   "outputs": [
    {
     "data": {},
     "metadata": {},
     "output_type": "display_data"
    },
    {
     "data": {
      "image/png": "[encoded data removed]",
      "text/plain": [
       "plot without title"
      ]
     },
     "metadata": {},
     "output_type": "display_data"
    }
   ],
   "source": [
    "ggplot(data = mpg) + \n",
    "geom_point(mapping = aes(x = drv, y = cyl))"
   ]
  },
  {
   "cell_type": "markdown",
   "metadata": {
    "deletable": true,
    "editable": true
   },
   "source": [
    "Las ubicaciones en el gráfico anterior sin puntos son las mismas celdas en `facet_grid (drv ~ cyl)` que no tienen puntos."
   ]
  },
  {
   "cell_type": "markdown",
   "metadata": {
    "deletable": true,
    "editable": true
   },
   "source": [
    "Respuesta:\n",
    "\n",
    "* El símbolo `.` ignora la dimensión para `faceting`.\n",
    "\n",
    "* Este gráfico realiza `facets` por valores de `drv` en el eje `y`:"
   ]
  },
  {
   "cell_type": "code",
   "execution_count": 29,
   "metadata": {
    "collapsed": false,
    "deletable": true,
    "editable": true
   },
   "outputs": [
    {
     "data": {},
     "metadata": {},
     "output_type": "display_data"
    },
    {
     "data": {
      "image/png": "[encoded data removed]",
      "text/plain": [
       "plot without title"
      ]
     },
     "metadata": {},
     "output_type": "display_data"
    }
   ],
   "source": [
    "ggplot(data = mpg) + \n",
    "geom_point(mapping = aes(x = displ, y = hwy)) +\n",
    "facet_grid(drv ~ .)"
   ]
  },
  {
   "cell_type": "markdown",
   "metadata": {
    "deletable": true,
    "editable": true
   },
   "source": [
    "Este gráfico realiza facets por valores de `cyl` en el eje x:"
   ]
  },
  {
   "cell_type": "code",
   "execution_count": 30,
   "metadata": {
    "collapsed": false,
    "deletable": true,
    "editable": true
   },
   "outputs": [
    {
     "data": {},
     "metadata": {},
     "output_type": "display_data"
    },
    {
     "data": {
      "image/png": "[encoded data removed]",
      "text/plain": [
       "plot without title"
      ]
     },
     "metadata": {},
     "output_type": "display_data"
    }
   ],
   "source": [
    "ggplot(data = mpg) + \n",
    "geom_point(mapping = aes(x = displ, y = hwy)) +\n",
    "  facet_grid(. ~ cyl)"
   ]
  },
  {
   "cell_type": "markdown",
   "metadata": {
    "deletable": true,
    "editable": true
   },
   "source": [
    "Respuesta: Los argumentos `nrow (ncol)` determinan el número de filas (columnas) que se utilizarán en los  `facets`. Es necesario desde  que `facet_wrap` sólo realiza  `facets` en una variable. Estos argumentos son innecesarios para `facet_grid` ya que el número de filas y columnas está determinado por el número de valores únicos de las variables especificadas."
   ]
  },
  {
   "cell_type": "markdown",
   "metadata": {
    "deletable": true,
    "editable": true
   },
   "source": [
    "Respuesta: Es más fácil comparar niveles relativos de `y` mediante escaneo horizontal, por lo que puede ser más fácil comparar visualmente estos niveles."
   ]
  },
  {
   "cell_type": "markdown",
   "metadata": {
    "collapsed": true,
    "deletable": true,
    "editable": true
   },
   "source": [
    "### Solución 5"
   ]
  },
  {
   "cell_type": "code",
   "execution_count": 31,
   "metadata": {
    "collapsed": false,
    "deletable": true,
    "editable": true
   },
   "outputs": [
    {
     "data": {
      "text/html": [
       "<ol class=list-inline>\n",
       "\t<li>z</li>\n",
       "\t<li>y</li>\n",
       "\t<li>x</li>\n",
       "\t<li>w</li>\n",
       "\t<li>v</li>\n",
       "\t<li>u</li>\n",
       "\t<li>t</li>\n",
       "\t<li>s</li>\n",
       "\t<li>r</li>\n",
       "\t<li>q</li>\n",
       "\t<li>p</li>\n",
       "\t<li>o</li>\n",
       "\t<li>n</li>\n",
       "\t<li>m</li>\n",
       "\t<li>l</li>\n",
       "\t<li>k</li>\n",
       "\t<li>j</li>\n",
       "\t<li>i</li>\n",
       "\t<li>h</li>\n",
       "\t<li>g</li>\n",
       "\t<li>f</li>\n",
       "\t<li>e</li>\n",
       "\t<li>d</li>\n",
       "\t<li>c</li>\n",
       "\t<li>b</li>\n",
       "\t<li>a</li>\n",
       "</ol>\n"
      ],
      "text/latex": [
       "\\begin{enumerate*}\n",
       "\\item z\n",
       "\\item y\n",
       "\\item x\n",
       "\\item w\n",
       "\\item v\n",
       "\\item u\n",
       "\\item t\n",
       "\\item s\n",
       "\\item r\n",
       "\\item q\n",
       "\\item p\n",
       "\\item o\n",
       "\\item n\n",
       "\\item m\n",
       "\\item l\n",
       "\\item k\n",
       "\\item j\n",
       "\\item i\n",
       "\\item h\n",
       "\\item g\n",
       "\\item f\n",
       "\\item e\n",
       "\\item d\n",
       "\\item c\n",
       "\\item b\n",
       "\\item a\n",
       "\\end{enumerate*}\n"
      ],
      "text/markdown": [
       "1. z\n",
       "2. y\n",
       "3. x\n",
       "4. w\n",
       "5. v\n",
       "6. u\n",
       "7. t\n",
       "8. s\n",
       "9. r\n",
       "10. q\n",
       "11. p\n",
       "12. o\n",
       "13. n\n",
       "14. m\n",
       "15. l\n",
       "16. k\n",
       "17. j\n",
       "18. i\n",
       "19. h\n",
       "20. g\n",
       "21. f\n",
       "22. e\n",
       "23. d\n",
       "24. c\n",
       "25. b\n",
       "26. a\n",
       "\n",
       "\n"
      ],
      "text/plain": [
       " [1] z y x w v u t s r q p o n m l k j i h g f e d c b a\n",
       "Levels: z y x w v u t s r q p o n m l k j i h g f e d c b a"
      ]
     },
     "metadata": {},
     "output_type": "display_data"
    }
   ],
   "source": [
    "f1 <- factor(letters)\n",
    "levels(f1) <- rev(levels(f1))\n",
    "f1"
   ]
  },
  {
   "cell_type": "markdown",
   "metadata": {
    "deletable": true,
    "editable": true
   },
   "source": [
    "Respuesta:  Ambos, las entradas del factor y también sus niveles se están invirtiendo."
   ]
  },
  {
   "cell_type": "code",
   "execution_count": 32,
   "metadata": {
    "collapsed": false,
    "deletable": true,
    "editable": true
   },
   "outputs": [
    {
     "data": {
      "text/html": [
       "<ol class=list-inline>\n",
       "\t<li>z</li>\n",
       "\t<li>y</li>\n",
       "\t<li>x</li>\n",
       "\t<li>w</li>\n",
       "\t<li>v</li>\n",
       "\t<li>u</li>\n",
       "\t<li>t</li>\n",
       "\t<li>s</li>\n",
       "\t<li>r</li>\n",
       "\t<li>q</li>\n",
       "\t<li>p</li>\n",
       "\t<li>o</li>\n",
       "\t<li>n</li>\n",
       "\t<li>m</li>\n",
       "\t<li>l</li>\n",
       "\t<li>k</li>\n",
       "\t<li>j</li>\n",
       "\t<li>i</li>\n",
       "\t<li>h</li>\n",
       "\t<li>g</li>\n",
       "\t<li>f</li>\n",
       "\t<li>e</li>\n",
       "\t<li>d</li>\n",
       "\t<li>c</li>\n",
       "\t<li>b</li>\n",
       "\t<li>a</li>\n",
       "</ol>\n"
      ],
      "text/latex": [
       "\\begin{enumerate*}\n",
       "\\item z\n",
       "\\item y\n",
       "\\item x\n",
       "\\item w\n",
       "\\item v\n",
       "\\item u\n",
       "\\item t\n",
       "\\item s\n",
       "\\item r\n",
       "\\item q\n",
       "\\item p\n",
       "\\item o\n",
       "\\item n\n",
       "\\item m\n",
       "\\item l\n",
       "\\item k\n",
       "\\item j\n",
       "\\item i\n",
       "\\item h\n",
       "\\item g\n",
       "\\item f\n",
       "\\item e\n",
       "\\item d\n",
       "\\item c\n",
       "\\item b\n",
       "\\item a\n",
       "\\end{enumerate*}\n"
      ],
      "text/markdown": [
       "1. z\n",
       "2. y\n",
       "3. x\n",
       "4. w\n",
       "5. v\n",
       "6. u\n",
       "7. t\n",
       "8. s\n",
       "9. r\n",
       "10. q\n",
       "11. p\n",
       "12. o\n",
       "13. n\n",
       "14. m\n",
       "15. l\n",
       "16. k\n",
       "17. j\n",
       "18. i\n",
       "19. h\n",
       "20. g\n",
       "21. f\n",
       "22. e\n",
       "23. d\n",
       "24. c\n",
       "25. b\n",
       "26. a\n",
       "\n",
       "\n"
      ],
      "text/plain": [
       " [1] z y x w v u t s r q p o n m l k j i h g f e d c b a\n",
       "Levels: a b c d e f g h i j k l m n o p q r s t u v w x y z"
      ]
     },
     "metadata": {},
     "output_type": "display_data"
    }
   ],
   "source": [
    "f2 <- rev(factor(letters)) # cambia solo las estradas del factor \n",
    "f3 <- factor(letters, levels = rev(letters))  # cambia solo los niveles del factor\n",
    "f2"
   ]
  },
  {
   "cell_type": "code",
   "execution_count": 33,
   "metadata": {
    "collapsed": false,
    "deletable": true,
    "editable": true
   },
   "outputs": [
    {
     "data": {
      "text/html": [
       "<ol class=list-inline>\n",
       "\t<li>a</li>\n",
       "\t<li>b</li>\n",
       "\t<li>c</li>\n",
       "\t<li>d</li>\n",
       "\t<li>e</li>\n",
       "\t<li>f</li>\n",
       "\t<li>g</li>\n",
       "\t<li>h</li>\n",
       "\t<li>i</li>\n",
       "\t<li>j</li>\n",
       "\t<li>k</li>\n",
       "\t<li>l</li>\n",
       "\t<li>m</li>\n",
       "\t<li>n</li>\n",
       "\t<li>o</li>\n",
       "\t<li>p</li>\n",
       "\t<li>q</li>\n",
       "\t<li>r</li>\n",
       "\t<li>s</li>\n",
       "\t<li>t</li>\n",
       "\t<li>u</li>\n",
       "\t<li>v</li>\n",
       "\t<li>w</li>\n",
       "\t<li>x</li>\n",
       "\t<li>y</li>\n",
       "\t<li>z</li>\n",
       "</ol>\n"
      ],
      "text/latex": [
       "\\begin{enumerate*}\n",
       "\\item a\n",
       "\\item b\n",
       "\\item c\n",
       "\\item d\n",
       "\\item e\n",
       "\\item f\n",
       "\\item g\n",
       "\\item h\n",
       "\\item i\n",
       "\\item j\n",
       "\\item k\n",
       "\\item l\n",
       "\\item m\n",
       "\\item n\n",
       "\\item o\n",
       "\\item p\n",
       "\\item q\n",
       "\\item r\n",
       "\\item s\n",
       "\\item t\n",
       "\\item u\n",
       "\\item v\n",
       "\\item w\n",
       "\\item x\n",
       "\\item y\n",
       "\\item z\n",
       "\\end{enumerate*}\n"
      ],
      "text/markdown": [
       "1. a\n",
       "2. b\n",
       "3. c\n",
       "4. d\n",
       "5. e\n",
       "6. f\n",
       "7. g\n",
       "8. h\n",
       "9. i\n",
       "10. j\n",
       "11. k\n",
       "12. l\n",
       "13. m\n",
       "14. n\n",
       "15. o\n",
       "16. p\n",
       "17. q\n",
       "18. r\n",
       "19. s\n",
       "20. t\n",
       "21. u\n",
       "22. v\n",
       "23. w\n",
       "24. x\n",
       "25. y\n",
       "26. z\n",
       "\n",
       "\n"
      ],
      "text/plain": [
       " [1] a b c d e f g h i j k l m n o p q r s t u v w x y z\n",
       "Levels: z y x w v u t s r q p o n m l k j i h g f e d c b a"
      ]
     },
     "metadata": {},
     "output_type": "display_data"
    }
   ],
   "source": [
    "f3"
   ]
  },
  {
   "cell_type": "markdown",
   "metadata": {
    "deletable": true,
    "editable": true
   },
   "source": [
    "Respuesta: A diferencia de `f1`,  `f2` y `f3` cambian el orden del factor o sus niveles, pero no ambos al mismo tiempo."
   ]
  },
  {
   "cell_type": "markdown",
   "metadata": {
    "deletable": true,
    "editable": true
   },
   "source": [
    "Respuesta: `names`, `row.names` y `class`."
   ]
  },
  {
   "cell_type": "markdown",
   "metadata": {
    "deletable": true,
    "editable": true
   },
   "source": [
    "Respuesta:"
   ]
  },
  {
   "cell_type": "code",
   "execution_count": 34,
   "metadata": {
    "collapsed": true,
    "deletable": true,
    "editable": true
   },
   "outputs": [],
   "source": [
    "?as.matrix"
   ]
  },
  {
   "cell_type": "markdown",
   "metadata": {
    "deletable": true,
    "editable": true
   },
   "source": [
    "El método para data frames devolverá una matriz de caracteres si sólo hay columnas atómicas y cualquier columna no (numérica / lógica / compleja), aplicando `as.vector` a factores y formateando a otras columnas sin carácteres. De lo contrario, se utilizará la jerarquía de coerción usual (lógico < entero < doble < complejo)."
   ]
  },
  {
   "cell_type": "markdown",
   "metadata": {
    "deletable": true,
    "editable": true
   },
   "source": [
    "Respuesta: Si se puede tener con 0 filas y 0 columnas."
   ]
  },
  {
   "cell_type": "code",
   "execution_count": 35,
   "metadata": {
    "collapsed": false,
    "deletable": true,
    "editable": true
   },
   "outputs": [
    {
     "data": {
      "text/html": [],
      "text/latex": [],
      "text/markdown": [],
      "text/plain": [
       "<0 x 0 matrix>"
      ]
     },
     "metadata": {},
     "output_type": "display_data"
    },
    {
     "data": {
      "text/html": [
       "'data.frame'"
      ],
      "text/latex": [
       "'data.frame'"
      ],
      "text/markdown": [
       "'data.frame'"
      ],
      "text/plain": [
       "[1] \"data.frame\""
      ]
     },
     "metadata": {},
     "output_type": "display_data"
    },
    {
     "data": {
      "text/html": [
       "<ol class=list-inline>\n",
       "\t<li>0</li>\n",
       "\t<li>0</li>\n",
       "</ol>\n"
      ],
      "text/latex": [
       "\\begin{enumerate*}\n",
       "\\item 0\n",
       "\\item 0\n",
       "\\end{enumerate*}\n"
      ],
      "text/markdown": [
       "1. 0\n",
       "2. 0\n",
       "\n",
       "\n"
      ],
      "text/plain": [
       "[1] 0 0"
      ]
     },
     "metadata": {},
     "output_type": "display_data"
    },
    {
     "data": {
      "text/html": [
       "<ol class=list-inline>\n",
       "\t<li>0</li>\n",
       "\t<li>2</li>\n",
       "</ol>\n"
      ],
      "text/latex": [
       "\\begin{enumerate*}\n",
       "\\item 0\n",
       "\\item 2\n",
       "\\end{enumerate*}\n"
      ],
      "text/markdown": [
       "1. 0\n",
       "2. 2\n",
       "\n",
       "\n"
      ],
      "text/plain": [
       "[1] 0 2"
      ]
     },
     "metadata": {},
     "output_type": "display_data"
    },
    {
     "data": {
      "text/html": [
       "<ol class=list-inline>\n",
       "\t<li>10</li>\n",
       "\t<li>0</li>\n",
       "</ol>\n"
      ],
      "text/latex": [
       "\\begin{enumerate*}\n",
       "\\item 10\n",
       "\\item 0\n",
       "\\end{enumerate*}\n"
      ],
      "text/markdown": [
       "1. 10\n",
       "2. 0\n",
       "\n",
       "\n"
      ],
      "text/plain": [
       "[1] 10  0"
      ]
     },
     "metadata": {},
     "output_type": "display_data"
    }
   ],
   "source": [
    "df <- data.frame()\n",
    "df\n",
    "class(df)\n",
    "dim(df)\n",
    "#[1] 0 0\n",
    "\n",
    "#data frame con 0 filas y >=1 columnas\n",
    "df <- data.frame(1, seq(10))[FALSE, ]\n",
    "dim(df)\n",
    "# [1] 0 2\n",
    "\n",
    "# 0 un  dataframe con >=1 filas, pero con 0 columnas\n",
    "df <- data.frame(1, seq(10))[, FALSE]\n",
    "dim(df)\n",
    "# [1] 10  0"
   ]
  },
  {
   "cell_type": "code",
   "execution_count": 36,
   "metadata": {
    "collapsed": false,
    "deletable": true,
    "editable": true
   },
   "outputs": [
    {
     "data": {
      "text/html": [
       "<table>\n",
       "<tbody>\n",
       "\t<tr><td>1 </td><td> 2</td><td> 3</td><td> 4</td><td> 5</td></tr>\n",
       "\t<tr><td>2 </td><td> 4</td><td> 6</td><td> 8</td><td>10</td></tr>\n",
       "\t<tr><td>3 </td><td> 6</td><td> 9</td><td>12</td><td>15</td></tr>\n",
       "\t<tr><td>4 </td><td> 8</td><td>12</td><td>16</td><td>20</td></tr>\n",
       "\t<tr><td>5 </td><td>10</td><td>15</td><td>20</td><td>25</td></tr>\n",
       "</tbody>\n",
       "</table>\n"
      ],
      "text/latex": [
       "\\begin{tabular}{lllll}\n",
       "\t 1  &  2 &  3 &  4 &  5\\\\\n",
       "\t 2  &  4 &  6 &  8 & 10\\\\\n",
       "\t 3  &  6 &  9 & 12 & 15\\\\\n",
       "\t 4  &  8 & 12 & 16 & 20\\\\\n",
       "\t 5  & 10 & 15 & 20 & 25\\\\\n",
       "\\end{tabular}\n"
      ],
      "text/markdown": [
       "\n",
       "| 1  |  2 |  3 |  4 |  5 | \n",
       "| 2  |  4 |  6 |  8 | 10 | \n",
       "| 3  |  6 |  9 | 12 | 15 | \n",
       "| 4  |  8 | 12 | 16 | 20 | \n",
       "| 5  | 10 | 15 | 20 | 25 | \n",
       "\n",
       "\n"
      ],
      "text/plain": [
       "     [,1] [,2] [,3] [,4] [,5]\n",
       "[1,] 1     2    3    4    5  \n",
       "[2,] 2     4    6    8   10  \n",
       "[3,] 3     6    9   12   15  \n",
       "[4,] 4     8   12   16   20  \n",
       "[5,] 5    10   15   20   25  "
      ]
     },
     "metadata": {},
     "output_type": "display_data"
    }
   ],
   "source": [
    "x <- outer(1:5, 1:5, FUN = \"*\")\n",
    "x"
   ]
  },
  {
   "cell_type": "code",
   "execution_count": 37,
   "metadata": {
    "collapsed": false,
    "deletable": true,
    "editable": true
   },
   "outputs": [
    {
     "data": {
      "text/html": [
       "<table>\n",
       "<tbody>\n",
       "\t<tr><td>FALSE</td><td> TRUE</td><td> TRUE</td><td> TRUE</td><td> TRUE</td></tr>\n",
       "\t<tr><td>FALSE</td><td>FALSE</td><td> TRUE</td><td> TRUE</td><td> TRUE</td></tr>\n",
       "\t<tr><td>FALSE</td><td>FALSE</td><td>FALSE</td><td> TRUE</td><td> TRUE</td></tr>\n",
       "\t<tr><td>FALSE</td><td>FALSE</td><td>FALSE</td><td>FALSE</td><td> TRUE</td></tr>\n",
       "\t<tr><td>FALSE</td><td>FALSE</td><td>FALSE</td><td>FALSE</td><td>FALSE</td></tr>\n",
       "</tbody>\n",
       "</table>\n"
      ],
      "text/latex": [
       "\\begin{tabular}{lllll}\n",
       "\t FALSE &  TRUE &  TRUE &  TRUE &  TRUE\\\\\n",
       "\t FALSE & FALSE &  TRUE &  TRUE &  TRUE\\\\\n",
       "\t FALSE & FALSE & FALSE &  TRUE &  TRUE\\\\\n",
       "\t FALSE & FALSE & FALSE & FALSE &  TRUE\\\\\n",
       "\t FALSE & FALSE & FALSE & FALSE & FALSE\\\\\n",
       "\\end{tabular}\n"
      ],
      "text/markdown": [
       "\n",
       "| FALSE |  TRUE |  TRUE |  TRUE |  TRUE | \n",
       "| FALSE | FALSE |  TRUE |  TRUE |  TRUE | \n",
       "| FALSE | FALSE | FALSE |  TRUE |  TRUE | \n",
       "| FALSE | FALSE | FALSE | FALSE |  TRUE | \n",
       "| FALSE | FALSE | FALSE | FALSE | FALSE | \n",
       "\n",
       "\n"
      ],
      "text/plain": [
       "     [,1]  [,2]  [,3]  [,4]  [,5] \n",
       "[1,] FALSE  TRUE  TRUE  TRUE  TRUE\n",
       "[2,] FALSE FALSE  TRUE  TRUE  TRUE\n",
       "[3,] FALSE FALSE FALSE  TRUE  TRUE\n",
       "[4,] FALSE FALSE FALSE FALSE  TRUE\n",
       "[5,] FALSE FALSE FALSE FALSE FALSE"
      ]
     },
     "metadata": {},
     "output_type": "display_data"
    }
   ],
   "source": [
    "upper.tri(x) # devuelve una matriz lógica que indica el triángulo superior de la matriz"
   ]
  },
  {
   "cell_type": "code",
   "execution_count": 38,
   "metadata": {
    "collapsed": false,
    "deletable": true,
    "editable": true
   },
   "outputs": [
    {
     "data": {
      "text/html": [
       "<ol class=list-inline>\n",
       "\t<li>2</li>\n",
       "\t<li>3</li>\n",
       "\t<li>6</li>\n",
       "\t<li>4</li>\n",
       "\t<li>8</li>\n",
       "\t<li>12</li>\n",
       "\t<li>5</li>\n",
       "\t<li>10</li>\n",
       "\t<li>15</li>\n",
       "\t<li>20</li>\n",
       "</ol>\n"
      ],
      "text/latex": [
       "\\begin{enumerate*}\n",
       "\\item 2\n",
       "\\item 3\n",
       "\\item 6\n",
       "\\item 4\n",
       "\\item 8\n",
       "\\item 12\n",
       "\\item 5\n",
       "\\item 10\n",
       "\\item 15\n",
       "\\item 20\n",
       "\\end{enumerate*}\n"
      ],
      "text/markdown": [
       "1. 2\n",
       "2. 3\n",
       "3. 6\n",
       "4. 4\n",
       "5. 8\n",
       "6. 12\n",
       "7. 5\n",
       "8. 10\n",
       "9. 15\n",
       "10. 20\n",
       "\n",
       "\n"
      ],
      "text/plain": [
       " [1]  2  3  6  4  8 12  5 10 15 20"
      ]
     },
     "metadata": {},
     "output_type": "display_data"
    }
   ],
   "source": [
    "x[upper.tri(x)] # devuelve un objeto de la menor dimensionalidad posible, en este caso un vector."
   ]
  },
  {
   "cell_type": "markdown",
   "metadata": {
    "deletable": true,
    "editable": true
   },
   "source": [
    "Respuesta: `upper.tri()` tiene un código fuente muy intuitivo. Coacciona su entrada a una matriz y devuelve una matriz lógica. Por lo tanto la descripción de su comportamiento para el uso de subconjunto se basa en todo lo que se aplica a subconjuntos con matrices lógicas."
   ]
  },
  {
   "cell_type": "markdown",
   "metadata": {
    "deletable": true,
    "editable": true
   },
   "source": [
    "Respuesta: Copiemos la parte importante del código fuente de la función `diag()`:"
   ]
  },
  {
   "cell_type": "code",
   "execution_count": 39,
   "metadata": {
    "collapsed": false,
    "deletable": true,
    "editable": true
   },
   "outputs": [
    {
     "data": {
      "text/html": [
       "<pre class=language-r><code>function (x = 1, nrow, ncol) \n",
       "{\n",
       "<span style=white-space:pre-wrap>    if (is.matrix(x)) {</span>\n",
       "<span style=white-space:pre-wrap>        if (nargs() &gt; 1L) </span>\n",
       "<span style=white-space:pre-wrap>            stop(\"'nrow' or 'ncol' no pueden ser especificados cuando   'x' es una matriz\")</span>\n",
       "<span style=white-space:pre-wrap>        if ((m &lt;- min(dim(x))) == 0L) </span>\n",
       "<span style=white-space:pre-wrap>            return(vector(typeof(x), 0L))</span>\n",
       "<span style=white-space:pre-wrap>        y &lt;- x[1 + 0L:(m - 1L) * (dim(x)[1L] + 1)]</span>\n",
       "<span style=white-space:pre-wrap>        nms &lt;- dimnames(x)</span>\n",
       "<span style=white-space:pre-wrap>        if (is.list(nms) &amp;&amp; !any(sapply(nms, is.null)) &amp;&amp; identical((nm &lt;- nms[[1L]][seq_len(m)]), </span>\n",
       "<span style=white-space:pre-wrap>            nms[[2L]][seq_len(m)])) </span>\n",
       "<span style=white-space:pre-wrap>            names(y) &lt;- nm</span>\n",
       "<span style=white-space:pre-wrap>        return(y)</span>\n",
       "<span style=white-space:pre-wrap>    }</span>\n",
       "}</code></pre>"
      ],
      "text/latex": [
       "\\begin{minted}{r}\n",
       "function (x = 1, nrow, ncol) \n",
       "\\{\n",
       "    if (is.matrix(x)) \\{\n",
       "        if (nargs() > 1L) \n",
       "            stop(\"'nrow' or 'ncol' no pueden ser especificados cuando   'x' es una matriz\")\n",
       "        if ((m <- min(dim(x))) == 0L) \n",
       "            return(vector(typeof(x), 0L))\n",
       "        y <- x{[}1 + 0L:(m - 1L) * (dim(x){[}1L{]} + 1){]}\n",
       "        nms <- dimnames(x)\n",
       "        if (is.list(nms) \\&\\& !any(sapply(nms, is.null)) \\&\\& identical((nm <- nms{[}{[}1L{]}{]}{[}seq\\_len(m){]}), \n",
       "            nms{[}{[}2L{]}{]}{[}seq\\_len(m){]})) \n",
       "            names(y) <- nm\n",
       "        return(y)\n",
       "    \\}\n",
       "\\}\n",
       "\\end{minted}"
      ],
      "text/markdown": [
       "```r\n",
       "function (x = 1, nrow, ncol) \n",
       "{\n",
       "    if (is.matrix(x)) {\n",
       "        if (nargs() > 1L) \n",
       "            stop(\"'nrow' or 'ncol' no pueden ser especificados cuando   'x' es una matriz\")\n",
       "        if ((m <- min(dim(x))) == 0L) \n",
       "            return(vector(typeof(x), 0L))\n",
       "        y <- x[1 + 0L:(m - 1L) * (dim(x)[1L] + 1)]\n",
       "        nms <- dimnames(x)\n",
       "        if (is.list(nms) && !any(sapply(nms, is.null)) && identical((nm <- nms[[1L]][seq_len(m)]), \n",
       "            nms[[2L]][seq_len(m)])) \n",
       "            names(y) <- nm\n",
       "        return(y)\n",
       "    }\n",
       "}\n",
       "```"
      ],
      "text/plain": [
       "function (x = 1, nrow, ncol){\n",
       "  if (is.matrix(x)) {\n",
       "    if (nargs() > 1L) # esta y la proxima linea se deben quitar\n",
       "      stop(\"'nrow' or 'ncol' no pueden ser especificados cuando   'x' es una matriz\") \n",
       "    if ((m <- min(dim(x))) == 0L) \n",
       "      return(vector(typeof(x), 0L))\n",
       "    y <- x[1 + 0L:(m - 1L) * (dim(x)[1L] + 1)]\n",
       "    nms <- dimnames(x)\n",
       "    if (is.list(nms) && !any(sapply(nms, is.null)) && identical((nm <- nms[[1L]][seq_len(m)]),\n",
       "                                                                nms[[2L]][seq_len(m)]))\n",
       "      names(y) <- nm\n",
       "    return(y)\n",
       "    }\n",
       "}"
      ]
     },
     "metadata": {},
     "output_type": "display_data"
    }
   ],
   "source": [
    "function (x = 1, nrow, ncol){\n",
    "  if (is.matrix(x)) {\n",
    "    if (nargs() > 1L) # esta y la proxima linea se deben quitar\n",
    "      stop(\"'nrow' or 'ncol' no pueden ser especificados cuando   'x' es una matriz\") \n",
    "    if ((m <- min(dim(x))) == 0L) \n",
    "      return(vector(typeof(x), 0L))\n",
    "    y <- x[1 + 0L:(m - 1L) * (dim(x)[1L] + 1)]\n",
    "    nms <- dimnames(x)\n",
    "    if (is.list(nms) && !any(sapply(nms, is.null)) && identical((nm <- nms[[1L]][seq_len(m)]),\n",
    "                                                                nms[[2L]][seq_len(m)]))\n",
    "      names(y) <- nm\n",
    "    return(y)\n",
    "    }\n",
    "}"
   ]
  },
  {
   "cell_type": "markdown",
   "metadata": {
    "deletable": true,
    "editable": true
   },
   "source": [
    "En el siguiente paso eliminamos el argumento innecesario de `nrow` y `ncol` y el código relacionado con las lineas mencionadas a retirar."
   ]
  },
  {
   "cell_type": "code",
   "execution_count": 40,
   "metadata": {
    "collapsed": true,
    "deletable": true,
    "editable": true
   },
   "outputs": [],
   "source": [
    "diag_v <- function (x = 1) {\n",
    "  if (is.matrix(x)) {\n",
    "    if ((m <- min(dim(x))) == 0L) \n",
    "      return(vector(typeof(x), 0L))\n",
    "    y <- x[1 + 0L:(m - 1L) * (dim(x)[1L] + 1)] # subconjunto con un  vector\n",
    "    nms <- dimnames(x)\n",
    "    if (is.list(nms) && !any(sapply(nms, is.null)) && identical((nm <- nms[[1L]][seq_len(m)]),\n",
    "                                                                nms[[2L]][seq_len(m)]))\n",
    "      names(y) <- nm\n",
    "    return(y)\n",
    "  }\n",
    "  }"
   ]
  },
  {
   "cell_type": "markdown",
   "metadata": {
    "deletable": true,
    "editable": true
   },
   "source": [
    "Si buscamos la idea de capturar los elementos diagonales, podemos ver que la matriz de entrada realiza subconjuntos con un vector, por lo que llamamos a esta función `diag_v()`. Podemos implementar una función `diag_m()`, donde  se realice subconjunto con una matriz."
   ]
  },
  {
   "cell_type": "code",
   "execution_count": 41,
   "metadata": {
    "collapsed": true,
    "deletable": true,
    "editable": true
   },
   "outputs": [],
   "source": [
    "diag_m <- function (x = 1) {\n",
    "  if (is.matrix(x)) {\n",
    "    if ((m <- min(dim(x))) == 0L) \n",
    "      return(vector(typeof(x), 0L))\n",
    "    y <- x[matrix(c(1:m,1:m), m)] # subconjunto con una  matriz\n",
    "    nms <- dimnames(x)\n",
    "    if (is.list(nms) && !any(sapply(nms, is.null)) && identical((nm <- nms[[1L]][seq_len(m)]), \n",
    "                                                                    nms[[2L]][seq_len(m)])) \n",
    "      names(y) <- nm\n",
    "    return(y)\n",
    "  }\n",
    "}"
   ]
  },
  {
   "cell_type": "markdown",
   "metadata": {
    "deletable": true,
    "editable": true
   },
   "source": [
    "Por ejemplo:"
   ]
  },
  {
   "cell_type": "code",
   "execution_count": 42,
   "metadata": {
    "collapsed": false,
    "deletable": true,
    "editable": true
   },
   "outputs": [
    {
     "data": {
      "text/html": [
       "<ol class=list-inline>\n",
       "\t<li>1</li>\n",
       "\t<li>8</li>\n",
       "\t<li>15</li>\n",
       "\t<li>22</li>\n",
       "\t<li>29</li>\n",
       "\t<li>36</li>\n",
       "</ol>\n"
      ],
      "text/latex": [
       "\\begin{enumerate*}\n",
       "\\item 1\n",
       "\\item 8\n",
       "\\item 15\n",
       "\\item 22\n",
       "\\item 29\n",
       "\\item 36\n",
       "\\end{enumerate*}\n"
      ],
      "text/markdown": [
       "1. 1\n",
       "2. 8\n",
       "3. 15\n",
       "4. 22\n",
       "5. 29\n",
       "6. 36\n",
       "\n",
       "\n"
      ],
      "text/plain": [
       "[1]  1  8 15 22 29 36"
      ]
     },
     "metadata": {},
     "output_type": "display_data"
    }
   ],
   "source": [
    "x <- matrix(seq(54), nrow = 6)\n",
    "diag_m(x)"
   ]
  },
  {
   "cell_type": "code",
   "execution_count": 43,
   "metadata": {
    "collapsed": false,
    "deletable": true,
    "editable": true
   },
   "outputs": [
    {
     "data": {
      "text/html": [
       "<table>\n",
       "<thead><tr><th scope=col>expr</th><th scope=col>time</th></tr></thead>\n",
       "<tbody>\n",
       "\t<tr><td>diag_v(diamonds_m)</td><td>151955            </td></tr>\n",
       "\t<tr><td>diag(diamonds_m)  </td><td> 72609            </td></tr>\n",
       "\t<tr><td>diag(diamonds_m)  </td><td> 52755            </td></tr>\n",
       "\t<tr><td>diag_v(diamonds_m)</td><td> 61461            </td></tr>\n",
       "\t<tr><td>diag_v(diamonds_m)</td><td> 55046            </td></tr>\n",
       "\t<tr><td>diag_m(diamonds_m)</td><td> 73580            </td></tr>\n",
       "\t<tr><td>diag(diamonds_m)  </td><td> 50091            </td></tr>\n",
       "\t<tr><td>diag_v(diamonds_m)</td><td> 51819            </td></tr>\n",
       "\t<tr><td>diag(diamonds_m)  </td><td> 46741            </td></tr>\n",
       "\t<tr><td>diag_m(diamonds_m)</td><td>109640            </td></tr>\n",
       "\t<tr><td>diag_m(diamonds_m)</td><td> 58725            </td></tr>\n",
       "\t<tr><td>diag_v(diamonds_m)</td><td> 50883            </td></tr>\n",
       "\t<tr><td>diag(diamonds_m)  </td><td> 46232            </td></tr>\n",
       "\t<tr><td>diag_m(diamonds_m)</td><td> 56841            </td></tr>\n",
       "\t<tr><td>diag_v(diamonds_m)</td><td> 49051            </td></tr>\n",
       "\t<tr><td>diag(diamonds_m)  </td><td> 45862            </td></tr>\n",
       "\t<tr><td>diag(diamonds_m)  </td><td> 44482            </td></tr>\n",
       "\t<tr><td>diag_v(diamonds_m)</td><td> 50303            </td></tr>\n",
       "\t<tr><td>diag(diamonds_m)  </td><td> 44968            </td></tr>\n",
       "\t<tr><td>diag_m(diamonds_m)</td><td> 56397            </td></tr>\n",
       "\t<tr><td>diag_v(diamonds_m)</td><td> 49714            </td></tr>\n",
       "\t<tr><td>diag_m(diamonds_m)</td><td> 88273            </td></tr>\n",
       "\t<tr><td>diag_v(diamonds_m)</td><td> 51741            </td></tr>\n",
       "\t<tr><td>diag_m(diamonds_m)</td><td> 56022            </td></tr>\n",
       "\t<tr><td>diag_m(diamonds_m)</td><td> 54758            </td></tr>\n",
       "\t<tr><td>diag_v(diamonds_m)</td><td> 52227            </td></tr>\n",
       "\t<tr><td>diag_m(diamonds_m)</td><td> 55859            </td></tr>\n",
       "\t<tr><td>diag_v(diamonds_m)</td><td> 51522            </td></tr>\n",
       "\t<tr><td>diag_m(diamonds_m)</td><td> 58633            </td></tr>\n",
       "\t<tr><td>diag(diamonds_m)  </td><td> 50187            </td></tr>\n",
       "\t<tr><td>⋮</td><td>⋮</td></tr>\n",
       "\t<tr><td>diag(diamonds_m)  </td><td> 43588            </td></tr>\n",
       "\t<tr><td>diag(diamonds_m)  </td><td> 42683            </td></tr>\n",
       "\t<tr><td>diag_v(diamonds_m)</td><td> 48899            </td></tr>\n",
       "\t<tr><td>diag(diamonds_m)  </td><td> 43945            </td></tr>\n",
       "\t<tr><td>diag_m(diamonds_m)</td><td> 54788            </td></tr>\n",
       "\t<tr><td>diag_v(diamonds_m)</td><td> 48409            </td></tr>\n",
       "\t<tr><td>diag_m(diamonds_m)</td><td> 61604            </td></tr>\n",
       "\t<tr><td>diag_m(diamonds_m)</td><td>102952            </td></tr>\n",
       "\t<tr><td>diag_m(diamonds_m)</td><td> 57286            </td></tr>\n",
       "\t<tr><td>diag_v(diamonds_m)</td><td> 68646            </td></tr>\n",
       "\t<tr><td>diag_v(diamonds_m)</td><td> 49147            </td></tr>\n",
       "\t<tr><td>diag_v(diamonds_m)</td><td> 47834            </td></tr>\n",
       "\t<tr><td>diag_m(diamonds_m)</td><td> 53051            </td></tr>\n",
       "\t<tr><td>diag_v(diamonds_m)</td><td> 46968            </td></tr>\n",
       "\t<tr><td>diag_v(diamonds_m)</td><td> 47736            </td></tr>\n",
       "\t<tr><td>diag_m(diamonds_m)</td><td> 53201            </td></tr>\n",
       "\t<tr><td>diag_m(diamonds_m)</td><td> 52963            </td></tr>\n",
       "\t<tr><td>diag_v(diamonds_m)</td><td> 48953            </td></tr>\n",
       "\t<tr><td>diag(diamonds_m)  </td><td> 64852            </td></tr>\n",
       "\t<tr><td>diag_v(diamonds_m)</td><td> 48353            </td></tr>\n",
       "\t<tr><td>diag(diamonds_m)  </td><td> 43782            </td></tr>\n",
       "\t<tr><td>diag(diamonds_m)  </td><td> 42690            </td></tr>\n",
       "\t<tr><td>diag(diamonds_m)  </td><td> 43072            </td></tr>\n",
       "\t<tr><td>diag_m(diamonds_m)</td><td> 55260            </td></tr>\n",
       "\t<tr><td>diag_m(diamonds_m)</td><td> 53551            </td></tr>\n",
       "\t<tr><td>diag(diamonds_m)  </td><td> 44147            </td></tr>\n",
       "\t<tr><td>diag(diamonds_m)  </td><td> 43289            </td></tr>\n",
       "\t<tr><td>diag_m(diamonds_m)</td><td> 54696            </td></tr>\n",
       "\t<tr><td>diag_v(diamonds_m)</td><td> 48746            </td></tr>\n",
       "\t<tr><td>diag(diamonds_m)  </td><td> 43840            </td></tr>\n",
       "</tbody>\n",
       "</table>\n"
      ],
      "text/latex": [
       "\\begin{tabular}{r|ll}\n",
       " expr & time\\\\\n",
       "\\hline\n",
       "\t diag\\_v(diamonds\\_m) & 151955                \\\\\n",
       "\t diag(diamonds\\_m)   &  72609              \\\\\n",
       "\t diag(diamonds\\_m)   &  52755              \\\\\n",
       "\t diag\\_v(diamonds\\_m) &  61461                \\\\\n",
       "\t diag\\_v(diamonds\\_m) &  55046                \\\\\n",
       "\t diag\\_m(diamonds\\_m) &  73580                \\\\\n",
       "\t diag(diamonds\\_m)   &  50091              \\\\\n",
       "\t diag\\_v(diamonds\\_m) &  51819                \\\\\n",
       "\t diag(diamonds\\_m)   &  46741              \\\\\n",
       "\t diag\\_m(diamonds\\_m) & 109640                \\\\\n",
       "\t diag\\_m(diamonds\\_m) &  58725                \\\\\n",
       "\t diag\\_v(diamonds\\_m) &  50883                \\\\\n",
       "\t diag(diamonds\\_m)   &  46232              \\\\\n",
       "\t diag\\_m(diamonds\\_m) &  56841                \\\\\n",
       "\t diag\\_v(diamonds\\_m) &  49051                \\\\\n",
       "\t diag(diamonds\\_m)   &  45862              \\\\\n",
       "\t diag(diamonds\\_m)   &  44482              \\\\\n",
       "\t diag\\_v(diamonds\\_m) &  50303                \\\\\n",
       "\t diag(diamonds\\_m)   &  44968              \\\\\n",
       "\t diag\\_m(diamonds\\_m) &  56397                \\\\\n",
       "\t diag\\_v(diamonds\\_m) &  49714                \\\\\n",
       "\t diag\\_m(diamonds\\_m) &  88273                \\\\\n",
       "\t diag\\_v(diamonds\\_m) &  51741                \\\\\n",
       "\t diag\\_m(diamonds\\_m) &  56022                \\\\\n",
       "\t diag\\_m(diamonds\\_m) &  54758                \\\\\n",
       "\t diag\\_v(diamonds\\_m) &  52227                \\\\\n",
       "\t diag\\_m(diamonds\\_m) &  55859                \\\\\n",
       "\t diag\\_v(diamonds\\_m) &  51522                \\\\\n",
       "\t diag\\_m(diamonds\\_m) &  58633                \\\\\n",
       "\t diag(diamonds\\_m)   &  50187              \\\\\n",
       "\t ⋮ & ⋮\\\\\n",
       "\t diag(diamonds\\_m)   &  43588              \\\\\n",
       "\t diag(diamonds\\_m)   &  42683              \\\\\n",
       "\t diag\\_v(diamonds\\_m) &  48899                \\\\\n",
       "\t diag(diamonds\\_m)   &  43945              \\\\\n",
       "\t diag\\_m(diamonds\\_m) &  54788                \\\\\n",
       "\t diag\\_v(diamonds\\_m) &  48409                \\\\\n",
       "\t diag\\_m(diamonds\\_m) &  61604                \\\\\n",
       "\t diag\\_m(diamonds\\_m) & 102952                \\\\\n",
       "\t diag\\_m(diamonds\\_m) &  57286                \\\\\n",
       "\t diag\\_v(diamonds\\_m) &  68646                \\\\\n",
       "\t diag\\_v(diamonds\\_m) &  49147                \\\\\n",
       "\t diag\\_v(diamonds\\_m) &  47834                \\\\\n",
       "\t diag\\_m(diamonds\\_m) &  53051                \\\\\n",
       "\t diag\\_v(diamonds\\_m) &  46968                \\\\\n",
       "\t diag\\_v(diamonds\\_m) &  47736                \\\\\n",
       "\t diag\\_m(diamonds\\_m) &  53201                \\\\\n",
       "\t diag\\_m(diamonds\\_m) &  52963                \\\\\n",
       "\t diag\\_v(diamonds\\_m) &  48953                \\\\\n",
       "\t diag(diamonds\\_m)   &  64852              \\\\\n",
       "\t diag\\_v(diamonds\\_m) &  48353                \\\\\n",
       "\t diag(diamonds\\_m)   &  43782              \\\\\n",
       "\t diag(diamonds\\_m)   &  42690              \\\\\n",
       "\t diag(diamonds\\_m)   &  43072              \\\\\n",
       "\t diag\\_m(diamonds\\_m) &  55260                \\\\\n",
       "\t diag\\_m(diamonds\\_m) &  53551                \\\\\n",
       "\t diag(diamonds\\_m)   &  44147              \\\\\n",
       "\t diag(diamonds\\_m)   &  43289              \\\\\n",
       "\t diag\\_m(diamonds\\_m) &  54696                \\\\\n",
       "\t diag\\_v(diamonds\\_m) &  48746                \\\\\n",
       "\t diag(diamonds\\_m)   &  43840              \\\\\n",
       "\\end{tabular}\n"
      ],
      "text/markdown": [
       "\n",
       "expr | time | \n",
       "|---|---|---|---|---|---|---|---|---|---|---|---|---|---|---|---|---|---|---|---|---|---|---|---|---|---|---|---|---|---|---|---|---|---|---|---|---|---|---|---|---|---|---|---|---|---|---|---|---|---|---|---|---|---|---|---|---|---|---|---|---|\n",
       "| diag_v(diamonds_m) | 151955             | \n",
       "| diag(diamonds_m)   |  72609             | \n",
       "| diag(diamonds_m)   |  52755             | \n",
       "| diag_v(diamonds_m) |  61461             | \n",
       "| diag_v(diamonds_m) |  55046             | \n",
       "| diag_m(diamonds_m) |  73580             | \n",
       "| diag(diamonds_m)   |  50091             | \n",
       "| diag_v(diamonds_m) |  51819             | \n",
       "| diag(diamonds_m)   |  46741             | \n",
       "| diag_m(diamonds_m) | 109640             | \n",
       "| diag_m(diamonds_m) |  58725             | \n",
       "| diag_v(diamonds_m) |  50883             | \n",
       "| diag(diamonds_m)   |  46232             | \n",
       "| diag_m(diamonds_m) |  56841             | \n",
       "| diag_v(diamonds_m) |  49051             | \n",
       "| diag(diamonds_m)   |  45862             | \n",
       "| diag(diamonds_m)   |  44482             | \n",
       "| diag_v(diamonds_m) |  50303             | \n",
       "| diag(diamonds_m)   |  44968             | \n",
       "| diag_m(diamonds_m) |  56397             | \n",
       "| diag_v(diamonds_m) |  49714             | \n",
       "| diag_m(diamonds_m) |  88273             | \n",
       "| diag_v(diamonds_m) |  51741             | \n",
       "| diag_m(diamonds_m) |  56022             | \n",
       "| diag_m(diamonds_m) |  54758             | \n",
       "| diag_v(diamonds_m) |  52227             | \n",
       "| diag_m(diamonds_m) |  55859             | \n",
       "| diag_v(diamonds_m) |  51522             | \n",
       "| diag_m(diamonds_m) |  58633             | \n",
       "| diag(diamonds_m)   |  50187             | \n",
       "| ⋮ | ⋮ | \n",
       "| diag(diamonds_m)   |  43588             | \n",
       "| diag(diamonds_m)   |  42683             | \n",
       "| diag_v(diamonds_m) |  48899             | \n",
       "| diag(diamonds_m)   |  43945             | \n",
       "| diag_m(diamonds_m) |  54788             | \n",
       "| diag_v(diamonds_m) |  48409             | \n",
       "| diag_m(diamonds_m) |  61604             | \n",
       "| diag_m(diamonds_m) | 102952             | \n",
       "| diag_m(diamonds_m) |  57286             | \n",
       "| diag_v(diamonds_m) |  68646             | \n",
       "| diag_v(diamonds_m) |  49147             | \n",
       "| diag_v(diamonds_m) |  47834             | \n",
       "| diag_m(diamonds_m) |  53051             | \n",
       "| diag_v(diamonds_m) |  46968             | \n",
       "| diag_v(diamonds_m) |  47736             | \n",
       "| diag_m(diamonds_m) |  53201             | \n",
       "| diag_m(diamonds_m) |  52963             | \n",
       "| diag_v(diamonds_m) |  48953             | \n",
       "| diag(diamonds_m)   |  64852             | \n",
       "| diag_v(diamonds_m) |  48353             | \n",
       "| diag(diamonds_m)   |  43782             | \n",
       "| diag(diamonds_m)   |  42690             | \n",
       "| diag(diamonds_m)   |  43072             | \n",
       "| diag_m(diamonds_m) |  55260             | \n",
       "| diag_m(diamonds_m) |  53551             | \n",
       "| diag(diamonds_m)   |  44147             | \n",
       "| diag(diamonds_m)   |  43289             | \n",
       "| diag_m(diamonds_m) |  54696             | \n",
       "| diag_v(diamonds_m) |  48746             | \n",
       "| diag(diamonds_m)   |  43840             | \n",
       "\n",
       "\n"
      ],
      "text/plain": [
       "    expr               time  \n",
       "1   diag_v(diamonds_m) 151955\n",
       "2   diag(diamonds_m)    72609\n",
       "3   diag(diamonds_m)    52755\n",
       "4   diag_v(diamonds_m)  61461\n",
       "5   diag_v(diamonds_m)  55046\n",
       "6   diag_m(diamonds_m)  73580\n",
       "7   diag(diamonds_m)    50091\n",
       "8   diag_v(diamonds_m)  51819\n",
       "9   diag(diamonds_m)    46741\n",
       "10  diag_m(diamonds_m) 109640\n",
       "11  diag_m(diamonds_m)  58725\n",
       "12  diag_v(diamonds_m)  50883\n",
       "13  diag(diamonds_m)    46232\n",
       "14  diag_m(diamonds_m)  56841\n",
       "15  diag_v(diamonds_m)  49051\n",
       "16  diag(diamonds_m)    45862\n",
       "17  diag(diamonds_m)    44482\n",
       "18  diag_v(diamonds_m)  50303\n",
       "19  diag(diamonds_m)    44968\n",
       "20  diag_m(diamonds_m)  56397\n",
       "21  diag_v(diamonds_m)  49714\n",
       "22  diag_m(diamonds_m)  88273\n",
       "23  diag_v(diamonds_m)  51741\n",
       "24  diag_m(diamonds_m)  56022\n",
       "25  diag_m(diamonds_m)  54758\n",
       "26  diag_v(diamonds_m)  52227\n",
       "27  diag_m(diamonds_m)  55859\n",
       "28  diag_v(diamonds_m)  51522\n",
       "29  diag_m(diamonds_m)  58633\n",
       "30  diag(diamonds_m)    50187\n",
       "⋮   ⋮                  ⋮     \n",
       "271 diag(diamonds_m)    43588\n",
       "272 diag(diamonds_m)    42683\n",
       "273 diag_v(diamonds_m)  48899\n",
       "274 diag(diamonds_m)    43945\n",
       "275 diag_m(diamonds_m)  54788\n",
       "276 diag_v(diamonds_m)  48409\n",
       "277 diag_m(diamonds_m)  61604\n",
       "278 diag_m(diamonds_m) 102952\n",
       "279 diag_m(diamonds_m)  57286\n",
       "280 diag_v(diamonds_m)  68646\n",
       "281 diag_v(diamonds_m)  49147\n",
       "282 diag_v(diamonds_m)  47834\n",
       "283 diag_m(diamonds_m)  53051\n",
       "284 diag_v(diamonds_m)  46968\n",
       "285 diag_v(diamonds_m)  47736\n",
       "286 diag_m(diamonds_m)  53201\n",
       "287 diag_m(diamonds_m)  52963\n",
       "288 diag_v(diamonds_m)  48953\n",
       "289 diag(diamonds_m)    64852\n",
       "290 diag_v(diamonds_m)  48353\n",
       "291 diag(diamonds_m)    43782\n",
       "292 diag(diamonds_m)    42690\n",
       "293 diag(diamonds_m)    43072\n",
       "294 diag_m(diamonds_m)  55260\n",
       "295 diag_m(diamonds_m)  53551\n",
       "296 diag(diamonds_m)    44147\n",
       "297 diag(diamonds_m)    43289\n",
       "298 diag_m(diamonds_m)  54696\n",
       "299 diag_v(diamonds_m)  48746\n",
       "300 diag(diamonds_m)    43840"
      ]
     },
     "metadata": {},
     "output_type": "display_data"
    }
   ],
   "source": [
    "#install.packages(\"microbenchmark\")\n",
    "library(\"microbenchmark\")\n",
    "\n",
    "diamonds_m <- as.matrix(ggplot2::diamonds)\n",
    "\n",
    "stopifnot(all.equal(diag(diamonds_m),\n",
    "                    diag_v(diamonds_m),\n",
    "                    diag_m(diamonds_m))) \n",
    "microbenchmark::microbenchmark(\n",
    "  diag(diamonds_m),\n",
    "  diag_v(diamonds_m),\n",
    "  diag_m(diamonds_m)\n",
    ")"
   ]
  },
  {
   "cell_type": "markdown",
   "metadata": {
    "deletable": true,
    "editable": true
   },
   "source": [
    "La función original parece ser un poco más rápida que la versión recortada y nuestra matriz. Tal vez esto se debe a la compilación de problemas."
   ]
  },
  {
   "cell_type": "code",
   "execution_count": 44,
   "metadata": {
    "collapsed": false,
    "deletable": true,
    "editable": true
   },
   "outputs": [
    {
     "data": {
      "text/html": [
       "<table>\n",
       "<thead><tr><th scope=col>expr</th><th scope=col>time</th></tr></thead>\n",
       "<tbody>\n",
       "\t<tr><td>diag_c(diamonds_m)  </td><td>129187              </td></tr>\n",
       "\t<tr><td>diag_c(diamonds_m)  </td><td> 95945              </td></tr>\n",
       "\t<tr><td>diag_v_c(diamonds_m)</td><td> 57645              </td></tr>\n",
       "\t<tr><td>diag_c(diamonds_m)  </td><td> 47388              </td></tr>\n",
       "\t<tr><td>diag_m_c(diamonds_m)</td><td> 69547              </td></tr>\n",
       "\t<tr><td>diag_v_c(diamonds_m)</td><td> 46685              </td></tr>\n",
       "\t<tr><td>diag_v_c(diamonds_m)</td><td> 44284              </td></tr>\n",
       "\t<tr><td>diag_m_c(diamonds_m)</td><td> 70314              </td></tr>\n",
       "\t<tr><td>diag_v_c(diamonds_m)</td><td> 48425              </td></tr>\n",
       "\t<tr><td>diag_v_c(diamonds_m)</td><td> 44685              </td></tr>\n",
       "\t<tr><td>diag_v_c(diamonds_m)</td><td> 45003              </td></tr>\n",
       "\t<tr><td>diag_c(diamonds_m)  </td><td> 44579              </td></tr>\n",
       "\t<tr><td>diag_c(diamonds_m)  </td><td> 43169              </td></tr>\n",
       "\t<tr><td>diag_v_c(diamonds_m)</td><td> 44340              </td></tr>\n",
       "\t<tr><td>diag_m_c(diamonds_m)</td><td> 51774              </td></tr>\n",
       "\t<tr><td>diag_v_c(diamonds_m)</td><td> 44378              </td></tr>\n",
       "\t<tr><td>diag_m_c(diamonds_m)</td><td> 51626              </td></tr>\n",
       "\t<tr><td>diag_v_c(diamonds_m)</td><td> 45956              </td></tr>\n",
       "\t<tr><td>diag_c(diamonds_m)  </td><td> 44676              </td></tr>\n",
       "\t<tr><td>diag_m_c(diamonds_m)</td><td> 69688              </td></tr>\n",
       "\t<tr><td>diag_v_c(diamonds_m)</td><td> 48621              </td></tr>\n",
       "\t<tr><td>diag_v_c(diamonds_m)</td><td> 45090              </td></tr>\n",
       "\t<tr><td>diag_m_c(diamonds_m)</td><td> 51953              </td></tr>\n",
       "\t<tr><td>diag_c(diamonds_m)  </td><td> 46223              </td></tr>\n",
       "\t<tr><td>diag_c(diamonds_m)  </td><td> 44214              </td></tr>\n",
       "\t<tr><td>diag_c(diamonds_m)  </td><td> 45839              </td></tr>\n",
       "\t<tr><td>diag_m_c(diamonds_m)</td><td> 53385              </td></tr>\n",
       "\t<tr><td>diag_m_c(diamonds_m)</td><td> 52159              </td></tr>\n",
       "\t<tr><td>diag_m_c(diamonds_m)</td><td> 50527              </td></tr>\n",
       "\t<tr><td>diag_m_c(diamonds_m)</td><td> 52203              </td></tr>\n",
       "\t<tr><td>⋮</td><td>⋮</td></tr>\n",
       "\t<tr><td>diag_v_c(diamonds_m)</td><td>43657               </td></tr>\n",
       "\t<tr><td>diag_c(diamonds_m)  </td><td>43251               </td></tr>\n",
       "\t<tr><td>diag_v_c(diamonds_m)</td><td>61840               </td></tr>\n",
       "\t<tr><td>diag_c(diamonds_m)  </td><td>60597               </td></tr>\n",
       "\t<tr><td>diag_c(diamonds_m)  </td><td>43853               </td></tr>\n",
       "\t<tr><td>diag_v_c(diamonds_m)</td><td>45333               </td></tr>\n",
       "\t<tr><td>diag_m_c(diamonds_m)</td><td>52154               </td></tr>\n",
       "\t<tr><td>diag_v_c(diamonds_m)</td><td>55743               </td></tr>\n",
       "\t<tr><td>diag_m_c(diamonds_m)</td><td>52527               </td></tr>\n",
       "\t<tr><td>diag_m_c(diamonds_m)</td><td>50822               </td></tr>\n",
       "\t<tr><td>diag_c(diamonds_m)  </td><td>44836               </td></tr>\n",
       "\t<tr><td>diag_v_c(diamonds_m)</td><td>43968               </td></tr>\n",
       "\t<tr><td>diag_v_c(diamonds_m)</td><td>42947               </td></tr>\n",
       "\t<tr><td>diag_c(diamonds_m)  </td><td>43147               </td></tr>\n",
       "\t<tr><td>diag_v_c(diamonds_m)</td><td>43251               </td></tr>\n",
       "\t<tr><td>diag_m_c(diamonds_m)</td><td>50714               </td></tr>\n",
       "\t<tr><td>diag_v_c(diamonds_m)</td><td>44426               </td></tr>\n",
       "\t<tr><td>diag_v_c(diamonds_m)</td><td>43126               </td></tr>\n",
       "\t<tr><td>diag_v_c(diamonds_m)</td><td>43211               </td></tr>\n",
       "\t<tr><td>diag_c(diamonds_m)  </td><td>43286               </td></tr>\n",
       "\t<tr><td>diag_v_c(diamonds_m)</td><td>61578               </td></tr>\n",
       "\t<tr><td>diag_v_c(diamonds_m)</td><td>45400               </td></tr>\n",
       "\t<tr><td>diag_c(diamonds_m)  </td><td>44501               </td></tr>\n",
       "\t<tr><td>diag_v_c(diamonds_m)</td><td>43494               </td></tr>\n",
       "\t<tr><td>diag_c(diamonds_m)  </td><td>44310               </td></tr>\n",
       "\t<tr><td>diag_m_c(diamonds_m)</td><td>52647               </td></tr>\n",
       "\t<tr><td>diag_c(diamonds_m)  </td><td>44729               </td></tr>\n",
       "\t<tr><td>diag_v_c(diamonds_m)</td><td>44058               </td></tr>\n",
       "\t<tr><td>diag_m_c(diamonds_m)</td><td>50284               </td></tr>\n",
       "\t<tr><td>diag_m_c(diamonds_m)</td><td>50055               </td></tr>\n",
       "</tbody>\n",
       "</table>\n"
      ],
      "text/latex": [
       "\\begin{tabular}{r|ll}\n",
       " expr & time\\\\\n",
       "\\hline\n",
       "\t diag\\_c(diamonds\\_m)   & 129187                  \\\\\n",
       "\t diag\\_c(diamonds\\_m)   &  95945                  \\\\\n",
       "\t diag\\_v\\_c(diamonds\\_m) &  57645                    \\\\\n",
       "\t diag\\_c(diamonds\\_m)   &  47388                  \\\\\n",
       "\t diag\\_m\\_c(diamonds\\_m) &  69547                    \\\\\n",
       "\t diag\\_v\\_c(diamonds\\_m) &  46685                    \\\\\n",
       "\t diag\\_v\\_c(diamonds\\_m) &  44284                    \\\\\n",
       "\t diag\\_m\\_c(diamonds\\_m) &  70314                    \\\\\n",
       "\t diag\\_v\\_c(diamonds\\_m) &  48425                    \\\\\n",
       "\t diag\\_v\\_c(diamonds\\_m) &  44685                    \\\\\n",
       "\t diag\\_v\\_c(diamonds\\_m) &  45003                    \\\\\n",
       "\t diag\\_c(diamonds\\_m)   &  44579                  \\\\\n",
       "\t diag\\_c(diamonds\\_m)   &  43169                  \\\\\n",
       "\t diag\\_v\\_c(diamonds\\_m) &  44340                    \\\\\n",
       "\t diag\\_m\\_c(diamonds\\_m) &  51774                    \\\\\n",
       "\t diag\\_v\\_c(diamonds\\_m) &  44378                    \\\\\n",
       "\t diag\\_m\\_c(diamonds\\_m) &  51626                    \\\\\n",
       "\t diag\\_v\\_c(diamonds\\_m) &  45956                    \\\\\n",
       "\t diag\\_c(diamonds\\_m)   &  44676                  \\\\\n",
       "\t diag\\_m\\_c(diamonds\\_m) &  69688                    \\\\\n",
       "\t diag\\_v\\_c(diamonds\\_m) &  48621                    \\\\\n",
       "\t diag\\_v\\_c(diamonds\\_m) &  45090                    \\\\\n",
       "\t diag\\_m\\_c(diamonds\\_m) &  51953                    \\\\\n",
       "\t diag\\_c(diamonds\\_m)   &  46223                  \\\\\n",
       "\t diag\\_c(diamonds\\_m)   &  44214                  \\\\\n",
       "\t diag\\_c(diamonds\\_m)   &  45839                  \\\\\n",
       "\t diag\\_m\\_c(diamonds\\_m) &  53385                    \\\\\n",
       "\t diag\\_m\\_c(diamonds\\_m) &  52159                    \\\\\n",
       "\t diag\\_m\\_c(diamonds\\_m) &  50527                    \\\\\n",
       "\t diag\\_m\\_c(diamonds\\_m) &  52203                    \\\\\n",
       "\t ⋮ & ⋮\\\\\n",
       "\t diag\\_v\\_c(diamonds\\_m) & 43657                     \\\\\n",
       "\t diag\\_c(diamonds\\_m)   & 43251                   \\\\\n",
       "\t diag\\_v\\_c(diamonds\\_m) & 61840                     \\\\\n",
       "\t diag\\_c(diamonds\\_m)   & 60597                   \\\\\n",
       "\t diag\\_c(diamonds\\_m)   & 43853                   \\\\\n",
       "\t diag\\_v\\_c(diamonds\\_m) & 45333                     \\\\\n",
       "\t diag\\_m\\_c(diamonds\\_m) & 52154                     \\\\\n",
       "\t diag\\_v\\_c(diamonds\\_m) & 55743                     \\\\\n",
       "\t diag\\_m\\_c(diamonds\\_m) & 52527                     \\\\\n",
       "\t diag\\_m\\_c(diamonds\\_m) & 50822                     \\\\\n",
       "\t diag\\_c(diamonds\\_m)   & 44836                   \\\\\n",
       "\t diag\\_v\\_c(diamonds\\_m) & 43968                     \\\\\n",
       "\t diag\\_v\\_c(diamonds\\_m) & 42947                     \\\\\n",
       "\t diag\\_c(diamonds\\_m)   & 43147                   \\\\\n",
       "\t diag\\_v\\_c(diamonds\\_m) & 43251                     \\\\\n",
       "\t diag\\_m\\_c(diamonds\\_m) & 50714                     \\\\\n",
       "\t diag\\_v\\_c(diamonds\\_m) & 44426                     \\\\\n",
       "\t diag\\_v\\_c(diamonds\\_m) & 43126                     \\\\\n",
       "\t diag\\_v\\_c(diamonds\\_m) & 43211                     \\\\\n",
       "\t diag\\_c(diamonds\\_m)   & 43286                   \\\\\n",
       "\t diag\\_v\\_c(diamonds\\_m) & 61578                     \\\\\n",
       "\t diag\\_v\\_c(diamonds\\_m) & 45400                     \\\\\n",
       "\t diag\\_c(diamonds\\_m)   & 44501                   \\\\\n",
       "\t diag\\_v\\_c(diamonds\\_m) & 43494                     \\\\\n",
       "\t diag\\_c(diamonds\\_m)   & 44310                   \\\\\n",
       "\t diag\\_m\\_c(diamonds\\_m) & 52647                     \\\\\n",
       "\t diag\\_c(diamonds\\_m)   & 44729                   \\\\\n",
       "\t diag\\_v\\_c(diamonds\\_m) & 44058                     \\\\\n",
       "\t diag\\_m\\_c(diamonds\\_m) & 50284                     \\\\\n",
       "\t diag\\_m\\_c(diamonds\\_m) & 50055                     \\\\\n",
       "\\end{tabular}\n"
      ],
      "text/markdown": [
       "\n",
       "expr | time | \n",
       "|---|---|---|---|---|---|---|---|---|---|---|---|---|---|---|---|---|---|---|---|---|---|---|---|---|---|---|---|---|---|---|---|---|---|---|---|---|---|---|---|---|---|---|---|---|---|---|---|---|---|---|---|---|---|---|---|---|---|---|---|---|\n",
       "| diag_c(diamonds_m)   | 129187               | \n",
       "| diag_c(diamonds_m)   |  95945               | \n",
       "| diag_v_c(diamonds_m) |  57645               | \n",
       "| diag_c(diamonds_m)   |  47388               | \n",
       "| diag_m_c(diamonds_m) |  69547               | \n",
       "| diag_v_c(diamonds_m) |  46685               | \n",
       "| diag_v_c(diamonds_m) |  44284               | \n",
       "| diag_m_c(diamonds_m) |  70314               | \n",
       "| diag_v_c(diamonds_m) |  48425               | \n",
       "| diag_v_c(diamonds_m) |  44685               | \n",
       "| diag_v_c(diamonds_m) |  45003               | \n",
       "| diag_c(diamonds_m)   |  44579               | \n",
       "| diag_c(diamonds_m)   |  43169               | \n",
       "| diag_v_c(diamonds_m) |  44340               | \n",
       "| diag_m_c(diamonds_m) |  51774               | \n",
       "| diag_v_c(diamonds_m) |  44378               | \n",
       "| diag_m_c(diamonds_m) |  51626               | \n",
       "| diag_v_c(diamonds_m) |  45956               | \n",
       "| diag_c(diamonds_m)   |  44676               | \n",
       "| diag_m_c(diamonds_m) |  69688               | \n",
       "| diag_v_c(diamonds_m) |  48621               | \n",
       "| diag_v_c(diamonds_m) |  45090               | \n",
       "| diag_m_c(diamonds_m) |  51953               | \n",
       "| diag_c(diamonds_m)   |  46223               | \n",
       "| diag_c(diamonds_m)   |  44214               | \n",
       "| diag_c(diamonds_m)   |  45839               | \n",
       "| diag_m_c(diamonds_m) |  53385               | \n",
       "| diag_m_c(diamonds_m) |  52159               | \n",
       "| diag_m_c(diamonds_m) |  50527               | \n",
       "| diag_m_c(diamonds_m) |  52203               | \n",
       "| ⋮ | ⋮ | \n",
       "| diag_v_c(diamonds_m) | 43657                | \n",
       "| diag_c(diamonds_m)   | 43251                | \n",
       "| diag_v_c(diamonds_m) | 61840                | \n",
       "| diag_c(diamonds_m)   | 60597                | \n",
       "| diag_c(diamonds_m)   | 43853                | \n",
       "| diag_v_c(diamonds_m) | 45333                | \n",
       "| diag_m_c(diamonds_m) | 52154                | \n",
       "| diag_v_c(diamonds_m) | 55743                | \n",
       "| diag_m_c(diamonds_m) | 52527                | \n",
       "| diag_m_c(diamonds_m) | 50822                | \n",
       "| diag_c(diamonds_m)   | 44836                | \n",
       "| diag_v_c(diamonds_m) | 43968                | \n",
       "| diag_v_c(diamonds_m) | 42947                | \n",
       "| diag_c(diamonds_m)   | 43147                | \n",
       "| diag_v_c(diamonds_m) | 43251                | \n",
       "| diag_m_c(diamonds_m) | 50714                | \n",
       "| diag_v_c(diamonds_m) | 44426                | \n",
       "| diag_v_c(diamonds_m) | 43126                | \n",
       "| diag_v_c(diamonds_m) | 43211                | \n",
       "| diag_c(diamonds_m)   | 43286                | \n",
       "| diag_v_c(diamonds_m) | 61578                | \n",
       "| diag_v_c(diamonds_m) | 45400                | \n",
       "| diag_c(diamonds_m)   | 44501                | \n",
       "| diag_v_c(diamonds_m) | 43494                | \n",
       "| diag_c(diamonds_m)   | 44310                | \n",
       "| diag_m_c(diamonds_m) | 52647                | \n",
       "| diag_c(diamonds_m)   | 44729                | \n",
       "| diag_v_c(diamonds_m) | 44058                | \n",
       "| diag_m_c(diamonds_m) | 50284                | \n",
       "| diag_m_c(diamonds_m) | 50055                | \n",
       "\n",
       "\n"
      ],
      "text/plain": [
       "    expr                 time  \n",
       "1   diag_c(diamonds_m)   129187\n",
       "2   diag_c(diamonds_m)    95945\n",
       "3   diag_v_c(diamonds_m)  57645\n",
       "4   diag_c(diamonds_m)    47388\n",
       "5   diag_m_c(diamonds_m)  69547\n",
       "6   diag_v_c(diamonds_m)  46685\n",
       "7   diag_v_c(diamonds_m)  44284\n",
       "8   diag_m_c(diamonds_m)  70314\n",
       "9   diag_v_c(diamonds_m)  48425\n",
       "10  diag_v_c(diamonds_m)  44685\n",
       "11  diag_v_c(diamonds_m)  45003\n",
       "12  diag_c(diamonds_m)    44579\n",
       "13  diag_c(diamonds_m)    43169\n",
       "14  diag_v_c(diamonds_m)  44340\n",
       "15  diag_m_c(diamonds_m)  51774\n",
       "16  diag_v_c(diamonds_m)  44378\n",
       "17  diag_m_c(diamonds_m)  51626\n",
       "18  diag_v_c(diamonds_m)  45956\n",
       "19  diag_c(diamonds_m)    44676\n",
       "20  diag_m_c(diamonds_m)  69688\n",
       "21  diag_v_c(diamonds_m)  48621\n",
       "22  diag_v_c(diamonds_m)  45090\n",
       "23  diag_m_c(diamonds_m)  51953\n",
       "24  diag_c(diamonds_m)    46223\n",
       "25  diag_c(diamonds_m)    44214\n",
       "26  diag_c(diamonds_m)    45839\n",
       "27  diag_m_c(diamonds_m)  53385\n",
       "28  diag_m_c(diamonds_m)  52159\n",
       "29  diag_m_c(diamonds_m)  50527\n",
       "30  diag_m_c(diamonds_m)  52203\n",
       "⋮   ⋮                    ⋮     \n",
       "271 diag_v_c(diamonds_m) 43657 \n",
       "272 diag_c(diamonds_m)   43251 \n",
       "273 diag_v_c(diamonds_m) 61840 \n",
       "274 diag_c(diamonds_m)   60597 \n",
       "275 diag_c(diamonds_m)   43853 \n",
       "276 diag_v_c(diamonds_m) 45333 \n",
       "277 diag_m_c(diamonds_m) 52154 \n",
       "278 diag_v_c(diamonds_m) 55743 \n",
       "279 diag_m_c(diamonds_m) 52527 \n",
       "280 diag_m_c(diamonds_m) 50822 \n",
       "281 diag_c(diamonds_m)   44836 \n",
       "282 diag_v_c(diamonds_m) 43968 \n",
       "283 diag_v_c(diamonds_m) 42947 \n",
       "284 diag_c(diamonds_m)   43147 \n",
       "285 diag_v_c(diamonds_m) 43251 \n",
       "286 diag_m_c(diamonds_m) 50714 \n",
       "287 diag_v_c(diamonds_m) 44426 \n",
       "288 diag_v_c(diamonds_m) 43126 \n",
       "289 diag_v_c(diamonds_m) 43211 \n",
       "290 diag_c(diamonds_m)   43286 \n",
       "291 diag_v_c(diamonds_m) 61578 \n",
       "292 diag_v_c(diamonds_m) 45400 \n",
       "293 diag_c(diamonds_m)   44501 \n",
       "294 diag_v_c(diamonds_m) 43494 \n",
       "295 diag_c(diamonds_m)   44310 \n",
       "296 diag_m_c(diamonds_m) 52647 \n",
       "297 diag_c(diamonds_m)   44729 \n",
       "298 diag_v_c(diamonds_m) 44058 \n",
       "299 diag_m_c(diamonds_m) 50284 \n",
       "300 diag_m_c(diamonds_m) 50055 "
      ]
     },
     "metadata": {},
     "output_type": "display_data"
    }
   ],
   "source": [
    "diag_c <- compiler::cmpfun(diag)\n",
    "diag_v_c <- compiler::cmpfun(diag_v)\n",
    "diag_m_c <- compiler::cmpfun(diag_m)\n",
    "\n",
    "# Realizamos una comparacion de velocidad\n",
    "microbenchmark::microbenchmark(\n",
    "  diag_c(diamonds_m),\n",
    "  diag_v_c(diamonds_m),\n",
    "  diag_m_c(diamonds_m)\n",
    ")"
   ]
  },
  {
   "cell_type": "markdown",
   "metadata": {
    "deletable": true,
    "editable": true
   },
   "source": [
    "Podemos ver que nuestra versión `diag_m ()` es sólo un poco más lenta que la versión original. Sin embargo, el código fuente de la versión para una matriz podría ser un poco más fácil de leer. \n",
    "\n",
    "Esta es una versión lenta usando la idea de `upper.tri()` y realizar subconjuntos con un vector lógico."
   ]
  },
  {
   "cell_type": "code",
   "execution_count": 45,
   "metadata": {
    "collapsed": true,
    "deletable": true,
    "editable": true
   },
   "outputs": [],
   "source": [
    "diag_lv <- function (x = 1) {\n",
    "  if (is.matrix(x)) {\n",
    "    if ((m <- min(dim(x))) == 0L) \n",
    "      return(vector(typeof(x), 0L))\n",
    "    y <- x[row(x) == col(x)]\n",
    "    nms <- dimnames(x)\n",
    "    if (is.list(nms) && !any(sapply(nms, is.null)) && identical((nm <- nms[[1L]][seq_len(m)]), \n",
    "                                                            nms[[2L]][seq_len(m)])) \n",
    "      names(y) <- nm\n",
    "    return(y)\n",
    "  }\n",
    "  }"
   ]
  },
  {
   "cell_type": "markdown",
   "metadata": {
    "deletable": true,
    "editable": true
   },
   "source": [
    "Respuesta: Una posible solución, es combinar `[` con la función `sample()`."
   ]
  },
  {
   "cell_type": "code",
   "execution_count": 46,
   "metadata": {
    "collapsed": false,
    "deletable": true,
    "editable": true
   },
   "outputs": [
    {
     "data": {
      "text/html": [
       "<table>\n",
       "<thead><tr><th></th><th scope=col>X1</th><th scope=col>X2</th><th scope=col>X3</th><th scope=col>X4</th><th scope=col>X5</th></tr></thead>\n",
       "<tbody>\n",
       "\t<tr><th scope=row>2</th><td> 2</td><td>12</td><td>22</td><td>32</td><td>42</td></tr>\n",
       "\t<tr><th scope=row>7</th><td> 7</td><td>17</td><td>27</td><td>37</td><td>47</td></tr>\n",
       "\t<tr><th scope=row>8</th><td> 8</td><td>18</td><td>28</td><td>38</td><td>48</td></tr>\n",
       "\t<tr><th scope=row>5</th><td> 5</td><td>15</td><td>25</td><td>35</td><td>45</td></tr>\n",
       "\t<tr><th scope=row>4</th><td> 4</td><td>14</td><td>24</td><td>34</td><td>44</td></tr>\n",
       "\t<tr><th scope=row>6</th><td> 6</td><td>16</td><td>26</td><td>36</td><td>46</td></tr>\n",
       "\t<tr><th scope=row>1</th><td> 1</td><td>11</td><td>21</td><td>31</td><td>41</td></tr>\n",
       "\t<tr><th scope=row>10</th><td>10</td><td>20</td><td>30</td><td>40</td><td>50</td></tr>\n",
       "\t<tr><th scope=row>3</th><td> 3</td><td>13</td><td>23</td><td>33</td><td>43</td></tr>\n",
       "\t<tr><th scope=row>9</th><td> 9</td><td>19</td><td>29</td><td>39</td><td>49</td></tr>\n",
       "</tbody>\n",
       "</table>\n"
      ],
      "text/latex": [
       "\\begin{tabular}{r|lllll}\n",
       "  & X1 & X2 & X3 & X4 & X5\\\\\n",
       "\\hline\n",
       "\t2 &  2 & 12 & 22 & 32 & 42\\\\\n",
       "\t7 &  7 & 17 & 27 & 37 & 47\\\\\n",
       "\t8 &  8 & 18 & 28 & 38 & 48\\\\\n",
       "\t5 &  5 & 15 & 25 & 35 & 45\\\\\n",
       "\t4 &  4 & 14 & 24 & 34 & 44\\\\\n",
       "\t6 &  6 & 16 & 26 & 36 & 46\\\\\n",
       "\t1 &  1 & 11 & 21 & 31 & 41\\\\\n",
       "\t10 & 10 & 20 & 30 & 40 & 50\\\\\n",
       "\t3 &  3 & 13 & 23 & 33 & 43\\\\\n",
       "\t9 &  9 & 19 & 29 & 39 & 49\\\\\n",
       "\\end{tabular}\n"
      ],
      "text/markdown": [
       "\n",
       "| <!--/--> | X1 | X2 | X3 | X4 | X5 | \n",
       "|---|---|---|---|---|---|---|---|---|---|\n",
       "| 2 |  2 | 12 | 22 | 32 | 42 | \n",
       "| 7 |  7 | 17 | 27 | 37 | 47 | \n",
       "| 8 |  8 | 18 | 28 | 38 | 48 | \n",
       "| 5 |  5 | 15 | 25 | 35 | 45 | \n",
       "| 4 |  4 | 14 | 24 | 34 | 44 | \n",
       "| 6 |  6 | 16 | 26 | 36 | 46 | \n",
       "| 1 |  1 | 11 | 21 | 31 | 41 | \n",
       "| 10 | 10 | 20 | 30 | 40 | 50 | \n",
       "| 3 |  3 | 13 | 23 | 33 | 43 | \n",
       "| 9 |  9 | 19 | 29 | 39 | 49 | \n",
       "\n",
       "\n"
      ],
      "text/plain": [
       "   X1 X2 X3 X4 X5\n",
       "2   2 12 22 32 42\n",
       "7   7 17 27 37 47\n",
       "8   8 18 28 38 48\n",
       "5   5 15 25 35 45\n",
       "4   4 14 24 34 44\n",
       "6   6 16 26 36 46\n",
       "1   1 11 21 31 41\n",
       "10 10 20 30 40 50\n",
       "3   3 13 23 33 43\n",
       "9   9 19 29 39 49"
      ]
     },
     "metadata": {},
     "output_type": "display_data"
    }
   ],
   "source": [
    "df <- data.frame(matrix(1:50,nrow=10))\n",
    "\n",
    "#Mezclamos las filas\n",
    "df[sample(nrow(df)),]"
   ]
  },
  {
   "cell_type": "code",
   "execution_count": 47,
   "metadata": {
    "collapsed": false,
    "deletable": true,
    "editable": true
   },
   "outputs": [
    {
     "data": {
      "text/html": [
       "<table>\n",
       "<thead><tr><th></th><th scope=col>X4</th><th scope=col>X1</th><th scope=col>X3</th><th scope=col>X5</th><th scope=col>X2</th></tr></thead>\n",
       "<tbody>\n",
       "\t<tr><th scope=row>7</th><td>37</td><td> 7</td><td>27</td><td>47</td><td>17</td></tr>\n",
       "\t<tr><th scope=row>8</th><td>38</td><td> 8</td><td>28</td><td>48</td><td>18</td></tr>\n",
       "\t<tr><th scope=row>6</th><td>36</td><td> 6</td><td>26</td><td>46</td><td>16</td></tr>\n",
       "\t<tr><th scope=row>10</th><td>40</td><td>10</td><td>30</td><td>50</td><td>20</td></tr>\n",
       "\t<tr><th scope=row>4</th><td>34</td><td> 4</td><td>24</td><td>44</td><td>14</td></tr>\n",
       "\t<tr><th scope=row>5</th><td>35</td><td> 5</td><td>25</td><td>45</td><td>15</td></tr>\n",
       "\t<tr><th scope=row>1</th><td>31</td><td> 1</td><td>21</td><td>41</td><td>11</td></tr>\n",
       "\t<tr><th scope=row>3</th><td>33</td><td> 3</td><td>23</td><td>43</td><td>13</td></tr>\n",
       "\t<tr><th scope=row>9</th><td>39</td><td> 9</td><td>29</td><td>49</td><td>19</td></tr>\n",
       "\t<tr><th scope=row>2</th><td>32</td><td> 2</td><td>22</td><td>42</td><td>12</td></tr>\n",
       "</tbody>\n",
       "</table>\n"
      ],
      "text/latex": [
       "\\begin{tabular}{r|lllll}\n",
       "  & X4 & X1 & X3 & X5 & X2\\\\\n",
       "\\hline\n",
       "\t7 & 37 &  7 & 27 & 47 & 17\\\\\n",
       "\t8 & 38 &  8 & 28 & 48 & 18\\\\\n",
       "\t6 & 36 &  6 & 26 & 46 & 16\\\\\n",
       "\t10 & 40 & 10 & 30 & 50 & 20\\\\\n",
       "\t4 & 34 &  4 & 24 & 44 & 14\\\\\n",
       "\t5 & 35 &  5 & 25 & 45 & 15\\\\\n",
       "\t1 & 31 &  1 & 21 & 41 & 11\\\\\n",
       "\t3 & 33 &  3 & 23 & 43 & 13\\\\\n",
       "\t9 & 39 &  9 & 29 & 49 & 19\\\\\n",
       "\t2 & 32 &  2 & 22 & 42 & 12\\\\\n",
       "\\end{tabular}\n"
      ],
      "text/markdown": [
       "\n",
       "| <!--/--> | X4 | X1 | X3 | X5 | X2 | \n",
       "|---|---|---|---|---|---|---|---|---|---|\n",
       "| 7 | 37 |  7 | 27 | 47 | 17 | \n",
       "| 8 | 38 |  8 | 28 | 48 | 18 | \n",
       "| 6 | 36 |  6 | 26 | 46 | 16 | \n",
       "| 10 | 40 | 10 | 30 | 50 | 20 | \n",
       "| 4 | 34 |  4 | 24 | 44 | 14 | \n",
       "| 5 | 35 |  5 | 25 | 45 | 15 | \n",
       "| 1 | 31 |  1 | 21 | 41 | 11 | \n",
       "| 3 | 33 |  3 | 23 | 43 | 13 | \n",
       "| 9 | 39 |  9 | 29 | 49 | 19 | \n",
       "| 2 | 32 |  2 | 22 | 42 | 12 | \n",
       "\n",
       "\n"
      ],
      "text/plain": [
       "   X4 X1 X3 X5 X2\n",
       "7  37  7 27 47 17\n",
       "8  38  8 28 48 18\n",
       "6  36  6 26 46 16\n",
       "10 40 10 30 50 20\n",
       "4  34  4 24 44 14\n",
       "5  35  5 25 45 15\n",
       "1  31  1 21 41 11\n",
       "3  33  3 23 43 13\n",
       "9  39  9 29 49 19\n",
       "2  32  2 22 42 12"
      ]
     },
     "metadata": {},
     "output_type": "display_data"
    }
   ],
   "source": [
    "# Mezclamos las filas y columnas simultaneamente\n",
    "df[sample(nrow(df)),sample(ncol(df))]"
   ]
  },
  {
   "cell_type": "markdown",
   "metadata": {
    "deletable": true,
    "editable": true
   },
   "source": [
    "Respuesta: Hay varias formas,"
   ]
  },
  {
   "cell_type": "code",
   "execution_count": 48,
   "metadata": {
    "collapsed": false,
    "deletable": true,
    "editable": true
   },
   "outputs": [
    {
     "data": {
      "text/html": [
       "<table>\n",
       "<thead><tr><th scope=col>X1</th><th scope=col>X2</th><th scope=col>X3</th><th scope=col>X4</th><th scope=col>X5</th></tr></thead>\n",
       "<tbody>\n",
       "\t<tr><td> 1</td><td>11</td><td>21</td><td>31</td><td>41</td></tr>\n",
       "\t<tr><td> 2</td><td>12</td><td>22</td><td>32</td><td>42</td></tr>\n",
       "\t<tr><td> 3</td><td>13</td><td>23</td><td>33</td><td>43</td></tr>\n",
       "\t<tr><td> 4</td><td>14</td><td>24</td><td>34</td><td>44</td></tr>\n",
       "\t<tr><td> 5</td><td>15</td><td>25</td><td>35</td><td>45</td></tr>\n",
       "\t<tr><td> 6</td><td>16</td><td>26</td><td>36</td><td>46</td></tr>\n",
       "\t<tr><td> 7</td><td>17</td><td>27</td><td>37</td><td>47</td></tr>\n",
       "\t<tr><td> 8</td><td>18</td><td>28</td><td>38</td><td>48</td></tr>\n",
       "\t<tr><td> 9</td><td>19</td><td>29</td><td>39</td><td>49</td></tr>\n",
       "\t<tr><td>10</td><td>20</td><td>30</td><td>40</td><td>50</td></tr>\n",
       "</tbody>\n",
       "</table>\n"
      ],
      "text/latex": [
       "\\begin{tabular}{r|lllll}\n",
       " X1 & X2 & X3 & X4 & X5\\\\\n",
       "\\hline\n",
       "\t  1 & 11 & 21 & 31 & 41\\\\\n",
       "\t  2 & 12 & 22 & 32 & 42\\\\\n",
       "\t  3 & 13 & 23 & 33 & 43\\\\\n",
       "\t  4 & 14 & 24 & 34 & 44\\\\\n",
       "\t  5 & 15 & 25 & 35 & 45\\\\\n",
       "\t  6 & 16 & 26 & 36 & 46\\\\\n",
       "\t  7 & 17 & 27 & 37 & 47\\\\\n",
       "\t  8 & 18 & 28 & 38 & 48\\\\\n",
       "\t  9 & 19 & 29 & 39 & 49\\\\\n",
       "\t 10 & 20 & 30 & 40 & 50\\\\\n",
       "\\end{tabular}\n"
      ],
      "text/markdown": [
       "\n",
       "X1 | X2 | X3 | X4 | X5 | \n",
       "|---|---|---|---|---|---|---|---|---|---|\n",
       "|  1 | 11 | 21 | 31 | 41 | \n",
       "|  2 | 12 | 22 | 32 | 42 | \n",
       "|  3 | 13 | 23 | 33 | 43 | \n",
       "|  4 | 14 | 24 | 34 | 44 | \n",
       "|  5 | 15 | 25 | 35 | 45 | \n",
       "|  6 | 16 | 26 | 36 | 46 | \n",
       "|  7 | 17 | 27 | 37 | 47 | \n",
       "|  8 | 18 | 28 | 38 | 48 | \n",
       "|  9 | 19 | 29 | 39 | 49 | \n",
       "| 10 | 20 | 30 | 40 | 50 | \n",
       "\n",
       "\n"
      ],
      "text/plain": [
       "   X1 X2 X3 X4 X5\n",
       "1   1 11 21 31 41\n",
       "2   2 12 22 32 42\n",
       "3   3 13 23 33 43\n",
       "4   4 14 24 34 44\n",
       "5   5 15 25 35 45\n",
       "6   6 16 26 36 46\n",
       "7   7 17 27 37 47\n",
       "8   8 18 28 38 48\n",
       "9   9 19 29 39 49\n",
       "10 10 20 30 40 50"
      ]
     },
     "metadata": {},
     "output_type": "display_data"
    },
    {
     "data": {
      "text/html": [
       "<table>\n",
       "<thead><tr><th></th><th scope=col>X1</th><th scope=col>X2</th><th scope=col>X3</th><th scope=col>X4</th><th scope=col>X5</th></tr></thead>\n",
       "<tbody>\n",
       "\t<tr><th scope=row>5</th><td> 5</td><td>15</td><td>25</td><td>35</td><td>45</td></tr>\n",
       "\t<tr><th scope=row>7</th><td> 7</td><td>17</td><td>27</td><td>37</td><td>47</td></tr>\n",
       "\t<tr><th scope=row>9</th><td> 9</td><td>19</td><td>29</td><td>39</td><td>49</td></tr>\n",
       "\t<tr><th scope=row>1</th><td> 1</td><td>11</td><td>21</td><td>31</td><td>41</td></tr>\n",
       "\t<tr><th scope=row>10</th><td>10</td><td>20</td><td>30</td><td>40</td><td>50</td></tr>\n",
       "</tbody>\n",
       "</table>\n"
      ],
      "text/latex": [
       "\\begin{tabular}{r|lllll}\n",
       "  & X1 & X2 & X3 & X4 & X5\\\\\n",
       "\\hline\n",
       "\t5 &  5 & 15 & 25 & 35 & 45\\\\\n",
       "\t7 &  7 & 17 & 27 & 37 & 47\\\\\n",
       "\t9 &  9 & 19 & 29 & 39 & 49\\\\\n",
       "\t1 &  1 & 11 & 21 & 31 & 41\\\\\n",
       "\t10 & 10 & 20 & 30 & 40 & 50\\\\\n",
       "\\end{tabular}\n"
      ],
      "text/markdown": [
       "\n",
       "| <!--/--> | X1 | X2 | X3 | X4 | X5 | \n",
       "|---|---|---|---|---|\n",
       "| 5 |  5 | 15 | 25 | 35 | 45 | \n",
       "| 7 |  7 | 17 | 27 | 37 | 47 | \n",
       "| 9 |  9 | 19 | 29 | 39 | 49 | \n",
       "| 1 |  1 | 11 | 21 | 31 | 41 | \n",
       "| 10 | 10 | 20 | 30 | 40 | 50 | \n",
       "\n",
       "\n"
      ],
      "text/plain": [
       "   X1 X2 X3 X4 X5\n",
       "5   5 15 25 35 45\n",
       "7   7 17 27 37 47\n",
       "9   9 19 29 39 49\n",
       "1   1 11 21 31 41\n",
       "10 10 20 30 40 50"
      ]
     },
     "metadata": {},
     "output_type": "display_data"
    },
    {
     "data": {
      "text/html": [
       "<table>\n",
       "<thead><tr><th scope=col>X1</th><th scope=col>X2</th><th scope=col>X3</th><th scope=col>X4</th><th scope=col>X5</th></tr></thead>\n",
       "<tbody>\n",
       "\t<tr><td>1 </td><td>11</td><td>21</td><td>31</td><td>41</td></tr>\n",
       "\t<tr><td>2 </td><td>12</td><td>22</td><td>32</td><td>42</td></tr>\n",
       "\t<tr><td>3 </td><td>13</td><td>23</td><td>33</td><td>43</td></tr>\n",
       "\t<tr><td>4 </td><td>14</td><td>24</td><td>34</td><td>44</td></tr>\n",
       "\t<tr><td>5 </td><td>15</td><td>25</td><td>35</td><td>45</td></tr>\n",
       "\t<tr><td>6 </td><td>16</td><td>26</td><td>36</td><td>46</td></tr>\n",
       "</tbody>\n",
       "</table>\n"
      ],
      "text/latex": [
       "\\begin{tabular}{r|lllll}\n",
       " X1 & X2 & X3 & X4 & X5\\\\\n",
       "\\hline\n",
       "\t 1  & 11 & 21 & 31 & 41\\\\\n",
       "\t 2  & 12 & 22 & 32 & 42\\\\\n",
       "\t 3  & 13 & 23 & 33 & 43\\\\\n",
       "\t 4  & 14 & 24 & 34 & 44\\\\\n",
       "\t 5  & 15 & 25 & 35 & 45\\\\\n",
       "\t 6  & 16 & 26 & 36 & 46\\\\\n",
       "\\end{tabular}\n"
      ],
      "text/markdown": [
       "\n",
       "X1 | X2 | X3 | X4 | X5 | \n",
       "|---|---|---|---|---|---|\n",
       "| 1  | 11 | 21 | 31 | 41 | \n",
       "| 2  | 12 | 22 | 32 | 42 | \n",
       "| 3  | 13 | 23 | 33 | 43 | \n",
       "| 4  | 14 | 24 | 34 | 44 | \n",
       "| 5  | 15 | 25 | 35 | 45 | \n",
       "| 6  | 16 | 26 | 36 | 46 | \n",
       "\n",
       "\n"
      ],
      "text/plain": [
       "  X1 X2 X3 X4 X5\n",
       "1 1  11 21 31 41\n",
       "2 2  12 22 32 42\n",
       "3 3  13 23 33 43\n",
       "4 4  14 24 34 44\n",
       "5 5  15 25 35 45\n",
       "6 6  16 26 36 46"
      ]
     },
     "metadata": {},
     "output_type": "display_data"
    }
   ],
   "source": [
    "df <- data.frame(matrix(1:50,nrow=10))\n",
    "df\n",
    " \n",
    "m = 5\n",
    "\n",
    "# Filas aleatorias\n",
    "seleccion <- sample(nrow(df),m)\n",
    "df[seleccion,]\n",
    "\n",
    "#Muestra contigua\n",
    "primero <- sample(nrow(df)-m,1)\n",
    "ultimo  <- primero+m\n",
    "seleccion <- primero:ultimo\n",
    "df[seleccion,]"
   ]
  },
  {
   "cell_type": "code",
   "execution_count": 49,
   "metadata": {
    "collapsed": false,
    "deletable": true,
    "editable": true
   },
   "outputs": [
    {
     "data": {
      "text/html": [
       "<table>\n",
       "<thead><tr><th></th><th scope=col>Sepal.Length</th><th scope=col>Sepal.Width</th><th scope=col>Petal.Length</th><th scope=col>Petal.Width</th><th scope=col>Species</th></tr></thead>\n",
       "<tbody>\n",
       "\t<tr><th scope=row>103</th><td>7.1       </td><td>3.0       </td><td>5.9       </td><td>2.1       </td><td>virginica </td></tr>\n",
       "\t<tr><th scope=row>51</th><td>7.0       </td><td>3.2       </td><td>4.7       </td><td>1.4       </td><td>versicolor</td></tr>\n",
       "\t<tr><th scope=row>35</th><td>4.9       </td><td>3.1       </td><td>1.5       </td><td>0.2       </td><td>setosa    </td></tr>\n",
       "\t<tr><th scope=row>55</th><td>6.5       </td><td>2.8       </td><td>4.6       </td><td>1.5       </td><td>versicolor</td></tr>\n",
       "\t<tr><th scope=row>33</th><td>5.2       </td><td>4.1       </td><td>1.5       </td><td>0.1       </td><td>setosa    </td></tr>\n",
       "\t<tr><th scope=row>142</th><td>6.9       </td><td>3.1       </td><td>5.1       </td><td>2.3       </td><td>virginica </td></tr>\n",
       "\t<tr><th scope=row>50</th><td>5.0       </td><td>3.3       </td><td>1.4       </td><td>0.2       </td><td>setosa    </td></tr>\n",
       "\t<tr><th scope=row>62</th><td>5.9       </td><td>3.0       </td><td>4.2       </td><td>1.5       </td><td>versicolor</td></tr>\n",
       "\t<tr><th scope=row>110</th><td>7.2       </td><td>3.6       </td><td>6.1       </td><td>2.5       </td><td>virginica </td></tr>\n",
       "\t<tr><th scope=row>18</th><td>5.1       </td><td>3.5       </td><td>1.4       </td><td>0.3       </td><td>setosa    </td></tr>\n",
       "</tbody>\n",
       "</table>\n"
      ],
      "text/latex": [
       "\\begin{tabular}{r|lllll}\n",
       "  & Sepal.Length & Sepal.Width & Petal.Length & Petal.Width & Species\\\\\n",
       "\\hline\n",
       "\t103 & 7.1        & 3.0        & 5.9        & 2.1        & virginica \\\\\n",
       "\t51 & 7.0        & 3.2        & 4.7        & 1.4        & versicolor\\\\\n",
       "\t35 & 4.9        & 3.1        & 1.5        & 0.2        & setosa    \\\\\n",
       "\t55 & 6.5        & 2.8        & 4.6        & 1.5        & versicolor\\\\\n",
       "\t33 & 5.2        & 4.1        & 1.5        & 0.1        & setosa    \\\\\n",
       "\t142 & 6.9        & 3.1        & 5.1        & 2.3        & virginica \\\\\n",
       "\t50 & 5.0        & 3.3        & 1.4        & 0.2        & setosa    \\\\\n",
       "\t62 & 5.9        & 3.0        & 4.2        & 1.5        & versicolor\\\\\n",
       "\t110 & 7.2        & 3.6        & 6.1        & 2.5        & virginica \\\\\n",
       "\t18 & 5.1        & 3.5        & 1.4        & 0.3        & setosa    \\\\\n",
       "\\end{tabular}\n"
      ],
      "text/markdown": [
       "\n",
       "| <!--/--> | Sepal.Length | Sepal.Width | Petal.Length | Petal.Width | Species | \n",
       "|---|---|---|---|---|---|---|---|---|---|\n",
       "| 103 | 7.1        | 3.0        | 5.9        | 2.1        | virginica  | \n",
       "| 51 | 7.0        | 3.2        | 4.7        | 1.4        | versicolor | \n",
       "| 35 | 4.9        | 3.1        | 1.5        | 0.2        | setosa     | \n",
       "| 55 | 6.5        | 2.8        | 4.6        | 1.5        | versicolor | \n",
       "| 33 | 5.2        | 4.1        | 1.5        | 0.1        | setosa     | \n",
       "| 142 | 6.9        | 3.1        | 5.1        | 2.3        | virginica  | \n",
       "| 50 | 5.0        | 3.3        | 1.4        | 0.2        | setosa     | \n",
       "| 62 | 5.9        | 3.0        | 4.2        | 1.5        | versicolor | \n",
       "| 110 | 7.2        | 3.6        | 6.1        | 2.5        | virginica  | \n",
       "| 18 | 5.1        | 3.5        | 1.4        | 0.3        | setosa     | \n",
       "\n",
       "\n"
      ],
      "text/plain": [
       "    Sepal.Length Sepal.Width Petal.Length Petal.Width Species   \n",
       "103 7.1          3.0         5.9          2.1         virginica \n",
       "51  7.0          3.2         4.7          1.4         versicolor\n",
       "35  4.9          3.1         1.5          0.2         setosa    \n",
       "55  6.5          2.8         4.6          1.5         versicolor\n",
       "33  5.2          4.1         1.5          0.1         setosa    \n",
       "142 6.9          3.1         5.1          2.3         virginica \n",
       "50  5.0          3.3         1.4          0.2         setosa    \n",
       "62  5.9          3.0         4.2          1.5         versicolor\n",
       "110 7.2          3.6         6.1          2.5         virginica \n",
       "18  5.1          3.5         1.4          0.3         setosa    "
      ]
     },
     "metadata": {},
     "output_type": "display_data"
    },
    {
     "data": {
      "text/html": [
       "<table>\n",
       "<thead><tr><th></th><th scope=col>Sepal.Length</th><th scope=col>Sepal.Width</th><th scope=col>Petal.Length</th><th scope=col>Petal.Width</th><th scope=col>Species</th></tr></thead>\n",
       "<tbody>\n",
       "\t<tr><th scope=row>65</th><td>5.6       </td><td>2.9       </td><td>3.6       </td><td>1.3       </td><td>versicolor</td></tr>\n",
       "\t<tr><th scope=row>66</th><td>6.7       </td><td>3.1       </td><td>4.4       </td><td>1.4       </td><td>versicolor</td></tr>\n",
       "\t<tr><th scope=row>67</th><td>5.6       </td><td>3.0       </td><td>4.5       </td><td>1.5       </td><td>versicolor</td></tr>\n",
       "\t<tr><th scope=row>68</th><td>5.8       </td><td>2.7       </td><td>4.1       </td><td>1.0       </td><td>versicolor</td></tr>\n",
       "\t<tr><th scope=row>69</th><td>6.2       </td><td>2.2       </td><td>4.5       </td><td>1.5       </td><td>versicolor</td></tr>\n",
       "\t<tr><th scope=row>70</th><td>5.6       </td><td>2.5       </td><td>3.9       </td><td>1.1       </td><td>versicolor</td></tr>\n",
       "\t<tr><th scope=row>71</th><td>5.9       </td><td>3.2       </td><td>4.8       </td><td>1.8       </td><td>versicolor</td></tr>\n",
       "\t<tr><th scope=row>72</th><td>6.1       </td><td>2.8       </td><td>4.0       </td><td>1.3       </td><td>versicolor</td></tr>\n",
       "\t<tr><th scope=row>73</th><td>6.3       </td><td>2.5       </td><td>4.9       </td><td>1.5       </td><td>versicolor</td></tr>\n",
       "\t<tr><th scope=row>74</th><td>6.1       </td><td>2.8       </td><td>4.7       </td><td>1.2       </td><td>versicolor</td></tr>\n",
       "</tbody>\n",
       "</table>\n"
      ],
      "text/latex": [
       "\\begin{tabular}{r|lllll}\n",
       "  & Sepal.Length & Sepal.Width & Petal.Length & Petal.Width & Species\\\\\n",
       "\\hline\n",
       "\t65 & 5.6        & 2.9        & 3.6        & 1.3        & versicolor\\\\\n",
       "\t66 & 6.7        & 3.1        & 4.4        & 1.4        & versicolor\\\\\n",
       "\t67 & 5.6        & 3.0        & 4.5        & 1.5        & versicolor\\\\\n",
       "\t68 & 5.8        & 2.7        & 4.1        & 1.0        & versicolor\\\\\n",
       "\t69 & 6.2        & 2.2        & 4.5        & 1.5        & versicolor\\\\\n",
       "\t70 & 5.6        & 2.5        & 3.9        & 1.1        & versicolor\\\\\n",
       "\t71 & 5.9        & 3.2        & 4.8        & 1.8        & versicolor\\\\\n",
       "\t72 & 6.1        & 2.8        & 4.0        & 1.3        & versicolor\\\\\n",
       "\t73 & 6.3        & 2.5        & 4.9        & 1.5        & versicolor\\\\\n",
       "\t74 & 6.1        & 2.8        & 4.7        & 1.2        & versicolor\\\\\n",
       "\\end{tabular}\n"
      ],
      "text/markdown": [
       "\n",
       "| <!--/--> | Sepal.Length | Sepal.Width | Petal.Length | Petal.Width | Species | \n",
       "|---|---|---|---|---|---|---|---|---|---|\n",
       "| 65 | 5.6        | 2.9        | 3.6        | 1.3        | versicolor | \n",
       "| 66 | 6.7        | 3.1        | 4.4        | 1.4        | versicolor | \n",
       "| 67 | 5.6        | 3.0        | 4.5        | 1.5        | versicolor | \n",
       "| 68 | 5.8        | 2.7        | 4.1        | 1.0        | versicolor | \n",
       "| 69 | 6.2        | 2.2        | 4.5        | 1.5        | versicolor | \n",
       "| 70 | 5.6        | 2.5        | 3.9        | 1.1        | versicolor | \n",
       "| 71 | 5.9        | 3.2        | 4.8        | 1.8        | versicolor | \n",
       "| 72 | 6.1        | 2.8        | 4.0        | 1.3        | versicolor | \n",
       "| 73 | 6.3        | 2.5        | 4.9        | 1.5        | versicolor | \n",
       "| 74 | 6.1        | 2.8        | 4.7        | 1.2        | versicolor | \n",
       "\n",
       "\n"
      ],
      "text/plain": [
       "   Sepal.Length Sepal.Width Petal.Length Petal.Width Species   \n",
       "65 5.6          2.9         3.6          1.3         versicolor\n",
       "66 6.7          3.1         4.4          1.4         versicolor\n",
       "67 5.6          3.0         4.5          1.5         versicolor\n",
       "68 5.8          2.7         4.1          1.0         versicolor\n",
       "69 6.2          2.2         4.5          1.5         versicolor\n",
       "70 5.6          2.5         3.9          1.1         versicolor\n",
       "71 5.9          3.2         4.8          1.8         versicolor\n",
       "72 6.1          2.8         4.0          1.3         versicolor\n",
       "73 6.3          2.5         4.9          1.5         versicolor\n",
       "74 6.1          2.8         4.7          1.2         versicolor"
      ]
     },
     "metadata": {},
     "output_type": "display_data"
    }
   ],
   "source": [
    "# Otro ejemplo\n",
    "\n",
    "m=10\n",
    "iris[sample(nrow(iris), m), , drop = FALSE]\n",
    "\n",
    "primero <- sample(nrow(iris) - m + 1, 1)\n",
    "ultimo <- primero + m - 1\n",
    "iris[primero:ultimo, , drop = FALSE]"
   ]
  },
  {
   "cell_type": "markdown",
   "metadata": {
    "deletable": true,
    "editable": true
   },
   "source": [
    "Respuesta:"
   ]
  },
  {
   "cell_type": "code",
   "execution_count": 50,
   "metadata": {
    "collapsed": false,
    "deletable": true,
    "editable": true
   },
   "outputs": [
    {
     "data": {
      "text/html": [
       "<table>\n",
       "<thead><tr><th scope=col>Petal.Length</th><th scope=col>Petal.Width</th><th scope=col>Sepal.Length</th><th scope=col>Sepal.Width</th><th scope=col>Species</th></tr></thead>\n",
       "<tbody>\n",
       "\t<tr><td>1.4   </td><td>0.2   </td><td>5.1   </td><td>3.5   </td><td>setosa</td></tr>\n",
       "\t<tr><td>1.4   </td><td>0.2   </td><td>4.9   </td><td>3.0   </td><td>setosa</td></tr>\n",
       "\t<tr><td>1.3   </td><td>0.2   </td><td>4.7   </td><td>3.2   </td><td>setosa</td></tr>\n",
       "\t<tr><td>1.5   </td><td>0.2   </td><td>4.6   </td><td>3.1   </td><td>setosa</td></tr>\n",
       "\t<tr><td>1.4   </td><td>0.2   </td><td>5.0   </td><td>3.6   </td><td>setosa</td></tr>\n",
       "\t<tr><td>1.7   </td><td>0.4   </td><td>5.4   </td><td>3.9   </td><td>setosa</td></tr>\n",
       "\t<tr><td>1.4   </td><td>0.3   </td><td>4.6   </td><td>3.4   </td><td>setosa</td></tr>\n",
       "\t<tr><td>1.5   </td><td>0.2   </td><td>5.0   </td><td>3.4   </td><td>setosa</td></tr>\n",
       "\t<tr><td>1.4   </td><td>0.2   </td><td>4.4   </td><td>2.9   </td><td>setosa</td></tr>\n",
       "\t<tr><td>1.5   </td><td>0.1   </td><td>4.9   </td><td>3.1   </td><td>setosa</td></tr>\n",
       "\t<tr><td>1.5   </td><td>0.2   </td><td>5.4   </td><td>3.7   </td><td>setosa</td></tr>\n",
       "\t<tr><td>1.6   </td><td>0.2   </td><td>4.8   </td><td>3.4   </td><td>setosa</td></tr>\n",
       "\t<tr><td>1.4   </td><td>0.1   </td><td>4.8   </td><td>3.0   </td><td>setosa</td></tr>\n",
       "\t<tr><td>1.1   </td><td>0.1   </td><td>4.3   </td><td>3.0   </td><td>setosa</td></tr>\n",
       "\t<tr><td>1.2   </td><td>0.2   </td><td>5.8   </td><td>4.0   </td><td>setosa</td></tr>\n",
       "\t<tr><td>1.5   </td><td>0.4   </td><td>5.7   </td><td>4.4   </td><td>setosa</td></tr>\n",
       "\t<tr><td>1.3   </td><td>0.4   </td><td>5.4   </td><td>3.9   </td><td>setosa</td></tr>\n",
       "\t<tr><td>1.4   </td><td>0.3   </td><td>5.1   </td><td>3.5   </td><td>setosa</td></tr>\n",
       "\t<tr><td>1.7   </td><td>0.3   </td><td>5.7   </td><td>3.8   </td><td>setosa</td></tr>\n",
       "\t<tr><td>1.5   </td><td>0.3   </td><td>5.1   </td><td>3.8   </td><td>setosa</td></tr>\n",
       "\t<tr><td>1.7   </td><td>0.2   </td><td>5.4   </td><td>3.4   </td><td>setosa</td></tr>\n",
       "\t<tr><td>1.5   </td><td>0.4   </td><td>5.1   </td><td>3.7   </td><td>setosa</td></tr>\n",
       "\t<tr><td>1.0   </td><td>0.2   </td><td>4.6   </td><td>3.6   </td><td>setosa</td></tr>\n",
       "\t<tr><td>1.7   </td><td>0.5   </td><td>5.1   </td><td>3.3   </td><td>setosa</td></tr>\n",
       "\t<tr><td>1.9   </td><td>0.2   </td><td>4.8   </td><td>3.4   </td><td>setosa</td></tr>\n",
       "\t<tr><td>1.6   </td><td>0.2   </td><td>5.0   </td><td>3.0   </td><td>setosa</td></tr>\n",
       "\t<tr><td>1.6   </td><td>0.4   </td><td>5.0   </td><td>3.4   </td><td>setosa</td></tr>\n",
       "\t<tr><td>1.5   </td><td>0.2   </td><td>5.2   </td><td>3.5   </td><td>setosa</td></tr>\n",
       "\t<tr><td>1.4   </td><td>0.2   </td><td>5.2   </td><td>3.4   </td><td>setosa</td></tr>\n",
       "\t<tr><td>1.6   </td><td>0.2   </td><td>4.7   </td><td>3.2   </td><td>setosa</td></tr>\n",
       "\t<tr><td>⋮</td><td>⋮</td><td>⋮</td><td>⋮</td><td>⋮</td></tr>\n",
       "\t<tr><td>5.7      </td><td>2.3      </td><td>6.9      </td><td>3.2      </td><td>virginica</td></tr>\n",
       "\t<tr><td>4.9      </td><td>2.0      </td><td>5.6      </td><td>2.8      </td><td>virginica</td></tr>\n",
       "\t<tr><td>6.7      </td><td>2.0      </td><td>7.7      </td><td>2.8      </td><td>virginica</td></tr>\n",
       "\t<tr><td>4.9      </td><td>1.8      </td><td>6.3      </td><td>2.7      </td><td>virginica</td></tr>\n",
       "\t<tr><td>5.7      </td><td>2.1      </td><td>6.7      </td><td>3.3      </td><td>virginica</td></tr>\n",
       "\t<tr><td>6.0      </td><td>1.8      </td><td>7.2      </td><td>3.2      </td><td>virginica</td></tr>\n",
       "\t<tr><td>4.8      </td><td>1.8      </td><td>6.2      </td><td>2.8      </td><td>virginica</td></tr>\n",
       "\t<tr><td>4.9      </td><td>1.8      </td><td>6.1      </td><td>3.0      </td><td>virginica</td></tr>\n",
       "\t<tr><td>5.6      </td><td>2.1      </td><td>6.4      </td><td>2.8      </td><td>virginica</td></tr>\n",
       "\t<tr><td>5.8      </td><td>1.6      </td><td>7.2      </td><td>3.0      </td><td>virginica</td></tr>\n",
       "\t<tr><td>6.1      </td><td>1.9      </td><td>7.4      </td><td>2.8      </td><td>virginica</td></tr>\n",
       "\t<tr><td>6.4      </td><td>2.0      </td><td>7.9      </td><td>3.8      </td><td>virginica</td></tr>\n",
       "\t<tr><td>5.6      </td><td>2.2      </td><td>6.4      </td><td>2.8      </td><td>virginica</td></tr>\n",
       "\t<tr><td>5.1      </td><td>1.5      </td><td>6.3      </td><td>2.8      </td><td>virginica</td></tr>\n",
       "\t<tr><td>5.6      </td><td>1.4      </td><td>6.1      </td><td>2.6      </td><td>virginica</td></tr>\n",
       "\t<tr><td>6.1      </td><td>2.3      </td><td>7.7      </td><td>3.0      </td><td>virginica</td></tr>\n",
       "\t<tr><td>5.6      </td><td>2.4      </td><td>6.3      </td><td>3.4      </td><td>virginica</td></tr>\n",
       "\t<tr><td>5.5      </td><td>1.8      </td><td>6.4      </td><td>3.1      </td><td>virginica</td></tr>\n",
       "\t<tr><td>4.8      </td><td>1.8      </td><td>6.0      </td><td>3.0      </td><td>virginica</td></tr>\n",
       "\t<tr><td>5.4      </td><td>2.1      </td><td>6.9      </td><td>3.1      </td><td>virginica</td></tr>\n",
       "\t<tr><td>5.6      </td><td>2.4      </td><td>6.7      </td><td>3.1      </td><td>virginica</td></tr>\n",
       "\t<tr><td>5.1      </td><td>2.3      </td><td>6.9      </td><td>3.1      </td><td>virginica</td></tr>\n",
       "\t<tr><td>5.1      </td><td>1.9      </td><td>5.8      </td><td>2.7      </td><td>virginica</td></tr>\n",
       "\t<tr><td>5.9      </td><td>2.3      </td><td>6.8      </td><td>3.2      </td><td>virginica</td></tr>\n",
       "\t<tr><td>5.7      </td><td>2.5      </td><td>6.7      </td><td>3.3      </td><td>virginica</td></tr>\n",
       "\t<tr><td>5.2      </td><td>2.3      </td><td>6.7      </td><td>3.0      </td><td>virginica</td></tr>\n",
       "\t<tr><td>5.0      </td><td>1.9      </td><td>6.3      </td><td>2.5      </td><td>virginica</td></tr>\n",
       "\t<tr><td>5.2      </td><td>2.0      </td><td>6.5      </td><td>3.0      </td><td>virginica</td></tr>\n",
       "\t<tr><td>5.4      </td><td>2.3      </td><td>6.2      </td><td>3.4      </td><td>virginica</td></tr>\n",
       "\t<tr><td>5.1      </td><td>1.8      </td><td>5.9      </td><td>3.0      </td><td>virginica</td></tr>\n",
       "</tbody>\n",
       "</table>\n"
      ],
      "text/latex": [
       "\\begin{tabular}{r|lllll}\n",
       " Petal.Length & Petal.Width & Sepal.Length & Sepal.Width & Species\\\\\n",
       "\\hline\n",
       "\t 1.4    & 0.2    & 5.1    & 3.5    & setosa\\\\\n",
       "\t 1.4    & 0.2    & 4.9    & 3.0    & setosa\\\\\n",
       "\t 1.3    & 0.2    & 4.7    & 3.2    & setosa\\\\\n",
       "\t 1.5    & 0.2    & 4.6    & 3.1    & setosa\\\\\n",
       "\t 1.4    & 0.2    & 5.0    & 3.6    & setosa\\\\\n",
       "\t 1.7    & 0.4    & 5.4    & 3.9    & setosa\\\\\n",
       "\t 1.4    & 0.3    & 4.6    & 3.4    & setosa\\\\\n",
       "\t 1.5    & 0.2    & 5.0    & 3.4    & setosa\\\\\n",
       "\t 1.4    & 0.2    & 4.4    & 2.9    & setosa\\\\\n",
       "\t 1.5    & 0.1    & 4.9    & 3.1    & setosa\\\\\n",
       "\t 1.5    & 0.2    & 5.4    & 3.7    & setosa\\\\\n",
       "\t 1.6    & 0.2    & 4.8    & 3.4    & setosa\\\\\n",
       "\t 1.4    & 0.1    & 4.8    & 3.0    & setosa\\\\\n",
       "\t 1.1    & 0.1    & 4.3    & 3.0    & setosa\\\\\n",
       "\t 1.2    & 0.2    & 5.8    & 4.0    & setosa\\\\\n",
       "\t 1.5    & 0.4    & 5.7    & 4.4    & setosa\\\\\n",
       "\t 1.3    & 0.4    & 5.4    & 3.9    & setosa\\\\\n",
       "\t 1.4    & 0.3    & 5.1    & 3.5    & setosa\\\\\n",
       "\t 1.7    & 0.3    & 5.7    & 3.8    & setosa\\\\\n",
       "\t 1.5    & 0.3    & 5.1    & 3.8    & setosa\\\\\n",
       "\t 1.7    & 0.2    & 5.4    & 3.4    & setosa\\\\\n",
       "\t 1.5    & 0.4    & 5.1    & 3.7    & setosa\\\\\n",
       "\t 1.0    & 0.2    & 4.6    & 3.6    & setosa\\\\\n",
       "\t 1.7    & 0.5    & 5.1    & 3.3    & setosa\\\\\n",
       "\t 1.9    & 0.2    & 4.8    & 3.4    & setosa\\\\\n",
       "\t 1.6    & 0.2    & 5.0    & 3.0    & setosa\\\\\n",
       "\t 1.6    & 0.4    & 5.0    & 3.4    & setosa\\\\\n",
       "\t 1.5    & 0.2    & 5.2    & 3.5    & setosa\\\\\n",
       "\t 1.4    & 0.2    & 5.2    & 3.4    & setosa\\\\\n",
       "\t 1.6    & 0.2    & 4.7    & 3.2    & setosa\\\\\n",
       "\t ⋮ & ⋮ & ⋮ & ⋮ & ⋮\\\\\n",
       "\t 5.7       & 2.3       & 6.9       & 3.2       & virginica\\\\\n",
       "\t 4.9       & 2.0       & 5.6       & 2.8       & virginica\\\\\n",
       "\t 6.7       & 2.0       & 7.7       & 2.8       & virginica\\\\\n",
       "\t 4.9       & 1.8       & 6.3       & 2.7       & virginica\\\\\n",
       "\t 5.7       & 2.1       & 6.7       & 3.3       & virginica\\\\\n",
       "\t 6.0       & 1.8       & 7.2       & 3.2       & virginica\\\\\n",
       "\t 4.8       & 1.8       & 6.2       & 2.8       & virginica\\\\\n",
       "\t 4.9       & 1.8       & 6.1       & 3.0       & virginica\\\\\n",
       "\t 5.6       & 2.1       & 6.4       & 2.8       & virginica\\\\\n",
       "\t 5.8       & 1.6       & 7.2       & 3.0       & virginica\\\\\n",
       "\t 6.1       & 1.9       & 7.4       & 2.8       & virginica\\\\\n",
       "\t 6.4       & 2.0       & 7.9       & 3.8       & virginica\\\\\n",
       "\t 5.6       & 2.2       & 6.4       & 2.8       & virginica\\\\\n",
       "\t 5.1       & 1.5       & 6.3       & 2.8       & virginica\\\\\n",
       "\t 5.6       & 1.4       & 6.1       & 2.6       & virginica\\\\\n",
       "\t 6.1       & 2.3       & 7.7       & 3.0       & virginica\\\\\n",
       "\t 5.6       & 2.4       & 6.3       & 3.4       & virginica\\\\\n",
       "\t 5.5       & 1.8       & 6.4       & 3.1       & virginica\\\\\n",
       "\t 4.8       & 1.8       & 6.0       & 3.0       & virginica\\\\\n",
       "\t 5.4       & 2.1       & 6.9       & 3.1       & virginica\\\\\n",
       "\t 5.6       & 2.4       & 6.7       & 3.1       & virginica\\\\\n",
       "\t 5.1       & 2.3       & 6.9       & 3.1       & virginica\\\\\n",
       "\t 5.1       & 1.9       & 5.8       & 2.7       & virginica\\\\\n",
       "\t 5.9       & 2.3       & 6.8       & 3.2       & virginica\\\\\n",
       "\t 5.7       & 2.5       & 6.7       & 3.3       & virginica\\\\\n",
       "\t 5.2       & 2.3       & 6.7       & 3.0       & virginica\\\\\n",
       "\t 5.0       & 1.9       & 6.3       & 2.5       & virginica\\\\\n",
       "\t 5.2       & 2.0       & 6.5       & 3.0       & virginica\\\\\n",
       "\t 5.4       & 2.3       & 6.2       & 3.4       & virginica\\\\\n",
       "\t 5.1       & 1.8       & 5.9       & 3.0       & virginica\\\\\n",
       "\\end{tabular}\n"
      ],
      "text/markdown": [
       "\n",
       "Petal.Length | Petal.Width | Sepal.Length | Sepal.Width | Species | \n",
       "|---|---|---|---|---|---|---|---|---|---|---|---|---|---|---|---|---|---|---|---|---|---|---|---|---|---|---|---|---|---|---|---|---|---|---|---|---|---|---|---|---|---|---|---|---|---|---|---|---|---|---|---|---|---|---|---|---|---|---|---|---|\n",
       "| 1.4    | 0.2    | 5.1    | 3.5    | setosa | \n",
       "| 1.4    | 0.2    | 4.9    | 3.0    | setosa | \n",
       "| 1.3    | 0.2    | 4.7    | 3.2    | setosa | \n",
       "| 1.5    | 0.2    | 4.6    | 3.1    | setosa | \n",
       "| 1.4    | 0.2    | 5.0    | 3.6    | setosa | \n",
       "| 1.7    | 0.4    | 5.4    | 3.9    | setosa | \n",
       "| 1.4    | 0.3    | 4.6    | 3.4    | setosa | \n",
       "| 1.5    | 0.2    | 5.0    | 3.4    | setosa | \n",
       "| 1.4    | 0.2    | 4.4    | 2.9    | setosa | \n",
       "| 1.5    | 0.1    | 4.9    | 3.1    | setosa | \n",
       "| 1.5    | 0.2    | 5.4    | 3.7    | setosa | \n",
       "| 1.6    | 0.2    | 4.8    | 3.4    | setosa | \n",
       "| 1.4    | 0.1    | 4.8    | 3.0    | setosa | \n",
       "| 1.1    | 0.1    | 4.3    | 3.0    | setosa | \n",
       "| 1.2    | 0.2    | 5.8    | 4.0    | setosa | \n",
       "| 1.5    | 0.4    | 5.7    | 4.4    | setosa | \n",
       "| 1.3    | 0.4    | 5.4    | 3.9    | setosa | \n",
       "| 1.4    | 0.3    | 5.1    | 3.5    | setosa | \n",
       "| 1.7    | 0.3    | 5.7    | 3.8    | setosa | \n",
       "| 1.5    | 0.3    | 5.1    | 3.8    | setosa | \n",
       "| 1.7    | 0.2    | 5.4    | 3.4    | setosa | \n",
       "| 1.5    | 0.4    | 5.1    | 3.7    | setosa | \n",
       "| 1.0    | 0.2    | 4.6    | 3.6    | setosa | \n",
       "| 1.7    | 0.5    | 5.1    | 3.3    | setosa | \n",
       "| 1.9    | 0.2    | 4.8    | 3.4    | setosa | \n",
       "| 1.6    | 0.2    | 5.0    | 3.0    | setosa | \n",
       "| 1.6    | 0.4    | 5.0    | 3.4    | setosa | \n",
       "| 1.5    | 0.2    | 5.2    | 3.5    | setosa | \n",
       "| 1.4    | 0.2    | 5.2    | 3.4    | setosa | \n",
       "| 1.6    | 0.2    | 4.7    | 3.2    | setosa | \n",
       "| ⋮ | ⋮ | ⋮ | ⋮ | ⋮ | \n",
       "| 5.7       | 2.3       | 6.9       | 3.2       | virginica | \n",
       "| 4.9       | 2.0       | 5.6       | 2.8       | virginica | \n",
       "| 6.7       | 2.0       | 7.7       | 2.8       | virginica | \n",
       "| 4.9       | 1.8       | 6.3       | 2.7       | virginica | \n",
       "| 5.7       | 2.1       | 6.7       | 3.3       | virginica | \n",
       "| 6.0       | 1.8       | 7.2       | 3.2       | virginica | \n",
       "| 4.8       | 1.8       | 6.2       | 2.8       | virginica | \n",
       "| 4.9       | 1.8       | 6.1       | 3.0       | virginica | \n",
       "| 5.6       | 2.1       | 6.4       | 2.8       | virginica | \n",
       "| 5.8       | 1.6       | 7.2       | 3.0       | virginica | \n",
       "| 6.1       | 1.9       | 7.4       | 2.8       | virginica | \n",
       "| 6.4       | 2.0       | 7.9       | 3.8       | virginica | \n",
       "| 5.6       | 2.2       | 6.4       | 2.8       | virginica | \n",
       "| 5.1       | 1.5       | 6.3       | 2.8       | virginica | \n",
       "| 5.6       | 1.4       | 6.1       | 2.6       | virginica | \n",
       "| 6.1       | 2.3       | 7.7       | 3.0       | virginica | \n",
       "| 5.6       | 2.4       | 6.3       | 3.4       | virginica | \n",
       "| 5.5       | 1.8       | 6.4       | 3.1       | virginica | \n",
       "| 4.8       | 1.8       | 6.0       | 3.0       | virginica | \n",
       "| 5.4       | 2.1       | 6.9       | 3.1       | virginica | \n",
       "| 5.6       | 2.4       | 6.7       | 3.1       | virginica | \n",
       "| 5.1       | 2.3       | 6.9       | 3.1       | virginica | \n",
       "| 5.1       | 1.9       | 5.8       | 2.7       | virginica | \n",
       "| 5.9       | 2.3       | 6.8       | 3.2       | virginica | \n",
       "| 5.7       | 2.5       | 6.7       | 3.3       | virginica | \n",
       "| 5.2       | 2.3       | 6.7       | 3.0       | virginica | \n",
       "| 5.0       | 1.9       | 6.3       | 2.5       | virginica | \n",
       "| 5.2       | 2.0       | 6.5       | 3.0       | virginica | \n",
       "| 5.4       | 2.3       | 6.2       | 3.4       | virginica | \n",
       "| 5.1       | 1.8       | 5.9       | 3.0       | virginica | \n",
       "\n",
       "\n"
      ],
      "text/plain": [
       "    Petal.Length Petal.Width Sepal.Length Sepal.Width Species  \n",
       "1   1.4          0.2         5.1          3.5         setosa   \n",
       "2   1.4          0.2         4.9          3.0         setosa   \n",
       "3   1.3          0.2         4.7          3.2         setosa   \n",
       "4   1.5          0.2         4.6          3.1         setosa   \n",
       "5   1.4          0.2         5.0          3.6         setosa   \n",
       "6   1.7          0.4         5.4          3.9         setosa   \n",
       "7   1.4          0.3         4.6          3.4         setosa   \n",
       "8   1.5          0.2         5.0          3.4         setosa   \n",
       "9   1.4          0.2         4.4          2.9         setosa   \n",
       "10  1.5          0.1         4.9          3.1         setosa   \n",
       "11  1.5          0.2         5.4          3.7         setosa   \n",
       "12  1.6          0.2         4.8          3.4         setosa   \n",
       "13  1.4          0.1         4.8          3.0         setosa   \n",
       "14  1.1          0.1         4.3          3.0         setosa   \n",
       "15  1.2          0.2         5.8          4.0         setosa   \n",
       "16  1.5          0.4         5.7          4.4         setosa   \n",
       "17  1.3          0.4         5.4          3.9         setosa   \n",
       "18  1.4          0.3         5.1          3.5         setosa   \n",
       "19  1.7          0.3         5.7          3.8         setosa   \n",
       "20  1.5          0.3         5.1          3.8         setosa   \n",
       "21  1.7          0.2         5.4          3.4         setosa   \n",
       "22  1.5          0.4         5.1          3.7         setosa   \n",
       "23  1.0          0.2         4.6          3.6         setosa   \n",
       "24  1.7          0.5         5.1          3.3         setosa   \n",
       "25  1.9          0.2         4.8          3.4         setosa   \n",
       "26  1.6          0.2         5.0          3.0         setosa   \n",
       "27  1.6          0.4         5.0          3.4         setosa   \n",
       "28  1.5          0.2         5.2          3.5         setosa   \n",
       "29  1.4          0.2         5.2          3.4         setosa   \n",
       "30  1.6          0.2         4.7          3.2         setosa   \n",
       "⋮   ⋮            ⋮           ⋮            ⋮           ⋮        \n",
       "121 5.7          2.3         6.9          3.2         virginica\n",
       "122 4.9          2.0         5.6          2.8         virginica\n",
       "123 6.7          2.0         7.7          2.8         virginica\n",
       "124 4.9          1.8         6.3          2.7         virginica\n",
       "125 5.7          2.1         6.7          3.3         virginica\n",
       "126 6.0          1.8         7.2          3.2         virginica\n",
       "127 4.8          1.8         6.2          2.8         virginica\n",
       "128 4.9          1.8         6.1          3.0         virginica\n",
       "129 5.6          2.1         6.4          2.8         virginica\n",
       "130 5.8          1.6         7.2          3.0         virginica\n",
       "131 6.1          1.9         7.4          2.8         virginica\n",
       "132 6.4          2.0         7.9          3.8         virginica\n",
       "133 5.6          2.2         6.4          2.8         virginica\n",
       "134 5.1          1.5         6.3          2.8         virginica\n",
       "135 5.6          1.4         6.1          2.6         virginica\n",
       "136 6.1          2.3         7.7          3.0         virginica\n",
       "137 5.6          2.4         6.3          3.4         virginica\n",
       "138 5.5          1.8         6.4          3.1         virginica\n",
       "139 4.8          1.8         6.0          3.0         virginica\n",
       "140 5.4          2.1         6.9          3.1         virginica\n",
       "141 5.6          2.4         6.7          3.1         virginica\n",
       "142 5.1          2.3         6.9          3.1         virginica\n",
       "143 5.1          1.9         5.8          2.7         virginica\n",
       "144 5.9          2.3         6.8          3.2         virginica\n",
       "145 5.7          2.5         6.7          3.3         virginica\n",
       "146 5.2          2.3         6.7          3.0         virginica\n",
       "147 5.0          1.9         6.3          2.5         virginica\n",
       "148 5.2          2.0         6.5          3.0         virginica\n",
       "149 5.4          2.3         6.2          3.4         virginica\n",
       "150 5.1          1.8         5.9          3.0         virginica"
      ]
     },
     "metadata": {},
     "output_type": "display_data"
    }
   ],
   "source": [
    "iris[sort(names(iris))]"
   ]
  },
  {
   "cell_type": "markdown",
   "metadata": {
    "deletable": true,
    "editable": true
   },
   "source": [
    "Respuesta: Hay ciertas diferencias:\n",
    "\n",
    "* Los entornos tienen parientes.\n",
    "* Los elementos de los entornos deben ser nombrados (únicamente)\n",
    "* Los entornos no son ordenados.\n",
    "* Cada uno de los entornos tienen referencia semántica."
   ]
  },
  {
   "cell_type": "code",
   "execution_count": 51,
   "metadata": {
    "collapsed": false,
    "deletable": true,
    "editable": true
   },
   "outputs": [
    {
     "name": "stdout",
     "output_type": "stream",
     "text": [
      "[1] \"R_GlobalEnv\"\n",
      "[1] \"package:microbenchmark\"\n",
      "[1] \"package:dplyr\"\n",
      "[1] \"package:plyr\"\n",
      "[1] \"package:ggplot2\"\n",
      "[1] \"jupyter:irkernel\"\n",
      "[1] \"package:stats\"\n",
      "[1] \"package:graphics\"\n",
      "[1] \"package:grDevices\"\n",
      "[1] \"package:utils\"\n",
      "[1] \"package:datasets\"\n",
      "[1] \"package:methods\"\n",
      "[1] \"Autoloads\"\n",
      "[1] \"base\"\n",
      "[1] \"R_EmptyEnv\"\n"
     ]
    }
   ],
   "source": [
    "# Usamos una función recursiva para verificar los predecesores de\n",
    "# globalenv()\n",
    "\n",
    "predecesores <- function(env = globalenv()){\n",
    "  if (identical(env, emptyenv())) {\n",
    "    print(environmentName(env))} \n",
    "  else {\n",
    "    print(environmentName(env))\n",
    "    predecesores(parent.env(env))\n",
    "  }\n",
    "}\n",
    "\n",
    "predecesores()"
   ]
  },
  {
   "cell_type": "markdown",
   "metadata": {
    "deletable": true,
    "editable": true
   },
   "source": [
    "Implementamos una nueva versión de la función de `search()`,"
   ]
  },
  {
   "cell_type": "code",
   "execution_count": 52,
   "metadata": {
    "collapsed": false,
    "deletable": true,
    "editable": true
   },
   "outputs": [
    {
     "data": {
      "text/html": [
       "<ol class=list-inline>\n",
       "\t<li>'.GlobalEnv'</li>\n",
       "\t<li>'package:microbenchmark'</li>\n",
       "\t<li>'package:dplyr'</li>\n",
       "\t<li>'package:plyr'</li>\n",
       "\t<li>'package:ggplot2'</li>\n",
       "\t<li>'jupyter:irkernel'</li>\n",
       "\t<li>'package:stats'</li>\n",
       "\t<li>'package:graphics'</li>\n",
       "\t<li>'package:grDevices'</li>\n",
       "\t<li>'package:utils'</li>\n",
       "\t<li>'package:datasets'</li>\n",
       "\t<li>'package:methods'</li>\n",
       "\t<li>'Autoloads'</li>\n",
       "\t<li>'package:base'</li>\n",
       "</ol>\n"
      ],
      "text/latex": [
       "\\begin{enumerate*}\n",
       "\\item '.GlobalEnv'\n",
       "\\item 'package:microbenchmark'\n",
       "\\item 'package:dplyr'\n",
       "\\item 'package:plyr'\n",
       "\\item 'package:ggplot2'\n",
       "\\item 'jupyter:irkernel'\n",
       "\\item 'package:stats'\n",
       "\\item 'package:graphics'\n",
       "\\item 'package:grDevices'\n",
       "\\item 'package:utils'\n",
       "\\item 'package:datasets'\n",
       "\\item 'package:methods'\n",
       "\\item 'Autoloads'\n",
       "\\item 'package:base'\n",
       "\\end{enumerate*}\n"
      ],
      "text/markdown": [
       "1. '.GlobalEnv'\n",
       "2. 'package:microbenchmark'\n",
       "3. 'package:dplyr'\n",
       "4. 'package:plyr'\n",
       "5. 'package:ggplot2'\n",
       "6. 'jupyter:irkernel'\n",
       "7. 'package:stats'\n",
       "8. 'package:graphics'\n",
       "9. 'package:grDevices'\n",
       "10. 'package:utils'\n",
       "11. 'package:datasets'\n",
       "12. 'package:methods'\n",
       "13. 'Autoloads'\n",
       "14. 'package:base'\n",
       "\n",
       "\n"
      ],
      "text/plain": [
       " [1] \".GlobalEnv\"             \"package:microbenchmark\" \"package:dplyr\"         \n",
       " [4] \"package:plyr\"           \"package:ggplot2\"        \"jupyter:irkernel\"      \n",
       " [7] \"package:stats\"          \"package:graphics\"       \"package:grDevices\"     \n",
       "[10] \"package:utils\"          \"package:datasets\"       \"package:methods\"       \n",
       "[13] \"Autoloads\"              \"package:base\"          "
      ]
     },
     "metadata": {},
     "output_type": "display_data"
    }
   ],
   "source": [
    "# Otra version de la funcion search()\n",
    "\n",
    "search2 <- function(env = globalenv()){\n",
    "  envs <- character()\n",
    "  while (!identical(env, emptyenv())) {\n",
    "    ename <- environmentName(env)\n",
    "    if (ename == \"base\") ename <- \"package:base\"\n",
    "    if (ename == \"R_GlobalEnv\") ename <- \".GlobalEnv\"\n",
    "    envs <- c(envs, ename)\n",
    "    env <- parent.env(env)\n",
    "    }\n",
    "  return(envs)\n",
    "}\n",
    "\n",
    "search2()"
   ]
  },
  {
   "cell_type": "code",
   "execution_count": 53,
   "metadata": {
    "collapsed": false,
    "deletable": true,
    "editable": true
   },
   "outputs": [
    {
     "data": {
      "text/html": [
       "<ol class=list-inline>\n",
       "\t<li>'.GlobalEnv'</li>\n",
       "\t<li>'package:microbenchmark'</li>\n",
       "\t<li>'package:dplyr'</li>\n",
       "\t<li>'package:plyr'</li>\n",
       "\t<li>'package:ggplot2'</li>\n",
       "\t<li>'jupyter:irkernel'</li>\n",
       "\t<li>'package:stats'</li>\n",
       "\t<li>'package:graphics'</li>\n",
       "\t<li>'package:grDevices'</li>\n",
       "\t<li>'package:utils'</li>\n",
       "\t<li>'package:datasets'</li>\n",
       "\t<li>'package:methods'</li>\n",
       "\t<li>'Autoloads'</li>\n",
       "\t<li>'package:base'</li>\n",
       "</ol>\n"
      ],
      "text/latex": [
       "\\begin{enumerate*}\n",
       "\\item '.GlobalEnv'\n",
       "\\item 'package:microbenchmark'\n",
       "\\item 'package:dplyr'\n",
       "\\item 'package:plyr'\n",
       "\\item 'package:ggplot2'\n",
       "\\item 'jupyter:irkernel'\n",
       "\\item 'package:stats'\n",
       "\\item 'package:graphics'\n",
       "\\item 'package:grDevices'\n",
       "\\item 'package:utils'\n",
       "\\item 'package:datasets'\n",
       "\\item 'package:methods'\n",
       "\\item 'Autoloads'\n",
       "\\item 'package:base'\n",
       "\\end{enumerate*}\n"
      ],
      "text/markdown": [
       "1. '.GlobalEnv'\n",
       "2. 'package:microbenchmark'\n",
       "3. 'package:dplyr'\n",
       "4. 'package:plyr'\n",
       "5. 'package:ggplot2'\n",
       "6. 'jupyter:irkernel'\n",
       "7. 'package:stats'\n",
       "8. 'package:graphics'\n",
       "9. 'package:grDevices'\n",
       "10. 'package:utils'\n",
       "11. 'package:datasets'\n",
       "12. 'package:methods'\n",
       "13. 'Autoloads'\n",
       "14. 'package:base'\n",
       "\n",
       "\n"
      ],
      "text/plain": [
       " [1] \".GlobalEnv\"             \"package:microbenchmark\" \"package:dplyr\"         \n",
       " [4] \"package:plyr\"           \"package:ggplot2\"        \"jupyter:irkernel\"      \n",
       " [7] \"package:stats\"          \"package:graphics\"       \"package:grDevices\"     \n",
       "[10] \"package:utils\"          \"package:datasets\"       \"package:methods\"       \n",
       "[13] \"Autoloads\"              \"package:base\"          "
      ]
     },
     "metadata": {},
     "output_type": "display_data"
    }
   ],
   "source": [
    "search()"
   ]
  },
  {
   "cell_type": "code",
   "execution_count": null,
   "metadata": {
    "collapsed": true,
    "deletable": true,
    "editable": true
   },
   "outputs": [],
   "source": []
  }
 ],
 "metadata": {
  "kernelspec": {
   "display_name": "R",
   "language": "R",
   "name": "ir"
  },
  "language_info": {
   "codemirror_mode": "r",
   "file_extension": ".r",
   "mimetype": "text/x-r-source",
   "name": "R",
   "pygments_lexer": "r",
   "version": "3.3.2"
  }
 },
 "nbformat": 4,
 "nbformat_minor": 1
}
