{
 "cells": [
  {
   "cell_type": "markdown",
   "metadata": {
    "deletable": true,
    "editable": true
   },
   "source": [
    "## Soluciones"
   ]
  },
  {
   "cell_type": "markdown",
   "metadata": {
    "deletable": true,
    "editable": true
   },
   "source": [
    "### Solución 1"
   ]
  },
  {
   "cell_type": "code",
   "execution_count": 1,
   "metadata": {
    "collapsed": true,
    "deletable": true,
    "editable": true
   },
   "outputs": [],
   "source": [
    "# Solucion(a)\n",
    "\n",
    "funA <- function (n)\n",
    "{\n",
    "    suma<- 0\n",
    "    for(r in 1:n)\n",
    "    {\n",
    "        for(s in 1:r)\n",
    "            suma <- suma+s^2/(10+4*r^3)\n",
    "            }\n",
    "        suma\n",
    "}"
   ]
  },
  {
   "cell_type": "code",
   "execution_count": 2,
   "metadata": {
    "collapsed": true,
    "deletable": true,
    "editable": true
   },
   "outputs": [],
   "source": [
    "# Solucion(b)\n",
    "\n",
    "funB <- function (n){\n",
    "    mat <- matrix(0, ncol=n, nrow=n)\n",
    "    sum( (col(mat)^2)/(10+4*row(mat)^3)*(col(mat)<=row(mat)) )\n",
    "}"
   ]
  },
  {
   "cell_type": "code",
   "execution_count": 3,
   "metadata": {
    "collapsed": true,
    "deletable": true,
    "editable": true
   },
   "outputs": [],
   "source": [
    "funC <- function (n)\n",
    "{\n",
    "    sum( outer(1:n,1:n,FUN=function(r,s){ (s<=r)*(s^2)/(10+4*r^3) }) )\n",
    "    }"
   ]
  },
  {
   "cell_type": "markdown",
   "metadata": {
    "deletable": true,
    "editable": true
   },
   "source": [
    "### Solucion 2"
   ]
  },
  {
   "cell_type": "markdown",
   "metadata": {
    "collapsed": false,
    "deletable": true,
    "editable": true
   },
   "source": [
    "Usando un bucle\n",
    "\n",
    "```\n",
    "fila = NA\n",
    "for(i in 1:nrow(X))\n",
    "    if (all(!is.na(X[i,]) & X[i,] > 0)) {\n",
    "        fila = i\n",
    "        break\n",
    "}\n",
    "```"
   ]
  },
  {
   "cell_type": "markdown",
   "metadata": {
    "deletable": true,
    "editable": true
   },
   "source": [
    "Usando `apply`\n",
    "\n",
    "```\n",
    "apply(X, 1, function(x) all(!is.na(x) & x > 0))[1]\n",
    "```"
   ]
  },
  {
   "cell_type": "code",
   "execution_count": 4,
   "metadata": {
    "collapsed": true,
    "deletable": true,
    "editable": true
   },
   "outputs": [],
   "source": [
    "# Solucion(b)"
   ]
  },
  {
   "cell_type": "markdown",
   "metadata": {
    "deletable": true,
    "editable": true
   },
   "source": [
    "* Una función se **vectoriza** si el resultado de aplicar esto  a un vector es idéntico al resultado de aplicar la función a los elementos separados y combinar los valores resultantes en un vector."
   ]
  },
  {
   "cell_type": "markdown",
   "metadata": {
    "deletable": true,
    "editable": true
   },
   "source": [
    "* Una función de varios argumentos obedece a la regla de **reciclaje** si el resultado de aplicar la función a vectores de diferentes longitudes,  se recicla a la longitud del vector más grande  y luego la función se aplica a los elementos correspondientes de los argumentos y finalmente los resultados se juntan en un vector."
   ]
  },
  {
   "cell_type": "markdown",
   "metadata": {
    "deletable": true,
    "editable": true
   },
   "source": [
    "Si consideramos la función matemática definida por:\n",
    "\n",
    "$$h(x,y) = \\sqrt{x^2 + y^2}$$\n",
    "\n",
    "podemos considerar escribir una función llamada `hipot` con argumentos `x` e `y` que implementa una versión vectorizada que obedece la regla de reciclaje."
   ]
  },
  {
   "cell_type": "code",
   "execution_count": 5,
   "metadata": {
    "collapsed": true,
    "deletable": true,
    "editable": true
   },
   "outputs": [],
   "source": [
    "hipot <- function(x, y) sqrt(x^2 + y^2)"
   ]
  },
  {
   "cell_type": "markdown",
   "metadata": {
    "deletable": true,
    "editable": true
   },
   "source": [
    "### Solución 3"
   ]
  },
  {
   "cell_type": "markdown",
   "metadata": {
    "deletable": true,
    "editable": true
   },
   "source": [
    "Diseñamos e implementamos una función R, llamada `cual_indice`, que devuelve los índices de los elementos donde su argumento es `TRUE`."
   ]
  },
  {
   "cell_type": "code",
   "execution_count": 6,
   "metadata": {
    "collapsed": true,
    "deletable": true,
    "editable": true
   },
   "outputs": [],
   "source": [
    "cual_indice <- function(x)\n",
    "    seq(along = x)[!is.na(x) & x]"
   ]
  },
  {
   "cell_type": "code",
   "execution_count": 7,
   "metadata": {
    "collapsed": false,
    "deletable": true,
    "editable": true
   },
   "outputs": [
    {
     "data": {
      "text/html": [
       "<ol class=list-inline>\n",
       "\t<li>6</li>\n",
       "\t<li>7</li>\n",
       "\t<li>8</li>\n",
       "\t<li>9</li>\n",
       "\t<li>10</li>\n",
       "</ol>\n"
      ],
      "text/latex": [
       "\\begin{enumerate*}\n",
       "\\item 6\n",
       "\\item 7\n",
       "\\item 8\n",
       "\\item 9\n",
       "\\item 10\n",
       "\\end{enumerate*}\n"
      ],
      "text/markdown": [
       "1. 6\n",
       "2. 7\n",
       "3. 8\n",
       "4. 9\n",
       "5. 10\n",
       "\n",
       "\n"
      ],
      "text/plain": [
       "[1]  6  7  8  9 10"
      ]
     },
     "metadata": {},
     "output_type": "display_data"
    }
   ],
   "source": [
    "x <- 1:10/10\n",
    "cual_indice(x > .5)"
   ]
  },
  {
   "cell_type": "code",
   "execution_count": 8,
   "metadata": {
    "collapsed": true,
    "deletable": true,
    "editable": true
   },
   "outputs": [],
   "source": [
    "# En el problema\n",
    "\n",
    "nth <- function(x, n)\n",
    "    cual_indice(x)[ifelse(n > 0, n, NA)]"
   ]
  },
  {
   "cell_type": "code",
   "execution_count": 9,
   "metadata": {
    "collapsed": false,
    "deletable": true,
    "editable": true
   },
   "outputs": [
    {
     "data": {
      "text/html": [
       "6"
      ],
      "text/latex": [
       "6"
      ],
      "text/markdown": [
       "6"
      ],
      "text/plain": [
       "[1] 6"
      ]
     },
     "metadata": {},
     "output_type": "display_data"
    }
   ],
   "source": [
    "x <- c(1, 2, 4, 2, 1, 3)\n",
    "nth(x >2, 2)"
   ]
  },
  {
   "cell_type": "code",
   "execution_count": 10,
   "metadata": {
    "collapsed": false,
    "deletable": true,
    "editable": true
   },
   "outputs": [
    {
     "data": {
      "text/plain": [
       "[1] NA"
      ]
     },
     "metadata": {},
     "output_type": "display_data"
    }
   ],
   "source": [
    "nth(x>4, 2)"
   ]
  },
  {
   "cell_type": "markdown",
   "metadata": {
    "deletable": true,
    "editable": true
   },
   "source": [
    "La expresión de subconjunto necesita alguna explicación. Los valores negativos o cero  en `n` no tienen sentido, así que los puse en `NA` usando la expresión `ifelse`. Si `n` es más grande que el número de `TRUE` en `x`, también se devuelve `NA` (esto simplemente sucede cuando se subescribe más allá del extremo superior de una matriz)."
   ]
  },
  {
   "cell_type": "markdown",
   "metadata": {
    "deletable": true,
    "editable": true
   },
   "source": [
    "### Solución 4"
   ]
  },
  {
   "cell_type": "code",
   "execution_count": 11,
   "metadata": {
    "collapsed": true,
    "deletable": true,
    "editable": true
   },
   "outputs": [],
   "source": [
    "# Solucion(a)\n",
    "\n",
    "# Las versiones mas simple de las funciones son\n",
    "\n",
    "primero <- function(x, cantidad =1)\n",
    "    x[1: cantidad]\n",
    "    \n",
    "ultimo <- function(x, cantidad = 1)\n",
    "    x[length(x) + 1 - cantidad:1]"
   ]
  },
  {
   "cell_type": "code",
   "execution_count": 12,
   "metadata": {
    "collapsed": true,
    "deletable": true,
    "editable": true
   },
   "outputs": [],
   "source": [
    "### Solucion(b)\n",
    "\n",
    "# Versiones mas complejas del problema\n",
    "\n",
    "primero <- function(x, cantidad= 1)\n",
    "    x[1:min(length(x), cantidad)]\n",
    "\n",
    "ultimo <- function(x, cantidad = 1)\n",
    "    x[length(x) + 1 - min(length(x), cantidad):1]"
   ]
  },
  {
   "cell_type": "code",
   "execution_count": 13,
   "metadata": {
    "collapsed": true,
    "deletable": true,
    "editable": true
   },
   "outputs": [],
   "source": [
    "### Solucion(c)\n",
    "\n",
    "primero <- function(x, cantidad = 1)\n",
    "    x[1:cantidad]\n",
    "    \n",
    "ultimo <- function(x, cantidad = 1)\n",
    "    c(rep(NA, max(cantidad - length(x), 0)), \n",
    "      x[length(x) + 1 - min(length(x), cantidad): 1])"
   ]
  },
  {
   "cell_type": "markdown",
   "metadata": {
    "deletable": true,
    "editable": true
   },
   "source": [
    "### Solución 5"
   ]
  },
  {
   "cell_type": "code",
   "execution_count": 14,
   "metadata": {
    "collapsed": false,
    "deletable": true,
    "editable": true
   },
   "outputs": [
    {
     "data": {
      "text/html": [
       "<ol class=list-inline>\n",
       "\t<li>4</li>\n",
       "\t<li>7</li>\n",
       "\t<li>6</li>\n",
       "\t<li>2</li>\n",
       "\t<li>6</li>\n",
       "\t<li>7</li>\n",
       "</ol>\n"
      ],
      "text/latex": [
       "\\begin{enumerate*}\n",
       "\\item 4\n",
       "\\item 7\n",
       "\\item 6\n",
       "\\item 2\n",
       "\\item 6\n",
       "\\item 7\n",
       "\\end{enumerate*}\n"
      ],
      "text/markdown": [
       "1. 4\n",
       "2. 7\n",
       "3. 6\n",
       "4. 2\n",
       "5. 6\n",
       "6. 7\n",
       "\n",
       "\n"
      ],
      "text/plain": [
       "[1] 4 7 6 2 6 7"
      ]
     },
     "metadata": {},
     "output_type": "display_data"
    }
   ],
   "source": [
    "set.seed(75)\n",
    "aMat <- matrix( sample(10, size=60, replace=T), nr=6)\n",
    "\n",
    "# Solucion(a)\n",
    "\n",
    "apply(aMat, 1, function(x){sum(x>4)})"
   ]
  },
  {
   "cell_type": "code",
   "execution_count": 15,
   "metadata": {
    "collapsed": false,
    "deletable": true,
    "editable": true
   },
   "outputs": [
    {
     "data": {
      "text/html": [
       "5"
      ],
      "text/latex": [
       "5"
      ],
      "text/markdown": [
       "5"
      ],
      "text/plain": [
       "[1] 5"
      ]
     },
     "metadata": {},
     "output_type": "display_data"
    }
   ],
   "source": [
    "# Solucion(b)\n",
    "\n",
    "which( apply(aMat,1,function(x){sum(x==7)==2}) )"
   ]
  },
  {
   "cell_type": "code",
   "execution_count": 16,
   "metadata": {
    "collapsed": false,
    "deletable": true,
    "editable": true
   },
   "outputs": [
    {
     "data": {
      "text/html": [
       "<table>\n",
       "<tbody>\n",
       "\t<tr><td>2</td><td>2</td></tr>\n",
       "\t<tr><td>2</td><td>6</td></tr>\n",
       "\t<tr><td>2</td><td>8</td></tr>\n",
       "\t<tr><td>6</td><td>2</td></tr>\n",
       "\t<tr><td>6</td><td>8</td></tr>\n",
       "\t<tr><td>8</td><td>2</td></tr>\n",
       "\t<tr><td>8</td><td>6</td></tr>\n",
       "\t<tr><td>8</td><td>8</td></tr>\n",
       "</tbody>\n",
       "</table>\n"
      ],
      "text/latex": [
       "\\begin{tabular}{ll}\n",
       "\t 2 & 2\\\\\n",
       "\t 2 & 6\\\\\n",
       "\t 2 & 8\\\\\n",
       "\t 6 & 2\\\\\n",
       "\t 6 & 8\\\\\n",
       "\t 8 & 2\\\\\n",
       "\t 8 & 6\\\\\n",
       "\t 8 & 8\\\\\n",
       "\\end{tabular}\n"
      ],
      "text/markdown": [
       "\n",
       "| 2 | 2 | \n",
       "| 2 | 6 | \n",
       "| 2 | 8 | \n",
       "| 6 | 2 | \n",
       "| 6 | 8 | \n",
       "| 8 | 2 | \n",
       "| 8 | 6 | \n",
       "| 8 | 8 | \n",
       "\n",
       "\n"
      ],
      "text/plain": [
       "     [,1] [,2]\n",
       "[1,] 2    2   \n",
       "[2,] 2    6   \n",
       "[3,] 2    8   \n",
       "[4,] 6    2   \n",
       "[5,] 6    8   \n",
       "[6,] 8    2   \n",
       "[7,] 8    6   \n",
       "[8,] 8    8   "
      ]
     },
     "metadata": {},
     "output_type": "display_data"
    }
   ],
   "source": [
    "# Solucion(c)\n",
    "\n",
    "aMatColSums <- colSums(aMat)\n",
    "cbind( rep(1:10,rep(10,10)), rep(1:10,10) ) [outer(aMatColSums,aMatColSums,\"+\")>75,]"
   ]
  },
  {
   "cell_type": "code",
   "execution_count": null,
   "metadata": {
    "collapsed": true,
    "deletable": true,
    "editable": true
   },
   "outputs": [],
   "source": []
  }
 ],
 "metadata": {
  "kernelspec": {
   "display_name": "R",
   "language": "R",
   "name": "ir"
  },
  "language_info": {
   "codemirror_mode": "r",
   "file_extension": ".r",
   "mimetype": "text/x-r-source",
   "name": "R",
   "pygments_lexer": "r",
   "version": "3.3.2"
  }
 },
 "nbformat": 4,
 "nbformat_minor": 1
}
